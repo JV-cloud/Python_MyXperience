{
 "cells": [
  {
   "cell_type": "markdown",
   "metadata": {},
   "source": [
    "# Aula 2"
   ]
  },
  {
   "cell_type": "markdown",
   "metadata": {},
   "source": [
    "### Chamando um módulo"
   ]
  },
  {
   "cell_type": "code",
   "execution_count": 4,
   "metadata": {},
   "outputs": [
    {
     "name": "stdout",
     "output_type": "stream",
     "text": [
      "38.5\n"
     ]
    }
   ],
   "source": [
    "import calc\n",
    "l = [23, 54, 31, 77, 12, 34]\n",
    "print (calc.media(l))"
   ]
  },
  {
   "cell_type": "markdown",
   "metadata": {},
   "source": [
    "## Arquivos e I/O"
   ]
  },
  {
   "cell_type": "code",
   "execution_count": 5,
   "metadata": {},
   "outputs": [
    {
     "name": "stdout",
     "output_type": "stream",
     "text": [
      "000\n",
      "001\n",
      "002\n",
      "003\n",
      "004\n",
      "005\n",
      "006\n",
      "007\n",
      "008\n",
      "009\n",
      "010\n",
      "011\n",
      "012\n",
      "013\n",
      "014\n",
      "015\n",
      "016\n",
      "017\n",
      "018\n",
      "019\n",
      "020\n",
      "021\n",
      "022\n",
      "023\n",
      "024\n",
      "025\n",
      "026\n",
      "027\n",
      "028\n",
      "029\n",
      "030\n",
      "031\n",
      "032\n",
      "033\n",
      "034\n",
      "035\n",
      "036\n",
      "037\n",
      "038\n",
      "039\n",
      "040\n",
      "041\n",
      "042\n",
      "043\n",
      "044\n",
      "045\n",
      "046\n",
      "047\n",
      "048\n",
      "049\n",
      "050\n",
      "051\n",
      "052\n",
      "053\n",
      "054\n",
      "055\n",
      "056\n",
      "057\n",
      "058\n",
      "059\n",
      "060\n",
      "061\n",
      "062\n",
      "063\n",
      "064\n",
      "065\n",
      "066\n",
      "067\n",
      "068\n",
      "069\n",
      "070\n",
      "071\n",
      "072\n",
      "073\n",
      "074\n",
      "075\n",
      "076\n",
      "077\n",
      "078\n",
      "079\n",
      "080\n",
      "081\n",
      "082\n",
      "083\n",
      "084\n",
      "085\n",
      "086\n",
      "087\n",
      "088\n",
      "089\n",
      "090\n",
      "091\n",
      "092\n",
      "093\n",
      "094\n",
      "095\n",
      "096\n",
      "097\n",
      "098\n",
      "099\n"
     ]
    }
   ],
   "source": [
    "import sys\n",
    "# Criando um objeto do tipo file\n",
    "temp = open('temp.txt', 'w')\n",
    "# Escrevendo no arquivo\n",
    "for i in range(100):\n",
    "    temp.write('%03d\\n' % i)\n",
    "# Fechando\n",
    "temp.close()\n",
    "temp = open('temp.txt')\n",
    "# Escrevendo no terminal\n",
    "for x in temp:\n",
    "    # Escrever em sys.stdout envia o texto para a saída padrão\n",
    "    sys.stdout.write(x)\n",
    "temp.close()"
   ]
  },
  {
   "cell_type": "code",
   "execution_count": 7,
   "metadata": {},
   "outputs": [
    {
     "name": "stdout",
     "output_type": "stream",
     "text": [
      "Nome do arquivo: temp.txt\n",
      "1 000\n",
      "\n",
      "2 001\n",
      "\n",
      "3 002\n",
      "\n",
      "4 003\n",
      "\n",
      "5 004\n",
      "\n",
      "6 005\n",
      "\n",
      "7 006\n",
      "\n",
      "8 007\n",
      "\n",
      "9 008\n",
      "\n",
      "10 009\n",
      "\n",
      "11 010\n",
      "\n",
      "12 011\n",
      "\n",
      "13 012\n",
      "\n",
      "14 013\n",
      "\n",
      "15 014\n",
      "\n",
      "16 015\n",
      "\n",
      "17 016\n",
      "\n",
      "18 017\n",
      "\n",
      "19 018\n",
      "\n",
      "20 019\n",
      "\n",
      "21 020\n",
      "\n",
      "22 021\n",
      "\n",
      "23 022\n",
      "\n",
      "24 023\n",
      "\n",
      "25 024\n",
      "\n",
      "26 025\n",
      "\n",
      "27 026\n",
      "\n",
      "28 027\n",
      "\n",
      "29 028\n",
      "\n",
      "30 029\n",
      "\n",
      "31 030\n",
      "\n",
      "32 031\n",
      "\n",
      "33 032\n",
      "\n",
      "34 033\n",
      "\n",
      "35 034\n",
      "\n",
      "36 035\n",
      "\n",
      "37 036\n",
      "\n",
      "38 037\n",
      "\n",
      "39 038\n",
      "\n",
      "40 039\n",
      "\n",
      "41 040\n",
      "\n",
      "42 041\n",
      "\n",
      "43 042\n",
      "\n",
      "44 043\n",
      "\n",
      "45 044\n",
      "\n",
      "46 045\n",
      "\n",
      "47 046\n",
      "\n",
      "48 047\n",
      "\n",
      "49 048\n",
      "\n",
      "50 049\n",
      "\n",
      "51 050\n",
      "\n",
      "52 051\n",
      "\n",
      "53 052\n",
      "\n",
      "54 053\n",
      "\n",
      "55 054\n",
      "\n",
      "56 055\n",
      "\n",
      "57 056\n",
      "\n",
      "58 057\n",
      "\n",
      "59 058\n",
      "\n",
      "60 059\n",
      "\n",
      "61 060\n",
      "\n",
      "62 061\n",
      "\n",
      "63 062\n",
      "\n",
      "64 063\n",
      "\n",
      "65 064\n",
      "\n",
      "66 065\n",
      "\n",
      "67 066\n",
      "\n",
      "68 067\n",
      "\n",
      "69 068\n",
      "\n",
      "70 069\n",
      "\n",
      "71 070\n",
      "\n",
      "72 071\n",
      "\n",
      "73 072\n",
      "\n",
      "74 073\n",
      "\n",
      "75 074\n",
      "\n",
      "76 075\n",
      "\n",
      "77 076\n",
      "\n",
      "78 077\n",
      "\n",
      "79 078\n",
      "\n",
      "80 079\n",
      "\n",
      "81 080\n",
      "\n",
      "82 081\n",
      "\n",
      "83 082\n",
      "\n",
      "84 083\n",
      "\n",
      "85 084\n",
      "\n",
      "86 085\n",
      "\n",
      "87 086\n",
      "\n",
      "88 087\n",
      "\n",
      "89 088\n",
      "\n",
      "90 089\n",
      "\n",
      "91 090\n",
      "\n",
      "92 091\n",
      "\n",
      "93 092\n",
      "\n",
      "94 093\n",
      "\n",
      "95 094\n",
      "\n",
      "96 095\n",
      "\n",
      "97 096\n",
      "\n",
      "98 097\n",
      "\n",
      "99 098\n",
      "\n",
      "100 099\n",
      "\n"
     ]
    }
   ],
   "source": [
    "import sys\n",
    "import os.path\n",
    "# input() retorna a string digitada\n",
    "fn = input('Nome do arquivo: ').strip() #remove espaço em branco extra do nome do arquivo\n",
    "if not os.path.exists(fn):\n",
    "    print ('Tente outra vez...')\n",
    "    sys.exit()\n",
    "# Numerando as linhas\n",
    "for i, s in enumerate(open(fn)):\n",
    "    print (i + 1, s,)"
   ]
  },
  {
   "cell_type": "code",
   "execution_count": 8,
   "metadata": {},
   "outputs": [
    {
     "name": "stdout",
     "output_type": "stream",
     "text": [
      "['000\\n', '001\\n', '002\\n', '003\\n', '004\\n', '005\\n', '006\\n', '007\\n', '008\\n', '009\\n', '010\\n', '011\\n', '012\\n', '013\\n', '014\\n', '015\\n', '016\\n', '017\\n', '018\\n', '019\\n', '020\\n', '021\\n', '022\\n', '023\\n', '024\\n', '025\\n', '026\\n', '027\\n', '028\\n', '029\\n', '030\\n', '031\\n', '032\\n', '033\\n', '034\\n', '035\\n', '036\\n', '037\\n', '038\\n', '039\\n', '040\\n', '041\\n', '042\\n', '043\\n', '044\\n', '045\\n', '046\\n', '047\\n', '048\\n', '049\\n', '050\\n', '051\\n', '052\\n', '053\\n', '054\\n', '055\\n', '056\\n', '057\\n', '058\\n', '059\\n', '060\\n', '061\\n', '062\\n', '063\\n', '064\\n', '065\\n', '066\\n', '067\\n', '068\\n', '069\\n', '070\\n', '071\\n', '072\\n', '073\\n', '074\\n', '075\\n', '076\\n', '077\\n', '078\\n', '079\\n', '080\\n', '081\\n', '082\\n', '083\\n', '084\\n', '085\\n', '086\\n', '087\\n', '088\\n', '089\\n', '090\\n', '091\\n', '092\\n', '093\\n', '094\\n', '095\\n', '096\\n', '097\\n', '098\\n', '099\\n']\n"
     ]
    }
   ],
   "source": [
    "# Imprime uma lista contendo linhas do arquivo\n",
    "print (open('temp.txt').readlines())"
   ]
  },
  {
   "cell_type": "markdown",
   "metadata": {},
   "source": [
    "## Trabalhando com Tempo"
   ]
  },
  {
   "cell_type": "code",
   "execution_count": 9,
   "metadata": {},
   "outputs": [
    {
     "name": "stdout",
     "output_type": "stream",
     "text": [
      "time.struct_time(tm_year=2020, tm_mon=2, tm_mday=6, tm_hour=20, tm_min=13, tm_sec=49, tm_wday=3, tm_yday=37, tm_isdst=0)\n",
      "Thu Feb  6 20:13:49 2020\n",
      "Espera 3 segundos e imprime na tela\n",
      "\n",
      "Espera 3 segundos e imprime na tela\n",
      "\n",
      "Espera 3 segundos e imprime na tela\n",
      "\n",
      "Espera 3 segundos e imprime na tela\n",
      "\n",
      "Espera 3 segundos e imprime na tela\n",
      "\n"
     ]
    }
   ],
   "source": [
    "import time\n",
    "print (time.localtime()) #imprime como uma estrutura\n",
    "print (time.asctime()) #imprime como string\n",
    "for x in range(5):\n",
    "    time.sleep(3)\n",
    "    print('Espera 3 segundos e imprime na tela\\n')"
   ]
  },
  {
   "cell_type": "code",
   "execution_count": 10,
   "metadata": {},
   "outputs": [
    {
     "name": "stdout",
     "output_type": "stream",
     "text": [
      "Data: 2020-12-31\n",
      "Hora: 23:59:59\n",
      "Quanto tempo falta para 31/12/2020: 329 days, 3:45:28.836835\n",
      "1 ano a partir de agora será: 2021-02-05 20:14:30.163165\n"
     ]
    }
   ],
   "source": [
    "import datetime\n",
    "from datetime import timedelta #este método é para evitar digitar o nome do pacote.função (neste caso datetime.timedelta)\n",
    "\n",
    "dt = datetime.datetime(2020, 12, 31, 23, 59, 59) #criando uma data com horário\n",
    "\n",
    "data = dt.date() #retorna a data\n",
    "hora = dt.time() #retorna o horário\n",
    "\n",
    "dd = dt - dt.today() #cálculo de tempo\n",
    "print ('Data:', data)\n",
    "print ('Hora:', hora)\n",
    "print ('Quanto tempo falta para 31/12/2020:', dd)\n",
    "print ('1 ano a partir de agora será: '+ str(datetime.datetime.now() + timedelta(days=365)))"
   ]
  },
  {
   "cell_type": "markdown",
   "metadata": {},
   "source": [
    "## TODO Section"
   ]
  },
  {
   "cell_type": "markdown",
   "metadata": {},
   "source": [
    "### Calcule o número de meses desde a data que o brasil foi descoberto. Considere um mês com 30 dias. Dia do descobrimento do Brasil 22/04/1500."
   ]
  },
  {
   "cell_type": "code",
   "execution_count": 31,
   "metadata": {},
   "outputs": [
    {
     "name": "stdout",
     "output_type": "stream",
     "text": [
      "O Brasil for descoberto há 6328 days, 9:29:37.803732 meses. Caraca, tudo isso já?!\n"
     ]
    }
   ],
   "source": [
    "# TODO: use datetime para calcular quantos meses se passaram desde a descoberta do Brasil\n",
    "try:\n",
    "    import datetime\n",
    "except:\n",
    "    !pip install datetime\n",
    "    \n",
    "from datetime import timedelta\n",
    "\n",
    "dia_descobrimento = datetime.datetime(1500, 4, 22) #declarando o dia do descobrimento\n",
    "\n",
    "TempodeDescobrimento = (dia_descobrimento.today() - dia_descobrimento)/30 #Hoje - Dia do Descobrimento\n",
    "\n",
    "print (\"O Brasil for descoberto há\", TempodeDescobrimento, \"meses. Caraca, tudo isso já?!\") #exibindo só o valor (do contrário mostraria o objeto no formato default)\n"
   ]
  },
  {
   "cell_type": "markdown",
   "metadata": {},
   "source": [
    "## Regex - Expressões Regulares"
   ]
  },
  {
   "cell_type": "code",
   "execution_count": 22,
   "metadata": {},
   "outputs": [
    {
     "name": "stdout",
     "output_type": "stream",
     "text": [
      "Queen, Aerosmith & Beatles -> ['Queen', 'Aerosmith', 'Beatles']\n",
      "Phone Num :  2004-959-559 \n",
      "Phone Num :  2004959559\n"
     ]
    }
   ],
   "source": [
    "import re\n",
    "rex = re.compile('\\w+') #qualquer caracter alfanumérico - compilado\n",
    "bandas = 'Queen, Aerosmith & Beatles'\n",
    "print (bandas, '->', rex.findall(bandas))\n",
    "phone = \"2004-959-559 # This is Phone Number\"\n",
    "num = re.sub('#.*$', \"\", phone) #elimina tudo após #\n",
    "print (\"Phone Num : \", num)\n",
    "num = re.sub(r'\\D', \"\", phone)# só deixa número\n",
    "print (\"Phone Num : \", num)"
   ]
  },
  {
   "cell_type": "markdown",
   "metadata": {},
   "source": [
    "## Exceções"
   ]
  },
  {
   "cell_type": "code",
   "execution_count": 32,
   "metadata": {},
   "outputs": [
    {
     "name": "stdout",
     "output_type": "stream",
     "text": [
      "Erro ao tentar dividir por zero\n"
     ]
    }
   ],
   "source": [
    "try:\n",
    "    print(1/0)\n",
    "except ZeroDivisionError:\n",
    "    print('Erro ao tentar dividir por zero')"
   ]
  },
  {
   "cell_type": "markdown",
   "metadata": {},
   "source": [
    "## Programação Funcional"
   ]
  },
  {
   "cell_type": "markdown",
   "metadata": {},
   "source": [
    "### Lambda"
   ]
  },
  {
   "cell_type": "code",
   "execution_count": 33,
   "metadata": {},
   "outputs": [
    {
     "name": "stdout",
     "output_type": "stream",
     "text": [
      "4\n",
      "6\n"
     ]
    }
   ],
   "source": [
    "#exemplos lambda\n",
    "\n",
    "quadrado = lambda num: num ** 2\n",
    "multiplicacao = lambda x,y: x*y\n",
    "\n",
    "print(quadrado(2))\n",
    "print(multiplicacao(2,3))"
   ]
  },
  {
   "cell_type": "markdown",
   "metadata": {},
   "source": [
    "### Map"
   ]
  },
  {
   "cell_type": "code",
   "execution_count": 40,
   "metadata": {},
   "outputs": [
    {
     "name": "stdout",
     "output_type": "stream",
     "text": [
      "[1.0, 2.0, 3.0, 4.0, 5.0]\n"
     ]
    }
   ],
   "source": [
    "import math\n",
    "lista1 = [1, 4, 9, 16, 25]\n",
    "lista2 = map(math.sqrt, lista1)\n",
    "print(list(lista2))"
   ]
  },
  {
   "cell_type": "code",
   "execution_count": 41,
   "metadata": {},
   "outputs": [
    {
     "name": "stdout",
     "output_type": "stream",
     "text": [
      "[0.0, 0.3010299956639812, 0.47712125471966244, 0.6020599913279624, 0.6989700043360189, 0.7781512503836436, 0.8450980400142568, 0.9030899869919435, 0.9542425094393249, 1.0, 1.0413926851582251, 1.0791812460476249]\n",
      "[0.3333333333333333, 0.6666666666666666, 1.0, 1.3333333333333333, 1.6666666666666667, 2.0, 2.3333333333333335, 2.6666666666666665, 3.0, 3.3333333333333335, 3.6666666666666665, 4.0]\n"
     ]
    }
   ],
   "source": [
    "nums = [1, 2, 3, 4, 5, 6, 7, 8, 9, 10, 11, 12]\n",
    "from math import log10\n",
    "print (list(map(log10, nums)))\n",
    "print (list(map(lambda x: x / 3, nums)))"
   ]
  },
  {
   "cell_type": "markdown",
   "metadata": {},
   "source": [
    "### Reduce"
   ]
  },
  {
   "cell_type": "code",
   "execution_count": 42,
   "metadata": {},
   "outputs": [
    {
     "name": "stdout",
     "output_type": "stream",
     "text": [
      "4950\n",
      "102\n"
     ]
    }
   ],
   "source": [
    "from functools import reduce\n",
    "nums = range(100)\n",
    "print (reduce(lambda x, y: x + y, nums))\n",
    "\n",
    "f = lambda a,b: a if (a > b) else b\n",
    "print(reduce(f, [47,11,42,102,13]))"
   ]
  },
  {
   "cell_type": "markdown",
   "metadata": {},
   "source": [
    "### Filter"
   ]
  },
  {
   "cell_type": "code",
   "execution_count": 43,
   "metadata": {},
   "outputs": [
    {
     "name": "stdout",
     "output_type": "stream",
     "text": [
      "[1, 3, 5, 7]\n",
      "[-5, -4, -3, -2, -1]\n"
     ]
    }
   ],
   "source": [
    "x = [1,2,3,4,5,6,7]\n",
    "print (list(filter(lambda x: x % 2, x)))\n",
    "\n",
    "number_list = range(-5, 5)\n",
    "less_than_zero = list(filter(lambda x: x < 0, number_list))\n",
    "print(less_than_zero)"
   ]
  },
  {
   "cell_type": "markdown",
   "metadata": {},
   "source": [
    "### Transposição"
   ]
  },
  {
   "cell_type": "code",
   "execution_count": 49,
   "metadata": {},
   "outputs": [
    {
     "name": "stdout",
     "output_type": "stream",
     "text": [
      "[(1, 4), (2, 5), (3, 6)]\n",
      "[(1, 4, 7), (2, 5, 8), (3, 6, 9)]\n"
     ]
    }
   ],
   "source": [
    "x = [1, 2, 3]\n",
    "y = [4, 5, 6,9,0]\n",
    "print (list(zip(x, y)))\n",
    "\n",
    "matriz = [[1, 2, 3], [4, 5, 6], [7, 8, 9]]\n",
    "print (list(zip(*matriz))) #Descompacta e depois faz a transposição"
   ]
  },
  {
   "cell_type": "markdown",
   "metadata": {},
   "source": [
    "### List Comprehension"
   ]
  },
  {
   "cell_type": "code",
   "execution_count": 50,
   "metadata": {},
   "outputs": [
    {
     "name": "stdout",
     "output_type": "stream",
     "text": [
      "[0, 2, 4, 6, 8, 10, 12, 14, 16, 18]\n"
     ]
    }
   ],
   "source": [
    "S = [x*2 for x in range(0, 10)]\n",
    "print(S)"
   ]
  },
  {
   "cell_type": "code",
   "execution_count": 51,
   "metadata": {},
   "outputs": [
    {
     "name": "stdout",
     "output_type": "stream",
     "text": [
      "[1, 9, 25, 49, 81, 121]\n"
     ]
    }
   ],
   "source": [
    "nums = [1, 2, 3, 4, 5, 6, 7, 8, 9, 10, 11, 12]\n",
    "print ([ x**2 for x in nums if x % 2 ])"
   ]
  },
  {
   "cell_type": "code",
   "execution_count": 52,
   "metadata": {},
   "outputs": [
    {
     "data": {
      "text/plain": [
       "[['Um', 'UM', 2], ['Dois', 'DOIS', 4], ['Tres', 'TRES', 4]]"
      ]
     },
     "execution_count": 52,
     "metadata": {},
     "output_type": "execute_result"
    }
   ],
   "source": [
    "[[s.capitalize(), s.upper(), len(s)] for s in ['um', 'dois', 'tres']]"
   ]
  },
  {
   "cell_type": "markdown",
   "metadata": {},
   "source": [
    "## TODO Section"
   ]
  },
  {
   "cell_type": "markdown",
   "metadata": {},
   "source": [
    "## A amplitude de um vetor 3D é dado pela seguinte fórmula: $\\sqrt{x^2 + y^2 + z^2}$\n",
    "## Escreva uma função, usando lambda, que calcule a amplitude dos seguintes vetores:\n",
    "    -> (1,1,1) \n",
    "    -> (3,4,5)"
   ]
  },
  {
   "cell_type": "code",
   "execution_count": 57,
   "metadata": {},
   "outputs": [
    {
     "name": "stdout",
     "output_type": "stream",
     "text": [
      "1.7320508075688772\n",
      "7.0710678118654755\n"
     ]
    }
   ],
   "source": [
    "# TODO: sua resposta aqui\n",
    "import math\n",
    "\n",
    "#Opção 1\n",
    "Func_Amplitude=lambda x,y,z: math.sqrt(x**2 + y**2 + z**2)\n",
    "\n",
    "print(Func_Amplitude(1, 1, 1))\n",
    "print(Func_Amplitude(3, 4, 5))\n",
    "\n",
    "\n",
    "#Opção 2\n"
   ]
  },
  {
   "cell_type": "markdown",
   "metadata": {},
   "source": [
    "## Use reduce para criar uma função que calcule o fatorial de qualquer número n"
   ]
  },
  {
   "cell_type": "code",
   "execution_count": 101,
   "metadata": {},
   "outputs": [
    {
     "name": "stdout",
     "output_type": "stream",
     "text": [
      "Valor não é inteiro ou é menor que 1\n",
      "None\n"
     ]
    }
   ],
   "source": [
    "# TODO sua resposta aqui\n",
    "from functools import reduce\n",
    "\n",
    "def fatorial(n):\n",
    "    if not isinstance(n, int) or n < 1:\n",
    "        print(\"Valor não é inteiro ou é menor que 1\")\n",
    "        return\n",
    "    else:\n",
    "        return reduce(lambda x, y: x*y, range(1, n+1))\n",
    "\n",
    "print(fatorial(\"oi\"))\n",
    "\n"
   ]
  },
  {
   "cell_type": "markdown",
   "metadata": {},
   "source": [
    "## Orientação à Objetos"
   ]
  },
  {
   "cell_type": "code",
   "execution_count": 102,
   "metadata": {},
   "outputs": [],
   "source": [
    "#Abstração\n",
    "class SomeClass:    \n",
    "    def create_arr(self):\n",
    "        self.arr = []\n",
    "    \n",
    "    def insert_to_arr(self, value): \n",
    "        self.arr.append(value)"
   ]
  },
  {
   "cell_type": "code",
   "execution_count": 103,
   "metadata": {},
   "outputs": [
    {
     "data": {
      "text/plain": [
       "[5]"
      ]
     },
     "execution_count": 103,
     "metadata": {},
     "output_type": "execute_result"
    }
   ],
   "source": [
    "# Instanciamento\n",
    "obj = SomeClass()\n",
    "obj.create_arr()\n",
    "obj.insert_to_arr(5)\n",
    "obj.arr"
   ]
  },
  {
   "cell_type": "code",
   "execution_count": 104,
   "metadata": {},
   "outputs": [],
   "source": [
    "#definição da classe\n",
    "class Set:\n",
    "    # Funções membras\n",
    "    # self se refere ao objeto Set que está sendo usado\n",
    "    def __init__(self, values=None):\n",
    "        \"\"\"\n",
    "        Este é o construtor\n",
    "        Ele é chamado quando você cria um novo Set;\n",
    "        Deve ser usado da seguinte maneira:\n",
    "        s1 = Set() # set vazio\n",
    "        s2 = Set([1,2,2,3]) #inicializa com valores\n",
    "        \"\"\"\n",
    "        # cada instância de um Set possui seu próprio dicionário\n",
    "        # que será usado para rastrear membresia\n",
    "        self.dict = {}  # cada instância de um Set possui seu próprio dicionário\n",
    "        # que será usado para rastrear membresia\n",
    "        if values is not None:\n",
    "            for value in values:\n",
    "                self.add(value)\n",
    "    def __repr__(self):\n",
    "        \"\"\"\n",
    "        Esta é a representação de um objeto Set por meio de uma string\n",
    "        \"\"\"\n",
    "        return \"Set: \" + str(self.dict.keys())\n",
    "    \n",
    "    # vamos representar membresia como sendo uma chave no self.dict com valor True\n",
    "    def add(self, value):\n",
    "        self.dict[value] = True\n",
    "    \n",
    "    # valor está no Set se ele é uma chave no dicionário\n",
    "    def contains(self, value):\n",
    "        return value in self.dict\n",
    "    \n",
    "    def remove(self, value):\n",
    "        del self.dict[value]\n"
   ]
  },
  {
   "cell_type": "code",
   "execution_count": 105,
   "metadata": {},
   "outputs": [
    {
     "data": {
      "text/plain": [
       "Set: dict_keys([1, 2, 3])"
      ]
     },
     "execution_count": 105,
     "metadata": {},
     "output_type": "execute_result"
    }
   ],
   "source": [
    "s = Set([1,2,3,2,3,1])\n",
    "s"
   ]
  },
  {
   "cell_type": "code",
   "execution_count": 106,
   "metadata": {},
   "outputs": [
    {
     "name": "stdout",
     "output_type": "stream",
     "text": [
      "True\n",
      "False\n"
     ]
    }
   ],
   "source": [
    "s.add(4)\n",
    "print (s.contains(4)) # True\n",
    "s.remove(3)\n",
    "print (s.contains(3)) # False"
   ]
  },
  {
   "cell_type": "markdown",
   "metadata": {},
   "source": [
    "## TODO Section"
   ]
  },
  {
   "cell_type": "markdown",
   "metadata": {},
   "source": [
    "## 1) Crie uma classe que irá modelar características geométricas de um círculo. Deverá implementar os métodos:\n",
    "        -> Área \n",
    "        -> Perímetro\n",
    "## Utilize atributos de classe e de instância apropriados. Crie um inicializador e métodos.\n",
    "$area = \\pi*r^2$\n",
    "\n",
    "$perimetro = 2*\\pi*r$"
   ]
  },
  {
   "cell_type": "code",
   "execution_count": 118,
   "metadata": {},
   "outputs": [],
   "source": [
    "#Fazer em casa (baseado no Jupyter Notebook do professor)\n",
    "\n",
    "class Circle_Features:\n",
    "   \n",
    "    def area(self, value):\n",
    "        self.dict[value]=3.14 * value**2\n",
    "    \n",
    "    def perimeter(self, value):\n",
    "        self.dict[value]=2 * 3.14 * value\n",
    "    \n",
    "    "
   ]
  },
  {
   "cell_type": "code",
   "execution_count": null,
   "metadata": {},
   "outputs": [],
   "source": []
  },
  {
   "cell_type": "code",
   "execution_count": null,
   "metadata": {},
   "outputs": [],
   "source": []
  },
  {
   "cell_type": "code",
   "execution_count": null,
   "metadata": {},
   "outputs": [],
   "source": []
  }
 ],
 "metadata": {
  "kernelspec": {
   "display_name": "Python 3",
   "language": "python",
   "name": "python3"
  },
  "language_info": {
   "codemirror_mode": {
    "name": "ipython",
    "version": 3
   },
   "file_extension": ".py",
   "mimetype": "text/x-python",
   "name": "python",
   "nbconvert_exporter": "python",
   "pygments_lexer": "ipython3",
   "version": "3.6.9"
  }
 },
 "nbformat": 4,
 "nbformat_minor": 4
}
