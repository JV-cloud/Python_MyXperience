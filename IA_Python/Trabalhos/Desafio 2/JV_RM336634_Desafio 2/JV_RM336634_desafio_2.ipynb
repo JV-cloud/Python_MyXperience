{
 "cells": [
  {
   "cell_type": "markdown",
   "metadata": {},
   "source": [
    "# Desafio 2"
   ]
  },
  {
   "cell_type": "markdown",
   "metadata": {},
   "source": [
    "# Nome: Jurandir Ventura - RM: 336634"
   ]
  },
  {
   "cell_type": "markdown",
   "metadata": {},
   "source": [
    "### Obtendo informações importantes acerca do dataset\n",
    "\n",
    "Vamos utilizar o dataset breast_cancer_data.csv para fazer uma análise exploratória cujo objetivo é responder a alguns questionamentos que surgiram a respeito desse conjunto.\n",
    "\n",
    "Vamos começar lendo e entendendo nossos dados:"
   ]
  },
  {
   "cell_type": "code",
   "execution_count": 76,
   "metadata": {},
   "outputs": [],
   "source": [
    "import pandas as pd\n",
    "import numpy as np"
   ]
  },
  {
   "cell_type": "code",
   "execution_count": 85,
   "metadata": {},
   "outputs": [
    {
     "data": {
      "text/html": [
       "<div>\n",
       "<style scoped>\n",
       "    .dataframe tbody tr th:only-of-type {\n",
       "        vertical-align: middle;\n",
       "    }\n",
       "\n",
       "    .dataframe tbody tr th {\n",
       "        vertical-align: top;\n",
       "    }\n",
       "\n",
       "    .dataframe thead th {\n",
       "        text-align: right;\n",
       "    }\n",
       "</style>\n",
       "<table border=\"1\" class=\"dataframe\">\n",
       "  <thead>\n",
       "    <tr style=\"text-align: right;\">\n",
       "      <th></th>\n",
       "      <th>id</th>\n",
       "      <th>clump_thickness</th>\n",
       "      <th>cell_size_uniformity</th>\n",
       "      <th>cell_shape_uniformity</th>\n",
       "      <th>marginal_adhesion</th>\n",
       "      <th>single_ep_cell_size</th>\n",
       "      <th>bare_nuclei</th>\n",
       "      <th>bland_chromatin</th>\n",
       "      <th>normal_nucleoli</th>\n",
       "      <th>mitoses</th>\n",
       "      <th>cancer_class</th>\n",
       "      <th>doctor_name</th>\n",
       "    </tr>\n",
       "  </thead>\n",
       "  <tbody>\n",
       "    <tr>\n",
       "      <td>0</td>\n",
       "      <td>1000025</td>\n",
       "      <td>5.0</td>\n",
       "      <td>1.0</td>\n",
       "      <td>1</td>\n",
       "      <td>1</td>\n",
       "      <td>2</td>\n",
       "      <td>1</td>\n",
       "      <td>3.0</td>\n",
       "      <td>1.0</td>\n",
       "      <td>1</td>\n",
       "      <td>benign</td>\n",
       "      <td>Dr. Doe</td>\n",
       "    </tr>\n",
       "    <tr>\n",
       "      <td>1</td>\n",
       "      <td>1002945</td>\n",
       "      <td>5.0</td>\n",
       "      <td>4.0</td>\n",
       "      <td>4</td>\n",
       "      <td>5</td>\n",
       "      <td>7</td>\n",
       "      <td>10</td>\n",
       "      <td>3.0</td>\n",
       "      <td>2.0</td>\n",
       "      <td>1</td>\n",
       "      <td>benign</td>\n",
       "      <td>Dr. Smith</td>\n",
       "    </tr>\n",
       "    <tr>\n",
       "      <td>2</td>\n",
       "      <td>1015425</td>\n",
       "      <td>3.0</td>\n",
       "      <td>1.0</td>\n",
       "      <td>1</td>\n",
       "      <td>1</td>\n",
       "      <td>2</td>\n",
       "      <td>2</td>\n",
       "      <td>3.0</td>\n",
       "      <td>1.0</td>\n",
       "      <td>1</td>\n",
       "      <td>benign</td>\n",
       "      <td>Dr. Lee</td>\n",
       "    </tr>\n",
       "    <tr>\n",
       "      <td>3</td>\n",
       "      <td>1016277</td>\n",
       "      <td>6.0</td>\n",
       "      <td>8.0</td>\n",
       "      <td>8</td>\n",
       "      <td>1</td>\n",
       "      <td>3</td>\n",
       "      <td>4</td>\n",
       "      <td>3.0</td>\n",
       "      <td>7.0</td>\n",
       "      <td>1</td>\n",
       "      <td>benign</td>\n",
       "      <td>Dr. Smith</td>\n",
       "    </tr>\n",
       "    <tr>\n",
       "      <td>4</td>\n",
       "      <td>1017023</td>\n",
       "      <td>4.0</td>\n",
       "      <td>1.0</td>\n",
       "      <td>1</td>\n",
       "      <td>3</td>\n",
       "      <td>2</td>\n",
       "      <td>1</td>\n",
       "      <td>3.0</td>\n",
       "      <td>1.0</td>\n",
       "      <td>1</td>\n",
       "      <td>benign</td>\n",
       "      <td>Dr. Wong</td>\n",
       "    </tr>\n",
       "  </tbody>\n",
       "</table>\n",
       "</div>"
      ],
      "text/plain": [
       "        id  clump_thickness  cell_size_uniformity  cell_shape_uniformity  \\\n",
       "0  1000025              5.0                   1.0                      1   \n",
       "1  1002945              5.0                   4.0                      4   \n",
       "2  1015425              3.0                   1.0                      1   \n",
       "3  1016277              6.0                   8.0                      8   \n",
       "4  1017023              4.0                   1.0                      1   \n",
       "\n",
       "   marginal_adhesion  single_ep_cell_size bare_nuclei  bland_chromatin  \\\n",
       "0                  1                    2           1              3.0   \n",
       "1                  5                    7          10              3.0   \n",
       "2                  1                    2           2              3.0   \n",
       "3                  1                    3           4              3.0   \n",
       "4                  3                    2           1              3.0   \n",
       "\n",
       "   normal_nucleoli  mitoses cancer_class doctor_name  \n",
       "0              1.0        1       benign     Dr. Doe  \n",
       "1              2.0        1       benign   Dr. Smith  \n",
       "2              1.0        1       benign     Dr. Lee  \n",
       "3              7.0        1       benign   Dr. Smith  \n",
       "4              1.0        1       benign    Dr. Wong  "
      ]
     },
     "execution_count": 85,
     "metadata": {},
     "output_type": "execute_result"
    }
   ],
   "source": [
    "colunas = ['id','clump_thickness','cell_size_uniformity','cell_shape_uniformity','marginal_adhesion','single_ep_cell_size',\n",
    "          'bare_nuclei','bland_chromatin','normal_nucleoli','mitoses','cancer_class','doctor_name']\n",
    "\n",
    "# IMPORTANTE: alterado o nome da coluna 'class' para 'cancer_class', para que não haja conflito ao usar QUERY.\n",
    "\n",
    "data = pd.read_csv('breast_cancer_data.csv',names=colunas)\n",
    "data.head()"
   ]
  },
  {
   "cell_type": "code",
   "execution_count": 86,
   "metadata": {},
   "outputs": [
    {
     "name": "stdout",
     "output_type": "stream",
     "text": [
      "formato: \n",
      " LINHAS ==>  699 \n",
      " COLUNAS ==>  12 \n",
      "\n",
      "tipos de dados:  \n",
      " id                         int64\n",
      "clump_thickness          float64\n",
      "cell_size_uniformity     float64\n",
      "cell_shape_uniformity      int64\n",
      "marginal_adhesion          int64\n",
      "single_ep_cell_size        int64\n",
      "bare_nuclei               object\n",
      "bland_chromatin          float64\n",
      "normal_nucleoli          float64\n",
      "mitoses                    int64\n",
      "cancer_class              object\n",
      "doctor_name               object\n",
      "dtype: object \n",
      "\n",
      "principais estatísticas:  \n",
      "                  id  clump_thickness  cell_size_uniformity  \\\n",
      "count  6.990000e+02       698.000000            698.000000   \n",
      "mean   1.071704e+06         4.416905              3.137536   \n",
      "std    6.170957e+05         2.817673              3.052575   \n",
      "min    6.163400e+04         1.000000              1.000000   \n",
      "25%    8.706885e+05         2.000000              1.000000   \n",
      "50%    1.171710e+06         4.000000              1.000000   \n",
      "75%    1.238298e+06         6.000000              5.000000   \n",
      "max    1.345435e+07        10.000000             10.000000   \n",
      "\n",
      "       cell_shape_uniformity  marginal_adhesion  single_ep_cell_size  \\\n",
      "count             699.000000         699.000000           699.000000   \n",
      "mean                3.207439           2.793991             3.216023   \n",
      "std                 2.971913           2.843163             2.214300   \n",
      "min                 1.000000           1.000000             1.000000   \n",
      "25%                 1.000000           1.000000             2.000000   \n",
      "50%                 1.000000           1.000000             2.000000   \n",
      "75%                 5.000000           3.500000             4.000000   \n",
      "max                10.000000          10.000000            10.000000   \n",
      "\n",
      "       bland_chromatin  normal_nucleoli     mitoses  \n",
      "count       695.000000       698.000000  699.000000  \n",
      "mean          3.447482         2.868195    1.589413  \n",
      "std           2.441191         3.055647    1.715078  \n",
      "min           1.000000         1.000000    1.000000  \n",
      "25%           2.000000         1.000000    1.000000  \n",
      "50%           3.000000         1.000000    1.000000  \n",
      "75%           5.000000         4.000000    1.000000  \n",
      "max          10.000000        10.000000   10.000000   \n",
      "\n"
     ]
    }
   ],
   "source": [
    "# TODO: entendimento básico dos dados - preencha as lacunas no código a fim de obter o resultado desejado\n",
    "\n",
    "# quantas linhas e quantas colunas existem no dataset?\n",
    "row_column_counter = data.shape\n",
    "print('formato:', '\\n', 'LINHAS ==> ', row_column_counter[0], '\\n','COLUNAS ==> ', row_column_counter[1], '\\n')\n",
    "\n",
    "#quais os tipos de dados de cada coluna?\n",
    "\n",
    "dtype = data.dtypes\n",
    "\n",
    "print('tipos de dados: ','\\n', dtype,'\\n')\n",
    "\n",
    "#quais as principais estatísticas dos dados numéricos do dataset?\n",
    "\n",
    "statistics = data.describe()\n",
    "\n",
    "print('principais estatísticas: ', '\\n', statistics, '\\n')"
   ]
  },
  {
   "cell_type": "code",
   "execution_count": 87,
   "metadata": {},
   "outputs": [
    {
     "name": "stdout",
     "output_type": "stream",
     "text": [
      "cancer_class  doctor_name\n",
      "benign        Dr. Doe        127\n",
      "              Dr. Lee        121\n",
      "              Dr. Wong       108\n",
      "              Dr. Smith      102\n",
      "malignant     Dr. Smith       74\n",
      "              Dr. Lee         60\n",
      "              Dr. Doe         58\n",
      "              Dr. Wong        49\n",
      "Name: id, dtype: int64\n"
     ]
    }
   ],
   "source": [
    "# TODO: obtendo informações sobre o dataset\n",
    "\n",
    "# retorne uma Serie que mostre qual a classificação (maligno e benigno) que cada médico deu para cada amostra: \n",
    "# Exemplo de retorno\n",
    "# class      doctor_name\n",
    "# benign   Dr. Doe        127\n",
    "#          Dr. Lee        121\n",
    "#          Dr. Smith      102\n",
    "#          Dr. Wong       108\n",
    "\n",
    "# Código: \n",
    "\n",
    "series = data.groupby([\"cancer_class\",\"doctor_name\"])[\"id\"].count().sort_values(ascending=False)\n",
    "print(series)\n",
    "\n"
   ]
  },
  {
   "cell_type": "code",
   "execution_count": 88,
   "metadata": {},
   "outputs": [
    {
     "name": "stdout",
     "output_type": "stream",
     "text": [
      "Existem 5 variáveis correlacionadas com clump_thickness:\n",
      "cell_shape_uniformity    0.654632\n",
      "cell_size_uniformity     0.644636\n",
      "bland_chromatin          0.558924\n",
      "normal_nucleoli          0.535773\n",
      "single_ep_cell_size      0.522108\n",
      "Name: clump_thickness, dtype: float64\n"
     ]
    }
   ],
   "source": [
    "# TODO: obtendo informações sobre o dataset\n",
    "\n",
    "# Use o método select_dtypes() para selecionar apenas colunas do tipo float64 e int64. Armazene na variável data_num\n",
    "data_num = data.select_dtypes(include=[\"float\",\"int64\"])\n",
    "\n",
    "# Encontre as n variáveis que possuem um valor absoluto de correlação maior que 0.5 com a variável clump_thickness, excluindo ela mesma \n",
    "# retorne os valores de forma descendente\n",
    "# sempre utilize a variável data_num para receber o resultado de suas operações\n",
    "\n",
    "corr_aux1 = data.corr()\n",
    "corr_aux2=corr_aux1['clump_thickness'].sort_values(ascending=False)\n",
    "data_num= corr_aux2[(corr_aux2 > 0.5) & (corr_aux2 != 1)]\n",
    "\n",
    "print(\"Existem {} variáveis correlacionadas com clump_thickness:\\n{}\".format(len(data_num), data_num))"
   ]
  },
  {
   "cell_type": "code",
   "execution_count": 89,
   "metadata": {},
   "outputs": [
    {
     "name": "stdout",
     "output_type": "stream",
     "text": [
      "Tamanho médio do tipo benigno:  1.3260393873085339 \n",
      "\n",
      "Tamanho médio do tipo maligno:  6.572614107883817 \n",
      "\n",
      "Número máximo de mitoses em tumores benignos:  3\n",
      "\n",
      "Número máximo de mitoses em tumores malignos:  10\n"
     ]
    }
   ],
   "source": [
    "# TODO: obtendo informações sobre o dataset\n",
    "\n",
    "# qual o tamanho médio das células para cada tipo de tumor?\n",
    "benign_type = data.query(\"cancer_class == 'benign'\")\n",
    "malignant_type = data.query(\"cancer_class == 'malignant'\")\n",
    "mean_benign_cell = benign_type['cell_size_uniformity'].mean()\n",
    "mean_malignant_cell = malignant_type['cell_size_uniformity'].mean()\n",
    "\n",
    "print('Tamanho médio do tipo benigno: ',mean_benign_cell,'\\n')\n",
    "print('Tamanho médio do tipo maligno: ',mean_malignant_cell,'\\n')\n",
    "\n",
    "# qual o número máximo de mitoses em tumores benignos encontrados pelo Dr. Wong?\n",
    "dr_wong_benign = data.query(\"doctor_name == 'Dr. Wong' & cancer_class == 'benign'\")\n",
    "max_benign_mitoses = dr_wong_benign['mitoses'].max()\n",
    "\n",
    "print('Número máximo de mitoses em tumores benignos: ', max_benign_mitoses)\n",
    "\n",
    "# e qual o número máximo de mitoses em tumores malignos encontrados pelo mesmo médico?\n",
    "dr_wong_malignant = data.query(\"doctor_name == 'Dr. Wong' & cancer_class == 'malignant'\")\n",
    "max_malignant_mitoses = dr_wong_malignant['mitoses'].max()\n",
    "\n",
    "print('\\nNúmero máximo de mitoses em tumores malignos: ',max_malignant_mitoses)"
   ]
  },
  {
   "cell_type": "code",
   "execution_count": 90,
   "metadata": {},
   "outputs": [
    {
     "name": "stdout",
     "output_type": "stream",
     "text": [
      "id\n",
      "1182404    6\n",
      "1276091    5\n",
      "1198641    3\n",
      "1238777    2\n",
      "385103     2\n",
      "          ..\n",
      "1212232    1\n",
      "1211594    1\n",
      "1211265    1\n",
      "1211202    1\n",
      "61634      1\n",
      "Name: id, Length: 645, dtype: int64\n",
      "id\n",
      "1105524    2\n",
      "385103     2\n",
      "1143978    2\n",
      "822829     2\n",
      "1240603    2\n",
      "          ..\n",
      "1212232    1\n",
      "1211594    1\n",
      "1211265    1\n",
      "1211202    1\n",
      "61634      1\n",
      "Name: id, Length: 642, dtype: int64\n"
     ]
    }
   ],
   "source": [
    "# TODO: filtrando os dados\n",
    "\n",
    "# Existem três pacientes (id) que aparecem mais que duas vezes no dataset. Retorne uma série ordenada de forma descendente que mostre o\n",
    "# id do paciente bem como a quantidade de vezes que ele aparece repetido no dataset\n",
    "\n",
    "repeated_patients = data.groupby(['id'])['id'].count().sort_values(ascending=False)\n",
    "print(repeated_patients)\n",
    "\n",
    "# Elimine esses três pacientes do dataframe de modo que este contenha apenas pacientes que apareceram no máximo duas vezes\n",
    "filtered_patients = data.query(\"id != '1182404' & id != '1276091' & id != '1198641'\")\n",
    "\n",
    "filtered_data = filtered_patients.groupby(['id'])['id'].count().sort_values(ascending=False)\n",
    "print(filtered_data)\n"
   ]
  },
  {
   "cell_type": "markdown",
   "metadata": {},
   "source": [
    "## FIM DO DESAFIO"
   ]
  },
  {
   "cell_type": "code",
   "execution_count": null,
   "metadata": {},
   "outputs": [],
   "source": []
  }
 ],
 "metadata": {
  "kernelspec": {
   "display_name": "Python 3",
   "language": "python",
   "name": "python3"
  },
  "language_info": {
   "codemirror_mode": {
    "name": "ipython",
    "version": 3
   },
   "file_extension": ".py",
   "mimetype": "text/x-python",
   "name": "python",
   "nbconvert_exporter": "python",
   "pygments_lexer": "ipython3",
   "version": "3.7.4"
  }
 },
 "nbformat": 4,
 "nbformat_minor": 4
}
