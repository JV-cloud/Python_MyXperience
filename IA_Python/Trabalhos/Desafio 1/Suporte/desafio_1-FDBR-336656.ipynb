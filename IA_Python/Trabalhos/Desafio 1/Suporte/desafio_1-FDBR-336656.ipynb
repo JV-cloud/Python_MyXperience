{
 "cells": [
  {
   "cell_type": "markdown",
   "metadata": {},
   "source": [
    "# Desafio 1 - Fabio Rizzi RM336656"
   ]
  },
  {
   "cell_type": "markdown",
   "metadata": {},
   "source": [
    "### Conjectura de Legendre\n",
    "\n",
    "A Conjectura de Legendre, enunciada por de Adrien-Marie Legendre, afirma que existe sempre um número primo entre $n^2 $ e $(n+1)^2$, para qualquer $n$ inteiro positivo\n",
    "\n",
    "Seu desafio será criar uma função que, dado um input (inteiro n) retorne todos os números primos entre $n^2$ e $(n+1)^2$. \n",
    "\n",
    "Exemplo:\n",
    "\n",
    "    > input: 4\n",
    "    \n",
    "    > output: [17,19,23]"
   ]
  },
  {
   "cell_type": "code",
   "execution_count": 1,
   "metadata": {},
   "outputs": [],
   "source": [
    "def isprime(n):\n",
    "    for i in range(2,n):\n",
    "        if n % i == 0:\n",
    "            return False\n",
    "    return True"
   ]
  },
  {
   "cell_type": "code",
   "execution_count": 2,
   "metadata": {},
   "outputs": [],
   "source": [
    "def LegendreConjecture(n):\n",
    "    list = []\n",
    "    for i in range(n**2,(n+1)**2):\n",
    "        if isprime(i): list.append(i)\n",
    "    return list"
   ]
  },
  {
   "cell_type": "code",
   "execution_count": 3,
   "metadata": {},
   "outputs": [
    {
     "data": {
      "text/plain": [
       "[17, 19, 23]"
      ]
     },
     "execution_count": 3,
     "metadata": {},
     "output_type": "execute_result"
    }
   ],
   "source": [
    "LegendreConjecture(4)"
   ]
  },
  {
   "cell_type": "markdown",
   "metadata": {},
   "source": [
    "## Classe de leitura de arquivo\n",
    "\n",
    "Crie uma classe que\n",
    "\n",
    "        > crie um método que tenta ler um arquivo de texto (.txt)\n",
    "        > crie um método usando regex para extrair datas do texto. Considere apenas os dois tipos: dd/mm/aaaa e d/m/aa\n",
    "        > crie um método que utilize Counter para contar a quantidade de cada caracter"
   ]
  },
  {
   "cell_type": "code",
   "execution_count": 2,
   "metadata": {},
   "outputs": [],
   "source": [
    "import re\n",
    "from collections import Counter\n",
    "class ExtractTextInformation():\n",
    "    def __init__(self,arquivo):\n",
    "        try:\n",
    "            self.arquivo = open(arquivo)\n",
    "        except:\n",
    "            print('Não foi possível ler %s' % (arquivo))\n",
    "            \n",
    "    def ler(self):\n",
    "        print(self.arquivo.read())\n",
    "    \n",
    "    def datas(self):\n",
    "        if self.arquivo:\n",
    "            print(re.findall(\"\\d{1,2}/\\d{1,2}/\\d{2,4}\",self.arquivo.read()))\n",
    "   \n",
    "    def contar(self):\n",
    "        print(Counter(self.arquivo.read()))"
   ]
  },
  {
   "cell_type": "code",
   "execution_count": 4,
   "metadata": {},
   "outputs": [
    {
     "name": "stdout",
     "output_type": "stream",
     "text": [
      "Eu nasci em 11/02/1983, minha filha Julia em 13/02/2013 e a mais nova, Luisa, nasceu em 05/08/2017. Já minha esposa nasceu em 31/12/1984.\n"
     ]
    }
   ],
   "source": [
    "ExtractTextInformation(\"Datas_Nascimento.txt\").ler()"
   ]
  },
  {
   "cell_type": "code",
   "execution_count": 6,
   "metadata": {},
   "outputs": [
    {
     "name": "stdout",
     "output_type": "stream",
     "text": [
      "['20/01/1984', '20/01/1984', '7/01/1984']\n"
     ]
    }
   ],
   "source": [
    "ExtractTextInformation(\"arq.txt\").datas()"
   ]
  },
  {
   "cell_type": "code",
   "execution_count": 7,
   "metadata": {},
   "outputs": [
    {
     "name": "stdout",
     "output_type": "stream",
     "text": [
      "Counter({'a': 15, 'd': 13, 's': 13, '/': 12, '1': 12, '0': 11, '\\n': 9, '2': 5, '8': 5, '4': 5, '9': 4, '7': 1})\n"
     ]
    }
   ],
   "source": [
    "ExtractTextInformation(\"arq.txt\").contar()"
   ]
  }
 ],
 "metadata": {
  "kernelspec": {
   "display_name": "Python 3",
   "language": "python",
   "name": "python3"
  },
  "language_info": {
   "codemirror_mode": {
    "name": "ipython",
    "version": 3
   },
   "file_extension": ".py",
   "mimetype": "text/x-python",
   "name": "python",
   "nbconvert_exporter": "python",
   "pygments_lexer": "ipython3",
   "version": "3.7.4"
  }
 },
 "nbformat": 4,
 "nbformat_minor": 4
}
