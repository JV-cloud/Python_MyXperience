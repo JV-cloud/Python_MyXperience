{
 "cells": [
  {
   "cell_type": "markdown",
   "metadata": {},
   "source": [
    "# Desafio 1"
   ]
  },
  {
   "cell_type": "markdown",
   "metadata": {},
   "source": [
    "# Nome: Jurandir Ventura - RM: 336634"
   ]
  },
  {
   "cell_type": "markdown",
   "metadata": {},
   "source": [
    "### Conjectura de Legendre\n",
    "\n",
    "A Conjectura de Legendre, enunciada por de Adrien-Marie Legendre, afirma que existe sempre um número primo entre $n^2 $ e $(n+1)^2$, para qualquer $n$ inteiro positivo\n",
    "\n",
    "Seu desafio será criar uma função que, dado um input (inteiro n) retorne todos os números primos entre $n^2$ e $(n+1)^2$. \n",
    "\n",
    "Exemplo:\n",
    "\n",
    "    > input: 4\n",
    "    \n",
    "    > output: [17,19,23]"
   ]
  },
  {
   "cell_type": "code",
   "execution_count": 6,
   "metadata": {},
   "outputs": [],
   "source": [
    "def isprime(n):\n",
    "    for j in range(2,n):\n",
    "        if n % j == 0:\n",
    "            return False\n",
    "    return True\n",
    "\n",
    "    \"\"\"\n",
    "    Esta função verifica se um número é ou não primo\n",
    "    \"\"\"\n",
    "    # TODO: implemente uma função que retorne TRUE se um número é ou não primo"
   ]
  },
  {
   "cell_type": "code",
   "execution_count": 16,
   "metadata": {},
   "outputs": [
    {
     "name": "stdout",
     "output_type": "stream",
     "text": [
      "True\n"
     ]
    }
   ],
   "source": [
    "teste1 = isprime(101)\n",
    "print (teste1)"
   ]
  },
  {
   "cell_type": "code",
   "execution_count": 17,
   "metadata": {},
   "outputs": [],
   "source": [
    "def LegendreConjecture(n):\n",
    "    lista = []\n",
    "    for j in range(n**2,(n+1)**2):\n",
    "        if isprime(j): lista.append(j)\n",
    "    return lista\n",
    "    \n",
    "    \"\"\"\n",
    "    Esta função calcula a conjectura de Legendre, como descrita acima\n",
    "    \"\"\"\n",
    "    # TODO: implemente uma função que retorne uma lista contendo os números primos entre n^2 e (n+1)^2"
   ]
  },
  {
   "cell_type": "code",
   "execution_count": 18,
   "metadata": {},
   "outputs": [
    {
     "name": "stdout",
     "output_type": "stream",
     "text": [
      "[10211, 10223, 10243, 10247, 10253, 10259, 10267, 10271, 10273, 10289, 10301, 10303, 10313, 10321, 10331, 10333, 10337, 10343, 10357, 10369, 10391, 10399]\n"
     ]
    }
   ],
   "source": [
    "teste2 = LegendreConjecture(101)\n",
    "print (teste2)"
   ]
  },
  {
   "cell_type": "markdown",
   "metadata": {},
   "source": [
    "## Classe de leitura de arquivo\n",
    "\n",
    "Crie uma classe que\n",
    "\n",
    "        > crie um método que tenta ler um arquivo de texto (.txt)\n",
    "        > crie um método usando regex para extrair datas do texto. Considere apenas os dois tipos: dd/mm/aaaa e d/m/aa\n",
    "        > crie um método que utilize Counter para contar a quantidade de cada caracter"
   ]
  },
  {
   "cell_type": "code",
   "execution_count": 56,
   "metadata": {},
   "outputs": [],
   "source": [
    "import re # regular expressions\n",
    "import collections #high performance containers\n",
    "\n",
    "\n",
    "class ExtractTextInformation():\n",
    "    def __init__(self,file_txt):\n",
    "        try:\n",
    "            self.file_txt = open(file_txt)\n",
    "        except:\n",
    "            print('O arquivo não é um txt válido => %s' % (file_txt))\n",
    "            \n",
    "    def read_file(self):\n",
    "        print(self.file_txt.read())\n",
    "    \n",
    "    def date(self):\n",
    "        if self.file_txt:\n",
    "            print(re.findall(\"\\d{1,2}/\\d{1,2}/\\d{2,4}\",self.file_txt.read()))\n",
    "   \n",
    "    def count_char(self):\n",
    "        print(collections.Counter(self.file_txt.read()))\n",
    "\n",
    "    \n",
    "    \"\"\"classe que extrai informações de um texto.\n",
    "    \n",
    "    implementa o método __init__ e os três métodos acima mencionados \"\"\""
   ]
  },
  {
   "cell_type": "code",
   "execution_count": 57,
   "metadata": {},
   "outputs": [
    {
     "name": "stdout",
     "output_type": "stream",
     "text": [
      "Hello everyone. How’s everybody doing today? I’m here with students at Wakefield High School in Arlington, Virginia. And we’ve got students tuning in from all across America, kindergarten through 12th grade. I’m glad you all could join us today.\n",
      "\n",
      "I know that for many of you, today is the first day of school. And for those of you in kindergarten, or starting middle or high school, it’s your first day in a new school, so it’s understandable if you’re a little nervous. I imagine there are some seniors out there who are feeling pretty good right now, with just one more year to go. And no matter what grade you’re in, some of you are probably wishing it were still summer, and you could’ve stayed in bed just a little longer this morning.\n",
      "\n",
      "I know that feeling. When I was young, my family lived in Indonesia for a few years, and my mother didn’t have the money to send me where all the American kids went to school. So she decided to teach me extra lessons herself, Monday through Friday, at 4:30 in the morning.\n"
     ]
    }
   ],
   "source": [
    "# testando função de ler o arquivo txt (o arquivo do exemplo está no zip postado)\n",
    "ExtractTextInformation(\"Example_Obama_Speech.txt\").read_file()\n"
   ]
  },
  {
   "cell_type": "code",
   "execution_count": 58,
   "metadata": {},
   "outputs": [
    {
     "name": "stdout",
     "output_type": "stream",
     "text": [
      "['11/02/1983', '13/02/2013', '05/08/2017', '31/12/1984']\n"
     ]
    }
   ],
   "source": [
    "# testando função de extrair datas do arquivo txt (o arquivo do exemplo está no zip postado)\n",
    "ExtractTextInformation(\"Datas_Nascimento.txt\").date()\n"
   ]
  },
  {
   "cell_type": "code",
   "execution_count": 59,
   "metadata": {},
   "outputs": [
    {
     "name": "stdout",
     "output_type": "stream",
     "text": [
      "Counter({'z': 122, 'a': 22, 'A': 19, 'b': 19, 'c': 19, '\\n': 12, ' ': 4, 'r': 3, 'n': 3, 'e': 3, '3': 3, 'u': 2, 'd': 2, 'i': 2, 't': 2, '6': 2, 'o': 2, 'j': 1, 'v': 1, 'R': 1, 'M': 1, '4': 1, 'D': 1, 's': 1, 'f': 1, '1': 1, 'P': 1, 'y': 1, 'h': 1})\n"
     ]
    }
   ],
   "source": [
    "# testando função de contar caracteres do arquivo txt (o arquivo do exemplo está no zip postado)\n",
    "ExtractTextInformation(\"Contar_Caractere.txt\").count_char()\n"
   ]
  },
  {
   "cell_type": "code",
   "execution_count": null,
   "metadata": {},
   "outputs": [],
   "source": []
  }
 ],
 "metadata": {
  "kernelspec": {
   "display_name": "Python 3",
   "language": "python",
   "name": "python3"
  },
  "language_info": {
   "codemirror_mode": {
    "name": "ipython",
    "version": 3
   },
   "file_extension": ".py",
   "mimetype": "text/x-python",
   "name": "python",
   "nbconvert_exporter": "python",
   "pygments_lexer": "ipython3",
   "version": "3.7.4"
  }
 },
 "nbformat": 4,
 "nbformat_minor": 4
}
