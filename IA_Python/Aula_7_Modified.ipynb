{
 "cells": [
  {
   "cell_type": "markdown",
   "metadata": {},
   "source": [
    "# Regressão Linear Univariada"
   ]
  },
  {
   "cell_type": "code",
   "execution_count": 2,
   "metadata": {},
   "outputs": [],
   "source": [
    "import pandas as pd # para leitura de base de dados e manipulação de data frame\n",
    "import numpy as np # para álgebra linear\n",
    "import altair as alt # para plotar gráficos"
   ]
  },
  {
   "cell_type": "code",
   "execution_count": 24,
   "metadata": {},
   "outputs": [],
   "source": [
    "class LinearRegression():\n",
    "    \n",
    "    def __init__(self,alpha,iterations):\n",
    "        self.alpha = alpha\n",
    "        self.iterations = iterations\n",
    "    \n",
    "    def cost_function(self,X,y,theta):\n",
    "        m = len(y) #número de amostras\n",
    "        J = 0 # custo\n",
    "        \n",
    "        for i in range(m):\n",
    "            J = J + np.power((theta[0] + theta[1] * X[1][i] - y[i]),2)\n",
    "        \n",
    "        return J*(1/(2*m))\n",
    "    \n",
    "    def gradient_descent(self,X,y,theta):\n",
    "        #import pdb; pdb.set_trace() #Modo Debug (usar para fazer debug - usando n e as variáveis)\n",
    "        m = len(y)\n",
    "        J_history = np.zeros(self.iterations)\n",
    "        temp0 = 0\n",
    "        temp1 = 0\n",
    "        \n",
    "        for k in range(self.iterations):\n",
    "        \n",
    "            for i in range(m):\n",
    "                temp0 = temp0 - self.alpha * (1/m * (theta[0] + theta[1] * X[1][i] - y[i]))\n",
    "                temp1 = temp1 - self.alpha * (1/m * (theta[0] + theta[1] * X[1][i] - y[i]))*X[1][i]\n",
    "                theta[0] = temp0\n",
    "                theta[1] = temp1\n",
    "                \n",
    "            J_history[k] = self.cost_function(X,y,theta)\n",
    "    \n",
    "        return theta,J_history"
   ]
  },
  {
   "cell_type": "code",
   "execution_count": 4,
   "metadata": {},
   "outputs": [],
   "source": [
    "# se estiver usando google colab\n",
    "# from google.colab import drive\n",
    "# drive.mount('/content/drive')"
   ]
  },
  {
   "cell_type": "code",
   "execution_count": 5,
   "metadata": {},
   "outputs": [],
   "source": [
    "# data = pd.read_csv('/content/drive/My Drive/datasets/profit.txt',header=None,names=['size','profit'])\n",
    "# data.head()"
   ]
  },
  {
   "cell_type": "code",
   "execution_count": 7,
   "metadata": {},
   "outputs": [
    {
     "data": {
      "text/html": [
       "<div>\n",
       "<style scoped>\n",
       "    .dataframe tbody tr th:only-of-type {\n",
       "        vertical-align: middle;\n",
       "    }\n",
       "\n",
       "    .dataframe tbody tr th {\n",
       "        vertical-align: top;\n",
       "    }\n",
       "\n",
       "    .dataframe thead th {\n",
       "        text-align: right;\n",
       "    }\n",
       "</style>\n",
       "<table border=\"1\" class=\"dataframe\">\n",
       "  <thead>\n",
       "    <tr style=\"text-align: right;\">\n",
       "      <th></th>\n",
       "      <th>size</th>\n",
       "      <th>profit</th>\n",
       "    </tr>\n",
       "  </thead>\n",
       "  <tbody>\n",
       "    <tr>\n",
       "      <th>0</th>\n",
       "      <td>6.1101</td>\n",
       "      <td>17.5920</td>\n",
       "    </tr>\n",
       "    <tr>\n",
       "      <th>1</th>\n",
       "      <td>5.5277</td>\n",
       "      <td>9.1302</td>\n",
       "    </tr>\n",
       "    <tr>\n",
       "      <th>2</th>\n",
       "      <td>8.5186</td>\n",
       "      <td>13.6620</td>\n",
       "    </tr>\n",
       "    <tr>\n",
       "      <th>3</th>\n",
       "      <td>7.0032</td>\n",
       "      <td>11.8540</td>\n",
       "    </tr>\n",
       "    <tr>\n",
       "      <th>4</th>\n",
       "      <td>5.8598</td>\n",
       "      <td>6.8233</td>\n",
       "    </tr>\n",
       "  </tbody>\n",
       "</table>\n",
       "</div>"
      ],
      "text/plain": [
       "     size   profit\n",
       "0  6.1101  17.5920\n",
       "1  5.5277   9.1302\n",
       "2  8.5186  13.6620\n",
       "3  7.0032  11.8540\n",
       "4  5.8598   6.8233"
      ]
     },
     "execution_count": 7,
     "metadata": {},
     "output_type": "execute_result"
    }
   ],
   "source": [
    "data = pd.read_csv('profit.txt',header=None,names=['size','profit']) # faz a leitura dos dados\n",
    "data.head() #mostra as 5 primeiras linhas"
   ]
  },
  {
   "cell_type": "code",
   "execution_count": 8,
   "metadata": {},
   "outputs": [
    {
     "data": {
      "text/html": [
       "\n",
       "<div id=\"altair-viz-59b7b6ccc5864622b7b8e4e847997199\"></div>\n",
       "<script type=\"text/javascript\">\n",
       "  (function(spec, embedOpt){\n",
       "    const outputDiv = document.getElementById(\"altair-viz-59b7b6ccc5864622b7b8e4e847997199\");\n",
       "    const paths = {\n",
       "      \"vega\": \"https://cdn.jsdelivr.net/npm//vega@5?noext\",\n",
       "      \"vega-lib\": \"https://cdn.jsdelivr.net/npm//vega-lib?noext\",\n",
       "      \"vega-lite\": \"https://cdn.jsdelivr.net/npm//vega-lite@4.0.2?noext\",\n",
       "      \"vega-embed\": \"https://cdn.jsdelivr.net/npm//vega-embed@6?noext\",\n",
       "    };\n",
       "\n",
       "    function loadScript(lib) {\n",
       "      return new Promise(function(resolve, reject) {\n",
       "        var s = document.createElement('script');\n",
       "        s.src = paths[lib];\n",
       "        s.async = true;\n",
       "        s.onload = () => resolve(paths[lib]);\n",
       "        s.onerror = () => reject(`Error loading script: ${paths[lib]}`);\n",
       "        document.getElementsByTagName(\"head\")[0].appendChild(s);\n",
       "      });\n",
       "    }\n",
       "\n",
       "    function showError(err) {\n",
       "      outputDiv.innerHTML = `<div class=\"error\" style=\"color:red;\">${err}</div>`;\n",
       "      throw err;\n",
       "    }\n",
       "\n",
       "    function displayChart(vegaEmbed) {\n",
       "      vegaEmbed(outputDiv, spec, embedOpt)\n",
       "        .catch(err => showError(`Javascript Error: ${err.message}<br>This usually means there's a typo in your chart specification. See the javascript console for the full traceback.`));\n",
       "    }\n",
       "\n",
       "    if(typeof define === \"function\" && define.amd) {\n",
       "      requirejs.config({paths});\n",
       "      require([\"vega-embed\"], displayChart, err => showError(`Error loading script: ${err.message}`));\n",
       "    } else if (typeof vegaEmbed === \"function\") {\n",
       "      displayChart(vegaEmbed);\n",
       "    } else {\n",
       "      loadScript(\"vega\")\n",
       "        .then(() => loadScript(\"vega-lite\"))\n",
       "        .then(() => loadScript(\"vega-embed\"))\n",
       "        .catch(showError)\n",
       "        .then(() => displayChart(vegaEmbed));\n",
       "    }\n",
       "  })({\"config\": {\"view\": {\"continuousWidth\": 400, \"continuousHeight\": 300}}, \"data\": {\"name\": \"data-37f65c8fda6bacbf3ae7a4de926b4d56\"}, \"mark\": {\"type\": \"circle\", \"size\": 60}, \"encoding\": {\"x\": {\"type\": \"quantitative\", \"field\": \"size\"}, \"y\": {\"type\": \"quantitative\", \"field\": \"profit\"}}, \"$schema\": \"https://vega.github.io/schema/vega-lite/v4.0.2.json\", \"datasets\": {\"data-37f65c8fda6bacbf3ae7a4de926b4d56\": [{\"size\": 6.1101, \"profit\": 17.592}, {\"size\": 5.5277, \"profit\": 9.1302}, {\"size\": 8.5186, \"profit\": 13.662}, {\"size\": 7.0032, \"profit\": 11.854000000000001}, {\"size\": 5.8598, \"profit\": 6.8233}, {\"size\": 8.3829, \"profit\": 11.886}, {\"size\": 7.4764, \"profit\": 4.3483}, {\"size\": 8.5781, \"profit\": 12.0}, {\"size\": 6.4862, \"profit\": 6.5987}, {\"size\": 5.0546, \"profit\": 3.8166}, {\"size\": 5.7107, \"profit\": 3.2522}, {\"size\": 14.164000000000001, \"profit\": 15.505}, {\"size\": 5.734, \"profit\": 3.1551}, {\"size\": 8.4084, \"profit\": 7.2258}, {\"size\": 5.6407, \"profit\": 0.71618}, {\"size\": 5.3794, \"profit\": 3.5129}, {\"size\": 6.3654, \"profit\": 5.3048}, {\"size\": 5.1301, \"profit\": 0.56077}, {\"size\": 6.4296, \"profit\": 3.6518}, {\"size\": 7.0708, \"profit\": 5.3893}, {\"size\": 6.1891, \"profit\": 3.1386}, {\"size\": 20.27, \"profit\": 21.767}, {\"size\": 5.4901, \"profit\": 4.263}, {\"size\": 6.3261, \"profit\": 5.1875}, {\"size\": 5.5649, \"profit\": 3.0825}, {\"size\": 18.945, \"profit\": 22.638}, {\"size\": 12.828, \"profit\": 13.501}, {\"size\": 10.957, \"profit\": 7.0467}, {\"size\": 13.175999999999998, \"profit\": 14.692}, {\"size\": 22.203000000000003, \"profit\": 24.147}, {\"size\": 5.2524, \"profit\": -1.22}, {\"size\": 6.5894, \"profit\": 5.9966}, {\"size\": 9.2482, \"profit\": 12.134}, {\"size\": 5.8918, \"profit\": 1.8495}, {\"size\": 8.2111, \"profit\": 6.5426}, {\"size\": 7.9334, \"profit\": 4.5623}, {\"size\": 8.0959, \"profit\": 4.1164}, {\"size\": 5.6063, \"profit\": 3.3928}, {\"size\": 12.835999999999999, \"profit\": 10.117}, {\"size\": 6.3534, \"profit\": 5.4974}, {\"size\": 5.4069, \"profit\": 0.55657}, {\"size\": 6.8825, \"profit\": 3.9115}, {\"size\": 11.708, \"profit\": 5.3854}, {\"size\": 5.7737, \"profit\": 2.4406}, {\"size\": 7.8247, \"profit\": 6.7318}, {\"size\": 7.0931, \"profit\": 1.0463}, {\"size\": 5.0702, \"profit\": 5.1337}, {\"size\": 5.8014, \"profit\": 1.844}, {\"size\": 11.7, \"profit\": 8.0043}, {\"size\": 5.5416, \"profit\": 1.0179}, {\"size\": 7.5402, \"profit\": 6.7504}, {\"size\": 5.3077, \"profit\": 1.8396}, {\"size\": 7.4239, \"profit\": 4.2885}, {\"size\": 7.6031, \"profit\": 4.9981}, {\"size\": 6.3328, \"profit\": 1.4233}, {\"size\": 6.3589, \"profit\": -1.4211}, {\"size\": 6.2742, \"profit\": 2.4756}, {\"size\": 5.6397, \"profit\": 4.6042}, {\"size\": 9.3102, \"profit\": 3.9624}, {\"size\": 9.4536, \"profit\": 5.4141}, {\"size\": 8.8254, \"profit\": 5.1694}, {\"size\": 5.1793, \"profit\": -0.74279}, {\"size\": 21.279, \"profit\": 17.929000000000002}, {\"size\": 14.908, \"profit\": 12.054}, {\"size\": 18.959, \"profit\": 17.054000000000002}, {\"size\": 7.2182, \"profit\": 4.8852}, {\"size\": 8.2951, \"profit\": 5.7442}, {\"size\": 10.236, \"profit\": 7.7754}, {\"size\": 5.4994, \"profit\": 1.0173}, {\"size\": 20.340999999999998, \"profit\": 20.991999999999997}, {\"size\": 10.136000000000001, \"profit\": 6.6799}, {\"size\": 7.3345, \"profit\": 4.0259}, {\"size\": 6.0062, \"profit\": 1.2784}, {\"size\": 7.2259, \"profit\": 3.3411}, {\"size\": 5.0269, \"profit\": -2.6807}, {\"size\": 6.5479, \"profit\": 0.29678000000000004}, {\"size\": 7.5386, \"profit\": 3.8845}, {\"size\": 5.0365, \"profit\": 5.7014}, {\"size\": 10.274000000000001, \"profit\": 6.7526}, {\"size\": 5.1077, \"profit\": 2.0576}, {\"size\": 5.7292, \"profit\": 0.47953}, {\"size\": 5.1884, \"profit\": 0.20421}, {\"size\": 6.3557, \"profit\": 0.67861}, {\"size\": 9.7687, \"profit\": 7.5435}, {\"size\": 6.5159, \"profit\": 5.3436}, {\"size\": 8.5172, \"profit\": 4.2415}, {\"size\": 9.1802, \"profit\": 6.7981}, {\"size\": 6.002000000000001, \"profit\": 0.92695}, {\"size\": 5.5204, \"profit\": 0.152}, {\"size\": 5.0594, \"profit\": 2.8214}, {\"size\": 5.7077, \"profit\": 1.8451}, {\"size\": 7.6366, \"profit\": 4.2959}, {\"size\": 5.8707, \"profit\": 7.2029}, {\"size\": 5.3054, \"profit\": 1.9869}, {\"size\": 8.2934, \"profit\": 0.14454}, {\"size\": 13.394, \"profit\": 9.0551}, {\"size\": 5.4369, \"profit\": 0.61705}]}}, {\"mode\": \"vega-lite\"});\n",
       "</script>"
      ],
      "text/plain": [
       "alt.Chart(...)"
      ]
     },
     "execution_count": 8,
     "metadata": {},
     "output_type": "execute_result"
    }
   ],
   "source": [
    "data_plot = alt.Chart(data).mark_circle(size=60).encode(\n",
    "    x='size:Q',\n",
    "    y='profit:Q'\n",
    ")\n",
    "data_plot"
   ]
  },
  {
   "cell_type": "code",
   "execution_count": 9,
   "metadata": {},
   "outputs": [],
   "source": [
    "#Preparando os dados\n",
    "x = data.iloc[0:,0:1] #dados de treinamento\n",
    "ones = np.ones(len(data)) \n",
    "x.insert(0,len(x.columns) + 1,ones)\n",
    "y = data.iloc[:,1]\n",
    "theta = np.zeros(len(x.columns))\n",
    "x.columns = range(x.shape[1])"
   ]
  },
  {
   "cell_type": "code",
   "execution_count": 10,
   "metadata": {},
   "outputs": [
    {
     "data": {
      "text/html": [
       "<div>\n",
       "<style scoped>\n",
       "    .dataframe tbody tr th:only-of-type {\n",
       "        vertical-align: middle;\n",
       "    }\n",
       "\n",
       "    .dataframe tbody tr th {\n",
       "        vertical-align: top;\n",
       "    }\n",
       "\n",
       "    .dataframe thead th {\n",
       "        text-align: right;\n",
       "    }\n",
       "</style>\n",
       "<table border=\"1\" class=\"dataframe\">\n",
       "  <thead>\n",
       "    <tr style=\"text-align: right;\">\n",
       "      <th></th>\n",
       "      <th>0</th>\n",
       "      <th>1</th>\n",
       "    </tr>\n",
       "  </thead>\n",
       "  <tbody>\n",
       "    <tr>\n",
       "      <th>0</th>\n",
       "      <td>1.0</td>\n",
       "      <td>6.1101</td>\n",
       "    </tr>\n",
       "    <tr>\n",
       "      <th>1</th>\n",
       "      <td>1.0</td>\n",
       "      <td>5.5277</td>\n",
       "    </tr>\n",
       "    <tr>\n",
       "      <th>2</th>\n",
       "      <td>1.0</td>\n",
       "      <td>8.5186</td>\n",
       "    </tr>\n",
       "    <tr>\n",
       "      <th>3</th>\n",
       "      <td>1.0</td>\n",
       "      <td>7.0032</td>\n",
       "    </tr>\n",
       "    <tr>\n",
       "      <th>4</th>\n",
       "      <td>1.0</td>\n",
       "      <td>5.8598</td>\n",
       "    </tr>\n",
       "    <tr>\n",
       "      <th>...</th>\n",
       "      <td>...</td>\n",
       "      <td>...</td>\n",
       "    </tr>\n",
       "    <tr>\n",
       "      <th>92</th>\n",
       "      <td>1.0</td>\n",
       "      <td>5.8707</td>\n",
       "    </tr>\n",
       "    <tr>\n",
       "      <th>93</th>\n",
       "      <td>1.0</td>\n",
       "      <td>5.3054</td>\n",
       "    </tr>\n",
       "    <tr>\n",
       "      <th>94</th>\n",
       "      <td>1.0</td>\n",
       "      <td>8.2934</td>\n",
       "    </tr>\n",
       "    <tr>\n",
       "      <th>95</th>\n",
       "      <td>1.0</td>\n",
       "      <td>13.3940</td>\n",
       "    </tr>\n",
       "    <tr>\n",
       "      <th>96</th>\n",
       "      <td>1.0</td>\n",
       "      <td>5.4369</td>\n",
       "    </tr>\n",
       "  </tbody>\n",
       "</table>\n",
       "<p>97 rows × 2 columns</p>\n",
       "</div>"
      ],
      "text/plain": [
       "      0        1\n",
       "0   1.0   6.1101\n",
       "1   1.0   5.5277\n",
       "2   1.0   8.5186\n",
       "3   1.0   7.0032\n",
       "4   1.0   5.8598\n",
       "..  ...      ...\n",
       "92  1.0   5.8707\n",
       "93  1.0   5.3054\n",
       "94  1.0   8.2934\n",
       "95  1.0  13.3940\n",
       "96  1.0   5.4369\n",
       "\n",
       "[97 rows x 2 columns]"
      ]
     },
     "execution_count": 10,
     "metadata": {},
     "output_type": "execute_result"
    }
   ],
   "source": [
    "x"
   ]
  },
  {
   "cell_type": "code",
   "execution_count": 12,
   "metadata": {},
   "outputs": [
    {
     "name": "stdout",
     "output_type": "stream",
     "text": [
      "> <ipython-input-11-a7f9c7965354>(18)gradient_descent()\n",
      "-> m = len(y)\n"
     ]
    },
    {
     "name": "stdin",
     "output_type": "stream",
     "text": [
      "(Pdb)  \n",
      "(Pdb)  n\n"
     ]
    },
    {
     "name": "stdout",
     "output_type": "stream",
     "text": [
      "> <ipython-input-11-a7f9c7965354>(19)gradient_descent()\n",
      "-> J_history = np.zeros(self.iterations)\n"
     ]
    },
    {
     "name": "stdin",
     "output_type": "stream",
     "text": [
      "(Pdb)  m\n"
     ]
    },
    {
     "name": "stdout",
     "output_type": "stream",
     "text": [
      "97\n"
     ]
    },
    {
     "name": "stdin",
     "output_type": "stream",
     "text": [
      "(Pdb)  n\n"
     ]
    },
    {
     "name": "stdout",
     "output_type": "stream",
     "text": [
      "> <ipython-input-11-a7f9c7965354>(20)gradient_descent()\n",
      "-> temp0 = 0\n"
     ]
    },
    {
     "name": "stdin",
     "output_type": "stream",
     "text": [
      "(Pdb)  J_history\n"
     ]
    },
    {
     "name": "stdout",
     "output_type": "stream",
     "text": [
      "array([0., 0., 0., ..., 0., 0., 0.])\n"
     ]
    },
    {
     "name": "stdin",
     "output_type": "stream",
     "text": [
      "(Pdb)  \n"
     ]
    },
    {
     "name": "stdout",
     "output_type": "stream",
     "text": [
      "array([0., 0., 0., ..., 0., 0., 0.])\n"
     ]
    },
    {
     "name": "stdin",
     "output_type": "stream",
     "text": [
      "(Pdb)  1500\n"
     ]
    },
    {
     "name": "stdout",
     "output_type": "stream",
     "text": [
      "1500\n"
     ]
    },
    {
     "name": "stdin",
     "output_type": "stream",
     "text": [
      "(Pdb)  n\n"
     ]
    },
    {
     "name": "stdout",
     "output_type": "stream",
     "text": [
      "> <ipython-input-11-a7f9c7965354>(21)gradient_descent()\n",
      "-> temp1 = 0\n"
     ]
    },
    {
     "name": "stdin",
     "output_type": "stream",
     "text": [
      "(Pdb)  n\n"
     ]
    },
    {
     "name": "stdout",
     "output_type": "stream",
     "text": [
      "> <ipython-input-11-a7f9c7965354>(23)gradient_descent()\n",
      "-> for k in range(self.iterations):\n"
     ]
    },
    {
     "name": "stdin",
     "output_type": "stream",
     "text": [
      "(Pdb)  n\n"
     ]
    },
    {
     "name": "stdout",
     "output_type": "stream",
     "text": [
      "> <ipython-input-11-a7f9c7965354>(25)gradient_descent()\n",
      "-> for i in range(m):\n"
     ]
    },
    {
     "name": "stdin",
     "output_type": "stream",
     "text": [
      "(Pdb)  n\n"
     ]
    },
    {
     "name": "stdout",
     "output_type": "stream",
     "text": [
      "> <ipython-input-11-a7f9c7965354>(26)gradient_descent()\n",
      "-> temp0 = temp0 - self.alpha * (1/m * (theta[0] + theta[1] * X[1][i] - y[i]))\n"
     ]
    },
    {
     "name": "stdin",
     "output_type": "stream",
     "text": [
      "(Pdb)  self.alpha\n"
     ]
    },
    {
     "name": "stdout",
     "output_type": "stream",
     "text": [
      "0.01\n"
     ]
    },
    {
     "name": "stdin",
     "output_type": "stream",
     "text": [
      "(Pdb)  x[1][i]\n"
     ]
    },
    {
     "name": "stdout",
     "output_type": "stream",
     "text": [
      "6.1101\n"
     ]
    },
    {
     "name": "stdin",
     "output_type": "stream",
     "text": [
      "(Pdb)  y[i]\n"
     ]
    },
    {
     "name": "stdout",
     "output_type": "stream",
     "text": [
      "17.592\n"
     ]
    },
    {
     "name": "stdin",
     "output_type": "stream",
     "text": [
      "(Pdb)  n\n"
     ]
    },
    {
     "name": "stdout",
     "output_type": "stream",
     "text": [
      "> <ipython-input-11-a7f9c7965354>(27)gradient_descent()\n",
      "-> temp1 = temp1 - self.alpha * (1/m * (theta[0] + theta[1] * X[1][i] - y[i]))*X[1][i]\n"
     ]
    },
    {
     "name": "stdin",
     "output_type": "stream",
     "text": [
      "(Pdb)  temp0\n"
     ]
    },
    {
     "name": "stdout",
     "output_type": "stream",
     "text": [
      "0.0018136082474226804\n"
     ]
    },
    {
     "name": "stdin",
     "output_type": "stream",
     "text": [
      "(Pdb)  temp1\n"
     ]
    },
    {
     "name": "stdout",
     "output_type": "stream",
     "text": [
      "0\n"
     ]
    },
    {
     "name": "stdin",
     "output_type": "stream",
     "text": [
      "(Pdb)  theta[0]=temp0\n",
      "(Pdb)  n\n"
     ]
    },
    {
     "name": "stdout",
     "output_type": "stream",
     "text": [
      "> <ipython-input-11-a7f9c7965354>(28)gradient_descent()\n",
      "-> theta[0] = temp0\n"
     ]
    },
    {
     "name": "stdin",
     "output_type": "stream",
     "text": [
      "(Pdb)  temp1\n"
     ]
    },
    {
     "name": "stdout",
     "output_type": "stream",
     "text": [
      "0.011080185347654372\n"
     ]
    },
    {
     "name": "stdin",
     "output_type": "stream",
     "text": [
      "(Pdb)  q\n"
     ]
    },
    {
     "ename": "BdbQuit",
     "evalue": "",
     "output_type": "error",
     "traceback": [
      "\u001b[1;31m---------------------------------------------------------------------------\u001b[0m",
      "\u001b[1;31mBdbQuit\u001b[0m                                   Traceback (most recent call last)",
      "\u001b[1;32m<ipython-input-12-33ae0819f452>\u001b[0m in \u001b[0;36m<module>\u001b[1;34m\u001b[0m\n\u001b[0;32m      2\u001b[0m \u001b[0malpha\u001b[0m \u001b[1;33m=\u001b[0m \u001b[1;36m0.01\u001b[0m\u001b[1;33m\u001b[0m\u001b[1;33m\u001b[0m\u001b[0m\n\u001b[0;32m      3\u001b[0m \u001b[0mlr\u001b[0m \u001b[1;33m=\u001b[0m \u001b[0mLinearRegression\u001b[0m\u001b[1;33m(\u001b[0m\u001b[0malpha\u001b[0m\u001b[1;33m,\u001b[0m\u001b[0miterations\u001b[0m\u001b[1;33m)\u001b[0m\u001b[1;33m\u001b[0m\u001b[1;33m\u001b[0m\u001b[0m\n\u001b[1;32m----> 4\u001b[1;33m \u001b[0mlr\u001b[0m\u001b[1;33m.\u001b[0m\u001b[0mgradient_descent\u001b[0m\u001b[1;33m(\u001b[0m\u001b[0mx\u001b[0m\u001b[1;33m,\u001b[0m\u001b[0my\u001b[0m\u001b[1;33m,\u001b[0m\u001b[0mtheta\u001b[0m\u001b[1;33m)\u001b[0m\u001b[1;33m\u001b[0m\u001b[1;33m\u001b[0m\u001b[0m\n\u001b[0m",
      "\u001b[1;32m<ipython-input-11-a7f9c7965354>\u001b[0m in \u001b[0;36mgradient_descent\u001b[1;34m(self, X, y, theta)\u001b[0m\n\u001b[0;32m     26\u001b[0m                 \u001b[0mtemp0\u001b[0m \u001b[1;33m=\u001b[0m \u001b[0mtemp0\u001b[0m \u001b[1;33m-\u001b[0m \u001b[0mself\u001b[0m\u001b[1;33m.\u001b[0m\u001b[0malpha\u001b[0m \u001b[1;33m*\u001b[0m \u001b[1;33m(\u001b[0m\u001b[1;36m1\u001b[0m\u001b[1;33m/\u001b[0m\u001b[0mm\u001b[0m \u001b[1;33m*\u001b[0m \u001b[1;33m(\u001b[0m\u001b[0mtheta\u001b[0m\u001b[1;33m[\u001b[0m\u001b[1;36m0\u001b[0m\u001b[1;33m]\u001b[0m \u001b[1;33m+\u001b[0m \u001b[0mtheta\u001b[0m\u001b[1;33m[\u001b[0m\u001b[1;36m1\u001b[0m\u001b[1;33m]\u001b[0m \u001b[1;33m*\u001b[0m \u001b[0mX\u001b[0m\u001b[1;33m[\u001b[0m\u001b[1;36m1\u001b[0m\u001b[1;33m]\u001b[0m\u001b[1;33m[\u001b[0m\u001b[0mi\u001b[0m\u001b[1;33m]\u001b[0m \u001b[1;33m-\u001b[0m \u001b[0my\u001b[0m\u001b[1;33m[\u001b[0m\u001b[0mi\u001b[0m\u001b[1;33m]\u001b[0m\u001b[1;33m)\u001b[0m\u001b[1;33m)\u001b[0m\u001b[1;33m\u001b[0m\u001b[1;33m\u001b[0m\u001b[0m\n\u001b[0;32m     27\u001b[0m                 \u001b[0mtemp1\u001b[0m \u001b[1;33m=\u001b[0m \u001b[0mtemp1\u001b[0m \u001b[1;33m-\u001b[0m \u001b[0mself\u001b[0m\u001b[1;33m.\u001b[0m\u001b[0malpha\u001b[0m \u001b[1;33m*\u001b[0m \u001b[1;33m(\u001b[0m\u001b[1;36m1\u001b[0m\u001b[1;33m/\u001b[0m\u001b[0mm\u001b[0m \u001b[1;33m*\u001b[0m \u001b[1;33m(\u001b[0m\u001b[0mtheta\u001b[0m\u001b[1;33m[\u001b[0m\u001b[1;36m0\u001b[0m\u001b[1;33m]\u001b[0m \u001b[1;33m+\u001b[0m \u001b[0mtheta\u001b[0m\u001b[1;33m[\u001b[0m\u001b[1;36m1\u001b[0m\u001b[1;33m]\u001b[0m \u001b[1;33m*\u001b[0m \u001b[0mX\u001b[0m\u001b[1;33m[\u001b[0m\u001b[1;36m1\u001b[0m\u001b[1;33m]\u001b[0m\u001b[1;33m[\u001b[0m\u001b[0mi\u001b[0m\u001b[1;33m]\u001b[0m \u001b[1;33m-\u001b[0m \u001b[0my\u001b[0m\u001b[1;33m[\u001b[0m\u001b[0mi\u001b[0m\u001b[1;33m]\u001b[0m\u001b[1;33m)\u001b[0m\u001b[1;33m)\u001b[0m\u001b[1;33m*\u001b[0m\u001b[0mX\u001b[0m\u001b[1;33m[\u001b[0m\u001b[1;36m1\u001b[0m\u001b[1;33m]\u001b[0m\u001b[1;33m[\u001b[0m\u001b[0mi\u001b[0m\u001b[1;33m]\u001b[0m\u001b[1;33m\u001b[0m\u001b[1;33m\u001b[0m\u001b[0m\n\u001b[1;32m---> 28\u001b[1;33m                 \u001b[0mtheta\u001b[0m\u001b[1;33m[\u001b[0m\u001b[1;36m0\u001b[0m\u001b[1;33m]\u001b[0m \u001b[1;33m=\u001b[0m \u001b[0mtemp0\u001b[0m\u001b[1;33m\u001b[0m\u001b[1;33m\u001b[0m\u001b[0m\n\u001b[0m\u001b[0;32m     29\u001b[0m                 \u001b[0mtheta\u001b[0m\u001b[1;33m[\u001b[0m\u001b[1;36m1\u001b[0m\u001b[1;33m]\u001b[0m \u001b[1;33m=\u001b[0m \u001b[0mtemp1\u001b[0m\u001b[1;33m\u001b[0m\u001b[1;33m\u001b[0m\u001b[0m\n\u001b[0;32m     30\u001b[0m \u001b[1;33m\u001b[0m\u001b[0m\n",
      "\u001b[1;32m<ipython-input-11-a7f9c7965354>\u001b[0m in \u001b[0;36mgradient_descent\u001b[1;34m(self, X, y, theta)\u001b[0m\n\u001b[0;32m     26\u001b[0m                 \u001b[0mtemp0\u001b[0m \u001b[1;33m=\u001b[0m \u001b[0mtemp0\u001b[0m \u001b[1;33m-\u001b[0m \u001b[0mself\u001b[0m\u001b[1;33m.\u001b[0m\u001b[0malpha\u001b[0m \u001b[1;33m*\u001b[0m \u001b[1;33m(\u001b[0m\u001b[1;36m1\u001b[0m\u001b[1;33m/\u001b[0m\u001b[0mm\u001b[0m \u001b[1;33m*\u001b[0m \u001b[1;33m(\u001b[0m\u001b[0mtheta\u001b[0m\u001b[1;33m[\u001b[0m\u001b[1;36m0\u001b[0m\u001b[1;33m]\u001b[0m \u001b[1;33m+\u001b[0m \u001b[0mtheta\u001b[0m\u001b[1;33m[\u001b[0m\u001b[1;36m1\u001b[0m\u001b[1;33m]\u001b[0m \u001b[1;33m*\u001b[0m \u001b[0mX\u001b[0m\u001b[1;33m[\u001b[0m\u001b[1;36m1\u001b[0m\u001b[1;33m]\u001b[0m\u001b[1;33m[\u001b[0m\u001b[0mi\u001b[0m\u001b[1;33m]\u001b[0m \u001b[1;33m-\u001b[0m \u001b[0my\u001b[0m\u001b[1;33m[\u001b[0m\u001b[0mi\u001b[0m\u001b[1;33m]\u001b[0m\u001b[1;33m)\u001b[0m\u001b[1;33m)\u001b[0m\u001b[1;33m\u001b[0m\u001b[1;33m\u001b[0m\u001b[0m\n\u001b[0;32m     27\u001b[0m                 \u001b[0mtemp1\u001b[0m \u001b[1;33m=\u001b[0m \u001b[0mtemp1\u001b[0m \u001b[1;33m-\u001b[0m \u001b[0mself\u001b[0m\u001b[1;33m.\u001b[0m\u001b[0malpha\u001b[0m \u001b[1;33m*\u001b[0m \u001b[1;33m(\u001b[0m\u001b[1;36m1\u001b[0m\u001b[1;33m/\u001b[0m\u001b[0mm\u001b[0m \u001b[1;33m*\u001b[0m \u001b[1;33m(\u001b[0m\u001b[0mtheta\u001b[0m\u001b[1;33m[\u001b[0m\u001b[1;36m0\u001b[0m\u001b[1;33m]\u001b[0m \u001b[1;33m+\u001b[0m \u001b[0mtheta\u001b[0m\u001b[1;33m[\u001b[0m\u001b[1;36m1\u001b[0m\u001b[1;33m]\u001b[0m \u001b[1;33m*\u001b[0m \u001b[0mX\u001b[0m\u001b[1;33m[\u001b[0m\u001b[1;36m1\u001b[0m\u001b[1;33m]\u001b[0m\u001b[1;33m[\u001b[0m\u001b[0mi\u001b[0m\u001b[1;33m]\u001b[0m \u001b[1;33m-\u001b[0m \u001b[0my\u001b[0m\u001b[1;33m[\u001b[0m\u001b[0mi\u001b[0m\u001b[1;33m]\u001b[0m\u001b[1;33m)\u001b[0m\u001b[1;33m)\u001b[0m\u001b[1;33m*\u001b[0m\u001b[0mX\u001b[0m\u001b[1;33m[\u001b[0m\u001b[1;36m1\u001b[0m\u001b[1;33m]\u001b[0m\u001b[1;33m[\u001b[0m\u001b[0mi\u001b[0m\u001b[1;33m]\u001b[0m\u001b[1;33m\u001b[0m\u001b[1;33m\u001b[0m\u001b[0m\n\u001b[1;32m---> 28\u001b[1;33m                 \u001b[0mtheta\u001b[0m\u001b[1;33m[\u001b[0m\u001b[1;36m0\u001b[0m\u001b[1;33m]\u001b[0m \u001b[1;33m=\u001b[0m \u001b[0mtemp0\u001b[0m\u001b[1;33m\u001b[0m\u001b[1;33m\u001b[0m\u001b[0m\n\u001b[0m\u001b[0;32m     29\u001b[0m                 \u001b[0mtheta\u001b[0m\u001b[1;33m[\u001b[0m\u001b[1;36m1\u001b[0m\u001b[1;33m]\u001b[0m \u001b[1;33m=\u001b[0m \u001b[0mtemp1\u001b[0m\u001b[1;33m\u001b[0m\u001b[1;33m\u001b[0m\u001b[0m\n\u001b[0;32m     30\u001b[0m \u001b[1;33m\u001b[0m\u001b[0m\n",
      "\u001b[1;32mC:\\ProgramData\\Anaconda3\\lib\\bdb.py\u001b[0m in \u001b[0;36mtrace_dispatch\u001b[1;34m(self, frame, event, arg)\u001b[0m\n\u001b[0;32m     49\u001b[0m             \u001b[1;32mreturn\u001b[0m \u001b[1;31m# None\u001b[0m\u001b[1;33m\u001b[0m\u001b[1;33m\u001b[0m\u001b[0m\n\u001b[0;32m     50\u001b[0m         \u001b[1;32mif\u001b[0m \u001b[0mevent\u001b[0m \u001b[1;33m==\u001b[0m \u001b[1;34m'line'\u001b[0m\u001b[1;33m:\u001b[0m\u001b[1;33m\u001b[0m\u001b[1;33m\u001b[0m\u001b[0m\n\u001b[1;32m---> 51\u001b[1;33m             \u001b[1;32mreturn\u001b[0m \u001b[0mself\u001b[0m\u001b[1;33m.\u001b[0m\u001b[0mdispatch_line\u001b[0m\u001b[1;33m(\u001b[0m\u001b[0mframe\u001b[0m\u001b[1;33m)\u001b[0m\u001b[1;33m\u001b[0m\u001b[1;33m\u001b[0m\u001b[0m\n\u001b[0m\u001b[0;32m     52\u001b[0m         \u001b[1;32mif\u001b[0m \u001b[0mevent\u001b[0m \u001b[1;33m==\u001b[0m \u001b[1;34m'call'\u001b[0m\u001b[1;33m:\u001b[0m\u001b[1;33m\u001b[0m\u001b[1;33m\u001b[0m\u001b[0m\n\u001b[0;32m     53\u001b[0m             \u001b[1;32mreturn\u001b[0m \u001b[0mself\u001b[0m\u001b[1;33m.\u001b[0m\u001b[0mdispatch_call\u001b[0m\u001b[1;33m(\u001b[0m\u001b[0mframe\u001b[0m\u001b[1;33m,\u001b[0m \u001b[0marg\u001b[0m\u001b[1;33m)\u001b[0m\u001b[1;33m\u001b[0m\u001b[1;33m\u001b[0m\u001b[0m\n",
      "\u001b[1;32mC:\\ProgramData\\Anaconda3\\lib\\bdb.py\u001b[0m in \u001b[0;36mdispatch_line\u001b[1;34m(self, frame)\u001b[0m\n\u001b[0;32m     68\u001b[0m         \u001b[1;32mif\u001b[0m \u001b[0mself\u001b[0m\u001b[1;33m.\u001b[0m\u001b[0mstop_here\u001b[0m\u001b[1;33m(\u001b[0m\u001b[0mframe\u001b[0m\u001b[1;33m)\u001b[0m \u001b[1;32mor\u001b[0m \u001b[0mself\u001b[0m\u001b[1;33m.\u001b[0m\u001b[0mbreak_here\u001b[0m\u001b[1;33m(\u001b[0m\u001b[0mframe\u001b[0m\u001b[1;33m)\u001b[0m\u001b[1;33m:\u001b[0m\u001b[1;33m\u001b[0m\u001b[1;33m\u001b[0m\u001b[0m\n\u001b[0;32m     69\u001b[0m             \u001b[0mself\u001b[0m\u001b[1;33m.\u001b[0m\u001b[0muser_line\u001b[0m\u001b[1;33m(\u001b[0m\u001b[0mframe\u001b[0m\u001b[1;33m)\u001b[0m\u001b[1;33m\u001b[0m\u001b[1;33m\u001b[0m\u001b[0m\n\u001b[1;32m---> 70\u001b[1;33m             \u001b[1;32mif\u001b[0m \u001b[0mself\u001b[0m\u001b[1;33m.\u001b[0m\u001b[0mquitting\u001b[0m\u001b[1;33m:\u001b[0m \u001b[1;32mraise\u001b[0m \u001b[0mBdbQuit\u001b[0m\u001b[1;33m\u001b[0m\u001b[1;33m\u001b[0m\u001b[0m\n\u001b[0m\u001b[0;32m     71\u001b[0m         \u001b[1;32mreturn\u001b[0m \u001b[0mself\u001b[0m\u001b[1;33m.\u001b[0m\u001b[0mtrace_dispatch\u001b[0m\u001b[1;33m\u001b[0m\u001b[1;33m\u001b[0m\u001b[0m\n\u001b[0;32m     72\u001b[0m \u001b[1;33m\u001b[0m\u001b[0m\n",
      "\u001b[1;31mBdbQuit\u001b[0m: "
     ]
    }
   ],
   "source": [
    "iterations = 1500\n",
    "alpha = 0.01\n",
    "lr = LinearRegression(alpha,iterations)\n",
    "lr.gradient_descent(x,y,theta)"
   ]
  },
  {
   "cell_type": "code",
   "execution_count": 14,
   "metadata": {},
   "outputs": [
    {
     "name": "stdout",
     "output_type": "stream",
     "text": [
      "Custo inicial:  32.0621456185558 \n",
      "\n",
      "Valores de theta_0 e theta_1:  [-3.58838901  1.12366721]\n",
      "Custo final:  4.546073237210185\n"
     ]
    }
   ],
   "source": [
    "#treinando o modelo\n",
    "iterations = 1500\n",
    "alpha = 0.01\n",
    "lr = LinearRegression(alpha,iterations)\n",
    "custo = lr.cost_function(x,y,theta)\n",
    "print('Custo inicial: ',custo, '\\n')\n",
    "theta_lr, custo_h = lr.gradient_descent(x,y,theta)\n",
    "print('Valores de theta_0 e theta_1: ',theta_lr)\n",
    "print('Custo final: ',custo_h[-1])"
   ]
  },
  {
   "cell_type": "code",
   "execution_count": 15,
   "metadata": {},
   "outputs": [
    {
     "data": {
      "text/html": [
       "\n",
       "<div id=\"altair-viz-860f02545ea047789af8d95a0abf60fe\"></div>\n",
       "<script type=\"text/javascript\">\n",
       "  (function(spec, embedOpt){\n",
       "    const outputDiv = document.getElementById(\"altair-viz-860f02545ea047789af8d95a0abf60fe\");\n",
       "    const paths = {\n",
       "      \"vega\": \"https://cdn.jsdelivr.net/npm//vega@5?noext\",\n",
       "      \"vega-lib\": \"https://cdn.jsdelivr.net/npm//vega-lib?noext\",\n",
       "      \"vega-lite\": \"https://cdn.jsdelivr.net/npm//vega-lite@4.0.2?noext\",\n",
       "      \"vega-embed\": \"https://cdn.jsdelivr.net/npm//vega-embed@6?noext\",\n",
       "    };\n",
       "\n",
       "    function loadScript(lib) {\n",
       "      return new Promise(function(resolve, reject) {\n",
       "        var s = document.createElement('script');\n",
       "        s.src = paths[lib];\n",
       "        s.async = true;\n",
       "        s.onload = () => resolve(paths[lib]);\n",
       "        s.onerror = () => reject(`Error loading script: ${paths[lib]}`);\n",
       "        document.getElementsByTagName(\"head\")[0].appendChild(s);\n",
       "      });\n",
       "    }\n",
       "\n",
       "    function showError(err) {\n",
       "      outputDiv.innerHTML = `<div class=\"error\" style=\"color:red;\">${err}</div>`;\n",
       "      throw err;\n",
       "    }\n",
       "\n",
       "    function displayChart(vegaEmbed) {\n",
       "      vegaEmbed(outputDiv, spec, embedOpt)\n",
       "        .catch(err => showError(`Javascript Error: ${err.message}<br>This usually means there's a typo in your chart specification. See the javascript console for the full traceback.`));\n",
       "    }\n",
       "\n",
       "    if(typeof define === \"function\" && define.amd) {\n",
       "      requirejs.config({paths});\n",
       "      require([\"vega-embed\"], displayChart, err => showError(`Error loading script: ${err.message}`));\n",
       "    } else if (typeof vegaEmbed === \"function\") {\n",
       "      displayChart(vegaEmbed);\n",
       "    } else {\n",
       "      loadScript(\"vega\")\n",
       "        .then(() => loadScript(\"vega-lite\"))\n",
       "        .then(() => loadScript(\"vega-embed\"))\n",
       "        .catch(showError)\n",
       "        .then(() => displayChart(vegaEmbed));\n",
       "    }\n",
       "  })({\"config\": {\"view\": {\"continuousWidth\": 400, \"continuousHeight\": 300}}, \"layer\": [{\"data\": {\"name\": \"data-37f65c8fda6bacbf3ae7a4de926b4d56\"}, \"mark\": {\"type\": \"circle\", \"size\": 60}, \"encoding\": {\"x\": {\"type\": \"quantitative\", \"field\": \"size\"}, \"y\": {\"type\": \"quantitative\", \"field\": \"profit\"}}}, {\"data\": {\"name\": \"data-836bd7e6a2f40ab09d8ffb5d2a3a4cae\"}, \"mark\": {\"type\": \"line\", \"color\": \"red\"}, \"encoding\": {\"x\": {\"type\": \"quantitative\", \"axis\": {\"title\": \"population\"}, \"field\": \"X\"}, \"y\": {\"type\": \"quantitative\", \"axis\": {\"title\": \"profit\"}, \"field\": \"Y\"}}}], \"$schema\": \"https://vega.github.io/schema/vega-lite/v4.0.2.json\", \"datasets\": {\"data-37f65c8fda6bacbf3ae7a4de926b4d56\": [{\"size\": 6.1101, \"profit\": 17.592}, {\"size\": 5.5277, \"profit\": 9.1302}, {\"size\": 8.5186, \"profit\": 13.662}, {\"size\": 7.0032, \"profit\": 11.854000000000001}, {\"size\": 5.8598, \"profit\": 6.8233}, {\"size\": 8.3829, \"profit\": 11.886}, {\"size\": 7.4764, \"profit\": 4.3483}, {\"size\": 8.5781, \"profit\": 12.0}, {\"size\": 6.4862, \"profit\": 6.5987}, {\"size\": 5.0546, \"profit\": 3.8166}, {\"size\": 5.7107, \"profit\": 3.2522}, {\"size\": 14.164000000000001, \"profit\": 15.505}, {\"size\": 5.734, \"profit\": 3.1551}, {\"size\": 8.4084, \"profit\": 7.2258}, {\"size\": 5.6407, \"profit\": 0.71618}, {\"size\": 5.3794, \"profit\": 3.5129}, {\"size\": 6.3654, \"profit\": 5.3048}, {\"size\": 5.1301, \"profit\": 0.56077}, {\"size\": 6.4296, \"profit\": 3.6518}, {\"size\": 7.0708, \"profit\": 5.3893}, {\"size\": 6.1891, \"profit\": 3.1386}, {\"size\": 20.27, \"profit\": 21.767}, {\"size\": 5.4901, \"profit\": 4.263}, {\"size\": 6.3261, \"profit\": 5.1875}, {\"size\": 5.5649, \"profit\": 3.0825}, {\"size\": 18.945, \"profit\": 22.638}, {\"size\": 12.828, \"profit\": 13.501}, {\"size\": 10.957, \"profit\": 7.0467}, {\"size\": 13.175999999999998, \"profit\": 14.692}, {\"size\": 22.203000000000003, \"profit\": 24.147}, {\"size\": 5.2524, \"profit\": -1.22}, {\"size\": 6.5894, \"profit\": 5.9966}, {\"size\": 9.2482, \"profit\": 12.134}, {\"size\": 5.8918, \"profit\": 1.8495}, {\"size\": 8.2111, \"profit\": 6.5426}, {\"size\": 7.9334, \"profit\": 4.5623}, {\"size\": 8.0959, \"profit\": 4.1164}, {\"size\": 5.6063, \"profit\": 3.3928}, {\"size\": 12.835999999999999, \"profit\": 10.117}, {\"size\": 6.3534, \"profit\": 5.4974}, {\"size\": 5.4069, \"profit\": 0.55657}, {\"size\": 6.8825, \"profit\": 3.9115}, {\"size\": 11.708, \"profit\": 5.3854}, {\"size\": 5.7737, \"profit\": 2.4406}, {\"size\": 7.8247, \"profit\": 6.7318}, {\"size\": 7.0931, \"profit\": 1.0463}, {\"size\": 5.0702, \"profit\": 5.1337}, {\"size\": 5.8014, \"profit\": 1.844}, {\"size\": 11.7, \"profit\": 8.0043}, {\"size\": 5.5416, \"profit\": 1.0179}, {\"size\": 7.5402, \"profit\": 6.7504}, {\"size\": 5.3077, \"profit\": 1.8396}, {\"size\": 7.4239, \"profit\": 4.2885}, {\"size\": 7.6031, \"profit\": 4.9981}, {\"size\": 6.3328, \"profit\": 1.4233}, {\"size\": 6.3589, \"profit\": -1.4211}, {\"size\": 6.2742, \"profit\": 2.4756}, {\"size\": 5.6397, \"profit\": 4.6042}, {\"size\": 9.3102, \"profit\": 3.9624}, {\"size\": 9.4536, \"profit\": 5.4141}, {\"size\": 8.8254, \"profit\": 5.1694}, {\"size\": 5.1793, \"profit\": -0.74279}, {\"size\": 21.279, \"profit\": 17.929000000000002}, {\"size\": 14.908, \"profit\": 12.054}, {\"size\": 18.959, \"profit\": 17.054000000000002}, {\"size\": 7.2182, \"profit\": 4.8852}, {\"size\": 8.2951, \"profit\": 5.7442}, {\"size\": 10.236, \"profit\": 7.7754}, {\"size\": 5.4994, \"profit\": 1.0173}, {\"size\": 20.340999999999998, \"profit\": 20.991999999999997}, {\"size\": 10.136000000000001, \"profit\": 6.6799}, {\"size\": 7.3345, \"profit\": 4.0259}, {\"size\": 6.0062, \"profit\": 1.2784}, {\"size\": 7.2259, \"profit\": 3.3411}, {\"size\": 5.0269, \"profit\": -2.6807}, {\"size\": 6.5479, \"profit\": 0.29678000000000004}, {\"size\": 7.5386, \"profit\": 3.8845}, {\"size\": 5.0365, \"profit\": 5.7014}, {\"size\": 10.274000000000001, \"profit\": 6.7526}, {\"size\": 5.1077, \"profit\": 2.0576}, {\"size\": 5.7292, \"profit\": 0.47953}, {\"size\": 5.1884, \"profit\": 0.20421}, {\"size\": 6.3557, \"profit\": 0.67861}, {\"size\": 9.7687, \"profit\": 7.5435}, {\"size\": 6.5159, \"profit\": 5.3436}, {\"size\": 8.5172, \"profit\": 4.2415}, {\"size\": 9.1802, \"profit\": 6.7981}, {\"size\": 6.002000000000001, \"profit\": 0.92695}, {\"size\": 5.5204, \"profit\": 0.152}, {\"size\": 5.0594, \"profit\": 2.8214}, {\"size\": 5.7077, \"profit\": 1.8451}, {\"size\": 7.6366, \"profit\": 4.2959}, {\"size\": 5.8707, \"profit\": 7.2029}, {\"size\": 5.3054, \"profit\": 1.9869}, {\"size\": 8.2934, \"profit\": 0.14454}, {\"size\": 13.394, \"profit\": 9.0551}, {\"size\": 5.4369, \"profit\": 0.61705}], \"data-836bd7e6a2f40ab09d8ffb5d2a3a4cae\": [{\"X\": 6.1101, \"Y\": 3.277330003547353}, {\"X\": 5.5277, \"Y\": 2.62290622064454}, {\"X\": 8.5186, \"Y\": 5.983682478000352}, {\"X\": 7.0032, \"Y\": 4.280877188489837}, {\"X\": 5.8598, \"Y\": 2.9960761009708174}, {\"X\": 8.3829, \"Y\": 5.831200837650229}, {\"X\": 7.4764, \"Y\": 4.812596512098374}, {\"X\": 8.5781, \"Y\": 6.050540676974798}, {\"X\": 6.4862, \"Y\": 3.6999412410984323}, {\"X\": 5.0546, \"Y\": 2.091299263756969}, {\"X\": 5.7107, \"Y\": 2.8285373200113235}, {\"X\": 14.164000000000001, \"Y\": 12.327233343384187}, {\"X\": 5.734, \"Y\": 2.854718765996275}, {\"X\": 8.4084, \"Y\": 5.859854351496422}, {\"X\": 5.6407, \"Y\": 2.749880615335504}, {\"X\": 5.3794, \"Y\": 2.456266373452769}, {\"X\": 6.3654, \"Y\": 3.5642022421721617}, {\"X\": 5.1301, \"Y\": 2.1761361380858877}, {\"X\": 6.4296, \"Y\": 3.6363416770319836}, {\"X\": 7.0708, \"Y\": 4.356837091862486}, {\"X\": 6.1891, \"Y\": 3.366099713110063}, {\"X\": 20.27, \"Y\": 19.188345325534904}, {\"X\": 5.4901, \"Y\": 2.5806563335615285}, {\"X\": 6.3261, \"Y\": 3.520042120832738}, {\"X\": 5.5649, \"Y\": 2.6647066408436886}, {\"X\": 18.945, \"Y\": 17.699486272742618}, {\"X\": 12.828, \"Y\": 10.826013951285697}, {\"X\": 10.957, \"Y\": 8.723632602022024}, {\"X\": 13.175999999999998, \"Y\": 11.217050140245481}, {\"X\": 22.203000000000003, \"Y\": 21.360394041797164}, {\"X\": 5.2524, \"Y\": 2.31356063782664}, {\"X\": 6.5894, \"Y\": 3.815903697134783}, {\"X\": 9.2482, \"Y\": 6.803510074164318}, {\"X\": 5.8918, \"Y\": 3.0320334516797636}, {\"X\": 8.2111, \"Y\": 5.638154811031576}, {\"X\": 7.9334, \"Y\": 5.326112426910505}, {\"X\": 8.0959, \"Y\": 5.508708348479372}, {\"X\": 5.6063, \"Y\": 2.711226463323388}, {\"X\": 12.835999999999999, \"Y\": 10.835003288962932}, {\"X\": 6.3534, \"Y\": 3.5507182356563063}, {\"X\": 5.4069, \"Y\": 2.4871672217182694}, {\"X\": 6.8825, \"Y\": 4.145250556284532}, {\"X\": 11.708, \"Y\": 9.567506676472595}, {\"X\": 5.7737, \"Y\": 2.8993283542195605}, {\"X\": 7.8247, \"Y\": 5.2039698012210565}, {\"X\": 7.0931, \"Y\": 4.381894870637781}, {\"X\": 5.0702, \"Y\": 2.10882847222758}, {\"X\": 5.8014, \"Y\": 2.9304539359269914}, {\"X\": 11.7, \"Y\": 9.558517338795358}, {\"X\": 5.5416, \"Y\": 2.638525194858738}, {\"X\": 7.5402, \"Y\": 4.8842864800743335}, {\"X\": 5.3077, \"Y\": 2.3756994345205364}, {\"X\": 7.4239, \"Y\": 4.753603983591509}, {\"X\": 7.6031, \"Y\": 4.954965147561607}, {\"X\": 6.3328, \"Y\": 3.5275706911374223}, {\"X\": 6.3589, \"Y\": 3.5568984053094073}, {\"X\": 6.2742, \"Y\": 3.4617237926516666}, {\"X\": 5.6397, \"Y\": 2.7487569481258505}, {\"X\": 9.3102, \"Y\": 6.8731774411629}, {\"X\": 9.4536, \"Y\": 7.034311319027363}, {\"X\": 8.8254, \"Y\": 6.32842357792237}, {\"X\": 5.1793, \"Y\": 2.231420564800892}, {\"X\": 21.279, \"Y\": 20.322125540076353}, {\"X\": 14.908, \"Y\": 13.163241747367175}, {\"X\": 18.959, \"Y\": 17.71521761367778}, {\"X\": 7.2182, \"Y\": 4.522465638565569}, {\"X\": 8.2951, \"Y\": 5.732542856642558}, {\"X\": 10.236, \"Y\": 7.913468543861088}, {\"X\": 5.4994, \"Y\": 2.5911064386113156}, {\"X\": 20.340999999999998, \"Y\": 19.268125697420373}, {\"X\": 10.136000000000001, \"Y\": 7.8011018228956335}, {\"X\": 7.3345, \"Y\": 4.653148135048394}, {\"X\": 6.0062, \"Y\": 3.160580980464245}, {\"X\": 7.2259, \"Y\": 4.531117876079907}, {\"X\": 5.0269, \"Y\": 2.060173682049538}, {\"X\": 6.5479, \"Y\": 3.769271507934118}, {\"X\": 7.5386, \"Y\": 4.8824886125388876}, {\"X\": 5.0365, \"Y\": 2.070960887262222}, {\"X\": 10.274000000000001, \"Y\": 7.956167897827962}, {\"X\": 5.1077, \"Y\": 2.1509659925896263}, {\"X\": 5.7292, \"Y\": 2.8493251633899326}, {\"X\": 5.1884, \"Y\": 2.2416459364087484}, {\"X\": 6.3557, \"Y\": 3.5533026702385118}, {\"X\": 9.7687, \"Y\": 7.388378856789515}, {\"X\": 6.5159, \"Y\": 3.733314157225173}, {\"X\": 8.5172, \"Y\": 5.982109343906837}, {\"X\": 9.1802, \"Y\": 6.727100703907807}, {\"X\": 6.002000000000001, \"Y\": 3.1558615781836967}, {\"X\": 5.5204, \"Y\": 2.6147034500140616}, {\"X\": 5.0594, \"Y\": 2.0966928663633113}, {\"X\": 5.7077, \"Y\": 2.8251663183823594}, {\"X\": 7.6366, \"Y\": 4.992607999085033}, {\"X\": 5.8707, \"Y\": 3.0083240735560524}, {\"X\": 5.3054, \"Y\": 2.373114999938331}, {\"X\": 8.2934, \"Y\": 5.730632622386146}, {\"X\": 13.394, \"Y\": 11.462009591950176}, {\"X\": 5.4369, \"Y\": 2.520877238007906}]}}, {\"mode\": \"vega-lite\"});\n",
       "</script>"
      ],
      "text/plain": [
       "alt.LayerChart(...)"
      ]
     },
     "execution_count": 15,
     "metadata": {},
     "output_type": "execute_result"
    }
   ],
   "source": [
    "#predizendo os dados de treinamento\n",
    "#para ver qual a reta que a Regressão gerou\n",
    "y_hat = np.matmul(x.values,theta_lr) #retorna o profit predito para cada tamanho de população de x\n",
    "fit_plot = pd.DataFrame({'X':x[1],'Y':y_hat}) #dados para plotar nossa reta\n",
    "plot_reta = alt.Chart(fit_plot).mark_line(color='red').encode(\n",
    "    x=alt.X('X',axis=alt.Axis(title='population')),\n",
    "    y=alt.Y('Y',axis=alt.Axis(title='profit'))\n",
    ")\n",
    "data_plot + plot_reta"
   ]
  },
  {
   "cell_type": "code",
   "execution_count": 16,
   "metadata": {},
   "outputs": [
    {
     "name": "stdout",
     "output_type": "stream",
     "text": [
      "3.277330003547353 \n",
      "\n",
      "predição:  12.142951921000838\n"
     ]
    }
   ],
   "source": [
    "#predizendo novas amostras\n",
    "pred_1 = x[0][0] * theta_lr[0] + x[1][0] * theta_lr[1] #como funciona a predição\n",
    "print(pred_1,'\\n')\n",
    "\n",
    "pred_2 = 1 * theta_lr[0] + 14 * theta_lr[1]\n",
    "print('predição: ',pred_2)"
   ]
  },
  {
   "cell_type": "code",
   "execution_count": 17,
   "metadata": {},
   "outputs": [
    {
     "data": {
      "text/html": [
       "<div>\n",
       "<style scoped>\n",
       "    .dataframe tbody tr th:only-of-type {\n",
       "        vertical-align: middle;\n",
       "    }\n",
       "\n",
       "    .dataframe tbody tr th {\n",
       "        vertical-align: top;\n",
       "    }\n",
       "\n",
       "    .dataframe thead th {\n",
       "        text-align: right;\n",
       "    }\n",
       "</style>\n",
       "<table border=\"1\" class=\"dataframe\">\n",
       "  <thead>\n",
       "    <tr style=\"text-align: right;\">\n",
       "      <th></th>\n",
       "      <th>X</th>\n",
       "      <th>Y</th>\n",
       "    </tr>\n",
       "  </thead>\n",
       "  <tbody>\n",
       "    <tr>\n",
       "      <th>0</th>\n",
       "      <td>6.1101</td>\n",
       "      <td>3.277330</td>\n",
       "    </tr>\n",
       "    <tr>\n",
       "      <th>1</th>\n",
       "      <td>5.5277</td>\n",
       "      <td>2.622906</td>\n",
       "    </tr>\n",
       "    <tr>\n",
       "      <th>2</th>\n",
       "      <td>8.5186</td>\n",
       "      <td>5.983682</td>\n",
       "    </tr>\n",
       "    <tr>\n",
       "      <th>3</th>\n",
       "      <td>7.0032</td>\n",
       "      <td>4.280877</td>\n",
       "    </tr>\n",
       "    <tr>\n",
       "      <th>4</th>\n",
       "      <td>5.8598</td>\n",
       "      <td>2.996076</td>\n",
       "    </tr>\n",
       "    <tr>\n",
       "      <th>...</th>\n",
       "      <td>...</td>\n",
       "      <td>...</td>\n",
       "    </tr>\n",
       "    <tr>\n",
       "      <th>92</th>\n",
       "      <td>5.8707</td>\n",
       "      <td>3.008324</td>\n",
       "    </tr>\n",
       "    <tr>\n",
       "      <th>93</th>\n",
       "      <td>5.3054</td>\n",
       "      <td>2.373115</td>\n",
       "    </tr>\n",
       "    <tr>\n",
       "      <th>94</th>\n",
       "      <td>8.2934</td>\n",
       "      <td>5.730633</td>\n",
       "    </tr>\n",
       "    <tr>\n",
       "      <th>95</th>\n",
       "      <td>13.3940</td>\n",
       "      <td>11.462010</td>\n",
       "    </tr>\n",
       "    <tr>\n",
       "      <th>96</th>\n",
       "      <td>5.4369</td>\n",
       "      <td>2.520877</td>\n",
       "    </tr>\n",
       "  </tbody>\n",
       "</table>\n",
       "<p>97 rows × 2 columns</p>\n",
       "</div>"
      ],
      "text/plain": [
       "          X          Y\n",
       "0    6.1101   3.277330\n",
       "1    5.5277   2.622906\n",
       "2    8.5186   5.983682\n",
       "3    7.0032   4.280877\n",
       "4    5.8598   2.996076\n",
       "..      ...        ...\n",
       "92   5.8707   3.008324\n",
       "93   5.3054   2.373115\n",
       "94   8.2934   5.730633\n",
       "95  13.3940  11.462010\n",
       "96   5.4369   2.520877\n",
       "\n",
       "[97 rows x 2 columns]"
      ]
     },
     "execution_count": 17,
     "metadata": {},
     "output_type": "execute_result"
    }
   ],
   "source": [
    "fit_plot"
   ]
  },
  {
   "cell_type": "code",
   "execution_count": 18,
   "metadata": {},
   "outputs": [],
   "source": [
    "it = list(range(1,1501))\n",
    "df_custo = pd.DataFrame({'Iteracoes':it,'Custo':custo_h})"
   ]
  },
  {
   "cell_type": "code",
   "execution_count": 19,
   "metadata": {},
   "outputs": [
    {
     "data": {
      "text/html": [
       "\n",
       "<div id=\"altair-viz-4afa0d80ec81480085d958bc7b10072a\"></div>\n",
       "<script type=\"text/javascript\">\n",
       "  (function(spec, embedOpt){\n",
       "    const outputDiv = document.getElementById(\"altair-viz-4afa0d80ec81480085d958bc7b10072a\");\n",
       "    const paths = {\n",
       "      \"vega\": \"https://cdn.jsdelivr.net/npm//vega@5?noext\",\n",
       "      \"vega-lib\": \"https://cdn.jsdelivr.net/npm//vega-lib?noext\",\n",
       "      \"vega-lite\": \"https://cdn.jsdelivr.net/npm//vega-lite@4.0.2?noext\",\n",
       "      \"vega-embed\": \"https://cdn.jsdelivr.net/npm//vega-embed@6?noext\",\n",
       "    };\n",
       "\n",
       "    function loadScript(lib) {\n",
       "      return new Promise(function(resolve, reject) {\n",
       "        var s = document.createElement('script');\n",
       "        s.src = paths[lib];\n",
       "        s.async = true;\n",
       "        s.onload = () => resolve(paths[lib]);\n",
       "        s.onerror = () => reject(`Error loading script: ${paths[lib]}`);\n",
       "        document.getElementsByTagName(\"head\")[0].appendChild(s);\n",
       "      });\n",
       "    }\n",
       "\n",
       "    function showError(err) {\n",
       "      outputDiv.innerHTML = `<div class=\"error\" style=\"color:red;\">${err}</div>`;\n",
       "      throw err;\n",
       "    }\n",
       "\n",
       "    function displayChart(vegaEmbed) {\n",
       "      vegaEmbed(outputDiv, spec, embedOpt)\n",
       "        .catch(err => showError(`Javascript Error: ${err.message}<br>This usually means there's a typo in your chart specification. See the javascript console for the full traceback.`));\n",
       "    }\n",
       "\n",
       "    if(typeof define === \"function\" && define.amd) {\n",
       "      requirejs.config({paths});\n",
       "      require([\"vega-embed\"], displayChart, err => showError(`Error loading script: ${err.message}`));\n",
       "    } else if (typeof vegaEmbed === \"function\") {\n",
       "      displayChart(vegaEmbed);\n",
       "    } else {\n",
       "      loadScript(\"vega\")\n",
       "        .then(() => loadScript(\"vega-lite\"))\n",
       "        .then(() => loadScript(\"vega-embed\"))\n",
       "        .catch(showError)\n",
       "        .then(() => displayChart(vegaEmbed));\n",
       "    }\n",
       "  })({\"config\": {\"view\": {\"continuousWidth\": 400, \"continuousHeight\": 300}}, \"data\": {\"name\": \"data-cde27797fd6007b3c5f235a9972ecc6d\"}, \"mark\": {\"type\": \"line\", \"color\": \"red\"}, \"encoding\": {\"x\": {\"type\": \"quantitative\", \"axis\": {\"title\": \"Itera\\u00e7\\u00f5es\"}, \"field\": \"Iteracoes\"}, \"y\": {\"type\": \"quantitative\", \"axis\": {\"title\": \"Custo\"}, \"field\": \"Custo\"}}, \"$schema\": \"https://vega.github.io/schema/vega-lite/v4.0.2.json\", \"datasets\": {\"data-cde27797fd6007b3c5f235a9972ecc6d\": [{\"Iteracoes\": 1, \"Custo\": 11.544266523416546}, {\"Iteracoes\": 2, \"Custo\": 7.2956576138582365}, {\"Iteracoes\": 3, \"Custo\": 6.33392907930901}, {\"Iteracoes\": 4, \"Custo\": 6.081473704890604}, {\"Iteracoes\": 5, \"Custo\": 6.000792701278482}, {\"Iteracoes\": 6, \"Custo\": 5.9688980505866285}, {\"Iteracoes\": 7, \"Custo\": 5.953320508227017}, {\"Iteracoes\": 8, \"Custo\": 5.943922959680543}, {\"Iteracoes\": 9, \"Custo\": 5.937049926436114}, {\"Iteracoes\": 10, \"Custo\": 5.931253175879211}, {\"Iteracoes\": 11, \"Custo\": 5.925929082502382}, {\"Iteracoes\": 12, \"Custo\": 5.92081979962143}, {\"Iteracoes\": 13, \"Custo\": 5.915813925955792}, {\"Iteracoes\": 14, \"Custo\": 5.91086307072244}, {\"Iteracoes\": 15, \"Custo\": 5.905946147418982}, {\"Iteracoes\": 16, \"Custo\": 5.901053938460714}, {\"Iteracoes\": 17, \"Custo\": 5.896182392731281}, {\"Iteracoes\": 18, \"Custo\": 5.891329709469219}, {\"Iteracoes\": 19, \"Custo\": 5.886495068427984}, {\"Iteracoes\": 20, \"Custo\": 5.881678076708075}, {\"Iteracoes\": 21, \"Custo\": 5.876878527746275}, {\"Iteracoes\": 22, \"Custo\": 5.872096296301378}, {\"Iteracoes\": 23, \"Custo\": 5.867331292695246}, {\"Iteracoes\": 24, \"Custo\": 5.862583442873299}, {\"Iteracoes\": 25, \"Custo\": 5.85785267971544}, {\"Iteracoes\": 26, \"Custo\": 5.853138939249433}, {\"Iteracoes\": 27, \"Custo\": 5.848442159000432}, {\"Iteracoes\": 28, \"Custo\": 5.843762277271316}, {\"Iteracoes\": 29, \"Custo\": 5.8390992328286355}, {\"Iteracoes\": 30, \"Custo\": 5.834452964765378}, {\"Iteracoes\": 31, \"Custo\": 5.829823412440629}, {\"Iteracoes\": 32, \"Custo\": 5.825210515452889}, {\"Iteracoes\": 33, \"Custo\": 5.820614213627994}, {\"Iteracoes\": 34, \"Custo\": 5.816034447013371}, {\"Iteracoes\": 35, \"Custo\": 5.811471155875129}, {\"Iteracoes\": 36, \"Custo\": 5.806924280696336}, {\"Iteracoes\": 37, \"Custo\": 5.8023937621758215}, {\"Iteracoes\": 38, \"Custo\": 5.797879541227226}, {\"Iteracoes\": 39, \"Custo\": 5.7933815589781315}, {\"Iteracoes\": 40, \"Custo\": 5.788899756769272}, {\"Iteracoes\": 41, \"Custo\": 5.784434076153732}, {\"Iteracoes\": 42, \"Custo\": 5.779984458896175}, {\"Iteracoes\": 43, \"Custo\": 5.775550846972073}, {\"Iteracoes\": 44, \"Custo\": 5.771133182566947}, {\"Iteracoes\": 45, \"Custo\": 5.766731408075587}, {\"Iteracoes\": 46, \"Custo\": 5.762345466101344}, {\"Iteracoes\": 47, \"Custo\": 5.757975299455293}, {\"Iteracoes\": 48, \"Custo\": 5.753620851155544}, {\"Iteracoes\": 49, \"Custo\": 5.749282064426479}, {\"Iteracoes\": 50, \"Custo\": 5.7449588826979925}, {\"Iteracoes\": 51, \"Custo\": 5.740651249604752}, {\"Iteracoes\": 52, \"Custo\": 5.73635910898545}, {\"Iteracoes\": 53, \"Custo\": 5.732082404882082}, {\"Iteracoes\": 54, \"Custo\": 5.727821081539188}, {\"Iteracoes\": 55, \"Custo\": 5.72357508340314}, {\"Iteracoes\": 56, \"Custo\": 5.719344355121394}, {\"Iteracoes\": 57, \"Custo\": 5.715128841541764}, {\"Iteracoes\": 58, \"Custo\": 5.710928487711708}, {\"Iteracoes\": 59, \"Custo\": 5.706743238877582}, {\"Iteracoes\": 60, \"Custo\": 5.702573040483957}, {\"Iteracoes\": 61, \"Custo\": 5.698417838172844}, {\"Iteracoes\": 62, \"Custo\": 5.694277577783038}, {\"Iteracoes\": 63, \"Custo\": 5.69015220534936}, {\"Iteracoes\": 64, \"Custo\": 5.6860416671019856}, {\"Iteracoes\": 65, \"Custo\": 5.681945909465695}, {\"Iteracoes\": 66, \"Custo\": 5.677864879059203}, {\"Iteracoes\": 67, \"Custo\": 5.673798522694432}, {\"Iteracoes\": 68, \"Custo\": 5.669746787375835}, {\"Iteracoes\": 69, \"Custo\": 5.665709620299676}, {\"Iteracoes\": 70, \"Custo\": 5.661686968853345}, {\"Iteracoes\": 71, \"Custo\": 5.657678780614663}, {\"Iteracoes\": 72, \"Custo\": 5.653685003351205}, {\"Iteracoes\": 73, \"Custo\": 5.649705585019584}, {\"Iteracoes\": 74, \"Custo\": 5.645740473764792}, {\"Iteracoes\": 75, \"Custo\": 5.64178961791952}, {\"Iteracoes\": 76, \"Custo\": 5.637852966003437}, {\"Iteracoes\": 77, \"Custo\": 5.633930466722576}, {\"Iteracoes\": 78, \"Custo\": 5.630022068968593}, {\"Iteracoes\": 79, \"Custo\": 5.626127721818146}, {\"Iteracoes\": 80, \"Custo\": 5.6222473745322}, {\"Iteracoes\": 81, \"Custo\": 5.61838097655536}, {\"Iteracoes\": 82, \"Custo\": 5.614528477515222}, {\"Iteracoes\": 83, \"Custo\": 5.610689827221669}, {\"Iteracoes\": 84, \"Custo\": 5.606864975666267}, {\"Iteracoes\": 85, \"Custo\": 5.603053873021571}, {\"Iteracoes\": 86, \"Custo\": 5.599256469640463}, {\"Iteracoes\": 87, \"Custo\": 5.5954727160555295}, {\"Iteracoes\": 88, \"Custo\": 5.591702562978387}, {\"Iteracoes\": 89, \"Custo\": 5.58794596129903}, {\"Iteracoes\": 90, \"Custo\": 5.584202862085208}, {\"Iteracoes\": 91, \"Custo\": 5.580473216581761}, {\"Iteracoes\": 92, \"Custo\": 5.576756976209979}, {\"Iteracoes\": 93, \"Custo\": 5.573054092566981}, {\"Iteracoes\": 94, \"Custo\": 5.56936451742505}, {\"Iteracoes\": 95, \"Custo\": 5.565688202731021}, {\"Iteracoes\": 96, \"Custo\": 5.5620251006056405}, {\"Iteracoes\": 97, \"Custo\": 5.558375163342937}, {\"Iteracoes\": 98, \"Custo\": 5.554738343409586}, {\"Iteracoes\": 99, \"Custo\": 5.551114593444294}, {\"Iteracoes\": 100, \"Custo\": 5.547503866257179}, {\"Iteracoes\": 101, \"Custo\": 5.543906114829129}, {\"Iteracoes\": 102, \"Custo\": 5.540321292311212}, {\"Iteracoes\": 103, \"Custo\": 5.53674935202404}, {\"Iteracoes\": 104, \"Custo\": 5.53319024745714}, {\"Iteracoes\": 105, \"Custo\": 5.529643932268395}, {\"Iteracoes\": 106, \"Custo\": 5.526110360283361}, {\"Iteracoes\": 107, \"Custo\": 5.522589485494736}, {\"Iteracoes\": 108, \"Custo\": 5.519081262061689}, {\"Iteracoes\": 109, \"Custo\": 5.515585644309295}, {\"Iteracoes\": 110, \"Custo\": 5.512102586727924}, {\"Iteracoes\": 111, \"Custo\": 5.50863204397264}, {\"Iteracoes\": 112, \"Custo\": 5.505173970862609}, {\"Iteracoes\": 113, \"Custo\": 5.501728322380485}, {\"Iteracoes\": 114, \"Custo\": 5.4982950536718596}, {\"Iteracoes\": 115, \"Custo\": 5.494874120044627}, {\"Iteracoes\": 116, \"Custo\": 5.491465476968419}, {\"Iteracoes\": 117, \"Custo\": 5.488069080074018}, {\"Iteracoes\": 118, \"Custo\": 5.484684885152764}, {\"Iteracoes\": 119, \"Custo\": 5.481312848155988}, {\"Iteracoes\": 120, \"Custo\": 5.477952925194416}, {\"Iteracoes\": 121, \"Custo\": 5.474605072537594}, {\"Iteracoes\": 122, \"Custo\": 5.471269246613325}, {\"Iteracoes\": 123, \"Custo\": 5.467945404007087}, {\"Iteracoes\": 124, \"Custo\": 5.464633501461456}, {\"Iteracoes\": 125, \"Custo\": 5.461333495875553}, {\"Iteracoes\": 126, \"Custo\": 5.458045344304461}, {\"Iteracoes\": 127, \"Custo\": 5.45476900395866}, {\"Iteracoes\": 128, \"Custo\": 5.451504432203487}, {\"Iteracoes\": 129, \"Custo\": 5.4482515865585315}, {\"Iteracoes\": 130, \"Custo\": 5.445010424697139}, {\"Iteracoes\": 131, \"Custo\": 5.441780904445776}, {\"Iteracoes\": 132, \"Custo\": 5.438562983783555}, {\"Iteracoes\": 133, \"Custo\": 5.435356620841614}, {\"Iteracoes\": 134, \"Custo\": 5.4321617739026165}, {\"Iteracoes\": 135, \"Custo\": 5.42897840140017}, {\"Iteracoes\": 136, \"Custo\": 5.425806461918291}, {\"Iteracoes\": 137, \"Custo\": 5.422645914190863}, {\"Iteracoes\": 138, \"Custo\": 5.419496717101086}, {\"Iteracoes\": 139, \"Custo\": 5.416358829680942}, {\"Iteracoes\": 140, \"Custo\": 5.413232211110661}, {\"Iteracoes\": 141, \"Custo\": 5.410116820718153}, {\"Iteracoes\": 142, \"Custo\": 5.4070126179785225}, {\"Iteracoes\": 143, \"Custo\": 5.403919562513498}, {\"Iteracoes\": 144, \"Custo\": 5.400837614090909}, {\"Iteracoes\": 145, \"Custo\": 5.397766732624153}, {\"Iteracoes\": 146, \"Custo\": 5.394706878171696}, {\"Iteracoes\": 147, \"Custo\": 5.391658010936507}, {\"Iteracoes\": 148, \"Custo\": 5.388620091265557}, {\"Iteracoes\": 149, \"Custo\": 5.385593079649296}, {\"Iteracoes\": 150, \"Custo\": 5.382576936721132}, {\"Iteracoes\": 151, \"Custo\": 5.379571623256909}, {\"Iteracoes\": 152, \"Custo\": 5.37657710017438}, {\"Iteracoes\": 153, \"Custo\": 5.373593328532732}, {\"Iteracoes\": 154, \"Custo\": 5.3706202695320355}, {\"Iteracoes\": 155, \"Custo\": 5.367657884512733}, {\"Iteracoes\": 156, \"Custo\": 5.364706134955172}, {\"Iteracoes\": 157, \"Custo\": 5.361764982479039}, {\"Iteracoes\": 158, \"Custo\": 5.358834388842918}, {\"Iteracoes\": 159, \"Custo\": 5.355914315943722}, {\"Iteracoes\": 160, \"Custo\": 5.353004725816253}, {\"Iteracoes\": 161, \"Custo\": 5.350105580632654}, {\"Iteracoes\": 162, \"Custo\": 5.34721684270194}, {\"Iteracoes\": 163, \"Custo\": 5.344338474469499}, {\"Iteracoes\": 164, \"Custo\": 5.341470438516581}, {\"Iteracoes\": 165, \"Custo\": 5.338612697559835}, {\"Iteracoes\": 166, \"Custo\": 5.335765214450777}, {\"Iteracoes\": 167, \"Custo\": 5.3329279521753445}, {\"Iteracoes\": 168, \"Custo\": 5.330100873853387}, {\"Iteracoes\": 169, \"Custo\": 5.327283942738174}, {\"Iteracoes\": 170, \"Custo\": 5.324477122215938}, {\"Iteracoes\": 171, \"Custo\": 5.321680375805361}, {\"Iteracoes\": 172, \"Custo\": 5.318893667157127}, {\"Iteracoes\": 173, \"Custo\": 5.316116960053409}, {\"Iteracoes\": 174, \"Custo\": 5.313350218407424}, {\"Iteracoes\": 175, \"Custo\": 5.310593406262942}, {\"Iteracoes\": 176, \"Custo\": 5.307846487793811}, {\"Iteracoes\": 177, \"Custo\": 5.305109427303499}, {\"Iteracoes\": 178, \"Custo\": 5.302382189224613}, {\"Iteracoes\": 179, \"Custo\": 5.2996647381184285}, {\"Iteracoes\": 180, \"Custo\": 5.296957038674441}, {\"Iteracoes\": 181, \"Custo\": 5.294259055709883}, {\"Iteracoes\": 182, \"Custo\": 5.291570754169268}, {\"Iteracoes\": 183, \"Custo\": 5.28889209912393}, {\"Iteracoes\": 184, \"Custo\": 5.2862230557715595}, {\"Iteracoes\": 185, \"Custo\": 5.283563589435762}, {\"Iteracoes\": 186, \"Custo\": 5.280913665565581}, {\"Iteracoes\": 187, \"Custo\": 5.278273249735049}, {\"Iteracoes\": 188, \"Custo\": 5.275642307642749}, {\"Iteracoes\": 189, \"Custo\": 5.273020805111337}, {\"Iteracoes\": 190, \"Custo\": 5.27040870808712}, {\"Iteracoes\": 191, \"Custo\": 5.267805982639603}, {\"Iteracoes\": 192, \"Custo\": 5.265212594961012}, {\"Iteracoes\": 193, \"Custo\": 5.262628511365882}, {\"Iteracoes\": 194, \"Custo\": 5.260053698290628}, {\"Iteracoes\": 195, \"Custo\": 5.257488122293046}, {\"Iteracoes\": 196, \"Custo\": 5.254931750051929}, {\"Iteracoes\": 197, \"Custo\": 5.2523845483666}, {\"Iteracoes\": 198, \"Custo\": 5.24984648415649}, {\"Iteracoes\": 199, \"Custo\": 5.247317524460682}, {\"Iteracoes\": 200, \"Custo\": 5.244797636437505}, {\"Iteracoes\": 201, \"Custo\": 5.242286787364085}, {\"Iteracoes\": 202, \"Custo\": 5.239784944635903}, {\"Iteracoes\": 203, \"Custo\": 5.237292075766407}, {\"Iteracoes\": 204, \"Custo\": 5.2348081483865405}, {\"Iteracoes\": 205, \"Custo\": 5.2323331302443465}, {\"Iteracoes\": 206, \"Custo\": 5.229866989204518}, {\"Iteracoes\": 207, \"Custo\": 5.227409693248004}, {\"Iteracoes\": 208, \"Custo\": 5.224961210471563}, {\"Iteracoes\": 209, \"Custo\": 5.22252150908736}, {\"Iteracoes\": 210, \"Custo\": 5.22009055742254}, {\"Iteracoes\": 211, \"Custo\": 5.217668323918822}, {\"Iteracoes\": 212, \"Custo\": 5.215254777132066}, {\"Iteracoes\": 213, \"Custo\": 5.212849885731871}, {\"Iteracoes\": 214, \"Custo\": 5.2104536185011705}, {\"Iteracoes\": 215, \"Custo\": 5.20806594433581}, {\"Iteracoes\": 216, \"Custo\": 5.205686832244128}, {\"Iteracoes\": 217, \"Custo\": 5.203316251346582}, {\"Iteracoes\": 218, \"Custo\": 5.200954170875311}, {\"Iteracoes\": 219, \"Custo\": 5.198600560173738}, {\"Iteracoes\": 220, \"Custo\": 5.196255388696185}, {\"Iteracoes\": 221, \"Custo\": 5.193918626007442}, {\"Iteracoes\": 222, \"Custo\": 5.191590241782397}, {\"Iteracoes\": 223, \"Custo\": 5.189270205805608}, {\"Iteracoes\": 224, \"Custo\": 5.186958487970928}, {\"Iteracoes\": 225, \"Custo\": 5.184655058281098}, {\"Iteracoes\": 226, \"Custo\": 5.182359886847362}, {\"Iteracoes\": 227, \"Custo\": 5.180072943889061}, {\"Iteracoes\": 228, \"Custo\": 5.17779419973325}, {\"Iteracoes\": 229, \"Custo\": 5.175523624814306}, {\"Iteracoes\": 230, \"Custo\": 5.173261189673534}, {\"Iteracoes\": 231, \"Custo\": 5.171006864958804}, {\"Iteracoes\": 232, \"Custo\": 5.168760621424117}, {\"Iteracoes\": 233, \"Custo\": 5.166522429929277}, {\"Iteracoes\": 234, \"Custo\": 5.164292261439459}, {\"Iteracoes\": 235, \"Custo\": 5.162070087024862}, {\"Iteracoes\": 236, \"Custo\": 5.159855877860308}, {\"Iteracoes\": 237, \"Custo\": 5.15764960522488}, {\"Iteracoes\": 238, \"Custo\": 5.155451240501514}, {\"Iteracoes\": 239, \"Custo\": 5.153260755176672}, {\"Iteracoes\": 240, \"Custo\": 5.151078120839907}, {\"Iteracoes\": 241, \"Custo\": 5.148903309183554}, {\"Iteracoes\": 242, \"Custo\": 5.1467362920022985}, {\"Iteracoes\": 243, \"Custo\": 5.144577041192847}, {\"Iteracoes\": 244, \"Custo\": 5.1424255287535265}, {\"Iteracoes\": 245, \"Custo\": 5.140281726783951}, {\"Iteracoes\": 246, \"Custo\": 5.138145607484626}, {\"Iteracoes\": 247, \"Custo\": 5.136017143156596}, {\"Iteracoes\": 248, \"Custo\": 5.133896306201074}, {\"Iteracoes\": 249, \"Custo\": 5.131783069119078}, {\"Iteracoes\": 250, \"Custo\": 5.129677404511092}, {\"Iteracoes\": 251, \"Custo\": 5.127579285076669}, {\"Iteracoes\": 252, \"Custo\": 5.125488683614094}, {\"Iteracoes\": 253, \"Custo\": 5.123405573020033}, {\"Iteracoes\": 254, \"Custo\": 5.121329926289154}, {\"Iteracoes\": 255, \"Custo\": 5.119261716513787}, {\"Iteracoes\": 256, \"Custo\": 5.117200916883578}, {\"Iteracoes\": 257, \"Custo\": 5.115147500685114}, {\"Iteracoes\": 258, \"Custo\": 5.113101441301589}, {\"Iteracoes\": 259, \"Custo\": 5.1110627122124495}, {\"Iteracoes\": 260, \"Custo\": 5.109031286993049}, {\"Iteracoes\": 261, \"Custo\": 5.107007139314287}, {\"Iteracoes\": 262, \"Custo\": 5.104990242942289}, {\"Iteracoes\": 263, \"Custo\": 5.102980571738037}, {\"Iteracoes\": 264, \"Custo\": 5.100978099657025}, {\"Iteracoes\": 265, \"Custo\": 5.098982800748947}, {\"Iteracoes\": 266, \"Custo\": 5.096994649157323}, {\"Iteracoes\": 267, \"Custo\": 5.095013619119169}, {\"Iteracoes\": 268, \"Custo\": 5.093039684964673}, {\"Iteracoes\": 269, \"Custo\": 5.091072821116833}, {\"Iteracoes\": 270, \"Custo\": 5.089113002091138}, {\"Iteracoes\": 271, \"Custo\": 5.087160202495234}, {\"Iteracoes\": 272, \"Custo\": 5.085214397028571}, {\"Iteracoes\": 273, \"Custo\": 5.083275560482105}, {\"Iteracoes\": 274, \"Custo\": 5.081343667737921}, {\"Iteracoes\": 275, \"Custo\": 5.079418693768942}, {\"Iteracoes\": 276, \"Custo\": 5.077500613638591}, {\"Iteracoes\": 277, \"Custo\": 5.075589402500443}, {\"Iteracoes\": 278, \"Custo\": 5.073685035597923}, {\"Iteracoes\": 279, \"Custo\": 5.07178748826396}, {\"Iteracoes\": 280, \"Custo\": 5.069896735920701}, {\"Iteracoes\": 281, \"Custo\": 5.068012754079125}, {\"Iteracoes\": 282, \"Custo\": 5.06613551833878}, {\"Iteracoes\": 283, \"Custo\": 5.064265004387433}, {\"Iteracoes\": 284, \"Custo\": 5.062401188000754}, {\"Iteracoes\": 285, \"Custo\": 5.060544045042004}, {\"Iteracoes\": 286, \"Custo\": 5.0586935514617135}, {\"Iteracoes\": 287, \"Custo\": 5.056849683297372}, {\"Iteracoes\": 288, \"Custo\": 5.055012416673094}, {\"Iteracoes\": 289, \"Custo\": 5.0531817277993305}, {\"Iteracoes\": 290, \"Custo\": 5.0513575929725425}, {\"Iteracoes\": 291, \"Custo\": 5.049539988574895}, {\"Iteracoes\": 292, \"Custo\": 5.047728891073938}, {\"Iteracoes\": 293, \"Custo\": 5.045924277022306}, {\"Iteracoes\": 294, \"Custo\": 5.044126123057411}, {\"Iteracoes\": 295, \"Custo\": 5.042334405901125}, {\"Iteracoes\": 296, \"Custo\": 5.040549102359483}, {\"Iteracoes\": 297, \"Custo\": 5.038770189322372}, {\"Iteracoes\": 298, \"Custo\": 5.036997643763247}, {\"Iteracoes\": 299, \"Custo\": 5.035231442738783}, {\"Iteracoes\": 300, \"Custo\": 5.033471563388634}, {\"Iteracoes\": 301, \"Custo\": 5.031717982935086}, {\"Iteracoes\": 302, \"Custo\": 5.02997067868277}, {\"Iteracoes\": 303, \"Custo\": 5.028229628018376}, {\"Iteracoes\": 304, \"Custo\": 5.02649480841034}, {\"Iteracoes\": 305, \"Custo\": 5.024766197408562}, {\"Iteracoes\": 306, \"Custo\": 5.0230437726440975}, {\"Iteracoes\": 307, \"Custo\": 5.021327511828871}, {\"Iteracoes\": 308, \"Custo\": 5.0196173927553875}, {\"Iteracoes\": 309, \"Custo\": 5.017913393296431}, {\"Iteracoes\": 310, \"Custo\": 5.01621549140477}, {\"Iteracoes\": 311, \"Custo\": 5.0145236651129}, {\"Iteracoes\": 312, \"Custo\": 5.0128378925326995}, {\"Iteracoes\": 313, \"Custo\": 5.011158151855195}, {\"Iteracoes\": 314, \"Custo\": 5.009484421350246}, {\"Iteracoes\": 315, \"Custo\": 5.007816679366274}, {\"Iteracoes\": 316, \"Custo\": 5.006154904329956}, {\"Iteracoes\": 317, \"Custo\": 5.004499074745971}, {\"Iteracoes\": 318, \"Custo\": 5.00284916919669}, {\"Iteracoes\": 319, \"Custo\": 5.001205166341913}, {\"Iteracoes\": 320, \"Custo\": 4.999567044918586}, {\"Iteracoes\": 321, \"Custo\": 4.997934783740511}, {\"Iteracoes\": 322, \"Custo\": 4.996308361698081}, {\"Iteracoes\": 323, \"Custo\": 4.994687757757985}, {\"Iteracoes\": 324, \"Custo\": 4.993072950962961}, {\"Iteracoes\": 325, \"Custo\": 4.991463920431488}, {\"Iteracoes\": 326, \"Custo\": 4.989860645357535}, {\"Iteracoes\": 327, \"Custo\": 4.98826310501027}, {\"Iteracoes\": 328, \"Custo\": 4.9866712787338106}, {\"Iteracoes\": 329, \"Custo\": 4.98508514594693}, {\"Iteracoes\": 330, \"Custo\": 4.983504686142791}, {\"Iteracoes\": 331, \"Custo\": 4.981929878888691}, {\"Iteracoes\": 332, \"Custo\": 4.980360703825785}, {\"Iteracoes\": 333, \"Custo\": 4.9787971406688}, {\"Iteracoes\": 334, \"Custo\": 4.977239169205805}, {\"Iteracoes\": 335, \"Custo\": 4.975686769297913}, {\"Iteracoes\": 336, \"Custo\": 4.97413992087904}, {\"Iteracoes\": 337, \"Custo\": 4.972598603955621}, {\"Iteracoes\": 338, \"Custo\": 4.971062798606361}, {\"Iteracoes\": 339, \"Custo\": 4.969532484981966}, {\"Iteracoes\": 340, \"Custo\": 4.968007643304901}, {\"Iteracoes\": 341, \"Custo\": 4.966488253869092}, {\"Iteracoes\": 342, \"Custo\": 4.964974297039706}, {\"Iteracoes\": 343, \"Custo\": 4.963465753252868}, {\"Iteracoes\": 344, \"Custo\": 4.961962603015421}, {\"Iteracoes\": 345, \"Custo\": 4.960464826904661}, {\"Iteracoes\": 346, \"Custo\": 4.958972405568074}, {\"Iteracoes\": 347, \"Custo\": 4.957485319723108}, {\"Iteracoes\": 348, \"Custo\": 4.956003550156882}, {\"Iteracoes\": 349, \"Custo\": 4.954527077725969}, {\"Iteracoes\": 350, \"Custo\": 4.9530558833561305}, {\"Iteracoes\": 351, \"Custo\": 4.951589948042051}, {\"Iteracoes\": 352, \"Custo\": 4.950129252847118}, {\"Iteracoes\": 353, \"Custo\": 4.948673778903144}, {\"Iteracoes\": 354, \"Custo\": 4.947223507410155}, {\"Iteracoes\": 355, \"Custo\": 4.945778419636094}, {\"Iteracoes\": 356, \"Custo\": 4.944338496916621}, {\"Iteracoes\": 357, \"Custo\": 4.942903720654844}, {\"Iteracoes\": 358, \"Custo\": 4.941474072321073}, {\"Iteracoes\": 359, \"Custo\": 4.940049533452594}, {\"Iteracoes\": 360, \"Custo\": 4.938630085653415}, {\"Iteracoes\": 361, \"Custo\": 4.937215710594021}, {\"Iteracoes\": 362, \"Custo\": 4.935806390011134}, {\"Iteracoes\": 363, \"Custo\": 4.934402105707484}, {\"Iteracoes\": 364, \"Custo\": 4.933002839551566}, {\"Iteracoes\": 365, \"Custo\": 4.931608573477385}, {\"Iteracoes\": 366, \"Custo\": 4.930219289484251}, {\"Iteracoes\": 367, \"Custo\": 4.928834969636504}, {\"Iteracoes\": 368, \"Custo\": 4.927455596063319}, {\"Iteracoes\": 369, \"Custo\": 4.926081150958436}, {\"Iteracoes\": 370, \"Custo\": 4.924711616579948}, {\"Iteracoes\": 371, \"Custo\": 4.923346975250058}, {\"Iteracoes\": 372, \"Custo\": 4.921987209354854}, {\"Iteracoes\": 373, \"Custo\": 4.920632301344074}, {\"Iteracoes\": 374, \"Custo\": 4.919282233730869}, {\"Iteracoes\": 375, \"Custo\": 4.917936989091588}, {\"Iteracoes\": 376, \"Custo\": 4.916596550065534}, {\"Iteracoes\": 377, \"Custo\": 4.915260899354741}, {\"Iteracoes\": 378, \"Custo\": 4.91393001972376}, {\"Iteracoes\": 379, \"Custo\": 4.912603893999414}, {\"Iteracoes\": 380, \"Custo\": 4.911282505070581}, {\"Iteracoes\": 381, \"Custo\": 4.909965835887967}, {\"Iteracoes\": 382, \"Custo\": 4.908653869463896}, {\"Iteracoes\": 383, \"Custo\": 4.907346588872043}, {\"Iteracoes\": 384, \"Custo\": 4.906043977247282}, {\"Iteracoes\": 385, \"Custo\": 4.904746017785399}, {\"Iteracoes\": 386, \"Custo\": 4.903452693742912}, {\"Iteracoes\": 387, \"Custo\": 4.902163988436829}, {\"Iteracoes\": 388, \"Custo\": 4.900879885244442}, {\"Iteracoes\": 389, \"Custo\": 4.8996003676031075}, {\"Iteracoes\": 390, \"Custo\": 4.898325419010012}, {\"Iteracoes\": 391, \"Custo\": 4.897055023021985}, {\"Iteracoes\": 392, \"Custo\": 4.895789163255266}, {\"Iteracoes\": 393, \"Custo\": 4.894527823385273}, {\"Iteracoes\": 394, \"Custo\": 4.893270987146422}, {\"Iteracoes\": 395, \"Custo\": 4.892018638331894}, {\"Iteracoes\": 396, \"Custo\": 4.890770760793425}, {\"Iteracoes\": 397, \"Custo\": 4.889527338441097}, {\"Iteracoes\": 398, \"Custo\": 4.8882883552431124}, {\"Iteracoes\": 399, \"Custo\": 4.887053795225618}, {\"Iteracoes\": 400, \"Custo\": 4.885823642472445}, {\"Iteracoes\": 401, \"Custo\": 4.884597881124945}, {\"Iteracoes\": 402, \"Custo\": 4.883376495381768}, {\"Iteracoes\": 403, \"Custo\": 4.882159469498643}, {\"Iteracoes\": 404, \"Custo\": 4.880946787788178}, {\"Iteracoes\": 405, \"Custo\": 4.879738434619654}, {\"Iteracoes\": 406, \"Custo\": 4.878534394418846}, {\"Iteracoes\": 407, \"Custo\": 4.8773346516677645}, {\"Iteracoes\": 408, \"Custo\": 4.876139190904488}, {\"Iteracoes\": 409, \"Custo\": 4.874947996722972}, {\"Iteracoes\": 410, \"Custo\": 4.873761053772803}, {\"Iteracoes\": 411, \"Custo\": 4.872578346759044}, {\"Iteracoes\": 412, \"Custo\": 4.871399860442}, {\"Iteracoes\": 413, \"Custo\": 4.870225579637033}, {\"Iteracoes\": 414, \"Custo\": 4.869055489214364}, {\"Iteracoes\": 415, \"Custo\": 4.867889574098861}, {\"Iteracoes\": 416, \"Custo\": 4.866727819269861}, {\"Iteracoes\": 417, \"Custo\": 4.865570209760954}, {\"Iteracoes\": 418, \"Custo\": 4.864416730659805}, {\"Iteracoes\": 419, \"Custo\": 4.863267367107938}, {\"Iteracoes\": 420, \"Custo\": 4.862122104300557}, {\"Iteracoes\": 421, \"Custo\": 4.860980927486345}, {\"Iteracoes\": 422, \"Custo\": 4.859843821967269}, {\"Iteracoes\": 423, \"Custo\": 4.858710773098387}, {\"Iteracoes\": 424, \"Custo\": 4.857581766287676}, {\"Iteracoes\": 425, \"Custo\": 4.8564567869957935}, {\"Iteracoes\": 426, \"Custo\": 4.855335820735942}, {\"Iteracoes\": 427, \"Custo\": 4.854218853073634}, {\"Iteracoes\": 428, \"Custo\": 4.853105869626533}, {\"Iteracoes\": 429, \"Custo\": 4.85199685606425}, {\"Iteracoes\": 430, \"Custo\": 4.850891798108163}, {\"Iteracoes\": 431, \"Custo\": 4.84979068153122}, {\"Iteracoes\": 432, \"Custo\": 4.848693492157754}, {\"Iteracoes\": 433, \"Custo\": 4.847600215863304}, {\"Iteracoes\": 434, \"Custo\": 4.846510838574435}, {\"Iteracoes\": 435, \"Custo\": 4.845425346268525}, {\"Iteracoes\": 436, \"Custo\": 4.84434372497363}, {\"Iteracoes\": 437, \"Custo\": 4.843265960768233}, {\"Iteracoes\": 438, \"Custo\": 4.842192039781133}, {\"Iteracoes\": 439, \"Custo\": 4.841121948191205}, {\"Iteracoes\": 440, \"Custo\": 4.84005567222727}, {\"Iteracoes\": 441, \"Custo\": 4.8389931981678656}, {\"Iteracoes\": 442, \"Custo\": 4.8379345123410875}, {\"Iteracoes\": 443, \"Custo\": 4.836879601124426}, {\"Iteracoes\": 444, \"Custo\": 4.835828450944558}, {\"Iteracoes\": 445, \"Custo\": 4.834781048277189}, {\"Iteracoes\": 446, \"Custo\": 4.8337373796468714}, {\"Iteracoes\": 447, \"Custo\": 4.832697431626809}, {\"Iteracoes\": 448, \"Custo\": 4.831661190838729}, {\"Iteracoes\": 449, \"Custo\": 4.830628643952643}, {\"Iteracoes\": 450, \"Custo\": 4.82959977768672}, {\"Iteracoes\": 451, \"Custo\": 4.8285745788071015}, {\"Iteracoes\": 452, \"Custo\": 4.827553034127698}, {\"Iteracoes\": 453, \"Custo\": 4.826535130510071}, {\"Iteracoes\": 454, \"Custo\": 4.825520854863211}, {\"Iteracoes\": 455, \"Custo\": 4.8245101941433965}, {\"Iteracoes\": 456, \"Custo\": 4.823503135353989}, {\"Iteracoes\": 457, \"Custo\": 4.822499665545322}, {\"Iteracoes\": 458, \"Custo\": 4.821499771814454}, {\"Iteracoes\": 459, \"Custo\": 4.820503441305071}, {\"Iteracoes\": 460, \"Custo\": 4.819510661207268}, {\"Iteracoes\": 461, \"Custo\": 4.818521418757406}, {\"Iteracoes\": 462, \"Custo\": 4.817535701237934}, {\"Iteracoes\": 463, \"Custo\": 4.816553495977229}, {\"Iteracoes\": 464, \"Custo\": 4.815574790349423}, {\"Iteracoes\": 465, \"Custo\": 4.814599571774241}, {\"Iteracoes\": 466, \"Custo\": 4.813627827716843}, {\"Iteracoes\": 467, \"Custo\": 4.812659545687645}, {\"Iteracoes\": 468, \"Custo\": 4.811694713242165}, {\"Iteracoes\": 469, \"Custo\": 4.810733317980858}, {\"Iteracoes\": 470, \"Custo\": 4.809775347548951}, {\"Iteracoes\": 471, \"Custo\": 4.808820789636283}, {\"Iteracoes\": 472, \"Custo\": 4.807869631977149}, {\"Iteracoes\": 473, \"Custo\": 4.806921862350124}, {\"Iteracoes\": 474, \"Custo\": 4.805977468577923}, {\"Iteracoes\": 475, \"Custo\": 4.805036438527217}, {\"Iteracoes\": 476, \"Custo\": 4.804098760108498}, {\"Iteracoes\": 477, \"Custo\": 4.803164421275907}, {\"Iteracoes\": 478, \"Custo\": 4.802233410027072}, {\"Iteracoes\": 479, \"Custo\": 4.8013057144029725}, {\"Iteracoes\": 480, \"Custo\": 4.800381322487756}, {\"Iteracoes\": 481, \"Custo\": 4.799460222408591}, {\"Iteracoes\": 482, \"Custo\": 4.798542402335522}, {\"Iteracoes\": 483, \"Custo\": 4.797627850481295}, {\"Iteracoes\": 484, \"Custo\": 4.796716555101231}, {\"Iteracoes\": 485, \"Custo\": 4.795808504493042}, {\"Iteracoes\": 486, \"Custo\": 4.794903686996691}, {\"Iteracoes\": 487, \"Custo\": 4.794002090994239}, {\"Iteracoes\": 488, \"Custo\": 4.7931037049096945}, {\"Iteracoes\": 489, \"Custo\": 4.792208517208859}, {\"Iteracoes\": 490, \"Custo\": 4.791316516399177}, {\"Iteracoes\": 491, \"Custo\": 4.790427691029578}, {\"Iteracoes\": 492, \"Custo\": 4.78954202969034}, {\"Iteracoes\": 493, \"Custo\": 4.7886595210129315}, {\"Iteracoes\": 494, \"Custo\": 4.78778015366986}, {\"Iteracoes\": 495, \"Custo\": 4.786903916374525}, {\"Iteracoes\": 496, \"Custo\": 4.786030797881078}, {\"Iteracoes\": 497, \"Custo\": 4.785160786984262}, {\"Iteracoes\": 498, \"Custo\": 4.7842938725192905}, {\"Iteracoes\": 499, \"Custo\": 4.783430043361655}, {\"Iteracoes\": 500, \"Custo\": 4.782569288427027}, {\"Iteracoes\": 501, \"Custo\": 4.781711596671082}, {\"Iteracoes\": 502, \"Custo\": 4.780856957089363}, {\"Iteracoes\": 503, \"Custo\": 4.780005358717146}, {\"Iteracoes\": 504, \"Custo\": 4.779156790629284}, {\"Iteracoes\": 505, \"Custo\": 4.778311241940069}, {\"Iteracoes\": 506, \"Custo\": 4.777468701803079}, {\"Iteracoes\": 507, \"Custo\": 4.776629159411067}, {\"Iteracoes\": 508, \"Custo\": 4.775792603995781}, {\"Iteracoes\": 509, \"Custo\": 4.774959024827833}, {\"Iteracoes\": 510, \"Custo\": 4.774128411216584}, {\"Iteracoes\": 511, \"Custo\": 4.773300752509963}, {\"Iteracoes\": 512, \"Custo\": 4.7724760380943705}, {\"Iteracoes\": 513, \"Custo\": 4.771654257394503}, {\"Iteracoes\": 514, \"Custo\": 4.770835399873225}, {\"Iteracoes\": 515, \"Custo\": 4.770019455031457}, {\"Iteracoes\": 516, \"Custo\": 4.769206412407995}, {\"Iteracoes\": 517, \"Custo\": 4.7683962615793964}, {\"Iteracoes\": 518, \"Custo\": 4.7675889921598555}, {\"Iteracoes\": 519, \"Custo\": 4.76678459380103}, {\"Iteracoes\": 520, \"Custo\": 4.765983056191954}, {\"Iteracoes\": 521, \"Custo\": 4.7651843690588525}, {\"Iteracoes\": 522, \"Custo\": 4.76438852216505}, {\"Iteracoes\": 523, \"Custo\": 4.763595505310807}, {\"Iteracoes\": 524, \"Custo\": 4.762805308333211}, {\"Iteracoes\": 525, \"Custo\": 4.762017921105998}, {\"Iteracoes\": 526, \"Custo\": 4.761233333539491}, {\"Iteracoes\": 527, \"Custo\": 4.760451535580403}, {\"Iteracoes\": 528, \"Custo\": 4.759672517211741}, {\"Iteracoes\": 529, \"Custo\": 4.758896268452649}, {\"Iteracoes\": 530, \"Custo\": 4.758122779358307}, {\"Iteracoes\": 531, \"Custo\": 4.757352040019785}, {\"Iteracoes\": 532, \"Custo\": 4.756584040563904}, {\"Iteracoes\": 533, \"Custo\": 4.755818771153125}, {\"Iteracoes\": 534, \"Custo\": 4.755056221985406}, {\"Iteracoes\": 535, \"Custo\": 4.754296383294081}, {\"Iteracoes\": 536, \"Custo\": 4.753539245347729}, {\"Iteracoes\": 537, \"Custo\": 4.752784798450055}, {\"Iteracoes\": 538, \"Custo\": 4.752033032939746}, {\"Iteracoes\": 539, \"Custo\": 4.751283939190358}, {\"Iteracoes\": 540, \"Custo\": 4.750537507610181}, {\"Iteracoes\": 541, \"Custo\": 4.749793728642125}, {\"Iteracoes\": 542, \"Custo\": 4.749052592763585}, {\"Iteracoes\": 543, \"Custo\": 4.74831409048632}, {\"Iteracoes\": 544, \"Custo\": 4.747578212356327}, {\"Iteracoes\": 545, \"Custo\": 4.746844948953713}, {\"Iteracoes\": 546, \"Custo\": 4.74611429089258}, {\"Iteracoes\": 547, \"Custo\": 4.745386228820905}, {\"Iteracoes\": 548, \"Custo\": 4.7446607534203995}, {\"Iteracoes\": 549, \"Custo\": 4.7439378554064096}, {\"Iteracoes\": 550, \"Custo\": 4.743217525527773}, {\"Iteracoes\": 551, \"Custo\": 4.742499754566713}, {\"Iteracoes\": 552, \"Custo\": 4.741784533338714}, {\"Iteracoes\": 553, \"Custo\": 4.741071852692407}, {\"Iteracoes\": 554, \"Custo\": 4.740361703509428}, {\"Iteracoes\": 555, \"Custo\": 4.739654076704321}, {\"Iteracoes\": 556, \"Custo\": 4.738948963224413}, {\"Iteracoes\": 557, \"Custo\": 4.738246354049692}, {\"Iteracoes\": 558, \"Custo\": 4.737546240192687}, {\"Iteracoes\": 559, \"Custo\": 4.736848612698363}, {\"Iteracoes\": 560, \"Custo\": 4.736153462643989}, {\"Iteracoes\": 561, \"Custo\": 4.7354607811390235}, {\"Iteracoes\": 562, \"Custo\": 4.734770559325007}, {\"Iteracoes\": 563, \"Custo\": 4.734082788375433}, {\"Iteracoes\": 564, \"Custo\": 4.733397459495652}, {\"Iteracoes\": 565, \"Custo\": 4.732714563922735}, {\"Iteracoes\": 566, \"Custo\": 4.732034092925368}, {\"Iteracoes\": 567, \"Custo\": 4.731356037803733}, {\"Iteracoes\": 568, \"Custo\": 4.73068038988941}, {\"Iteracoes\": 569, \"Custo\": 4.7300071405452435}, {\"Iteracoes\": 570, \"Custo\": 4.7293362811652395}, {\"Iteracoes\": 571, \"Custo\": 4.728667803174447}, {\"Iteracoes\": 572, \"Custo\": 4.728001698028857}, {\"Iteracoes\": 573, \"Custo\": 4.727337957215277}, {\"Iteracoes\": 574, \"Custo\": 4.726676572251231}, {\"Iteracoes\": 575, \"Custo\": 4.726017534684836}, {\"Iteracoes\": 576, \"Custo\": 4.7253608360947}, {\"Iteracoes\": 577, \"Custo\": 4.724706468089819}, {\"Iteracoes\": 578, \"Custo\": 4.724054422309449}, {\"Iteracoes\": 579, \"Custo\": 4.723404690423009}, {\"Iteracoes\": 580, \"Custo\": 4.722757264129964}, {\"Iteracoes\": 581, \"Custo\": 4.722112135159729}, {\"Iteracoes\": 582, \"Custo\": 4.7214692952715405}, {\"Iteracoes\": 583, \"Custo\": 4.720828736254386}, {\"Iteracoes\": 584, \"Custo\": 4.72019044992683}, {\"Iteracoes\": 585, \"Custo\": 4.719554428136986}, {\"Iteracoes\": 586, \"Custo\": 4.718920662762348}, {\"Iteracoes\": 587, \"Custo\": 4.718289145709727}, {\"Iteracoes\": 588, \"Custo\": 4.717659868915109}, {\"Iteracoes\": 589, \"Custo\": 4.717032824343576}, {\"Iteracoes\": 590, \"Custo\": 4.7164080039891845}, {\"Iteracoes\": 591, \"Custo\": 4.715785399874878}, {\"Iteracoes\": 592, \"Custo\": 4.715165004052352}, {\"Iteracoes\": 593, \"Custo\": 4.71454680860199}, {\"Iteracoes\": 594, \"Custo\": 4.7139308056327325}, {\"Iteracoes\": 595, \"Custo\": 4.713316987281972}, {\"Iteracoes\": 596, \"Custo\": 4.712705345715477}, {\"Iteracoes\": 597, \"Custo\": 4.712095873127254}, {\"Iteracoes\": 598, \"Custo\": 4.711488561739473}, {\"Iteracoes\": 599, \"Custo\": 4.710883403802352}, {\"Iteracoes\": 600, \"Custo\": 4.710280391594057}, {\"Iteracoes\": 601, \"Custo\": 4.709679517420597}, {\"Iteracoes\": 602, \"Custo\": 4.709080773615743}, {\"Iteracoes\": 603, \"Custo\": 4.708484152540904}, {\"Iteracoes\": 604, \"Custo\": 4.707889646585045}, {\"Iteracoes\": 605, \"Custo\": 4.707297248164561}, {\"Iteracoes\": 606, \"Custo\": 4.70670694972321}, {\"Iteracoes\": 607, \"Custo\": 4.706118743731998}, {\"Iteracoes\": 608, \"Custo\": 4.705532622689084}, {\"Iteracoes\": 609, \"Custo\": 4.704948579119669}, {\"Iteracoes\": 610, \"Custo\": 4.704366605575925}, {\"Iteracoes\": 611, \"Custo\": 4.703786694636866}, {\"Iteracoes\": 612, \"Custo\": 4.7032088389082825}, {\"Iteracoes\": 613, \"Custo\": 4.702633031022602}, {\"Iteracoes\": 614, \"Custo\": 4.702059263638853}, {\"Iteracoes\": 615, \"Custo\": 4.70148752944252}, {\"Iteracoes\": 616, \"Custo\": 4.700917821145456}, {\"Iteracoes\": 617, \"Custo\": 4.700350131485792}, {\"Iteracoes\": 618, \"Custo\": 4.699784453227864}, {\"Iteracoes\": 619, \"Custo\": 4.69922077916208}, {\"Iteracoes\": 620, \"Custo\": 4.6986591021048545}, {\"Iteracoes\": 621, \"Custo\": 4.698099414898497}, {\"Iteracoes\": 622, \"Custo\": 4.697541710411126}, {\"Iteracoes\": 623, \"Custo\": 4.696985981536579}, {\"Iteracoes\": 624, \"Custo\": 4.696432221194306}, {\"Iteracoes\": 625, \"Custo\": 4.695880422329303}, {\"Iteracoes\": 626, \"Custo\": 4.695330577911977}, {\"Iteracoes\": 627, \"Custo\": 4.694782680938113}, {\"Iteracoes\": 628, \"Custo\": 4.6942367244287215}, {\"Iteracoes\": 629, \"Custo\": 4.693692701429984}, {\"Iteracoes\": 630, \"Custo\": 4.693150605013168}, {\"Iteracoes\": 631, \"Custo\": 4.692610428274483}, {\"Iteracoes\": 632, \"Custo\": 4.692072164335075}, {\"Iteracoes\": 633, \"Custo\": 4.691535806340857}, {\"Iteracoes\": 634, \"Custo\": 4.69100134746246}, {\"Iteracoes\": 635, \"Custo\": 4.690468780895145}, {\"Iteracoes\": 636, \"Custo\": 4.689938099858697}, {\"Iteracoes\": 637, \"Custo\": 4.689409297597337}, {\"Iteracoes\": 638, \"Custo\": 4.688882367379655}, {\"Iteracoes\": 639, \"Custo\": 4.688357302498499}, {\"Iteracoes\": 640, \"Custo\": 4.6878340962709055}, {\"Iteracoes\": 641, \"Custo\": 4.687312742037985}, {\"Iteracoes\": 642, \"Custo\": 4.686793233164876}, {\"Iteracoes\": 643, \"Custo\": 4.686275563040607}, {\"Iteracoes\": 644, \"Custo\": 4.685759725078056}, {\"Iteracoes\": 645, \"Custo\": 4.685245712713842}, {\"Iteracoes\": 646, \"Custo\": 4.684733519408242}, {\"Iteracoes\": 647, \"Custo\": 4.684223138645104}, {\"Iteracoes\": 648, \"Custo\": 4.683714563931773}, {\"Iteracoes\": 649, \"Custo\": 4.68320778879898}, {\"Iteracoes\": 650, \"Custo\": 4.682702806800798}, {\"Iteracoes\": 651, \"Custo\": 4.682199611514517}, {\"Iteracoes\": 652, \"Custo\": 4.681698196540574}, {\"Iteracoes\": 653, \"Custo\": 4.681198555502492}, {\"Iteracoes\": 654, \"Custo\": 4.680700682046764}, {\"Iteracoes\": 655, \"Custo\": 4.68020456984278}, {\"Iteracoes\": 656, \"Custo\": 4.679710212582751}, {\"Iteracoes\": 657, \"Custo\": 4.6792176039816304}, {\"Iteracoes\": 658, \"Custo\": 4.678726737777008}, {\"Iteracoes\": 659, \"Custo\": 4.678237607729065}, {\"Iteracoes\": 660, \"Custo\": 4.67775020762045}, {\"Iteracoes\": 661, \"Custo\": 4.677264531256237}, {\"Iteracoes\": 662, \"Custo\": 4.676780572463814}, {\"Iteracoes\": 663, \"Custo\": 4.67629832509282}, {\"Iteracoes\": 664, \"Custo\": 4.675817783015061}, {\"Iteracoes\": 665, \"Custo\": 4.675338940124432}, {\"Iteracoes\": 666, \"Custo\": 4.674861790336821}, {\"Iteracoes\": 667, \"Custo\": 4.674386327590053}, {\"Iteracoes\": 668, \"Custo\": 4.673912545843795}, {\"Iteracoes\": 669, \"Custo\": 4.673440439079482}, {\"Iteracoes\": 670, \"Custo\": 4.672970001300242}, {\"Iteracoes\": 671, \"Custo\": 4.6725012265308035}, {\"Iteracoes\": 672, \"Custo\": 4.672034108817441}, {\"Iteracoes\": 673, \"Custo\": 4.6715686422278715}, {\"Iteracoes\": 674, \"Custo\": 4.671104820851202}, {\"Iteracoes\": 675, \"Custo\": 4.670642638797817}, {\"Iteracoes\": 676, \"Custo\": 4.670182090199351}, {\"Iteracoes\": 677, \"Custo\": 4.669723169208566}, {\"Iteracoes\": 678, \"Custo\": 4.669265869999302}, {\"Iteracoes\": 679, \"Custo\": 4.66881018676639}, {\"Iteracoes\": 680, \"Custo\": 4.668356113725572}, {\"Iteracoes\": 681, \"Custo\": 4.667903645113445}, {\"Iteracoes\": 682, \"Custo\": 4.667452775187358}, {\"Iteracoes\": 683, \"Custo\": 4.667003498225363}, {\"Iteracoes\": 684, \"Custo\": 4.666555808526126}, {\"Iteracoes\": 685, \"Custo\": 4.666109700408847}, {\"Iteracoes\": 686, \"Custo\": 4.6656651682132}, {\"Iteracoes\": 687, \"Custo\": 4.665222206299261}, {\"Iteracoes\": 688, \"Custo\": 4.664780809047406}, {\"Iteracoes\": 689, \"Custo\": 4.664340970858281}, {\"Iteracoes\": 690, \"Custo\": 4.663902686152683}, {\"Iteracoes\": 691, \"Custo\": 4.663465949371531}, {\"Iteracoes\": 692, \"Custo\": 4.663030754975747}, {\"Iteracoes\": 693, \"Custo\": 4.662597097446236}, {\"Iteracoes\": 694, \"Custo\": 4.6621649712837705}, {\"Iteracoes\": 695, \"Custo\": 4.661734371008928}, {\"Iteracoes\": 696, \"Custo\": 4.661305291162041}, {\"Iteracoes\": 697, \"Custo\": 4.660877726303103}, {\"Iteracoes\": 698, \"Custo\": 4.660451671011713}, {\"Iteracoes\": 699, \"Custo\": 4.660027119886972}, {\"Iteracoes\": 700, \"Custo\": 4.659604067547463}, {\"Iteracoes\": 701, \"Custo\": 4.65918250863115}, {\"Iteracoes\": 702, \"Custo\": 4.658762437795301}, {\"Iteracoes\": 703, \"Custo\": 4.658343849716439}, {\"Iteracoes\": 704, \"Custo\": 4.657926739090263}, {\"Iteracoes\": 705, \"Custo\": 4.65751110063157}, {\"Iteracoes\": 706, \"Custo\": 4.657096929074201}, {\"Iteracoes\": 707, \"Custo\": 4.656684219170978}, {\"Iteracoes\": 708, \"Custo\": 4.656272965693602}, {\"Iteracoes\": 709, \"Custo\": 4.655863163432612}, {\"Iteracoes\": 710, \"Custo\": 4.655454807197318}, {\"Iteracoes\": 711, \"Custo\": 4.655047891815728}, {\"Iteracoes\": 712, \"Custo\": 4.654642412134465}, {\"Iteracoes\": 713, \"Custo\": 4.654238363018726}, {\"Iteracoes\": 714, \"Custo\": 4.65383573935219}, {\"Iteracoes\": 715, \"Custo\": 4.653434536036982}, {\"Iteracoes\": 716, \"Custo\": 4.653034747993559}, {\"Iteracoes\": 717, \"Custo\": 4.652636370160707}, {\"Iteracoes\": 718, \"Custo\": 4.652239397495405}, {\"Iteracoes\": 719, \"Custo\": 4.651843824972827}, {\"Iteracoes\": 720, \"Custo\": 4.65144964758622}, {\"Iteracoes\": 721, \"Custo\": 4.651056860346868}, {\"Iteracoes\": 722, \"Custo\": 4.650665458284029}, {\"Iteracoes\": 723, \"Custo\": 4.650275436444857}, {\"Iteracoes\": 724, \"Custo\": 4.649886789894336}, {\"Iteracoes\": 725, \"Custo\": 4.6494995137152335}, {\"Iteracoes\": 726, \"Custo\": 4.649113603008014}, {\"Iteracoes\": 727, \"Custo\": 4.648729052890793}, {\"Iteracoes\": 728, \"Custo\": 4.648345858499271}, {\"Iteracoes\": 729, \"Custo\": 4.647964014986644}, {\"Iteracoes\": 730, \"Custo\": 4.647583517523579}, {\"Iteracoes\": 731, \"Custo\": 4.647204361298125}, {\"Iteracoes\": 732, \"Custo\": 4.646826541515676}, {\"Iteracoes\": 733, \"Custo\": 4.646450053398862}, {\"Iteracoes\": 734, \"Custo\": 4.646074892187536}, {\"Iteracoes\": 735, \"Custo\": 4.645701053138674}, {\"Iteracoes\": 736, \"Custo\": 4.645328531526354}, {\"Iteracoes\": 737, \"Custo\": 4.644957322641654}, {\"Iteracoes\": 738, \"Custo\": 4.644587421792605}, {\"Iteracoes\": 739, \"Custo\": 4.644218824304128}, {\"Iteracoes\": 740, \"Custo\": 4.643851525517996}, {\"Iteracoes\": 741, \"Custo\": 4.64348552079274}, {\"Iteracoes\": 742, \"Custo\": 4.643120805503602}, {\"Iteracoes\": 743, \"Custo\": 4.642757375042477}, {\"Iteracoes\": 744, \"Custo\": 4.64239522481785}, {\"Iteracoes\": 745, \"Custo\": 4.642034350254735}, {\"Iteracoes\": 746, \"Custo\": 4.641674746794621}, {\"Iteracoes\": 747, \"Custo\": 4.641316409895406}, {\"Iteracoes\": 748, \"Custo\": 4.640959335031333}, {\"Iteracoes\": 749, \"Custo\": 4.640603517692944}, {\"Iteracoes\": 750, \"Custo\": 4.640248953387024}, {\"Iteracoes\": 751, \"Custo\": 4.639895637636523}, {\"Iteracoes\": 752, \"Custo\": 4.639543565980499}, {\"Iteracoes\": 753, \"Custo\": 4.639192733974092}, {\"Iteracoes\": 754, \"Custo\": 4.638843137188419}, {\"Iteracoes\": 755, \"Custo\": 4.63849477121055}, {\"Iteracoes\": 756, \"Custo\": 4.638147631643451}, {\"Iteracoes\": 757, \"Custo\": 4.637801714105896}, {\"Iteracoes\": 758, \"Custo\": 4.637457014232444}, {\"Iteracoes\": 759, \"Custo\": 4.637113527673359}, {\"Iteracoes\": 760, \"Custo\": 4.636771250094564}, {\"Iteracoes\": 761, \"Custo\": 4.636430177177582}, {\"Iteracoes\": 762, \"Custo\": 4.636090304619477}, {\"Iteracoes\": 763, \"Custo\": 4.635751628132822}, {\"Iteracoes\": 764, \"Custo\": 4.635414143445584}, {\"Iteracoes\": 765, \"Custo\": 4.635077846301151}, {\"Iteracoes\": 766, \"Custo\": 4.6347427324581805}, {\"Iteracoes\": 767, \"Custo\": 4.634408797690635}, {\"Iteracoes\": 768, \"Custo\": 4.634076037787664}, {\"Iteracoes\": 769, \"Custo\": 4.633744448553587}, {\"Iteracoes\": 770, \"Custo\": 4.63341402580782}, {\"Iteracoes\": 771, \"Custo\": 4.63308476538482}, {\"Iteracoes\": 772, \"Custo\": 4.632756663134034}, {\"Iteracoes\": 773, \"Custo\": 4.632429714919854}, {\"Iteracoes\": 774, \"Custo\": 4.632103916621551}, {\"Iteracoes\": 775, \"Custo\": 4.63177926413322}, {\"Iteracoes\": 776, \"Custo\": 4.631455753363737}, {\"Iteracoes\": 777, \"Custo\": 4.631133380236708}, {\"Iteracoes\": 778, \"Custo\": 4.630812140690394}, {\"Iteracoes\": 779, \"Custo\": 4.630492030677678}, {\"Iteracoes\": 780, \"Custo\": 4.630173046166004}, {\"Iteracoes\": 781, \"Custo\": 4.629855183137336}, {\"Iteracoes\": 782, \"Custo\": 4.629538437588086}, {\"Iteracoes\": 783, \"Custo\": 4.62922280552908}, {\"Iteracoes\": 784, \"Custo\": 4.6289082829854875}, {\"Iteracoes\": 785, \"Custo\": 4.628594865996787}, {\"Iteracoes\": 786, \"Custo\": 4.628282550616709}, {\"Iteracoes\": 787, \"Custo\": 4.627971332913182}, {\"Iteracoes\": 788, \"Custo\": 4.627661208968283}, {\"Iteracoes\": 789, \"Custo\": 4.627352174878184}, {\"Iteracoes\": 790, \"Custo\": 4.627044226753096}, {\"Iteracoes\": 791, \"Custo\": 4.626737360717242}, {\"Iteracoes\": 792, \"Custo\": 4.6264315729087695}, {\"Iteracoes\": 793, \"Custo\": 4.6261268594797285}, {\"Iteracoes\": 794, \"Custo\": 4.625823216596015}, {\"Iteracoes\": 795, \"Custo\": 4.625520640437325}, {\"Iteracoes\": 796, \"Custo\": 4.625219127197085}, {\"Iteracoes\": 797, \"Custo\": 4.624918673082427}, {\"Iteracoes\": 798, \"Custo\": 4.624619274314116}, {\"Iteracoes\": 799, \"Custo\": 4.624320927126519}, {\"Iteracoes\": 800, \"Custo\": 4.62402362776756}, {\"Iteracoes\": 801, \"Custo\": 4.623727372498633}, {\"Iteracoes\": 802, \"Custo\": 4.623432157594617}, {\"Iteracoes\": 803, \"Custo\": 4.6231379793437535}, {\"Iteracoes\": 804, \"Custo\": 4.622844834047674}, {\"Iteracoes\": 805, \"Custo\": 4.622552718021276}, {\"Iteracoes\": 806, \"Custo\": 4.622261627592745}, {\"Iteracoes\": 807, \"Custo\": 4.6219715591034465}, {\"Iteracoes\": 808, \"Custo\": 4.621682508907925}, {\"Iteracoes\": 809, \"Custo\": 4.621394473373832}, {\"Iteracoes\": 810, \"Custo\": 4.621107448881884}, {\"Iteracoes\": 811, \"Custo\": 4.620821431825805}, {\"Iteracoes\": 812, \"Custo\": 4.620536418612314}, {\"Iteracoes\": 813, \"Custo\": 4.620252405661032}, {\"Iteracoes\": 814, \"Custo\": 4.619969389404467}, {\"Iteracoes\": 815, \"Custo\": 4.6196873662879465}, {\"Iteracoes\": 816, \"Custo\": 4.6194063327696036}, {\"Iteracoes\": 817, \"Custo\": 4.619126285320287}, {\"Iteracoes\": 818, \"Custo\": 4.618847220423557}, {\"Iteracoes\": 819, \"Custo\": 4.618569134575601}, {\"Iteracoes\": 820, \"Custo\": 4.618292024285223}, {\"Iteracoes\": 821, \"Custo\": 4.618015886073775}, {\"Iteracoes\": 822, \"Custo\": 4.617740716475118}, {\"Iteracoes\": 823, \"Custo\": 4.617466512035583}, {\"Iteracoes\": 824, \"Custo\": 4.61719326931392}, {\"Iteracoes\": 825, \"Custo\": 4.616920984881242}, {\"Iteracoes\": 826, \"Custo\": 4.616649655321009}, {\"Iteracoes\": 827, \"Custo\": 4.6163792772289565}, {\"Iteracoes\": 828, \"Custo\": 4.616109847213061}, {\"Iteracoes\": 829, \"Custo\": 4.615841361893499}, {\"Iteracoes\": 830, \"Custo\": 4.615573817902601}, {\"Iteracoes\": 831, \"Custo\": 4.615307211884808}, {\"Iteracoes\": 832, \"Custo\": 4.615041540496612}, {\"Iteracoes\": 833, \"Custo\": 4.61477680040655}, {\"Iteracoes\": 834, \"Custo\": 4.61451298829512}, {\"Iteracoes\": 835, \"Custo\": 4.614250100854756}, {\"Iteracoes\": 836, \"Custo\": 4.613988134789794}, {\"Iteracoes\": 837, \"Custo\": 4.613727086816414}, {\"Iteracoes\": 838, \"Custo\": 4.613466953662593}, {\"Iteracoes\": 839, \"Custo\": 4.613207732068087}, {\"Iteracoes\": 840, \"Custo\": 4.61294941878436}, {\"Iteracoes\": 841, \"Custo\": 4.6126920105745715}, {\"Iteracoes\": 842, \"Custo\": 4.61243550421349}, {\"Iteracoes\": 843, \"Custo\": 4.612179896487514}, {\"Iteracoes\": 844, \"Custo\": 4.61192518419456}, {\"Iteracoes\": 845, \"Custo\": 4.61167136414408}, {\"Iteracoes\": 846, \"Custo\": 4.611418433156985}, {\"Iteracoes\": 847, \"Custo\": 4.6111663880656195}, {\"Iteracoes\": 848, \"Custo\": 4.610915225713698}, {\"Iteracoes\": 849, \"Custo\": 4.610664942956311}, {\"Iteracoes\": 850, \"Custo\": 4.610415536659825}, {\"Iteracoes\": 851, \"Custo\": 4.610167003701884}, {\"Iteracoes\": 852, \"Custo\": 4.609919340971352}, {\"Iteracoes\": 853, \"Custo\": 4.609672545368276}, {\"Iteracoes\": 854, \"Custo\": 4.609426613803856}, {\"Iteracoes\": 855, \"Custo\": 4.609181543200363}, {\"Iteracoes\": 856, \"Custo\": 4.608937330491166}, {\"Iteracoes\": 857, \"Custo\": 4.608693972620638}, {\"Iteracoes\": 858, \"Custo\": 4.608451466544134}, {\"Iteracoes\": 859, \"Custo\": 4.608209809227954}, {\"Iteracoes\": 860, \"Custo\": 4.6079689976493}, {\"Iteracoes\": 861, \"Custo\": 4.607729028796241}, {\"Iteracoes\": 862, \"Custo\": 4.607489899667671}, {\"Iteracoes\": 863, \"Custo\": 4.607251607273265}, {\"Iteracoes\": 864, \"Custo\": 4.607014148633442}, {\"Iteracoes\": 865, \"Custo\": 4.606777520779337}, {\"Iteracoes\": 866, \"Custo\": 4.606541720752741}, {\"Iteracoes\": 867, \"Custo\": 4.606306745606098}, {\"Iteracoes\": 868, \"Custo\": 4.606072592402412}, {\"Iteracoes\": 869, \"Custo\": 4.60583925821528}, {\"Iteracoes\": 870, \"Custo\": 4.605606740128776}, {\"Iteracoes\": 871, \"Custo\": 4.605375035237478}, {\"Iteracoes\": 872, \"Custo\": 4.60514414064639}, {\"Iteracoes\": 873, \"Custo\": 4.6049140534709245}, {\"Iteracoes\": 874, \"Custo\": 4.604684770836861}, {\"Iteracoes\": 875, \"Custo\": 4.604456289880301}, {\"Iteracoes\": 876, \"Custo\": 4.6042286077476335}, {\"Iteracoes\": 877, \"Custo\": 4.604001721595511}, {\"Iteracoes\": 878, \"Custo\": 4.603775628590787}, {\"Iteracoes\": 879, \"Custo\": 4.603550325910507}, {\"Iteracoes\": 880, \"Custo\": 4.60332581074186}, {\"Iteracoes\": 881, \"Custo\": 4.603102080282123}, {\"Iteracoes\": 882, \"Custo\": 4.602879131738655}, {\"Iteracoes\": 883, \"Custo\": 4.602656962328854}, {\"Iteracoes\": 884, \"Custo\": 4.602435569280101}, {\"Iteracoes\": 885, \"Custo\": 4.602214949829751}, {\"Iteracoes\": 886, \"Custo\": 4.6019951012250555}, {\"Iteracoes\": 887, \"Custo\": 4.601776020723189}, {\"Iteracoes\": 888, \"Custo\": 4.6015577055911665}, {\"Iteracoes\": 889, \"Custo\": 4.601340153105814}, {\"Iteracoes\": 890, \"Custo\": 4.601123360553739}, {\"Iteracoes\": 891, \"Custo\": 4.600907325231313}, {\"Iteracoes\": 892, \"Custo\": 4.600692044444599}, {\"Iteracoes\": 893, \"Custo\": 4.600477515509343}, {\"Iteracoes\": 894, \"Custo\": 4.600263735750935}, {\"Iteracoes\": 895, \"Custo\": 4.600050702504365}, {\"Iteracoes\": 896, \"Custo\": 4.599838413114208}, {\"Iteracoes\": 897, \"Custo\": 4.599626864934561}, {\"Iteracoes\": 898, \"Custo\": 4.599416055329036}, {\"Iteracoes\": 899, \"Custo\": 4.59920598167071}, {\"Iteracoes\": 900, \"Custo\": 4.598996641342091}, {\"Iteracoes\": 901, \"Custo\": 4.598788031735088}, {\"Iteracoes\": 902, \"Custo\": 4.59858015025098}, {\"Iteracoes\": 903, \"Custo\": 4.598372994300382}, {\"Iteracoes\": 904, \"Custo\": 4.598166561303202}, {\"Iteracoes\": 905, \"Custo\": 4.597960848688606}, {\"Iteracoes\": 906, \"Custo\": 4.597755853895009}, {\"Iteracoes\": 907, \"Custo\": 4.597551574370013}, {\"Iteracoes\": 908, \"Custo\": 4.597348007570397}, {\"Iteracoes\": 909, \"Custo\": 4.597145150962056}, {\"Iteracoes\": 910, \"Custo\": 4.596943002019994}, {\"Iteracoes\": 911, \"Custo\": 4.596741558228284}, {\"Iteracoes\": 912, \"Custo\": 4.596540817080024}, {\"Iteracoes\": 913, \"Custo\": 4.596340776077331}, {\"Iteracoes\": 914, \"Custo\": 4.596141432731268}, {\"Iteracoes\": 915, \"Custo\": 4.59594278456185}, {\"Iteracoes\": 916, \"Custo\": 4.595744829097991}, {\"Iteracoes\": 917, \"Custo\": 4.595547563877476}, {\"Iteracoes\": 918, \"Custo\": 4.595350986446929}, {\"Iteracoes\": 919, \"Custo\": 4.595155094361792}, {\"Iteracoes\": 920, \"Custo\": 4.594959885186276}, {\"Iteracoes\": 921, \"Custo\": 4.594765356493332}, {\"Iteracoes\": 922, \"Custo\": 4.594571505864628}, {\"Iteracoes\": 923, \"Custo\": 4.594378330890521}, {\"Iteracoes\": 924, \"Custo\": 4.59418582917001}, {\"Iteracoes\": 925, \"Custo\": 4.593993998310714}, {\"Iteracoes\": 926, \"Custo\": 4.5938028359288365}, {\"Iteracoes\": 927, \"Custo\": 4.593612339649154}, {\"Iteracoes\": 928, \"Custo\": 4.593422507104956}, {\"Iteracoes\": 929, \"Custo\": 4.5932333359380255}, {\"Iteracoes\": 930, \"Custo\": 4.593044823798614}, {\"Iteracoes\": 931, \"Custo\": 4.5928569683454095}, {\"Iteracoes\": 932, \"Custo\": 4.592669767245497}, {\"Iteracoes\": 933, \"Custo\": 4.592483218174357}, {\"Iteracoes\": 934, \"Custo\": 4.5922973188157785}, {\"Iteracoes\": 935, \"Custo\": 4.592112066861885}, {\"Iteracoes\": 936, \"Custo\": 4.591927460013085}, {\"Iteracoes\": 937, \"Custo\": 4.5917434959780286}, {\"Iteracoes\": 938, \"Custo\": 4.591560172473605}, {\"Iteracoes\": 939, \"Custo\": 4.5913774872248725}, {\"Iteracoes\": 940, \"Custo\": 4.591195437965086}, {\"Iteracoes\": 941, \"Custo\": 4.591014022435613}, {\"Iteracoes\": 942, \"Custo\": 4.590833238385922}, {\"Iteracoes\": 943, \"Custo\": 4.590653083573576}, {\"Iteracoes\": 944, \"Custo\": 4.590473555764177}, {\"Iteracoes\": 945, \"Custo\": 4.590294652731342}, {\"Iteracoes\": 946, \"Custo\": 4.590116372256681}, {\"Iteracoes\": 947, \"Custo\": 4.5899387121297615}, {\"Iteracoes\": 948, \"Custo\": 4.589761670148085}, {\"Iteracoes\": 949, \"Custo\": 4.589585244117054}, {\"Iteracoes\": 950, \"Custo\": 4.5894094318499485}, {\"Iteracoes\": 951, \"Custo\": 4.589234231167896}, {\"Iteracoes\": 952, \"Custo\": 4.589059639899827}, {\"Iteracoes\": 953, \"Custo\": 4.58888565588248}, {\"Iteracoes\": 954, \"Custo\": 4.588712276960351}, {\"Iteracoes\": 955, \"Custo\": 4.588539500985657}, {\"Iteracoes\": 956, \"Custo\": 4.588367325818338}, {\"Iteracoes\": 957, \"Custo\": 4.588195749325999}, {\"Iteracoes\": 958, \"Custo\": 4.588024769383898}, {\"Iteracoes\": 959, \"Custo\": 4.587854383874926}, {\"Iteracoes\": 960, \"Custo\": 4.587684590689542}, {\"Iteracoes\": 961, \"Custo\": 4.5875153877258095}, {\"Iteracoes\": 962, \"Custo\": 4.587346772889298}, {\"Iteracoes\": 963, \"Custo\": 4.587178744093117}, {\"Iteracoes\": 964, \"Custo\": 4.587011299257839}, {\"Iteracoes\": 965, \"Custo\": 4.58684443631152}, {\"Iteracoes\": 966, \"Custo\": 4.586678153189619}, {\"Iteracoes\": 967, \"Custo\": 4.586512447835026}, {\"Iteracoes\": 968, \"Custo\": 4.586347318198001}, {\"Iteracoes\": 969, \"Custo\": 4.586182762236147}, {\"Iteracoes\": 970, \"Custo\": 4.586018777914408}, {\"Iteracoes\": 971, \"Custo\": 4.585855363205006}, {\"Iteracoes\": 972, \"Custo\": 4.58569251608746}, {\"Iteracoes\": 973, \"Custo\": 4.585530234548514}, {\"Iteracoes\": 974, \"Custo\": 4.585368516582146}, {\"Iteracoes\": 975, \"Custo\": 4.585207360189529}, {\"Iteracoes\": 976, \"Custo\": 4.58504676337899}, {\"Iteracoes\": 977, \"Custo\": 4.584886724166011}, {\"Iteracoes\": 978, \"Custo\": 4.584727240573198}, {\"Iteracoes\": 979, \"Custo\": 4.5845683106302255}, {\"Iteracoes\": 980, \"Custo\": 4.584409932373843}, {\"Iteracoes\": 981, \"Custo\": 4.584252103847855}, {\"Iteracoes\": 982, \"Custo\": 4.584094823103055}, {\"Iteracoes\": 983, \"Custo\": 4.583938088197251}, {\"Iteracoes\": 984, \"Custo\": 4.5837818971951885}, {\"Iteracoes\": 985, \"Custo\": 4.583626248168581}, {\"Iteracoes\": 986, \"Custo\": 4.583471139196034}, {\"Iteracoes\": 987, \"Custo\": 4.583316568363043}, {\"Iteracoes\": 988, \"Custo\": 4.583162533761984}, {\"Iteracoes\": 989, \"Custo\": 4.583009033492056}, {\"Iteracoes\": 990, \"Custo\": 4.582856065659276}, {\"Iteracoes\": 991, \"Custo\": 4.582703628376464}, {\"Iteracoes\": 992, \"Custo\": 4.58255171976319}, {\"Iteracoes\": 993, \"Custo\": 4.582400337945763}, {\"Iteracoes\": 994, \"Custo\": 4.582249481057231}, {\"Iteracoes\": 995, \"Custo\": 4.582099147237314}, {\"Iteracoes\": 996, \"Custo\": 4.581949334632402}, {\"Iteracoes\": 997, \"Custo\": 4.581800041395538}, {\"Iteracoes\": 998, \"Custo\": 4.581651265686387}, {\"Iteracoes\": 999, \"Custo\": 4.581503005671204}, {\"Iteracoes\": 1000, \"Custo\": 4.581355259522816}, {\"Iteracoes\": 1001, \"Custo\": 4.581208025420604}, {\"Iteracoes\": 1002, \"Custo\": 4.581061301550466}, {\"Iteracoes\": 1003, \"Custo\": 4.580915086104822}, {\"Iteracoes\": 1004, \"Custo\": 4.580769377282541}, {\"Iteracoes\": 1005, \"Custo\": 4.58062417328898}, {\"Iteracoes\": 1006, \"Custo\": 4.580479472335905}, {\"Iteracoes\": 1007, \"Custo\": 4.580335272641495}, {\"Iteracoes\": 1008, \"Custo\": 4.580191572430317}, {\"Iteracoes\": 1009, \"Custo\": 4.58004836993331}, {\"Iteracoes\": 1010, \"Custo\": 4.579905663387733}, {\"Iteracoes\": 1011, \"Custo\": 4.579763451037172}, {\"Iteracoes\": 1012, \"Custo\": 4.579621731131516}, {\"Iteracoes\": 1013, \"Custo\": 4.579480501926914}, {\"Iteracoes\": 1014, \"Custo\": 4.5793397616857625}, {\"Iteracoes\": 1015, \"Custo\": 4.57919950867669}, {\"Iteracoes\": 1016, \"Custo\": 4.579059741174533}, {\"Iteracoes\": 1017, \"Custo\": 4.578920457460302}, {\"Iteracoes\": 1018, \"Custo\": 4.5787816558211585}, {\"Iteracoes\": 1019, \"Custo\": 4.578643334550426}, {\"Iteracoes\": 1020, \"Custo\": 4.578505491947517}, {\"Iteracoes\": 1021, \"Custo\": 4.578368126317956}, {\"Iteracoes\": 1022, \"Custo\": 4.578231235973329}, {\"Iteracoes\": 1023, \"Custo\": 4.578094819231264}, {\"Iteracoes\": 1024, \"Custo\": 4.5779588744154305}, {\"Iteracoes\": 1025, \"Custo\": 4.577823399855496}, {\"Iteracoes\": 1026, \"Custo\": 4.5776883938871125}, {\"Iteracoes\": 1027, \"Custo\": 4.577553854851893}, {\"Iteracoes\": 1028, \"Custo\": 4.577419781097398}, {\"Iteracoes\": 1029, \"Custo\": 4.577286170977099}, {\"Iteracoes\": 1030, \"Custo\": 4.577153022850375}, {\"Iteracoes\": 1031, \"Custo\": 4.577020335082457}, {\"Iteracoes\": 1032, \"Custo\": 4.576888106044475}, {\"Iteracoes\": 1033, \"Custo\": 4.5767563341133455}, {\"Iteracoes\": 1034, \"Custo\": 4.576625017671834}, {\"Iteracoes\": 1035, \"Custo\": 4.576494155108481}, {\"Iteracoes\": 1036, \"Custo\": 4.576363744817611}, {\"Iteracoes\": 1037, \"Custo\": 4.576233785199283}, {\"Iteracoes\": 1038, \"Custo\": 4.576104274659292}, {\"Iteracoes\": 1039, \"Custo\": 4.575975211609156}, {\"Iteracoes\": 1040, \"Custo\": 4.575846594466058}, {\"Iteracoes\": 1041, \"Custo\": 4.575718421652869}, {\"Iteracoes\": 1042, \"Custo\": 4.575590691598104}, {\"Iteracoes\": 1043, \"Custo\": 4.575463402735897}, {\"Iteracoes\": 1044, \"Custo\": 4.575336553505993}, {\"Iteracoes\": 1045, \"Custo\": 4.575210142353731}, {\"Iteracoes\": 1046, \"Custo\": 4.575084167730013}, {\"Iteracoes\": 1047, \"Custo\": 4.574958628091274}, {\"Iteracoes\": 1048, \"Custo\": 4.5748335218995}, {\"Iteracoes\": 1049, \"Custo\": 4.5747088476221744}, {\"Iteracoes\": 1050, \"Custo\": 4.574584603732252}, {\"Iteracoes\": 1051, \"Custo\": 4.57446078870818}, {\"Iteracoes\": 1052, \"Custo\": 4.5743374010338345}, {\"Iteracoes\": 1053, \"Custo\": 4.574214439198528}, {\"Iteracoes\": 1054, \"Custo\": 4.574091901696984}, {\"Iteracoes\": 1055, \"Custo\": 4.573969787029304}, {\"Iteracoes\": 1056, \"Custo\": 4.573848093700969}, {\"Iteracoes\": 1057, \"Custo\": 4.573726820222814}, {\"Iteracoes\": 1058, \"Custo\": 4.573605965110984}, {\"Iteracoes\": 1059, \"Custo\": 4.573485526886957}, {\"Iteracoes\": 1060, \"Custo\": 4.573365504077496}, {\"Iteracoes\": 1061, \"Custo\": 4.573245895214641}, {\"Iteracoes\": 1062, \"Custo\": 4.573126698835672}, {\"Iteracoes\": 1063, \"Custo\": 4.573007913483124}, {\"Iteracoes\": 1064, \"Custo\": 4.572889537704744}, {\"Iteracoes\": 1065, \"Custo\": 4.5727715700534635}, {\"Iteracoes\": 1066, \"Custo\": 4.572654009087401}, {\"Iteracoes\": 1067, \"Custo\": 4.572536853369846}, {\"Iteracoes\": 1068, \"Custo\": 4.572420101469223}, {\"Iteracoes\": 1069, \"Custo\": 4.5723037519590655}, {\"Iteracoes\": 1070, \"Custo\": 4.572187803418026}, {\"Iteracoes\": 1071, \"Custo\": 4.572072254429848}, {\"Iteracoes\": 1072, \"Custo\": 4.571957103583339}, {\"Iteracoes\": 1073, \"Custo\": 4.5718423494723455}, {\"Iteracoes\": 1074, \"Custo\": 4.571727990695762}, {\"Iteracoes\": 1075, \"Custo\": 4.5716140258574836}, {\"Iteracoes\": 1076, \"Custo\": 4.5715004535664026}, {\"Iteracoes\": 1077, \"Custo\": 4.571387272436405}, {\"Iteracoes\": 1078, \"Custo\": 4.5712744810863075}, {\"Iteracoes\": 1079, \"Custo\": 4.571162078139902}, {\"Iteracoes\": 1080, \"Custo\": 4.571050062225878}, {\"Iteracoes\": 1081, \"Custo\": 4.570938431977845}, {\"Iteracoes\": 1082, \"Custo\": 4.570827186034293}, {\"Iteracoes\": 1083, \"Custo\": 4.570716323038579}, {\"Iteracoes\": 1084, \"Custo\": 4.570605841638938}, {\"Iteracoes\": 1085, \"Custo\": 4.570495740488413}, {\"Iteracoes\": 1086, \"Custo\": 4.57038601824487}, {\"Iteracoes\": 1087, \"Custo\": 4.570276673570989}, {\"Iteracoes\": 1088, \"Custo\": 4.570167705134238}, {\"Iteracoes\": 1089, \"Custo\": 4.570059111606822}, {\"Iteracoes\": 1090, \"Custo\": 4.569950891665723}, {\"Iteracoes\": 1091, \"Custo\": 4.569843043992645}, {\"Iteracoes\": 1092, \"Custo\": 4.569735567274012}, {\"Iteracoes\": 1093, \"Custo\": 4.569628460200939}, {\"Iteracoes\": 1094, \"Custo\": 4.569521721469227}, {\"Iteracoes\": 1095, \"Custo\": 4.569415349779335}, {\"Iteracoes\": 1096, \"Custo\": 4.5693093438363865}, {\"Iteracoes\": 1097, \"Custo\": 4.569203702350116}, {\"Iteracoes\": 1098, \"Custo\": 4.569098424034886}, {\"Iteracoes\": 1099, \"Custo\": 4.56899350760965}, {\"Iteracoes\": 1100, \"Custo\": 4.568888951797939}, {\"Iteracoes\": 1101, \"Custo\": 4.568784755327863}, {\"Iteracoes\": 1102, \"Custo\": 4.568680916932066}, {\"Iteracoes\": 1103, \"Custo\": 4.568577435347733}, {\"Iteracoes\": 1104, \"Custo\": 4.56847430931655}, {\"Iteracoes\": 1105, \"Custo\": 4.568371537584727}, {\"Iteracoes\": 1106, \"Custo\": 4.568269118902929}, {\"Iteracoes\": 1107, \"Custo\": 4.568167052026314}, {\"Iteracoes\": 1108, \"Custo\": 4.568065335714463}, {\"Iteracoes\": 1109, \"Custo\": 4.567963968731417}, {\"Iteracoes\": 1110, \"Custo\": 4.567862949845624}, {\"Iteracoes\": 1111, \"Custo\": 4.567762277829941}, {\"Iteracoes\": 1112, \"Custo\": 4.5676619514615995}, {\"Iteracoes\": 1113, \"Custo\": 4.567561969522212}, {\"Iteracoes\": 1114, \"Custo\": 4.567462330797747}, {\"Iteracoes\": 1115, \"Custo\": 4.567363034078507}, {\"Iteracoes\": 1116, \"Custo\": 4.567264078159128}, {\"Iteracoes\": 1117, \"Custo\": 4.5671654618385435}, {\"Iteracoes\": 1118, \"Custo\": 4.567067183919985}, {\"Iteracoes\": 1119, \"Custo\": 4.5669692432109565}, {\"Iteracoes\": 1120, \"Custo\": 4.5668716385232475}, {\"Iteracoes\": 1121, \"Custo\": 4.566774368672858}, {\"Iteracoes\": 1122, \"Custo\": 4.566677432480046}, {\"Iteracoes\": 1123, \"Custo\": 4.566580828769276}, {\"Iteracoes\": 1124, \"Custo\": 4.566484556369217}, {\"Iteracoes\": 1125, \"Custo\": 4.566388614112722}, {\"Iteracoes\": 1126, \"Custo\": 4.566293000836811}, {\"Iteracoes\": 1127, \"Custo\": 4.566197715382673}, {\"Iteracoes\": 1128, \"Custo\": 4.56610275659562}, {\"Iteracoes\": 1129, \"Custo\": 4.566008123325106}, {\"Iteracoes\": 1130, \"Custo\": 4.565913814424685}, {\"Iteracoes\": 1131, \"Custo\": 4.565819828752016}, {\"Iteracoes\": 1132, \"Custo\": 4.565726165168831}, {\"Iteracoes\": 1133, \"Custo\": 4.565632822540939}, {\"Iteracoes\": 1134, \"Custo\": 4.565539799738195}, {\"Iteracoes\": 1135, \"Custo\": 4.565447095634488}, {\"Iteracoes\": 1136, \"Custo\": 4.565354709107738}, {\"Iteracoes\": 1137, \"Custo\": 4.565262639039873}, {\"Iteracoes\": 1138, \"Custo\": 4.565170884316808}, {\"Iteracoes\": 1139, \"Custo\": 4.565079443828451}, {\"Iteracoes\": 1140, \"Custo\": 4.564988316468656}, {\"Iteracoes\": 1141, \"Custo\": 4.564897501135249}, {\"Iteracoes\": 1142, \"Custo\": 4.564806996729978}, {\"Iteracoes\": 1143, \"Custo\": 4.564716802158523}, {\"Iteracoes\": 1144, \"Custo\": 4.564626916330476}, {\"Iteracoes\": 1145, \"Custo\": 4.564537338159303}, {\"Iteracoes\": 1146, \"Custo\": 4.564448066562379}, {\"Iteracoes\": 1147, \"Custo\": 4.564359100460917}, {\"Iteracoes\": 1148, \"Custo\": 4.5642704387800155}, {\"Iteracoes\": 1149, \"Custo\": 4.564182080448582}, {\"Iteracoes\": 1150, \"Custo\": 4.564094024399364}, {\"Iteracoes\": 1151, \"Custo\": 4.564006269568918}, {\"Iteracoes\": 1152, \"Custo\": 4.563918814897599}, {\"Iteracoes\": 1153, \"Custo\": 4.56383165932955}, {\"Iteracoes\": 1154, \"Custo\": 4.563744801812661}, {\"Iteracoes\": 1155, \"Custo\": 4.563658241298617}, {\"Iteracoes\": 1156, \"Custo\": 4.563571976742813}, {\"Iteracoes\": 1157, \"Custo\": 4.563486007104397}, {\"Iteracoes\": 1158, \"Custo\": 4.5634003313462195}, {\"Iteracoes\": 1159, \"Custo\": 4.563314948434836}, {\"Iteracoes\": 1160, \"Custo\": 4.563229857340496}, {\"Iteracoes\": 1161, \"Custo\": 4.563145057037126}, {\"Iteracoes\": 1162, \"Custo\": 4.563060546502314}, {\"Iteracoes\": 1163, \"Custo\": 4.562976324717282}, {\"Iteracoes\": 1164, \"Custo\": 4.562892390666921}, {\"Iteracoes\": 1165, \"Custo\": 4.562808743339719}, {\"Iteracoes\": 1166, \"Custo\": 4.562725381727789}, {\"Iteracoes\": 1167, \"Custo\": 4.562642304826835}, {\"Iteracoes\": 1168, \"Custo\": 4.5625595116361515}, {\"Iteracoes\": 1169, \"Custo\": 4.5624770011586}, {\"Iteracoes\": 1170, \"Custo\": 4.562394772400597}, {\"Iteracoes\": 1171, \"Custo\": 4.562312824372119}, {\"Iteracoes\": 1172, \"Custo\": 4.562231156086661}, {\"Iteracoes\": 1173, \"Custo\": 4.562149766561245}, {\"Iteracoes\": 1174, \"Custo\": 4.562068654816409}, {\"Iteracoes\": 1175, \"Custo\": 4.561987819876178}, {\"Iteracoes\": 1176, \"Custo\": 4.561907260768052}, {\"Iteracoes\": 1177, \"Custo\": 4.561826976523017}, {\"Iteracoes\": 1178, \"Custo\": 4.561746966175509}, {\"Iteracoes\": 1179, \"Custo\": 4.561667228763415}, {\"Iteracoes\": 1180, \"Custo\": 4.561587763328042}, {\"Iteracoes\": 1181, \"Custo\": 4.561508568914132}, {\"Iteracoes\": 1182, \"Custo\": 4.5614296445698335}, {\"Iteracoes\": 1183, \"Custo\": 4.561350989346685}, {\"Iteracoes\": 1184, \"Custo\": 4.561272602299605}, {\"Iteracoes\": 1185, \"Custo\": 4.561194482486904}, {\"Iteracoes\": 1186, \"Custo\": 4.561116628970227}, {\"Iteracoes\": 1187, \"Custo\": 4.561039040814577}, {\"Iteracoes\": 1188, \"Custo\": 4.560961717088299}, {\"Iteracoes\": 1189, \"Custo\": 4.56088465686306}, {\"Iteracoes\": 1190, \"Custo\": 4.560807859213829}, {\"Iteracoes\": 1191, \"Custo\": 4.560731323218879}, {\"Iteracoes\": 1192, \"Custo\": 4.560655047959773}, {\"Iteracoes\": 1193, \"Custo\": 4.560579032521355}, {\"Iteracoes\": 1194, \"Custo\": 4.560503275991718}, {\"Iteracoes\": 1195, \"Custo\": 4.560427777462218}, {\"Iteracoes\": 1196, \"Custo\": 4.560352536027462}, {\"Iteracoes\": 1197, \"Custo\": 4.560277550785258}, {\"Iteracoes\": 1198, \"Custo\": 4.56020282083666}, {\"Iteracoes\": 1199, \"Custo\": 4.560128345285909}, {\"Iteracoes\": 1200, \"Custo\": 4.560054123240454}, {\"Iteracoes\": 1201, \"Custo\": 4.55998015381091}, {\"Iteracoes\": 1202, \"Custo\": 4.559906436111083}, {\"Iteracoes\": 1203, \"Custo\": 4.559832969257926}, {\"Iteracoes\": 1204, \"Custo\": 4.5597597523715425}, {\"Iteracoes\": 1205, \"Custo\": 4.559686784575178}, {\"Iteracoes\": 1206, \"Custo\": 4.559614064995195}, {\"Iteracoes\": 1207, \"Custo\": 4.559541592761083}, {\"Iteracoes\": 1208, \"Custo\": 4.559469367005429}, {\"Iteracoes\": 1209, \"Custo\": 4.559397386863907}, {\"Iteracoes\": 1210, \"Custo\": 4.559325651475284}, {\"Iteracoes\": 1211, \"Custo\": 4.559254159981387}, {\"Iteracoes\": 1212, \"Custo\": 4.559182911527107}, {\"Iteracoes\": 1213, \"Custo\": 4.559111905260378}, {\"Iteracoes\": 1214, \"Custo\": 4.5590411403321855}, {\"Iteracoes\": 1215, \"Custo\": 4.558970615896529}, {\"Iteracoes\": 1216, \"Custo\": 4.55890033111042}, {\"Iteracoes\": 1217, \"Custo\": 4.5588302851338875}, {\"Iteracoes\": 1218, \"Custo\": 4.558760477129931}, {\"Iteracoes\": 1219, \"Custo\": 4.558690906264579}, {\"Iteracoes\": 1220, \"Custo\": 4.558621571706783}, {\"Iteracoes\": 1221, \"Custo\": 4.558552472628471}, {\"Iteracoes\": 1222, \"Custo\": 4.558483608204541}, {\"Iteracoes\": 1223, \"Custo\": 4.558414977612805}, {\"Iteracoes\": 1224, \"Custo\": 4.558346580034026}, {\"Iteracoes\": 1225, \"Custo\": 4.558278414651874}, {\"Iteracoes\": 1226, \"Custo\": 4.5582104806529316}, {\"Iteracoes\": 1227, \"Custo\": 4.558142777226677}, {\"Iteracoes\": 1228, \"Custo\": 4.558075303565481}, {\"Iteracoes\": 1229, \"Custo\": 4.558008058864593}, {\"Iteracoes\": 1230, \"Custo\": 4.55794104232212}, {\"Iteracoes\": 1231, \"Custo\": 4.5578742531390315}, {\"Iteracoes\": 1232, \"Custo\": 4.557807690519145}, {\"Iteracoes\": 1233, \"Custo\": 4.557741353669113}, {\"Iteracoes\": 1234, \"Custo\": 4.5576752417984165}, {\"Iteracoes\": 1235, \"Custo\": 4.557609354119355}, {\"Iteracoes\": 1236, \"Custo\": 4.557543689847021}, {\"Iteracoes\": 1237, \"Custo\": 4.557478248199311}, {\"Iteracoes\": 1238, \"Custo\": 4.557413028396916}, {\"Iteracoes\": 1239, \"Custo\": 4.557348029663283}, {\"Iteracoes\": 1240, \"Custo\": 4.5572832512246455}, {\"Iteracoes\": 1241, \"Custo\": 4.557218692309982}, {\"Iteracoes\": 1242, \"Custo\": 4.557154352151017}, {\"Iteracoes\": 1243, \"Custo\": 4.5570902299822125}, {\"Iteracoes\": 1244, \"Custo\": 4.55702632504075}, {\"Iteracoes\": 1245, \"Custo\": 4.556962636566541}, {\"Iteracoes\": 1246, \"Custo\": 4.556899163802196}, {\"Iteracoes\": 1247, \"Custo\": 4.55683590599302}, {\"Iteracoes\": 1248, \"Custo\": 4.556772862387016}, {\"Iteracoes\": 1249, \"Custo\": 4.556710032234847}, {\"Iteracoes\": 1250, \"Custo\": 4.5566474147898575}, {\"Iteracoes\": 1251, \"Custo\": 4.55658500930805}, {\"Iteracoes\": 1252, \"Custo\": 4.5565228150480666}, {\"Iteracoes\": 1253, \"Custo\": 4.5564608312712025}, {\"Iteracoes\": 1254, \"Custo\": 4.556399057241376}, {\"Iteracoes\": 1255, \"Custo\": 4.556337492225107}, {\"Iteracoes\": 1256, \"Custo\": 4.556276135491563}, {\"Iteracoes\": 1257, \"Custo\": 4.5562149863124874}, {\"Iteracoes\": 1258, \"Custo\": 4.556154043962222}, {\"Iteracoes\": 1259, \"Custo\": 4.556093307717692}, {\"Iteracoes\": 1260, \"Custo\": 4.556032776858402}, {\"Iteracoes\": 1261, \"Custo\": 4.555972450666404}, {\"Iteracoes\": 1262, \"Custo\": 4.555912328426325}, {\"Iteracoes\": 1263, \"Custo\": 4.555852409425329}, {\"Iteracoes\": 1264, \"Custo\": 4.555792692953113}, {\"Iteracoes\": 1265, \"Custo\": 4.555733178301912}, {\"Iteracoes\": 1266, \"Custo\": 4.5556738647664705}, {\"Iteracoes\": 1267, \"Custo\": 4.555614751644042}, {\"Iteracoes\": 1268, \"Custo\": 4.555555838234391}, {\"Iteracoes\": 1269, \"Custo\": 4.555497123839763}, {\"Iteracoes\": 1270, \"Custo\": 4.555438607764903}, {\"Iteracoes\": 1271, \"Custo\": 4.555380289316994}, {\"Iteracoes\": 1272, \"Custo\": 4.555322167805726}, {\"Iteracoes\": 1273, \"Custo\": 4.555264242543212}, {\"Iteracoes\": 1274, \"Custo\": 4.555206512844035}, {\"Iteracoes\": 1275, \"Custo\": 4.5551489780251995}, {\"Iteracoes\": 1276, \"Custo\": 4.555091637406159}, {\"Iteracoes\": 1277, \"Custo\": 4.555034490308773}, {\"Iteracoes\": 1278, \"Custo\": 4.554977536057312}, {\"Iteracoes\": 1279, \"Custo\": 4.554920773978459}, {\"Iteracoes\": 1280, \"Custo\": 4.554864203401283}, {\"Iteracoes\": 1281, \"Custo\": 4.55480782365724}, {\"Iteracoes\": 1282, \"Custo\": 4.55475163408018}, {\"Iteracoes\": 1283, \"Custo\": 4.554695634006309}, {\"Iteracoes\": 1284, \"Custo\": 4.554639822774187}, {\"Iteracoes\": 1285, \"Custo\": 4.5545841997247285}, {\"Iteracoes\": 1286, \"Custo\": 4.554528764201209}, {\"Iteracoes\": 1287, \"Custo\": 4.554473515549234}, {\"Iteracoes\": 1288, \"Custo\": 4.554418453116712}, {\"Iteracoes\": 1289, \"Custo\": 4.554363576253888}, {\"Iteracoes\": 1290, \"Custo\": 4.5543088843133335}, {\"Iteracoes\": 1291, \"Custo\": 4.554254376649886}, {\"Iteracoes\": 1292, \"Custo\": 4.5542000526207085}, {\"Iteracoes\": 1293, \"Custo\": 4.554145911585236}, {\"Iteracoes\": 1294, \"Custo\": 4.554091952905179}, {\"Iteracoes\": 1295, \"Custo\": 4.554038175944516}, {\"Iteracoes\": 1296, \"Custo\": 4.5539845800695}, {\"Iteracoes\": 1297, \"Custo\": 4.5539311646486205}, {\"Iteracoes\": 1298, \"Custo\": 4.553877929052615}, {\"Iteracoes\": 1299, \"Custo\": 4.553824872654465}, {\"Iteracoes\": 1300, \"Custo\": 4.553771994829379}, {\"Iteracoes\": 1301, \"Custo\": 4.5537192949547896}, {\"Iteracoes\": 1302, \"Custo\": 4.553666772410324}, {\"Iteracoes\": 1303, \"Custo\": 4.553614426577828}, {\"Iteracoes\": 1304, \"Custo\": 4.553562256841349}, {\"Iteracoes\": 1305, \"Custo\": 4.553510262587115}, {\"Iteracoes\": 1306, \"Custo\": 4.553458443203537}, {\"Iteracoes\": 1307, \"Custo\": 4.553406798081202}, {\"Iteracoes\": 1308, \"Custo\": 4.553355326612851}, {\"Iteracoes\": 1309, \"Custo\": 4.553304028193402}, {\"Iteracoes\": 1310, \"Custo\": 4.553252902219908}, {\"Iteracoes\": 1311, \"Custo\": 4.5532019480915675}, {\"Iteracoes\": 1312, \"Custo\": 4.553151165209721}, {\"Iteracoes\": 1313, \"Custo\": 4.553100552977816}, {\"Iteracoes\": 1314, \"Custo\": 4.553050110801446}, {\"Iteracoes\": 1315, \"Custo\": 4.552999838088299}, {\"Iteracoes\": 1316, \"Custo\": 4.552949734248176}, {\"Iteracoes\": 1317, \"Custo\": 4.552899798692955}, {\"Iteracoes\": 1318, \"Custo\": 4.552850030836634}, {\"Iteracoes\": 1319, \"Custo\": 4.552800430095265}, {\"Iteracoes\": 1320, \"Custo\": 4.552750995886987}, {\"Iteracoes\": 1321, \"Custo\": 4.552701727632004}, {\"Iteracoes\": 1322, \"Custo\": 4.552652624752584}, {\"Iteracoes\": 1323, \"Custo\": 4.552603686673037}, {\"Iteracoes\": 1324, \"Custo\": 4.5525549128197165}, {\"Iteracoes\": 1325, \"Custo\": 4.552506302621031}, {\"Iteracoes\": 1326, \"Custo\": 4.552457855507394}, {\"Iteracoes\": 1327, \"Custo\": 4.552409570911256}, {\"Iteracoes\": 1328, \"Custo\": 4.5523614482670895}, {\"Iteracoes\": 1329, \"Custo\": 4.552313487011352}, {\"Iteracoes\": 1330, \"Custo\": 4.552265686582525}, {\"Iteracoes\": 1331, \"Custo\": 4.552218046421077}, {\"Iteracoes\": 1332, \"Custo\": 4.552170565969447}, {\"Iteracoes\": 1333, \"Custo\": 4.552123244672072}, {\"Iteracoes\": 1334, \"Custo\": 4.5520760819753665}, {\"Iteracoes\": 1335, \"Custo\": 4.552029077327683}, {\"Iteracoes\": 1336, \"Custo\": 4.551982230179352}, {\"Iteracoes\": 1337, \"Custo\": 4.55193553998266}, {\"Iteracoes\": 1338, \"Custo\": 4.551889006191819}, {\"Iteracoes\": 1339, \"Custo\": 4.551842628262991}, {\"Iteracoes\": 1340, \"Custo\": 4.551796405654268}, {\"Iteracoes\": 1341, \"Custo\": 4.551750337825658}, {\"Iteracoes\": 1342, \"Custo\": 4.551704424239099}, {\"Iteracoes\": 1343, \"Custo\": 4.551658664358413}, {\"Iteracoes\": 1344, \"Custo\": 4.551613057649351}, {\"Iteracoes\": 1345, \"Custo\": 4.551567603579549}, {\"Iteracoes\": 1346, \"Custo\": 4.551522301618525}, {\"Iteracoes\": 1347, \"Custo\": 4.551477151237693}, {\"Iteracoes\": 1348, \"Custo\": 4.551432151910335}, {\"Iteracoes\": 1349, \"Custo\": 4.551387303111609}, {\"Iteracoes\": 1350, \"Custo\": 4.551342604318514}, {\"Iteracoes\": 1351, \"Custo\": 4.551298055009932}, {\"Iteracoes\": 1352, \"Custo\": 4.551253654666569}, {\"Iteracoes\": 1353, \"Custo\": 4.551209402770994}, {\"Iteracoes\": 1354, \"Custo\": 4.551165298807598}, {\"Iteracoes\": 1355, \"Custo\": 4.551121342262607}, {\"Iteracoes\": 1356, \"Custo\": 4.551077532624068}, {\"Iteracoes\": 1357, \"Custo\": 4.551033869381836}, {\"Iteracoes\": 1358, \"Custo\": 4.550990352027591}, {\"Iteracoes\": 1359, \"Custo\": 4.550946980054796}, {\"Iteracoes\": 1360, \"Custo\": 4.550903752958731}, {\"Iteracoes\": 1361, \"Custo\": 4.550860670236449}, {\"Iteracoes\": 1362, \"Custo\": 4.5508177313867995}, {\"Iteracoes\": 1363, \"Custo\": 4.5507749359103995}, {\"Iteracoes\": 1364, \"Custo\": 4.550732283309642}, {\"Iteracoes\": 1365, \"Custo\": 4.550689773088683}, {\"Iteracoes\": 1366, \"Custo\": 4.550647404753432}, {\"Iteracoes\": 1367, \"Custo\": 4.550605177811559}, {\"Iteracoes\": 1368, \"Custo\": 4.550563091772473}, {\"Iteracoes\": 1369, \"Custo\": 4.550521146147319}, {\"Iteracoes\": 1370, \"Custo\": 4.550479340448983}, {\"Iteracoes\": 1371, \"Custo\": 4.550437674192075}, {\"Iteracoes\": 1372, \"Custo\": 4.550396146892921}, {\"Iteracoes\": 1373, \"Custo\": 4.550354758069574}, {\"Iteracoes\": 1374, \"Custo\": 4.550313507241777}, {\"Iteracoes\": 1375, \"Custo\": 4.550272393930989}, {\"Iteracoes\": 1376, \"Custo\": 4.550231417660357}, {\"Iteracoes\": 1377, \"Custo\": 4.550190577954726}, {\"Iteracoes\": 1378, \"Custo\": 4.550149874340613}, {\"Iteracoes\": 1379, \"Custo\": 4.550109306346228}, {\"Iteracoes\": 1380, \"Custo\": 4.550068873501438}, {\"Iteracoes\": 1381, \"Custo\": 4.550028575337787}, {\"Iteracoes\": 1382, \"Custo\": 4.549988411388467}, {\"Iteracoes\": 1383, \"Custo\": 4.5499483811883445}, {\"Iteracoes\": 1384, \"Custo\": 4.549908484273906}, {\"Iteracoes\": 1385, \"Custo\": 4.5498687201833015}, {\"Iteracoes\": 1386, \"Custo\": 4.549829088456308}, {\"Iteracoes\": 1387, \"Custo\": 4.54978958863434}, {\"Iteracoes\": 1388, \"Custo\": 4.549750220260425}, {\"Iteracoes\": 1389, \"Custo\": 4.549710982879215}, {\"Iteracoes\": 1390, \"Custo\": 4.54967187603698}, {\"Iteracoes\": 1391, \"Custo\": 4.549632899281592}, {\"Iteracoes\": 1392, \"Custo\": 4.54959405216252}, {\"Iteracoes\": 1393, \"Custo\": 4.5495553342308375}, {\"Iteracoes\": 1394, \"Custo\": 4.5495167450392024}, {\"Iteracoes\": 1395, \"Custo\": 4.54947828414186}, {\"Iteracoes\": 1396, \"Custo\": 4.549439951094628}, {\"Iteracoes\": 1397, \"Custo\": 4.549401745454901}, {\"Iteracoes\": 1398, \"Custo\": 4.549363666781642}, {\"Iteracoes\": 1399, \"Custo\": 4.549325714635369}, {\"Iteracoes\": 1400, \"Custo\": 4.549287888578168}, {\"Iteracoes\": 1401, \"Custo\": 4.549250188173669}, {\"Iteracoes\": 1402, \"Custo\": 4.549212612987042}, {\"Iteracoes\": 1403, \"Custo\": 4.549175162584998}, {\"Iteracoes\": 1404, \"Custo\": 4.549137836535794}, {\"Iteracoes\": 1405, \"Custo\": 4.549100634409196}, {\"Iteracoes\": 1406, \"Custo\": 4.549063555776506}, {\"Iteracoes\": 1407, \"Custo\": 4.549026600210537}, {\"Iteracoes\": 1408, \"Custo\": 4.54898976728562}, {\"Iteracoes\": 1409, \"Custo\": 4.54895305657758}, {\"Iteracoes\": 1410, \"Custo\": 4.548916467663764}, {\"Iteracoes\": 1411, \"Custo\": 4.548880000123}, {\"Iteracoes\": 1412, \"Custo\": 4.548843653535607}, {\"Iteracoes\": 1413, \"Custo\": 4.54880742748339}, {\"Iteracoes\": 1414, \"Custo\": 4.548771321549637}, {\"Iteracoes\": 1415, \"Custo\": 4.548735335319104}, {\"Iteracoes\": 1416, \"Custo\": 4.548699468378025}, {\"Iteracoes\": 1417, \"Custo\": 4.548663720314096}, {\"Iteracoes\": 1418, \"Custo\": 4.548628090716462}, {\"Iteracoes\": 1419, \"Custo\": 4.5485925791757325}, {\"Iteracoes\": 1420, \"Custo\": 4.54855718528396}, {\"Iteracoes\": 1421, \"Custo\": 4.548521908634635}, {\"Iteracoes\": 1422, \"Custo\": 4.548486748822705}, {\"Iteracoes\": 1423, \"Custo\": 4.548451705444525}, {\"Iteracoes\": 1424, \"Custo\": 4.5484167780978915}, {\"Iteracoes\": 1425, \"Custo\": 4.548381966382022}, {\"Iteracoes\": 1426, \"Custo\": 4.548347269897565}, {\"Iteracoes\": 1427, \"Custo\": 4.5483126882465434}, {\"Iteracoes\": 1428, \"Custo\": 4.548278221032419}, {\"Iteracoes\": 1429, \"Custo\": 4.548243867860055}, {\"Iteracoes\": 1430, \"Custo\": 4.548209628335704}, {\"Iteracoes\": 1431, \"Custo\": 4.548175502067001}, {\"Iteracoes\": 1432, \"Custo\": 4.548141488662989}, {\"Iteracoes\": 1433, \"Custo\": 4.5481075877340755}, {\"Iteracoes\": 1434, \"Custo\": 4.548073798892054}, {\"Iteracoes\": 1435, \"Custo\": 4.5480401217500885}, {\"Iteracoes\": 1436, \"Custo\": 4.548006555922714}, {\"Iteracoes\": 1437, \"Custo\": 4.547973101025822}, {\"Iteracoes\": 1438, \"Custo\": 4.547939756676666}, {\"Iteracoes\": 1439, \"Custo\": 4.547906522493846}, {\"Iteracoes\": 1440, \"Custo\": 4.547873398097315}, {\"Iteracoes\": 1441, \"Custo\": 4.547840383108383}, {\"Iteracoes\": 1442, \"Custo\": 4.547807477149658}, {\"Iteracoes\": 1443, \"Custo\": 4.547774679845129}, {\"Iteracoes\": 1444, \"Custo\": 4.547741990820082}, {\"Iteracoes\": 1445, \"Custo\": 4.547709409701137}, {\"Iteracoes\": 1446, \"Custo\": 4.547676936116238}, {\"Iteracoes\": 1447, \"Custo\": 4.547644569694632}, {\"Iteracoes\": 1448, \"Custo\": 4.547612310066889}, {\"Iteracoes\": 1449, \"Custo\": 4.547580156864875}, {\"Iteracoes\": 1450, \"Custo\": 4.547548109721762}, {\"Iteracoes\": 1451, \"Custo\": 4.547516168272011}, {\"Iteracoes\": 1452, \"Custo\": 4.5474843321513765}, {\"Iteracoes\": 1453, \"Custo\": 4.547452600996915}, {\"Iteracoes\": 1454, \"Custo\": 4.547420974446927}, {\"Iteracoes\": 1455, \"Custo\": 4.547389452141034}, {\"Iteracoes\": 1456, \"Custo\": 4.547358033720103}, {\"Iteracoes\": 1457, \"Custo\": 4.547326718826276}, {\"Iteracoes\": 1458, \"Custo\": 4.547295507102968}, {\"Iteracoes\": 1459, \"Custo\": 4.54726439819484}, {\"Iteracoes\": 1460, \"Custo\": 4.547233391747808}, {\"Iteracoes\": 1461, \"Custo\": 4.547202487409049}, {\"Iteracoes\": 1462, \"Custo\": 4.547171684826977}, {\"Iteracoes\": 1463, \"Custo\": 4.547140983651246}, {\"Iteracoes\": 1464, \"Custo\": 4.547110383532755}, {\"Iteracoes\": 1465, \"Custo\": 4.547079884123629}, {\"Iteracoes\": 1466, \"Custo\": 4.547049485077226}, {\"Iteracoes\": 1467, \"Custo\": 4.547019186048121}, {\"Iteracoes\": 1468, \"Custo\": 4.546988986692108}, {\"Iteracoes\": 1469, \"Custo\": 4.546958886666212}, {\"Iteracoes\": 1470, \"Custo\": 4.54692888562864}, {\"Iteracoes\": 1471, \"Custo\": 4.546898983238832}, {\"Iteracoes\": 1472, \"Custo\": 4.546869179157412}, {\"Iteracoes\": 1473, \"Custo\": 4.546839473046214}, {\"Iteracoes\": 1474, \"Custo\": 4.5468098645682575}, {\"Iteracoes\": 1475, \"Custo\": 4.54678035338775}, {\"Iteracoes\": 1476, \"Custo\": 4.546750939170098}, {\"Iteracoes\": 1477, \"Custo\": 4.546721621581859}, {\"Iteracoes\": 1478, \"Custo\": 4.546692400290807}, {\"Iteracoes\": 1479, \"Custo\": 4.546663274965845}, {\"Iteracoes\": 1480, \"Custo\": 4.54663424527708}, {\"Iteracoes\": 1481, \"Custo\": 4.546605310895765}, {\"Iteracoes\": 1482, \"Custo\": 4.546576471494311}, {\"Iteracoes\": 1483, \"Custo\": 4.54654772674629}, {\"Iteracoes\": 1484, \"Custo\": 4.546519076326423}, {\"Iteracoes\": 1485, \"Custo\": 4.54649051991059}, {\"Iteracoes\": 1486, \"Custo\": 4.54646205717579}, {\"Iteracoes\": 1487, \"Custo\": 4.546433687800178}, {\"Iteracoes\": 1488, \"Custo\": 4.546405411463042}, {\"Iteracoes\": 1489, \"Custo\": 4.546377227844798}, {\"Iteracoes\": 1490, \"Custo\": 4.546349136626991}, {\"Iteracoes\": 1491, \"Custo\": 4.54632113749229}, {\"Iteracoes\": 1492, \"Custo\": 4.546293230124472}, {\"Iteracoes\": 1493, \"Custo\": 4.546265414208444}, {\"Iteracoes\": 1494, \"Custo\": 4.546237689430216}, {\"Iteracoes\": 1495, \"Custo\": 4.546210055476901}, {\"Iteracoes\": 1496, \"Custo\": 4.546182512036728}, {\"Iteracoes\": 1497, \"Custo\": 4.54615505879901}, {\"Iteracoes\": 1498, \"Custo\": 4.546127695454158}, {\"Iteracoes\": 1499, \"Custo\": 4.546100421693687}, {\"Iteracoes\": 1500, \"Custo\": 4.546073237210185}]}}, {\"mode\": \"vega-lite\"});\n",
       "</script>"
      ],
      "text/plain": [
       "alt.Chart(...)"
      ]
     },
     "execution_count": 19,
     "metadata": {},
     "output_type": "execute_result"
    }
   ],
   "source": [
    "alt.Chart(df_custo).mark_line(color='red').encode(\n",
    "    x=alt.X('Iteracoes',axis=alt.Axis(title='Iterações')),\n",
    "    y=alt.Y('Custo',axis=alt.Axis(title='Custo'))\n",
    ")"
   ]
  },
  {
   "cell_type": "markdown",
   "metadata": {},
   "source": [
    "# Dataset para Regressão Linear Multivariada"
   ]
  },
  {
   "cell_type": "code",
   "execution_count": null,
   "metadata": {},
   "outputs": [],
   "source": [
    "# se estiver usando google colab\n",
    "# df_beer = pd.read_csv('/content/drive/My Drive/datasets/Consumo_cerveja.csv',nrows=365,delimiter=';')\n",
    "# df_beer.head()"
   ]
  },
  {
   "cell_type": "code",
   "execution_count": 20,
   "metadata": {},
   "outputs": [
    {
     "data": {
      "text/html": [
       "<div>\n",
       "<style scoped>\n",
       "    .dataframe tbody tr th:only-of-type {\n",
       "        vertical-align: middle;\n",
       "    }\n",
       "\n",
       "    .dataframe tbody tr th {\n",
       "        vertical-align: top;\n",
       "    }\n",
       "\n",
       "    .dataframe thead th {\n",
       "        text-align: right;\n",
       "    }\n",
       "</style>\n",
       "<table border=\"1\" class=\"dataframe\">\n",
       "  <thead>\n",
       "    <tr style=\"text-align: right;\">\n",
       "      <th></th>\n",
       "      <th>Data</th>\n",
       "      <th>Temperatura Media (C)</th>\n",
       "      <th>Temperatura Minima (C)</th>\n",
       "      <th>Temperatura Maxima (C)</th>\n",
       "      <th>Precipitacao (mm)</th>\n",
       "      <th>Final de Semana</th>\n",
       "      <th>Consumo de cerveja (litros)</th>\n",
       "    </tr>\n",
       "  </thead>\n",
       "  <tbody>\n",
       "    <tr>\n",
       "      <th>0</th>\n",
       "      <td>01/01/2015</td>\n",
       "      <td>27.30</td>\n",
       "      <td>23.9</td>\n",
       "      <td>32.5</td>\n",
       "      <td>0.0</td>\n",
       "      <td>0</td>\n",
       "      <td>25.461</td>\n",
       "    </tr>\n",
       "    <tr>\n",
       "      <th>1</th>\n",
       "      <td>02/01/2015</td>\n",
       "      <td>27.02</td>\n",
       "      <td>24.5</td>\n",
       "      <td>33.5</td>\n",
       "      <td>0.0</td>\n",
       "      <td>0</td>\n",
       "      <td>28.972</td>\n",
       "    </tr>\n",
       "    <tr>\n",
       "      <th>2</th>\n",
       "      <td>03/01/2015</td>\n",
       "      <td>24.82</td>\n",
       "      <td>22.4</td>\n",
       "      <td>29.9</td>\n",
       "      <td>0.0</td>\n",
       "      <td>1</td>\n",
       "      <td>30.814</td>\n",
       "    </tr>\n",
       "    <tr>\n",
       "      <th>3</th>\n",
       "      <td>04/01/2015</td>\n",
       "      <td>23.98</td>\n",
       "      <td>21.5</td>\n",
       "      <td>28.6</td>\n",
       "      <td>1.2</td>\n",
       "      <td>1</td>\n",
       "      <td>29.799</td>\n",
       "    </tr>\n",
       "    <tr>\n",
       "      <th>4</th>\n",
       "      <td>05/01/2015</td>\n",
       "      <td>23.82</td>\n",
       "      <td>21.0</td>\n",
       "      <td>28.3</td>\n",
       "      <td>0.0</td>\n",
       "      <td>0</td>\n",
       "      <td>28.900</td>\n",
       "    </tr>\n",
       "  </tbody>\n",
       "</table>\n",
       "</div>"
      ],
      "text/plain": [
       "         Data  Temperatura Media (C)  Temperatura Minima (C)  \\\n",
       "0  01/01/2015                  27.30                    23.9   \n",
       "1  02/01/2015                  27.02                    24.5   \n",
       "2  03/01/2015                  24.82                    22.4   \n",
       "3  04/01/2015                  23.98                    21.5   \n",
       "4  05/01/2015                  23.82                    21.0   \n",
       "\n",
       "   Temperatura Maxima (C)  Precipitacao (mm)  Final de Semana  \\\n",
       "0                    32.5                0.0                0   \n",
       "1                    33.5                0.0                0   \n",
       "2                    29.9                0.0                1   \n",
       "3                    28.6                1.2                1   \n",
       "4                    28.3                0.0                0   \n",
       "\n",
       "   Consumo de cerveja (litros)  \n",
       "0                       25.461  \n",
       "1                       28.972  \n",
       "2                       30.814  \n",
       "3                       29.799  \n",
       "4                       28.900  "
      ]
     },
     "execution_count": 20,
     "metadata": {},
     "output_type": "execute_result"
    }
   ],
   "source": [
    "df_beer = pd.read_csv('consumo_cerveja.csv',nrows=365,delimiter=';')\n",
    "df_beer.head()"
   ]
  },
  {
   "cell_type": "code",
   "execution_count": 21,
   "metadata": {},
   "outputs": [],
   "source": [
    "from sklearn.model_selection import train_test_split #para criar conjunto de treino e teste\n",
    "#alterando nome das colunas para facilitar manipulação\n",
    "df_beer = df_beer.rename(columns={'Temperatura Media (C)':'meanTemp','Temperatura Minima (C)':'minTemp','Temperatura Maxima (C)':'maxTemp',\n",
    "                       'Precipitacao (mm)':'precip','Final de Semana':'weekend','Consumo de cerveja (litros)':'consumo'})\n",
    "\n",
    "#selecionando as colunas serem usadas como features para treinar o modelo\n",
    "#selecionando a coluna meta, ou seja, aquela que eu quero predizer\n",
    "feature_col = ['maxTemp','precip','weekend']\n",
    "meta_col = ['consumo']\n",
    "\n",
    "X = df_beer[feature_col].values\n",
    "y = df_beer[meta_col].values.ravel()\n",
    "\n",
    "#adicionando nova coluna para multiplicação\n",
    "ones = np.ones([X.shape[0],1])\n",
    "X = np.concatenate((ones, X), axis=1)\n",
    "m, n = np.shape(X) #quantidade de amostras x quantidade de características\n",
    "\n",
    "split_test_size = 0.30\n",
    "X_train, X_test, y_train, y_test = train_test_split(X, y, test_size=split_test_size, random_state=42)"
   ]
  },
  {
   "cell_type": "code",
   "execution_count": 23,
   "metadata": {},
   "outputs": [
    {
     "data": {
      "text/plain": [
       "array([[ 1. , 32.5,  0. ,  0. ],\n",
       "       [ 1. , 33.5,  0. ,  0. ],\n",
       "       [ 1. , 29.9,  0. ,  1. ],\n",
       "       ...,\n",
       "       [ 1. , 24.1, 10.3,  0. ],\n",
       "       [ 1. , 22.4,  6.3,  0. ],\n",
       "       [ 1. , 29. ,  0. ,  0. ]])"
      ]
     },
     "execution_count": 23,
     "metadata": {},
     "output_type": "execute_result"
    }
   ],
   "source": [
    "X"
   ]
  },
  {
   "cell_type": "markdown",
   "metadata": {},
   "source": [
    "# Regressão Linear Multivariada"
   ]
  },
  {
   "cell_type": "code",
   "execution_count": 25,
   "metadata": {},
   "outputs": [],
   "source": [
    "class LinearRegressionMultivariate():\n",
    "    \n",
    "    def __init__(self,alpha,iterations):\n",
    "        self.alpha = alpha\n",
    "        self.iterations = iterations\n",
    "        \n",
    "    \n",
    "    def cost_function(self,X,y,theta):\n",
    "        m = len(y) #número de amostras\n",
    "        J = 0 # custo\n",
    "        \n",
    "        J = np.sum(np.square(np.dot(X, theta) - y))\n",
    "        return J*(1/(2*m))\n",
    "    \n",
    "    def gradient_descent(self, X, y, theta):\n",
    "        m = len(y)\n",
    "        J_history = np.zeros(self.iterations)\n",
    "        \n",
    "        for k in range(self.iterations):   \n",
    "            hypothesis = np.dot(X, theta)\n",
    "            loss = hypothesis - y\n",
    "            gradient = np.dot(X.transpose(), loss) / m\n",
    "            theta = theta - self.alpha * gradient\n",
    "            J_history[k] = self.cost_function(X, y, theta)\n",
    "            \n",
    "        return theta, J_history"
   ]
  },
  {
   "cell_type": "code",
   "execution_count": 26,
   "metadata": {},
   "outputs": [
    {
     "data": {
      "text/plain": [
       "array([ 5.85891726,  0.68667881, -0.05194517,  5.38578351])"
      ]
     },
     "execution_count": 26,
     "metadata": {},
     "output_type": "execute_result"
    }
   ],
   "source": [
    "#treinando\n",
    "alpha = 0.001\n",
    "iterations = 100000\n",
    "lr_geral = LinearRegressionMultivariate(alpha,iterations)\n",
    "theta = np.zeros(n)\n",
    "theta_lr, custo_h = lr_geral.gradient_descent(X_train, y_train, theta)\n",
    "theta_lr #valores finais de theta"
   ]
  },
  {
   "cell_type": "code",
   "execution_count": 27,
   "metadata": {},
   "outputs": [
    {
     "data": {
      "text/plain": [
       "(255, 4)"
      ]
     },
     "execution_count": 27,
     "metadata": {},
     "output_type": "execute_result"
    }
   ],
   "source": [
    "X_train.shape"
   ]
  },
  {
   "cell_type": "code",
   "execution_count": 28,
   "metadata": {},
   "outputs": [
    {
     "data": {
      "text/plain": [
       "(4,)"
      ]
     },
     "execution_count": 28,
     "metadata": {},
     "output_type": "execute_result"
    }
   ],
   "source": [
    "theta.shape"
   ]
  },
  {
   "cell_type": "code",
   "execution_count": 36,
   "metadata": {},
   "outputs": [
    {
     "data": {
      "text/plain": [
       "26.060741727896563"
      ]
     },
     "execution_count": 36,
     "metadata": {},
     "output_type": "execute_result"
    }
   ],
   "source": [
    "#testando com novas amostras\n",
    "#2o = Temperatura (varie de 0 a 35, para ver a mudança de consumo)\n",
    "#3o = Chuva\n",
    "#4o = Final de semana (1 ou 0)\n",
    "\n",
    "pred_value = [1,22,5.6,1]\n",
    "np.dot(pred_value,theta_lr)"
   ]
  },
  {
   "cell_type": "markdown",
   "metadata": {},
   "source": [
    "# Regressão Linear usando Scikit-Learn"
   ]
  },
  {
   "cell_type": "code",
   "execution_count": 37,
   "metadata": {},
   "outputs": [],
   "source": [
    "from sklearn import linear_model\n",
    "from sklearn.metrics import mean_squared_error"
   ]
  },
  {
   "cell_type": "code",
   "execution_count": 38,
   "metadata": {},
   "outputs": [
    {
     "data": {
      "text/plain": [
       "LinearRegression(copy_X=True, fit_intercept=True, n_jobs=None, normalize=False)"
      ]
     },
     "execution_count": 38,
     "metadata": {},
     "output_type": "execute_result"
    }
   ],
   "source": [
    "#separando os dados em conjunto de treino e teste\n",
    "#treinando o modelo\n",
    "mlr_skl = linear_model.LinearRegression()\n",
    "mlr_skl.fit(X_train, y_train.ravel()) # flatten arrays"
   ]
  },
  {
   "cell_type": "code",
   "execution_count": 39,
   "metadata": {},
   "outputs": [
    {
     "name": "stdout",
     "output_type": "stream",
     "text": [
      "5.480853459612662\n"
     ]
    },
    {
     "data": {
      "text/plain": [
       "array([ 0.        ,  0.66752499, -0.05305718,  5.33497184])"
      ]
     },
     "execution_count": 39,
     "metadata": {},
     "output_type": "execute_result"
    }
   ],
   "source": [
    "y_pred = mlr_skl.predict(X_test) # predizendo\n",
    "print(mean_squared_error(y_test,y_pred)) # MSE\n",
    "mlr_skl.coef_  #valores finais de theta"
   ]
  },
  {
   "cell_type": "code",
   "execution_count": 41,
   "metadata": {},
   "outputs": [
    {
     "data": {
      "text/plain": [
       "array([26.11957568])"
      ]
     },
     "execution_count": 41,
     "metadata": {},
     "output_type": "execute_result"
    }
   ],
   "source": [
    "#testando com novas amostras\n",
    "pred_value = [[1,22,5.6,1]]\n",
    "mlr_skl.predict(pred_value)"
   ]
  },
  {
   "cell_type": "markdown",
   "metadata": {},
   "source": [
    "# Equação Normal"
   ]
  },
  {
   "cell_type": "code",
   "execution_count": 42,
   "metadata": {},
   "outputs": [
    {
     "data": {
      "text/plain": [
       "matrix([[ 0.89911459],\n",
       "        [-0.04817406],\n",
       "        [ 5.49500367]])"
      ]
     },
     "execution_count": 42,
     "metadata": {},
     "output_type": "execute_result"
    }
   ],
   "source": [
    "X = df_beer[feature_col].values\n",
    "y = df_beer[meta_col].values\n",
    "X = np.matrix(X)\n",
    "aux1 = np.matmul(X.transpose(),X)\n",
    "inv = np.linalg.inv(aux1)\n",
    "aux2 = np.matmul(X.transpose(),y)\n",
    "theta = np.matmul(inv,aux2)\n",
    "theta"
   ]
  },
  {
   "cell_type": "markdown",
   "metadata": {},
   "source": [
    "# Dump de Modelo"
   ]
  },
  {
   "cell_type": "code",
   "execution_count": 43,
   "metadata": {},
   "outputs": [
    {
     "name": "stderr",
     "output_type": "stream",
     "text": [
      "C:\\ProgramData\\Anaconda3\\lib\\site-packages\\sklearn\\externals\\joblib\\__init__.py:15: FutureWarning: sklearn.externals.joblib is deprecated in 0.21 and will be removed in 0.23. Please import this functionality directly from joblib, which can be installed with: pip install joblib. If this warning is raised when loading pickled models, you may need to re-serialize those models with scikit-learn 0.21+.\n",
      "  warnings.warn(msg, category=FutureWarning)\n"
     ]
    },
    {
     "ename": "FileNotFoundError",
     "evalue": "[Errno 2] No such file or directory: 'C:\\\\Users\\\\dheny\\\\Documents\\\\FIAP\\\\Python\\\\codigos\\\\lr_model.pkl'",
     "output_type": "error",
     "traceback": [
      "\u001b[1;31m---------------------------------------------------------------------------\u001b[0m",
      "\u001b[1;31mFileNotFoundError\u001b[0m                         Traceback (most recent call last)",
      "\u001b[1;32m<ipython-input-43-34ace8fa6f3c>\u001b[0m in \u001b[0;36m<module>\u001b[1;34m\u001b[0m\n\u001b[0;32m      1\u001b[0m \u001b[1;32mfrom\u001b[0m \u001b[0msklearn\u001b[0m\u001b[1;33m.\u001b[0m\u001b[0mexternals\u001b[0m \u001b[1;32mimport\u001b[0m \u001b[0mjoblib\u001b[0m\u001b[1;33m\u001b[0m\u001b[1;33m\u001b[0m\u001b[0m\n\u001b[0;32m      2\u001b[0m \u001b[1;33m\u001b[0m\u001b[0m\n\u001b[1;32m----> 3\u001b[1;33m \u001b[0mjoblib\u001b[0m\u001b[1;33m.\u001b[0m\u001b[0mdump\u001b[0m\u001b[1;33m(\u001b[0m\u001b[0mmlr_skl\u001b[0m\u001b[1;33m,\u001b[0m \u001b[1;34mr'C:\\Users\\dheny\\Documents\\FIAP\\Python\\codigos\\lr_model.pkl'\u001b[0m\u001b[1;33m)\u001b[0m\u001b[1;33m\u001b[0m\u001b[1;33m\u001b[0m\u001b[0m\n\u001b[0m\u001b[0;32m      4\u001b[0m \u001b[0mlr_model_loaded\u001b[0m \u001b[1;33m=\u001b[0m \u001b[0mjoblib\u001b[0m\u001b[1;33m.\u001b[0m\u001b[0mload\u001b[0m\u001b[1;33m(\u001b[0m\u001b[1;34mr'C:\\Users\\dheny\\Documents\\FIAP\\Python\\codigos\\lr_model.pkl'\u001b[0m\u001b[1;33m)\u001b[0m\u001b[1;33m\u001b[0m\u001b[1;33m\u001b[0m\u001b[0m\n",
      "\u001b[1;32mC:\\ProgramData\\Anaconda3\\lib\\site-packages\\joblib\\numpy_pickle.py\u001b[0m in \u001b[0;36mdump\u001b[1;34m(value, filename, compress, protocol, cache_size)\u001b[0m\n\u001b[0;32m    502\u001b[0m             \u001b[0mNumpyPickler\u001b[0m\u001b[1;33m(\u001b[0m\u001b[0mf\u001b[0m\u001b[1;33m,\u001b[0m \u001b[0mprotocol\u001b[0m\u001b[1;33m=\u001b[0m\u001b[0mprotocol\u001b[0m\u001b[1;33m)\u001b[0m\u001b[1;33m.\u001b[0m\u001b[0mdump\u001b[0m\u001b[1;33m(\u001b[0m\u001b[0mvalue\u001b[0m\u001b[1;33m)\u001b[0m\u001b[1;33m\u001b[0m\u001b[1;33m\u001b[0m\u001b[0m\n\u001b[0;32m    503\u001b[0m     \u001b[1;32melif\u001b[0m \u001b[0mis_filename\u001b[0m\u001b[1;33m:\u001b[0m\u001b[1;33m\u001b[0m\u001b[1;33m\u001b[0m\u001b[0m\n\u001b[1;32m--> 504\u001b[1;33m         \u001b[1;32mwith\u001b[0m \u001b[0mopen\u001b[0m\u001b[1;33m(\u001b[0m\u001b[0mfilename\u001b[0m\u001b[1;33m,\u001b[0m \u001b[1;34m'wb'\u001b[0m\u001b[1;33m)\u001b[0m \u001b[1;32mas\u001b[0m \u001b[0mf\u001b[0m\u001b[1;33m:\u001b[0m\u001b[1;33m\u001b[0m\u001b[1;33m\u001b[0m\u001b[0m\n\u001b[0m\u001b[0;32m    505\u001b[0m             \u001b[0mNumpyPickler\u001b[0m\u001b[1;33m(\u001b[0m\u001b[0mf\u001b[0m\u001b[1;33m,\u001b[0m \u001b[0mprotocol\u001b[0m\u001b[1;33m=\u001b[0m\u001b[0mprotocol\u001b[0m\u001b[1;33m)\u001b[0m\u001b[1;33m.\u001b[0m\u001b[0mdump\u001b[0m\u001b[1;33m(\u001b[0m\u001b[0mvalue\u001b[0m\u001b[1;33m)\u001b[0m\u001b[1;33m\u001b[0m\u001b[1;33m\u001b[0m\u001b[0m\n\u001b[0;32m    506\u001b[0m     \u001b[1;32melse\u001b[0m\u001b[1;33m:\u001b[0m\u001b[1;33m\u001b[0m\u001b[1;33m\u001b[0m\u001b[0m\n",
      "\u001b[1;31mFileNotFoundError\u001b[0m: [Errno 2] No such file or directory: 'C:\\\\Users\\\\dheny\\\\Documents\\\\FIAP\\\\Python\\\\codigos\\\\lr_model.pkl'"
     ]
    }
   ],
   "source": [
    "from sklearn.externals import joblib\n",
    "\n",
    "joblib.dump(mlr_skl, r'C:\\Users\\dheny\\Documents\\FIAP\\Python\\codigos\\lr_model.pkl') \n",
    "lr_model_loaded = joblib.load(r'C:\\Users\\dheny\\Documents\\FIAP\\Python\\codigos\\lr_model.pkl') "
   ]
  },
  {
   "cell_type": "code",
   "execution_count": null,
   "metadata": {},
   "outputs": [],
   "source": [
    "lr_model_loaded.predict([[1,35,0,1]])"
   ]
  },
  {
   "cell_type": "code",
   "execution_count": null,
   "metadata": {},
   "outputs": [],
   "source": []
  }
 ],
 "metadata": {
  "kernelspec": {
   "display_name": "Python 3",
   "language": "python",
   "name": "python3"
  },
  "language_info": {
   "codemirror_mode": {
    "name": "ipython",
    "version": 3
   },
   "file_extension": ".py",
   "mimetype": "text/x-python",
   "name": "python",
   "nbconvert_exporter": "python",
   "pygments_lexer": "ipython3",
   "version": "3.6.9"
  }
 },
 "nbformat": 4,
 "nbformat_minor": 4
}
