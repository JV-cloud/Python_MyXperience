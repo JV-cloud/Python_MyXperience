{
 "cells": [
  {
   "cell_type": "markdown",
   "metadata": {},
   "source": [
    "# Regressão Linear Univariada"
   ]
  },
  {
   "cell_type": "code",
   "execution_count": 2,
   "metadata": {},
   "outputs": [],
   "source": [
    "import pandas as pd # para leitura de base de dados e manipulação de data frame\n",
    "import numpy as np # para álgebra linear\n",
    "import altair as alt # para plotar gráficos"
   ]
  },
  {
   "cell_type": "code",
   "execution_count": 3,
   "metadata": {},
   "outputs": [],
   "source": [
    "class LinearRegression():\n",
    "    \n",
    "    def __init__(self,alpha,iterations):\n",
    "        self.alpha = alpha\n",
    "        self.iterations = iterations\n",
    "    \n",
    "    def cost_function(self,X,y,theta):\n",
    "        m = len(y) #número de amostras\n",
    "        J = 0 # custo\n",
    "        \n",
    "        for i in range(m):\n",
    "            J = J + np.power((theta[0] + theta[1] * X[1][i] - y[i]),2)\n",
    "        \n",
    "        return J*(1/(2*m))\n",
    "    \n",
    "    def gradient_descent(self,X,y,theta):\n",
    "        #import pdb; pdb.set_trace()\n",
    "        m = len(y)\n",
    "        J_history = np.zeros(self.iterations)\n",
    "        temp0 = 0\n",
    "        temp1 = 0\n",
    "        \n",
    "        for k in range(self.iterations):\n",
    "        \n",
    "            for i in range(m):\n",
    "                temp0 = temp0 - self.alpha * (1/m * (theta[0] + theta[1] * X[1][i] - y[i]))\n",
    "                temp1 = temp1 - self.alpha * (1/m * (theta[0] + theta[1] * X[1][i] - y[i]))*X[1][i]\n",
    "                theta[0] = temp0\n",
    "                theta[1] = temp1\n",
    "                \n",
    "            J_history[k] = self.cost_function(X,y,theta)\n",
    "    \n",
    "        return theta,J_history"
   ]
  },
  {
   "cell_type": "code",
   "execution_count": 4,
   "metadata": {},
   "outputs": [],
   "source": [
    "# se estiver usando google colab\n",
    "# from google.colab import drive\n",
    "# drive.mount('/content/drive')"
   ]
  },
  {
   "cell_type": "code",
   "execution_count": 5,
   "metadata": {},
   "outputs": [],
   "source": [
    "# data = pd.read_csv('/content/drive/My Drive/datasets/profit.txt',header=None,names=['size','profit'])\n",
    "# data.head()"
   ]
  },
  {
   "cell_type": "code",
   "execution_count": 7,
   "metadata": {},
   "outputs": [
    {
     "data": {
      "text/html": [
       "<div>\n",
       "<style scoped>\n",
       "    .dataframe tbody tr th:only-of-type {\n",
       "        vertical-align: middle;\n",
       "    }\n",
       "\n",
       "    .dataframe tbody tr th {\n",
       "        vertical-align: top;\n",
       "    }\n",
       "\n",
       "    .dataframe thead th {\n",
       "        text-align: right;\n",
       "    }\n",
       "</style>\n",
       "<table border=\"1\" class=\"dataframe\">\n",
       "  <thead>\n",
       "    <tr style=\"text-align: right;\">\n",
       "      <th></th>\n",
       "      <th>size</th>\n",
       "      <th>profit</th>\n",
       "    </tr>\n",
       "  </thead>\n",
       "  <tbody>\n",
       "    <tr>\n",
       "      <th>0</th>\n",
       "      <td>6.1101</td>\n",
       "      <td>17.5920</td>\n",
       "    </tr>\n",
       "    <tr>\n",
       "      <th>1</th>\n",
       "      <td>5.5277</td>\n",
       "      <td>9.1302</td>\n",
       "    </tr>\n",
       "    <tr>\n",
       "      <th>2</th>\n",
       "      <td>8.5186</td>\n",
       "      <td>13.6620</td>\n",
       "    </tr>\n",
       "    <tr>\n",
       "      <th>3</th>\n",
       "      <td>7.0032</td>\n",
       "      <td>11.8540</td>\n",
       "    </tr>\n",
       "    <tr>\n",
       "      <th>4</th>\n",
       "      <td>5.8598</td>\n",
       "      <td>6.8233</td>\n",
       "    </tr>\n",
       "  </tbody>\n",
       "</table>\n",
       "</div>"
      ],
      "text/plain": [
       "     size   profit\n",
       "0  6.1101  17.5920\n",
       "1  5.5277   9.1302\n",
       "2  8.5186  13.6620\n",
       "3  7.0032  11.8540\n",
       "4  5.8598   6.8233"
      ]
     },
     "execution_count": 7,
     "metadata": {},
     "output_type": "execute_result"
    }
   ],
   "source": [
    "data = pd.read_csv('profit.txt',header=None,names=['size','profit']) # faz a leitura dos dados\n",
    "data.head() #mostra as 5 primeiras linhas"
   ]
  },
  {
   "cell_type": "code",
   "execution_count": 8,
   "metadata": {},
   "outputs": [
    {
     "data": {
      "text/html": [
       "\n",
       "<div id=\"altair-viz-59b7b6ccc5864622b7b8e4e847997199\"></div>\n",
       "<script type=\"text/javascript\">\n",
       "  (function(spec, embedOpt){\n",
       "    const outputDiv = document.getElementById(\"altair-viz-59b7b6ccc5864622b7b8e4e847997199\");\n",
       "    const paths = {\n",
       "      \"vega\": \"https://cdn.jsdelivr.net/npm//vega@5?noext\",\n",
       "      \"vega-lib\": \"https://cdn.jsdelivr.net/npm//vega-lib?noext\",\n",
       "      \"vega-lite\": \"https://cdn.jsdelivr.net/npm//vega-lite@4.0.2?noext\",\n",
       "      \"vega-embed\": \"https://cdn.jsdelivr.net/npm//vega-embed@6?noext\",\n",
       "    };\n",
       "\n",
       "    function loadScript(lib) {\n",
       "      return new Promise(function(resolve, reject) {\n",
       "        var s = document.createElement('script');\n",
       "        s.src = paths[lib];\n",
       "        s.async = true;\n",
       "        s.onload = () => resolve(paths[lib]);\n",
       "        s.onerror = () => reject(`Error loading script: ${paths[lib]}`);\n",
       "        document.getElementsByTagName(\"head\")[0].appendChild(s);\n",
       "      });\n",
       "    }\n",
       "\n",
       "    function showError(err) {\n",
       "      outputDiv.innerHTML = `<div class=\"error\" style=\"color:red;\">${err}</div>`;\n",
       "      throw err;\n",
       "    }\n",
       "\n",
       "    function displayChart(vegaEmbed) {\n",
       "      vegaEmbed(outputDiv, spec, embedOpt)\n",
       "        .catch(err => showError(`Javascript Error: ${err.message}<br>This usually means there's a typo in your chart specification. See the javascript console for the full traceback.`));\n",
       "    }\n",
       "\n",
       "    if(typeof define === \"function\" && define.amd) {\n",
       "      requirejs.config({paths});\n",
       "      require([\"vega-embed\"], displayChart, err => showError(`Error loading script: ${err.message}`));\n",
       "    } else if (typeof vegaEmbed === \"function\") {\n",
       "      displayChart(vegaEmbed);\n",
       "    } else {\n",
       "      loadScript(\"vega\")\n",
       "        .then(() => loadScript(\"vega-lite\"))\n",
       "        .then(() => loadScript(\"vega-embed\"))\n",
       "        .catch(showError)\n",
       "        .then(() => displayChart(vegaEmbed));\n",
       "    }\n",
       "  })({\"config\": {\"view\": {\"continuousWidth\": 400, \"continuousHeight\": 300}}, \"data\": {\"name\": \"data-37f65c8fda6bacbf3ae7a4de926b4d56\"}, \"mark\": {\"type\": \"circle\", \"size\": 60}, \"encoding\": {\"x\": {\"type\": \"quantitative\", \"field\": \"size\"}, \"y\": {\"type\": \"quantitative\", \"field\": \"profit\"}}, \"$schema\": \"https://vega.github.io/schema/vega-lite/v4.0.2.json\", \"datasets\": {\"data-37f65c8fda6bacbf3ae7a4de926b4d56\": [{\"size\": 6.1101, \"profit\": 17.592}, {\"size\": 5.5277, \"profit\": 9.1302}, {\"size\": 8.5186, \"profit\": 13.662}, {\"size\": 7.0032, \"profit\": 11.854000000000001}, {\"size\": 5.8598, \"profit\": 6.8233}, {\"size\": 8.3829, \"profit\": 11.886}, {\"size\": 7.4764, \"profit\": 4.3483}, {\"size\": 8.5781, \"profit\": 12.0}, {\"size\": 6.4862, \"profit\": 6.5987}, {\"size\": 5.0546, \"profit\": 3.8166}, {\"size\": 5.7107, \"profit\": 3.2522}, {\"size\": 14.164000000000001, \"profit\": 15.505}, {\"size\": 5.734, \"profit\": 3.1551}, {\"size\": 8.4084, \"profit\": 7.2258}, {\"size\": 5.6407, \"profit\": 0.71618}, {\"size\": 5.3794, \"profit\": 3.5129}, {\"size\": 6.3654, \"profit\": 5.3048}, {\"size\": 5.1301, \"profit\": 0.56077}, {\"size\": 6.4296, \"profit\": 3.6518}, {\"size\": 7.0708, \"profit\": 5.3893}, {\"size\": 6.1891, \"profit\": 3.1386}, {\"size\": 20.27, \"profit\": 21.767}, {\"size\": 5.4901, \"profit\": 4.263}, {\"size\": 6.3261, \"profit\": 5.1875}, {\"size\": 5.5649, \"profit\": 3.0825}, {\"size\": 18.945, \"profit\": 22.638}, {\"size\": 12.828, \"profit\": 13.501}, {\"size\": 10.957, \"profit\": 7.0467}, {\"size\": 13.175999999999998, \"profit\": 14.692}, {\"size\": 22.203000000000003, \"profit\": 24.147}, {\"size\": 5.2524, \"profit\": -1.22}, {\"size\": 6.5894, \"profit\": 5.9966}, {\"size\": 9.2482, \"profit\": 12.134}, {\"size\": 5.8918, \"profit\": 1.8495}, {\"size\": 8.2111, \"profit\": 6.5426}, {\"size\": 7.9334, \"profit\": 4.5623}, {\"size\": 8.0959, \"profit\": 4.1164}, {\"size\": 5.6063, \"profit\": 3.3928}, {\"size\": 12.835999999999999, \"profit\": 10.117}, {\"size\": 6.3534, \"profit\": 5.4974}, {\"size\": 5.4069, \"profit\": 0.55657}, {\"size\": 6.8825, \"profit\": 3.9115}, {\"size\": 11.708, \"profit\": 5.3854}, {\"size\": 5.7737, \"profit\": 2.4406}, {\"size\": 7.8247, \"profit\": 6.7318}, {\"size\": 7.0931, \"profit\": 1.0463}, {\"size\": 5.0702, \"profit\": 5.1337}, {\"size\": 5.8014, \"profit\": 1.844}, {\"size\": 11.7, \"profit\": 8.0043}, {\"size\": 5.5416, \"profit\": 1.0179}, {\"size\": 7.5402, \"profit\": 6.7504}, {\"size\": 5.3077, \"profit\": 1.8396}, {\"size\": 7.4239, \"profit\": 4.2885}, {\"size\": 7.6031, \"profit\": 4.9981}, {\"size\": 6.3328, \"profit\": 1.4233}, {\"size\": 6.3589, \"profit\": -1.4211}, {\"size\": 6.2742, \"profit\": 2.4756}, {\"size\": 5.6397, \"profit\": 4.6042}, {\"size\": 9.3102, \"profit\": 3.9624}, {\"size\": 9.4536, \"profit\": 5.4141}, {\"size\": 8.8254, \"profit\": 5.1694}, {\"size\": 5.1793, \"profit\": -0.74279}, {\"size\": 21.279, \"profit\": 17.929000000000002}, {\"size\": 14.908, \"profit\": 12.054}, {\"size\": 18.959, \"profit\": 17.054000000000002}, {\"size\": 7.2182, \"profit\": 4.8852}, {\"size\": 8.2951, \"profit\": 5.7442}, {\"size\": 10.236, \"profit\": 7.7754}, {\"size\": 5.4994, \"profit\": 1.0173}, {\"size\": 20.340999999999998, \"profit\": 20.991999999999997}, {\"size\": 10.136000000000001, \"profit\": 6.6799}, {\"size\": 7.3345, \"profit\": 4.0259}, {\"size\": 6.0062, \"profit\": 1.2784}, {\"size\": 7.2259, \"profit\": 3.3411}, {\"size\": 5.0269, \"profit\": -2.6807}, {\"size\": 6.5479, \"profit\": 0.29678000000000004}, {\"size\": 7.5386, \"profit\": 3.8845}, {\"size\": 5.0365, \"profit\": 5.7014}, {\"size\": 10.274000000000001, \"profit\": 6.7526}, {\"size\": 5.1077, \"profit\": 2.0576}, {\"size\": 5.7292, \"profit\": 0.47953}, {\"size\": 5.1884, \"profit\": 0.20421}, {\"size\": 6.3557, \"profit\": 0.67861}, {\"size\": 9.7687, \"profit\": 7.5435}, {\"size\": 6.5159, \"profit\": 5.3436}, {\"size\": 8.5172, \"profit\": 4.2415}, {\"size\": 9.1802, \"profit\": 6.7981}, {\"size\": 6.002000000000001, \"profit\": 0.92695}, {\"size\": 5.5204, \"profit\": 0.152}, {\"size\": 5.0594, \"profit\": 2.8214}, {\"size\": 5.7077, \"profit\": 1.8451}, {\"size\": 7.6366, \"profit\": 4.2959}, {\"size\": 5.8707, \"profit\": 7.2029}, {\"size\": 5.3054, \"profit\": 1.9869}, {\"size\": 8.2934, \"profit\": 0.14454}, {\"size\": 13.394, \"profit\": 9.0551}, {\"size\": 5.4369, \"profit\": 0.61705}]}}, {\"mode\": \"vega-lite\"});\n",
       "</script>"
      ],
      "text/plain": [
       "alt.Chart(...)"
      ]
     },
     "execution_count": 8,
     "metadata": {},
     "output_type": "execute_result"
    }
   ],
   "source": [
    "data_plot = alt.Chart(data).mark_circle(size=60).encode(\n",
    "    x='size:Q',\n",
    "    y='profit:Q'\n",
    ")\n",
    "data_plot"
   ]
  },
  {
   "cell_type": "code",
   "execution_count": 9,
   "metadata": {},
   "outputs": [],
   "source": [
    "#Preparando os dados\n",
    "x = data.iloc[0:,0:1] #dados de treinamento\n",
    "ones = np.ones(len(data)) \n",
    "x.insert(0,len(x.columns) + 1,ones)\n",
    "y = data.iloc[:,1]\n",
    "theta = np.zeros(len(x.columns))\n",
    "x.columns = range(x.shape[1])"
   ]
  },
  {
   "cell_type": "code",
   "execution_count": 10,
   "metadata": {},
   "outputs": [
    {
     "data": {
      "text/html": [
       "<div>\n",
       "<style scoped>\n",
       "    .dataframe tbody tr th:only-of-type {\n",
       "        vertical-align: middle;\n",
       "    }\n",
       "\n",
       "    .dataframe tbody tr th {\n",
       "        vertical-align: top;\n",
       "    }\n",
       "\n",
       "    .dataframe thead th {\n",
       "        text-align: right;\n",
       "    }\n",
       "</style>\n",
       "<table border=\"1\" class=\"dataframe\">\n",
       "  <thead>\n",
       "    <tr style=\"text-align: right;\">\n",
       "      <th></th>\n",
       "      <th>0</th>\n",
       "      <th>1</th>\n",
       "    </tr>\n",
       "  </thead>\n",
       "  <tbody>\n",
       "    <tr>\n",
       "      <th>0</th>\n",
       "      <td>1.0</td>\n",
       "      <td>6.1101</td>\n",
       "    </tr>\n",
       "    <tr>\n",
       "      <th>1</th>\n",
       "      <td>1.0</td>\n",
       "      <td>5.5277</td>\n",
       "    </tr>\n",
       "    <tr>\n",
       "      <th>2</th>\n",
       "      <td>1.0</td>\n",
       "      <td>8.5186</td>\n",
       "    </tr>\n",
       "    <tr>\n",
       "      <th>3</th>\n",
       "      <td>1.0</td>\n",
       "      <td>7.0032</td>\n",
       "    </tr>\n",
       "    <tr>\n",
       "      <th>4</th>\n",
       "      <td>1.0</td>\n",
       "      <td>5.8598</td>\n",
       "    </tr>\n",
       "    <tr>\n",
       "      <th>...</th>\n",
       "      <td>...</td>\n",
       "      <td>...</td>\n",
       "    </tr>\n",
       "    <tr>\n",
       "      <th>92</th>\n",
       "      <td>1.0</td>\n",
       "      <td>5.8707</td>\n",
       "    </tr>\n",
       "    <tr>\n",
       "      <th>93</th>\n",
       "      <td>1.0</td>\n",
       "      <td>5.3054</td>\n",
       "    </tr>\n",
       "    <tr>\n",
       "      <th>94</th>\n",
       "      <td>1.0</td>\n",
       "      <td>8.2934</td>\n",
       "    </tr>\n",
       "    <tr>\n",
       "      <th>95</th>\n",
       "      <td>1.0</td>\n",
       "      <td>13.3940</td>\n",
       "    </tr>\n",
       "    <tr>\n",
       "      <th>96</th>\n",
       "      <td>1.0</td>\n",
       "      <td>5.4369</td>\n",
       "    </tr>\n",
       "  </tbody>\n",
       "</table>\n",
       "<p>97 rows × 2 columns</p>\n",
       "</div>"
      ],
      "text/plain": [
       "      0        1\n",
       "0   1.0   6.1101\n",
       "1   1.0   5.5277\n",
       "2   1.0   8.5186\n",
       "3   1.0   7.0032\n",
       "4   1.0   5.8598\n",
       "..  ...      ...\n",
       "92  1.0   5.8707\n",
       "93  1.0   5.3054\n",
       "94  1.0   8.2934\n",
       "95  1.0  13.3940\n",
       "96  1.0   5.4369\n",
       "\n",
       "[97 rows x 2 columns]"
      ]
     },
     "execution_count": 10,
     "metadata": {},
     "output_type": "execute_result"
    }
   ],
   "source": [
    "x"
   ]
  },
  {
   "cell_type": "code",
   "execution_count": null,
   "metadata": {},
   "outputs": [],
   "source": [
    "#treinando o modelo\n",
    "iterations = 1500\n",
    "alpha = 0.01\n",
    "lr = LinearRegression(alpha,iterations)\n",
    "custo = lr.cost_function(x,y,theta)\n",
    "print('Custo inicial: ',custo, '\\n')\n",
    "theta_lr, custo_h = lr.gradient_descent(x,y,theta)\n",
    "print('Valores de theta_0 e theta_1: ',theta_lr)\n",
    "print('Custo final: ',custo_h[-1])"
   ]
  },
  {
   "cell_type": "code",
   "execution_count": null,
   "metadata": {},
   "outputs": [],
   "source": [
    "#predizendo os dados de treinamento\n",
    "#para ver qual a reta que a Regressão gerou\n",
    "y_hat = np.matmul(x.values,theta_lr) #retorna o profit predito para cada tamanho de população de x\n",
    "fit_plot = pd.DataFrame({'X':x[1],'Y':y_hat}) #dados para plotar nossa reta\n",
    "plot_reta = alt.Chart(fit_plot).mark_line(color='red').encode(\n",
    "    x=alt.X('X',axis=alt.Axis(title='population')),\n",
    "    y=alt.Y('Y',axis=alt.Axis(title='profit'))\n",
    ")\n",
    "data_plot + plot_reta"
   ]
  },
  {
   "cell_type": "code",
   "execution_count": null,
   "metadata": {},
   "outputs": [],
   "source": [
    "#predizendo novas amostras\n",
    "pred_1 = x[0][0] * theta_lr[0] + x[1][0] * theta_lr[1] #como funciona a predição\n",
    "print(pred_1,'\\n')\n",
    "\n",
    "pred_2 = 1 * theta_lr[0] + 14 * theta_lr[1]\n",
    "print('predição: ',pred_2)"
   ]
  },
  {
   "cell_type": "code",
   "execution_count": null,
   "metadata": {},
   "outputs": [],
   "source": [
    "fit_plot"
   ]
  },
  {
   "cell_type": "code",
   "execution_count": null,
   "metadata": {},
   "outputs": [],
   "source": [
    "it = list(range(1,1501))\n",
    "df_custo = pd.DataFrame({'Iteracoes':it,'Custo':custo_h})"
   ]
  },
  {
   "cell_type": "code",
   "execution_count": null,
   "metadata": {},
   "outputs": [],
   "source": [
    "alt.Chart(df_custo).mark_line(color='red').encode(\n",
    "    x=alt.X('Iteracoes',axis=alt.Axis(title='Iterações')),\n",
    "    y=alt.Y('Custo',axis=alt.Axis(title='Custo'))\n",
    ")"
   ]
  },
  {
   "cell_type": "markdown",
   "metadata": {},
   "source": [
    "# Dataset para Regressão Linear Multivariada"
   ]
  },
  {
   "cell_type": "code",
   "execution_count": null,
   "metadata": {},
   "outputs": [],
   "source": [
    "# se estiver usando google colab\n",
    "# df_beer = pd.read_csv('/content/drive/My Drive/datasets/Consumo_cerveja.csv',nrows=365,delimiter=';')\n",
    "# df_beer.head()"
   ]
  },
  {
   "cell_type": "code",
   "execution_count": null,
   "metadata": {},
   "outputs": [],
   "source": [
    "df_beer = pd.read_csv('bases/consumo_cerveja.csv',nrows=365,delimiter=';')\n",
    "df_beer.head()"
   ]
  },
  {
   "cell_type": "code",
   "execution_count": null,
   "metadata": {},
   "outputs": [],
   "source": [
    "from sklearn.model_selection import train_test_split #para criar conjunto de treino e teste\n",
    "#alterando nome das colunas para facilitar manipulação\n",
    "df_beer = df_beer.rename(columns={'Temperatura Media (C)':'meanTemp','Temperatura Minima (C)':'minTemp','Temperatura Maxima (C)':'maxTemp',\n",
    "                       'Precipitacao (mm)':'precip','Final de Semana':'weekend','Consumo de cerveja (litros)':'consumo'})\n",
    "\n",
    "#selecionando as colunas serem usadas como features para treinar o modelo\n",
    "#selecionando a coluna meta, ou seja, aquela que eu quero predizer\n",
    "feature_col = ['maxTemp','precip','weekend']\n",
    "meta_col = ['consumo']\n",
    "\n",
    "X = df_beer[feature_col].values\n",
    "y = df_beer[meta_col].values.ravel()\n",
    "\n",
    "#adicionando nova coluna para multiplicação\n",
    "ones = np.ones([X.shape[0],1])\n",
    "X = np.concatenate((ones, X), axis=1)\n",
    "m, n = np.shape(X) #quantidade de amostras x quantidade de características\n",
    "\n",
    "split_test_size = 0.30\n",
    "X_train, X_test, y_train, y_test = train_test_split(X, y, test_size=split_test_size, random_state=42)"
   ]
  },
  {
   "cell_type": "markdown",
   "metadata": {},
   "source": [
    "# Regressão Linear Multivariada"
   ]
  },
  {
   "cell_type": "code",
   "execution_count": null,
   "metadata": {},
   "outputs": [],
   "source": [
    "class LinearRegressionMultivariate():\n",
    "    \n",
    "    def __init__(self,alpha,iterations):\n",
    "        self.alpha = alpha\n",
    "        self.iterations = iterations\n",
    "        \n",
    "    \n",
    "    def cost_function(self,X,y,theta):\n",
    "        m = len(y) #número de amostras\n",
    "        J = 0 # custo\n",
    "        \n",
    "        J = np.sum(np.square(np.dot(X, theta) - y))\n",
    "        return J*(1/(2*m))\n",
    "    \n",
    "    def gradient_descent(self, X, y, theta):\n",
    "        m = len(y)\n",
    "        J_history = np.zeros(self.iterations)\n",
    "        \n",
    "        for k in range(self.iterations):   \n",
    "            hypothesis = np.dot(X, theta)\n",
    "            loss = hypothesis - y\n",
    "            gradient = np.dot(X.transpose(), loss) / m\n",
    "            theta = theta - self.alpha * gradient\n",
    "            J_history[k] = self.cost_function(X, y, theta)\n",
    "            \n",
    "        return theta, J_history"
   ]
  },
  {
   "cell_type": "code",
   "execution_count": null,
   "metadata": {},
   "outputs": [],
   "source": [
    "#treinando\n",
    "alpha = 0.001\n",
    "iterations = 100000\n",
    "lr_geral = LinearRegressionMultivariate(alpha,iterations)\n",
    "theta = np.zeros(n)\n",
    "theta_lr, custo_h = lr_geral.gradient_descent(X_train, y_train, theta)\n",
    "theta_lr #valores finais de theta"
   ]
  },
  {
   "cell_type": "code",
   "execution_count": null,
   "metadata": {},
   "outputs": [],
   "source": [
    "X_train.shape"
   ]
  },
  {
   "cell_type": "code",
   "execution_count": null,
   "metadata": {},
   "outputs": [],
   "source": [
    "theta.shape"
   ]
  },
  {
   "cell_type": "code",
   "execution_count": null,
   "metadata": {},
   "outputs": [],
   "source": [
    "#testando com novas amostras\n",
    "pred_value = [1,35,0,1]\n",
    "np.dot(pred_value,theta_lr)"
   ]
  },
  {
   "cell_type": "markdown",
   "metadata": {},
   "source": [
    "# Regressão Linear usando Scikit-Learn"
   ]
  },
  {
   "cell_type": "code",
   "execution_count": null,
   "metadata": {},
   "outputs": [],
   "source": [
    "from sklearn import linear_model\n",
    "from sklearn.metrics import mean_squared_error"
   ]
  },
  {
   "cell_type": "code",
   "execution_count": null,
   "metadata": {},
   "outputs": [],
   "source": [
    "#separando os dados em conjunto de treino e teste\n",
    "#treinando o modelo\n",
    "mlr_skl = linear_model.LinearRegression()\n",
    "mlr_skl.fit(X_train, y_train.ravel()) # flatten arrays"
   ]
  },
  {
   "cell_type": "code",
   "execution_count": null,
   "metadata": {},
   "outputs": [],
   "source": [
    "y_pred = mlr_skl.predict(X_test) # predizando\n",
    "print(mean_squared_error(y_test,y_pred)) # MSE\n",
    "mlr_skl.coef_  #valores finais de theta"
   ]
  },
  {
   "cell_type": "code",
   "execution_count": null,
   "metadata": {},
   "outputs": [],
   "source": [
    "#testando com novas amostras\n",
    "pred_value = [[1,35,0,1]]\n",
    "mlr_skl.predict(pred_value)"
   ]
  },
  {
   "cell_type": "markdown",
   "metadata": {},
   "source": [
    "# Equação Normal"
   ]
  },
  {
   "cell_type": "code",
   "execution_count": null,
   "metadata": {},
   "outputs": [],
   "source": [
    "X = df_beer[feature_col].values\n",
    "y = df_beer[meta_col].values\n",
    "X = np.matrix(X)\n",
    "aux1 = np.matmul(X.transpose(),X)\n",
    "inv = np.linalg.inv(aux1)\n",
    "aux2 = np.matmul(X.transpose(),y)\n",
    "theta = np.matmul(inv,aux2)\n",
    "theta"
   ]
  },
  {
   "cell_type": "markdown",
   "metadata": {},
   "source": [
    "# Dump de Modelo"
   ]
  },
  {
   "cell_type": "code",
   "execution_count": null,
   "metadata": {},
   "outputs": [],
   "source": [
    "from sklearn.externals import joblib\n",
    "\n",
    "joblib.dump(mlr_skl, r'C:\\Users\\dheny\\Documents\\FIAP\\Python\\codigos\\lr_model.pkl') \n",
    "lr_model_loaded = joblib.load(r'C:\\Users\\dheny\\Documents\\FIAP\\Python\\codigos\\lr_model.pkl') "
   ]
  },
  {
   "cell_type": "code",
   "execution_count": null,
   "metadata": {},
   "outputs": [],
   "source": [
    "lr_model_loaded.predict([[1,35,0,1]])"
   ]
  },
  {
   "cell_type": "code",
   "execution_count": null,
   "metadata": {},
   "outputs": [],
   "source": []
  }
 ],
 "metadata": {
  "kernelspec": {
   "display_name": "Python 3",
   "language": "python",
   "name": "python3"
  },
  "language_info": {
   "codemirror_mode": {
    "name": "ipython",
    "version": 3
   },
   "file_extension": ".py",
   "mimetype": "text/x-python",
   "name": "python",
   "nbconvert_exporter": "python",
   "pygments_lexer": "ipython3",
   "version": "3.6.9"
  }
 },
 "nbformat": 4,
 "nbformat_minor": 4
}
