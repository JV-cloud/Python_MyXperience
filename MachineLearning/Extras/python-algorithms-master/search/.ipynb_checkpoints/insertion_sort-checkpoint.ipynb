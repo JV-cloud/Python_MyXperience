{
 "cells": [
  {
   "cell_type": "code",
   "execution_count": 4,
   "metadata": {
    "collapsed": false
   },
   "outputs": [],
   "source": [
    "def insertion_sort_recursive(seq, i):\n",
    "    if i == 0: return                               # Base case -- do nothing\n",
    "    insertion_sort_recursive(seq, i-1)              # Sort 0..i-1\n",
    "    j = i                                           # Start \"walking\" down\n",
    "    while j > 0 and seq[j - 1] > seq[j]:            # Look for OK spot\n",
    "        seq[j - 1], seq[j] = seq[j], seq[j - 1]     # Keep moving seq[j] down\n",
    "        j -= 1                                      # Decrement j\n",
    "    return seq"
   ]
  },
  {
   "cell_type": "code",
   "execution_count": 6,
   "metadata": {
    "collapsed": false
   },
   "outputs": [
    {
     "name": "stdout",
     "output_type": "stream",
     "text": [
      "[33, 37, 42, 48, 67, 70, 78, 83, 93, 100]\n"
     ]
    }
   ],
   "source": [
    "import random\n",
    "seq = [random.randint(0, 100) for _ in range(10)]\n",
    "print(insertion_sort_recursive(seq, i=len(seq)-1))"
   ]
  },
  {
   "cell_type": "code",
   "execution_count": 9,
   "metadata": {
    "collapsed": false
   },
   "outputs": [
    {
     "name": "stdout",
     "output_type": "stream",
     "text": [
      "The slowest run took 27.25 times longer than the fastest. This could mean that an intermediate result is being cached.\n",
      "10000 loops, best of 3: 28.2 µs per loop\n"
     ]
    }
   ],
   "source": [
    "%%timeit seq = [random.randint(0, 100) for _ in range(100)]\n",
    "            insertion_sort_recursive(seq, i=len(seq)-1)"
   ]
  },
  {
   "cell_type": "code",
   "execution_count": 112,
   "metadata": {
    "collapsed": true
   },
   "outputs": [],
   "source": [
    "def insertion_sort(seq):\n",
    "    for i in range(1,len(seq)):                     # 0..i-1 sorted so far\n",
    "        j = i                                       # Start \"walking\" down\n",
    "        while j > 0 and seq[j-1] > seq[j]:          # Look for OK spot\n",
    "            seq[j-1], seq[j] = seq[j], seq[j-1]     # Keep moving seq[j] down\n",
    "            j -= 1                                  # Decrement j\n",
    "    return seq"
   ]
  },
  {
   "cell_type": "code",
   "execution_count": 115,
   "metadata": {
    "collapsed": false
   },
   "outputs": [
    {
     "name": "stdout",
     "output_type": "stream",
     "text": [
      "[88, 16, 8, 82, 45, 43, 63, 59, 35, 47]\n",
      "[8, 16, 35, 43, 45, 47, 59, 63, 82, 88]\n",
      "[8, 16, 35, 43, 45, 47, 59, 63, 82, 88]\n"
     ]
    }
   ],
   "source": [
    "seq = [random.randint(0, 100) for _ in range(10)]\n",
    "print(seq)\n",
    "print(insertion_sort(seq))\n",
    "print(seq)"
   ]
  },
  {
   "cell_type": "code",
   "execution_count": null,
   "metadata": {
    "collapsed": true
   },
   "outputs": [],
   "source": [
    "%%timeit seq = [random.randint(0, 100) for _ in range(100000)]\n",
    "        insertion_sort(seq)"
   ]
  },
  {
   "cell_type": "code",
   "execution_count": null,
   "metadata": {
    "collapsed": true
   },
   "outputs": [],
   "source": []
  }
 ],
 "metadata": {
  "kernelspec": {
   "display_name": "Python 3",
   "language": "python",
   "name": "python3"
  },
  "language_info": {
   "codemirror_mode": {
    "name": "ipython",
    "version": 3
   },
   "file_extension": ".py",
   "mimetype": "text/x-python",
   "name": "python",
   "nbconvert_exporter": "python",
   "pygments_lexer": "ipython3",
   "version": "3.5.0"
  }
 },
 "nbformat": 4,
 "nbformat_minor": 0
}
