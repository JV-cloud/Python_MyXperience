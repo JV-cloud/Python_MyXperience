{
 "cells": [
  {
   "cell_type": "code",
   "execution_count": 1,
   "metadata": {},
   "outputs": [],
   "source": [
    "def merge_sort(seq):\n",
    "    \"\"\"Recursively splits list at midoint and passes result to merge. \"\"\"\n",
    "\n",
    "    if len(seq) <= 1:\n",
    "        return seq\n",
    "    mid = len(seq) // 2\n",
    "    left = merge_sort(seq[:mid])\n",
    "    right = merge_sort(seq[mid:])\n",
    "    return merge(left, right)"
   ]
  },
  {
   "cell_type": "code",
   "execution_count": 2,
   "metadata": {},
   "outputs": [],
   "source": [
    "def merge(left, right):\n",
    "    \"\"\"Takes two lists and returns a single sorted list by comparing the\n",
    "    elements one at a time.\n",
    "    \"\"\"\n",
    "    if not left:\n",
    "        return right\n",
    "    if not right:\n",
    "        return left\n",
    "    if left[0] < right[0]:\n",
    "        return [left[0]] + merge(left[1:], right)\n",
    "    return [right[0]] + merge(left, right[1:])"
   ]
  },
  {
   "cell_type": "code",
   "execution_count": 3,
   "metadata": {},
   "outputs": [
    {
     "name": "stdout",
     "output_type": "stream",
     "text": [
      "Unsorted List:\t [7, 5, 3, 19, 2, 11, 6, 16, 3, 19, 3, 17, 1, 6, 0, 17, 16, 9, 3, 6]\nSorted List:\t [0, 1, 2, 3, 3, 3, 3, 5, 6, 6, 6, 7, 9, 11, 16, 16, 17, 17, 19, 19]\n"
     ]
    }
   ],
   "source": [
    "import random\n",
    "\n",
    "seq = [random.randint(0, 20) for r in range(20)]\n",
    "print('Unsorted List:\\t', seq)\n",
    "print('Sorted List:\\t', merge_sort(seq))"
   ]
  },
  {
   "cell_type": "code",
   "execution_count": 4,
   "metadata": {},
   "outputs": [
    {
     "name": "stdout",
     "output_type": "stream",
     "text": [
      "1000 loops, best of 3: 665 µs per loop\n"
     ]
    }
   ],
   "source": [
    "%%timeit\n",
    "seq = [random.randint(0, 100) for r in range(100)]\n",
    "merge_sort(seq)"
   ]
  },
  {
   "cell_type": "code",
   "execution_count": null,
   "metadata": {},
   "outputs": [],
   "source": [
    "def mergesort(seq):\n",
    "    mid = len(seq)//2\n",
    "    lft, rgt = seq[:mid], seq[mid:]\n",
    "    if len(lft) > 1: \n",
    "        lft = mergesort(lft)\n",
    "    if len(rgt) > 1: \n",
    "        rgt = mergesort(rgt)\n",
    "    res = []\n",
    "    while lft and rgt:\n",
    "        if lft[-1] >= rgt[-1]:\n",
    "            res.append(lft.pop())\n",
    "        else:\n",
    "            res.append(rgt.pop())\n",
    "    res.reverse()\n",
    "    return (lft or rgt) + res"
   ]
  }
 ],
 "metadata": {
  "kernelspec": {
   "display_name": "Python 2",
   "language": "python",
   "name": "python2"
  },
  "language_info": {
   "codemirror_mode": {
    "name": "ipython",
    "version": 2.0
   },
   "file_extension": ".py",
   "mimetype": "text/x-python",
   "name": "python",
   "nbconvert_exporter": "python",
   "pygments_lexer": "ipython2",
   "version": "2.7.6"
  }
 },
 "nbformat": 4,
 "nbformat_minor": 0
}