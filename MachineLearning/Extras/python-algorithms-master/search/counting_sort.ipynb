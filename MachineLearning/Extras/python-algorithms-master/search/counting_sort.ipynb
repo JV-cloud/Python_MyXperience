{
 "cells": [
  {
   "cell_type": "code",
   "execution_count": 10,
   "metadata": {
    "collapsed": true
   },
   "outputs": [],
   "source": [
    "from collections import defaultdict\n",
    "\n",
    "def counting_sort(seq, key=lambda x: x):\n",
    "    \"\"\"Sorting in linear time for countable objects\"\"\"\n",
    "    \n",
    "    B, C = [], defaultdict(list)        # Output and \"counts\"\n",
    "    for x in seq:\n",
    "        C[key(x)].append(x)              # Create key: [value] structure\n",
    "    for k in range(min(C), max(C) + 1):  # Iterate from min to max key \n",
    "        B.extend(C[k])                   # Add values in sorted order\n",
    "    return B"
   ]
  },
  {
   "cell_type": "code",
   "execution_count": 11,
   "metadata": {},
   "outputs": [
    {
     "name": "stdout",
     "output_type": "stream",
     "text": [
      "[12, 90, 16, 13, 2, 69, 40, 40, 86, 25]\n[2, 12, 13, 16, 25, 40, 40, 69, 86, 90]\n"
     ]
    }
   ],
   "source": [
    "import random\n",
    "seq = [random.randint(0, 100) for _ in range(10)]\n",
    "print(seq)\n",
    "print(counting_sort(seq))"
   ]
  },
  {
   "cell_type": "code",
   "execution_count": 5,
   "metadata": {},
   "outputs": [
    {
     "name": "stdout",
     "output_type": "stream",
     "text": [
      "1000 loops, best of 3: 237 µs per loop\n"
     ]
    }
   ],
   "source": [
    "%%timeit\n",
    "seq = [random.randint(0, 100) for _ in range(100)]\n",
    "counting_sort(seq)"
   ]
  },
  {
   "cell_type": "code",
   "execution_count": null,
   "metadata": {},
   "outputs": [],
   "source": [
    ""
   ]
  }
 ],
 "metadata": {
  "kernelspec": {
   "display_name": "Python 2",
   "language": "python",
   "name": "python2"
  },
  "language_info": {
   "codemirror_mode": {
    "name": "ipython",
    "version": 2.0
   },
   "file_extension": ".py",
   "mimetype": "text/x-python",
   "name": "python",
   "nbconvert_exporter": "python",
   "pygments_lexer": "ipython2",
   "version": "2.7.6"
  }
 },
 "nbformat": 4,
 "nbformat_minor": 0
}