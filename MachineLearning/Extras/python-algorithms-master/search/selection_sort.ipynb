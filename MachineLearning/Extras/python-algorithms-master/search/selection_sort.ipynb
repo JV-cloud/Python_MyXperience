{
 "cells": [
  {
   "cell_type": "code",
   "execution_count": 17,
   "metadata": {
    "collapsed": true
   },
   "outputs": [],
   "source": [
    "def selection_sort_recursive(seq, i):\n",
    "    if i == 0: return                           # Base case\n",
    "    max_j = i                                   # Idx. of largest value so far\n",
    "    for j in range(i):                          # Look for a larger value\n",
    "        if seq[j] > seq[max_j]: max_j = j       # Found one? Update max_j\n",
    "    seq[i], seq[max_j] = seq[max_j], seq[i] # Switch largest into place\n",
    "    selection_sort_recursive(seq, i-1)      # Sort 0..i-1\n",
    "    return seq"
   ]
  },
  {
   "cell_type": "code",
   "execution_count": 18,
   "metadata": {},
   "outputs": [
    {
     "name": "stdout",
     "output_type": "stream",
     "text": [
      "[5, 80, 55, 37, 69, 45, 90, 13, 45, 21]\n[5, 13, 21, 37, 45, 45, 55, 69, 80, 90]\n"
     ]
    }
   ],
   "source": [
    "import random\n",
    "seq = [random.randint(0, 100) for _ in range(10)]\n",
    "print(seq)\n",
    "print(selection_sort_recursive(seq, i=len(seq)-1))"
   ]
  },
  {
   "cell_type": "code",
   "execution_count": 19,
   "metadata": {},
   "outputs": [
    {
     "name": "stdout",
     "output_type": "stream",
     "text": [
      "1000 loops, best of 3: 529 µs per loop\n"
     ]
    }
   ],
   "source": [
    "%%timeit \n",
    "seq = [random.randint(0, 100) for _ in range(100)]\n",
    "selection_sort_recursive(seq, i=len(seq)-1)"
   ]
  },
  {
   "cell_type": "code",
   "execution_count": 20,
   "metadata": {},
   "outputs": [],
   "source": [
    "def selection_sort(seq):\n",
    "    for i in range(len(seq)-1,0,-1):            # n..i+1 sorted so far\n",
    "        max_j = i                               # Idx. of largest value so far\n",
    "        for j in range(i):                      # Look for a larger value\n",
    "            if seq[j] > seq[max_j]: max_j = j   # Found one? Update max_j\n",
    "        seq[i], seq[max_j] = seq[max_j], seq[i] # Switch largest into place\n",
    "    return seq"
   ]
  },
  {
   "cell_type": "code",
   "execution_count": 21,
   "metadata": {},
   "outputs": [
    {
     "name": "stdout",
     "output_type": "stream",
     "text": [
      "[73, 48, 6, 89, 19, 31, 88, 61, 27, 62]\n[6, 19, 27, 31, 48, 61, 62, 73, 88, 89]\n"
     ]
    }
   ],
   "source": [
    "seq = [random.randint(0, 100) for _ in range(10)]\n",
    "print(seq)\n",
    "print(selection_sort(seq))"
   ]
  },
  {
   "cell_type": "code",
   "execution_count": 23,
   "metadata": {},
   "outputs": [
    {
     "name": "stdout",
     "output_type": "stream",
     "text": [
      "1000 loops, best of 3: 496 µs per loop\n"
     ]
    }
   ],
   "source": [
    "%%timeit \n",
    "seq = [random.randint(0, 100) for _ in range(100)]\n",
    "selection_sort(seq)"
   ]
  },
  {
   "cell_type": "code",
   "execution_count": null,
   "metadata": {},
   "outputs": [],
   "source": [
    ""
   ]
  }
 ],
 "metadata": {
  "kernelspec": {
   "display_name": "Python 2",
   "language": "python",
   "name": "python2"
  },
  "language_info": {
   "codemirror_mode": {
    "name": "ipython",
    "version": 2.0
   },
   "file_extension": ".py",
   "mimetype": "text/x-python",
   "name": "python",
   "nbconvert_exporter": "python",
   "pygments_lexer": "ipython2",
   "version": "2.7.6"
  }
 },
 "nbformat": 4,
 "nbformat_minor": 0
}