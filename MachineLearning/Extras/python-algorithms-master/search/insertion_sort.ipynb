{
 "cells": [
  {
   "cell_type": "code",
   "execution_count": 4,
   "metadata": {
    "collapsed": false
   },
   "outputs": [],
   "source": [
    "def insertion_sort_recursive(seq, i):\n",
    "    if i == 0: return                               # Base case -- do nothing\n",
    "    insertion_sort_recursive(seq, i-1)              # Sort 0..i-1\n",
    "    j = i                                           # Start \"walking\" down\n",
    "    while j > 0 and seq[j - 1] > seq[j]:            # Look for OK spot\n",
    "        seq[j - 1], seq[j] = seq[j], seq[j - 1]     # Keep moving seq[j] down\n",
    "        j -= 1                                      # Decrement j\n",
    "    return seq"
   ]
  },
  {
   "cell_type": "code",
   "execution_count": 14,
   "metadata": {
    "collapsed": false
   },
   "outputs": [
    {
     "name": "stdout",
     "output_type": "stream",
     "text": [
      "[46, 33, 65, 72, 40, 94, 41, 96, 60, 43]\n",
      "[33, 40, 41, 43, 46, 60, 65, 72, 94, 96]\n"
     ]
    }
   ],
   "source": [
    "import random\n",
    "seq = [random.randint(0, 100) for _ in range(10)]\n",
    "print(seq)\n",
    "print(insertion_sort_recursive(seq, i=len(seq)-1))"
   ]
  },
  {
   "cell_type": "code",
   "execution_count": 11,
   "metadata": {
    "collapsed": false
   },
   "outputs": [
    {
     "name": "stdout",
     "output_type": "stream",
     "text": [
      "1000 loops, best of 3: 809 µs per loop\n"
     ]
    }
   ],
   "source": [
    "%%timeit \n",
    "seq = [random.randint(0, 100) for _ in range(100)]\n",
    "insertion_sort_recursive(seq, i=len(seq)-1)"
   ]
  },
  {
   "cell_type": "code",
   "execution_count": 12,
   "metadata": {
    "collapsed": true
   },
   "outputs": [],
   "source": [
    "def insertion_sort(seq):\n",
    "    for i in range(1,len(seq)):                     # 0..i-1 sorted so far\n",
    "        j = i                                       # Start \"walking\" down\n",
    "        while j > 0 and seq[j-1] > seq[j]:          # Look for OK spot\n",
    "            seq[j-1], seq[j] = seq[j], seq[j-1]     # Keep moving seq[j] down\n",
    "            j -= 1                                  # Decrement j\n",
    "    return seq"
   ]
  },
  {
   "cell_type": "code",
   "execution_count": 13,
   "metadata": {
    "collapsed": false
   },
   "outputs": [
    {
     "name": "stdout",
     "output_type": "stream",
     "text": [
      "[100, 64, 99, 5, 54, 66, 82, 38, 84, 59]\n",
      "[5, 38, 54, 59, 64, 66, 82, 84, 99, 100]\n"
     ]
    }
   ],
   "source": [
    "seq = [random.randint(0, 100) for _ in range(10)]\n",
    "print(seq)\n",
    "print(insertion_sort(seq))"
   ]
  },
  {
   "cell_type": "code",
   "execution_count": 16,
   "metadata": {
    "collapsed": false
   },
   "outputs": [
    {
     "name": "stdout",
     "output_type": "stream",
     "text": [
      "1000 loops, best of 3: 821 µs per loop\n"
     ]
    }
   ],
   "source": [
    "%%timeit \n",
    "seq = [random.randint(0, 100) for _ in range(100)]\n",
    "insertion_sort(seq)"
   ]
  },
  {
   "cell_type": "code",
   "execution_count": null,
   "metadata": {
    "collapsed": true
   },
   "outputs": [],
   "source": [
    ""
   ]
  }
 ],
 "metadata": {
  "kernelspec": {
   "display_name": "Python 3",
   "language": "python",
   "name": "python3"
  },
  "language_info": {
   "codemirror_mode": {
    "name": "ipython",
    "version": 3.0
   },
   "file_extension": ".py",
   "mimetype": "text/x-python",
   "name": "python",
   "nbconvert_exporter": "python",
   "pygments_lexer": "ipython3",
   "version": "3.5.0"
  }
 },
 "nbformat": 4,
 "nbformat_minor": 0
}