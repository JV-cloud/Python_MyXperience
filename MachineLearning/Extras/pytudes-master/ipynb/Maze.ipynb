{
 "cells": [
  {
   "cell_type": "markdown",
   "metadata": {},
   "source": [
    "<div style=\"text-align: right\">Peter Norvig<br>13 March 2018</div> \n",
    "\n",
    "# Maze Generation\n",
    "\n",
    "Let's make some mazes! I'm thinking of mazes like this one, which is  a rectangular grid of squares, with walls on some of the sides of squares, and openings on other sides:\n",
    "\n",
    "![Wikipedia](https://upload.wikimedia.org/wikipedia/commons/thumb/8/88/Maze_simple.svg/475px-Maze_simple.svg.png)\n",
    "\n",
    "The main constraint is that there should be a path from entrance to exit, and it should be ***fun*** to solve the maze with pencil, paper, and brain power&mdash;not too easy, but also not impossible.  \n",
    "\n",
    "As I think about how to model a maze on the computer, it seems like a **graph** is the right model: the nodes of\n",
    "the graph are the squares of the grid, and the edges of the graph are the openings between adjacent squares. So what properties of a graph make a good maze?\n",
    "- There must be a path from entrance to exit.\n",
    "- There must not be too such many paths; maybe it is best if there is only one. \n",
    "- Probably the graph should be *singly connected*&mdash;there shouldn't be islands of squares that are unreachable from the start. And maybe we want exactly one path between any two squares.\n",
    "- The path should have many twists; it would be too easy if it was mostly straight.\n",
    "\n",
    "I know that a **tree** has all these properties except the last one. So my goal has become: *Superimpose a tree over the grid, covering every square, and make sure the paths are twisty.* Here's how I'll do it:\n",
    "\n",
    "- Start with a grid with no edges (every square is surrounded by walls on all sides). \n",
    "- Add edges (that is, knock down walls) for the entrance at upper left and exit at lower right.\n",
    "- Place the root of the tree in some square.\n",
    "- Then repeat until the tree covers the whole grid:\n",
    "  * Select some node already in the tree.\n",
    "  * Randomly select a neighbor that hasn't been added to the tree yet.\n",
    "  * Add an edge (knock down the wall) from the node to the neighbor.\n",
    "  \n",
    "In the example below, the root, `A`, has been placed in the upper-left corner, and  two branches,\n",
    "`A-B-C-D` and `A-b-c-d`, have been randomly chosen (well, not actually random; they are starting to create the same maze as in the diagram above):\n",
    "\n",
    "     o  o--o--o--o--o--o--o--o--o--o\n",
    "     | A  b  c|  |  |  |  |  |  |  |\n",
    "     o  o--o  o--o--o--o--o--o--o--o\n",
    "     | B|  | d|  |  |  |  |  |  |  |\n",
    "     o  o--o--o--o--o--o--o--o--o--o\n",
    "     | C  D|  |  |  |  |  |  |  |  |\n",
    "     o--o--o--o--o--o--o--o--o--o--o\n",
    "     |  |  |  |  |  |  |  |  |  |  |\n",
    "     o--o--o--o--o--o--o--o--o--o--o\n",
    "     |  |  |  |  |  |  |  |  |  |  |\n",
    "     o--o--o--o--o--o--o--o--o--o  o\n",
    "    \n",
    "Next I select node `d` and extend it to `e` (at which point there are no available neighbors, so `e` will not be selected in the future), and then I select `D` and extend from there all the way to `N`, at each step selecting the node I just added:\n",
    "\n",
    "     o  o--o--o--o--o--o--o--o--o--o\n",
    "     | A  b  c|  |  |  |  |  |  |  |\n",
    "     o  o--o  o--o--o--o--o--o--o--o\n",
    "     | B| e  d|  | N|  |  |  |  |  |\n",
    "     o  o--o--o--o  o--o--o--o--o--o\n",
    "     | C  D|  |  | M|  |  |  |  |  |\n",
    "     o--o  o--o--o  o--o--o--o--o--o\n",
    "     | F  E|  | K  L|  |  |  |  |  |\n",
    "     o  o--o--o  o--o--o--o--o--o--o\n",
    "     | G  H  I  J|  |  |  |  |  |  |\n",
    "     o--o--o--o--o--o--o--o--o--o  o\n",
    "     \n",
    "Continue like this until every square in the grid has been added to the tree. \n",
    "\n",
    "\n",
    "## Implementing Random Trees\n",
    "\n",
    "I'll make the following implementation choices:\n",
    "\n",
    "- A tree will be represented as a list of edges.\n",
    "- An `Edge` is a tuple of two nodes. I'll keep them sorted so that `Edge(A, B)` is the same as `Edge(B, A)`.\n",
    "- A node in a tree can be anything: a number, a letter, a square, ...\n",
    "- The algorithm for `random_tree(nodes, neighbors, pop)` is as follows:\n",
    "  * We will keep track of three collections:\n",
    "    - `tree`: a list of edges that constitutes the tree.\n",
    "    - `nodes`: the set of nodes that have not yet been added to the tree, but will be.\n",
    "    - `frontier`: a queue of nodes in the tree that are eligible to have an edge added.\n",
    "  * On each iteration:\n",
    "    - Use `pop` to pick a `node` from the frontier, and find the neighbors that are not already in the tree.\n",
    "    - If there are any neighbors, randomly pick one (`nbr`), add `Edge(node, nbr)` to `tree`, remove the\n",
    "      neighbor from `nodes`, and keep both the node and the neighbor on the frontier. If there are no neighbors,\n",
    "      drop the node from the frontier.\n",
    "  * When no `nodes` remain, return `tree`."
   ]
  },
  {
   "cell_type": "code",
   "execution_count": 1,
   "metadata": {
    "collapsed": false
   },
   "outputs": [],
   "source": [
    "import random\n",
    "from collections import deque, namedtuple\n",
    "\n",
    "def Edge(node1, node2): return tuple(sorted([node1, node2]))\n",
    "\n",
    "def random_tree(nodes: set, neighbors: callable, pop: callable) -> [Edge]:\n",
    "    \"Repeat: pop a node and add Edge(node, nbr) until all nodes have been added to tree.\"\n",
    "    tree = []\n",
    "    root = nodes.pop()\n",
    "    frontier = deque([root])\n",
    "    while nodes:\n",
    "        node = pop(frontier)\n",
    "        nbrs = neighbors(node) & nodes\n",
    "        if nbrs:\n",
    "            nbr = random.choice(list(nbrs))\n",
    "            tree.append(Edge(node, nbr))\n",
    "            nodes.remove(nbr)\n",
    "            frontier.extend([node, nbr])\n",
    "    return tree"
   ]
  },
  {
   "cell_type": "markdown",
   "metadata": {},
   "source": [
    "## Implementing  Random Mazes\n",
    "\n",
    "Now let's use `random_tree` to implement `random_maze`.  Some more choices:\n",
    "\n",
    "* A `Maze` is a named tuple with three fields: the `width` and `height` of the grid, and a list of  `edges` between squares. \n",
    "* A square is denoted by an `(x, y)` tuple of integer coordinates.\n",
    "* The function `neighbors4` gives the four surrounding squares."
   ]
  },
  {
   "cell_type": "code",
   "execution_count": 2,
   "metadata": {
    "collapsed": true
   },
   "outputs": [],
   "source": [
    "Maze = namedtuple('Maze', 'width, height, edges')\n",
    "\n",
    "def neighbors4(square):\n",
    "    \"The 4 neighbors of an (x, y) square.\"\n",
    "    (x, y) = square\n",
    "    return {(x + 1, y), (x - 1, y), (x, y + 1), (x, y - 1)}\n",
    "\n",
    "def squares(width, height): \n",
    "    \"All squares in a grid of these dimensions.\"\n",
    "    return {(x, y) for x in range(width) for y in range(height)}\n",
    "\n",
    "def random_maze(width, height, pop=deque.pop):\n",
    "    \"Use random_tree to generate a random maze.\"\n",
    "    nodes = squares(width, height)\n",
    "    tree = random_tree(nodes, neighbors4, pop)\n",
    "    return Maze(width, height, tree)"
   ]
  },
  {
   "cell_type": "code",
   "execution_count": 3,
   "metadata": {
    "collapsed": false
   },
   "outputs": [
    {
     "data": {
      "text/plain": [
       "Maze(width=10, height=5, edges=[((6, 3), (7, 3)), ((6, 3), (6, 4)), ((6, 4), (7, 4)), ((7, 4), (8, 4)), ((8, 3), (8, 4)), ((8, 2), (8, 3)), ((7, 2), (8, 2)), ((7, 1), (7, 2)), ((7, 0), (7, 1)), ((7, 0), (8, 0)), ((8, 0), (8, 1)), ((8, 1), (9, 1)), ((9, 0), (9, 1)), ((9, 1), (9, 2)), ((9, 2), (9, 3)), ((9, 3), (9, 4)), ((6, 0), (7, 0)), ((5, 0), (6, 0)), ((5, 0), (5, 1)), ((5, 1), (6, 1)), ((6, 1), (6, 2)), ((5, 2), (6, 2)), ((4, 2), (5, 2)), ((3, 2), (4, 2)), ((3, 2), (3, 3)), ((2, 3), (3, 3)), ((2, 2), (2, 3)), ((2, 1), (2, 2)), ((2, 0), (2, 1)), ((1, 0), (2, 0)), ((0, 0), (1, 0)), ((0, 0), (0, 1)), ((0, 1), (1, 1)), ((1, 1), (1, 2)), ((0, 2), (1, 2)), ((0, 2), (0, 3)), ((0, 3), (1, 3)), ((1, 3), (1, 4)), ((0, 4), (1, 4)), ((1, 4), (2, 4)), ((2, 4), (3, 4)), ((3, 4), (4, 4)), ((4, 3), (4, 4)), ((4, 3), (5, 3)), ((5, 3), (5, 4)), ((2, 0), (3, 0)), ((3, 0), (4, 0)), ((4, 0), (4, 1)), ((3, 1), (4, 1))])"
      ]
     },
     "execution_count": 3,
     "metadata": {},
     "output_type": "execute_result"
    }
   ],
   "source": [
    "random_maze(10,5)"
   ]
  },
  {
   "cell_type": "markdown",
   "metadata": {},
   "source": [
    "That's not very pretty to look at. I'm going to need a way to visualize a maze.\n",
    "\n",
    "# Printing a maze"
   ]
  },
  {
   "cell_type": "code",
   "execution_count": 4,
   "metadata": {
    "collapsed": false
   },
   "outputs": [
    {
     "name": "stdout",
     "output_type": "stream",
     "text": [
      "o  o--o--o--o--o--o--o--o--o--o\n",
      "|              |     |        |\n",
      "o--o--o--o  o--o  o  o  o--o  o\n",
      "|           |     |        |  |\n",
      "o  o  o--o--o  o--o--o--o--o  o\n",
      "|  |  |     |     |     |     |\n",
      "o  o--o  o  o--o  o  o--o  o--o\n",
      "|  |     |        |  |  |     |\n",
      "o  o  o--o--o--o--o  o  o--o  o\n",
      "|                    |        |\n",
      "o--o--o--o--o--o--o--o--o--o  o\n"
     ]
    }
   ],
   "source": [
    "def print_maze(maze, dot='o', lin='--', bar='|', sp='  '):\n",
    "    \"Print maze in ASCII.\"\n",
    "    exit = Edge((maze.width-1, maze.height-1), (maze.width-1, maze.height))\n",
    "    edges = set(maze.edges) | {exit}\n",
    "    print(dot + sp + lin.join(dot * maze.width)) # Top line, including entrance\n",
    "    def vert_wall(x, y): return (' ' if Edge((x, y), (x+1, y)) in edges else bar)\n",
    "    def horz_wall(x, y): return (sp  if Edge((x, y), (x, y+1)) in edges else lin)\n",
    "    for y in range(maze.height):\n",
    "        print(bar + cat(sp + vert_wall(x, y) for x in range(maze.width)))\n",
    "        print(dot + cat(horz_wall(x, y) + dot for x in range(maze.width)))\n",
    "        \n",
    "cat = ''.join\n",
    "        \n",
    "print_maze(random_maze(10, 5))"
   ]
  },
  {
   "cell_type": "markdown",
   "metadata": {},
   "source": [
    "*Much better!* But can I do better still?\n",
    "\n",
    "# Plotting a maze\n",
    "\n",
    "I'll use `matplotlib` to plot lines where the edges aren't:"
   ]
  },
  {
   "cell_type": "code",
   "execution_count": 5,
   "metadata": {
    "collapsed": false
   },
   "outputs": [],
   "source": [
    "%matplotlib inline\n",
    "import matplotlib.pyplot as plt\n",
    "\n",
    "def plot_maze(maze):\n",
    "    \"Plot a maze by drawing lines between adjacent squares, except for pairs in maze.edges\"\n",
    "    plt.figure(figsize=(8, 4))\n",
    "    plt.axis('off')\n",
    "    plt.gca().invert_yaxis()\n",
    "    w, h  = maze.width, maze.height\n",
    "    exits = {Edge((0, 0), (0, -1)), Edge((w-1, h-1), (w-1, h))}\n",
    "    edges = set(maze.edges) | exits\n",
    "    for sq in squares(w, h):\n",
    "        for nbr in neighbors4(sq):\n",
    "            if Edge(sq, nbr) not in edges:\n",
    "                plot_wall(sq, nbr)\n",
    "    plt.show()\n",
    "\n",
    "def plot_wall(s1, s2):\n",
    "    \"Plot a thick black line between squares s1 and s2.\"\n",
    "    (x1, y1), (x2, y2) = s1, s2\n",
    "    if x1 == x2: # horizontal wall\n",
    "        y = max(y1, y2)\n",
    "        X, Y = [x1, x1+1], [y, y]\n",
    "    else: # vertical wall\n",
    "        x = max(x1, x2)\n",
    "        X, Y = [x, x], [y1, y1+1]\n",
    "    plt.plot(X, Y, 'k-', linewidth=4.0)"
   ]
  },
  {
   "cell_type": "markdown",
   "metadata": {},
   "source": [
    "Let's compare the two visualization functions:"
   ]
  },
  {
   "cell_type": "code",
   "execution_count": 6,
   "metadata": {
    "collapsed": false
   },
   "outputs": [
    {
     "data": {
      "image/png": "[encoded data removed]",
      "text/plain": [
       "<matplotlib.figure.Figure at 0x10dd4dd68>"
      ]
     },
     "metadata": {},
     "output_type": "display_data"
    },
    {
     "name": "stdout",
     "output_type": "stream",
     "text": [
      "o  o--o--o--o--o--o--o--o--o--o\n",
      "|              |              |\n",
      "o  o--o  o--o  o  o--o--o--o  o\n",
      "|  |  |     |  |  |        |  |\n",
      "o  o  o--o  o  o  o--o  o--o  o\n",
      "|  |  |     |  |  |     |     |\n",
      "o  o  o  o--o--o  o  o--o  o--o\n",
      "|     |        |  |  |     |  |\n",
      "o--o  o--o--o  o  o  o--o--o  o\n",
      "|           |                 |\n",
      "o--o--o--o--o--o--o--o--o--o  o\n"
     ]
    }
   ],
   "source": [
    "M = random_maze(10, 5)\n",
    "plot_maze(M)  \n",
    "print_maze(M)"
   ]
  },
  {
   "cell_type": "markdown",
   "metadata": {},
   "source": [
    "# `pop` strategies\n",
    "\n",
    "Now I want to compare how the maze varies based on theree different choices for the `pop` parameter. \n",
    "\n",
    "(1) The default is `deque.pop`\n",
    "which means that the tree is created **depth-first**; we always select the `node` at the end of the `frontier`, so the tree follows a single branch along a randomly-twisted path until the path doubles back on itself and there are no more neighbors; at that point we select the most recent square for which there are neighbors:"
   ]
  },
  {
   "cell_type": "code",
   "execution_count": 7,
   "metadata": {
    "collapsed": false
   },
   "outputs": [
    {
     "data": {
      "image/png": "[encoded data removed]",
      "text/plain": [
       "<matplotlib.figure.Figure at 0x1176e5e80>"
      ]
     },
     "metadata": {},
     "output_type": "display_data"
    }
   ],
   "source": [
    "plot_maze(random_maze(40, 20, deque.pop))"
   ]
  },
  {
   "cell_type": "markdown",
   "metadata": {},
   "source": [
    "The maze with `deque.pop` looks pretty good. Reminds me of those [cyber brain](https://www.vectorstock.com/royalty-free-vector/cyber-brain-vector-3071965) images.\n",
    "\n",
    "(2) An alternative is `queue.popleft`, which creates the maze roughly **breadth-first**&mdash;we start at some root square , add an edge to it, and from then on we always select first a parent edge before we select a child edge. The net result is a design that appears to radiate out in concentric layers from the root (which is chosen by `random_tree` and is not necessarily the top-left square; below it looks like the root is in the upper-left quadrant). "
   ]
  },
  {
   "cell_type": "code",
   "execution_count": 8,
   "metadata": {
    "collapsed": false
   },
   "outputs": [
    {
     "data": {
      "image/png": "[encoded data removed]",
      "text/plain": [
       "<matplotlib.figure.Figure at 0x1176fcf60>"
      ]
     },
     "metadata": {},
     "output_type": "display_data"
    }
   ],
   "source": [
    "plot_maze(random_maze(40, 20, deque.popleft))"
   ]
  },
  {
   "cell_type": "markdown",
   "metadata": {},
   "source": [
    "The `deque.popleft` maze is interesting as a design, but to me it doesn't work well as a maze.\n",
    "\n",
    "(3) We can select a cell at random by shuffling the frontier  before popping an element off of it:"
   ]
  },
  {
   "cell_type": "code",
   "execution_count": 9,
   "metadata": {
    "collapsed": false
   },
   "outputs": [
    {
     "data": {
      "image/png": "[encoded data removed]",
      "text/plain": [
       "<matplotlib.figure.Figure at 0x117710550>"
      ]
     },
     "metadata": {},
     "output_type": "display_data"
    }
   ],
   "source": [
    "def poprandom(seq):\n",
    "    \"Shuffle a mutable sequence (deque or list) and then pop an element.\"\n",
    "    random.shuffle(seq)\n",
    "    return seq.pop()\n",
    "\n",
    "plot_maze(random_maze(40, 20, poprandom))"
   ]
  },
  {
   "cell_type": "markdown",
   "metadata": {},
   "source": [
    "This is an interesting compromise: it has some structure, but still works nicely as a maze, in my opinion.\n",
    "\n",
    "What other variations can you come up with to generate interesting mazes?"
   ]
  }
 ],
 "metadata": {
  "kernelspec": {
   "display_name": "Python 3",
   "language": "python",
   "name": "python3"
  },
  "language_info": {
   "codemirror_mode": {
    "name": "ipython",
    "version": 3
   },
   "file_extension": ".py",
   "mimetype": "text/x-python",
   "name": "python",
   "nbconvert_exporter": "python",
   "pygments_lexer": "ipython3",
   "version": "3.6.0"
  }
 },
 "nbformat": 4,
 "nbformat_minor": 2
}
