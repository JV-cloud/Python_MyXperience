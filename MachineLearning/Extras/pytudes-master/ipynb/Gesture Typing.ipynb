{
 "cells": [
  {
   "cell_type": "markdown",
   "metadata": {},
   "source": [
    "Gesture Typing \n",
    "===\n",
    "\n",
    "Typing quickly and accurately on a smartphone screen is hard! One invention to make it easier is **gesture typing**, in which your finger can trace a **path** consisting of letter-to-letter **segments**. When you lift your finger the path (and the word) is complete. Below we see the path for the word \"hello.\" Note that the path is imprecise; it didn't quite hit the \"L\", but the word was recognized anyways, because \"Hello\" is a known word, whereas \"Hekko\", \"Hwerklo\", etc., are not.\n",
    "\n",
    "<img src=\"http://norvig.com/gesture.png\">\n",
    "\n",
    "Questions About Gesture Typing\n",
    "===\n",
    "\n",
    "My colleague Nicolas Schank examined (and answered) the question of what word has the longest path length. I mentioned this to [Shumin Zhai](http://www.shuminzhai.com/), the pioneer of gesture typing, and between the three of us we expanded the list of questions:\n",
    "\n",
    " 1. What words have the longest path length?\n",
    " 2. What words have the highest ratio of path length to word length? \n",
    " 3. What is the average segment length, over a typical typing work load?\n",
    " 3. Is there a better keyboard layout to minimize the average segment length over a work load?\n",
    " 4. How often are two words confused because they have similar paths?\n",
    " 5. Is there a better keyboard layout to minimize confusion? \n",
    " 6. Is there a better keyboard layout to maximize overall user satisfaction?\n",
    "\n",
    "Let's look at each of these questions, but first, let's get a rough idea for of the concepts we will need to model.\n",
    "\n",
    "Vocabulary\n",
    "===\n",
    "\n",
    "We will need to talk about the following concepts:\n",
    "\n",
    "* **Keyboard**: We'll need to know the **location** of each letter on the keyboard (we consider only letters, not the other symbols).\n",
    "* **Location**: A location is a **point** in two-dimensional space (we assume keyboards are flat).\n",
    "* **Path**: A path connects the letters in a word. In the picture above the path is curved, but a shortest path is formed by connecting straight line **segments**, so maybe we need only deal with straight lines.\n",
    "* **Segment**: A line segment is a straight line between two points.\n",
    "* **Length**: Paths and Segments have lengths; the distance traveled along them.\n",
    "* **Words**: We will need a list of allowable words (in order to find the one with the longest path).\n",
    "* **Work Load**: If we want to find the average path length over a typical work load, we'll have to represent a work load: not\n",
    "just a list of words, but a measure of how frequent each word (or each segment) is.\n",
    "* **Confusion**: We need some measure of *whether* (or perhaps *to what degree*) the paths for two words can be confused with each other.\n",
    "* **Satisfaction**: This is a very difficult concept to define.  A user will be more satisfied with a keyboard if it allows for fast, accurate typing, and if it gives the user a feeling of mastery, not frustration.\n",
    "\n",
    "**Note**: Before we get started writing any real code, I've taken all the `import`s I will need throughout this notebook and gathered them together here:\n",
    "\n",
    "\n",
    "             "
   ]
  },
  {
   "cell_type": "code",
   "execution_count": 1,
   "metadata": {
    "collapsed": true
   },
   "outputs": [],
   "source": [
    "from collections import Counter\n",
    "from statistics import mean\n",
    "import matplotlib.pyplot as plt\n",
    "import urllib\n",
    "import itertools\n",
    "import random \n",
    "import re"
   ]
  },
  {
   "cell_type": "markdown",
   "metadata": {},
   "source": [
    "Representing Keyboards and Points\n",
    "===\n",
    "\n",
    "The representation for a keyboard needs to describe the location of each of the letters. Using the principle of *\"Do the simplest thing that could possibly work,\"* I represent a keyboard as a `dict` of `{letter: point}` pairs, where there will be 26 letters, A-Z,\n",
    "and each point will mark the x-y coordinates of the center of the corresponding key.  In a standard keyboard the letters are not all on a strict rectangular grid; the **A** key is half way between the **Q** and **W** in the horizontal direction. I would like to have a programmer-friendly way of defining keyboard layouts.  For example, a programmer should be able to write:\n",
    "\n",
    "    Keyboard(('Q W E R T Y U I O P',\n",
    "              ' A S D F G H J K L ',\n",
    "              '   Z X C V B N M   '))\n",
    "              \n",
    "and this would be equivalent to the `dict`:\n",
    "\n",
    "    {'Q': Point(0, 0),   'W': Point(1, 0), ...\n",
    "     'A': Point(0.5, 1), 'S': Point(1.5, 1), ...\n",
    "     'Z': Point(1.5, 2), 'X': Point(2.5, 2), ...}\n",
    "              \n",
    "Note that one key width is two characters in the input to `Keyboard`.  Here is the implementation:"
   ]
  },
  {
   "cell_type": "code",
   "execution_count": 2,
   "metadata": {
    "collapsed": true
   },
   "outputs": [],
   "source": [
    "def Keyboard(rows):\n",
    "    \"A keyboard is a {letter: location} map, e.g. {'Q':Point(0, 0), 'A': Point(0.5, 1)}.\"\n",
    "    return {ch: Point(x/2, y) \n",
    "            for (y, row) in enumerate(rows)\n",
    "            for (x, ch) in enumerate(row)\n",
    "            if ch != ' '}"
   ]
  },
  {
   "cell_type": "markdown",
   "metadata": {},
   "source": [
    "What about `Point`? At first glance, Python does not appear to have a two-dimensional point as a builtin data type, but\n",
    "on second thought, it does: `complex`. A complex number is a point in the two-dimensional complex plane;\n",
    "we can use that to model the two-dimensional (x, y) plane. Because complex numbers are built in, manipulating them will be efficient. A bonus is that the distance between points `A` and `B` is simply  `abs(A-B)`; easier than the usual formula involving squares and a square root. Thus, the simplest possible thing I could do to represent points is\n",
    "\n",
    "<pre>\n",
    "Point = complex\n",
    "</pre>\n",
    "\n",
    "That would work fine. However, I would like to refer to the x coordinate of point `p` as `p.x` rather than `p.real`, and I would like points to display nicely, so I will do the second-simplest thing: make `Point` be a subclass of `complex` with `x` and `y` properties and a  `__repr__` method:"
   ]
  },
  {
   "cell_type": "code",
   "execution_count": 3,
   "metadata": {
    "collapsed": true
   },
   "outputs": [],
   "source": [
    "class Point(complex):\n",
    "    \"A point in the (x, y) plane.\"\n",
    "    def __repr__(self): return 'Point({}, {})'.format(self.x, self.y)\n",
    "    x = property(lambda p: p.real)\n",
    "    y = property(lambda p: p.imag)\n",
    "    \n",
    "def distance(A, B):\n",
    "    \"The distance between two points.\"\n",
    "    return abs(A - B)"
   ]
  },
  {
   "cell_type": "markdown",
   "metadata": {},
   "source": [
    "Alternative representations for points include an `(x, y)` tuple or namedtuple, or a NumPy two-element array, or a class. \n",
    "\n",
    "Alternatives for `Keyboard` include a subclass of `dict`, or a class that contains a `dict`.  \n",
    "\n",
    "\n",
    "Now we can check that `Keyboard` works:"
   ]
  },
  {
   "cell_type": "code",
   "execution_count": 4,
   "metadata": {},
   "outputs": [
    {
     "data": {
      "text/plain": [
       "{'A': Point(0.5, 1.0),\n",
       " 'B': Point(5.5, 2.0),\n",
       " 'C': Point(3.5, 2.0),\n",
       " 'D': Point(2.5, 1.0),\n",
       " 'E': Point(2.0, 0.0),\n",
       " 'F': Point(3.5, 1.0),\n",
       " 'G': Point(4.5, 1.0),\n",
       " 'H': Point(5.5, 1.0),\n",
       " 'I': Point(7.0, 0.0),\n",
       " 'J': Point(6.5, 1.0),\n",
       " 'K': Point(7.5, 1.0),\n",
       " 'L': Point(8.5, 1.0),\n",
       " 'M': Point(7.5, 2.0),\n",
       " 'N': Point(6.5, 2.0),\n",
       " 'O': Point(8.0, 0.0),\n",
       " 'P': Point(9.0, 0.0),\n",
       " 'Q': Point(0.0, 0.0),\n",
       " 'R': Point(3.0, 0.0),\n",
       " 'S': Point(1.5, 1.0),\n",
       " 'T': Point(4.0, 0.0),\n",
       " 'U': Point(6.0, 0.0),\n",
       " 'V': Point(4.5, 2.0),\n",
       " 'W': Point(1.0, 0.0),\n",
       " 'X': Point(2.5, 2.0),\n",
       " 'Y': Point(5.0, 0.0),\n",
       " 'Z': Point(1.5, 2.0)}"
      ]
     },
     "execution_count": 4,
     "metadata": {},
     "output_type": "execute_result"
    }
   ],
   "source": [
    "qwerty = Keyboard(('Q W E R T Y U I O P',\n",
    "                   ' A S D F G H J K L ',\n",
    "                   '   Z X C V B N M   '))\n",
    "qwerty"
   ]
  },
  {
   "cell_type": "markdown",
   "metadata": {},
   "source": [
    "Computing Path Length\n",
    "===\n",
    "\n",
    "Now let's figure out the path length for a word: the sum of the lengths of segments between letters.  So the path length for `'WORD'` would be the sum of the segment lengths for `'WO'` plus `'OR'` plus `'RD'`:"
   ]
  },
  {
   "cell_type": "code",
   "execution_count": 5,
   "metadata": {},
   "outputs": [
    {
     "data": {
      "text/plain": [
       "13.118033988749895"
      ]
     },
     "execution_count": 5,
     "metadata": {},
     "output_type": "execute_result"
    }
   ],
   "source": [
    "W, O, R, D = qwerty['W'], qwerty['O'], qwerty['R'], qwerty['D'], \n",
    "distance(W, O) + distance(O, R) + distance(R, D)"
   ]
  },
  {
   "cell_type": "markdown",
   "metadata": {},
   "source": [
    "Let's make a function to compute this:"
   ]
  },
  {
   "cell_type": "code",
   "execution_count": 6,
   "metadata": {
    "collapsed": true
   },
   "outputs": [],
   "source": [
    "def path_length(word, kbd=qwerty):\n",
    "    \"The total path length for a word on this keyboard: the sum of the segment lengths.\"\n",
    "    return sum(distance(kbd[word[i]], kbd[word[i+1]])\n",
    "               for i in range(len(word)-1))"
   ]
  },
  {
   "cell_type": "code",
   "execution_count": 7,
   "metadata": {},
   "outputs": [
    {
     "data": {
      "text/plain": [
       "13.118033988749895"
      ]
     },
     "execution_count": 7,
     "metadata": {},
     "output_type": "execute_result"
    }
   ],
   "source": [
    "path_length('WORD')"
   ]
  },
  {
   "cell_type": "markdown",
   "metadata": {},
   "source": [
    "Let's check with a simpler example that we know the answer to:"
   ]
  },
  {
   "cell_type": "code",
   "execution_count": 8,
   "metadata": {},
   "outputs": [
    {
     "data": {
      "text/plain": [
       "4.0"
      ]
     },
     "execution_count": 8,
     "metadata": {},
     "output_type": "execute_result"
    }
   ],
   "source": [
    "path_length('TO')"
   ]
  },
  {
   "cell_type": "markdown",
   "metadata": {},
   "source": [
    "That makes it clearer&mdash;the **O** is four keys to the right of the **T**, on the same row, so the distance between them is 4.\n",
    "\n",
    "Here's another one that you can verify on your own:"
   ]
  },
  {
   "cell_type": "code",
   "execution_count": 9,
   "metadata": {},
   "outputs": [
    {
     "data": {
      "text/plain": [
       "True"
      ]
     },
     "execution_count": 9,
     "metadata": {},
     "output_type": "execute_result"
    }
   ],
   "source": [
    "path_length('TYPEWRITER') == 1 + 4 + 7 + 1 + 2 + 4 + 3 + 2 + 1 == 25"
   ]
  },
  {
   "cell_type": "markdown",
   "metadata": {},
   "source": [
    "Question 1: Longest Path Length?\n",
    "===\n",
    "\n",
    "To know what the longest word is, we'll have to know what the allowable words are. The so-called TWL06 word list gives all the words that are legal in the game of Scrabble; that seems like a reasonable list (although it omits proper nouns). Here's how to load a copy:"
   ]
  },
  {
   "cell_type": "code",
   "execution_count": 10,
   "metadata": {
    "collapsed": true
   },
   "outputs": [],
   "source": [
    "! [ -e TWL06.txt ] || curl -O http://norvig.com/ngrams/TWL06.txt\n",
    "    \n",
    "WORDS = set(open('TWL06.txt').read().split())"
   ]
  },
  {
   "cell_type": "code",
   "execution_count": 11,
   "metadata": {},
   "outputs": [
    {
     "data": {
      "text/plain": [
       "178691"
      ]
     },
     "execution_count": 11,
     "metadata": {},
     "output_type": "execute_result"
    }
   ],
   "source": [
    "len(WORDS)"
   ]
  },
  {
   "cell_type": "markdown",
   "metadata": {},
   "source": [
    "That's a lot of words; which one has the longest path?"
   ]
  },
  {
   "cell_type": "code",
   "execution_count": 12,
   "metadata": {},
   "outputs": [
    {
     "data": {
      "text/plain": [
       "'PALEOMAGNETISMS'"
      ]
     },
     "execution_count": 12,
     "metadata": {},
     "output_type": "execute_result"
    }
   ],
   "source": [
    "max(WORDS, key=path_length)"
   ]
  },
  {
   "cell_type": "markdown",
   "metadata": {},
   "source": [
    "And the ten longest paths? Including the lengths? We'll use a helper function, `print_top`, which prints the top *n* items in a seqence according to some key function:"
   ]
  },
  {
   "cell_type": "code",
   "execution_count": 13,
   "metadata": {},
   "outputs": [
    {
     "name": "stdout",
     "output_type": "stream",
     "text": [
      "72.2 PALEOMAGNETISMS\n",
      "70.0 ANTIQUARIANISMS\n",
      "69.9 ELECTROANALYSIS\n",
      "69.9 ANTIAPHRODISIAC\n",
      "69.3 PARLIAMENTARIAN\n",
      "68.9 BLEPHAROSPASMS\n",
      "68.6 BIDIALECTALISMS\n",
      "67.6 PALEOGEOGRAPHIC\n",
      "67.6 SPERMATOZOANS\n",
      "67.1 APOCALYPTICISMS\n"
     ]
    }
   ],
   "source": [
    "def print_top(n, sequence, key=None, formatter='{:.1f} {}'.format):\n",
    "    \"Find the top n elements of sequence as ranked by key function, and print them.\"\n",
    "    for x in sorted(sequence, key=key, reverse=True)[:n]:\n",
    "        print(formatter(key(x), x))\n",
    "              \n",
    "print_top(10, WORDS, path_length)"
   ]
  },
  {
   "cell_type": "markdown",
   "metadata": {},
   "source": [
    "Question 2: Highest Path Length to Word Length Ratio?\n",
    "===\n",
    "\n",
    "Very long words tend to have long path lengths.  But what words have the highest *ratio*\n",
    "of path length to word length? (I decided to measure word length by number of letters; an alternative is number of segments.) "
   ]
  },
  {
   "cell_type": "code",
   "execution_count": 14,
   "metadata": {
    "collapsed": true
   },
   "outputs": [],
   "source": [
    "def path_length_ratio(word, kbd=qwerty): return path_length(word, kbd) / len(word)"
   ]
  },
  {
   "cell_type": "code",
   "execution_count": 15,
   "metadata": {},
   "outputs": [
    {
     "name": "stdout",
     "output_type": "stream",
     "text": [
      "6.9 PALAPA\n",
      "6.7 PAPAL\n",
      "6.4 PAPA\n",
      "6.4 JALAPS\n",
      "6.2 SLAPS\n",
      "6.2 KAMALA\n",
      "6.2 LAPELS\n",
      "6.2 PAPS\n",
      "6.2 HALALA\n",
      "6.1 SPALE\n"
     ]
    }
   ],
   "source": [
    "print_top(10, WORDS, path_length_ratio)"
   ]
  },
  {
   "cell_type": "markdown",
   "metadata": {},
   "source": [
    "Question 3: Average Segment Length on Work Load?\n",
    "===\n",
    "\n",
    "What is the average segment length for a typical typing work load? To answer that, we need to know what a typical work load is. We will read a file of \"typical\" text, and count how many times each segment is used. A `Workload` is a `dict` of the form `{segment: proportion, ...},` e.g. `{'AB': 0.02}`, where each key is a two-letter string (or *bigram*) representing a segment, and each value is the proportion of time that segment appears in the workload.  Since the distance from `A` to `B` on a keyboard is the same as the distance from `B` to `A`, we can combine them together into one count;\n",
    "I'll arbitrarily choose count them both under the alphabetically first one. I make a `Counter` of all two-letter segments, and `normalize` it so that the counts sum to 1 (and are thus probabilities)."
   ]
  },
  {
   "cell_type": "code",
   "execution_count": 16,
   "metadata": {
    "collapsed": true
   },
   "outputs": [],
   "source": [
    "def Workload(text):\n",
    "    \"\"\"Create a Workload--a dict of the form {'AB': 1000, ...} \n",
    "    saying how often each letter pair occurs in text.\"\"\"\n",
    "    segments = (min(AB, AB[::-1]) for AB in bigrams(text))\n",
    "    return normalize(Counter(segments))\n",
    "\n",
    "def bigrams(text): return re.findall(r'(?=([A-Z][A-Z]))', text)\n",
    "\n",
    "def normalize(dictionary):\n",
    "    \"Normalize a {key: val} dict so that the sum of the vals is 1.0.\"\n",
    "    total = sum(dictionary.values())\n",
    "    for k in dictionary:\n",
    "        dictionary[k] /= total\n",
    "    return dictionary"
   ]
  },
  {
   "cell_type": "markdown",
   "metadata": {},
   "source": [
    "*Note:* Some `re` trickiness here: `([A-Z][A-Z])` means a group of two consecutive letters. But if I only looked for that, then in the text `'FOUR'` I would find `['FO', 'UR']`. So I use the `?=` operator, which says to check for a match, but don't consume the matched characters. So I can find `['FO', 'OU', 'UR']`, which is what I want.\n",
    "\n",
    "Let's see what a workload looks like for a tiny text:"
   ]
  },
  {
   "cell_type": "code",
   "execution_count": 17,
   "metadata": {},
   "outputs": [
    {
     "data": {
      "text/plain": [
       "Counter({'AL': 0.05,\n",
       "         'AO': 0.05,\n",
       "         'DO': 0.05,\n",
       "         'GO': 0.1,\n",
       "         'HO': 0.05,\n",
       "         'HS': 0.05,\n",
       "         'IS': 0.05,\n",
       "         'OO': 0.55,\n",
       "         'OT': 0.05})"
      ]
     },
     "execution_count": 17,
     "metadata": {},
     "output_type": "execute_result"
    }
   ],
   "source": [
    "Workload('SHOT IS GOOD -- GOOOOOOOOOOOAL!')"
   ]
  },
  {
   "cell_type": "markdown",
   "metadata": {},
   "source": [
    "I happened to have a file of about a megabyte of random text, `smaller.txt`; that should work fine as a typical work load:"
   ]
  },
  {
   "cell_type": "code",
   "execution_count": 18,
   "metadata": {
    "collapsed": true
   },
   "outputs": [],
   "source": [
    "! [ -e smaller.txt ] || curl -O http://norvig.com/ngrams/smaller.txt\n",
    "    \n",
    "WORKLOAD = Workload(open('smaller.txt').read().upper())"
   ]
  },
  {
   "cell_type": "markdown",
   "metadata": {},
   "source": [
    "Let's peek at the most common segments:"
   ]
  },
  {
   "cell_type": "code",
   "execution_count": 19,
   "metadata": {},
   "outputs": [
    {
     "data": {
      "text/plain": [
       "[('HT', 0.04144819308354474),\n",
       " ('ER', 0.04050225926898767),\n",
       " ('EH', 0.03576926529702987),\n",
       " ('IN', 0.02699818128015268),\n",
       " ('AN', 0.02320447132440709),\n",
       " ('NO', 0.022344984888333263),\n",
       " ('EN', 0.021994208025641622),\n",
       " ('IT', 0.021467211506811055),\n",
       " ('ES', 0.020667573255841017),\n",
       " ('DE', 0.020619362217840744)]"
      ]
     },
     "execution_count": 19,
     "metadata": {},
     "output_type": "execute_result"
    }
   ],
   "source": [
    "WORKLOAD.most_common(10)"
   ]
  },
  {
   "cell_type": "markdown",
   "metadata": {},
   "source": [
    "The most popular segments, at about 4% each are `HT/TH` and `ER/RE`. Now we can compute the workload average:"
   ]
  },
  {
   "cell_type": "code",
   "execution_count": 20,
   "metadata": {
    "collapsed": true
   },
   "outputs": [],
   "source": [
    "def workload_average(kbd, workload=WORKLOAD):\n",
    "    \"The average segment length over a workload of segments.\"\n",
    "    return sum(distance(kbd[A], kbd[B]) * workload[A+B]\n",
    "               for (A, B) in workload)"
   ]
  },
  {
   "cell_type": "code",
   "execution_count": 21,
   "metadata": {},
   "outputs": [
    {
     "data": {
      "text/plain": [
       "3.2333097802127653"
      ]
     },
     "execution_count": 21,
     "metadata": {},
     "output_type": "execute_result"
    }
   ],
   "source": [
    "workload_average(qwerty)"
   ]
  },
  {
   "cell_type": "markdown",
   "metadata": {},
   "source": [
    "So, on average, your finger has to travel a little over 3 keys from one letter to the next over a typical workload."
   ]
  },
  {
   "cell_type": "markdown",
   "metadata": {},
   "source": [
    "Aside: Visualizing a Keyboard\n",
    "---\n",
    "\n",
    "We'll need a way of visualizing what a keyboard looks like. I could just `print` letters, but I think it is more compelling to use IPython's `matplotlib` module. In the function `show_kbd` we'll draw a square around the center point of each key, and annotate the square with the key letter. "
   ]
  },
  {
   "cell_type": "code",
   "execution_count": 22,
   "metadata": {
    "collapsed": true
   },
   "outputs": [],
   "source": [
    "def show_kbd(kbd, name='keyboard'):\n",
    "    \"Plot the keyboard and show title/stats.\"\n",
    "    for L in kbd:\n",
    "        plot_square(kbd[L].x, -kbd[L].y, label=L)\n",
    "    plt.axis('equal'); plt.axis('off')\n",
    "    plt.title(title(kbd, name));\n",
    "    plt.show()\n",
    "\n",
    "def plot_square(x, y, label='', style='k:'):\n",
    "    \"Plot a square with center (x, y) and optional label.\"\n",
    "    H = 1/2\n",
    "    plt.plot([x-H, x+H, x+H, x-H, x-H], \n",
    "             [y-H, y-H, y+H, y+H, y-H], style)  \n",
    "    plt.annotate(label, (x-H/4, y-H/4)) # H/4 seems to place label well.\n",
    "    \n",
    "def title(kbd, name): \n",
    "    X, Y = span(kbd[L].x for L in kbd), span(kbd[L].y for L in kbd)\n",
    "    return ('{}: size: {:.1f}×{:.1f}; path length: {:.1f}'\n",
    "            .format(name, X, Y, workload_average(kbd)))\n",
    "            \n",
    "def span(numbers):\n",
    "    numbers = list(numbers)\n",
    "    return max(numbers) - min(numbers)"
   ]
  },
  {
   "cell_type": "code",
   "execution_count": 23,
   "metadata": {},
   "outputs": [
    {
     "data": {
      "image/png": "[encoded data removed]",
      "text/plain": [
       "<matplotlib.figure.Figure at 0x10b382588>"
      ]
     },
     "metadata": {},
     "output_type": "display_data"
    }
   ],
   "source": [
    "show_kbd(qwerty, 'qwerty')"
   ]
  },
  {
   "cell_type": "markdown",
   "metadata": {},
   "source": [
    "Question 4: Keyboard with Minimal Workload Average?\n",
    "===\n",
    "\n",
    "Now for a much harder question: can we find a different keyboard layout that has a smaller average segment length over the workload? First, let's note that there are two ways to modify a keyboard:  \n",
    "\n",
    "* Keep the keys in the same locations but swap letters. (This is an operation you can do on a physical keyboard just by prying off the key caps and swapping them.) \n",
    "* Change the locations of keys.  (On a physical keyboard you'd need a saw and glue to do this, but it is easier on a virtual keyboard.)  \n",
    "\n",
    "Let's start by limiting ourselves to just swapping letters.  \n",
    "\n",
    "This is an **optimization** problem.  There are many permutations of letters; too many to try them all. To be precise, there are 26! (26 factorial) permutations, which is about 10<sup>26</sup> (fun fact: 25 and 26 are the only integers for which n! &approx; 10<sup>n</sup>).  If we can't try them all, we need some way to sample the configurations, trying to make progress towards a better one. Again, we'll try the simplest thing that could possibly work: \n",
    "\n",
    "  1. Pick two keys at random.\n",
    "  2. Swap them.\n",
    "  3. If that gives a better (lower) workload total, keep them that way.\n",
    "  4. If not, swap back.\n",
    "  5. Repeat this for a given number of times, say 1000."
   ]
  },
  {
   "cell_type": "code",
   "execution_count": 24,
   "metadata": {
    "collapsed": true
   },
   "outputs": [],
   "source": [
    "def improved(kbd, swaps=1000, scorer=workload_average):\n",
    "    \"Minimize scorer(kbd) by swapping keys and keeping improvements.\"\n",
    "    kbd = kbd.copy()\n",
    "    score = scorer(kbd)\n",
    "    letters = list(kbd)\n",
    "    for _ in range(swaps):\n",
    "        A, B = random.sample(letters, 2)   # Step 1: pick two keys\n",
    "        swap(kbd, A, B)                    # Step 2: swap them\n",
    "        score2 = scorer(kbd)\n",
    "        if score2 < score:                 # Step 3: If better, keep them\n",
    "            score = score2                 # (and record the new best total)\n",
    "        else:\n",
    "            swap(kbd, B, A)                # Step 4: swap back if not better\n",
    "    return kbd\n",
    "\n",
    "def swap(kbd, A, B): kbd[A], kbd[B] = kbd[B], kbd[A]"
   ]
  },
  {
   "cell_type": "markdown",
   "metadata": {},
   "source": [
    "**Note 1:** This strategy is called **hillclimbing**, drawing on the metaphor of getting to a high peak by trying to take a step, and continuing if the step is uphill, and returning if it is not.  This technique often finds a local maximum&mdash;a solution that is better than all its neighbors, but not as good as another solution that is many steps away.\n",
    "\n",
    "**Note 2:** I make `scorer` be a parameter, in case we later decide we want to minimize something else other than `workload_average`."
   ]
  },
  {
   "cell_type": "markdown",
   "metadata": {},
   "source": [
    "Let's see how well we can do:"
   ]
  },
  {
   "cell_type": "code",
   "execution_count": 25,
   "metadata": {},
   "outputs": [
    {
     "data": {
      "image/png": "[encoded data removed]",
      "text/plain": [
       "<matplotlib.figure.Figure at 0x102cfc710>"
      ]
     },
     "metadata": {},
     "output_type": "display_data"
    }
   ],
   "source": [
    "show_kbd(improved(qwerty, 3000))"
   ]
  },
  {
   "cell_type": "markdown",
   "metadata": {},
   "source": [
    "That's a pretty good improvement! We decreased the workload average  by about a third. (If you are reading this in an active IPython notebook, you can re-run the cell above and see a different result each time.) "
   ]
  },
  {
   "cell_type": "markdown",
   "metadata": {},
   "source": [
    "Visualizing `improved`\n",
    "---\n",
    "\n",
    "Let's get a better feeling for what `improved` does.  We will keep track of the workload average after each swap, and plot that as a curve. We will repeat that 10 times (because each run has random variation).\n",
    "\n",
    "I'll add another parameter, `scores`, to `improved`, If it is not `None`, then it should be a list into which we can accumulate all the scores (after each time step). Then I'll add a new function, `plot_improvements`, that plots the scores that `improved` accumulates."
   ]
  },
  {
   "cell_type": "code",
   "execution_count": 26,
   "metadata": {
    "collapsed": true
   },
   "outputs": [],
   "source": [
    "def improved(kbd, swaps=1000, scorer=workload_average, scores=[]):\n",
    "    \"Minimize scorer(kbd) by swapping keys and keeping improvements.\"\n",
    "    kbd = kbd.copy()\n",
    "    score = scorer(kbd)\n",
    "    letters = list(kbd)\n",
    "    for _ in range(swaps):\n",
    "        A, B = random.sample(letters, 2)   # Step 1: pick two keys\n",
    "        swap(kbd, A, B)                    # Step 2: swap them\n",
    "        score2 = scorer(kbd)\n",
    "        if score2 < score:                 # Step 3: If better, keep them\n",
    "            score = score2                 # (and record the new best total)\n",
    "        else:\n",
    "            swap(kbd, B, A)                # Step 4: swap back if not better\n",
    "        scores.append(score)               # <<< NEW\n",
    "    return kbd"
   ]
  },
  {
   "cell_type": "code",
   "execution_count": 27,
   "metadata": {},
   "outputs": [
    {
     "data": {
      "image/png": "[encoded data removed]",
      "text/plain": [
       "<matplotlib.figure.Figure at 0x10c425898>"
      ]
     },
     "metadata": {},
     "output_type": "display_data"
    }
   ],
   "source": [
    "def plot_improvements(kbd, swaps, scorer=workload_average, repeats=10):\n",
    "    plt.ylabel('Workload average segment length') \n",
    "    plt.xlabel('Number of swaps');  \n",
    "    for _ in range(repeats):\n",
    "        scores = []\n",
    "        improved(kbd.copy(), swaps, scorer, scores)\n",
    "        plt.plot(scores)\n",
    "    plt.show()\n",
    "    \n",
    "plot_improvements(qwerty, 2500)"
   ]
  },
  {
   "cell_type": "markdown",
   "metadata": {},
   "source": [
    "This plot is interesting. I note the following:\n",
    "\n",
    "* Each curve follows a slightly different path (because the swaps are random).\n",
    "* The curves are grouped very tightly together; the variance is small.  Almost everywhere, the difference between the best and the worst is about 0.2 or less. By the end, almost all the curves are between 1.9 and 2.0.\n",
    "* We make rapid progress, decreasing from 3.2 to around 2.2 in about 200 swaps, and to around 2.0 in about 500 swaps.\n",
    "* After 1000 swaps, progress is slow, and after 2000, even slower."
   ]
  },
  {
   "cell_type": "markdown",
   "metadata": {},
   "source": [
    "I can't say we've found the best possible keyboard, but it looks like progress will be slow in improving over about 1.9. \n",
    "\n",
    "Keys in Different Physical Locations\n",
    "---\n",
    "\n",
    "Now let's allow keys  to be in different physical locations.  Rather than allowing complete freedom of movement, we'll start from a few different fixed key layouts and swap keys from there. I'll define three layouts and gather them into a `dict`:"
   ]
  },
  {
   "cell_type": "code",
   "execution_count": 28,
   "metadata": {
    "collapsed": true
   },
   "outputs": [],
   "source": [
    "keyboards = {\n",
    "    'qwerty': Keyboard(('Q W E R T Y U I O P',\n",
    "                        ' A S D F G H J K L ',  \n",
    "                        '   Z X C V B N M   ')),\n",
    "\n",
    "    '4-by-7': Keyboard((' A B C D E F ',\n",
    "                        'G H I J K L M',\n",
    "                        ' N O P Q R S ',\n",
    "                        'T U V W X Y Z')),\n",
    "\n",
    "    '5-by-6': Keyboard((' A B C D E ',\n",
    "                        'F G H I J K',\n",
    "                        'L M N O P Q',\n",
    "                        ' R S T U V',\n",
    "                        '  W X Y Z '))\n",
    "    }"
   ]
  },
  {
   "cell_type": "markdown",
   "metadata": {},
   "source": [
    "Here is a function to report on a collection of keyboards such as this (after improving them):"
   ]
  },
  {
   "cell_type": "code",
   "execution_count": 29,
   "metadata": {},
   "outputs": [
    {
     "data": {
      "image/png": "[encoded data removed]",
      "text/plain": [
       "<matplotlib.figure.Figure at 0x10c41ac18>"
      ]
     },
     "metadata": {},
     "output_type": "display_data"
    },
    {
     "data": {
      "image/png": "[encoded data removed]",
      "text/plain": [
       "<matplotlib.figure.Figure at 0x10a4b2400>"
      ]
     },
     "metadata": {},
     "output_type": "display_data"
    },
    {
     "data": {
      "image/png": "[encoded data removed]",
      "text/plain": [
       "<matplotlib.figure.Figure at 0x10e09db70>"
      ]
     },
     "metadata": {},
     "output_type": "display_data"
    },
    {
     "data": {
      "image/png": "[encoded data removed]",
      "text/plain": [
       "<matplotlib.figure.Figure at 0x10c4f3cf8>"
      ]
     },
     "metadata": {},
     "output_type": "display_data"
    },
    {
     "data": {
      "image/png": "[encoded data removed]",
      "text/plain": [
       "<matplotlib.figure.Figure at 0x10a41ea20>"
      ]
     },
     "metadata": {},
     "output_type": "display_data"
    },
    {
     "data": {
      "image/png": "[encoded data removed]",
      "text/plain": [
       "<matplotlib.figure.Figure at 0x10c414550>"
      ]
     },
     "metadata": {},
     "output_type": "display_data"
    }
   ],
   "source": [
    "def report(keyboards=keyboards, swaps=3000, scorer=workload_average):\n",
    "    \"Iterate through a dict of {name: kbd} pairs, showing kbd before and after improved(kbd).\"\n",
    "    for (name, kbd) in keyboards.items():\n",
    "        show_kbd(kbd, name)\n",
    "        show_kbd(improved(kbd, swaps=swaps, scorer=scorer), 'improved ' + name)\n",
    "        \n",
    "report()"
   ]
  },
  {
   "cell_type": "markdown",
   "metadata": {},
   "source": [
    "(**Note:** The plots of different-shaped keyboards have different-sized squares around the keys. Some of the plots have a lot of whitespace around them. If anyone knows an easy way to tell `plot` to display them better, let me know.)"
   ]
  },
  {
   "cell_type": "markdown",
   "metadata": {},
   "source": [
    "\n",
    "\n",
    "So the more compact keyboards with a smaller diameter (`4-by-7` and `5-by-6`) seem to perform slightly better than `qwerty`. \n"
   ]
  },
  {
   "cell_type": "markdown",
   "metadata": {},
   "source": [
    "Question 5: How often are two words confused because of similar paths?\n",
    "===\n",
    "\n",
    "When can one word be confused with another?  When their paths are similar (which means that their corresponding letters are in similar locations). For example, on a Qwerty keyboard, the paths for \"HELLO\" and \"JELLO\" are similar, because **H** and **J** are adjacent, and the other letters are the same.\n",
    "\n",
    "<img src=\"http://norvig.com/gesture.png\">\n",
    "\n",
    "We'd like to know, for a given keyboard, how confusing is it? How many words have paths on the keyboard that can be confused for other words? We have our work cut out for us:\n",
    "\n",
    "1. Determine what letters could be confused for each other.\n",
    "2. Determine what words/paths can be confused.\n",
    "3. Invent some metric for the overall confusingness of a keyboard. \n",
    "4. Try to find less-confusing keyboards.\n",
    "\n",
    "Letter Confusions\n",
    "---\n",
    "\n",
    "So, as a first step, we will make a mapping from each key to the keys that it can be confused with. I'll say that any key within a distance of 1.5 units on the keyboard is a **neighboring** key, and thus a potential confusion:"
   ]
  },
  {
   "cell_type": "code",
   "execution_count": 30,
   "metadata": {
    "collapsed": true
   },
   "outputs": [],
   "source": [
    "def neighboring_keys(kbd, radius=1.5):\n",
    "    \"Build a dict of {Letter:NeighboringLetters}, e.g. {'Q':'AQW', ...}.\"\n",
    "    return {A: cat(sorted(B for B in kbd if distance(kbd[A], kbd[B]) <= radius))\n",
    "            for A in kbd}\n",
    "\n",
    "cat = ''.join  ## Function to join letters (or strings) into one string"
   ]
  },
  {
   "cell_type": "code",
   "execution_count": 31,
   "metadata": {},
   "outputs": [
    {
     "data": {
      "text/plain": [
       "{'A': 'AQSWZ',\n",
       " 'B': 'BGHJNV',\n",
       " 'C': 'CDFGVX',\n",
       " 'D': 'CDEFRSXZ',\n",
       " 'E': 'DERSW',\n",
       " 'F': 'CDFGRTVX',\n",
       " 'G': 'BCFGHTVY',\n",
       " 'H': 'BGHJNUVY',\n",
       " 'I': 'IJKOU',\n",
       " 'J': 'BHIJKMNU',\n",
       " 'K': 'IJKLMNO',\n",
       " 'L': 'KLMOP',\n",
       " 'M': 'JKLMN',\n",
       " 'N': 'BHJKMN',\n",
       " 'O': 'IKLOP',\n",
       " 'P': 'LOP',\n",
       " 'Q': 'AQW',\n",
       " 'R': 'DEFRT',\n",
       " 'S': 'ADESWXZ',\n",
       " 'T': 'FGRTY',\n",
       " 'U': 'HIJUY',\n",
       " 'V': 'BCFGHV',\n",
       " 'W': 'AEQSW',\n",
       " 'X': 'CDFSXZ',\n",
       " 'Y': 'GHTUY',\n",
       " 'Z': 'ADSXZ'}"
      ]
     },
     "execution_count": 31,
     "metadata": {},
     "output_type": "execute_result"
    }
   ],
   "source": [
    "qwerty_neighbors = neighboring_keys(qwerty) \n",
    "qwerty_neighbors"
   ]
  },
  {
   "cell_type": "markdown",
   "metadata": {},
   "source": [
    "We see, for example, that **Q**, off in the corner, has only **A**, **W**, and itself as neighbors, while **G**, in the middle of the keyboard, has 8 neighbors. \n",
    "\n",
    "Word Confusions\n",
    "---\n",
    "\n",
    "Consider each of the letters in the word \"HELLO,\" and all the possible choices for neighbors of each letter:"
   ]
  },
  {
   "cell_type": "code",
   "execution_count": 32,
   "metadata": {},
   "outputs": [
    {
     "data": {
      "text/plain": [
       "['BGHJNUVY', 'DERSW', 'KLMOP', 'KLMOP', 'IKLOP']"
      ]
     },
     "execution_count": 32,
     "metadata": {},
     "output_type": "execute_result"
    }
   ],
   "source": [
    "columns = [qwerty_neighbors[L] for L in 'HELLO']\n",
    "columns"
   ]
  },
  {
   "cell_type": "markdown",
   "metadata": {},
   "source": [
    "These are five columns of letters, and if we pick one letter from each column, we get a path that is formed by letters that are each confusions of letters in the original word, and so the whole path is a confusion for the original word.  So \"JELLO\" is a confusion for \"HELLO\", as would be \"BDKKI\" and \"YWPPP\", except those are not words.\n",
    "\n",
    "It turns out that there is a library function, `itertools.product`, that will take alternative choices, and generate all possible ways of assembling a sequence consisting of one selection (letter) from each alternative choice."
   ]
  },
  {
   "cell_type": "code",
   "execution_count": 33,
   "metadata": {
    "collapsed": true
   },
   "outputs": [],
   "source": [
    "paths = {cat(picks) for picks in itertools.product(*columns)}"
   ]
  },
  {
   "cell_type": "markdown",
   "metadata": {},
   "source": [
    "How many paths are there?"
   ]
  },
  {
   "cell_type": "code",
   "execution_count": 34,
   "metadata": {},
   "outputs": [
    {
     "data": {
      "text/plain": [
       "5000"
      ]
     },
     "execution_count": 34,
     "metadata": {},
     "output_type": "execute_result"
    }
   ],
   "source": [
    "len(paths)"
   ]
  },
  {
   "cell_type": "markdown",
   "metadata": {},
   "source": [
    "Let's look at a few of them:"
   ]
  },
  {
   "cell_type": "code",
   "execution_count": 35,
   "metadata": {},
   "outputs": [
    {
     "data": {
      "text/plain": [
       "['NELKI', 'NWLKL', 'VEMKI', 'VEOOP', 'UWPMK', 'JSLML', 'GRMMO', 'UWKKP']"
      ]
     },
     "execution_count": 35,
     "metadata": {},
     "output_type": "execute_result"
    }
   ],
   "source": [
    "random.sample(paths, 8)"
   ]
  },
  {
   "cell_type": "markdown",
   "metadata": {},
   "source": [
    "And let's see all the paths that are also words:"
   ]
  },
  {
   "cell_type": "code",
   "execution_count": 36,
   "metadata": {},
   "outputs": [
    {
     "data": {
      "text/plain": [
       "{'BROMO', 'BROOK', 'HELLO', 'JELLO'}"
      ]
     },
     "execution_count": 36,
     "metadata": {},
     "output_type": "execute_result"
    }
   ],
   "source": [
    "WORDS & paths"
   ]
  },
  {
   "cell_type": "markdown",
   "metadata": {},
   "source": [
    "Only 4 out of 5000;  That's pretty good, but it means \"HELLO\" is still a confusing word. We can package this as the function  `confusions`:"
   ]
  },
  {
   "cell_type": "code",
   "execution_count": 37,
   "metadata": {
    "collapsed": true
   },
   "outputs": [],
   "source": [
    "def confusions(word, neighbors=neighboring_keys(qwerty)):\n",
    "    \"All valid words whose paths could be confused with the path for the given word.\"\n",
    "    columns = [neighbors[L] for L in word]\n",
    "    return {cat(picks) for picks in itertools.product(*columns)} & WORDS"
   ]
  },
  {
   "cell_type": "code",
   "execution_count": 38,
   "metadata": {},
   "outputs": [
    {
     "data": {
      "text/plain": [
       "{'BROMO', 'BROOK', 'HELLO', 'JELLO'}"
      ]
     },
     "execution_count": 38,
     "metadata": {},
     "output_type": "execute_result"
    }
   ],
   "source": [
    "confusions('HELLO')"
   ]
  },
  {
   "cell_type": "code",
   "execution_count": 39,
   "metadata": {},
   "outputs": [
    {
     "data": {
      "text/plain": [
       "{'ALTOS', 'EIDOS', 'SIDLE', 'SKEPS', 'WIELD', 'WORKS', 'WORLD', 'WORMS'}"
      ]
     },
     "execution_count": 39,
     "metadata": {},
     "output_type": "execute_result"
    }
   ],
   "source": [
    "confusions('WORLD')"
   ]
  },
  {
   "cell_type": "code",
   "execution_count": 40,
   "metadata": {},
   "outputs": [
    {
     "data": {
      "text/plain": [
       "{'FEARING',\n",
       " 'FRAYING',\n",
       " 'GEARING',\n",
       " 'GRATING',\n",
       " 'GRAYING',\n",
       " 'GREYING',\n",
       " 'REARING',\n",
       " 'REEFING',\n",
       " 'RESTING',\n",
       " 'TEARING',\n",
       " 'TESTING'}"
      ]
     },
     "execution_count": 40,
     "metadata": {},
     "output_type": "execute_result"
    }
   ],
   "source": [
    "confusions('TESTING')"
   ]
  },
  {
   "cell_type": "markdown",
   "metadata": {},
   "source": [
    "So far, so good.  But I'm worried about the efficiency of `confusions`.\n",
    "\n",
    "My first concern is that `WORDS` has 178,691 words, including many unusual words, so there might be too many confusions. I will read in a smaller word set, with only common words:"
   ]
  },
  {
   "cell_type": "code",
   "execution_count": 41,
   "metadata": {
    "collapsed": true
   },
   "outputs": [],
   "source": [
    "! [ -e words.js ] || curl -O https://xkcd.com/simplewriter/words.js\n",
    "    \n",
    "COMMON = set(re.findall('[A-Z]+', open('words.js').read().upper()))"
   ]
  },
  {
   "cell_type": "code",
   "execution_count": 42,
   "metadata": {},
   "outputs": [
    {
     "data": {
      "text/plain": [
       "(3614, 'SPECIALS', 'UNDERSTANDINGS')"
      ]
     },
     "execution_count": 42,
     "metadata": {},
     "output_type": "execute_result"
    }
   ],
   "source": [
    "len(COMMON), max(COMMON, key=path_length), max(COMMON, key=len)"
   ]
  },
  {
   "cell_type": "markdown",
   "metadata": {},
   "source": [
    "More Efficient `confusions`\n",
    "---\n",
    "\n",
    "Another issue is that `confusions` is really slow:"
   ]
  },
  {
   "cell_type": "code",
   "execution_count": 43,
   "metadata": {},
   "outputs": [
    {
     "name": "stdout",
     "output_type": "stream",
     "text": [
      "CPU times: user 3.12 s, sys: 395 ms, total: 3.51 s\n",
      "Wall time: 3.52 s\n"
     ]
    },
    {
     "data": {
      "text/plain": [
       "{'SOMETHING'}"
      ]
     },
     "execution_count": 43,
     "metadata": {},
     "output_type": "execute_result"
    }
   ],
   "source": [
    "%time confusions('SOMETHING')"
   ]
  },
  {
   "cell_type": "markdown",
   "metadata": {},
   "source": [
    "It took (on my computer) 3 seconds to compute this.  Why so long? Let's count:"
   ]
  },
  {
   "cell_type": "code",
   "execution_count": 44,
   "metadata": {},
   "outputs": [
    {
     "data": {
      "text/plain": [
       "[7, 5, 5, 5, 5, 8, 5, 6, 8]"
      ]
     },
     "execution_count": 44,
     "metadata": {},
     "output_type": "execute_result"
    }
   ],
   "source": [
    "[len(neighboring_keys(qwerty)[L]) for L in 'SOMETHING']"
   ]
  },
  {
   "cell_type": "markdown",
   "metadata": {},
   "source": [
    "There are 7 &times; 5 &times; 5 &times; 5 &times; 5 &times; 8 &times; 5 &times; 6 &times; 8 = 8,400,000 paths for `confusions` to consider. `'PALEOMAGNETISMS'` would have about 10,000 times more paths. Looking at every path is slow, but for most paths, we're wasting our time.  For example, one choice for the first two neighboring letters of 'SO' is 'XP', but 'XP' does not start any word in the dictionary.  Nevertheless, `itertools.product` will generate 240,000 combinations that start with 'XP', and will then rule them out one at a time. It would be better to stop as soon as we see 'XP', and never consider continuations of this path.\n",
    "\n",
    "So that gives us the key idea for a more efficient version of `confusions`: *only follow paths that form a prefix of some word.*  I'll make a set of all the prefixes of the `COMMON` words:"
   ]
  },
  {
   "cell_type": "code",
   "execution_count": 45,
   "metadata": {
    "collapsed": true
   },
   "outputs": [],
   "source": [
    "def prefixes(words):\n",
    "    \"Return a set of prefixes (1 to N characters) of this collection of words.\"\n",
    "    return {word[:i] for word in words for i in range(1, len(word)+1)}\n",
    "\n",
    "PREFIXES = prefixes(COMMON)"
   ]
  },
  {
   "cell_type": "code",
   "execution_count": 46,
   "metadata": {},
   "outputs": [
    {
     "data": {
      "text/plain": [
       "{'T', 'TH', 'THE', 'THES', 'THESE', 'THEY', 'THO', 'THOS', 'THOSE'}"
      ]
     },
     "execution_count": 46,
     "metadata": {},
     "output_type": "execute_result"
    }
   ],
   "source": [
    "prefixes(['THESE', 'THEY', 'THOSE'])"
   ]
  },
  {
   "cell_type": "markdown",
   "metadata": {},
   "source": [
    "We can describe the more efficient version of the `confusions` algorithm:\n",
    "\n",
    "1. Maintain a queue of partial paths, where a partial path is a string representing choices for neighboring letters for a prefix of the word. For example, 'HE' and 'JE' are both partial paths for the word 'HELLO'.  Initialize the queue to have just one partial path, the empty string.\n",
    "2. Remove a partial path from the queue. Find all possible ways to extend the path by adding a neighboring letter, but only if doing so creates a path that is a prefix of some word in the dictionary.  For example, given the word 'HELLO', and the partial path 'JE', consider all the neighbors of 'L' (namely, 'K', 'M', 'L', 'O', or 'P'), but only 'JEM', 'JEL', and 'JEO' are prefixes of words, so add just those to the queue.\n",
    "3. When a partial path reaches the same length as the word ('HELLO' in this example), then don't extend it any farther; instead check to see if the path is a word.  If it is, yield it as a result.\n",
    "\n",
    "A word is `confusable` if it has a confusion word (other than itself)."
   ]
  },
  {
   "cell_type": "code",
   "execution_count": 47,
   "metadata": {
    "collapsed": true
   },
   "outputs": [],
   "source": [
    "def confusions(word, neighbors=neighboring_keys(qwerty)):\n",
    "    \"All valid words whose paths could be confused with the path for this word.\"\n",
    "    Q = ['']        # A queue of partial paths \n",
    "    while Q:\n",
    "        path = Q.pop()\n",
    "        if len(path) < len(word):\n",
    "            for L in neighbors[word[len(path)]]:\n",
    "                if path + L in PREFIXES:\n",
    "                    Q.append(path + L)\n",
    "        elif path in COMMON:\n",
    "            yield path\n",
    "\n",
    "def confusable(word, neighbors=neighboring_keys(qwerty)) -> bool: \n",
    "    \"Is this word confusable with another, given this keyboard's neighboring keys?\"\n",
    "    return any(c != word for c in confusions(word, neighbors))"
   ]
  },
  {
   "cell_type": "markdown",
   "metadata": {},
   "source": [
    "Let's check the speed (remember the old version took over 3 seconds):"
   ]
  },
  {
   "cell_type": "code",
   "execution_count": 48,
   "metadata": {},
   "outputs": [
    {
     "name": "stdout",
     "output_type": "stream",
     "text": [
      "CPU times: user 119 µs, sys: 0 ns, total: 119 µs\n",
      "Wall time: 122 µs\n"
     ]
    },
    {
     "data": {
      "text/plain": [
       "{'SOMETHING'}"
      ]
     },
     "execution_count": 48,
     "metadata": {},
     "output_type": "execute_result"
    }
   ],
   "source": [
    "%time set(confusions('SOMETHING'))"
   ]
  },
  {
   "cell_type": "markdown",
   "metadata": {},
   "source": [
    "We went from about 3 seconds to about 100 microseconds: that's 30,000 times faster!  We can look at some more confusions:"
   ]
  },
  {
   "cell_type": "code",
   "execution_count": 49,
   "metadata": {},
   "outputs": [
    {
     "data": {
      "text/plain": [
       "{'A': 'S A',\n",
       " 'ACCEPT': 'ACCEPT',\n",
       " 'AIRS': 'WORE WORD WIFE WIDE SURE SITS SIRS SIDE AIRS',\n",
       " 'BEATER': 'NEARER NEARED HEATER HEATED GRAYER GRAYED BESTED BEATER',\n",
       " 'BEGAN': 'BEGAN',\n",
       " 'BLOWER': 'NOISED BLOWER',\n",
       " 'DISCOVERS': 'DISCOVERS',\n",
       " 'DRINK': 'DRUNK DRINK',\n",
       " 'DROVES': 'DROVES DRIVES',\n",
       " 'ENTER': 'ENTER',\n",
       " 'EXCEPT': 'EXCEPT',\n",
       " 'GATHER': 'GATHER FATHER BAGGER BAGGED',\n",
       " 'GUESSING': 'GUESSING',\n",
       " 'LEADINGS': 'LEADINGS',\n",
       " 'LOOKER': 'POOLED MOONED LOOKER LOOKED KILLER KILLED',\n",
       " 'MAPS': 'MAPS',\n",
       " 'NEEDED': 'NEEDED BEDDED',\n",
       " 'NIGHTS': 'NIGHTS MIGHTS',\n",
       " 'RETURNS': 'RETURNS',\n",
       " 'ROOMED': 'ROOMED ROLLED FILLED',\n",
       " 'SEXING': 'SEXING ADDING',\n",
       " 'SHORTEST': 'SHORTEST',\n",
       " 'SHOVING': 'SHOVING',\n",
       " 'SKINNED': 'SKINNED',\n",
       " 'SOUND': 'WOUND SPINS SOUND SKINS',\n",
       " 'STOPS': 'STOPS STOOD STOLE DROPS',\n",
       " 'THANKS': 'THANKS',\n",
       " 'TRIPE': 'TRIPS TRIPE',\n",
       " 'TV': 'TV',\n",
       " 'VIEWED': 'VIEWED HORSES'}"
      ]
     },
     "execution_count": 49,
     "metadata": {},
     "output_type": "execute_result"
    }
   ],
   "source": [
    "{w: ' '.join(confusions(w))\n",
    " for w in random.sample(COMMON, 30)}"
   ]
  },
  {
   "cell_type": "markdown",
   "metadata": {},
   "source": [
    "Visualizing Paths on a Keyboard\n",
    "----\n",
    "\n",
    "It would be nice to see potentially confusable word paths on a keyboard.\n",
    "I'll add a call to `plot_paths` in `show_kbd`:\n",
    "\n"
   ]
  },
  {
   "cell_type": "code",
   "execution_count": 50,
   "metadata": {
    "collapsed": true
   },
   "outputs": [],
   "source": [
    "def show_kbd(kbd, name='keyboard', words=()):\n",
    "    \"Plot the keyboard and show title/stats.\"\n",
    "    for L in kbd:\n",
    "        plot_square(kbd[L].x, -kbd[L].y, label=L)\n",
    "    plot_paths(kbd, words)\n",
    "    plt.axis('equal'); plt.axis('off')\n",
    "    plt.title(title(kbd, name));\n",
    "    plt.show()\n",
    "    \n",
    "def plot_paths(kbd, words):\n",
    "    \"Plot paths for each word.\"\n",
    "    for (i, word) in enumerate(words):\n",
    "        Xs = [kbd[L].x for L in word]\n",
    "        Ys = [-kbd[L].y for L in word]\n",
    "        plt.plot(Xs, Ys, '-o')"
   ]
  },
  {
   "cell_type": "markdown",
   "metadata": {},
   "source": [
    "Let's see how it works on three similar paths:"
   ]
  },
  {
   "cell_type": "code",
   "execution_count": 51,
   "metadata": {},
   "outputs": [
    {
     "data": {
      "image/png": "[encoded data removed]",
      "text/plain": [
       "<matplotlib.figure.Figure at 0x10c31da58>"
      ]
     },
     "metadata": {},
     "output_type": "display_data"
    }
   ],
   "source": [
    "show_kbd(qwerty, words=['VALUE', 'VALOR', 'CAKE'])"
   ]
  },
  {
   "cell_type": "markdown",
   "metadata": {},
   "source": [
    " OK, we're on the right track, but I see three problems, which I think I can solve: \n",
    "\n",
    "- The letters are obscured by the circles.  Solution: offset paths away from the center.\n",
    "- When the paths are the same, they overwrite each other.  Solution: offset each path towards a different corner.\n",
    "- There is no indication what direction the path is going in. Solution: put a black square on the start position.\n",
    "\n"
   ]
  },
  {
   "cell_type": "code",
   "execution_count": 52,
   "metadata": {
    "collapsed": true
   },
   "outputs": [],
   "source": [
    "def plot_paths(kbd, words):\n",
    "    \"Plot paths for each word, each with a different offset (and color).\"\n",
    "    Q = 1/5  # Q originally meant a quarter of a key width; but 1/5 looks nicer.\n",
    "    offsets = [Point(-Q, -Q), Point(-Q, +Q),  Point(Q, +Q), Point(Q, -Q)]\n",
    "    for (i, word) in enumerate(words):\n",
    "        Xs = [kbd[L].x + offsets[i % 4].x for L in word]\n",
    "        Ys = [-kbd[L].y + offsets[i % 4].y for L in word]\n",
    "        plt.plot(Xs, Ys, '-o')\n",
    "        plt.plot(Xs[:1], Ys[:1], 'ks')"
   ]
  },
  {
   "cell_type": "code",
   "execution_count": 53,
   "metadata": {},
   "outputs": [
    {
     "data": {
      "image/png": "[encoded data removed]",
      "text/plain": [
       "<matplotlib.figure.Figure at 0x10dfeb470>"
      ]
     },
     "metadata": {},
     "output_type": "display_data"
    }
   ],
   "source": [
    "show_kbd(qwerty, words=['VALUE', 'VALOR', 'CAKE'])"
   ]
  },
  {
   "cell_type": "markdown",
   "metadata": {},
   "source": [
    "That looks busier, but it is  easier to follow the paths. Another example:"
   ]
  },
  {
   "cell_type": "code",
   "execution_count": 54,
   "metadata": {},
   "outputs": [
    {
     "data": {
      "image/png": "[encoded data removed]",
      "text/plain": [
       "<matplotlib.figure.Figure at 0x10dff4470>"
      ]
     },
     "metadata": {},
     "output_type": "display_data"
    }
   ],
   "source": [
    "show_kbd(qwerty, words={'HOUSED', 'HOUSES', 'NOISES'})"
   ]
  },
  {
   "cell_type": "markdown",
   "metadata": {},
   "source": [
    "Average Confusions of a Keyboard\n",
    "===\n",
    "\n",
    "The question is: how confusing is a keyboard? One metric for confusingness is the percentage of words that are confused with other words:"
   ]
  },
  {
   "cell_type": "code",
   "execution_count": 55,
   "metadata": {},
   "outputs": [],
   "source": [
    "def confusingness(kbd):\n",
    "    \"The proportion of words in COMMON that are confused with other words on this keyboard.\"\n",
    "    neighbors = neighboring_keys(kbd)\n",
    "    return mean([confusable(w, neighbors) for w in COMMON])\n",
    "\n",
    "    \n",
    "def title(kbd, name): \n",
    "    X, Y = span(kbd[L].x for L in kbd), span(kbd[L].y for L in kbd)\n",
    "    return ('{}: size: {:.1f}×{:.1f}; path length: {:.1f}; confusingness = {:.0%}'\n",
    "            .format(name, X, Y, workload_average(kbd), confusingness(kbd)))\n"
   ]
  },
  {
   "cell_type": "code",
   "execution_count": 56,
   "metadata": {},
   "outputs": [
    {
     "data": {
      "text/plain": [
       "{'4-by-7': 0.4571112340896514,\n",
       " '5-by-6': 0.5282235749861649,\n",
       " 'qwerty': 0.5398450470392916}"
      ]
     },
     "execution_count": 56,
     "metadata": {},
     "output_type": "execute_result"
    }
   ],
   "source": [
    "{name: confusingness(kbd) for (name, kbd) in keyboards.items()}"
   ]
  },
  {
   "cell_type": "markdown",
   "metadata": {},
   "source": [
    "About half the common words are confusable, with a little bit of variation between keyboards."
   ]
  },
  {
   "cell_type": "markdown",
   "metadata": {},
   "source": [
    "Question 6: Is there a Keyboard that Minimizes Confusion?\n",
    "===\n",
    "\n",
    "Consider this:"
   ]
  },
  {
   "cell_type": "code",
   "execution_count": 57,
   "metadata": {},
   "outputs": [
    {
     "name": "stdout",
     "output_type": "stream",
     "text": [
      "CPU times: user 134 ms, sys: 3.99 ms, total: 138 ms\n",
      "Wall time: 143 ms\n"
     ]
    },
    {
     "data": {
      "text/plain": [
       "0.5398450470392916"
      ]
     },
     "execution_count": 57,
     "metadata": {},
     "output_type": "execute_result"
    }
   ],
   "source": [
    "%time confusingness(qwerty)"
   ]
  },
  {
   "cell_type": "code",
   "execution_count": 58,
   "metadata": {},
   "outputs": [
    {
     "name": "stdout",
     "output_type": "stream",
     "text": [
      "CPU times: user 188 µs, sys: 3 µs, total: 191 µs\n",
      "Wall time: 202 µs\n"
     ]
    },
    {
     "data": {
      "text/plain": [
       "3.2333097802127653"
      ]
     },
     "execution_count": 58,
     "metadata": {},
     "output_type": "execute_result"
    }
   ],
   "source": [
    "%time workload_average(qwerty)"
   ]
  },
  {
   "cell_type": "markdown",
   "metadata": {},
   "source": [
    "Computing `confusingness` takes about 500 times longer than computing `workload_average`, so if we want to use `confusingness` as a scoring function, we will have to settle for fewer swaps:"
   ]
  },
  {
   "cell_type": "code",
   "execution_count": 59,
   "metadata": {},
   "outputs": [
    {
     "data": {
      "image/png": "[encoded data removed]",
      "text/plain": [
       "<matplotlib.figure.Figure at 0x10c378f28>"
      ]
     },
     "metadata": {},
     "output_type": "display_data"
    },
    {
     "name": "stdout",
     "output_type": "stream",
     "text": [
      "CPU times: user 10.6 s, sys: 26.7 ms, total: 10.6 s\n",
      "Wall time: 10.6 s\n"
     ]
    }
   ],
   "source": [
    "%time show_kbd(improved(qwerty, swaps=100, scorer=confusingness))"
   ]
  },
  {
   "cell_type": "markdown",
   "metadata": {},
   "source": [
    "This did indeed reduce confusingness (which was 54%); not bad for only 100 swaps."
   ]
  },
  {
   "cell_type": "markdown",
   "metadata": {},
   "source": [
    "Question 7: Is there a Keyboard that Maximizes User Satisfaction?\n",
    "===\n",
    "\n",
    "What is user satisfaction? I don't know, but for now I'll approximate satisfaction (or rather, *dissatisfaction*, since lower scores are better) with a combined score that is the product of workload average and confusingness. Then I (rather arbitrarily) scale the result by 5, just because I think a number like \"2.1\" looks better than \"0.42\".\n",
    "\n",
    "First we'll define the combined scorer function and incorporate it into `title`:"
   ]
  },
  {
   "cell_type": "code",
   "execution_count": 60,
   "metadata": {
    "collapsed": true
   },
   "outputs": [],
   "source": [
    "def dissatisfaction(kbd, scale=5):\n",
    "    \"The product of workload average and confusingness, scaled.\"\n",
    "    return scale * workload_average(kbd) * confusingness(kbd)\n",
    "\n",
    "def title(kbd, name): \n",
    "    X, Y = span(kbd[L].x for L in kbd), span(kbd[L].y for L in kbd)\n",
    "    return ('{}: size: {:.1f}×{:.1f}; path length: {:.1f}; confusingness: {:.0%}; overall: {:.1f}'\n",
    "            .format(name, X, Y, workload_average(kbd), confusingness(kbd), dissatisfaction(kbd)))"
   ]
  },
  {
   "cell_type": "code",
   "execution_count": 61,
   "metadata": {},
   "outputs": [
    {
     "data": {
      "image/png": "[encoded data removed]",
      "text/plain": [
       "<matplotlib.figure.Figure at 0x10b379518>"
      ]
     },
     "metadata": {},
     "output_type": "display_data"
    }
   ],
   "source": [
    "show_kbd(qwerty)"
   ]
  },
  {
   "cell_type": "markdown",
   "metadata": {},
   "source": [
    "Now let's try to minimize confusion. This should take around 2 minutes:"
   ]
  },
  {
   "cell_type": "code",
   "execution_count": 62,
   "metadata": {},
   "outputs": [
    {
     "data": {
      "image/png": "[encoded data removed]",
      "text/plain": [
       "<matplotlib.figure.Figure at 0x10cac4e10>"
      ]
     },
     "metadata": {},
     "output_type": "display_data"
    },
    {
     "data": {
      "image/png": "[encoded data removed]",
      "text/plain": [
       "<matplotlib.figure.Figure at 0x10e011710>"
      ]
     },
     "metadata": {},
     "output_type": "display_data"
    },
    {
     "data": {
      "image/png": "[encoded data removed]",
      "text/plain": [
       "<matplotlib.figure.Figure at 0x10a3c3a20>"
      ]
     },
     "metadata": {},
     "output_type": "display_data"
    },
    {
     "data": {
      "image/png": "[encoded data removed]",
      "text/plain": [
       "<matplotlib.figure.Figure at 0x10c4715f8>"
      ]
     },
     "metadata": {},
     "output_type": "display_data"
    },
    {
     "data": {
      "image/png": "[encoded data removed]",
      "text/plain": [
       "<matplotlib.figure.Figure at 0x10c2eea90>"
      ]
     },
     "metadata": {},
     "output_type": "display_data"
    },
    {
     "data": {
      "image/png": "[encoded data removed]",
      "text/plain": [
       "<matplotlib.figure.Figure at 0x10a4dd2b0>"
      ]
     },
     "metadata": {},
     "output_type": "display_data"
    },
    {
     "name": "stdout",
     "output_type": "stream",
     "text": [
      "CPU times: user 2min 24s, sys: 188 ms, total: 2min 25s\n",
      "Wall time: 2min 25s\n"
     ]
    }
   ],
   "source": [
    "%time report(swaps=500, scorer=dissatisfaction)"
   ]
  },
  {
   "cell_type": "markdown",
   "metadata": {},
   "source": [
    "Success!  We were in fact able to make progress on the combined metric.  If we could run 50,000 swaps instead of just 500, we could probably do even better. To do so would require either (1) more computers, (2) more patience, or (3) more efficient algorithms.  I'll leave it up to you to make more progress.\n",
    "\n",
    "**Note**: Each time this notebook is run, different random results can occur.  I'll record a keyboard found by one\n",
    "of the good runs (only 11% confusingness) here, just in case another run is not as good:"
   ]
  },
  {
   "cell_type": "code",
   "execution_count": 63,
   "metadata": {},
   "outputs": [
    {
     "data": {
      "image/png": "[encoded data removed]",
      "text/plain": [
       "<matplotlib.figure.Figure at 0x10b7b6080>"
      ]
     },
     "metadata": {},
     "output_type": "display_data"
    }
   ],
   "source": [
    "show_kbd(Keyboard((' U D J K N W ',\n",
    "                   'T V H E B Q R',\n",
    "                   ' Z I M X A C ',\n",
    "                   'S P G O F Y L')))"
   ]
  },
  {
   "attachments": {},
   "cell_type": "markdown",
   "metadata": {},
   "source": [
    "# Bonus Question: What about the Keybee Keyboard?\n",
    "\n",
    "In December 2017 the [Keybee keyboard](http://keybee.it/) was announced, claiming to cut the path length in half. The keyboard uses hexagonal keys:\n",
    "\n",
    "![Keybee keyboard](http://keybee.it/img/phones/theme_002.png)\n",
    "\n",
    "Let's see if we can replicate it. I'll give `keyboard` optional arguments to scale the (x, y) positions to get the proper hex grid layout (even though I will still draw each key with a square around it rather than a hexagon; I'll leave it to you to fix that if you want):"
   ]
  },
  {
   "cell_type": "code",
   "execution_count": 64,
   "metadata": {},
   "outputs": [
    {
     "data": {
      "image/png": "[encoded data removed]",
      "text/plain": [
       "<matplotlib.figure.Figure at 0x10a2a9940>"
      ]
     },
     "metadata": {},
     "output_type": "display_data"
    }
   ],
   "source": [
    "def Keyboard(rows, xscale=1/2, yscale=1):\n",
    "    \"A keyboard is a {letter: location} map, e.g. {'Q':Point(0, 0), 'A': Point(0.5, 1)}.\"\n",
    "    return {ch: Point(xscale * x, yscale * y) \n",
    "            for (y, row) in enumerate(rows)\n",
    "            for (x, ch) in enumerate(row)\n",
    "            if ch != ' '}\n",
    "\n",
    "def HexKeyboard(rows): return Keyboard(rows, xscale=(3 ** 0.5)/2, yscale=1/2)\n",
    "\n",
    "keybee = HexKeyboard((\n",
    "    ' Q W C ',\n",
    "    'J U I K',\n",
    "    ' F H N ',\n",
    "    'Z O T G',\n",
    "    ' R . Y ',\n",
    "    'B E S V',\n",
    "    ' P A M ',\n",
    "    \"X L D '\"))\n",
    "\n",
    "show_kbd(keybee, 'Keybee')"
   ]
  },
  {
   "cell_type": "markdown",
   "metadata": {},
   "source": [
    "That's not pretty, but the keys are in the right places. The path length of 1.9 is better than the 3.2 for the QWERTY layout, but not twice as good, and not as good as some of the layouts we were able to achieve with square keys, and the advantage may be due to the fact that the keys overlap by 13%, not because the layout is especially clever. Can we improve the layout?"
   ]
  },
  {
   "cell_type": "code",
   "execution_count": 65,
   "metadata": {},
   "outputs": [
    {
     "data": {
      "image/png": "[encoded data removed]",
      "text/plain": [
       "<matplotlib.figure.Figure at 0x10c2d54a8>"
      ]
     },
     "metadata": {},
     "output_type": "display_data"
    },
    {
     "data": {
      "image/png": "[encoded data removed]",
      "text/plain": [
       "<matplotlib.figure.Figure at 0x10d1ece48>"
      ]
     },
     "metadata": {},
     "output_type": "display_data"
    }
   ],
   "source": [
    "report({'keybee': keybee})"
   ]
  },
  {
   "cell_type": "markdown",
   "metadata": {},
   "source": [
    "This does indeed cut the path length to\n",
    "half of QWERTY, so maybe there is something to be said for hex grids. \n",
    "Note: the space  key was moved to the edge, because it doesn't contribute to the workload.\n",
    "The Keybee FAQ says \"the space key is the most important key on a keyboard,\" so clearly they are aiming\n",
    "at two-thumb typing, not gesture typing; perhaps that's why it was so easy to improve their layout for our purposes.\n",
    "\n",
    "Here is Keybee with some word paths:"
   ]
  },
  {
   "cell_type": "code",
   "execution_count": 66,
   "metadata": {},
   "outputs": [
    {
     "data": {
      "image/png": "[encoded data removed]",
      "text/plain": [
       "<matplotlib.figure.Figure at 0x104639a20>"
      ]
     },
     "metadata": {},
     "output_type": "display_data"
    }
   ],
   "source": [
    "show_kbd(keybee, 'keybee', words=['FOUR', 'PLEASANT', 'THINGS'])"
   ]
  },
  {
   "cell_type": "markdown",
   "metadata": {},
   "source": [
    "Summary\n",
    "=====\n",
    "  \n",
    "  So where are we? Let's revisit our initial questions and see what answers we have:\n",
    "  \n",
    " 1. What words have the longest path length? <br>**Answered**: \"PALEOMAGNETISMS\" etc.\n",
    " 2. What words have the highest ratio of path length to word length? <br>**Answered**: \"PALAPA\" etc.\n",
    " 3. What is the average segment length, over a typical typing work load? <br>**Answered**: 3.23 keys, for Qwerty keyboard, on our sample workload.\n",
    " 4. Is there a better keyboard layout to minimize the average segment length over a work load?  <br>**Answered**: Yes, many layouts at around 1.9 on Qwerty; or 1.7 or 1.8 on more square keyboards.\n",
    " 5. How often are two words confused because they have similar paths? <br>**Answered**: On Qwerty, 26% of the words in a small dictionary, and 55% of the words in running text have at least one possible confusion. Other layouts are worse.\n",
    " 6. Is there a better keyboard layout to minimize confusion? <br>**Partially Answered**: We found a keyboard with less confusingness than Qwerty.  The computation of confusingness takes too long to do very much hillclimbing search.  \n",
    " 7. Is there a better keyboard layout to maximize overall user satisfaction? <br>**Partially Answered**: We defined a combined metric, and found\n",
    "a keyboard with a better score. There are no doubt better metrics, and better keyboards to be found.\n",
    " \n",
    "\n",
    "\n",
    "\n",
    "Going Beyond\n",
    "===\n",
    "\n",
    "Now it is your turn to answer the open questions, or make up some questions of your own.  Good luck! Here are a few ideas to get you started:\n",
    "\n",
    "* Hillclimbing just keeps the one best keyboard it has found so far.  Other optimization techniques such as\n",
    "[beam search](http://en.wikipedia.org/wiki/Beam_search) or [genetic algorithms](http://en.wikipedia.org/wiki/Genetic_algorithm)  or [ant colony optimization](http://en.wikipedia.org/wiki/Ant_colony_optimization_algorithms) maintain several candidates at a time. Is that a good idea?\n",
    "\n",
    "* The code in this notebook emphasizes clarity, not efficiency.  Can you modify the code (or perhaps port it to another language) and make it twice as efficient? 10 times? 100 times?\n",
    "\n",
    "* What other factors do you think are important to user satisfaction with a keyboard.  Can you measure them?\n",
    "\n",
    "* Consider the 5 paths below. They all start at 'P', move in a straight line to 'T', and then go to 'S', but they all make different stops along the top row. In other words, the 5 paths all trace exacty the same lines, so they are very confusing, but our definition of  `confusions` makes most of them different. Can you think\n",
    "of a better way to handle confusions for paths like this?"
   ]
  },
  {
   "cell_type": "code",
   "execution_count": 67,
   "metadata": {},
   "outputs": [
    {
     "data": {
      "image/png": "[encoded data removed]",
      "text/plain": [
       "<matplotlib.figure.Figure at 0x10c2584a8>"
      ]
     },
     "metadata": {},
     "output_type": "display_data"
    }
   ],
   "source": [
    "show_kbd(qwerty, words=['POUTS', 'POIUYTS', 'PUTTS', 'PUTS', 'POTS', 'PITS'])"
   ]
  }
 ],
 "metadata": {
  "kernelspec": {
   "display_name": "Python 3",
   "language": "python",
   "name": "python3"
  },
  "language_info": {
   "codemirror_mode": {
    "name": "ipython",
    "version": 3
   },
   "file_extension": ".py",
   "mimetype": "text/x-python",
   "name": "python",
   "nbconvert_exporter": "python",
   "pygments_lexer": "ipython3",
   "version": "3.5.3"
  }
 },
 "nbformat": 4,
 "nbformat_minor": 1
}
