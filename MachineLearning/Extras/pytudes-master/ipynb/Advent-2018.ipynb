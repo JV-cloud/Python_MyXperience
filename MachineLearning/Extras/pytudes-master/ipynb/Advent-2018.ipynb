{
 "cells": [
  {
   "cell_type": "markdown",
   "metadata": {},
   "source": [
    "# Advent of Code 2018\n",
    "\n",
    "<div align=\"right\"><i>Peter Norvig<br>December 2018</i></div>\n",
    "\n",
    "Here are my solutions to [Advent of Code 2018](https://adventofcode.com/2018), following up on my solutions for [2017](Advent%202017.ipynb) and [2016](Advent%20of%20Code.ipynb). In order to understand each day's two-part puzzle, you'll need to click on the header links below (e.g. **[Day 1: Chronal Calibration](https://adventofcode.com/2018/day/1)**) and read the description. This year I didn't find time to race in real time when the puzzles are released; instead I'm doing batch processing, doing a couple of puzzles every few days. You can see I'm currently behind.\n",
    "\n",
    "\n",
    "# Imports and Utility Functions"
   ]
  },
  {
   "cell_type": "code",
   "execution_count": 1,
   "metadata": {},
   "outputs": [],
   "source": [
    "#### IMPORTS\n",
    "\n",
    "%matplotlib inline\n",
    "import matplotlib.pyplot as plt\n",
    "import re\n",
    "from collections import Counter, defaultdict, namedtuple, deque\n",
    "from itertools   import chain, cycle, product, islice, count as count_from\n",
    "from functools   import lru_cache, total_ordering\n",
    "from dataclasses import dataclass\n",
    "\n",
    "#### CONSTANTS\n",
    "\n",
    "infinity = float('inf')\n",
    "bignum   = 10 ** 100\n",
    "\n",
    "#### FILE INPUT AND PARSING\n",
    "\n",
    "def Input(day, line_parser=str.strip, file_template='data/advent2018/input{}.txt'):\n",
    "    \"For this day's input file, return a tuple of each line parsed by `line_parser`.\"\n",
    "    return mapt(line_parser, open(file_template.format(day)))\n",
    "\n",
    "def integers(text): \n",
    "    \"A tuple of all integers in a string (ignore other characters).\"\n",
    "    return mapt(int, re.findall(r'-?\\d+', text))\n",
    "\n",
    "#### UTILITY FUNCTIONS\n",
    "\n",
    "def mapt(fn, *args): \n",
    "    \"Do a map, and make the results into a tuple.\"\n",
    "    return tuple(map(fn, *args))\n",
    "\n",
    "def first(iterable, default=None):\n",
    "    \"Return first item in iterable, or default.\"\n",
    "    return next(iter(iterable), default)\n",
    "\n",
    "def nth(iterable, n): return next(islice(iter(iterable), n, n+1))\n",
    "\n",
    "cat = ''.join\n",
    "\n",
    "def rangei(start, end, step=1):\n",
    "    \"\"\"Inclusive, range from start to end: rangei(a, b) = range(a, b+1).\"\"\"\n",
    "    return range(start, end + 1, step) \n",
    "\n",
    "def quantify(iterable, pred=bool):\n",
    "    \"Count how many items in iterable have pred(item) true.\"\n",
    "    return sum(map(pred, iterable))\n",
    "\n",
    "def multimap(items):\n",
    "    \"Given (key, val) pairs, return {key: [val, ....], ...}.\"\n",
    "    result = defaultdict(list)\n",
    "    for (key, val) in items:\n",
    "        result[key].append(val)\n",
    "    return result"
   ]
  },
  {
   "cell_type": "markdown",
   "metadata": {},
   "source": [
    "# [Day 1: Chronal Calibration](https://adventofcode.com/2018/day/1)\n",
    "\n",
    "Part 1 was just a wordy way of saying \"add up the input numbers.\" Part 2 requires cycling through the numbers multiple times, finding the partial sum (frequency) that first appears twice (that is, was seen before)."
   ]
  },
  {
   "cell_type": "code",
   "execution_count": 2,
   "metadata": {},
   "outputs": [
    {
     "data": {
      "text/plain": [
       "466"
      ]
     },
     "execution_count": 2,
     "metadata": {},
     "output_type": "execute_result"
    }
   ],
   "source": [
    "input1 = Input(1, int)\n",
    "\n",
    "sum(input1)"
   ]
  },
  {
   "cell_type": "code",
   "execution_count": 3,
   "metadata": {},
   "outputs": [],
   "source": [
    "assert _ == 466, 'Day 1.1'"
   ]
  },
  {
   "cell_type": "code",
   "execution_count": 4,
   "metadata": {},
   "outputs": [
    {
     "data": {
      "text/plain": [
       "750"
      ]
     },
     "execution_count": 4,
     "metadata": {},
     "output_type": "execute_result"
    }
   ],
   "source": [
    "# Part 2\n",
    "\n",
    "def partial_sums(nums):\n",
    "    \"The sums of each prefix of nums.\"\n",
    "    total = 0\n",
    "    for n in nums:\n",
    "        total += n\n",
    "        yield total\n",
    "        \n",
    "def seen_before(items):\n",
    "    \"The first item that appears twice.\"\n",
    "    seen = set()\n",
    "    for item in items:\n",
    "        if item in seen:\n",
    "            return item\n",
    "        seen.add(item)\n",
    "        \n",
    "seen_before(partial_sums(cycle(input1)))"
   ]
  },
  {
   "cell_type": "code",
   "execution_count": 5,
   "metadata": {},
   "outputs": [],
   "source": [
    "assert _ == 750, 'Day 1.2'"
   ]
  },
  {
   "cell_type": "markdown",
   "metadata": {},
   "source": [
    "# [Day 2: Inventory Management System](https://adventofcode.com/2018/day/7)\n",
    "\n",
    "How many ids have a letter that appears exactly 2 times? 3 times?"
   ]
  },
  {
   "cell_type": "code",
   "execution_count": 6,
   "metadata": {},
   "outputs": [
    {
     "data": {
      "text/plain": [
       "8118"
      ]
     },
     "execution_count": 6,
     "metadata": {},
     "output_type": "execute_result"
    }
   ],
   "source": [
    "input2 = Input(2)\n",
    "\n",
    "def numwith(ids, n): return quantify(ids, lambda s: n in Counter(s).values())\n",
    "\n",
    "numwith(input2, 2) * numwith(input2, 3)"
   ]
  },
  {
   "cell_type": "code",
   "execution_count": 7,
   "metadata": {},
   "outputs": [],
   "source": [
    "assert _ == 8118, 'Day 2.1'"
   ]
  },
  {
   "cell_type": "markdown",
   "metadata": {},
   "source": [
    "Now, what letters are in common among the ids that differ in exactly one position?"
   ]
  },
  {
   "cell_type": "code",
   "execution_count": 8,
   "metadata": {},
   "outputs": [
    {
     "data": {
      "text/plain": [
       "'jbbenqtlaxhivmwyscjukztdp'"
      ]
     },
     "execution_count": 8,
     "metadata": {},
     "output_type": "execute_result"
    }
   ],
   "source": [
    "# Part 2\n",
    "\n",
    "def diff(A, B): return sum(a != b for a, b in zip(A, B))\n",
    "\n",
    "def common(A, B): return cat(a for a,b in zip(A, B) if a == b)\n",
    "\n",
    "common(*[i for i in input2 if any(diff(i, x) == 1 for x in input2)])"
   ]
  },
  {
   "cell_type": "code",
   "execution_count": 9,
   "metadata": {},
   "outputs": [],
   "source": [
    "assert _ == 'jbbenqtlaxhivmwyscjukztdp', 'Day 2.2'"
   ]
  },
  {
   "cell_type": "markdown",
   "metadata": {},
   "source": [
    "# [Day 3: No Matter How You Slice It](https://adventofcode.com/2018/day/7)"
   ]
  },
  {
   "cell_type": "code",
   "execution_count": 10,
   "metadata": {},
   "outputs": [
    {
     "data": {
      "text/plain": [
       "103806"
      ]
     },
     "execution_count": 10,
     "metadata": {},
     "output_type": "execute_result"
    }
   ],
   "source": [
    "input3 = Input(3, integers)\n",
    "\n",
    "def claimed(claims):\n",
    "    \"For each square inch position (x, y), how many claims claimed it?\"\n",
    "    C = Counter()\n",
    "    for (id, x, y, w, h) in claims:\n",
    "        C += Counter(product(range(x, x+w), range(y, y+h)))\n",
    "    return C\n",
    "\n",
    "def value_ge(dic, threshold):\n",
    "    \"How many items in dic have a value >= threshold?\"\n",
    "    return quantify(dic[x] >= threshold for x in dic)\n",
    "\n",
    "value_ge(claimed(input3), 2)"
   ]
  },
  {
   "cell_type": "code",
   "execution_count": 11,
   "metadata": {},
   "outputs": [],
   "source": [
    "assert _ == 103806, 'Day 3.1'"
   ]
  },
  {
   "cell_type": "code",
   "execution_count": 12,
   "metadata": {},
   "outputs": [
    {
     "data": {
      "text/plain": [
       "625"
      ]
     },
     "execution_count": 12,
     "metadata": {},
     "output_type": "execute_result"
    }
   ],
   "source": [
    "# Part 2\n",
    "\n",
    "def claimed2(claims):\n",
    "    \"Which claim has only positions that are claimed by nobody else?\"\n",
    "    C = claimed(claims)\n",
    "    for (id, x, y, w, h) in claims:\n",
    "        if all(C[pos] == 1 for pos in product(range(x, x+w), range(y, y+h))):\n",
    "            return id\n",
    "\n",
    "claimed2(input3)"
   ]
  },
  {
   "cell_type": "code",
   "execution_count": 13,
   "metadata": {},
   "outputs": [],
   "source": [
    "assert _ == 625, 'Day 3.2'"
   ]
  },
  {
   "cell_type": "markdown",
   "metadata": {},
   "source": [
    "# [Day 4: Repose Record ](https://adventofcode.com/2018/day/7)\n",
    "\n",
    "Find the guard that has the most minutes asleep, and the minute of the day that the guard spends asleep the most.\n",
    "\n",
    "First make sure we can parse the log correctly:"
   ]
  },
  {
   "cell_type": "code",
   "execution_count": 14,
   "metadata": {},
   "outputs": [
    {
     "data": {
      "text/plain": [
       "(('1518-11-01', 0, 'Guard', '10'),\n",
       " ('1518-11-01', 5, 'falls', 'asleep'),\n",
       " ('1518-11-01', 25, 'wakes', 'up'),\n",
       " ('1518-11-01', 30, 'falls', 'asleep'),\n",
       " ('1518-11-01', 55, 'wakes', 'up'),\n",
       " ('1518-11-01', 58, 'Guard', '99'),\n",
       " ('1518-11-02', 40, 'falls', 'asleep'),\n",
       " ('1518-11-02', 50, 'wakes', 'up'),\n",
       " ('1518-11-03', 5, 'Guard', '10'),\n",
       " ('1518-11-03', 24, 'falls', 'asleep'),\n",
       " ('1518-11-03', 29, 'wakes', 'up'),\n",
       " ('1518-11-04', 2, 'Guard', '99'),\n",
       " ('1518-11-04', 36, 'falls', 'asleep'),\n",
       " ('1518-11-04', 46, 'wakes', 'up'),\n",
       " ('1518-11-05', 3, 'Guard', '99'),\n",
       " ('1518-11-05', 45, 'falls', 'asleep'),\n",
       " ('1518-11-05', 55, 'wakes', 'up'))"
      ]
     },
     "execution_count": 14,
     "metadata": {},
     "output_type": "execute_result"
    }
   ],
   "source": [
    "example4 = '''[1518-11-01 00:00] Guard #10 begins shift\n",
    "[1518-11-01 00:05] falls asleep\n",
    "[1518-11-01 00:25] wakes up\n",
    "[1518-11-01 00:30] falls asleep\n",
    "[1518-11-01 00:55] wakes up\n",
    "[1518-11-01 23:58] Guard #99 begins shift\n",
    "[1518-11-02 00:40] falls asleep\n",
    "[1518-11-02 00:50] wakes up\n",
    "[1518-11-03 00:05] Guard #10 begins shift\n",
    "[1518-11-03 00:24] falls asleep\n",
    "[1518-11-03 00:29] wakes up\n",
    "[1518-11-04 00:02] Guard #99 begins shift\n",
    "[1518-11-04 00:36] falls asleep\n",
    "[1518-11-04 00:46] wakes up\n",
    "[1518-11-05 00:03] Guard #99 begins shift\n",
    "[1518-11-05 00:45] falls asleep\n",
    "[1518-11-05 00:55] wakes up'''.splitlines()\n",
    "\n",
    "def parse_record(text):\n",
    "    \"Return date, minutes, opcode action, and argument.\"\n",
    "    text = re.sub('[][#:]', ' ', text)\n",
    "    day, hour, mins, opcode, arg, *rest = text.split()\n",
    "    return day, int(mins), opcode, arg\n",
    "\n",
    "mapt(parse_record, example4)"
   ]
  },
  {
   "cell_type": "code",
   "execution_count": 15,
   "metadata": {},
   "outputs": [
    {
     "data": {
      "text/plain": [
       "defaultdict(list,\n",
       "            {'1518-11-02': [40, 41, 42, 43, 44, 45, 46, 47, 48, 49],\n",
       "             '1518-11-04': [36, 37, 38, 39, 40, 41, 42, 43, 44, 45],\n",
       "             '1518-11-05': [45, 46, 47, 48, 49, 50, 51, 52, 53, 54]})"
      ]
     },
     "execution_count": 15,
     "metadata": {},
     "output_type": "execute_result"
    }
   ],
   "source": [
    "def timecard(log):\n",
    "    \"Return {guard: {day: [asleep_range, ...]}}.\"\n",
    "    records = sorted(map(parse_record, log))\n",
    "    sleep = defaultdict(lambda: defaultdict(list)) # sleep[guard][day] = [minute, ...]\n",
    "    for day, mins, opcode, arg in records:\n",
    "        if opcode == 'Guard':\n",
    "            guard = int(arg)\n",
    "        elif opcode == 'falls':\n",
    "            falls = mins\n",
    "        elif opcode == 'wakes':\n",
    "            wakes = mins\n",
    "            sleep[guard][day].extend(range(falls, wakes))\n",
    "        else:\n",
    "            error()\n",
    "    return sleep\n",
    "    \n",
    "timecard(example4)[99] # Guard 99's sleep record"
   ]
  },
  {
   "cell_type": "code",
   "execution_count": 16,
   "metadata": {},
   "outputs": [
    {
     "data": {
      "text/plain": [
       "143415"
      ]
     },
     "execution_count": 16,
     "metadata": {},
     "output_type": "execute_result"
    }
   ],
   "source": [
    "def sleepiest_guard(sleep):\n",
    "    \"Which guard sleeps the most minutes?\"\n",
    "    return max(sleep, key=lambda guard: sum(map(len, sleep[guard].values())))\n",
    "\n",
    "def sleepiest_minute(guard, sleep):\n",
    "    \"In which minute is this guard asleep the most?\"\n",
    "    def times_asleep(m): return sum(m in mins for mins in sleep[guard].values())\n",
    "    return max(range(60), key=times_asleep)\n",
    "\n",
    "def repose(lines):\n",
    "    \"The ID of the sleepiest guard times that guard's sleepiest minute.\"\n",
    "    sleep = timecard(lines)\n",
    "    guard = sleepiest_guard(sleep)\n",
    "    minute = sleepiest_minute(guard, sleep)\n",
    "    return guard * minute\n",
    "\n",
    "repose(Input(4))"
   ]
  },
  {
   "cell_type": "code",
   "execution_count": 17,
   "metadata": {},
   "outputs": [],
   "source": [
    "assert _ == 143415, 'Day 4.1'"
   ]
  },
  {
   "cell_type": "code",
   "execution_count": 18,
   "metadata": {},
   "outputs": [
    {
     "data": {
      "text/plain": [
       "49944"
      ]
     },
     "execution_count": 18,
     "metadata": {},
     "output_type": "execute_result"
    }
   ],
   "source": [
    "# Part 2\n",
    "\n",
    "def repose2(lines):\n",
    "    \"\"\"Of all guards, which guard is most frequently asleep on the same minute?\n",
    "    What is the ID of the guard you chose multiplied by the minute you chose?\"\"\"\n",
    "    sleep = timecard(lines)\n",
    "    c = Counter((guard, minute) for guard in sleep\n",
    "                                for minute in chain(*sleep[guard].values()))\n",
    "    [((guard, minute), _)] = c.most_common(1)\n",
    "    return guard * minute\n",
    "\n",
    "repose2(Input(4))"
   ]
  },
  {
   "cell_type": "code",
   "execution_count": 19,
   "metadata": {},
   "outputs": [],
   "source": [
    "assert _ == 49944, 'Day 4.2'"
   ]
  },
  {
   "cell_type": "markdown",
   "metadata": {},
   "source": [
    "# [Day 5: Alchemical Reduction](https://adventofcode.com/2018/day/5)\n",
    "\n",
    "How many units remain after fully reacting the polymer you scanned? Reacting means removing `Cc` and `cC`, etc."
   ]
  },
  {
   "cell_type": "code",
   "execution_count": 20,
   "metadata": {},
   "outputs": [
    {
     "data": {
      "text/plain": [
       "'dabCBAcaDA'"
      ]
     },
     "execution_count": 20,
     "metadata": {},
     "output_type": "execute_result"
    }
   ],
   "source": [
    "input5 = cat(Input(5))\n",
    "\n",
    "alphabet = 'abcdefghijklmnopqrstuvwxyz'\n",
    "ALPHABET = alphabet.upper()\n",
    "\n",
    "OR = '|'.join\n",
    "reaction = OR(OR([c + C, C + c]) for c, C in zip(alphabet, ALPHABET))\n",
    "\n",
    "def reduction(text):\n",
    "    \"Remove all cC or Cc pairs, and repeat.\"\n",
    "    while True:\n",
    "        text, n = re.subn(reaction, '', text)\n",
    "        if n == 0:\n",
    "            return text\n",
    "        \n",
    "reduction('dabAcCaCBAcCcaDA')"
   ]
  },
  {
   "cell_type": "code",
   "execution_count": 21,
   "metadata": {},
   "outputs": [
    {
     "data": {
      "text/plain": [
       "10180"
      ]
     },
     "execution_count": 21,
     "metadata": {},
     "output_type": "execute_result"
    }
   ],
   "source": [
    "len(reduction(input5))"
   ]
  },
  {
   "cell_type": "code",
   "execution_count": 22,
   "metadata": {},
   "outputs": [],
   "source": [
    "assert _ == 10180, 'Day 5.1'"
   ]
  },
  {
   "cell_type": "code",
   "execution_count": 23,
   "metadata": {},
   "outputs": [
    {
     "data": {
      "text/plain": [
       "5668"
      ]
     },
     "execution_count": 23,
     "metadata": {},
     "output_type": "execute_result"
    }
   ],
   "source": [
    "# Part 2\n",
    "\n",
    "def shortest(items): return min(items, key=len)\n",
    "\n",
    "def reduction2(text):\n",
    "    \"\"\"What is the length of the shortest polymer you can produce by removing \n",
    "    all units of exactly one type and fully reacting the result?\"\"\"\n",
    "    return shortest(reduction(re.sub(c, '', text, flags=re.I))\n",
    "                    for c in alphabet)\n",
    "\n",
    "len(reduction2(input5))"
   ]
  },
  {
   "cell_type": "code",
   "execution_count": 24,
   "metadata": {},
   "outputs": [],
   "source": [
    "assert _ == 5668, 'Day 5.2'"
   ]
  },
  {
   "cell_type": "markdown",
   "metadata": {},
   "source": [
    "# [Day 6: Chronal Coordinates](https://adventofcode.com/2018/day/6)\n",
    "\n",
    "Given a set of pointson a grid (all positive integer (x, y) coordinates), each point defines an *area* of grid points that are closer to it than any other point in the set (i.e. the Voronoi diagram). What is the size of the largest area (measured in number of grid points) that isn't infinite?  To answer, use a `Counter` over grid points in the bounding box that covers all the input points. \n",
    "\n",
    "Originally, I thought that if a point on the perimeter of the box was closest to point `p`, then `p` has an infinite area. That's true for `p` that are in the corners, but need not be true for all `p` (consider a set of 5 points, 4 in the corners of a box, and one near the center; the center point will have a diamond-shaped area, and unless it is at the exact center, it will \"leak\" outside one of the edges). So I expand the bounding box by a margin. I make a guess at the necessary margin size, so my answer might not always be correct, but hey, it worked for the input I was given."
   ]
  },
  {
   "cell_type": "code",
   "execution_count": 25,
   "metadata": {},
   "outputs": [
    {
     "data": {
      "text/plain": [
       "Counter({(3, 4): 9, (5, 5): 17})"
      ]
     },
     "execution_count": 25,
     "metadata": {},
     "output_type": "execute_result"
    }
   ],
   "source": [
    "input6 = Input(6, integers)\n",
    "\n",
    "def closest_to(point, points):\n",
    "    \"Which of `points` is closest to `point`? Return None if tie.\"\n",
    "    p1, p2 = sorted(points, key=lambda p: distance(p, point))[:2]\n",
    "    return p1 if distance(p1, point) < distance(p2, point) else None\n",
    "\n",
    "def X(point): return point[0]\n",
    "def Y(point): return point[1]\n",
    "def distance(p, q): return abs(X(p) - X(q)) + abs(Y(p) - Y(q))\n",
    "def maxval(dic): return max(dic.values())\n",
    "\n",
    "def closest_counts(points, margin=100):\n",
    "    \"What is the size of the largest area of closest points that isn't infinite?\"\n",
    "    assert len(points) > 1\n",
    "    xside  = range(-margin, max(map(X, points)) + margin)\n",
    "    yside  = range(-margin, max(map(Y, points)) + margin)\n",
    "    box    = product(xside, yside)\n",
    "    # counts[point] = number of grid points in box that are closest to point\n",
    "    counts = Counter(closest_to(p, points) for p in box)\n",
    "    # Now delete the counts that are suspected to be infinite:\n",
    "    for p in perimeter(xside, yside):\n",
    "        c = closest_to(p, points)\n",
    "        if c in counts:\n",
    "            del counts[c]\n",
    "    return counts\n",
    "\n",
    "def perimeter(xside, yside):\n",
    "    \"The perimeter of a box with these sides.\"\n",
    "    return chain(((xside[0], y)  for y in yside),\n",
    "                 ((xside[-1], y) for y in yside),\n",
    "                 ((x, yside[0])  for x in xside),\n",
    "                 ((x, yside[-1]) for x in xside))\n",
    "        \n",
    "closest_counts([(1, 1), (1, 6), (8, 3), (3, 4), (5, 5), (8, 9)])  "
   ]
  },
  {
   "cell_type": "code",
   "execution_count": 26,
   "metadata": {},
   "outputs": [
    {
     "data": {
      "text/plain": [
       "3010"
      ]
     },
     "execution_count": 26,
     "metadata": {},
     "output_type": "execute_result"
    }
   ],
   "source": [
    "maxval(closest_counts(input6))"
   ]
  },
  {
   "cell_type": "code",
   "execution_count": 27,
   "metadata": {},
   "outputs": [],
   "source": [
    "assert _ == 3010, 'Day 6.1'"
   ]
  },
  {
   "cell_type": "code",
   "execution_count": 28,
   "metadata": {},
   "outputs": [],
   "source": [
    "# Part 2\n",
    "\n",
    "def total_distance(point, points):\n",
    "    \"Total distance of this point to all the `points`.\"\n",
    "    return sum(distance(point, c) for c in points)\n",
    "\n",
    "def neighborhood(points, dist=10000):\n",
    "    \"\"\"What is the size of the region containing all locations which have a  \n",
    "    total distance to all given points of less than `dist`?\"\"\"\n",
    "    maxx = max(x for x,y in points)\n",
    "    maxy = max(y for x,y in points)\n",
    "    box  = product(range(maxx + 1), range(maxy + 1))\n",
    "    return quantify(box, lambda p: total_distance(p, points) < dist)"
   ]
  },
  {
   "cell_type": "code",
   "execution_count": 29,
   "metadata": {},
   "outputs": [
    {
     "data": {
      "text/plain": [
       "48034"
      ]
     },
     "execution_count": 29,
     "metadata": {},
     "output_type": "execute_result"
    }
   ],
   "source": [
    "neighborhood(Input(6, integers))"
   ]
  },
  {
   "cell_type": "code",
   "execution_count": 30,
   "metadata": {},
   "outputs": [],
   "source": [
    "assert _ == 48034, 'Day 6.2'"
   ]
  },
  {
   "cell_type": "markdown",
   "metadata": {},
   "source": [
    "# [Day 7: The Sum of Its Parts](https://adventofcode.com/2018/day/7)\n",
    "\n",
    "Given instructions like `Step B must be finished before step A can begin`, in what order should the steps be completed? When several steps are possible, do the alphabetically first (`min`) first.\n"
   ]
  },
  {
   "cell_type": "code",
   "execution_count": 31,
   "metadata": {},
   "outputs": [
    {
     "data": {
      "text/plain": [
       "['B', 'A']"
      ]
     },
     "execution_count": 31,
     "metadata": {},
     "output_type": "execute_result"
    }
   ],
   "source": [
    "def parse_instruction(line): return re.findall(' ([A-Z]) ', line)\n",
    "\n",
    "parse_instruction('Step B must be finished before step A can begin.')"
   ]
  },
  {
   "cell_type": "code",
   "execution_count": 32,
   "metadata": {},
   "outputs": [
    {
     "data": {
      "text/plain": [
       "'ABGKCMVWYDEHFOPQUILSTNZRJX'"
      ]
     },
     "execution_count": 32,
     "metadata": {},
     "output_type": "execute_result"
    }
   ],
   "source": [
    "input7 = Input(7, parse_instruction)\n",
    "\n",
    "def order(pairs):\n",
    "    \"Yield steps in order, respecting (before, after) pairs; break ties lexically.\"\n",
    "    steps = {step for pair in pairs for step in pair} # Steps remaining to be done\n",
    "    prereqs = multimap((A, B) for [B, A] in pairs)    # prereqs[A] = [B, ...]\n",
    "    def ready(step): return all(pre not in steps for pre in prereqs[step])\n",
    "    while steps:\n",
    "        step = min(filter(ready, steps))   \n",
    "        steps.remove(step)\n",
    "        yield step\n",
    "        \n",
    "cat(order(input7))"
   ]
  },
  {
   "cell_type": "code",
   "execution_count": 33,
   "metadata": {},
   "outputs": [],
   "source": [
    "assert _ == 'ABGKCMVWYDEHFOPQUILSTNZRJX', 'Day 7.1'"
   ]
  },
  {
   "cell_type": "markdown",
   "metadata": {},
   "source": [
    "In part 2 I need to schedule each step; I'll keep track of `endtime[step]` as a time step (initially infinitely far in the future). I'll also keep track of the number of available workers, decrementing the count when I assign a step to a worker, and incrementing the count when a step is completed."
   ]
  },
  {
   "cell_type": "code",
   "execution_count": 34,
   "metadata": {},
   "outputs": [],
   "source": [
    "# Part 2\n",
    "\n",
    "def schedule(pairs, workers=5):\n",
    "    \"Return a {step:endtime} map for best schedule, given a number of `workers`.\"\n",
    "    steps = {step for pair in pairs for step in pair} # Steps remaining to be done\n",
    "    prereqs = multimap((A, B) for (B, A) in pairs)    # prereqs[A] = [B, ...]\n",
    "    endtime = {step: infinity for step in steps}      # endtime[step] = time it will be completed\n",
    "    for t in count_from(0): \n",
    "        # Assign available steps to free workers\n",
    "        def ready(step): return all(endtime[p] < t for p in prereqs[step])\n",
    "        available = filter(ready, steps)\n",
    "        for step in sorted(available)[:workers]:\n",
    "            endtime[step] = t + 60 + ord(step) - ord('A')\n",
    "            steps.remove(step)\n",
    "            workers -= 1\n",
    "        # Discover if any workers become free this time step\n",
    "        workers += quantify(endtime[step] == t for step in endtime)\n",
    "        # Return answer once all steps have been scheduled\n",
    "        if not steps:\n",
    "            return endtime"
   ]
  },
  {
   "cell_type": "code",
   "execution_count": 35,
   "metadata": {},
   "outputs": [
    {
     "data": {
      "text/plain": [
       "{'U': 354,\n",
       " 'I': 423,\n",
       " 'M': 133,\n",
       " 'X': 897,\n",
       " 'K': 132,\n",
       " 'W': 144,\n",
       " 'J': 813,\n",
       " 'T': 503,\n",
       " 'D': 259,\n",
       " 'B': 61,\n",
       " 'P': 408,\n",
       " 'L': 426,\n",
       " 'E': 198,\n",
       " 'O': 273,\n",
       " 'A': 60,\n",
       " 'F': 332,\n",
       " 'Y': 84,\n",
       " 'C': 195,\n",
       " 'V': 215,\n",
       " 'Z': 665,\n",
       " 'S': 505,\n",
       " 'G': 66,\n",
       " 'H': 266,\n",
       " 'N': 579,\n",
       " 'Q': 350,\n",
       " 'R': 743}"
      ]
     },
     "execution_count": 35,
     "metadata": {},
     "output_type": "execute_result"
    }
   ],
   "source": [
    "schedule(input7)"
   ]
  },
  {
   "cell_type": "code",
   "execution_count": 36,
   "metadata": {},
   "outputs": [
    {
     "data": {
      "text/plain": [
       "898"
      ]
     },
     "execution_count": 36,
     "metadata": {},
     "output_type": "execute_result"
    }
   ],
   "source": [
    "maxval(schedule(input7)) + 1"
   ]
  },
  {
   "cell_type": "code",
   "execution_count": 37,
   "metadata": {},
   "outputs": [],
   "source": [
    "assert _ == 898, 'Day 7.2'"
   ]
  },
  {
   "cell_type": "markdown",
   "metadata": {},
   "source": [
    "# [Day 8: Memory Maneuver](https://adventofcode.com/2018/day/8)\n",
    "\n",
    "I'll handle the list of numbers as a `deque` (so I can efficiently pop from the left), and I'll create a `Tree` data structure with `metadata` and `kids` (children) fields."
   ]
  },
  {
   "cell_type": "code",
   "execution_count": 38,
   "metadata": {},
   "outputs": [],
   "source": [
    "input8 = integers(cat(Input(8)))\n",
    "                  \n",
    "Tree = namedtuple('Tree', 'kids, metadata')\n",
    "\n",
    "def tree(nums):\n",
    "    \"\"\"A node consists of the numbers: [k, n, (k child nodes)..., (n metadata values)...].\"\"\"\n",
    "    k, n = nums.popleft(), nums.popleft()\n",
    "    return Tree([tree(nums) for _ in range(k)], \n",
    "                [nums.popleft() for _ in range(n)])\n",
    "\n",
    "example8 = tree(deque((2, 3, 0, 3, 10, 11, 12, 1, 1, 0, 1, 99, 2, 1, 1, 2)))\n",
    "tree8    = tree(deque(input8))"
   ]
  },
  {
   "cell_type": "code",
   "execution_count": 39,
   "metadata": {},
   "outputs": [
    {
     "data": {
      "text/plain": [
       "138"
      ]
     },
     "execution_count": 39,
     "metadata": {},
     "output_type": "execute_result"
    }
   ],
   "source": [
    "def sum_metadata(tree):\n",
    "    \"What is the sum of all metadata entries in a tree?\"\n",
    "    return sum(tree.metadata) + sum(map(sum_metadata, tree.kids))\n",
    "\n",
    "sum_metadata(example8)"
   ]
  },
  {
   "cell_type": "code",
   "execution_count": 40,
   "metadata": {},
   "outputs": [
    {
     "data": {
      "text/plain": [
       "48443"
      ]
     },
     "execution_count": 40,
     "metadata": {},
     "output_type": "execute_result"
    }
   ],
   "source": [
    "sum_metadata(tree8)"
   ]
  },
  {
   "cell_type": "code",
   "execution_count": 41,
   "metadata": {},
   "outputs": [],
   "source": [
    "assert _ == 48443, 'Day 8.1'"
   ]
  },
  {
   "cell_type": "code",
   "execution_count": 42,
   "metadata": {},
   "outputs": [],
   "source": [
    "def value(tree):\n",
    "    \"\"\"What is the value of the root node? \n",
    "    Value of tree with no kids is sum of metadata; \n",
    "    Otherwise metadata are 1-based indexes into kids; sum up their values.\"\"\"\n",
    "    if not tree.kids:\n",
    "        return sum(tree.metadata)\n",
    "    else:\n",
    "        return sum(value(tree.kids[i - 1]) \n",
    "                   for i in tree.metadata \n",
    "                   if i <= len(tree.kids))        "
   ]
  },
  {
   "cell_type": "code",
   "execution_count": 43,
   "metadata": {},
   "outputs": [
    {
     "data": {
      "text/plain": [
       "66"
      ]
     },
     "execution_count": 43,
     "metadata": {},
     "output_type": "execute_result"
    }
   ],
   "source": [
    "value(example8)"
   ]
  },
  {
   "cell_type": "code",
   "execution_count": 44,
   "metadata": {},
   "outputs": [
    {
     "data": {
      "text/plain": [
       "30063"
      ]
     },
     "execution_count": 44,
     "metadata": {},
     "output_type": "execute_result"
    }
   ],
   "source": [
    "value(tree8)"
   ]
  },
  {
   "cell_type": "code",
   "execution_count": 45,
   "metadata": {},
   "outputs": [],
   "source": [
    "assert _ == 30063, 'Day 8.2'"
   ]
  },
  {
   "cell_type": "markdown",
   "metadata": {},
   "source": [
    "# [Day 9: Marble Mania](https://adventofcode.com/2018/day/9)\n",
    "\n",
    "I'll represent the circle as a `deque` (so I can `rotate`). I had a couple of off-by-one errors, due in part to the problem being 1-based not 0-based, so I put in the `verbose` option; in my verbose output (unlike the problem description), the circle always starts with the position after the \"current\" position, and the newly-inserted marble is always last."
   ]
  },
  {
   "cell_type": "code",
   "execution_count": 46,
   "metadata": {},
   "outputs": [
    {
     "name": "stdout",
     "output_type": "stream",
     "text": [
      "1 [0, 1]\n",
      "2 [1, 0, 2]\n",
      "3 [0, 2, 1, 3]\n",
      "4 [2, 1, 3, 0, 4]\n",
      "5 [1, 3, 0, 4, 2, 5]\n",
      "6 [3, 0, 4, 2, 5, 1, 6]\n",
      "7 [0, 4, 2, 5, 1, 6, 3, 7]\n",
      "8 [4, 2, 5, 1, 6, 3, 7, 0, 8]\n",
      "9 [2, 5, 1, 6, 3, 7, 0, 8, 4, 9]\n",
      "1 [5, 1, 6, 3, 7, 0, 8, 4, 9, 2, 10]\n",
      "2 [1, 6, 3, 7, 0, 8, 4, 9, 2, 10, 5, 11]\n",
      "3 [6, 3, 7, 0, 8, 4, 9, 2, 10, 5, 11, 1, 12]\n",
      "4 [3, 7, 0, 8, 4, 9, 2, 10, 5, 11, 1, 12, 6, 13]\n",
      "5 [7, 0, 8, 4, 9, 2, 10, 5, 11, 1, 12, 6, 13, 3, 14]\n",
      "6 [0, 8, 4, 9, 2, 10, 5, 11, 1, 12, 6, 13, 3, 14, 7, 15]\n",
      "7 [8, 4, 9, 2, 10, 5, 11, 1, 12, 6, 13, 3, 14, 7, 15, 0, 16]\n",
      "8 [4, 9, 2, 10, 5, 11, 1, 12, 6, 13, 3, 14, 7, 15, 0, 16, 8, 17]\n",
      "9 [9, 2, 10, 5, 11, 1, 12, 6, 13, 3, 14, 7, 15, 0, 16, 8, 17, 4, 18]\n",
      "1 [2, 10, 5, 11, 1, 12, 6, 13, 3, 14, 7, 15, 0, 16, 8, 17, 4, 18, 9, 19]\n",
      "2 [10, 5, 11, 1, 12, 6, 13, 3, 14, 7, 15, 0, 16, 8, 17, 4, 18, 9, 19, 2, 20]\n",
      "3 [5, 11, 1, 12, 6, 13, 3, 14, 7, 15, 0, 16, 8, 17, 4, 18, 9, 19, 2, 20, 10, 21]\n",
      "4 [11, 1, 12, 6, 13, 3, 14, 7, 15, 0, 16, 8, 17, 4, 18, 9, 19, 2, 20, 10, 21, 5, 22]\n",
      "5 [2, 20, 10, 21, 5, 22, 11, 1, 12, 6, 13, 3, 14, 7, 15, 0, 16, 8, 17, 4, 18, 19]\n",
      "6 [20, 10, 21, 5, 22, 11, 1, 12, 6, 13, 3, 14, 7, 15, 0, 16, 8, 17, 4, 18, 19, 2, 24]\n",
      "7 [10, 21, 5, 22, 11, 1, 12, 6, 13, 3, 14, 7, 15, 0, 16, 8, 17, 4, 18, 19, 2, 24, 20, 25]\n"
     ]
    },
    {
     "data": {
      "text/plain": [
       "Counter({5: 32})"
      ]
     },
     "execution_count": 46,
     "metadata": {},
     "output_type": "execute_result"
    }
   ],
   "source": [
    "players, marbles = integers('448 players; last marble is worth 71628 points')\n",
    "\n",
    "def play(players, marbles, verbose=False):\n",
    "    \"Add `marbles` to `circle`, rotating according to rules and scoring every 23 marbles.\"\n",
    "    circle = deque([0])\n",
    "    scores = Counter()\n",
    "    for m in rangei(1, marbles):\n",
    "        player = (m - 1) % players + 1\n",
    "        if m % 23:\n",
    "            circle.rotate(-1)\n",
    "            circle.append(m)\n",
    "        else:\n",
    "            circle.rotate(+7)\n",
    "            scores[player] += circle.pop() + m\n",
    "            circle.rotate(-1)\n",
    "        if verbose: print(player, list(circle))\n",
    "    return scores\n",
    "\n",
    "play(9, 25, True)"
   ]
  },
  {
   "cell_type": "code",
   "execution_count": 47,
   "metadata": {},
   "outputs": [
    {
     "data": {
      "text/plain": [
       "394486"
      ]
     },
     "execution_count": 47,
     "metadata": {},
     "output_type": "execute_result"
    }
   ],
   "source": [
    "maxval(play(players, marbles))"
   ]
  },
  {
   "cell_type": "code",
   "execution_count": 48,
   "metadata": {},
   "outputs": [],
   "source": [
    "assert _ == 394486, 'Day 9.1'"
   ]
  },
  {
   "cell_type": "code",
   "execution_count": 49,
   "metadata": {},
   "outputs": [
    {
     "data": {
      "text/plain": [
       "3276488008"
      ]
     },
     "execution_count": 49,
     "metadata": {},
     "output_type": "execute_result"
    }
   ],
   "source": [
    "maxval(play(players, marbles * 100))"
   ]
  },
  {
   "cell_type": "code",
   "execution_count": 50,
   "metadata": {},
   "outputs": [],
   "source": [
    "assert _ == 3276488008, 'Day 9.2'"
   ]
  },
  {
   "cell_type": "markdown",
   "metadata": {},
   "source": [
    "# [Day 10: The Stars Align](https://adventofcode.com/2018/day/10)\n",
    "\n",
    "\n",
    "The basic idea of moving objects into a new configuration is easy: increment their position by their velocity to get a set of points. The hard part is figuring out when they spell a message. My assumption is that the lights are initially spread far afield; over time they will come together into a central location; then they will overshoot and go off in the other direction. My even bigger (but still resonable) assumption is that the message is spelled when the area of the bounding box of the points is a minimum. When that happens, I'll just print the configuration, and read what is there. (I won't write code to do OCR.)"
   ]
  },
  {
   "cell_type": "code",
   "execution_count": 51,
   "metadata": {},
   "outputs": [],
   "source": [
    "Light = namedtuple('Light', 'x, y, dx, dy')\n",
    "\n",
    "input10 = Input(10, lambda line: Light(*integers(line)))\n",
    "\n",
    "def configuration(t, lights=input10):\n",
    "    \"The positions of the lights at time t.\"\n",
    "    return {(L.x + t * L.dx, L.y + t * L.dy) for L in lights}\n",
    "        \n",
    "def bounds(points):\n",
    "    \"Return xmin, xmax, ymin, ymax of the bounding box.\"\n",
    "    return (min(map(X, points)), max(map(X, points)),\n",
    "            min(map(Y, points)), max(map(Y, points)))\n",
    "\n",
    "def extent(points):\n",
    "    \"Area of bounding box.\"\n",
    "    xmin, xmax, ymin, ymax = bounds(points)\n",
    "    return (xmax - xmin) * (ymax - ymin)\n",
    "\n",
    "def localmin(sequence, key):\n",
    "    \"Iterate through sequence, when key(item) starts going up, return previous item.\"\n",
    "    prevscore = infinity\n",
    "    for item in sequence:\n",
    "        score = key(item)\n",
    "        if prevscore < score:\n",
    "            return prev\n",
    "        prev, prevscore = item, score\n",
    "        \n",
    "def lightshow(points, chars='.#'):\n",
    "    \"Print out the locations of the points.\"\n",
    "    xmin, xmax, ymin, ymax = bounds(points)\n",
    "    for y in rangei(ymin, ymax):\n",
    "        print(cat(chars[(x, y) in points] for x in rangei(xmin, xmax)))"
   ]
  },
  {
   "cell_type": "code",
   "execution_count": 52,
   "metadata": {},
   "outputs": [
    {
     "name": "stdout",
     "output_type": "stream",
     "text": [
      "#####...#....#.....###..#....#.....###....##....######..#....#\n",
      "#....#..#....#......#...#....#......#....#..#...#.......#....#\n",
      "#....#...#..#.......#....#..#.......#...#....#..#........#..#.\n",
      "#....#...#..#.......#....#..#.......#...#....#..#........#..#.\n",
      "#####.....##........#.....##........#...#....#..#####.....##..\n",
      "#....#....##........#.....##........#...######..#.........##..\n",
      "#....#...#..#.......#....#..#.......#...#....#..#........#..#.\n",
      "#....#...#..#...#...#....#..#...#...#...#....#..#........#..#.\n",
      "#....#..#....#..#...#...#....#..#...#...#....#..#.......#....#\n",
      "#####...#....#...###....#....#...###....#....#..######..#....#\n"
     ]
    }
   ],
   "source": [
    "configurations = map(configuration, count_from(0))\n",
    "lights = localmin(configurations, key=extent)\n",
    "lightshow(lights)"
   ]
  },
  {
   "cell_type": "markdown",
   "metadata": {},
   "source": [
    "That should be \"`BXJXJAEX`\".\n",
    "\n",
    "In Part 2 I need to get the time `t` at which we generate the configuration `lights`:"
   ]
  },
  {
   "cell_type": "code",
   "execution_count": 53,
   "metadata": {},
   "outputs": [
    {
     "data": {
      "text/plain": [
       "10605"
      ]
     },
     "execution_count": 53,
     "metadata": {},
     "output_type": "execute_result"
    }
   ],
   "source": [
    "# Part 2\n",
    "\n",
    "next(t for t in count_from(1) if configuration(t) == lights)"
   ]
  },
  {
   "cell_type": "code",
   "execution_count": 54,
   "metadata": {},
   "outputs": [],
   "source": [
    "assert _ == 10605"
   ]
  },
  {
   "cell_type": "markdown",
   "metadata": {},
   "source": [
    "# [Day 11: Chronal Charge](https://adventofcode.com/2018/day/11)"
   ]
  },
  {
   "cell_type": "code",
   "execution_count": 55,
   "metadata": {},
   "outputs": [
    {
     "data": {
      "text/plain": [
       "(30, (243, 27), 3)"
      ]
     },
     "execution_count": 55,
     "metadata": {},
     "output_type": "execute_result"
    }
   ],
   "source": [
    "serial = input11 = 6303\n",
    "\n",
    "def power_level(point):\n",
    "    \"Follow the rules for power level.\"\n",
    "    id = X(point) + 10\n",
    "    level = (id * Y(point) + serial) * id\n",
    "    return (level // 100) % 10 - 5\n",
    "\n",
    "def total_power(topleft, width=3):\n",
    "    \"Total power in the square with given topleft corner and width.\"\n",
    "    x, y = topleft\n",
    "    square = product(range(x, x + width), range(y, y + width))\n",
    "    return sum(map(power_level, square))\n",
    "\n",
    "def maxpower(bounds=300, width=3):\n",
    "    \"Return (power, topleft, width) of square within `bounds` of maximum power.\"\n",
    "    toplefts = product(rangei(1, bounds - width), repeat=2)\n",
    "    return max((total_power(topleft, width), topleft, width)\n",
    "               for topleft in toplefts)\n",
    "\n",
    "maxpower()"
   ]
  },
  {
   "cell_type": "code",
   "execution_count": 56,
   "metadata": {},
   "outputs": [],
   "source": [
    "assert _[1] == (243, 27), 'Day 11.1'"
   ]
  },
  {
   "cell_type": "markdown",
   "metadata": {},
   "source": [
    "To enumerate all the squares of any width is O(<i>n</i><sup>4</sup>); too much when *n* = 300. So I'll refactor `total_power` to cache results in a summed-area table (a standard approach from computer graphics)."
   ]
  },
  {
   "cell_type": "code",
   "execution_count": 57,
   "metadata": {},
   "outputs": [],
   "source": [
    "# Part 2\n",
    "\n",
    "def summed_area(side, key):\n",
    "    \"A summed-area table.\"\n",
    "    I = defaultdict(int)\n",
    "    for x, y in product(side, side):\n",
    "        I[x, y] = key((x, y)) + I[x, y - 1] + I[x - 1, y] - I[x - 1, y - 1]\n",
    "    return I\n",
    "\n",
    "def total_power(topleft, width=3, I=summed_area(rangei(1, 300), power_level)):\n",
    "    \"Total power in square with given topleft corner and width (from `I`).\"\n",
    "    x, y = topleft\n",
    "    xmin, ymin, xmax, ymax = x - 1, y - 1, x + width - 1, y + width - 1\n",
    "    return I[xmin, ymin] + I[xmax, ymax] - I[xmax, ymin] - I[xmin, ymax]\n",
    "\n",
    "# Make sure we get the same answer for the Part 1 problem\n",
    "assert maxpower() == (30, (243, 27), 3)"
   ]
  },
  {
   "cell_type": "code",
   "execution_count": 58,
   "metadata": {},
   "outputs": [
    {
     "data": {
      "text/plain": [
       "(88, (284, 172), 12)"
      ]
     },
     "execution_count": 58,
     "metadata": {},
     "output_type": "execute_result"
    }
   ],
   "source": [
    "max(maxpower(width=w) for w in range(300))"
   ]
  },
  {
   "cell_type": "code",
   "execution_count": 59,
   "metadata": {},
   "outputs": [],
   "source": [
    "assert _[1] + _[2:] == (284, 172, 12), 'Day 11.2'"
   ]
  },
  {
   "cell_type": "markdown",
   "metadata": {},
   "source": [
    "# [Day 12: Subterranean Sustainability](https://adventofcode.com/2018/day/12)\n",
    "\n",
    "One-dimensional cellular automata. Fun! AT first I thought I would represent a row of plants as a string, but I realized I'd also need to track the start position of the string, so I decided it was easier to represent a row of plants as a set of index numbers of pots that are live. I'll make `grow()` yield all future generations:"
   ]
  },
  {
   "cell_type": "code",
   "execution_count": 60,
   "metadata": {},
   "outputs": [
    {
     "data": {
      "text/plain": [
       "1447"
      ]
     },
     "execution_count": 60,
     "metadata": {},
     "output_type": "execute_result"
    }
   ],
   "source": [
    "def Plants(row):\n",
    "    \"Convert '#..#.#' => {0, 3, 5}\"\n",
    "    return {i for i, c in enumerate(row) if c == '#'}\n",
    "\n",
    "input12 = Input(12, str.split)\n",
    "plants  = Plants(input12[0][-1])\n",
    "rules   = {rule[0]: rule[-1] for rule in input12 if '=>' in rule}\n",
    "\n",
    "def grow(plants=plants, rules=rules):\n",
    "    \"Grow plants using rules, yielding each generation (including 0th).\"\n",
    "    while True:\n",
    "        yield plants\n",
    "        extent = rangei(min(plants) - 3, max(plants) + 3)\n",
    "        plants = {i for i in extent if lives(plants, i, rules)}\n",
    "\n",
    "def lives(plants, i, rules):\n",
    "    \"Does pot i live in next generation, according to rules?\"\n",
    "    neighborhood = cat('.#'[j in plants] for j in rangei(i - 2, i + 2))\n",
    "    return rules[neighborhood] == '#'\n",
    "\n",
    "sum(nth(grow(), 20))"
   ]
  },
  {
   "cell_type": "code",
   "execution_count": 61,
   "metadata": {},
   "outputs": [],
   "source": [
    "assert _ == 1447, 'Day 12.1' "
   ]
  },
  {
   "cell_type": "markdown",
   "metadata": {},
   "source": [
    "Cool, my answer is leet-er than `1337`. But Part 2, asks for 50 billion generations. Maybe the pattern reaches a fixed point, or cycles, like the blinker in Conway's Life game. Let's plot the number of plants, and their sums, over the first couple hundred generations and see if there is a pattern:"
   ]
  },
  {
   "cell_type": "code",
   "execution_count": 62,
   "metadata": {},
   "outputs": [
    {
     "data": {
      "image/png": "[encoded data removed]",
      "text/plain": [
       "<Figure size 432x288 with 1 Axes>"
      ]
     },
     "metadata": {
      "needs_background": "light"
     },
     "output_type": "display_data"
    }
   ],
   "source": [
    "# Part 2\n",
    "\n",
    "gens = list(islice(grow(), 200))\n",
    "plt.plot(mapt(len, gens), label='x');"
   ]
  },
  {
   "cell_type": "code",
   "execution_count": 63,
   "metadata": {},
   "outputs": [
    {
     "data": {
      "image/png": "[encoded data removed]",
      "text/plain": [
       "<Figure size 432x288 with 1 Axes>"
      ]
     },
     "metadata": {
      "needs_background": "light"
     },
     "output_type": "display_data"
    }
   ],
   "source": [
    "plt.plot(mapt(sum, gens));"
   ]
  },
  {
   "cell_type": "markdown",
   "metadata": {},
   "source": [
    "OK, no problem: after a while the sum settles down and grows at a constant rate. I can figure out what that rate is:"
   ]
  },
  {
   "cell_type": "code",
   "execution_count": 64,
   "metadata": {},
   "outputs": [
    {
     "data": {
      "text/plain": [
       "[2580, 2601, 2622]"
      ]
     },
     "execution_count": 64,
     "metadata": {},
     "output_type": "execute_result"
    }
   ],
   "source": [
    "[sum(plants) for plants in gens[100:103]]"
   ]
  },
  {
   "cell_type": "markdown",
   "metadata": {},
   "source": [
    "It is growing by 21 each time. So my answer should be 2580 + 21 × (50 billion - 100). More generally:"
   ]
  },
  {
   "cell_type": "code",
   "execution_count": 65,
   "metadata": {},
   "outputs": [
    {
     "data": {
      "text/plain": [
       "1050000000480"
      ]
     },
     "execution_count": 65,
     "metadata": {},
     "output_type": "execute_result"
    }
   ],
   "source": [
    "def nth_plant_sum(n, k=100):\n",
    "    \"The sum of plants in the nth generation, assuming linear growth after k generations.\"\n",
    "    a, b = map(sum, islice(grow(), k, k + 2))\n",
    "    return a + (n - k) * (b - a)\n",
    "\n",
    "nth_plant_sum(50 * 10 ** 9)"
   ]
  },
  {
   "cell_type": "code",
   "execution_count": 66,
   "metadata": {},
   "outputs": [],
   "source": [
    "assert _ == 1050000000480, 'Day 12.2'"
   ]
  },
  {
   "cell_type": "markdown",
   "metadata": {},
   "source": [
    "Now, *why* does it grow by 21 each time? Well, we saw in the plot of lengths above that the length eventually remains constant; we can see the last few:"
   ]
  },
  {
   "cell_type": "code",
   "execution_count": 67,
   "metadata": {},
   "outputs": [
    {
     "data": {
      "text/plain": [
       "[21, 21, 21]"
      ]
     },
     "execution_count": 67,
     "metadata": {},
     "output_type": "execute_result"
    }
   ],
   "source": [
    "[len(g) for g in gens[-3:]]"
   ]
  },
  {
   "cell_type": "markdown",
   "metadata": {},
   "source": [
    "There are 21 plants in each generation; here is one generation:"
   ]
  },
  {
   "cell_type": "code",
   "execution_count": 68,
   "metadata": {},
   "outputs": [
    {
     "data": {
      "text/plain": [
       "{59,\n",
       " 60,\n",
       " 61,\n",
       " 71,\n",
       " 72,\n",
       " 73,\n",
       " 84,\n",
       " 85,\n",
       " 86,\n",
       " 137,\n",
       " 138,\n",
       " 139,\n",
       " 149,\n",
       " 150,\n",
       " 151,\n",
       " 159,\n",
       " 160,\n",
       " 161,\n",
       " 194,\n",
       " 195,\n",
       " 196}"
      ]
     },
     "execution_count": 68,
     "metadata": {},
     "output_type": "execute_result"
    }
   ],
   "source": [
    "gens[100]"
   ]
  },
  {
   "cell_type": "markdown",
   "metadata": {},
   "source": [
    "We see that the plants are bunched into groups of three. What happens to a group of three?"
   ]
  },
  {
   "cell_type": "code",
   "execution_count": 69,
   "metadata": {},
   "outputs": [
    {
     "data": {
      "text/plain": [
       "{0: {1, 2, 3},\n",
       " 1: {2, 3, 4},\n",
       " 2: {3, 4, 5},\n",
       " 3: {4, 5, 6},\n",
       " 4: {5, 6, 7},\n",
       " 5: {6, 7, 8}}"
      ]
     },
     "execution_count": 69,
     "metadata": {},
     "output_type": "execute_result"
    }
   ],
   "source": [
    "dict(zip(range(6), grow(plants={1, 2, 3})))"
   ]
  },
  {
   "cell_type": "markdown",
   "metadata": {},
   "source": [
    "They move one to the right each generation; moving 7  groups of 3 one to the right results in adding 21 to the sum."
   ]
  },
  {
   "cell_type": "markdown",
   "metadata": {},
   "source": [
    "# [Day 13: Mine Cart Madness](https://adventofcode.com/2018/day/13)\n",
    "\n",
    "I need to do the following:\n",
    "\n",
    "- Parse the picture of the world into a data structure.\n",
    "- Keep track of the carts, and have them make the right moves. \n",
    "- Continue until there is a collision.\n",
    "\n",
    "Since this has to do with headings and turns, I'm going to use complex numbers to represent points, headings, and turns; multiplying a complex heading by a complex turn results in a new heading. Then adding the heading to a point results in a new point. I'll redefine the `X` and `Y` accessors to handle either the complex points used here or the tuple points used previously:"
   ]
  },
  {
   "cell_type": "code",
   "execution_count": 70,
   "metadata": {},
   "outputs": [],
   "source": [
    "Point = complex\n",
    "\n",
    "def X(point):  return point.real if isinstance(point, complex) else point[0]\n",
    "def Y(point):  return point.imag if isinstance(point, complex) else point[1]\n",
    "\n",
    "# Headings: HU, HD, HR, HL = Head up, down, right, left\n",
    "# Turns:    TL, TR, TS, TB = Turn left, right, straight, backwards\n",
    "HU = TL = Point(0, -1)\n",
    "HD = TR = -TL\n",
    "HR = TS = Point(1, 0)\n",
    "HL = TB = -TS\n",
    "\n",
    "headings = {'>': HR, '<': HL, '^': HU, 'v': HD}\n",
    "inverse_headings = dict((headings[ch], ch) for ch in headings)\n",
    "\n",
    "assert HU * TR == HR and TR ** 4 == TL ** 4 == TS and HR * TB == HL and HU == -HD and TR == -TL"
   ]
  },
  {
   "cell_type": "markdown",
   "metadata": {},
   "source": [
    "Now we need to define a `Cart`, and the `World` they will live in. We use the [`dataclass`](https://docs.python.org/3/library/dataclasses.html) facility from Python 3."
   ]
  },
  {
   "cell_type": "code",
   "execution_count": 71,
   "metadata": {},
   "outputs": [],
   "source": [
    "@dataclass\n",
    "class Cart:\n",
    "    name: str\n",
    "    pos: Point\n",
    "    heading: Point\n",
    "    turns: object\n",
    "        \n",
    "@dataclass\n",
    "class World:\n",
    "    grid: tuple\n",
    "    carts: list\n",
    "\n",
    "    def __init__(self, lines):\n",
    "        table      = str.maketrans('<>^v', '--||')\n",
    "        names      = cycle(alphabet)\n",
    "        self.grid  = [line.translate(table) for line in lines]\n",
    "        self.carts = [Cart(next(names), Point(x, y), headings[h], cycle((TL, TS, TR)))\n",
    "                      for (y, line) in enumerate(lines)\n",
    "                      for (x, h) in enumerate(line)\n",
    "                      if h in headings]\n",
    "        \n",
    "    def __getitem__(self, point): return self.grid[int(Y(point))][int(X(point))]\n",
    "    \n",
    "    def show(self):\n",
    "        \"Print a representation of the world.\"\n",
    "        for y, line in enumerate(self.grid):\n",
    "            for x, ch in enumerate(line):\n",
    "                cart = first(c for c in self.carts if c.pos == Point(x, y))\n",
    "                ch = inverse_headings[cart.heading] if cart else ch\n",
    "                print(ch, end='')\n",
    "            print()\n",
    "        print()"
   ]
  },
  {
   "cell_type": "markdown",
   "metadata": {},
   "source": [
    "Now the function `madmad(world)`, which simulates moving the carts until a collision."
   ]
  },
  {
   "cell_type": "code",
   "execution_count": 72,
   "metadata": {},
   "outputs": [],
   "source": [
    "def madmad(world, show=False):\n",
    "    \"Simulate the mine cart madness until a collision.\"\n",
    "    while True:\n",
    "        if show: world.show()\n",
    "        for cart in sorted(world.carts, key=lambda c: (Y(c.pos), X(c.pos))):\n",
    "            cart.heading *= turn(cart, world)\n",
    "            cart.pos += cart.heading\n",
    "            if collision(cart, world):\n",
    "                if show: world.show()\n",
    "                return cart.pos\n",
    "\n",
    "def turn(cart, world):\n",
    "    \"Which way should the cart turn (depends on character it is on).\"\n",
    "    ch = world[cart.pos]\n",
    "    if ch == '+':\n",
    "        return next(cart.turns) \n",
    "    if ch == '/':\n",
    "        return (TR if cart.heading in (HU, HD) else TL)\n",
    "    if ch == '\\\\': \n",
    "        return (TR if cart.heading in (HR, HL) else TL)\n",
    "    else:\n",
    "        return TS\n",
    "    \n",
    "def collision(cart, world):\n",
    "    \"Has this cart collided with any other cart?\"\n",
    "    return any(cart.pos == other.pos for other in world.carts if other is not cart)"
   ]
  },
  {
   "cell_type": "code",
   "execution_count": 73,
   "metadata": {},
   "outputs": [
    {
     "name": "stdout",
     "output_type": "stream",
     "text": [
      "/->-\\         \n",
      "|   |  /----\\ \n",
      "| /-+--+-\\  | \n",
      "| | |  | v  | \n",
      "\\-+-/  \\-+--/ \n",
      "  \\------/\n",
      "\n",
      "/-->\\         \n",
      "|   |  /----\\ \n",
      "| /-+--+-\\  | \n",
      "| | |  | |  | \n",
      "\\-+-/  \\-v--/ \n",
      "  \\------/\n",
      "\n",
      "/--->         \n",
      "|   |  /----\\ \n",
      "| /-+--+-\\  | \n",
      "| | |  | |  | \n",
      "\\-+-/  \\-+>-/ \n",
      "  \\------/\n",
      "\n",
      "/---\\         \n",
      "|   v  /----\\ \n",
      "| /-+--+-\\  | \n",
      "| | |  | |  | \n",
      "\\-+-/  \\-+->/ \n",
      "  \\------/\n",
      "\n",
      "/---\\         \n",
      "|   |  /----\\ \n",
      "| /-v--+-\\  | \n",
      "| | |  | |  | \n",
      "\\-+-/  \\-+--> \n",
      "  \\------/\n",
      "\n",
      "/---\\         \n",
      "|   |  /----\\ \n",
      "| /-+>-+-\\  | \n",
      "| | |  | |  ^ \n",
      "\\-+-/  \\-+--/ \n",
      "  \\------/\n",
      "\n",
      "/---\\         \n",
      "|   |  /----\\ \n",
      "| /-+->+-\\  ^ \n",
      "| | |  | |  | \n",
      "\\-+-/  \\-+--/ \n",
      "  \\------/\n",
      "\n",
      "/---\\         \n",
      "|   |  /----^ \n",
      "| /-+-->-\\  | \n",
      "| | |  | |  | \n",
      "\\-+-/  \\-+--/ \n",
      "  \\------/\n",
      "\n",
      "/---\\         \n",
      "|   |  /---<\\ \n",
      "| /-+--+>\\  | \n",
      "| | |  | |  | \n",
      "\\-+-/  \\-+--/ \n",
      "  \\------/\n",
      "\n",
      "/---\\         \n",
      "|   |  /--<-\\ \n",
      "| /-+--+->  | \n",
      "| | |  | |  | \n",
      "\\-+-/  \\-+--/ \n",
      "  \\------/\n",
      "\n",
      "/---\\         \n",
      "|   |  /-<--\\ \n",
      "| /-+--+-\\  | \n",
      "| | |  | v  | \n",
      "\\-+-/  \\-+--/ \n",
      "  \\------/\n",
      "\n",
      "/---\\         \n",
      "|   |  /<---\\ \n",
      "| /-+--+-\\  | \n",
      "| | |  | |  | \n",
      "\\-+-/  \\-v--/ \n",
      "  \\------/\n",
      "\n",
      "/---\\         \n",
      "|   |  <----\\ \n",
      "| /-+--+-\\  | \n",
      "| | |  | |  | \n",
      "\\-+-/  \\<+--/ \n",
      "  \\------/\n",
      "\n",
      "/---\\         \n",
      "|   |  /----\\ \n",
      "| /-+--v-\\  | \n",
      "| | |  | |  | \n",
      "\\-+-/  <-+--/ \n",
      "  \\------/\n",
      "\n",
      "/---\\         \n",
      "|   |  /----\\ \n",
      "| /-+--+-\\  | \n",
      "| | |  ^ |  | \n",
      "\\-+-/  \\-+--/ \n",
      "  \\------/\n",
      "\n"
     ]
    },
    {
     "data": {
      "text/plain": [
       "(7+3j)"
      ]
     },
     "execution_count": 73,
     "metadata": {},
     "output_type": "execute_result"
    }
   ],
   "source": [
    "example = r'''\n",
    "/->-\\         \n",
    "|   |  /----\\ \n",
    "| /-+--+-\\  | \n",
    "| | |  | v  | \n",
    "\\-+-/  \\-+--/ \n",
    "  \\------/     \n",
    "'''.strip().splitlines()\n",
    "\n",
    "madmad(World(example), True)"
   ]
  },
  {
   "cell_type": "markdown",
   "metadata": {},
   "source": [
    "The answer, `7, 3`, is correct, and everything looks good!\n",
    "\n",
    "Unfortunately, I got an error when trying it on the actual (larger) input.\n",
    "\n",
    "Even more unfortunately, I ran out of spare time to debug this problem and to move on to the remaining days. Maybe next year!"
   ]
  },
  {
   "cell_type": "code",
   "execution_count": 74,
   "metadata": {},
   "outputs": [
    {
     "ename": "IndexError",
     "evalue": "string index out of range",
     "output_type": "error",
     "traceback": [
      "\u001b[0;31m---------------------------------------------------------------------------\u001b[0m",
      "\u001b[0;31mIndexError\u001b[0m                                Traceback (most recent call last)",
      "\u001b[0;32m<ipython-input-74-b8cd35d8126d>\u001b[0m in \u001b[0;36m<module>\u001b[0;34m()\u001b[0m\n\u001b[0;32m----> 1\u001b[0;31m \u001b[0mmadmad\u001b[0m\u001b[0;34m(\u001b[0m\u001b[0mWorld\u001b[0m\u001b[0;34m(\u001b[0m\u001b[0mInput\u001b[0m\u001b[0;34m(\u001b[0m\u001b[0;36m13\u001b[0m\u001b[0;34m)\u001b[0m\u001b[0;34m)\u001b[0m\u001b[0;34m)\u001b[0m\u001b[0;34m\u001b[0m\u001b[0m\n\u001b[0m",
      "\u001b[0;32m<ipython-input-72-4f9a5f11a5c3>\u001b[0m in \u001b[0;36mmadmad\u001b[0;34m(world, show)\u001b[0m\n\u001b[1;32m      4\u001b[0m         \u001b[0;32mif\u001b[0m \u001b[0mshow\u001b[0m\u001b[0;34m:\u001b[0m \u001b[0mworld\u001b[0m\u001b[0;34m.\u001b[0m\u001b[0mshow\u001b[0m\u001b[0;34m(\u001b[0m\u001b[0;34m)\u001b[0m\u001b[0;34m\u001b[0m\u001b[0m\n\u001b[1;32m      5\u001b[0m         \u001b[0;32mfor\u001b[0m \u001b[0mcart\u001b[0m \u001b[0;32min\u001b[0m \u001b[0msorted\u001b[0m\u001b[0;34m(\u001b[0m\u001b[0mworld\u001b[0m\u001b[0;34m.\u001b[0m\u001b[0mcarts\u001b[0m\u001b[0;34m,\u001b[0m \u001b[0mkey\u001b[0m\u001b[0;34m=\u001b[0m\u001b[0;32mlambda\u001b[0m \u001b[0mc\u001b[0m\u001b[0;34m:\u001b[0m \u001b[0;34m(\u001b[0m\u001b[0mY\u001b[0m\u001b[0;34m(\u001b[0m\u001b[0mc\u001b[0m\u001b[0;34m.\u001b[0m\u001b[0mpos\u001b[0m\u001b[0;34m)\u001b[0m\u001b[0;34m,\u001b[0m \u001b[0mX\u001b[0m\u001b[0;34m(\u001b[0m\u001b[0mc\u001b[0m\u001b[0;34m.\u001b[0m\u001b[0mpos\u001b[0m\u001b[0;34m)\u001b[0m\u001b[0;34m)\u001b[0m\u001b[0;34m)\u001b[0m\u001b[0;34m:\u001b[0m\u001b[0;34m\u001b[0m\u001b[0m\n\u001b[0;32m----> 6\u001b[0;31m             \u001b[0mcart\u001b[0m\u001b[0;34m.\u001b[0m\u001b[0mheading\u001b[0m \u001b[0;34m*=\u001b[0m \u001b[0mturn\u001b[0m\u001b[0;34m(\u001b[0m\u001b[0mcart\u001b[0m\u001b[0;34m,\u001b[0m \u001b[0mworld\u001b[0m\u001b[0;34m)\u001b[0m\u001b[0;34m\u001b[0m\u001b[0m\n\u001b[0m\u001b[1;32m      7\u001b[0m             \u001b[0mcart\u001b[0m\u001b[0;34m.\u001b[0m\u001b[0mpos\u001b[0m \u001b[0;34m+=\u001b[0m \u001b[0mcart\u001b[0m\u001b[0;34m.\u001b[0m\u001b[0mheading\u001b[0m\u001b[0;34m\u001b[0m\u001b[0m\n\u001b[1;32m      8\u001b[0m             \u001b[0;32mif\u001b[0m \u001b[0mcollision\u001b[0m\u001b[0;34m(\u001b[0m\u001b[0mcart\u001b[0m\u001b[0;34m,\u001b[0m \u001b[0mworld\u001b[0m\u001b[0;34m)\u001b[0m\u001b[0;34m:\u001b[0m\u001b[0;34m\u001b[0m\u001b[0m\n",
      "\u001b[0;32m<ipython-input-72-4f9a5f11a5c3>\u001b[0m in \u001b[0;36mturn\u001b[0;34m(cart, world)\u001b[0m\n\u001b[1;32m     12\u001b[0m \u001b[0;32mdef\u001b[0m \u001b[0mturn\u001b[0m\u001b[0;34m(\u001b[0m\u001b[0mcart\u001b[0m\u001b[0;34m,\u001b[0m \u001b[0mworld\u001b[0m\u001b[0;34m)\u001b[0m\u001b[0;34m:\u001b[0m\u001b[0;34m\u001b[0m\u001b[0m\n\u001b[1;32m     13\u001b[0m     \u001b[0;34m\"Which way should the cart turn (depends on character it is on).\"\u001b[0m\u001b[0;34m\u001b[0m\u001b[0m\n\u001b[0;32m---> 14\u001b[0;31m     \u001b[0mch\u001b[0m \u001b[0;34m=\u001b[0m \u001b[0mworld\u001b[0m\u001b[0;34m[\u001b[0m\u001b[0mcart\u001b[0m\u001b[0;34m.\u001b[0m\u001b[0mpos\u001b[0m\u001b[0;34m]\u001b[0m\u001b[0;34m\u001b[0m\u001b[0m\n\u001b[0m\u001b[1;32m     15\u001b[0m     \u001b[0;32mif\u001b[0m \u001b[0mch\u001b[0m \u001b[0;34m==\u001b[0m \u001b[0;34m'+'\u001b[0m\u001b[0;34m:\u001b[0m\u001b[0;34m\u001b[0m\u001b[0m\n\u001b[1;32m     16\u001b[0m         \u001b[0;32mreturn\u001b[0m \u001b[0mnext\u001b[0m\u001b[0;34m(\u001b[0m\u001b[0mcart\u001b[0m\u001b[0;34m.\u001b[0m\u001b[0mturns\u001b[0m\u001b[0;34m)\u001b[0m\u001b[0;34m\u001b[0m\u001b[0m\n",
      "\u001b[0;32m<ipython-input-71-0fcfb1457844>\u001b[0m in \u001b[0;36m__getitem__\u001b[0;34m(self, point)\u001b[0m\n\u001b[1;32m     20\u001b[0m                       if h in headings]\n\u001b[1;32m     21\u001b[0m \u001b[0;34m\u001b[0m\u001b[0m\n\u001b[0;32m---> 22\u001b[0;31m     \u001b[0;32mdef\u001b[0m \u001b[0m__getitem__\u001b[0m\u001b[0;34m(\u001b[0m\u001b[0mself\u001b[0m\u001b[0;34m,\u001b[0m \u001b[0mpoint\u001b[0m\u001b[0;34m)\u001b[0m\u001b[0;34m:\u001b[0m \u001b[0;32mreturn\u001b[0m \u001b[0mself\u001b[0m\u001b[0;34m.\u001b[0m\u001b[0mgrid\u001b[0m\u001b[0;34m[\u001b[0m\u001b[0mint\u001b[0m\u001b[0;34m(\u001b[0m\u001b[0mY\u001b[0m\u001b[0;34m(\u001b[0m\u001b[0mpoint\u001b[0m\u001b[0;34m)\u001b[0m\u001b[0;34m)\u001b[0m\u001b[0;34m]\u001b[0m\u001b[0;34m[\u001b[0m\u001b[0mint\u001b[0m\u001b[0;34m(\u001b[0m\u001b[0mX\u001b[0m\u001b[0;34m(\u001b[0m\u001b[0mpoint\u001b[0m\u001b[0;34m)\u001b[0m\u001b[0;34m)\u001b[0m\u001b[0;34m]\u001b[0m\u001b[0;34m\u001b[0m\u001b[0m\n\u001b[0m\u001b[1;32m     23\u001b[0m \u001b[0;34m\u001b[0m\u001b[0m\n\u001b[1;32m     24\u001b[0m     \u001b[0;32mdef\u001b[0m \u001b[0mshow\u001b[0m\u001b[0;34m(\u001b[0m\u001b[0mself\u001b[0m\u001b[0;34m)\u001b[0m\u001b[0;34m:\u001b[0m\u001b[0;34m\u001b[0m\u001b[0m\n",
      "\u001b[0;31mIndexError\u001b[0m: string index out of range"
     ]
    }
   ],
   "source": [
    "madmad(World(Input(13)))"
   ]
  }
 ],
 "metadata": {
  "kernelspec": {
   "display_name": "Python 3",
   "language": "python",
   "name": "python3"
  },
  "language_info": {
   "codemirror_mode": {
    "name": "ipython",
    "version": 3
   },
   "file_extension": ".py",
   "mimetype": "text/x-python",
   "name": "python",
   "nbconvert_exporter": "python",
   "pygments_lexer": "ipython3",
   "version": "3.7.0"
  }
 },
 "nbformat": 4,
 "nbformat_minor": 2
}
