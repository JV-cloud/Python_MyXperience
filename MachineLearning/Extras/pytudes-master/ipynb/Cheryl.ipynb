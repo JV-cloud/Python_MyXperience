{
 "cells": [
  {
   "cell_type": "markdown",
   "metadata": {},
   "source": [
    "<div align=\"right\"><i>Peter Norvig<br>April 2015<br>Python 3: Feb 2019</i></div>\n",
    "\n",
    "# When is Cheryl's Birthday?\n",
    "\n",
    "\n",
    "[This puzzle](https://www.google.com/webhp?#q=cheryl%27s%20birthday) has been making the rounds:\n",
    "\n",
    "> 1. Albert and Bernard became friends with Cheryl, and want to know when her birthday is. Cheryl gave them a list of 10 possible dates:\n",
    "           May 15     May 16     May 19\n",
    "          June 17    June 18\n",
    "          July 14    July 16\n",
    "        August 14  August 15  August 17\n",
    "> 2. Cheryl then tells Albert and Bernard separately the month and the day of the birthday respectively.\n",
    "> 3. **Albert**: \"I don't know when Cheryl's birthday is, and I know that Bernard does not know.\"\n",
    "> 4. **Bernard**: \"At first I don't know when Cheryl's birthday is, but I know now.\"\n",
    "> 5. **Albert**: \"Then I also know when Cheryl's birthday is.\"\n",
    "> 6. So when is Cheryl's birthday?\n",
    "\n",
    "Let's work through this puzzle statement by statement.\n",
    "\n",
    "\n",
    "\n",
    "## 1. Cheryl gave them a list of 10 possible dates:\n"
   ]
  },
  {
   "cell_type": "code",
   "execution_count": 1,
   "metadata": {},
   "outputs": [],
   "source": [
    "dates = ['May 15',    'May 16',    'May 19',\n",
    "        'June 17',   'June 18',\n",
    "        'July 14',   'July 16',\n",
    "      'August 14', 'August 15', 'August 17']"
   ]
  },
  {
   "cell_type": "markdown",
   "metadata": {},
   "source": [
    "We'll define accessor functions for the month and day of a date:"
   ]
  },
  {
   "cell_type": "code",
   "execution_count": 2,
   "metadata": {},
   "outputs": [],
   "source": [
    "def Month(date): return date.split()[0]\n",
    "\n",
    "def Day(date):   return date.split()[1]"
   ]
  },
  {
   "cell_type": "code",
   "execution_count": 3,
   "metadata": {},
   "outputs": [
    {
     "data": {
      "text/plain": [
       "'May'"
      ]
     },
     "execution_count": 3,
     "metadata": {},
     "output_type": "execute_result"
    }
   ],
   "source": [
    "Month('May 15')"
   ]
  },
  {
   "cell_type": "code",
   "execution_count": 4,
   "metadata": {},
   "outputs": [
    {
     "data": {
      "text/plain": [
       "'15'"
      ]
     },
     "execution_count": 4,
     "metadata": {},
     "output_type": "execute_result"
    }
   ],
   "source": [
    "Day('May 15')"
   ]
  },
  {
   "cell_type": "markdown",
   "metadata": {},
   "source": [
    "## 2. Cheryl then tells Albert and Bernard separately the month and the day of the birthday respectively.\n",
    "\n",
    "Now we have to think about what we're doing. We'll use a *set of dates* to represent a *belief set*: a person who has the belief set `{'August 15', 'May 15'}` *believes* that Cheryl's birthday is one of those two days. A person *knows* the birthdate when they get down to a belief set with only one possibility.  \n",
    "\n",
    "We can define the idea of Cheryl **telling** someone a component of her birthdate, and while we're at it,  the idea of **knowing** a birthdate:"
   ]
  },
  {
   "cell_type": "code",
   "execution_count": 5,
   "metadata": {},
   "outputs": [],
   "source": [
    "BeliefSet = set\n",
    "\n",
    "def tell(part, dates=dates) -> BeliefSet:\n",
    "    \"Cheryl tells a part of her birthdate to someone; return a set of possible dates.\"\n",
    "    return {date for date in dates if part in date}\n",
    "\n",
    "def know(beliefs) -> bool:\n",
    "    \"A person `knows` the answer if their belief set has only one possibility.\"\n",
    "    return len(beliefs) == 1"
   ]
  },
  {
   "cell_type": "markdown",
   "metadata": {},
   "source": [
    "For example:  If Cheryl tells Albert that her birthday is in May, he would know there is a set of three possible birthdates:"
   ]
  },
  {
   "cell_type": "code",
   "execution_count": 6,
   "metadata": {},
   "outputs": [
    {
     "data": {
      "text/plain": [
       "{'May 15', 'May 16', 'May 19'}"
      ]
     },
     "execution_count": 6,
     "metadata": {},
     "output_type": "execute_result"
    }
   ],
   "source": [
    "tell('May')"
   ]
  },
  {
   "cell_type": "markdown",
   "metadata": {},
   "source": [
    "And if she tells Bernard that her birthday is on the 15th, he would know there are two possibilities:"
   ]
  },
  {
   "cell_type": "code",
   "execution_count": 7,
   "metadata": {},
   "outputs": [
    {
     "data": {
      "text/plain": [
       "{'August 15', 'May 15'}"
      ]
     },
     "execution_count": 7,
     "metadata": {},
     "output_type": "execute_result"
    }
   ],
   "source": [
    "tell('15')"
   ]
  },
  {
   "cell_type": "markdown",
   "metadata": {},
   "source": [
    "With two possibilities, Bernard does not know the birthdate:"
   ]
  },
  {
   "cell_type": "code",
   "execution_count": 8,
   "metadata": {},
   "outputs": [
    {
     "data": {
      "text/plain": [
       "False"
      ]
     },
     "execution_count": 8,
     "metadata": {},
     "output_type": "execute_result"
    }
   ],
   "source": [
    "know(tell('15'))"
   ]
  },
  {
   "cell_type": "markdown",
   "metadata": {},
   "source": [
    "## Overall Strategy\n",
    "\n",
    "If Cheryl tells Albert `'May'` then *he* knows there are three possibilities, but *we* (the puzzle solvers) don't know that, because we don't know what Cheryl said. \n",
    "\n",
    "So what can we do? We can consider *all* of the possible dates, one at a time. For example, first consider `'May 15'`. Cheryl tells Albert `'May'` and Bernard `'15'`, giving them the lists of possible birthdates shown above.  We can then check whether statements 3 through 5 are true in this scenario.  If they are, then `'May 15'` is a solution to the puzzle.  Repeat the process for each of the other possible dates. If all goes well, there should be exactly one date for which all the statements are true. \n",
    "\n",
    "Here is the main function, `cheryls_birthday`, which takes a set of possible dates, and returns the subset of dates that satisfy statements 3 through 5. The function `satisfy` is similar to the builtin function `filter`: `satisfy` takes a collection of items (here a set of dates) and returns the subset that satisfies all the predicates:"
   ]
  },
  {
   "cell_type": "code",
   "execution_count": 9,
   "metadata": {},
   "outputs": [],
   "source": [
    "def cheryls_birthday(dates=dates) -> BeliefSet:\n",
    "    \"Return a subset of the dates for which all three statements are true.\"\n",
    "    return satisfy(dates, statement3, statement4, statement5)\n",
    "\n",
    "def satisfy(items, *predicates):\n",
    "    \"Return the subset of items that satisfy all the predicates.\"\n",
    "    return {item for item in items\n",
    "            if all(pred(item) for pred in predicates)}\n",
    "\n",
    "## TO DO: define statement3, statement4, statement5"
   ]
  },
  {
   "cell_type": "markdown",
   "metadata": {},
   "source": [
    "## 3. Albert: I don't know when Cheryl's birthday is, and I know that Bernard does not know."
   ]
  },
  {
   "cell_type": "markdown",
   "metadata": {},
   "source": [
    "The function `statement3` corresponds to the third statement in the problem. It takes as input a single possible birthdate (not a set) and returns `True` if Albert's statement is true for that birthdate. How do we go from Albert's English statement to a Python function? Let's paraphrase it in a form that uses the concepts we have defined:\n",
    "\n",
    "> **Albert**: After Cheryl told me the month of her birthdate, I didn't know her birthday.  But for *any* of the possible dates, if Bernard was told the day of that date, he  would not know Cheryl's birthday.\n",
    "\n",
    "That I can translate directly into code:"
   ]
  },
  {
   "cell_type": "code",
   "execution_count": 10,
   "metadata": {},
   "outputs": [],
   "source": [
    "def statement3(date) -> bool:\n",
    "    \"Albert: I don't know when Cheryl's birthday is, but I know that Bernard does not know too.\"\n",
    "    dates = tell(Month(date))\n",
    "    return (not know(dates) \n",
    "            and all(not know(tell(Day(d))) for d in dates))"
   ]
  },
  {
   "cell_type": "markdown",
   "metadata": {},
   "source": [
    "We haven't solved the puzzle yet, but let's take a peek and see which dates satisfy statement 3:"
   ]
  },
  {
   "cell_type": "code",
   "execution_count": 11,
   "metadata": {},
   "outputs": [
    {
     "data": {
      "text/plain": [
       "{'August 14', 'August 15', 'August 17', 'July 14', 'July 16'}"
      ]
     },
     "execution_count": 11,
     "metadata": {},
     "output_type": "execute_result"
    }
   ],
   "source": [
    "satisfy(dates, statement3)"
   ]
  },
  {
   "cell_type": "markdown",
   "metadata": {},
   "source": [
    "## 4. Bernard: At first I don't know when Cheryl's birthday is, but I know now.\n",
    "\n",
    "Again, a paraphrase:\n",
    "\n",
    "> **Bernard:** At first Cheryl told me the day, and I didn't know.  Then, out of the possible dates, I considered just the dates for which Albert's statement 3 is true, and now I know."
   ]
  },
  {
   "cell_type": "code",
   "execution_count": 12,
   "metadata": {},
   "outputs": [],
   "source": [
    "def statement4(date):\n",
    "    \"Bernard: At first I don't know when Cheryl's birthday is, but I know now.\"\n",
    "    dates = tell(Day(date))\n",
    "    return (not know(dates) and know(satisfy(dates, statement3)))"
   ]
  },
  {
   "cell_type": "markdown",
   "metadata": {},
   "source": [
    "Let's see which dates satisfy both statement 3 and statement 4:"
   ]
  },
  {
   "cell_type": "code",
   "execution_count": 13,
   "metadata": {},
   "outputs": [
    {
     "data": {
      "text/plain": [
       "{'August 15', 'August 17', 'July 16'}"
      ]
     },
     "execution_count": 13,
     "metadata": {},
     "output_type": "execute_result"
    }
   ],
   "source": [
    "satisfy(dates, statement3, statement4)"
   ]
  },
  {
   "cell_type": "markdown",
   "metadata": {},
   "source": [
    "Wait a minute&mdash;I thought that Bernard **knew**?! Why are there three possible dates? Bernard does indeed know; it is just that we, the puzzle solvers, don't know.  That's because Bernard knows something we don't know: the day. If Bernard was told `'15'` then he would know `'August 15'`; if he was told `'17'` he would know `'August 17'`, and if he was told `'16'` he would know `'July 16'`. *We* don't know because we don't know which of these is the case.\n",
    "\n",
    "## 5. Albert: Then I also know when Cheryl's birthday is.\n",
    "\n",
    "Albert is saying that after hearing the month and Bernard's statement 4, he now knows Cheryl's birthday:"
   ]
  },
  {
   "cell_type": "code",
   "execution_count": 14,
   "metadata": {},
   "outputs": [],
   "source": [
    "def statement5(date):\n",
    "    \"Albert: Then I also know when Cheryl's birthday is.\"\n",
    "    return know(satisfy(tell(Month(date)), statement4))"
   ]
  },
  {
   "cell_type": "markdown",
   "metadata": {},
   "source": [
    "## 6. So when is Cheryl's birthday?\n",
    "\n"
   ]
  },
  {
   "cell_type": "code",
   "execution_count": 15,
   "metadata": {},
   "outputs": [
    {
     "data": {
      "text/plain": [
       "{'July 16'}"
      ]
     },
     "execution_count": 15,
     "metadata": {},
     "output_type": "execute_result"
    }
   ],
   "source": [
    "cheryls_birthday()"
   ]
  },
  {
   "cell_type": "markdown",
   "metadata": {},
   "source": [
    "**Success!** We have deduced that Cheryl's birthday is **July 16**. It is now `True` that we know Cheryl's birthday:"
   ]
  },
  {
   "cell_type": "code",
   "execution_count": 16,
   "metadata": {},
   "outputs": [
    {
     "data": {
      "text/plain": [
       "True"
      ]
     },
     "execution_count": 16,
     "metadata": {},
     "output_type": "execute_result"
    }
   ],
   "source": [
    "know(cheryls_birthday())"
   ]
  }
 ],
 "metadata": {
  "kernelspec": {
   "display_name": "Python 3",
   "language": "python",
   "name": "python3"
  },
  "language_info": {
   "codemirror_mode": {
    "name": "ipython",
    "version": 3
   },
   "file_extension": ".py",
   "mimetype": "text/x-python",
   "name": "python",
   "nbconvert_exporter": "python",
   "pygments_lexer": "ipython3",
   "version": "3.7.0"
  }
 },
 "nbformat": 4,
 "nbformat_minor": 1
}
