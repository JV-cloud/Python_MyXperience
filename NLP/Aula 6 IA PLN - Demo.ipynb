{
  "nbformat": 4,
  "nbformat_minor": 0,
  "metadata": {
    "colab": {
      "name": "Aula 6 IA NLP - Demo.ipynb",
      "provenance": [],
      "collapsed_sections": []
    },
    "kernelspec": {
      "name": "python3",
      "display_name": "Python 3"
    }
  },
  "cells": [
    {
      "cell_type": "markdown",
      "metadata": {
        "id": "34z9XYces1jO",
        "colab_type": "text"
      },
      "source": [
        "# **Análise de Tópicos**\n",
        "\n",
        "<font size=5>\n",
        "Análise, ou Modelagem, de Tópicos nos permite analisar grandes volumes de texto atravéz de técnicas de clusterização ou agrupamento dos documentos em tópicos!\n",
        "<br/>\n",
        "<br/>\n",
        "Grande parte dos dados disponíveis no mundo real não estão classificados e por isso não podemos aplicar as técnicas de aprendizado supervisionado que usamos anteriormente!\n",
        "<br/>\n",
        "<br/>\n",
        "\n",
        "Nestes casos, onde trabalhamos com dados não classificados, podemos tentar encontrar suas classificações agrupando-os em tópicos.\n",
        "\n",
        "  </font>\n",
        "\n",
        "\n"
      ]
    },
    {
      "cell_type": "markdown",
      "metadata": {
        "id": "4rTS1KWBzOnb",
        "colab_type": "text"
      },
      "source": [
        "# Importante!\n",
        "\n",
        "<font size=5>\n",
        "Por não termos junto aos dados sua verdadeira classificação, nesses casos não sabemos a \"resposta correta\" o que torna muito difícil mensurar o quanto nosso algoritmo está acertando ou errando!\n",
        "<br/>\n",
        "<br/>\n",
        "\n",
        "Tudo que sabemos (ou assumimos) é que documentos que forem agrupados no mesmo tópico compartilham ideias similares.\n",
        "<br/>\n",
        "<br/>\n",
        "\n",
        "Fica a cargo do usuário (cientista/analista de dados, eng. machine learning e etc) se os grupos formados são coerentes e o que cada grupo representa!\n",
        "</font>"
      ]
    },
    {
      "cell_type": "markdown",
      "metadata": {
        "id": "uqXDhRZy3j67",
        "colab_type": "text"
      },
      "source": [
        "# LDA - Latent Dirichlet Allocation\n",
        "\n",
        "<font size=5>\n",
        "LDA ou Latent Dirichlet Allocation é um “modelo probabilístico generativo” de uma coleção composta de partes. Em termos de modelagem de tópicos, as coleções são documentos e as partes são palavras, ou frases (n-gramas).  \n",
        "<br/>\n",
        "<br/>\n",
        "O LDA tem esse nome pois usa a Distribuição Dirichlet (do matemático alemão Johann Peter Gustav Lejeune Dirichlet) para encontrar tópicos \"latentes\" nos documentos.\n",
        "<br/>\n",
        "<br/>\n",
        "Em 2003, esse método foi publicado pela primeira vez por David Blei, Andrew Ng e Michael Jordan e pode ser\n",
        "<a href=\"http://www.jmlr.org/papers/volume3/blei03a/blei03a.pdf\">lido aqui</a>\n",
        "<br/>\n",
        "<br/>\n",
        "\n",
        "Para entender melhor como o método funciona recomendo a leitura do artigo original no link acima!\n",
        "  \n",
        "</font>\n",
        "\n"
      ]
    },
    {
      "cell_type": "markdown",
      "metadata": {
        "id": "f6DQ3n_wEpJQ",
        "colab_type": "text"
      },
      "source": [
        "# LDA\n",
        "\n",
        "<font size=5>\n",
        "Existem algumas premissas na aplicação do LDA:\n",
        "<br/>\n",
        "<br/>\n",
        "\n",
        "1.   Documentos com assuntos similares usam palavras similares<br/>\n",
        "2.   Os tópicos latentes podem ser encontrados atravez dos grupos de palavras que ocorrem juntas<br/>\n",
        "3.   Documentos são distribuições de probabilidade sobre os tópicos latentes<br/>\n",
        "4.   Tópicos são também distribuições de probabilidade sobre as palavras<br/>\n",
        "\n",
        "</font>"
      ]
    },
    {
      "cell_type": "markdown",
      "metadata": {
        "id": "K_R0DbqBIRbN",
        "colab_type": "text"
      },
      "source": [
        "# Documentos são distribuições de probabilidade sobre os tópicos latentes\n",
        "\n",
        "![alt text](https://i.ibb.co/C2gs3mS/doc-prob-topics.png)"
      ]
    },
    {
      "cell_type": "markdown",
      "metadata": {
        "id": "hYBiONd5NFTC",
        "colab_type": "text"
      },
      "source": [
        "# Tópicos são também distribuições de probabilidade sobre as palavras\n",
        "\n",
        "![alt text](https://i.ibb.co/KskDmbD/topic-prob-words.png)"
      ]
    },
    {
      "cell_type": "code",
      "metadata": {
        "id": "tvdE2BaSs1QN",
        "colab_type": "code",
        "outputId": "d701c1e5-abce-43e5-addf-3090f6e1913a",
        "colab": {
          "base_uri": "https://localhost:8080/",
          "height": 167
        }
      },
      "source": [
        "import pandas as pd\n",
        "\n",
        "df = pd.read_csv(\"https://dados-ml-pln.s3-sa-east-1.amazonaws.com/produtos.csv\", \n",
        "                 delimiter=\";\", encoding='utf-8')\n",
        "\n",
        "df.describe()"
      ],
      "execution_count": 234,
      "outputs": [
        {
          "output_type": "execute_result",
          "data": {
            "text/html": [
              "<div>\n",
              "<style scoped>\n",
              "    .dataframe tbody tr th:only-of-type {\n",
              "        vertical-align: middle;\n",
              "    }\n",
              "\n",
              "    .dataframe tbody tr th {\n",
              "        vertical-align: top;\n",
              "    }\n",
              "\n",
              "    .dataframe thead th {\n",
              "        text-align: right;\n",
              "    }\n",
              "</style>\n",
              "<table border=\"1\" class=\"dataframe\">\n",
              "  <thead>\n",
              "    <tr style=\"text-align: right;\">\n",
              "      <th></th>\n",
              "      <th>nome</th>\n",
              "      <th>descricao</th>\n",
              "      <th>categoria</th>\n",
              "    </tr>\n",
              "  </thead>\n",
              "  <tbody>\n",
              "    <tr>\n",
              "      <th>count</th>\n",
              "      <td>4080</td>\n",
              "      <td>2916</td>\n",
              "      <td>4080</td>\n",
              "    </tr>\n",
              "    <tr>\n",
              "      <th>unique</th>\n",
              "      <td>3696</td>\n",
              "      <td>2460</td>\n",
              "      <td>4</td>\n",
              "    </tr>\n",
              "    <tr>\n",
              "      <th>top</th>\n",
              "      <td>Bonecos Brinquedo Vingadores 30 Cm Com Luz E...</td>\n",
              "      <td>JOGO ORIGINAL. NOVO. LACRADO. PRONTA ENTREGA. ...</td>\n",
              "      <td>maquiagem</td>\n",
              "    </tr>\n",
              "    <tr>\n",
              "      <th>freq</th>\n",
              "      <td>20</td>\n",
              "      <td>39</td>\n",
              "      <td>1020</td>\n",
              "    </tr>\n",
              "  </tbody>\n",
              "</table>\n",
              "</div>"
            ],
            "text/plain": [
              "                                                     nome  ...  categoria\n",
              "count                                                4080  ...       4080\n",
              "unique                                               3696  ...          4\n",
              "top       Bonecos Brinquedo Vingadores 30 Cm Com Luz E...  ...  maquiagem\n",
              "freq                                                   20  ...       1020\n",
              "\n",
              "[4 rows x 3 columns]"
            ]
          },
          "metadata": {
            "tags": []
          },
          "execution_count": 234
        }
      ]
    },
    {
      "cell_type": "code",
      "metadata": {
        "id": "R3x3Ipzhqgka",
        "colab_type": "code",
        "colab": {}
      },
      "source": [
        "df.dropna(inplace=True)\n",
        "\n",
        "df[\"texto\"] = df['nome'] + \" \" + df['descricao']"
      ],
      "execution_count": 0,
      "outputs": []
    },
    {
      "cell_type": "code",
      "metadata": {
        "id": "SbPvhCki8PHa",
        "colab_type": "code",
        "outputId": "c3a1985c-dd06-4b61-af89-ec0b0af5b434",
        "colab": {
          "base_uri": "https://localhost:8080/",
          "height": 105
        }
      },
      "source": [
        "df.categoria.value_counts()"
      ],
      "execution_count": 236,
      "outputs": [
        {
          "output_type": "execute_result",
          "data": {
            "text/plain": [
              "livro        838\n",
              "maquiagem    788\n",
              "brinquedo    668\n",
              "game         622\n",
              "Name: categoria, dtype: int64"
            ]
          },
          "metadata": {
            "tags": []
          },
          "execution_count": 236
        }
      ]
    },
    {
      "cell_type": "code",
      "metadata": {
        "id": "nf5Gh7Vw77dM",
        "colab_type": "code",
        "outputId": "da1401ea-9e8e-4e35-fdc2-875a7e7dbda1",
        "colab": {
          "base_uri": "https://localhost:8080/",
          "height": 70
        }
      },
      "source": [
        "import nltk\n",
        "nltk.download('stopwords')"
      ],
      "execution_count": 237,
      "outputs": [
        {
          "output_type": "stream",
          "text": [
            "[nltk_data] Downloading package stopwords to /root/nltk_data...\n",
            "[nltk_data]   Package stopwords is already up-to-date!\n"
          ],
          "name": "stdout"
        },
        {
          "output_type": "execute_result",
          "data": {
            "text/plain": [
              "True"
            ]
          },
          "metadata": {
            "tags": []
          },
          "execution_count": 237
        }
      ]
    },
    {
      "cell_type": "code",
      "metadata": {
        "id": "QnJwzeDn8C8q",
        "colab_type": "code",
        "colab": {}
      },
      "source": [
        "from sklearn.feature_extraction.text import CountVectorizer, TfidfVectorizer\n",
        "\n",
        "stops = nltk.corpus.stopwords.words('portuguese')\n",
        "\n",
        "#vect = CountVectorizer(ngram_range=(2,2), stop_words=stops)\n",
        "#vect.fit(df.texto)\n",
        "#text_vect = vect.transform(df.texto)\n",
        "\n",
        "vect = TfidfVectorizer(ngram_range=(1,1), stop_words=stops)\n",
        "vect.fit(df.texto)\n",
        "text_vect = vect.transform(df.texto)"
      ],
      "execution_count": 0,
      "outputs": []
    },
    {
      "cell_type": "code",
      "metadata": {
        "id": "7mQrlNG4SvrA",
        "colab_type": "code",
        "outputId": "c8473a27-4867-4c9c-a35d-39bdebb0d4ab",
        "colab": {
          "base_uri": "https://localhost:8080/",
          "height": 34
        }
      },
      "source": [
        "text_vect.shape"
      ],
      "execution_count": 239,
      "outputs": [
        {
          "output_type": "execute_result",
          "data": {
            "text/plain": [
              "(2916, 35310)"
            ]
          },
          "metadata": {
            "tags": []
          },
          "execution_count": 239
        }
      ]
    },
    {
      "cell_type": "code",
      "metadata": {
        "id": "zGNZhWO9CJO9",
        "colab_type": "code",
        "colab": {}
      },
      "source": [
        "from sklearn.model_selection import train_test_split\n",
        "\n",
        "df_train, df_test = train_test_split(df,\n",
        "      test_size = 0.2, \n",
        "      random_state = 42\n",
        "  )\n"
      ],
      "execution_count": 0,
      "outputs": []
    },
    {
      "cell_type": "code",
      "metadata": {
        "id": "eA0MKdGnCafk",
        "colab_type": "code",
        "colab": {}
      },
      "source": [
        "X_train, X_test, y_train, y_test = train_test_split(\n",
        "      text_vect,\n",
        "      df[\"categoria\"],\n",
        "      test_size = 0.2, \n",
        "      random_state = 42\n",
        "  )\n"
      ],
      "execution_count": 0,
      "outputs": []
    },
    {
      "cell_type": "code",
      "metadata": {
        "id": "dpLWRt8o7mBQ",
        "colab_type": "code",
        "colab": {
          "base_uri": "https://localhost:8080/",
          "height": 141
        },
        "outputId": "64881aa0-d065-417f-bd3a-3d3f32761d6d"
      },
      "source": [
        "from sklearn.decomposition import LatentDirichletAllocation\n",
        "\n",
        "LDA = LatentDirichletAllocation(n_components=4,random_state=42)\n",
        "LDA.fit(X_train)\n"
      ],
      "execution_count": 242,
      "outputs": [
        {
          "output_type": "execute_result",
          "data": {
            "text/plain": [
              "LatentDirichletAllocation(batch_size=128, doc_topic_prior=None,\n",
              "                          evaluate_every=-1, learning_decay=0.7,\n",
              "                          learning_method='batch', learning_offset=10.0,\n",
              "                          max_doc_update_iter=100, max_iter=10,\n",
              "                          mean_change_tol=0.001, n_components=4, n_jobs=None,\n",
              "                          perp_tol=0.1, random_state=42, topic_word_prior=None,\n",
              "                          total_samples=1000000.0, verbose=0)"
            ]
          },
          "metadata": {
            "tags": []
          },
          "execution_count": 242
        }
      ]
    },
    {
      "cell_type": "code",
      "metadata": {
        "id": "VYc96bpc8Fc8",
        "colab_type": "code",
        "colab": {
          "base_uri": "https://localhost:8080/",
          "height": 34
        },
        "outputId": "e6d84d12-c87f-4826-d2be-6b322c0d8093"
      },
      "source": [
        "LDA.score(X_test) // 1000\n",
        "#LDA.score(X_test, y_test) // 1000"
      ],
      "execution_count": 243,
      "outputs": [
        {
          "output_type": "execute_result",
          "data": {
            "text/plain": [
              "-61.0"
            ]
          },
          "metadata": {
            "tags": []
          },
          "execution_count": 243
        }
      ]
    },
    {
      "cell_type": "code",
      "metadata": {
        "id": "3JfRxK7iPJxh",
        "colab_type": "code",
        "colab": {}
      },
      "source": [
        "#LDA.get_params()"
      ],
      "execution_count": 0,
      "outputs": []
    },
    {
      "cell_type": "code",
      "metadata": {
        "id": "Dp_pwAgEPJvE",
        "colab_type": "code",
        "colab": {
          "base_uri": "https://localhost:8080/",
          "height": 34
        },
        "outputId": "656a9fca-b0ec-4869-af18-bff3b163c2f5"
      },
      "source": [
        "LDA.components_.shape"
      ],
      "execution_count": 244,
      "outputs": [
        {
          "output_type": "execute_result",
          "data": {
            "text/plain": [
              "(4, 35310)"
            ]
          },
          "metadata": {
            "tags": []
          },
          "execution_count": 244
        }
      ]
    },
    {
      "cell_type": "code",
      "metadata": {
        "id": "-cqZA64xYI73",
        "colab_type": "code",
        "colab": {
          "base_uri": "https://localhost:8080/",
          "height": 52
        },
        "outputId": "5d55bd89-9f3f-4876-8424-2dc4cf4b549a"
      },
      "source": [
        "LDA.components_[0]"
      ],
      "execution_count": 245,
      "outputs": [
        {
          "output_type": "execute_result",
          "data": {
            "text/plain": [
              "array([1.9391718 , 0.75413679, 0.25005237, ..., 0.25      , 2.49118429,\n",
              "       0.28116198])"
            ]
          },
          "metadata": {
            "tags": []
          },
          "execution_count": 245
        }
      ]
    },
    {
      "cell_type": "code",
      "metadata": {
        "id": "vxorgcIaPJsk",
        "colab_type": "code",
        "colab": {
          "base_uri": "https://localhost:8080/",
          "height": 34
        },
        "outputId": "b1febd26-e7f6-4f3e-ad6b-5b257d9e0928"
      },
      "source": [
        "LDA.components_[0].argsort()"
      ],
      "execution_count": 246,
      "outputs": [
        {
          "output_type": "execute_result",
          "data": {
            "text/plain": [
              "array([20239, 16668, 23147, ..., 22374, 20688, 26374])"
            ]
          },
          "metadata": {
            "tags": []
          },
          "execution_count": 246
        }
      ]
    },
    {
      "cell_type": "code",
      "metadata": {
        "id": "6Ld3AR4087Jg",
        "colab_type": "code",
        "colab": {
          "base_uri": "https://localhost:8080/",
          "height": 34
        },
        "outputId": "0dc593be-019d-4f17-c98a-e350c64691d3"
      },
      "source": [
        "LDA.components_[0].argsort()[0]"
      ],
      "execution_count": 247,
      "outputs": [
        {
          "output_type": "execute_result",
          "data": {
            "text/plain": [
              "20239"
            ]
          },
          "metadata": {
            "tags": []
          },
          "execution_count": 247
        }
      ]
    },
    {
      "cell_type": "code",
      "metadata": {
        "id": "bJqwr1VP87Hh",
        "colab_type": "code",
        "colab": {
          "base_uri": "https://localhost:8080/",
          "height": 34
        },
        "outputId": "208c6188-f0a2-43f7-e5c7-98b7c5773784"
      },
      "source": [
        "vect.get_feature_names()[20239] #16668"
      ],
      "execution_count": 248,
      "outputs": [
        {
          "output_type": "execute_result",
          "data": {
            "text/plain": [
              "'jet2'"
            ]
          },
          "metadata": {
            "tags": []
          },
          "execution_count": 248
        }
      ]
    },
    {
      "cell_type": "code",
      "metadata": {
        "id": "jffMT1_-9Ma2",
        "colab_type": "code",
        "colab": {
          "base_uri": "https://localhost:8080/",
          "height": 301
        },
        "outputId": "43171c77-6b3e-4a4c-cc83-08cdebaa983c"
      },
      "source": [
        "for index,topic in enumerate(LDA.components_):\n",
        "    print(f'THE TOP 15 WORDS FOR TOPIC #{index}')\n",
        "    print([vect.get_feature_names()[i] for i in topic.argsort()[-15:]])\n",
        "    print('\\n')"
      ],
      "execution_count": 249,
      "outputs": [
        {
          "output_type": "stream",
          "text": [
            "THE TOP 15 WORDS FOR TOPIC #0\n",
            "['12', 'pincéis', 'matte', 'profissional', 'sombras', 'rose', 'paleta', 'cm', 'ruby', 'maleta', 'bonecos', 'cores', 'maquiagem', 'kit', 'pincel']\n",
            "\n",
            "\n",
            "THE TOP 15 WORDS FOR TOPIC #1\n",
            "['games', 'produto', 'enviar', 'clique', 'envios', 'cliente', 'gta', 'envio', 'dias', 'produtos', 'entrega', 'anúncio', 'pagamento', 'mercado', 'prazo']\n",
            "\n",
            "\n",
            "THE TOP 15 WORDS FOR TOPIC #2\n",
            "['ed', 'anos', 'harry', 'mundo', 'história', 'origem', 'vida', 'novo', 'ball', 'dragon', 'páginas', '00', 'produto', 'livro', 'edição']\n",
            "\n",
            "\n",
            "THE TOP 15 WORDS FOR TOPIC #3\n",
            "['combinar', 'entrega', 'xbox', 'sim', 'envio', 'produto', 'jogar', 'retirar', 'online', 'original', 'vendedor', 'frete', 'compra', 'digital', 'jogo']\n",
            "\n",
            "\n"
          ],
          "name": "stdout"
        }
      ]
    },
    {
      "cell_type": "code",
      "metadata": {
        "id": "UVngssMKAoGg",
        "colab_type": "code",
        "colab": {
          "base_uri": "https://localhost:8080/",
          "height": 87
        },
        "outputId": "3aabb06d-bf86-4889-d397-9cc9799f3ae3"
      },
      "source": [
        "print(text_vect.shape)\n",
        "print(X_train.shape)\n",
        "print(X_test.shape)\n",
        "\n",
        "print(X_train.shape[0]+X_test.shape[0])\n"
      ],
      "execution_count": 250,
      "outputs": [
        {
          "output_type": "stream",
          "text": [
            "(2916, 35310)\n",
            "(2332, 35310)\n",
            "(584, 35310)\n",
            "2916\n"
          ],
          "name": "stdout"
        }
      ]
    },
    {
      "cell_type": "code",
      "metadata": {
        "id": "4uOHH-ln9MYl",
        "colab_type": "code",
        "colab": {
          "base_uri": "https://localhost:8080/",
          "height": 34
        },
        "outputId": "7c8e5f51-87e6-46ae-b33c-507ad56c8fe1"
      },
      "source": [
        "results = LDA.transform(X_test)\n",
        "\n",
        "results.shape"
      ],
      "execution_count": 251,
      "outputs": [
        {
          "output_type": "execute_result",
          "data": {
            "text/plain": [
              "(584, 4)"
            ]
          },
          "metadata": {
            "tags": []
          },
          "execution_count": 251
        }
      ]
    },
    {
      "cell_type": "code",
      "metadata": {
        "id": "0UuI6P6G9151",
        "colab_type": "code",
        "colab": {
          "base_uri": "https://localhost:8080/",
          "height": 34
        },
        "outputId": "5a1bcd49-b24e-4068-b259-730dc00c3d8f"
      },
      "source": [
        "results[0]"
      ],
      "execution_count": 252,
      "outputs": [
        {
          "output_type": "execute_result",
          "data": {
            "text/plain": [
              "array([0.86475958, 0.04143149, 0.04274787, 0.05106107])"
            ]
          },
          "metadata": {
            "tags": []
          },
          "execution_count": 252
        }
      ]
    },
    {
      "cell_type": "code",
      "metadata": {
        "id": "1fCoke2V913x",
        "colab_type": "code",
        "colab": {
          "base_uri": "https://localhost:8080/",
          "height": 496
        },
        "outputId": "da8f8cf6-8f25-4482-a5f4-c787d1276060"
      },
      "source": [
        "results.argmax(axis=1)"
      ],
      "execution_count": 253,
      "outputs": [
        {
          "output_type": "execute_result",
          "data": {
            "text/plain": [
              "array([0, 0, 3, 0, 0, 2, 3, 2, 3, 3, 3, 0, 3, 2, 3, 3, 3, 1, 2, 3, 3, 0,\n",
              "       3, 0, 3, 0, 2, 0, 0, 0, 3, 2, 2, 3, 3, 3, 0, 0, 0, 0, 3, 3, 3, 3,\n",
              "       2, 3, 0, 0, 2, 2, 0, 2, 2, 3, 0, 0, 2, 3, 2, 0, 3, 2, 3, 2, 2, 2,\n",
              "       0, 2, 3, 3, 0, 3, 2, 3, 2, 3, 2, 2, 3, 3, 3, 2, 1, 0, 0, 0, 0, 3,\n",
              "       0, 2, 3, 2, 2, 2, 2, 3, 2, 0, 3, 1, 3, 0, 2, 3, 3, 0, 0, 3, 3, 0,\n",
              "       3, 3, 3, 2, 0, 3, 3, 3, 3, 2, 3, 0, 2, 0, 3, 3, 3, 0, 3, 0, 3, 0,\n",
              "       2, 3, 2, 2, 2, 0, 3, 2, 3, 3, 0, 3, 3, 3, 1, 0, 2, 2, 2, 3, 3, 3,\n",
              "       3, 0, 2, 0, 1, 3, 2, 3, 3, 0, 3, 3, 2, 3, 0, 2, 2, 3, 0, 2, 3, 0,\n",
              "       0, 2, 3, 2, 2, 0, 2, 2, 2, 2, 2, 0, 2, 2, 3, 3, 2, 0, 2, 2, 2, 1,\n",
              "       0, 0, 2, 2, 2, 2, 0, 2, 3, 0, 0, 0, 0, 2, 0, 3, 3, 3, 0, 3, 0, 0,\n",
              "       0, 0, 2, 0, 0, 3, 3, 0, 0, 3, 2, 2, 2, 3, 3, 3, 2, 3, 2, 2, 2, 1,\n",
              "       0, 3, 0, 2, 0, 0, 2, 3, 3, 0, 2, 0, 0, 1, 0, 1, 3, 2, 2, 2, 0, 2,\n",
              "       3, 0, 3, 2, 0, 0, 2, 0, 0, 0, 3, 1, 0, 2, 3, 3, 3, 3, 0, 2, 2, 2,\n",
              "       3, 2, 2, 0, 3, 1, 3, 0, 2, 1, 0, 0, 0, 0, 3, 3, 2, 3, 3, 3, 0, 3,\n",
              "       2, 0, 2, 2, 3, 2, 0, 2, 2, 2, 2, 2, 2, 0, 0, 3, 0, 2, 0, 3, 0, 0,\n",
              "       3, 0, 2, 0, 0, 2, 0, 0, 3, 3, 2, 3, 2, 2, 3, 1, 2, 0, 3, 2, 3, 3,\n",
              "       2, 1, 3, 3, 2, 0, 3, 0, 3, 0, 3, 2, 3, 3, 2, 0, 2, 0, 0, 0, 0, 0,\n",
              "       3, 2, 0, 3, 3, 2, 2, 3, 3, 3, 0, 2, 2, 2, 3, 2, 2, 2, 2, 0, 0, 2,\n",
              "       1, 2, 3, 2, 3, 3, 3, 3, 2, 0, 2, 2, 3, 2, 3, 2, 3, 0, 1, 0, 2, 2,\n",
              "       0, 2, 3, 2, 2, 1, 2, 3, 0, 2, 3, 0, 2, 2, 0, 3, 0, 0, 3, 3, 0, 2,\n",
              "       3, 0, 3, 3, 3, 0, 0, 3, 2, 2, 2, 2, 0, 3, 0, 0, 3, 2, 2, 0, 2, 3,\n",
              "       0, 0, 0, 2, 0, 3, 1, 3, 3, 2, 0, 0, 0, 3, 0, 3, 0, 0, 2, 2, 3, 3,\n",
              "       0, 2, 2, 3, 2, 2, 2, 2, 2, 0, 2, 2, 0, 3, 2, 0, 1, 0, 3, 3, 0, 0,\n",
              "       2, 3, 0, 2, 3, 3, 3, 3, 2, 3, 2, 1, 2, 0, 2, 3, 3, 3, 2, 3, 2, 2,\n",
              "       0, 3, 2, 0, 3, 2, 2, 0, 2, 0, 2, 0, 3, 2, 2, 2, 3, 0, 0, 0, 0, 3,\n",
              "       1, 3, 1, 3, 2, 3, 3, 0, 2, 3, 0, 3, 0, 3, 0, 2, 2, 3, 0, 2, 1, 0,\n",
              "       2, 0, 3, 2, 3, 2, 3, 0, 3, 0, 3, 2])"
            ]
          },
          "metadata": {
            "tags": []
          },
          "execution_count": 253
        }
      ]
    },
    {
      "cell_type": "code",
      "metadata": {
        "id": "dNQNDgK4BWoe",
        "colab_type": "code",
        "colab": {
          "base_uri": "https://localhost:8080/",
          "height": 304
        },
        "outputId": "fa77d62b-63b9-412f-bcbe-eb9b137ee74d"
      },
      "source": [
        "df_test['topico'] = results.argmax(axis=1)\n",
        "\n",
        "df_test.head()\n"
      ],
      "execution_count": 254,
      "outputs": [
        {
          "output_type": "stream",
          "text": [
            "/usr/local/lib/python3.6/dist-packages/ipykernel_launcher.py:1: SettingWithCopyWarning: \n",
            "A value is trying to be set on a copy of a slice from a DataFrame.\n",
            "Try using .loc[row_indexer,col_indexer] = value instead\n",
            "\n",
            "See the caveats in the documentation: https://pandas.pydata.org/pandas-docs/stable/user_guide/indexing.html#returning-a-view-versus-a-copy\n",
            "  \"\"\"Entry point for launching an IPython kernel.\n"
          ],
          "name": "stderr"
        },
        {
          "output_type": "execute_result",
          "data": {
            "text/html": [
              "<div>\n",
              "<style scoped>\n",
              "    .dataframe tbody tr th:only-of-type {\n",
              "        vertical-align: middle;\n",
              "    }\n",
              "\n",
              "    .dataframe tbody tr th {\n",
              "        vertical-align: top;\n",
              "    }\n",
              "\n",
              "    .dataframe thead th {\n",
              "        text-align: right;\n",
              "    }\n",
              "</style>\n",
              "<table border=\"1\" class=\"dataframe\">\n",
              "  <thead>\n",
              "    <tr style=\"text-align: right;\">\n",
              "      <th></th>\n",
              "      <th>nome</th>\n",
              "      <th>descricao</th>\n",
              "      <th>categoria</th>\n",
              "      <th>texto</th>\n",
              "      <th>topico</th>\n",
              "    </tr>\n",
              "  </thead>\n",
              "  <tbody>\n",
              "    <tr>\n",
              "      <th>2700</th>\n",
              "      <td>Estojo Duo Iluminador E Bronzer Belle Angel M...</td>\n",
              "      <td>DUO ILUMINADOR E BRONZER BELLE ANGEL - B025O D...</td>\n",
              "      <td>maquiagem</td>\n",
              "      <td>Estojo Duo Iluminador E Bronzer Belle Angel M...</td>\n",
              "      <td>0</td>\n",
              "    </tr>\n",
              "    <tr>\n",
              "      <th>1297</th>\n",
              "      <td>Patrulha Canina Carrinhos De Fricção 6 Person...</td>\n",
              "      <td>Kit carrinhos da Patrulha canina Tamanho: Cerc...</td>\n",
              "      <td>brinquedo</td>\n",
              "      <td>Patrulha Canina Carrinhos De Fricção 6 Person...</td>\n",
              "      <td>0</td>\n",
              "    </tr>\n",
              "    <tr>\n",
              "      <th>3162</th>\n",
              "      <td>Pokemon Ultra Moon Nintendo 3ds Midia Fisica ...</td>\n",
              "      <td>#Nossos produtos são NOVOS e 100% ORIGINAIS#  ...</td>\n",
              "      <td>game</td>\n",
              "      <td>Pokemon Ultra Moon Nintendo 3ds Midia Fisica ...</td>\n",
              "      <td>3</td>\n",
              "    </tr>\n",
              "    <tr>\n",
              "      <th>2895</th>\n",
              "      <td>Kite Pincel  12 Unidade</td>\n",
              "      <td>esta alta qualidade Punho de madeira Escova Co...</td>\n",
              "      <td>maquiagem</td>\n",
              "      <td>Kite Pincel  12 Unidade  esta alta qualidade ...</td>\n",
              "      <td>0</td>\n",
              "    </tr>\n",
              "    <tr>\n",
              "      <th>2226</th>\n",
              "      <td>Maleta Grande P/ Maquiagem Profissional Rodin...</td>\n",
              "      <td>FOTOS REAIS DO PRODUTO - ENVIAMOS SUA MALETA C...</td>\n",
              "      <td>maquiagem</td>\n",
              "      <td>Maleta Grande P/ Maquiagem Profissional Rodin...</td>\n",
              "      <td>0</td>\n",
              "    </tr>\n",
              "  </tbody>\n",
              "</table>\n",
              "</div>"
            ],
            "text/plain": [
              "                                                   nome  ... topico\n",
              "2700   Estojo Duo Iluminador E Bronzer Belle Angel M...  ...      0\n",
              "1297   Patrulha Canina Carrinhos De Fricção 6 Person...  ...      0\n",
              "3162   Pokemon Ultra Moon Nintendo 3ds Midia Fisica ...  ...      3\n",
              "2895                           Kite Pincel  12 Unidade   ...      0\n",
              "2226   Maleta Grande P/ Maquiagem Profissional Rodin...  ...      0\n",
              "\n",
              "[5 rows x 5 columns]"
            ]
          },
          "metadata": {
            "tags": []
          },
          "execution_count": 254
        }
      ]
    },
    {
      "cell_type": "code",
      "metadata": {
        "id": "qUj5Vik_BWl2",
        "colab_type": "code",
        "colab": {
          "base_uri": "https://localhost:8080/",
          "height": 304
        },
        "outputId": "f15a2bd4-36f2-4549-de08-32de30eb7e09"
      },
      "source": [
        "import numpy as np\n",
        "\n",
        "df_test['categ_cod'] = df_test.categoria.map(\n",
        "    {'maquiagem': 0, 'game': 1, 'livro': 2, 'brinquedo':3}    \n",
        ")\n",
        "#df_test['categ_cod'] = df_test.categ_cod.astype(np.int64)\n",
        "\n",
        "df_test.head()"
      ],
      "execution_count": 264,
      "outputs": [
        {
          "output_type": "stream",
          "text": [
            "/usr/local/lib/python3.6/dist-packages/ipykernel_launcher.py:4: SettingWithCopyWarning: \n",
            "A value is trying to be set on a copy of a slice from a DataFrame.\n",
            "Try using .loc[row_indexer,col_indexer] = value instead\n",
            "\n",
            "See the caveats in the documentation: https://pandas.pydata.org/pandas-docs/stable/user_guide/indexing.html#returning-a-view-versus-a-copy\n",
            "  after removing the cwd from sys.path.\n"
          ],
          "name": "stderr"
        },
        {
          "output_type": "execute_result",
          "data": {
            "text/html": [
              "<div>\n",
              "<style scoped>\n",
              "    .dataframe tbody tr th:only-of-type {\n",
              "        vertical-align: middle;\n",
              "    }\n",
              "\n",
              "    .dataframe tbody tr th {\n",
              "        vertical-align: top;\n",
              "    }\n",
              "\n",
              "    .dataframe thead th {\n",
              "        text-align: right;\n",
              "    }\n",
              "</style>\n",
              "<table border=\"1\" class=\"dataframe\">\n",
              "  <thead>\n",
              "    <tr style=\"text-align: right;\">\n",
              "      <th></th>\n",
              "      <th>nome</th>\n",
              "      <th>descricao</th>\n",
              "      <th>categoria</th>\n",
              "      <th>texto</th>\n",
              "      <th>topico</th>\n",
              "      <th>categ_cod</th>\n",
              "    </tr>\n",
              "  </thead>\n",
              "  <tbody>\n",
              "    <tr>\n",
              "      <th>2700</th>\n",
              "      <td>Estojo Duo Iluminador E Bronzer Belle Angel M...</td>\n",
              "      <td>DUO ILUMINADOR E BRONZER BELLE ANGEL - B025O D...</td>\n",
              "      <td>maquiagem</td>\n",
              "      <td>Estojo Duo Iluminador E Bronzer Belle Angel M...</td>\n",
              "      <td>0</td>\n",
              "      <td>0</td>\n",
              "    </tr>\n",
              "    <tr>\n",
              "      <th>1297</th>\n",
              "      <td>Patrulha Canina Carrinhos De Fricção 6 Person...</td>\n",
              "      <td>Kit carrinhos da Patrulha canina Tamanho: Cerc...</td>\n",
              "      <td>brinquedo</td>\n",
              "      <td>Patrulha Canina Carrinhos De Fricção 6 Person...</td>\n",
              "      <td>0</td>\n",
              "      <td>3</td>\n",
              "    </tr>\n",
              "    <tr>\n",
              "      <th>3162</th>\n",
              "      <td>Pokemon Ultra Moon Nintendo 3ds Midia Fisica ...</td>\n",
              "      <td>#Nossos produtos são NOVOS e 100% ORIGINAIS#  ...</td>\n",
              "      <td>game</td>\n",
              "      <td>Pokemon Ultra Moon Nintendo 3ds Midia Fisica ...</td>\n",
              "      <td>3</td>\n",
              "      <td>1</td>\n",
              "    </tr>\n",
              "    <tr>\n",
              "      <th>2895</th>\n",
              "      <td>Kite Pincel  12 Unidade</td>\n",
              "      <td>esta alta qualidade Punho de madeira Escova Co...</td>\n",
              "      <td>maquiagem</td>\n",
              "      <td>Kite Pincel  12 Unidade  esta alta qualidade ...</td>\n",
              "      <td>0</td>\n",
              "      <td>0</td>\n",
              "    </tr>\n",
              "    <tr>\n",
              "      <th>2226</th>\n",
              "      <td>Maleta Grande P/ Maquiagem Profissional Rodin...</td>\n",
              "      <td>FOTOS REAIS DO PRODUTO - ENVIAMOS SUA MALETA C...</td>\n",
              "      <td>maquiagem</td>\n",
              "      <td>Maleta Grande P/ Maquiagem Profissional Rodin...</td>\n",
              "      <td>0</td>\n",
              "      <td>0</td>\n",
              "    </tr>\n",
              "  </tbody>\n",
              "</table>\n",
              "</div>"
            ],
            "text/plain": [
              "                                                   nome  ... categ_cod\n",
              "2700   Estojo Duo Iluminador E Bronzer Belle Angel M...  ...         0\n",
              "1297   Patrulha Canina Carrinhos De Fricção 6 Person...  ...         3\n",
              "3162   Pokemon Ultra Moon Nintendo 3ds Midia Fisica ...  ...         1\n",
              "2895                           Kite Pincel  12 Unidade   ...         0\n",
              "2226   Maleta Grande P/ Maquiagem Profissional Rodin...  ...         0\n",
              "\n",
              "[5 rows x 6 columns]"
            ]
          },
          "metadata": {
            "tags": []
          },
          "execution_count": 264
        }
      ]
    },
    {
      "cell_type": "code",
      "metadata": {
        "id": "wk-yWyPMBWjs",
        "colab_type": "code",
        "colab": {
          "base_uri": "https://localhost:8080/",
          "height": 247
        },
        "outputId": "e9fc7080-d500-4593-cc2d-3a2097d0f773"
      },
      "source": [
        "df_test.info()"
      ],
      "execution_count": 265,
      "outputs": [
        {
          "output_type": "stream",
          "text": [
            "<class 'pandas.core.frame.DataFrame'>\n",
            "Int64Index: 584 entries, 2700 to 1842\n",
            "Data columns (total 6 columns):\n",
            " #   Column     Non-Null Count  Dtype \n",
            "---  ------     --------------  ----- \n",
            " 0   nome       584 non-null    object\n",
            " 1   descricao  584 non-null    object\n",
            " 2   categoria  584 non-null    object\n",
            " 3   texto      584 non-null    object\n",
            " 4   topico     584 non-null    int64 \n",
            " 5   categ_cod  584 non-null    int64 \n",
            "dtypes: int64(2), object(4)\n",
            "memory usage: 31.9+ KB\n"
          ],
          "name": "stdout"
        }
      ]
    },
    {
      "cell_type": "code",
      "metadata": {
        "id": "bLeIHBc0BWhS",
        "colab_type": "code",
        "colab": {
          "base_uri": "https://localhost:8080/",
          "height": 34
        },
        "outputId": "d343da04-f29e-4373-f10e-fae0ffa87f3e"
      },
      "source": [
        "from sklearn.metrics import accuracy_score, confusion_matrix\n",
        "\n",
        "print(accuracy_score(df_test.categ_cod, df_test.topico))"
      ],
      "execution_count": 266,
      "outputs": [
        {
          "output_type": "stream",
          "text": [
            "0.5445205479452054\n"
          ],
          "name": "stdout"
        }
      ]
    },
    {
      "cell_type": "code",
      "metadata": {
        "id": "EfQrsrrgEqYQ",
        "colab_type": "code",
        "colab": {
          "base_uri": "https://localhost:8080/",
          "height": 445
        },
        "outputId": "c05097ff-ddc7-4ddd-87ae-6f2f134e0075"
      },
      "source": [
        "import seaborn as sns\n",
        "import matplotlib.pyplot as plt\n",
        "\n",
        "matrix = confusion_matrix(df_test.categ_cod, df_test.topico)\n",
        "\n",
        "df_cm = pd.DataFrame(matrix, index=list('0123'),\n",
        "                  columns=list('0123'))\n",
        "plt.figure(figsize = (10,7))\n",
        "sns.heatmap(df_cm, annot=True)"
      ],
      "execution_count": 267,
      "outputs": [
        {
          "output_type": "execute_result",
          "data": {
            "text/plain": [
              "<matplotlib.axes._subplots.AxesSubplot at 0x7f69514f25f8>"
            ]
          },
          "metadata": {
            "tags": []
          },
          "execution_count": 267
        },
        {
          "output_type": "display_data",
          "data": {
            "image/png": "[encoded data removed]",
            "text/plain": [
              "<Figure size 720x504 with 2 Axes>"
            ]
          },
          "metadata": {
            "tags": [],
            "needs_background": "light"
          }
        }
      ]
    },
    {
      "cell_type": "code",
      "metadata": {
        "id": "D-p4rtKviR1T",
        "colab_type": "code",
        "colab": {}
      },
      "source": [
        "# Corrija a classificação: {'maquiagem': 0, 'game': 3, 'livro': 2, 'brinquedo':1}"
      ],
      "execution_count": 0,
      "outputs": []
    },
    {
      "cell_type": "markdown",
      "metadata": {
        "id": "O170Q6rKJBbC",
        "colab_type": "text"
      },
      "source": [
        "<font size=5>\n",
        "<b>max_df:</b> float in range [0.0, 1.0] or int, default=1.0<br/>\n",
        "When building the vocabulary ignore terms that have a document frequency strictly higher than the given threshold (corpus-specific stop words). If float, the parameter represents a proportion of documents, integer absolute counts. This parameter is ignored if vocabulary is not None.<br/>\n",
        "Google T: Ao criar o vocabulário, ignore os termos que tenham uma frequência de documento estritamente maior que o limite fornecido (palavras de parada específicas do corpus). Se flutuante, o parâmetro representa uma proporção de documentos, número absoluto de contagens. Este parâmetro será ignorado se o vocabulário não for Nenhum.\n",
        "<br/>\n",
        "<br/>\n",
        "\n",
        "<b>min_df:</b> float in range [0.0, 1.0] or int, default=1<br/>\n",
        "When building the vocabulary ignore terms that have a document frequency strictly lower than the given threshold. This value is also called cut-off in the literature. If float, the parameter represents a proportion of documents, integer absolute counts. This parameter is ignored if vocabulary is not None.<br/>\n",
        "Google T: Ao criar o vocabulário, ignore os termos que tenham uma frequência de documento estritamente menor que o limite especificado. Esse valor também é chamado de corte na literatura. Se flutuante, o parâmetro representa uma proporção de documentos, número absoluto de contagens. Este parâmetro será ignorado se o vocabulário não for Nenhum.\n",
        "</font>"
      ]
    },
    {
      "cell_type": "code",
      "metadata": {
        "id": "kIXrFEveINBq",
        "colab_type": "code",
        "colab": {
          "base_uri": "https://localhost:8080/",
          "height": 141
        },
        "outputId": "9aae8b8c-98fb-4925-b6fd-a7ce09e2e15a"
      },
      "source": [
        "from sklearn.feature_extraction.text import TfidfVectorizer\n",
        "from sklearn.model_selection import train_test_split\n",
        "\n",
        "stops = nltk.corpus.stopwords.words('portuguese')\n",
        "\n",
        "vect = TfidfVectorizer(ngram_range=(2,2), stop_words=stops, max_df=0.9, min_df=2)\n",
        "vect.fit(df.texto)\n",
        "text_vect = vect.transform(df.texto)\n",
        "\n",
        "df_train, df_test = train_test_split(\n",
        "      df,\n",
        "      test_size = 0.2, \n",
        "      random_state = 42\n",
        "  )\n",
        "\n",
        "X_train, X_test, y_train, y_test = train_test_split(\n",
        "      text_vect,\n",
        "      df[\"categoria\"],\n",
        "      test_size = 0.2, \n",
        "      random_state = 42\n",
        "  )\n",
        "\n",
        "LDA2 = LatentDirichletAllocation(n_components=4,random_state=42)\n",
        "LDA2.fit(X_train)\n",
        "\n",
        "#LDA2.score(text_vect)"
      ],
      "execution_count": 268,
      "outputs": [
        {
          "output_type": "execute_result",
          "data": {
            "text/plain": [
              "LatentDirichletAllocation(batch_size=128, doc_topic_prior=None,\n",
              "                          evaluate_every=-1, learning_decay=0.7,\n",
              "                          learning_method='batch', learning_offset=10.0,\n",
              "                          max_doc_update_iter=100, max_iter=10,\n",
              "                          mean_change_tol=0.001, n_components=4, n_jobs=None,\n",
              "                          perp_tol=0.1, random_state=42, topic_word_prior=None,\n",
              "                          total_samples=1000000.0, verbose=0)"
            ]
          },
          "metadata": {
            "tags": []
          },
          "execution_count": 268
        }
      ]
    },
    {
      "cell_type": "code",
      "metadata": {
        "id": "pP1ZouVYJRw6",
        "colab_type": "code",
        "colab": {
          "base_uri": "https://localhost:8080/",
          "height": 321
        },
        "outputId": "2e7d6035-0f0a-4bbb-aa82-030ab07951a0"
      },
      "source": [
        "for index,topic in enumerate(LDA2.components_):\n",
        "    print(f'THE TOP 15 WORDS FOR TOPIC #{index}')\n",
        "    print([vect.get_feature_names()[i] for i in topic.argsort()[-15:]])\n",
        "    print('\\n')"
      ],
      "execution_count": 269,
      "outputs": [
        {
          "output_type": "stream",
          "text": [
            "THE TOP 15 WORDS FOR TOPIC #0\n",
            "['efetuar pagamento', 'após envio', 'envio entrega', 'abaixo preço', 'úteis após', 'preço anúncio', 'pronta entrega', 'todos produtos', 'pagamento mercado', 'gta games', 'mercado livre', 'mercado pago', 'prazo entrega', 'prazo envio', 'mercado envios']\n",
            "\n",
            "\n",
            "THE TOP 15 WORDS FOR TOPIC #1\n",
            "['novo físico', 'cmidiomas portuguêsano', 'código barras', 'ed encadernação', 'origem nacional', 'nacional código', 'livromedidas cm', 'produto livromedidas', 'produto novo', 'ruby rose', 'mia vai', 'gel inglot', 'garota calendário', 'paleta sombras', 'delineador gel']\n",
            "\n",
            "\n",
            "THE TOP 15 WORDS FOR TOPIC #2\n",
            "['mercado livre', 'som luz', 'estoque envio', 'efetuar compra', 'vou retirar', 'retirar endereço', 'endereço vendedor', 'pode ser', 'vendedor combinar', 'envio imediato', 'posso jogar', 'combinar vendedor', 'original completo', '30 cm', 'jogar perfil']\n",
            "\n",
            "\n",
            "THE TOP 15 WORDS FOR TOPIC #3\n",
            "['boneco dragon', 'reaismandamos aproximadamente', 'feito frete', 'pronta entrega', 'ser feito', 'aproximadamente 24', 'entregafotos 100', '100 reaismandamos', 'produtos vendemos', 'frete produtos', 'vendemos atacado', 'wow shop', 'atacado wow', 'produto novo', 'dragon ball']\n",
            "\n",
            "\n"
          ],
          "name": "stdout"
        }
      ]
    },
    {
      "cell_type": "code",
      "metadata": {
        "id": "z-8wd-vJIM_E",
        "colab_type": "code",
        "colab": {
          "base_uri": "https://localhost:8080/",
          "height": 354
        },
        "outputId": "472da202-478e-448c-8d7e-d9e68197766c"
      },
      "source": [
        "results = LDA2.transform(X_test)\n",
        "\n",
        "df_test['topico'] = results.argmax(axis=1)\n",
        "\n",
        "df_test['categ_cod'] = df_test.categoria.map(\n",
        "    {'maquiagem': 1, 'game': 2, 'brinquedo': 0, 'livro':3}\n",
        ")\n",
        "df_test['categ_cod'] = df_test.categ_cod.astype(np.int64)\n",
        "\n",
        "print(accuracy_score(df_test.categ_cod, df_test.topico))"
      ],
      "execution_count": 270,
      "outputs": [
        {
          "output_type": "stream",
          "text": [
            "0.2482876712328767\n"
          ],
          "name": "stdout"
        },
        {
          "output_type": "stream",
          "text": [
            "/usr/local/lib/python3.6/dist-packages/ipykernel_launcher.py:3: SettingWithCopyWarning: \n",
            "A value is trying to be set on a copy of a slice from a DataFrame.\n",
            "Try using .loc[row_indexer,col_indexer] = value instead\n",
            "\n",
            "See the caveats in the documentation: https://pandas.pydata.org/pandas-docs/stable/user_guide/indexing.html#returning-a-view-versus-a-copy\n",
            "  This is separate from the ipykernel package so we can avoid doing imports until\n",
            "/usr/local/lib/python3.6/dist-packages/ipykernel_launcher.py:6: SettingWithCopyWarning: \n",
            "A value is trying to be set on a copy of a slice from a DataFrame.\n",
            "Try using .loc[row_indexer,col_indexer] = value instead\n",
            "\n",
            "See the caveats in the documentation: https://pandas.pydata.org/pandas-docs/stable/user_guide/indexing.html#returning-a-view-versus-a-copy\n",
            "  \n",
            "/usr/local/lib/python3.6/dist-packages/ipykernel_launcher.py:8: SettingWithCopyWarning: \n",
            "A value is trying to be set on a copy of a slice from a DataFrame.\n",
            "Try using .loc[row_indexer,col_indexer] = value instead\n",
            "\n",
            "See the caveats in the documentation: https://pandas.pydata.org/pandas-docs/stable/user_guide/indexing.html#returning-a-view-versus-a-copy\n",
            "  \n"
          ],
          "name": "stderr"
        }
      ]
    },
    {
      "cell_type": "code",
      "metadata": {
        "id": "eHOCJUj6IMxM",
        "colab_type": "code",
        "colab": {
          "base_uri": "https://localhost:8080/",
          "height": 445
        },
        "outputId": "ae96ff38-f724-47e1-b390-bbf23372ba80"
      },
      "source": [
        "import seaborn as sns\n",
        "import matplotlib.pyplot as plt\n",
        "\n",
        "matrix = confusion_matrix(df_test.categ_cod, df_test.topico)\n",
        "\n",
        "df_cm = pd.DataFrame(matrix, index=list('0123'),\n",
        "                  columns=list('0123'))\n",
        "plt.figure(figsize = (10,7))\n",
        "sns.heatmap(df_cm, annot=True)"
      ],
      "execution_count": 271,
      "outputs": [
        {
          "output_type": "execute_result",
          "data": {
            "text/plain": [
              "<matplotlib.axes._subplots.AxesSubplot at 0x7f69515432e8>"
            ]
          },
          "metadata": {
            "tags": []
          },
          "execution_count": 271
        },
        {
          "output_type": "display_data",
          "data": {
            "image/png": "[encoded data removed]",
            "text/plain": [
              "<Figure size 720x504 with 2 Axes>"
            ]
          },
          "metadata": {
            "tags": [],
            "needs_background": "light"
          }
        }
      ]
    },
    {
      "cell_type": "code",
      "metadata": {
        "id": "lOJzOTrML3KQ",
        "colab_type": "code",
        "colab": {}
      },
      "source": [
        "\n",
        "df_train, df_test = train_test_split(\n",
        "      df,\n",
        "      test_size = 0.2, \n",
        "      random_state = 42\n",
        "  )\n",
        "\n",
        "X_train, X_test, y_train, y_test = train_test_split(\n",
        "      text_vect,\n",
        "      df[\"categoria\"],\n",
        "      test_size = 0.2, \n",
        "      random_state = 42\n",
        "  )\n"
      ],
      "execution_count": 0,
      "outputs": []
    },
    {
      "cell_type": "code",
      "metadata": {
        "id": "-Za0-HkCIMub",
        "colab_type": "code",
        "colab": {
          "base_uri": "https://localhost:8080/",
          "height": 141
        },
        "outputId": "298af37c-06dc-454b-c62f-90ec7738b5ae"
      },
      "source": [
        "LDA3 = LatentDirichletAllocation(n_components=8,random_state=42)\n",
        "LDA3.fit(X_train)\n",
        "\n",
        "#LDA3.score(text_vect)"
      ],
      "execution_count": 273,
      "outputs": [
        {
          "output_type": "execute_result",
          "data": {
            "text/plain": [
              "LatentDirichletAllocation(batch_size=128, doc_topic_prior=None,\n",
              "                          evaluate_every=-1, learning_decay=0.7,\n",
              "                          learning_method='batch', learning_offset=10.0,\n",
              "                          max_doc_update_iter=100, max_iter=10,\n",
              "                          mean_change_tol=0.001, n_components=8, n_jobs=None,\n",
              "                          perp_tol=0.1, random_state=42, topic_word_prior=None,\n",
              "                          total_samples=1000000.0, verbose=0)"
            ]
          },
          "metadata": {
            "tags": []
          },
          "execution_count": 273
        }
      ]
    },
    {
      "cell_type": "code",
      "metadata": {
        "id": "Txp15mb2IMr1",
        "colab_type": "code",
        "colab": {
          "base_uri": "https://localhost:8080/",
          "height": 605
        },
        "outputId": "d4ee1363-3369-4763-af17-eb8161bbfbaf"
      },
      "source": [
        "for index,topic in enumerate(LDA3.components_):\n",
        "    print(f'THE TOP 15 WORDS FOR TOPIC #{index}')\n",
        "    print([vect.get_feature_names()[i] for i in topic.argsort()[-15:]])\n",
        "    print('\\n')"
      ],
      "execution_count": 274,
      "outputs": [
        {
          "output_type": "stream",
          "text": [
            "THE TOP 15 WORDS FOR TOPIC #0\n",
            "['pacote incluindo', 'sobrancelhas prova', 'marrom pacote', 'duração alta', 'produto1 pc', 'incluindo caneta', 'tatuagem sobrancelha', 'prova agua', 'delineador sobrancelhas', 'dragon ball', 'midia digital', 'carrinho personagem', 'patrulha canina', 'pronta entrega', 'miss rose']\n",
            "\n",
            "\n",
            "THE TOP 15 WORDS FOR TOPIC #1\n",
            "['produto novo', 'antes compra', 'pincel profissional', 'maquiagem profissional', 'maleta profissional', 'envio imediato', 'sombras ruby', '18 cores', 'profissional grande', 'podem variar', 'campo perguntas', 'pronta entrega', 'maleta maquiagem', 'paleta sombras', 'ruby rose']\n",
            "\n",
            "\n",
            "THE TOP 15 WORDS FOR TOPIC #2\n",
            "['vingadores articuladosemite', 'led produto', 'luz led', 'pedimos compradores', 'compradores verificar', 'canal perguntas', '30 cm', 'perguntas respostas', 'mercado livre', 'disponibilidadeapós efetuar', 'verificar disponibilidadeapós', 'vingadores 30', 'envio imediato', 'efetuar compra', 'som luz']\n",
            "\n",
            "\n",
            "THE TOP 15 WORDS FOR TOPIC #3\n",
            "['ruby rose', 'informações tradutor', 'produto novo', 'brochuranº páginas', 'encadernação brochuranº', '1ª ed', 'característicastipo produto', 'cmidiomas portuguêsano', 'livromedidas cm', 'produto livromedidas', 'código barras', 'nacional código', 'origem nacional', 'novo físico', 'ed encadernação']\n",
            "\n",
            "\n",
            "THE TOP 15 WORDS FOR TOPIC #4\n",
            "['xbox one', 'pode ser', 'jogo original', 'ruby rose', 'combinar vendedor', 'dragon ball', 'vendedor combinar', 'escolha opção', 'retirar endereço', 'endereço vendedor', 'posso jogar', 'original completo', 'vou retirar', 'jogar perfil', 'opção vou']\n",
            "\n",
            "\n",
            "THE TOP 15 WORDS FOR TOPIC #5\n",
            "['16 000000profundidade', 'pronta entrega', '23 000000largura', 'edição 1ano', '1ano edição', 'entrega produto', '04 livros', 'produto novo', 'gel inglot', 'ball son', 'son gokou', 'gokou produto', 'boneco dragon', 'delineador gel', 'dragon ball']\n",
            "\n",
            "\n",
            "THE TOP 15 WORDS FOR TOPIC #6\n",
            "['garantia contra', 'kit ninja', 'novo lacrado', 'fabricação idioma', 'fisica pronta', 'defeito fabricação', 'contra defeito', 'lacrado mídia', 'fio fio', 'mídia fisica', 'dragon ball', 'pronta entrega', 'harry potter', 'garota calendário', 'mia vai']\n",
            "\n",
            "\n",
            "THE TOP 15 WORDS FOR TOPIC #7\n",
            "['feito frete', 'aproximadamente 24', 'vendemos atacado', 'produtos vendemos', 'frete produtos', 'entregafotos 100', '100 reaismandamos', 'wow shop', 'atacado wow', 'mercado livre', 'gta games', 'mercado pago', 'prazo entrega', 'mercado envios', 'prazo envio']\n",
            "\n",
            "\n"
          ],
          "name": "stdout"
        }
      ]
    },
    {
      "cell_type": "code",
      "metadata": {
        "id": "q_C-RKn5IMmy",
        "colab_type": "code",
        "colab": {
          "base_uri": "https://localhost:8080/",
          "height": 354
        },
        "outputId": "4a68280d-7b6a-4b9b-f003-1deecbf9f646"
      },
      "source": [
        "results = LDA3.transform(X_test)\n",
        "\n",
        "df_test['topico'] = results.argmax(axis=1)\n",
        "\n",
        "df_test['categ_cod'] = df_test.categoria.map(\n",
        "    {'maquiagem': 1, 'game': 2, 'brinquedo': 0, 'livro':3}\n",
        ")\n",
        "df_test['categ_cod'] = df_test.categ_cod.astype(np.int64)\n",
        "\n",
        "print(accuracy_score(df_test.categ_cod, df_test.topico))"
      ],
      "execution_count": 275,
      "outputs": [
        {
          "output_type": "stream",
          "text": [
            "0.18664383561643835\n"
          ],
          "name": "stdout"
        },
        {
          "output_type": "stream",
          "text": [
            "/usr/local/lib/python3.6/dist-packages/ipykernel_launcher.py:3: SettingWithCopyWarning: \n",
            "A value is trying to be set on a copy of a slice from a DataFrame.\n",
            "Try using .loc[row_indexer,col_indexer] = value instead\n",
            "\n",
            "See the caveats in the documentation: https://pandas.pydata.org/pandas-docs/stable/user_guide/indexing.html#returning-a-view-versus-a-copy\n",
            "  This is separate from the ipykernel package so we can avoid doing imports until\n",
            "/usr/local/lib/python3.6/dist-packages/ipykernel_launcher.py:6: SettingWithCopyWarning: \n",
            "A value is trying to be set on a copy of a slice from a DataFrame.\n",
            "Try using .loc[row_indexer,col_indexer] = value instead\n",
            "\n",
            "See the caveats in the documentation: https://pandas.pydata.org/pandas-docs/stable/user_guide/indexing.html#returning-a-view-versus-a-copy\n",
            "  \n",
            "/usr/local/lib/python3.6/dist-packages/ipykernel_launcher.py:8: SettingWithCopyWarning: \n",
            "A value is trying to be set on a copy of a slice from a DataFrame.\n",
            "Try using .loc[row_indexer,col_indexer] = value instead\n",
            "\n",
            "See the caveats in the documentation: https://pandas.pydata.org/pandas-docs/stable/user_guide/indexing.html#returning-a-view-versus-a-copy\n",
            "  \n"
          ],
          "name": "stderr"
        }
      ]
    },
    {
      "cell_type": "markdown",
      "metadata": {
        "id": "Mcr6qgMmb0fp",
        "colab_type": "text"
      },
      "source": [
        "<br/>\n",
        "<br/>\n",
        "<br/>\n",
        "\n",
        "\n",
        "##**O que aprendemos até aqui que mais marcou você?**\n",
        "---"
      ]
    },
    {
      "cell_type": "code",
      "metadata": {
        "id": "PPrDOG1jb8iH",
        "colab_type": "code",
        "colab": {}
      },
      "source": [
        ""
      ],
      "execution_count": 0,
      "outputs": []
    },
    {
      "cell_type": "markdown",
      "metadata": {
        "id": "tXJl7qzvldZA",
        "colab_type": "text"
      },
      "source": [
        "##**Vamos montar um projeto ideal?**\n",
        "\n",
        "---"
      ]
    },
    {
      "cell_type": "markdown",
      "metadata": {
        "id": "V8qyenWMlm4w",
        "colab_type": "text"
      },
      "source": [
        "### O que precisamos ter para desenvolver um projeto em NLP onde o objetivo final ter uma base de dados classificada com uma predissão?\n",
        "\n",
        "Use como exemplo nosso case de classificar produtos de um site com base no nome e descrição dos produtos."
      ]
    },
    {
      "cell_type": "code",
      "metadata": {
        "id": "N3TG1Kydlc5r",
        "colab_type": "code",
        "colab": {}
      },
      "source": [
        ""
      ],
      "execution_count": 0,
      "outputs": []
    }
  ]
}