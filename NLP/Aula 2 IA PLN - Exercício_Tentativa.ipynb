{
 "cells": [
  {
   "cell_type": "code",
   "execution_count": 27,
   "metadata": {},
   "outputs": [
    {
     "data": {
      "text/html": [
       "<div>\n",
       "<style scoped>\n",
       "    .dataframe tbody tr th:only-of-type {\n",
       "        vertical-align: middle;\n",
       "    }\n",
       "\n",
       "    .dataframe tbody tr th {\n",
       "        vertical-align: top;\n",
       "    }\n",
       "\n",
       "    .dataframe thead th {\n",
       "        text-align: right;\n",
       "    }\n",
       "</style>\n",
       "<table border=\"1\" class=\"dataframe\">\n",
       "  <thead>\n",
       "    <tr style=\"text-align: right;\">\n",
       "      <th></th>\n",
       "      <th>nome</th>\n",
       "      <th>descricao</th>\n",
       "      <th>categoria</th>\n",
       "    </tr>\n",
       "  </thead>\n",
       "  <tbody>\n",
       "    <tr>\n",
       "      <th>count</th>\n",
       "      <td>4080</td>\n",
       "      <td>2916</td>\n",
       "      <td>4080</td>\n",
       "    </tr>\n",
       "    <tr>\n",
       "      <th>unique</th>\n",
       "      <td>3696</td>\n",
       "      <td>2460</td>\n",
       "      <td>4</td>\n",
       "    </tr>\n",
       "    <tr>\n",
       "      <th>top</th>\n",
       "      <td>Mais Escuro - Cinquenta Tons Mais Escuros Pel...</td>\n",
       "      <td>JOGO ORIGINAL. NOVO. LACRADO. PRONTA ENTREGA. ...</td>\n",
       "      <td>maquiagem</td>\n",
       "    </tr>\n",
       "    <tr>\n",
       "      <th>freq</th>\n",
       "      <td>20</td>\n",
       "      <td>39</td>\n",
       "      <td>1020</td>\n",
       "    </tr>\n",
       "  </tbody>\n",
       "</table>\n",
       "</div>"
      ],
      "text/plain": [
       "                                                     nome  \\\n",
       "count                                                4080   \n",
       "unique                                               3696   \n",
       "top      Mais Escuro - Cinquenta Tons Mais Escuros Pel...   \n",
       "freq                                                   20   \n",
       "\n",
       "                                                descricao  categoria  \n",
       "count                                                2916       4080  \n",
       "unique                                               2460          4  \n",
       "top     JOGO ORIGINAL. NOVO. LACRADO. PRONTA ENTREGA. ...  maquiagem  \n",
       "freq                                                   39       1020  "
      ]
     },
     "execution_count": 27,
     "metadata": {},
     "output_type": "execute_result"
    }
   ],
   "source": [
    "import pandas as pd\n",
    "\n",
    "df = pd.read_csv(\n",
    "    \"https://dados-ml-pln.s3-sa-east-1.amazonaws.com/produtos.csv\",\n",
    "    delimiter=\";\",\n",
    "    encoding='utf-8'\n",
    ")\n",
    "\n",
    "df.describe()"
   ]
  },
  {
   "cell_type": "code",
   "execution_count": 28,
   "metadata": {},
   "outputs": [
    {
     "data": {
      "text/plain": [
       "(2916, 3)"
      ]
     },
     "execution_count": 28,
     "metadata": {},
     "output_type": "execute_result"
    }
   ],
   "source": [
    "df.dropna(inplace=True) # dropna(inplace=True), inplace=True => modifica o próprio objeto. dropna(inplace=False), inplace=False => retorma uma cópia do objeto\n",
    "df.shape"
   ]
  },
  {
   "cell_type": "code",
   "execution_count": 31,
   "metadata": {},
   "outputs": [
    {
     "data": {
      "text/plain": [
       "' O Hobbit - 7ª Ed. 2013 Produto NovoBilbo Bolseiro é um hobbit que leva uma vida confortável e sem ambições. Mas seu contentamento é perturbado quando Gandalf, o mago, e uma companhia de anões batem à sua porta e levam-no para uma expedição. Eles têm um plano para roubar o tesouro guardado por Smaug, o Magnífico, um grande e perigoso dragão. Bilbo reluta muito em participar da aventura, mas acaba surpreendendo até a si mesmo com sua esperteza e sua habilidade como ladrão!CaracterísticasAutor: Tolkien, J. R. R.Peso: 0.44I.S.B.N.: 9788578277109Altura: 20.000000Largura: 13.000000Profundidade: 1.000000Número de Páginas: 328Idioma: PortuguêsAcabamento: BrochuraNúmero da edição: 7Ano da edição: 2013'"
      ]
     },
     "execution_count": 31,
     "metadata": {},
     "output_type": "execute_result"
    }
   ],
   "source": [
    "df['nome_descricao'] = df['nome'] + df['descricao']\n",
    "\n",
    "df.nome_descricao[0]"
   ]
  },
  {
   "cell_type": "code",
   "execution_count": 30,
   "metadata": {},
   "outputs": [
    {
     "data": {
      "text/html": [
       "<div>\n",
       "<style scoped>\n",
       "    .dataframe tbody tr th:only-of-type {\n",
       "        vertical-align: middle;\n",
       "    }\n",
       "\n",
       "    .dataframe tbody tr th {\n",
       "        vertical-align: top;\n",
       "    }\n",
       "\n",
       "    .dataframe thead th {\n",
       "        text-align: right;\n",
       "    }\n",
       "</style>\n",
       "<table border=\"1\" class=\"dataframe\">\n",
       "  <thead>\n",
       "    <tr style=\"text-align: right;\">\n",
       "      <th></th>\n",
       "      <th>nome</th>\n",
       "      <th>descricao</th>\n",
       "      <th>categoria</th>\n",
       "      <th>nome_descricao</th>\n",
       "    </tr>\n",
       "  </thead>\n",
       "  <tbody>\n",
       "    <tr>\n",
       "      <th>0</th>\n",
       "      <td>O Hobbit - 7ª Ed. 2013</td>\n",
       "      <td>Produto NovoBilbo Bolseiro é um hobbit que lev...</td>\n",
       "      <td>livro</td>\n",
       "      <td>O Hobbit - 7ª Ed. 2013 Produto NovoBilbo Bols...</td>\n",
       "    </tr>\n",
       "    <tr>\n",
       "      <th>1</th>\n",
       "      <td>Livro - It A Coisa - Stephen King</td>\n",
       "      <td>Produto NovoDurante as férias escolares de 195...</td>\n",
       "      <td>livro</td>\n",
       "      <td>Livro - It A Coisa - Stephen King Produto Nov...</td>\n",
       "    </tr>\n",
       "    <tr>\n",
       "      <th>2</th>\n",
       "      <td>Box  As Crônicas De Gelo E Fogo  Pocket  5 Li...</td>\n",
       "      <td>Produto NovoTodo o reino de Westeros ao alcanc...</td>\n",
       "      <td>livro</td>\n",
       "      <td>Box  As Crônicas De Gelo E Fogo  Pocket  5 Li...</td>\n",
       "    </tr>\n",
       "    <tr>\n",
       "      <th>3</th>\n",
       "      <td>Box Harry Potter</td>\n",
       "      <td>Produto Novo e Físico  A série Harry Potter ch...</td>\n",
       "      <td>livro</td>\n",
       "      <td>Box Harry Potter Produto Novo e Físico  A sér...</td>\n",
       "    </tr>\n",
       "    <tr>\n",
       "      <th>4</th>\n",
       "      <td>Livro Origem - Dan Brown</td>\n",
       "      <td>Produto NovoDe Onde Viemos? Para Onde Vamos? R...</td>\n",
       "      <td>livro</td>\n",
       "      <td>Livro Origem - Dan Brown Produto NovoDe Onde ...</td>\n",
       "    </tr>\n",
       "  </tbody>\n",
       "</table>\n",
       "</div>"
      ],
      "text/plain": [
       "                                                nome  \\\n",
       "0                            O Hobbit - 7ª Ed. 2013    \n",
       "1                 Livro - It A Coisa - Stephen King    \n",
       "2   Box  As Crônicas De Gelo E Fogo  Pocket  5 Li...   \n",
       "3                                  Box Harry Potter    \n",
       "4                          Livro Origem - Dan Brown    \n",
       "\n",
       "                                           descricao categoria  \\\n",
       "0  Produto NovoBilbo Bolseiro é um hobbit que lev...     livro   \n",
       "1  Produto NovoDurante as férias escolares de 195...     livro   \n",
       "2  Produto NovoTodo o reino de Westeros ao alcanc...     livro   \n",
       "3  Produto Novo e Físico  A série Harry Potter ch...     livro   \n",
       "4  Produto NovoDe Onde Viemos? Para Onde Vamos? R...     livro   \n",
       "\n",
       "                                      nome_descricao  \n",
       "0   O Hobbit - 7ª Ed. 2013 Produto NovoBilbo Bols...  \n",
       "1   Livro - It A Coisa - Stephen King Produto Nov...  \n",
       "2   Box  As Crônicas De Gelo E Fogo  Pocket  5 Li...  \n",
       "3   Box Harry Potter Produto Novo e Físico  A sér...  \n",
       "4   Livro Origem - Dan Brown Produto NovoDe Onde ...  "
      ]
     },
     "execution_count": 30,
     "metadata": {},
     "output_type": "execute_result"
    }
   ],
   "source": [
    "df.head()"
   ]
  },
  {
   "cell_type": "code",
   "execution_count": 32,
   "metadata": {},
   "outputs": [
    {
     "name": "stderr",
     "output_type": "stream",
     "text": [
      "[nltk_data] Downloading package stopwords to\n",
      "[nltk_data]     C:\\Users\\BRJUVEN1\\AppData\\Roaming\\nltk_data...\n",
      "[nltk_data]   Unzipping corpora\\stopwords.zip.\n"
     ]
    },
    {
     "data": {
      "text/plain": [
       "True"
      ]
     },
     "execution_count": 32,
     "metadata": {},
     "output_type": "execute_result"
    }
   ],
   "source": [
    "import nltk\n",
    "nltk.download('stopwords')"
   ]
  },
  {
   "cell_type": "code",
   "execution_count": 33,
   "metadata": {},
   "outputs": [
    {
     "name": "stdout",
     "output_type": "stream",
     "text": [
      "UNIGRAMAS com STOPWORDS 35466\n"
     ]
    }
   ],
   "source": [
    "from sklearn.feature_extraction.text import CountVectorizer\n",
    "\n",
    "vect = CountVectorizer(ngram_range=(1,1))\n",
    "vect.fit(df.nome_descricao)\n",
    "text_vect = vect.transform(df.nome_descricao)\n",
    "\n",
    "print('UNIGRAMAS com STOPWORDS', text_vect.shape[1])"
   ]
  },
  {
   "cell_type": "code",
   "execution_count": 34,
   "metadata": {},
   "outputs": [
    {
     "data": {
      "text/plain": [
       "(2916, 35466)"
      ]
     },
     "execution_count": 34,
     "metadata": {},
     "output_type": "execute_result"
    }
   ],
   "source": [
    "text_vect.shape"
   ]
  },
  {
   "cell_type": "code",
   "execution_count": 37,
   "metadata": {},
   "outputs": [
    {
     "name": "stdout",
     "output_type": "stream",
     "text": [
      "UNIGRAMAS sem STOPWORDS 35310\n"
     ]
    }
   ],
   "source": [
    "stopwords = nltk.corpus.stopwords.words('portuguese')\n",
    "\n",
    "vect = CountVectorizer(ngram_range=(1,1), stop_words=stopwords)\n",
    "vect.fit(df.nome_descricao)\n",
    "text_vect = vect.transform(df.nome_descricao)\n",
    "\n",
    "print('UNIGRAMAS sem STOPWORDS', text_vect.shape[1])"
   ]
  },
  {
   "cell_type": "code",
   "execution_count": 38,
   "metadata": {},
   "outputs": [
    {
     "name": "stdout",
     "output_type": "stream",
     "text": [
      "BIGRAMAS sem STOPWORDS 145409\n"
     ]
    }
   ],
   "source": [
    "vect = CountVectorizer(ngram_range=(2,2), stop_words=stopwords)\n",
    "vect.fit(df.nome_descricao)\n",
    "text_vect = vect.transform(df.nome_descricao)\n",
    "\n",
    "print('BIGRAMAS sem STOPWORDS', text_vect.shape[1])"
   ]
  },
  {
   "cell_type": "code",
   "execution_count": 39,
   "metadata": {},
   "outputs": [
    {
     "name": "stdout",
     "output_type": "stream",
     "text": [
      "TRIGRAMAS sem STOPWORDS 177869\n"
     ]
    }
   ],
   "source": [
    "vect = CountVectorizer(ngram_range=(3,3), stop_words=stopwords)\n",
    "vect.fit(df.nome_descricao)\n",
    "text_vect = vect.transform(df.nome_descricao)\n",
    "\n",
    "print('TRIGRAMAS sem STOPWORDS', text_vect.shape[1])"
   ]
  },
  {
   "cell_type": "code",
   "execution_count": 11,
   "metadata": {},
   "outputs": [
    {
     "name": "stdout",
     "output_type": "stream",
     "text": [
      "0       [O, Hobbit, -, 7ª, Ed, ., 2013, Produto, NovoB...\n",
      "1       [Livro, -, It, A, Coisa, -, Stephen, King, Pro...\n",
      "2       [Box, As, Crônicas, De, Gelo, E, Fogo, Pocket,...\n",
      "3       [Box, Harry, Potter, Produto, Novo, e, Físico,...\n",
      "4       [Livro, Origem, -, Dan, Brown, Produto, NovoDe...\n",
      "                              ...                        \n",
      "4073    [Red, Dead, Redemption, Edição, Do, Ano, Goty,...\n",
      "4074    [Jogo, Gta, 5, Grand, Theft, Auto, V, Ps4, Míd...\n",
      "4075    [Zelda, :, Breath, Of, The, Wild, -, Expansion...\n",
      "4078    [Gta, San, Andreas, Hd, Remastered, Ps3, Envio...\n",
      "4079    [Mini, Game, Nova, Portátil, 10mil, Jogos, Pla...\n",
      "Name: nome_descricao, Length: 2916, dtype: object\n"
     ]
    }
   ],
   "source": [
    "\n",
    "print(df.nome_descricao.apply(word_tokenize))\n",
    "\n",
    "df['tokens'] = df.nome_descricao.apply(word_tokenize)\n"
   ]
  },
  {
   "cell_type": "code",
   "execution_count": 13,
   "metadata": {},
   "outputs": [
    {
     "data": {
      "text/plain": [
       "0       [O, Hobbit, -, 7ª, Ed, ., 2013, Produto, NovoB...\n",
       "1       [Livro, -, It, A, Coisa, -, Stephen, King, Pro...\n",
       "2       [Box, As, Crônicas, De, Gelo, E, Fogo, Pocket,...\n",
       "3       [Box, Harry, Potter, Produto, Novo, e, Físico,...\n",
       "4       [Livro, Origem, -, Dan, Brown, Produto, NovoDe...\n",
       "                              ...                        \n",
       "4073    [Red, Dead, Redemption, Edição, Do, Ano, Goty,...\n",
       "4074    [Jogo, Gta, 5, Grand, Theft, Auto, V, Ps4, Míd...\n",
       "4075    [Zelda, :, Breath, Of, The, Wild, -, Expansion...\n",
       "4078    [Gta, San, Andreas, Hd, Remastered, Ps3, Envio...\n",
       "4079    [Mini, Game, Nova, Portátil, 10mil, Jogos, Pla...\n",
       "Name: tokens, Length: 2916, dtype: object"
      ]
     },
     "execution_count": 13,
     "metadata": {},
     "output_type": "execute_result"
    }
   ],
   "source": [
    "df.tokens"
   ]
  },
  {
   "cell_type": "code",
   "execution_count": 25,
   "metadata": {},
   "outputs": [
    {
     "ename": "TypeError",
     "evalue": "get_stop_words() takes 1 positional argument but 2 were given",
     "output_type": "error",
     "traceback": [
      "\u001b[1;31m---------------------------------------------------------------------------\u001b[0m",
      "\u001b[1;31mTypeError\u001b[0m                                 Traceback (most recent call last)",
      "\u001b[1;32m<ipython-input-25-75fa76956ecf>\u001b[0m in \u001b[0;36m<module>\u001b[1;34m\u001b[0m\n\u001b[0;32m      2\u001b[0m \u001b[1;33m\u001b[0m\u001b[0m\n\u001b[0;32m      3\u001b[0m \u001b[0mvect\u001b[0m \u001b[1;33m=\u001b[0m \u001b[0mCountVectorizer\u001b[0m\u001b[1;33m(\u001b[0m\u001b[0mngram_range\u001b[0m\u001b[1;33m=\u001b[0m\u001b[1;33m(\u001b[0m\u001b[1;36m1\u001b[0m\u001b[1;33m,\u001b[0m\u001b[1;36m1\u001b[0m\u001b[1;33m)\u001b[0m\u001b[1;33m)\u001b[0m\u001b[1;33m\u001b[0m\u001b[1;33m\u001b[0m\u001b[0m\n\u001b[1;32m----> 4\u001b[1;33m \u001b[0mtext_stopwords\u001b[0m \u001b[1;33m=\u001b[0m \u001b[0mvect\u001b[0m\u001b[1;33m.\u001b[0m\u001b[0mget_stop_words\u001b[0m\u001b[1;33m(\u001b[0m\u001b[0mdf\u001b[0m\u001b[1;33m.\u001b[0m\u001b[0mnome_descricao\u001b[0m\u001b[1;33m[\u001b[0m\u001b[1;36m1\u001b[0m\u001b[1;33m]\u001b[0m\u001b[1;33m)\u001b[0m\u001b[1;33m\u001b[0m\u001b[1;33m\u001b[0m\u001b[0m\n\u001b[0m\u001b[0;32m      5\u001b[0m \u001b[1;31m#text_vect = vect.transform(df.tokens)\u001b[0m\u001b[1;33m\u001b[0m\u001b[1;33m\u001b[0m\u001b[1;33m\u001b[0m\u001b[0m\n\u001b[0;32m      6\u001b[0m \u001b[1;33m\u001b[0m\u001b[0m\n",
      "\u001b[1;31mTypeError\u001b[0m: get_stop_words() takes 1 positional argument but 2 were given"
     ]
    }
   ],
   "source": [
    "from sklearn.feature_extraction.text import CountVectorizer\n",
    "\n",
    "vect = CountVectorizer(ngram_range=(1,1))\n",
    "text_stopwords = vect.get_stop_words(df.nome_descricao[1])\n",
    "#text_vect = vect.transform(df.tokens)\n",
    "\n",
    "#print(pd.DataFrame(text_vect.A, columns=vect.get_feature_names()).to_string())"
   ]
  },
  {
   "cell_type": "code",
   "execution_count": null,
   "metadata": {},
   "outputs": [],
   "source": []
  }
 ],
 "metadata": {
  "kernelspec": {
   "display_name": "Python 3",
   "language": "python",
   "name": "python3"
  },
  "language_info": {
   "codemirror_mode": {
    "name": "ipython",
    "version": 3
   },
   "file_extension": ".py",
   "mimetype": "text/x-python",
   "name": "python",
   "nbconvert_exporter": "python",
   "pygments_lexer": "ipython3",
   "version": "3.7.7"
  }
 },
 "nbformat": 4,
 "nbformat_minor": 4
}
