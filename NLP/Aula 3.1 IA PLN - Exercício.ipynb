{
  "nbformat": 4,
  "nbformat_minor": 0,
  "metadata": {
    "colab": {
      "name": "Aula 3 IA PLN - Exercício.ipynb",
      "provenance": [],
      "collapsed_sections": []
    },
    "kernelspec": {
      "name": "python3",
      "display_name": "Python 3"
    }
  },
  "cells": [
    {
      "cell_type": "markdown",
      "metadata": {
        "id": "JdelQOET5rDj",
        "colab_type": "text"
      },
      "source": [
        "## Carregando dataset\n",
        "\n",
        "---\n"
      ]
    },
    {
      "cell_type": "code",
      "metadata": {
        "id": "d4CKjpwJ2DD2",
        "colab_type": "code",
        "outputId": "48bc0300-344d-4e92-afca-d7ef2d6a7a6b",
        "colab": {
          "base_uri": "https://localhost:8080/",
          "height": 173
        }
      },
      "source": [
        "import pandas as pd\n",
        "\n",
        "df = pd.read_csv(\"https://dados-ml-pln.s3-sa-east-1.amazonaws.com/produtos.csv\", delimiter=\";\", encoding='utf-8')\n",
        "df.describe()"
      ],
      "execution_count": 0,
      "outputs": [
        {
          "output_type": "execute_result",
          "data": {
            "text/html": [
              "<div>\n",
              "<style scoped>\n",
              "    .dataframe tbody tr th:only-of-type {\n",
              "        vertical-align: middle;\n",
              "    }\n",
              "\n",
              "    .dataframe tbody tr th {\n",
              "        vertical-align: top;\n",
              "    }\n",
              "\n",
              "    .dataframe thead th {\n",
              "        text-align: right;\n",
              "    }\n",
              "</style>\n",
              "<table border=\"1\" class=\"dataframe\">\n",
              "  <thead>\n",
              "    <tr style=\"text-align: right;\">\n",
              "      <th></th>\n",
              "      <th>nome</th>\n",
              "      <th>descricao</th>\n",
              "      <th>categoria</th>\n",
              "    </tr>\n",
              "  </thead>\n",
              "  <tbody>\n",
              "    <tr>\n",
              "      <th>count</th>\n",
              "      <td>4080</td>\n",
              "      <td>2916</td>\n",
              "      <td>4080</td>\n",
              "    </tr>\n",
              "    <tr>\n",
              "      <th>unique</th>\n",
              "      <td>3696</td>\n",
              "      <td>2460</td>\n",
              "      <td>4</td>\n",
              "    </tr>\n",
              "    <tr>\n",
              "      <th>top</th>\n",
              "      <td>Bonecos Brinquedo Vingadores 30 Cm Com Luz E...</td>\n",
              "      <td>JOGO ORIGINAL. NOVO. LACRADO. PRONTA ENTREGA. ...</td>\n",
              "      <td>maquiagem</td>\n",
              "    </tr>\n",
              "    <tr>\n",
              "      <th>freq</th>\n",
              "      <td>20</td>\n",
              "      <td>39</td>\n",
              "      <td>1020</td>\n",
              "    </tr>\n",
              "  </tbody>\n",
              "</table>\n",
              "</div>"
            ],
            "text/plain": [
              "                                                     nome  ...  categoria\n",
              "count                                                4080  ...       4080\n",
              "unique                                               3696  ...          4\n",
              "top       Bonecos Brinquedo Vingadores 30 Cm Com Luz E...  ...  maquiagem\n",
              "freq                                                   20  ...       1020\n",
              "\n",
              "[4 rows x 3 columns]"
            ]
          },
          "metadata": {
            "tags": []
          },
          "execution_count": 11
        }
      ]
    },
    {
      "cell_type": "code",
      "metadata": {
        "id": "2R6-1s4wqEiq",
        "colab_type": "code",
        "outputId": "f910c4c6-f203-47ab-9b57-b7ce913f7a29",
        "colab": {
          "base_uri": "https://localhost:8080/",
          "height": 54
        }
      },
      "source": [
        "df.dropna(inplace=True)\n",
        "\n",
        "df[\"texto\"] = df['nome'] + \" \" + df['descricao']\n",
        "\n",
        "df.texto[0]"
      ],
      "execution_count": 0,
      "outputs": [
        {
          "output_type": "execute_result",
          "data": {
            "text/plain": [
              "' O Hobbit - 7ª Ed. 2013  Produto NovoBilbo Bolseiro é um hobbit que leva uma vida confortável e sem ambições. Mas seu contentamento é perturbado quando Gandalf, o mago, e uma companhia de anões batem à sua porta e levam-no para uma expedição. Eles têm um plano para roubar o tesouro guardado por Smaug, o Magnífico, um grande e perigoso dragão. Bilbo reluta muito em participar da aventura, mas acaba surpreendendo até a si mesmo com sua esperteza e sua habilidade como ladrão!CaracterísticasAutor: Tolkien, J. R. R.Peso: 0.44I.S.B.N.: 9788578277109Altura: 20.000000Largura: 13.000000Profundidade: 1.000000Número de Páginas: 328Idioma: PortuguêsAcabamento: BrochuraNúmero da edição: 7Ano da edição: 2013'"
            ]
          },
          "metadata": {
            "tags": []
          },
          "execution_count": 15
        }
      ]
    },
    {
      "cell_type": "code",
      "metadata": {
        "id": "asamUCYf5FKE",
        "colab_type": "code",
        "colab": {}
      },
      "source": [
        "import nltk\n",
        "nltk.download('stopwords')"
      ],
      "execution_count": 0,
      "outputs": []
    },
    {
      "cell_type": "code",
      "metadata": {
        "id": "LjJ2k_fX5JgG",
        "colab_type": "code",
        "colab": {}
      },
      "source": [
        "# 1 - Contagem de termos com unigrama\n",
        "from sklearn.feature_extraction.text import CountVectorizer\n",
        "\n",
        "stops = nltk.corpus.stopwords.words('portuguese')\n",
        "\n",
        "#vect = CountVectorizer()\n",
        "#vect = CountVectorizer(ngram_range=(1,1))\n",
        "vect = CountVectorizer(ngram_range=(1,1), stop_words=stops)\n",
        "vect.fit(df.texto)\n",
        "text_vect = vect.transform(df.texto)"
      ],
      "execution_count": 0,
      "outputs": []
    },
    {
      "cell_type": "code",
      "metadata": {
        "id": "alnbcBIeAD5Y",
        "colab_type": "code",
        "colab": {}
      },
      "source": [
        "# 2 - TF-IDF com unigrama - referencia\n",
        "from sklearn.feature_extraction.text import TfidfVectorizer\n",
        "\n",
        "stops = nltk.corpus.stopwords.words('portuguese')\n",
        "\n",
        "#vect = TfidfVectorizer(ngram_range=(1,1), use_idf=True)\n",
        "vect = TfidfVectorizer(ngram_range=(1,1), use_idf=True, stop_words=stops)\n",
        "vect.fit(df.texto)\n",
        "text_vect = vect.transform(df.texto)"
      ],
      "execution_count": 0,
      "outputs": []
    },
    {
      "cell_type": "code",
      "metadata": {
        "id": "aLvlJixSXWS7",
        "colab_type": "code",
        "outputId": "cc81aaa6-5334-431f-cd22-f7ff66a43b38",
        "colab": {
          "base_uri": "https://localhost:8080/",
          "height": 221
        }
      },
      "source": [
        "# 3 - TF-IDF com unigrama e aplicando o stemização RSLP\n",
        "from nltk.tokenize import word_tokenize\n",
        "import nltk\n",
        "nltk.download('punkt')\n",
        "\n",
        "df['tokens'] = df.texto.apply(word_tokenize)\n",
        "\n",
        "from nltk.stem.rslp import RSLPStemmer\n",
        "import nltk\n",
        "nltk.download('rslp')\n",
        "\n",
        "rslp = RSLPStemmer()\n",
        "\n",
        "def stem_pandas(line):\n",
        "  return ' '.join([rslp.stem(token) for token in line])\n",
        "\n",
        "df['stemmer'] = df.tokens.apply(stem_pandas)"
      ],
      "execution_count": 0,
      "outputs": [
        {
          "output_type": "execute_result",
          "data": {
            "text/plain": [
              "0       o hobbit - 7ª ed . 2013 produt novobilb bols é...\n",
              "1       livr - it a cois - stephen king produt novodur...\n",
              "2       box as crôn de gel e fog pocket 5 livr produt ...\n",
              "3       box harry pott produt nov e físic a séri harry...\n",
              "4       livr orig - dan brown produt novod ond vi ? pa...\n",
              "                              ...                        \n",
              "4073    red dead redemption ediç do ano goty xbox 360 ...\n",
              "4074    jog gta 5 grand theft aut v ps4 míd cd + map p...\n",
              "4075    zeld : breath of the wild - expansion pas - dl...\n",
              "4078    gta san andre hd remastered ps3 envi imediat n...\n",
              "4079    min gam nov portátil 10mil jog play mp3 mp4 mp...\n",
              "Name: stemmer, Length: 2916, dtype: object"
            ]
          },
          "metadata": {
            "tags": []
          },
          "execution_count": 51
        }
      ]
    },
    {
      "cell_type": "code",
      "metadata": {
        "id": "Sna9IuI8fwhz",
        "colab_type": "code",
        "outputId": "d1631a38-3845-42dc-a004-932e9f9bf3cb",
        "colab": {
          "base_uri": "https://localhost:8080/",
          "height": 51
        }
      },
      "source": [
        "from sklearn.feature_extraction.text import TfidfVectorizer\n",
        "\n",
        "stops = nltk.corpus.stopwords.words('portuguese')\n",
        "\n",
        "#vect = TfidfVectorizer(ngram_range=(1,1), use_idf=True)\n",
        "vect = TfidfVectorizer(ngram_range=(1,1), use_idf=True, stop_words=stops)\n",
        "#vect = TfidfVectorizer(ngram_range=(1,2), use_idf=False, stop_words=stops)\n",
        "\n",
        "vect.fit(df.stemmer)\n",
        "text_vect = vect.transform(df.stemmer)"
      ],
      "execution_count": 0,
      "outputs": [
        {
          "output_type": "execute_result",
          "data": {
            "text/plain": [
              "<2916x26528 sparse matrix of type '<class 'numpy.float64'>'\n",
              "\twith 265469 stored elements in Compressed Sparse Row format>"
            ]
          },
          "metadata": {
            "tags": []
          },
          "execution_count": 53
        }
      ]
    },
    {
      "cell_type": "code",
      "metadata": {
        "id": "t6vuWOoR5OCt",
        "colab_type": "code",
        "colab": {}
      },
      "source": [
        "from sklearn.model_selection import train_test_split\n",
        "\n",
        "X_train,X_test,y_train,y_test = train_test_split(\n",
        "    text_vect, \n",
        "    df[\"categoria\"],\n",
        "    test_size = 0.2, \n",
        "    random_state = 42\n",
        ")"
      ],
      "execution_count": 0,
      "outputs": []
    },
    {
      "cell_type": "code",
      "metadata": {
        "id": "_EPOBDUH5pK0",
        "colab_type": "code",
        "outputId": "d231a068-5ccb-4f62-d267-0d68017d6a97",
        "colab": {
          "base_uri": "https://localhost:8080/",
          "height": 34
        }
      },
      "source": [
        "from sklearn.tree import DecisionTreeClassifier\n",
        "\n",
        "tree = DecisionTreeClassifier(random_state=42)\n",
        "tree.fit(X_train, y_train)\n",
        "\n",
        "#tree.score(X_train, y_train)\n",
        "tree.score(X_test, y_test)"
      ],
      "execution_count": 0,
      "outputs": [
        {
          "output_type": "execute_result",
          "data": {
            "text/plain": [
              "0.9623287671232876"
            ]
          },
          "metadata": {
            "tags": []
          },
          "execution_count": 59
        }
      ]
    },
    {
      "cell_type": "markdown",
      "metadata": {
        "id": "CQjbk1lVkW_d",
        "colab_type": "text"
      },
      "source": [
        "Exemplo 1 - 0.9554794520547946\n",
        "\n",
        "Exemplo 2 - 0.9537671232876712\n",
        "\n",
        "Exemplo 3 - 0.9434931506849316\n",
        "\n",
        "Exemplo 4 - 0.9503424657534246\n",
        "\n",
        "Exemplo 5 - 0.9623287671232876\n",
        "\n",
        "0.9212328767123288"
      ]
    },
    {
      "cell_type": "code",
      "metadata": {
        "id": "02ojybJ26FnR",
        "colab_type": "code",
        "outputId": "3b19b021-6814-4ebc-8370-ed1346a6572b",
        "colab": {
          "base_uri": "https://localhost:8080/",
          "height": 34
        }
      },
      "source": [
        "from sklearn.metrics import accuracy_score\n",
        "\n",
        "y_prediction = tree.predict(X_test)\n",
        "\n",
        "accuracy = accuracy_score(y_prediction, y_test)\n",
        "\n",
        "print(accuracy)"
      ],
      "execution_count": 0,
      "outputs": [
        {
          "output_type": "stream",
          "text": [
            "0.9623287671232876\n"
          ],
          "name": "stdout"
        }
      ]
    },
    {
      "cell_type": "code",
      "metadata": {
        "id": "Wx6LKARr6VZT",
        "colab_type": "code",
        "outputId": "ebd29147-03df-40e6-d905-e7598769b80f",
        "colab": {
          "base_uri": "https://localhost:8080/",
          "height": 51
        }
      },
      "source": [
        "texto = \"\"\"\n",
        "Maleta Exclusiva Ruby Rose Profissional Completa. \n",
        "\"\"\"\n",
        "\n",
        "texto_vetor = vect.transform([texto])"
      ],
      "execution_count": 0,
      "outputs": [
        {
          "output_type": "execute_result",
          "data": {
            "text/plain": [
              "<1x35310 sparse matrix of type '<class 'numpy.float64'>'\n",
              "\twith 6 stored elements in Compressed Sparse Row format>"
            ]
          },
          "metadata": {
            "tags": []
          },
          "execution_count": 66
        }
      ]
    },
    {
      "cell_type": "code",
      "metadata": {
        "id": "kk-wzPwB69Gt",
        "colab_type": "code",
        "outputId": "5c969c7f-aab0-4262-9071-3aaed91b2547",
        "colab": {
          "base_uri": "https://localhost:8080/",
          "height": 34
        }
      },
      "source": [
        "tree.predict(texto_vetor)"
      ],
      "execution_count": 0,
      "outputs": [
        {
          "output_type": "execute_result",
          "data": {
            "text/plain": [
              "array(['maquiagem'], dtype=object)"
            ]
          },
          "metadata": {
            "tags": []
          },
          "execution_count": 67
        }
      ]
    }
  ]
}