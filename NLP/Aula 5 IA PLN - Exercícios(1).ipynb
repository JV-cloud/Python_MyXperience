{
  "nbformat": 4,
  "nbformat_minor": 0,
  "metadata": {
    "colab": {
      "name": "Aula 5 IA PLN - Exercícios.ipynb",
      "provenance": [],
      "collapsed_sections": []
    },
    "kernelspec": {
      "name": "python3",
      "display_name": "Python 3"
    }
  },
  "cells": [
    {
      "cell_type": "markdown",
      "metadata": {
        "id": "0XkYIDM8FfXM",
        "colab_type": "text"
      },
      "source": [
        "# Exercícios!\n",
        "\n",
        "O código abaixo vai montar o Google Drive como um disco e torna-lo acessível para salvarmos os arquivos no drive! \n",
        "\n",
        "**É necessário apenas para quem usar o Google Colab**"
      ]
    },
    {
      "cell_type": "code",
      "metadata": {
        "id": "gxXlweBISUeW",
        "colab_type": "code",
        "outputId": "11620e43-ac74-400b-b0c9-f54aeaa11bd7",
        "colab": {
          "base_uri": "https://localhost:8080/",
          "height": 121
        }
      },
      "source": [
        "from google.colab import drive\n",
        "drive.mount('/content/gdrive', force_remount=True)"
      ],
      "execution_count": 0,
      "outputs": [
        {
          "output_type": "stream",
          "text": [
            "Go to this URL in a browser: https://accounts.google.com/o/oauth2/auth?client_id=947318989803-6bn6qk8qdgf4n4g3pfee6491hc0brc4i.apps.googleusercontent.com&redirect_uri=urn%3aietf%3awg%3aoauth%3a2.0%3aoob&response_type=code&scope=email%20https%3a%2f%2fwww.googleapis.com%2fauth%2fdocs.test%20https%3a%2f%2fwww.googleapis.com%2fauth%2fdrive%20https%3a%2f%2fwww.googleapis.com%2fauth%2fdrive.photos.readonly%20https%3a%2f%2fwww.googleapis.com%2fauth%2fpeopleapi.readonly\n",
            "\n",
            "Enter your authorization code:\n",
            "··········\n",
            "Mounted at /content/gdrive\n"
          ],
          "name": "stdout"
        }
      ]
    },
    {
      "cell_type": "markdown",
      "metadata": {
        "id": "V9eq_MySF-Z4",
        "colab_type": "text"
      },
      "source": [
        "A classe abaixo nos ajudará a acompanhar o progresso do download."
      ]
    },
    {
      "cell_type": "markdown",
      "metadata": {
        "id": "HHdyMggUGKXx",
        "colab_type": "text"
      },
      "source": [
        "##**Exercício 1**\n",
        "\n",
        "1.   Com base no dataset disponibilizado para download, carrege 10 mil linhas de forma randômica.<br/>\n",
        "    - https://dados-ml-pln.s3-sa-east-1.amazonaws.com/imdb-reviews-pt-br.csv\n",
        "2.   Crie um classificador que consiga predizer o sentimeto associado a um texto novo (não pertencente a amostra)<br/>\n"
      ]
    },
    {
      "cell_type": "code",
      "metadata": {
        "id": "NF_4jvf6-W4J",
        "colab_type": "code",
        "outputId": "f26ebf23-35b7-4780-8426-02cdc7cce9bc",
        "colab": {
          "base_uri": "https://localhost:8080/",
          "height": 34
        }
      },
      "source": [
        "import pandas as pd\n",
        "\n",
        "df = pd.read_csv(\n",
        "    'https://dados-ml-pln.s3-sa-east-1.amazonaws.com/imdb-reviews-pt-br.csv'\n",
        ").sample(10000, random_state=42)\n",
        "\n",
        "df.shape"
      ],
      "execution_count": 0,
      "outputs": [
        {
          "output_type": "execute_result",
          "data": {
            "text/plain": [
              "(10000, 4)"
            ]
          },
          "metadata": {
            "tags": []
          },
          "execution_count": 1
        }
      ]
    },
    {
      "cell_type": "code",
      "metadata": {
        "id": "-V9aFdWo-W2J",
        "colab_type": "code",
        "outputId": "dc8db2ea-2312-4bce-9cd8-bf07fc706630",
        "colab": {
          "base_uri": "https://localhost:8080/",
          "height": 195
        }
      },
      "source": [
        "df.head()"
      ],
      "execution_count": 0,
      "outputs": [
        {
          "output_type": "execute_result",
          "data": {
            "text/html": [
              "<div>\n",
              "<style scoped>\n",
              "    .dataframe tbody tr th:only-of-type {\n",
              "        vertical-align: middle;\n",
              "    }\n",
              "\n",
              "    .dataframe tbody tr th {\n",
              "        vertical-align: top;\n",
              "    }\n",
              "\n",
              "    .dataframe thead th {\n",
              "        text-align: right;\n",
              "    }\n",
              "</style>\n",
              "<table border=\"1\" class=\"dataframe\">\n",
              "  <thead>\n",
              "    <tr style=\"text-align: right;\">\n",
              "      <th></th>\n",
              "      <th>id</th>\n",
              "      <th>text_en</th>\n",
              "      <th>text_pt</th>\n",
              "      <th>sentiment</th>\n",
              "    </tr>\n",
              "  </thead>\n",
              "  <tbody>\n",
              "    <tr>\n",
              "      <th>12532</th>\n",
              "      <td>12534</td>\n",
              "      <td>This was unusual: a modern-day film which was ...</td>\n",
              "      <td>Isso era incomum: um filme moderno que era ult...</td>\n",
              "      <td>pos</td>\n",
              "    </tr>\n",
              "    <tr>\n",
              "      <th>35445</th>\n",
              "      <td>35447</td>\n",
              "      <td>Some of my old friends suggested me to watch t...</td>\n",
              "      <td>Alguns dos meus velhos amigos sugeriram que eu...</td>\n",
              "      <td>neg</td>\n",
              "    </tr>\n",
              "    <tr>\n",
              "      <th>20279</th>\n",
              "      <td>20281</td>\n",
              "      <td>What a pleasure. This is really a parody. Only...</td>\n",
              "      <td>Que prazer. Isto é realmente uma paródia. Some...</td>\n",
              "      <td>pos</td>\n",
              "    </tr>\n",
              "    <tr>\n",
              "      <th>2969</th>\n",
              "      <td>2971</td>\n",
              "      <td>There are about ten minutes about half way thr...</td>\n",
              "      <td>Há cerca de dez minutos a meio da Strangeland,...</td>\n",
              "      <td>neg</td>\n",
              "    </tr>\n",
              "    <tr>\n",
              "      <th>45161</th>\n",
              "      <td>45163</td>\n",
              "      <td>Othello, the classic Shakespearen story of lov...</td>\n",
              "      <td>Otelo, a clássica história de Shakespearen sob...</td>\n",
              "      <td>pos</td>\n",
              "    </tr>\n",
              "  </tbody>\n",
              "</table>\n",
              "</div>"
            ],
            "text/plain": [
              "          id  ... sentiment\n",
              "12532  12534  ...       pos\n",
              "35445  35447  ...       neg\n",
              "20279  20281  ...       pos\n",
              "2969    2971  ...       neg\n",
              "45161  45163  ...       pos\n",
              "\n",
              "[5 rows x 4 columns]"
            ]
          },
          "metadata": {
            "tags": []
          },
          "execution_count": 2
        }
      ]
    },
    {
      "cell_type": "code",
      "metadata": {
        "id": "lAKdhx3-UiDx",
        "colab_type": "code",
        "colab": {}
      },
      "source": [
        "df.sentiment.value_counts()"
      ],
      "execution_count": 0,
      "outputs": []
    },
    {
      "cell_type": "code",
      "metadata": {
        "id": "OfhNSFPN-Wz5",
        "colab_type": "code",
        "colab": {}
      },
      "source": [
        "from sklearn.feature_extraction.text import CountVectorizer\n",
        "\n",
        "vect = CountVectorizer(ngram_range=(1,1))\n",
        "vect.fit(df.text_pt)\n",
        "text_vect = vect.transform(df.text_pt)"
      ],
      "execution_count": 0,
      "outputs": []
    },
    {
      "cell_type": "code",
      "metadata": {
        "id": "fAlSho9F-Wvc",
        "colab_type": "code",
        "outputId": "665a6e03-000f-4403-ded2-f8500ea2e08b",
        "colab": {
          "base_uri": "https://localhost:8080/",
          "height": 34
        }
      },
      "source": [
        "text_vect.shape"
      ],
      "execution_count": 0,
      "outputs": [
        {
          "output_type": "execute_result",
          "data": {
            "text/plain": [
              "(10000, 66053)"
            ]
          },
          "metadata": {
            "tags": []
          },
          "execution_count": 20
        }
      ]
    },
    {
      "cell_type": "code",
      "metadata": {
        "id": "je0BaaWi-eel",
        "colab_type": "code",
        "outputId": "3b63beae-d716-4dac-9d98-9af215030ca5",
        "colab": {
          "base_uri": "https://localhost:8080/",
          "height": 218
        }
      },
      "source": [
        "from sklearn.model_selection import train_test_split\n",
        "\n",
        "X_train,X_test,y_train,y_test = train_test_split(\n",
        "    text_vect, \n",
        "    df.sentiment,\n",
        "    test_size = 0.2, \n",
        "    random_state = 13\n",
        ")"
      ],
      "execution_count": 0,
      "outputs": [
        {
          "output_type": "execute_result",
          "data": {
            "text/plain": [
              "12532    pos\n",
              "35445    neg\n",
              "20279    pos\n",
              "2969     neg\n",
              "45161    pos\n",
              "        ... \n",
              "25219    neg\n",
              "30693    neg\n",
              "20915    pos\n",
              "14933    pos\n",
              "45388    pos\n",
              "Name: sentiment, Length: 10000, dtype: object"
            ]
          },
          "metadata": {
            "tags": []
          },
          "execution_count": 14
        }
      ]
    },
    {
      "cell_type": "code",
      "metadata": {
        "id": "yStWKGh3-ecZ",
        "colab_type": "code",
        "outputId": "32948fed-4268-459e-92a8-bbdaf9f9620e",
        "colab": {
          "base_uri": "https://localhost:8080/",
          "height": 34
        }
      },
      "source": [
        "from sklearn.tree import DecisionTreeClassifier\n",
        "from sklearn.metrics import accuracy_score\n",
        "\n",
        "tree = DecisionTreeClassifier(random_state=13)\n",
        "tree.fit(X_train, y_train)\n",
        "\n",
        "y_prediction = tree.predict(X_test)\n",
        "\n",
        "acc = accuracy_score(y_prediction, y_test)\n",
        "\n",
        "print(acc)"
      ],
      "execution_count": 0,
      "outputs": [
        {
          "output_type": "stream",
          "text": [
            "0.675\n"
          ],
          "name": "stdout"
        }
      ]
    },
    {
      "cell_type": "code",
      "metadata": {
        "id": "EkDwKEiv-eaA",
        "colab_type": "code",
        "outputId": "6258edeb-8642-47b7-9119-5ca1deb3ee7e",
        "colab": {
          "base_uri": "https://localhost:8080/",
          "height": 34
        }
      },
      "source": [
        "text = vect.transform([\n",
        "    'Eu não consegui assistir até o fim. Esse filme é muito legal! '\n",
        "])\n",
        "tree.predict(text)[0]"
      ],
      "execution_count": 0,
      "outputs": [
        {
          "output_type": "execute_result",
          "data": {
            "text/plain": [
              "'pos'"
            ]
          },
          "metadata": {
            "tags": []
          },
          "execution_count": 19
        }
      ]
    },
    {
      "cell_type": "markdown",
      "metadata": {
        "id": "KWENeWYAGkjn",
        "colab_type": "text"
      },
      "source": [
        "##**Exercício 2**\n",
        "\n",
        "1.   Crie uma função que substitua uma ou mais palavras de um texto um uma palavra similar com base na sua classe gramatical.\n",
        "2.   Extenda essa função para considerar uma substituição positiva ou negativa."
      ]
    },
    {
      "cell_type": "code",
      "metadata": {
        "id": "VsZnhUeTSEWs",
        "colab_type": "code",
        "colab": {}
      },
      "source": [
        "!pip install scipy==1.2.0\n",
        "!pip install gensim==2.0.0\n",
        "#Obs: pode ser necessário reiniciar o Runtime do colab\n",
        "\n",
        "#!pip install spacy\n",
        "#!python -m spacy download pt\n",
        "!python -m spacy download pt_core_news_sm"
      ],
      "execution_count": 0,
      "outputs": []
    },
    {
      "cell_type": "code",
      "metadata": {
        "colab_type": "code",
        "id": "6RS5-IGwGHVK",
        "colab": {}
      },
      "source": [
        "from urllib.request import urlretrieve\n",
        "from os.path import isfile, isdir\n",
        "from tqdm import tqdm\n",
        "import zipfile\n",
        "\n",
        "class DLProgress(tqdm):\n",
        "  last_block = 0\n",
        "\n",
        "  def hook(self, block_num=1, block_size=1, total_size=None):\n",
        "    self.total = total_size\n",
        "    self.update((block_num - self.last_block) * block_size)\n",
        "    self.last_block = block_num"
      ],
      "execution_count": 0,
      "outputs": []
    },
    {
      "cell_type": "code",
      "metadata": {
        "id": "OPariLVhh6-T",
        "colab_type": "code",
        "colab": {}
      },
      "source": [
        "url = 'http://143.107.183.175:22980/download.php?file=embeddings/word2vec/cbow_s300.zip'\n",
        "#url = 'https://dados-ml-pln.s3-sa-east-1.amazonaws.com/cbow_s300.zip'\n",
        "\n",
        "tar_gz_path = '/content/gdrive/My Drive/FIAP/NLP/cbow_s300.zip'\n",
        "\n",
        "if not isfile(tar_gz_path):\n",
        "  with DLProgress(unit='B', unit_scale=True, miniters=1, desc='Word2Vec Model') as pbar:\n",
        "    urlretrieve(\n",
        "        url,\n",
        "        tar_gz_path,\n",
        "        pbar.hook)\n",
        "\n",
        "if not isfile('/content/gdrive/My Drive/FIAP/NLP/cbow_s300.txt'):     \n",
        "  zip_ref = zipfile.ZipFile(tar_gz_path, 'r')\n",
        "  zip_ref.extractall('/content/gdrive/My Drive/FIAP/NLP/')\n",
        "  zip_ref.close()"
      ],
      "execution_count": 0,
      "outputs": []
    },
    {
      "cell_type": "code",
      "metadata": {
        "id": "PzdSY_49kOY8",
        "colab_type": "code",
        "outputId": "cd196b81-a971-4d47-975b-121f1c846b7a",
        "colab": {
          "base_uri": "https://localhost:8080/",
          "height": 34
        }
      },
      "source": [
        "!ls -all -h /content/gdrive/My\\ Drive/FIAP/NLP/cbow_s300.txt"
      ],
      "execution_count": 0,
      "outputs": [
        {
          "output_type": "stream",
          "text": [
            "-rw------- 1 root root 2.5G May 16 00:32 '/content/gdrive/My Drive/FIAP/NLP/cbow_s300.txt'\n"
          ],
          "name": "stdout"
        }
      ]
    },
    {
      "cell_type": "code",
      "metadata": {
        "id": "Ke7wimYDJNeR",
        "colab_type": "code",
        "outputId": "0e2bdcde-9c3d-4609-984c-45b0c64f0ff5",
        "colab": {
          "base_uri": "https://localhost:8080/",
          "height": 151
        }
      },
      "source": [
        "# outro exemplo de baixar o arquivo e descompactar, só não esqueça de alterar o diretório apontando o aquivo para a raiz do colabo ao carregar o modelo\n",
        "'''\n",
        "!wget 'http://143.107.183.175:22980/download.php?file=embeddings/word2vec/cbow_s300.zip'\n",
        "!ls -la # veja o nome do arquivo compactado salvo no download\n",
        "!unzip 'download.php?file=embeddings%2Fword2vec%2Fcbow_s300.zip' # subistitua com nome do arquivo\n",
        "!ls -la\n",
        "'''"
      ],
      "execution_count": 0,
      "outputs": [
        {
          "output_type": "stream",
          "text": [
            "total 3501352\n",
            "drwxr-xr-x 1 root root       4096 Jun  6 15:08  .\n",
            "drwxr-xr-x 1 root root       4096 Jun  6 12:18  ..\n",
            "-rw-r--r-- 1 root root 2656045531 Oct  4  2018  cbow_s300.txt\n",
            "drwxr-xr-x 1 root root       4096 Jun  2 16:14  .config\n",
            "-rw-r--r-- 1 root root  929305948 Jun  6 15:02 'download.php?file=embeddings%2Fword2vec%2Fcbow_s300.zip'\n",
            "drwx------ 4 root root       4096 Jun  6 14:27  gdrive\n",
            "drwxr-xr-x 1 root root       4096 May 29 18:19  sample_data\n"
          ],
          "name": "stdout"
        }
      ]
    },
    {
      "cell_type": "code",
      "metadata": {
        "id": "EOrQB1XHkGOo",
        "colab_type": "code",
        "outputId": "4b27e725-e50c-4f25-b9e8-3b15687c5e60",
        "colab": {
          "base_uri": "https://localhost:8080/",
          "height": 70
        }
      },
      "source": [
        "from gensim.models import KeyedVectors\n",
        "\n",
        "model = KeyedVectors.load_word2vec_format('/content/gdrive/My Drive/FIAP/NLP/cbow_s300.txt')"
      ],
      "execution_count": 0,
      "outputs": [
        {
          "output_type": "stream",
          "text": [
            "/usr/local/lib/python3.6/dist-packages/smart_open/smart_open_lib.py:253: UserWarning: This function is deprecated, use smart_open.open instead. See the migration notes for details: https://github.com/RaRe-Technologies/smart_open/blob/master/README.rst#migrating-to-the-new-open-function\n",
            "  'See the migration notes for details: %s' % _MIGRATION_NOTES_URL\n"
          ],
          "name": "stderr"
        }
      ]
    },
    {
      "cell_type": "code",
      "metadata": {
        "id": "Pr2FAKz1kGMF",
        "colab_type": "code",
        "colab": {}
      },
      "source": [
        "import spacy\n",
        "\n",
        "pt = spacy.load('pt_core_news_sm')\n",
        "#pt = spacy.load('pt')\n",
        "\n",
        "def trocar_por_similar(frase, pos, sentido):\n",
        "  doc = pt(frase)\n",
        "  \n",
        "  nova_frase = []\n",
        "  for token in doc:\n",
        "    if token.pos_ == pos:\n",
        "      similares = model.most_similar_cosmul(positive=[token.text], negative=[sentido] )\n",
        "      for similar, _ in similares:\n",
        "        if similar != token.text:\n",
        "          break\n",
        "      nova_frase.append(similar)\n",
        "    else:\n",
        "      nova_frase.append(token.text)\n",
        "  return ' '.join(nova_frase)  "
      ],
      "execution_count": 0,
      "outputs": []
    },
    {
      "cell_type": "code",
      "metadata": {
        "id": "FDn-zVGSlQnJ",
        "colab_type": "code",
        "outputId": "a50790e0-d34a-43ff-bef7-145853bbebda",
        "colab": {
          "base_uri": "https://localhost:8080/",
          "height": 34
        }
      },
      "source": [
        "pt('Você é muito alto')[3].pos_"
      ],
      "execution_count": 0,
      "outputs": [
        {
          "output_type": "execute_result",
          "data": {
            "text/plain": [
              "'ADJ'"
            ]
          },
          "metadata": {
            "tags": []
          },
          "execution_count": 12
        }
      ]
    },
    {
      "cell_type": "code",
      "metadata": {
        "id": "QdoejVY5lQk7",
        "colab_type": "code",
        "outputId": "3cc824b1-03ad-475a-ffef-11768af49fc2",
        "colab": {
          "base_uri": "https://localhost:8080/",
          "height": 34
        }
      },
      "source": [
        "print(trocar_por_similar('Você é muito baixo', 'ADJ', 'feio'))"
      ],
      "execution_count": 0,
      "outputs": [
        {
          "output_type": "stream",
          "text": [
            "Você é muito elevar\n"
          ],
          "name": "stdout"
        }
      ]
    }
  ]
}