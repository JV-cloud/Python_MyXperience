{
  "nbformat": 4,
  "nbformat_minor": 0,
  "metadata": {
    "colab": {
      "name": "Aula 1.1 IA PLN - Exercício.ipynb",
      "provenance": [],
      "collapsed_sections": []
    },
    "kernelspec": {
      "name": "python3",
      "display_name": "Python 3"
    }
  },
  "cells": [
    {
      "cell_type": "markdown",
      "metadata": {
        "id": "a2BT_ZwvhEKF",
        "colab_type": "text"
      },
      "source": [
        "## Carregando o dataset"
      ]
    },
    {
      "cell_type": "code",
      "metadata": {
        "id": "MbxTY0CHaaDl",
        "colab_type": "code",
        "outputId": "9067e791-71d6-4806-a26d-4fd774d86b13",
        "colab": {
          "base_uri": "https://localhost:8080/",
          "height": 173
        }
      },
      "source": [
        "import pandas as pd\n",
        "\n",
        "df = pd.read_csv(\n",
        "    \"https://dados-ml-pln.s3-sa-east-1.amazonaws.com/produtos.csv\",\n",
        "    delimiter=\";\",\n",
        "    encoding='utf-8'\n",
        ")\n",
        "\n",
        "df.describe()"
      ],
      "execution_count": 71,
      "outputs": [
        {
          "output_type": "execute_result",
          "data": {
            "text/html": [
              "<div>\n",
              "<style scoped>\n",
              "    .dataframe tbody tr th:only-of-type {\n",
              "        vertical-align: middle;\n",
              "    }\n",
              "\n",
              "    .dataframe tbody tr th {\n",
              "        vertical-align: top;\n",
              "    }\n",
              "\n",
              "    .dataframe thead th {\n",
              "        text-align: right;\n",
              "    }\n",
              "</style>\n",
              "<table border=\"1\" class=\"dataframe\">\n",
              "  <thead>\n",
              "    <tr style=\"text-align: right;\">\n",
              "      <th></th>\n",
              "      <th>nome</th>\n",
              "      <th>descricao</th>\n",
              "      <th>categoria</th>\n",
              "    </tr>\n",
              "  </thead>\n",
              "  <tbody>\n",
              "    <tr>\n",
              "      <th>count</th>\n",
              "      <td>4080</td>\n",
              "      <td>2916</td>\n",
              "      <td>4080</td>\n",
              "    </tr>\n",
              "    <tr>\n",
              "      <th>unique</th>\n",
              "      <td>3696</td>\n",
              "      <td>2460</td>\n",
              "      <td>4</td>\n",
              "    </tr>\n",
              "    <tr>\n",
              "      <th>top</th>\n",
              "      <td>Bonecos Brinquedo Vingadores 30 Cm Com Luz E...</td>\n",
              "      <td>JOGO ORIGINAL. NOVO. LACRADO. PRONTA ENTREGA. ...</td>\n",
              "      <td>livro</td>\n",
              "    </tr>\n",
              "    <tr>\n",
              "      <th>freq</th>\n",
              "      <td>20</td>\n",
              "      <td>39</td>\n",
              "      <td>1020</td>\n",
              "    </tr>\n",
              "  </tbody>\n",
              "</table>\n",
              "</div>"
            ],
            "text/plain": [
              "                                                     nome  ... categoria\n",
              "count                                                4080  ...      4080\n",
              "unique                                               3696  ...         4\n",
              "top       Bonecos Brinquedo Vingadores 30 Cm Com Luz E...  ...     livro\n",
              "freq                                                   20  ...      1020\n",
              "\n",
              "[4 rows x 3 columns]"
            ]
          },
          "metadata": {
            "tags": []
          },
          "execution_count": 71
        }
      ]
    },
    {
      "cell_type": "code",
      "metadata": {
        "id": "TQwrws_rmaau",
        "colab_type": "code",
        "outputId": "6da40479-b8f5-4ecc-d6ba-3570351be14a",
        "colab": {
          "base_uri": "https://localhost:8080/",
          "height": 204
        }
      },
      "source": [
        "df.head()"
      ],
      "execution_count": 72,
      "outputs": [
        {
          "output_type": "execute_result",
          "data": {
            "text/html": [
              "<div>\n",
              "<style scoped>\n",
              "    .dataframe tbody tr th:only-of-type {\n",
              "        vertical-align: middle;\n",
              "    }\n",
              "\n",
              "    .dataframe tbody tr th {\n",
              "        vertical-align: top;\n",
              "    }\n",
              "\n",
              "    .dataframe thead th {\n",
              "        text-align: right;\n",
              "    }\n",
              "</style>\n",
              "<table border=\"1\" class=\"dataframe\">\n",
              "  <thead>\n",
              "    <tr style=\"text-align: right;\">\n",
              "      <th></th>\n",
              "      <th>nome</th>\n",
              "      <th>descricao</th>\n",
              "      <th>categoria</th>\n",
              "    </tr>\n",
              "  </thead>\n",
              "  <tbody>\n",
              "    <tr>\n",
              "      <th>0</th>\n",
              "      <td>O Hobbit - 7ª Ed. 2013</td>\n",
              "      <td>Produto NovoBilbo Bolseiro é um hobbit que lev...</td>\n",
              "      <td>livro</td>\n",
              "    </tr>\n",
              "    <tr>\n",
              "      <th>1</th>\n",
              "      <td>Livro - It A Coisa - Stephen King</td>\n",
              "      <td>Produto NovoDurante as férias escolares de 195...</td>\n",
              "      <td>livro</td>\n",
              "    </tr>\n",
              "    <tr>\n",
              "      <th>2</th>\n",
              "      <td>Box  As Crônicas De Gelo E Fogo  Pocket  5 Li...</td>\n",
              "      <td>Produto NovoTodo o reino de Westeros ao alcanc...</td>\n",
              "      <td>livro</td>\n",
              "    </tr>\n",
              "    <tr>\n",
              "      <th>3</th>\n",
              "      <td>Box Harry Potter</td>\n",
              "      <td>Produto Novo e Físico  A série Harry Potter ch...</td>\n",
              "      <td>livro</td>\n",
              "    </tr>\n",
              "    <tr>\n",
              "      <th>4</th>\n",
              "      <td>Livro Origem - Dan Brown</td>\n",
              "      <td>Produto NovoDe Onde Viemos? Para Onde Vamos? R...</td>\n",
              "      <td>livro</td>\n",
              "    </tr>\n",
              "  </tbody>\n",
              "</table>\n",
              "</div>"
            ],
            "text/plain": [
              "                                                nome  ... categoria\n",
              "0                            O Hobbit - 7ª Ed. 2013   ...     livro\n",
              "1                 Livro - It A Coisa - Stephen King   ...     livro\n",
              "2   Box  As Crônicas De Gelo E Fogo  Pocket  5 Li...  ...     livro\n",
              "3                                  Box Harry Potter   ...     livro\n",
              "4                          Livro Origem - Dan Brown   ...     livro\n",
              "\n",
              "[5 rows x 3 columns]"
            ]
          },
          "metadata": {
            "tags": []
          },
          "execution_count": 72
        }
      ]
    },
    {
      "cell_type": "code",
      "metadata": {
        "id": "UqLEm4Mdxllb",
        "colab_type": "code",
        "outputId": "49f0d704-5190-40e6-cdb4-06d6d4e770ea",
        "colab": {
          "base_uri": "https://localhost:8080/",
          "height": 85
        }
      },
      "source": [
        "df.count()"
      ],
      "execution_count": 73,
      "outputs": [
        {
          "output_type": "execute_result",
          "data": {
            "text/plain": [
              "nome         4080\n",
              "descricao    2916\n",
              "categoria    4080\n",
              "dtype: int64"
            ]
          },
          "metadata": {
            "tags": []
          },
          "execution_count": 73
        }
      ]
    },
    {
      "cell_type": "markdown",
      "metadata": {
        "id": "3b1AsI8DhJN3",
        "colab_type": "text"
      },
      "source": [
        "## Quais valores são nulos e qual a porcentagem?"
      ]
    },
    {
      "cell_type": "code",
      "metadata": {
        "id": "5naO2LQHb8c-",
        "colab_type": "code",
        "outputId": "b1dfcc68-214f-4809-dcc5-a3a5d0382c56",
        "colab": {
          "base_uri": "https://localhost:8080/",
          "height": 153
        }
      },
      "source": [
        "df.info()"
      ],
      "execution_count": 74,
      "outputs": [
        {
          "output_type": "stream",
          "text": [
            "<class 'pandas.core.frame.DataFrame'>\n",
            "RangeIndex: 4080 entries, 0 to 4079\n",
            "Data columns (total 3 columns):\n",
            "nome         4080 non-null object\n",
            "descricao    2916 non-null object\n",
            "categoria    4080 non-null object\n",
            "dtypes: object(3)\n",
            "memory usage: 95.8+ KB\n"
          ],
          "name": "stdout"
        }
      ]
    },
    {
      "cell_type": "code",
      "metadata": {
        "id": "clrV3b7g144v",
        "colab_type": "code",
        "outputId": "f68b2688-14fa-4a2e-fb11-520c63c57fd0",
        "colab": {
          "base_uri": "https://localhost:8080/",
          "height": 34
        }
      },
      "source": [
        "# dimensão do dataframe\n",
        "df.shape"
      ],
      "execution_count": 75,
      "outputs": [
        {
          "output_type": "execute_result",
          "data": {
            "text/plain": [
              "(4080, 3)"
            ]
          },
          "metadata": {
            "tags": []
          },
          "execution_count": 75
        }
      ]
    },
    {
      "cell_type": "code",
      "metadata": {
        "id": "jcL-fY__LlZz",
        "colab_type": "code",
        "outputId": "c44db7f9-7a2c-4ca8-ec88-92902aebf02e",
        "colab": {
          "base_uri": "https://localhost:8080/",
          "height": 34
        }
      },
      "source": [
        "print(df.shape[0], df.shape[1])"
      ],
      "execution_count": 76,
      "outputs": [
        {
          "output_type": "stream",
          "text": [
            "4080 3\n"
          ],
          "name": "stdout"
        }
      ]
    },
    {
      "cell_type": "code",
      "metadata": {
        "id": "eApVJ845oDdy",
        "colab_type": "code",
        "outputId": "f282cde6-839b-4ebe-82a7-13093f2e1e16",
        "colab": {
          "base_uri": "https://localhost:8080/",
          "height": 85
        }
      },
      "source": [
        "# conta valores faltantes/nulos/missing\n",
        "df.isnull().sum()"
      ],
      "execution_count": 77,
      "outputs": [
        {
          "output_type": "execute_result",
          "data": {
            "text/plain": [
              "nome            0\n",
              "descricao    1164\n",
              "categoria       0\n",
              "dtype: int64"
            ]
          },
          "metadata": {
            "tags": []
          },
          "execution_count": 77
        }
      ]
    },
    {
      "cell_type": "code",
      "metadata": {
        "id": "YUWD23RhbsvS",
        "colab_type": "code",
        "outputId": "ddbfd505-b4b4-42dc-93e2-07a7cd2b53f2",
        "colab": {
          "base_uri": "https://localhost:8080/",
          "height": 85
        }
      },
      "source": [
        "# calcula o % de nulos no dataset\n",
        "df.isnull().sum()/df.shape[0]"
      ],
      "execution_count": 78,
      "outputs": [
        {
          "output_type": "execute_result",
          "data": {
            "text/plain": [
              "nome         0.000000\n",
              "descricao    0.285294\n",
              "categoria    0.000000\n",
              "dtype: float64"
            ]
          },
          "metadata": {
            "tags": []
          },
          "execution_count": 78
        }
      ]
    },
    {
      "cell_type": "markdown",
      "metadata": {
        "id": "eok0vq2diIFa",
        "colab_type": "text"
      },
      "source": [
        "## Remover as linhas com valores nulos"
      ]
    },
    {
      "cell_type": "code",
      "metadata": {
        "id": "d7EsxlE8gzY0",
        "colab_type": "code",
        "outputId": "77f21083-8b7e-4c8a-8071-0990a9d70b51",
        "colab": {
          "base_uri": "https://localhost:8080/",
          "height": 153
        }
      },
      "source": [
        "df.dropna(inplace=True) # dropna(inplace=True), inplace=True => modifica o próprio objeto. dropna(inplace=False), inplace=False => retorma uma cópia do objeto\n",
        "df.info()"
      ],
      "execution_count": 79,
      "outputs": [
        {
          "output_type": "stream",
          "text": [
            "<class 'pandas.core.frame.DataFrame'>\n",
            "Int64Index: 2916 entries, 0 to 4079\n",
            "Data columns (total 3 columns):\n",
            "nome         2916 non-null object\n",
            "descricao    2916 non-null object\n",
            "categoria    2916 non-null object\n",
            "dtypes: object(3)\n",
            "memory usage: 91.1+ KB\n"
          ],
          "name": "stdout"
        }
      ]
    },
    {
      "cell_type": "markdown",
      "metadata": {
        "id": "7hUJ2U3nj1xt",
        "colab_type": "text"
      },
      "source": [
        "## Distribuição das categorias"
      ]
    },
    {
      "cell_type": "code",
      "metadata": {
        "id": "1Odl4b9aiOnA",
        "colab_type": "code",
        "outputId": "172defdd-f6fc-43f5-b79e-f5e2d328d058",
        "colab": {
          "base_uri": "https://localhost:8080/",
          "height": 102
        }
      },
      "source": [
        "df.categoria.value_counts()"
      ],
      "execution_count": 80,
      "outputs": [
        {
          "output_type": "execute_result",
          "data": {
            "text/plain": [
              "livro        838\n",
              "maquiagem    788\n",
              "brinquedo    668\n",
              "game         622\n",
              "Name: categoria, dtype: int64"
            ]
          },
          "metadata": {
            "tags": []
          },
          "execution_count": 80
        }
      ]
    },
    {
      "cell_type": "code",
      "metadata": {
        "id": "Rayb_bnNhtNS",
        "colab_type": "code",
        "outputId": "936fda1b-5a71-424b-df89-b5000bb21f9c",
        "colab": {
          "base_uri": "https://localhost:8080/",
          "height": 102
        }
      },
      "source": [
        "df.categoria.value_counts()/df.shape[0]\n",
        "# df.categoria.value_counts()/df.categoria.count() # outra forma"
      ],
      "execution_count": 81,
      "outputs": [
        {
          "output_type": "execute_result",
          "data": {
            "text/plain": [
              "livro        0.287380\n",
              "maquiagem    0.270233\n",
              "brinquedo    0.229081\n",
              "game         0.213306\n",
              "Name: categoria, dtype: float64"
            ]
          },
          "metadata": {
            "tags": []
          },
          "execution_count": 81
        }
      ]
    },
    {
      "cell_type": "code",
      "metadata": {
        "id": "r-wbgpGck87D",
        "colab_type": "code",
        "outputId": "85d6396b-05b8-4263-d1c5-a7ddb5ede9a5",
        "colab": {
          "base_uri": "https://localhost:8080/",
          "height": 278
        }
      },
      "source": [
        "df.categoria.value_counts().plot(kind='bar', figsize=(3,3))"
      ],
      "execution_count": 82,
      "outputs": [
        {
          "output_type": "execute_result",
          "data": {
            "text/plain": [
              "<matplotlib.axes._subplots.AxesSubplot at 0x7fba6628ba20>"
            ]
          },
          "metadata": {
            "tags": []
          },
          "execution_count": 82
        },
        {
          "output_type": "display_data",
          "data": {
            "image/png": "[encoded data removed]",
            "text/plain": [
              "<Figure size 216x216 with 1 Axes>"
            ]
          },
          "metadata": {
            "tags": []
          }
        }
      ]
    },
    {
      "cell_type": "code",
      "metadata": {
        "id": "7V2nr7y_jby6",
        "colab_type": "code",
        "outputId": "9a4191c4-f11c-41cc-ddce-7557652e2da1",
        "colab": {
          "base_uri": "https://localhost:8080/",
          "height": 281
        }
      },
      "source": [
        "(df.categoria.value_counts()/df.shape[0]).plot(kind='bar', figsize=(3,3))"
      ],
      "execution_count": 83,
      "outputs": [
        {
          "output_type": "execute_result",
          "data": {
            "text/plain": [
              "<matplotlib.axes._subplots.AxesSubplot at 0x7fba66289470>"
            ]
          },
          "metadata": {
            "tags": []
          },
          "execution_count": 83
        },
        {
          "output_type": "display_data",
          "data": {
            "image/png": "[encoded data removed]",
            "text/plain": [
              "<Figure size 216x216 with 1 Axes>"
            ]
          },
          "metadata": {
            "tags": []
          }
        }
      ]
    },
    {
      "cell_type": "markdown",
      "metadata": {
        "id": "zhTMo3h0oFA7",
        "colab_type": "text"
      },
      "source": [
        "## Mostrar as 10 palavras que mais ocorrem na descrição"
      ]
    },
    {
      "cell_type": "code",
      "metadata": {
        "id": "dUI05M9CuHAX",
        "colab_type": "code",
        "colab": {}
      },
      "source": [
        "from collections import Counter\n",
        "counter = Counter()\n",
        "counter['a'] += 2\n",
        "counter\n",
        "\n",
        "#counter.update('a')"
      ],
      "execution_count": 0,
      "outputs": []
    },
    {
      "cell_type": "code",
      "metadata": {
        "id": "DhnC6t6Ilafr",
        "colab_type": "code",
        "colab": {}
      },
      "source": [
        "from collections import Counter # implementa um container de tipo de dados. Ex: dict, list, set, and tuple\n",
        "\n",
        "c = Counter() # subclasse dict para contar objetos"
      ],
      "execution_count": 0,
      "outputs": []
    },
    {
      "cell_type": "code",
      "metadata": {
        "id": "VYqbm7j0jxdX",
        "colab_type": "code",
        "outputId": "784f6241-92c4-40ed-94d0-962e5a104eb1",
        "colab": {
          "base_uri": "https://localhost:8080/",
          "height": 221
        }
      },
      "source": [
        "df.descricao.str.lower().str.split() # default do split é o <espaço> como separador\n",
        "#df.dtypes"
      ],
      "execution_count": 87,
      "outputs": [
        {
          "output_type": "execute_result",
          "data": {
            "text/plain": [
              "0       [produto, novobilbo, bolseiro, é, um, hobbit, ...\n",
              "1       [produto, novodurante, as, férias, escolares, ...\n",
              "2       [produto, novotodo, o, reino, de, westeros, ao...\n",
              "3       [produto, novo, e, físico, a, série, harry, po...\n",
              "4       [produto, novode, onde, viemos?, para, onde, v...\n",
              "                              ...                        \n",
              "4073    [red, dead, redemption, edição, do, ano, goty,...\n",
              "4074    [game:, gta, v, -, grand, theft, auto, fiveesp...\n",
              "4075    [envio, imediato, após, confirmaçãocom, este, ...\n",
              "4078    [nome, do, jogo:, gta, san, andreas, hd, remas...\n",
              "4079    [para, ligar, o, aparelho, pressionar, os, bot...\n",
              "Name: descricao, Length: 2916, dtype: object"
            ]
          },
          "metadata": {
            "tags": []
          },
          "execution_count": 87
        }
      ]
    },
    {
      "cell_type": "code",
      "metadata": {
        "id": "HTzKIEhyKxbw",
        "colab_type": "code",
        "outputId": "8c501f79-3dbd-4cb0-bae2-936cf862fc93",
        "colab": {
          "base_uri": "https://localhost:8080/",
          "height": 221
        }
      },
      "source": [
        "df.descricao.str.lower().str.split(\" \") # tranforma a descrição em minúsculas e depois separa as pelavras pelo <espaço> e retorna no formato de lista"
      ],
      "execution_count": 88,
      "outputs": [
        {
          "output_type": "execute_result",
          "data": {
            "text/plain": [
              "0       [produto, novobilbo, bolseiro, é, um, hobbit, ...\n",
              "1       [produto, novodurante, as, férias, escolares, ...\n",
              "2       [produto, novotodo, o, reino, de, westeros, ao...\n",
              "3       [produto, novo, e, físico, , a, série, harry, ...\n",
              "4       [produto, novode, onde, viemos?, para, onde, v...\n",
              "                              ...                        \n",
              "4073    [red, dead, redemption, edição, do, ano, goty,...\n",
              "4074    [game:, gta, v, -, grand, theft, auto, fiveesp...\n",
              "4075    [envio, imediato, após, confirmaçãocom, este, ...\n",
              "4078    [nome, do, jogo:, gta, san, andreas, hd, remas...\n",
              "4079    [para, ligar, o, aparelho, pressionar, os, bot...\n",
              "Name: descricao, Length: 2916, dtype: object"
            ]
          },
          "metadata": {
            "tags": []
          },
          "execution_count": 88
        }
      ]
    },
    {
      "cell_type": "code",
      "metadata": {
        "id": "vaLAnprh6KPa",
        "colab_type": "code",
        "outputId": "ae8114de-ee6c-498b-c714-83eea5670222",
        "colab": {
          "base_uri": "https://localhost:8080/",
          "height": 187
        }
      },
      "source": [
        "df.descricao.str.lower().str.split(\" \").apply(c.update) # implementa a contagem\n",
        "c.most_common(10)"
      ],
      "execution_count": 89,
      "outputs": [
        {
          "output_type": "execute_result",
          "data": {
            "text/plain": [
              "[('de', 23835),\n",
              " ('e', 15774),\n",
              " ('o', 12238),\n",
              " ('a', 11905),\n",
              " ('do', 8657),\n",
              " ('para', 7913),\n",
              " ('em', 6798),\n",
              " ('que', 6770),\n",
              " ('-', 6220),\n",
              " ('com', 6099)]"
            ]
          },
          "metadata": {
            "tags": []
          },
          "execution_count": 89
        }
      ]
    },
    {
      "cell_type": "markdown",
      "metadata": {
        "colab_type": "text",
        "id": "DGlRU8jXHkOr"
      },
      "source": [
        "## E as palasvras das categorias na descrição, quantas tem?"
      ]
    },
    {
      "cell_type": "code",
      "metadata": {
        "id": "k4zCstDesUSy",
        "colab_type": "code",
        "outputId": "5e9367b1-8bcd-4c1c-fdbc-0f9de6600f70",
        "colab": {
          "base_uri": "https://localhost:8080/",
          "height": 34
        }
      },
      "source": [
        "c.get('maquiagem')\n",
        "\n",
        "# fazer para as demais categorias"
      ],
      "execution_count": 90,
      "outputs": [
        {
          "output_type": "execute_result",
          "data": {
            "text/plain": [
              "493"
            ]
          },
          "metadata": {
            "tags": []
          },
          "execution_count": 90
        }
      ]
    },
    {
      "cell_type": "markdown",
      "metadata": {
        "id": "HFw7pB_-uVZX",
        "colab_type": "text"
      },
      "source": [
        "## Nuvem de palavras!"
      ]
    },
    {
      "cell_type": "code",
      "metadata": {
        "id": "npyDF0IGs8RG",
        "colab_type": "code",
        "outputId": "c6fd6992-f5ae-4bd6-8210-77f35f75a1c3",
        "colab": {
          "base_uri": "https://localhost:8080/",
          "height": 223
        }
      },
      "source": [
        "import nltk\n",
        "import matplotlib.pyplot as plt\n",
        "\n",
        "try:\n",
        "  from wordcloud import WordCloud\n",
        "except:\n",
        "  !pip install wordcloud\n",
        "\n",
        "livro_words = ''\n",
        "livro = df[df.categoria == 'livro'] # filtrei a categoria livro apenas como exemplo rápido para a demostração\n",
        "\n",
        "# reune todas as plalavras em um único objeto, veja.\n",
        "for val in livro.descricao:\n",
        "  text = val.lower()\n",
        "  for words in text:\n",
        "    livro_words = livro_words + words\n",
        "    # todas as palavras das descrições da categoria livro no mesmo objeto: livro_words. As palavras são inseridas letra por letra\n",
        "\n",
        "# Gera uma imagem da nuvem de palavras (Generate a word cloud image)\n",
        "livro_wordcloud = WordCloud(width=600, height=400).generate(livro_words)\n",
        "\n",
        "# Word cloud da categoria Livro\n",
        "plt.figure( figsize=(4,4), facecolor='k')\n",
        "plt.imshow(livro_wordcloud)\n",
        "plt.axis(\"off\")\n",
        "plt.tight_layout(pad=0) # Preenchimento entre a borda e a figura\n",
        "plt.show()"
      ],
      "execution_count": 91,
      "outputs": [
        {
          "output_type": "display_data",
          "data": {
            "image/png": "[encoded data removed]",
            "text/plain": [
              "<Figure size 288x288 with 1 Axes>"
            ]
          },
          "metadata": {
            "tags": []
          }
        }
      ]
    }
  ]
}