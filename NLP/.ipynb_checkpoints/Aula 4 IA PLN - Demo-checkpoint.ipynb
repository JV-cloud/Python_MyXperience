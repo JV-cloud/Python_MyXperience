{
  "nbformat": 4,
  "nbformat_minor": 0,
  "metadata": {
    "colab": {
      "name": "Aula 4 IA PLN - Demo.ipynb",
      "provenance": [],
      "collapsed_sections": []
    },
    "kernelspec": {
      "display_name": "Python 3",
      "language": "python",
      "name": "python3"
    },
    "accelerator": "GPU"
  },
  "cells": [
    {
      "cell_type": "markdown",
      "metadata": {
        "colab_type": "text",
        "id": "ont8JX9spNZz"
      },
      "source": [
        "# **NLTK**\n",
        "\n",
        "---"
      ]
    },
    {
      "cell_type": "code",
      "metadata": {
        "colab_type": "code",
        "id": "MtRjU5tRYZQ3",
        "outputId": "bc433623-50f2-41d4-b6b9-3c9ab09b2f4c",
        "colab": {
          "base_uri": "https://localhost:8080/",
          "height": 550
        }
      },
      "source": [
        "import nltk\n",
        "nltk.download('punkt')\n",
        "\n",
        "from nltk import tokenize\n",
        "\n",
        "texto_exemplo = \"Não sei se entendi como ler o conteúdo da view, então. \\\n",
        "Estou entendendo que a view contém um histórico das movimentações \\\n",
        "dos associados, certo?\"\n",
        "\n",
        "# Exemplo tokenização\n",
        "tokenize.word_tokenize(texto_exemplo, language=\"portuguese\")"
      ],
      "execution_count": 0,
      "outputs": [
        {
          "output_type": "stream",
          "text": [
            "[nltk_data] Downloading package punkt to /root/nltk_data...\n",
            "[nltk_data]   Package punkt is already up-to-date!\n"
          ],
          "name": "stdout"
        },
        {
          "output_type": "execute_result",
          "data": {
            "text/plain": [
              "['Não',\n",
              " 'sei',\n",
              " 'se',\n",
              " 'entendi',\n",
              " 'como',\n",
              " 'ler',\n",
              " 'o',\n",
              " 'conteúdo',\n",
              " 'da',\n",
              " 'view',\n",
              " ',',\n",
              " 'então',\n",
              " '.',\n",
              " 'Estou',\n",
              " 'entendendo',\n",
              " 'que',\n",
              " 'a',\n",
              " 'view',\n",
              " 'contém',\n",
              " 'um',\n",
              " 'histórico',\n",
              " 'das',\n",
              " 'movimentações',\n",
              " 'dos',\n",
              " 'associados',\n",
              " ',',\n",
              " 'certo',\n",
              " '?']"
            ]
          },
          "metadata": {
            "tags": []
          },
          "execution_count": 208
        }
      ]
    },
    {
      "cell_type": "markdown",
      "metadata": {
        "id": "ReDnaw00nJid",
        "colab_type": "text"
      },
      "source": [
        "Documentação nltk.tokenize: https://www.nltk.org/api/nltk.tokenize.html\n",
        "\n",
        "Exemplos em português: http://www.nltk.org/howto/portuguese_en.html"
      ]
    },
    {
      "cell_type": "markdown",
      "metadata": {
        "id": "jPHAfEYkVp-f",
        "colab_type": "text"
      },
      "source": [
        "POS-Tagger NLTK"
      ]
    },
    {
      "cell_type": "code",
      "metadata": {
        "id": "HNORsKEaTbFP",
        "colab_type": "code",
        "outputId": "dcc0230c-1c74-4d26-da23-1b6654e7ded4",
        "colab": {
          "base_uri": "https://localhost:8080/",
          "height": 390
        }
      },
      "source": [
        "from nltk.tokenize import word_tokenize\n",
        "from nltk.tag import pos_tag\n",
        "import nltk\n",
        "nltk.download('punkt')\n",
        "nltk.download('averaged_perceptron_tagger')\n",
        "nltk.download('universal_tagset')\n",
        "\n",
        "pos_tag(word_tokenize('O Hobbit - 7ª Ed. 2013  Produto NovoBilbo Bolseiro é um hobbit que', language=\"portuguese\"), tagset='universal')"
      ],
      "execution_count": 0,
      "outputs": [
        {
          "output_type": "stream",
          "text": [
            "[nltk_data] Downloading package punkt to /root/nltk_data...\n",
            "[nltk_data]   Package punkt is already up-to-date!\n",
            "[nltk_data] Downloading package averaged_perceptron_tagger to\n",
            "[nltk_data]     /root/nltk_data...\n",
            "[nltk_data]   Package averaged_perceptron_tagger is already up-to-\n",
            "[nltk_data]       date!\n",
            "[nltk_data] Downloading package universal_tagset to /root/nltk_data...\n",
            "[nltk_data]   Package universal_tagset is already up-to-date!\n"
          ],
          "name": "stdout"
        },
        {
          "output_type": "execute_result",
          "data": {
            "text/plain": [
              "[('O', 'NOUN'),\n",
              " ('Hobbit', 'NOUN'),\n",
              " ('-', '.'),\n",
              " ('7ª', 'NUM'),\n",
              " ('Ed.', 'ADJ'),\n",
              " ('2013', 'NUM'),\n",
              " ('Produto', 'NOUN'),\n",
              " ('NovoBilbo', 'NOUN'),\n",
              " ('Bolseiro', 'NOUN'),\n",
              " ('é', 'NOUN'),\n",
              " ('um', 'ADJ'),\n",
              " ('hobbit', 'NOUN'),\n",
              " ('que', 'NOUN')]"
            ]
          },
          "metadata": {
            "tags": []
          },
          "execution_count": 209
        }
      ]
    },
    {
      "cell_type": "markdown",
      "metadata": {
        "id": "PGbw2K4UTdon",
        "colab_type": "text"
      },
      "source": [
        "# **Sobre o corpus Floresta**\n",
        "\n",
        "---\n",
        "Conhecido como \"Floresta Sintática\". Conjunto de frases já analisadas sintáticamente e tageadas.\n",
        "\n",
        "https://www.linguateca.pt/Floresta/\n",
        "\n",
        "https://www.linguateca.pt/floresta/doc/VISLsymbolset-manual.html\n"
      ]
    },
    {
      "cell_type": "code",
      "metadata": {
        "colab_type": "code",
        "id": "kySnyrT1c1sy",
        "outputId": "79b00cc7-5af3-460b-b28b-6a0f6f308998",
        "colab": {
          "base_uri": "https://localhost:8080/",
          "height": 70
        }
      },
      "source": [
        "from nltk.corpus import floresta\n",
        "import nltk\n",
        "nltk.download('floresta')"
      ],
      "execution_count": 0,
      "outputs": [
        {
          "output_type": "stream",
          "text": [
            "[nltk_data] Downloading package floresta to /root/nltk_data...\n",
            "[nltk_data]   Package floresta is already up-to-date!\n"
          ],
          "name": "stdout"
        },
        {
          "output_type": "execute_result",
          "data": {
            "text/plain": [
              "True"
            ]
          },
          "metadata": {
            "tags": []
          },
          "execution_count": 4
        }
      ]
    },
    {
      "cell_type": "code",
      "metadata": {
        "id": "9mE1kjHprAkR",
        "colab_type": "code",
        "outputId": "7fea104e-c34c-46a7-e728-21aa28f366e7",
        "colab": {
          "base_uri": "https://localhost:8080/",
          "height": 1000
        }
      },
      "source": [
        "print(nltk.corpus.floresta.readme())"
      ],
      "execution_count": 0,
      "outputs": [
        {
          "output_type": "stream",
          "text": [
            "Portuguese Treebank\n",
            "\n",
            "Projecto Floresta Sinta(c)tica -- http://www.linguateca.pt/Floresta/\n",
            "Version 7.4  Distributed with permission.\n",
            "\n",
            "Penn Treebank format, available from http://linguateca.di.uminho.pt/FS/fs.html\n",
            "\n",
            "Key to tags (http://visl.sdu.dk/visl/pt/portsymbol.html)\n",
            "\n",
            "<ACC          direct object\n",
            "<ACC-PASS     passive use of pronoun 'se'\n",
            "<ADVS, <ADVO  adverbial argument\n",
            "<ADVL         adjunct adverbial\n",
            "<DAT          dative (indirect) object\n",
            "<FOC          focus marker (or right focus bracket)\n",
            "<OC           object complement\n",
            "<PASS         agent of passive\n",
            "<PIV          prepositional object\n",
            "<PRED         free (subject) predicative, right of main verb\n",
            "<SC           subject complement\n",
            "<SUBJ         subject\n",
            ">A            adverbial pre-adject (intensifier before adjective, adverb, pronoun or participle)\n",
            ">N            prenominal modifier\n",
            ">P            modifier of prepositional phrase (intensifier, operator or focus adverb)\n",
            ">S            modifier of clause (intensifier, operator or focus adverb)\n",
            "A<            adverbial post-adject (modifier or argument of adjective, adverb or participle)\n",
            "A<ADV         adverbial argument of attributive participle\n",
            "A<ADVL        adverbial adjunct of attributive participle\n",
            "A<PASS        agent of passive after attributive participle\n",
            "A<PIV         prepositional object of attributive participle\n",
            "A<SC          subject complement of attributive participle\n",
            "ACC>          accusative (direct) object\n",
            "ACC>-PASS     passive use of pronoun 'se'\n",
            "ACC>>         double-fronted accusative (direct) object before matrix verb\n",
            "ADVS>, ADVO>  adverbial argument\n",
            "ADVL          top node adverbial\n",
            "ADVL>         adjunct adverbial\n",
            "ADVL>A        adjunct adverbial before attributive participle\n",
            "ADVL>AS<      adjunct adverbial in averbal clause\n",
            "APP           identifying apposition\n",
            "AS<           clause body of averbal clause\n",
            "CO            co-ordinator\n",
            "COM           comparator (heading averbal clause)\n",
            "DAT>          dative (intransitive) object\n",
            "FAUX          finite auxiliary\n",
            "FMV           finite main verb\n",
            "FOC>          focus marker (or left focus bracket)\n",
            "IAUX          non-finite auxiliary\n",
            "IMV           non-finite main verb\n",
            "KOMP<         argument of comparative hook\n",
            "N<            postnominal modifier or argument\n",
            "N<PRED        postnominal (in-group) predicative (or non-identifying apposition)\n",
            "NPHR          top node noun phrase\n",
            "NUM<          second part of numeral chain\n",
            "OC>           object complement\n",
            "P<            argument of preposition\n",
            "PIV>          prepositional object\n",
            "PRD           predicator (heading averbal clause)\n",
            "PRED>         free (subject) predicative, left of main verb\n",
            "PREF          prefix (category being phased out)\n",
            "PRT-AUX<      auxiliary particle\n",
            "S<            statement predicative (sentence apposition)\n",
            "SC>           subject complement\n",
            "SUB           subordinator\n",
            "SUBJ>         subject\n",
            "SUBJ>>        double-fronted subject, with interfering matrix og quoting verb\n",
            "TOP           topic constituent\n",
            "VOK           vocative constituent\n",
            "\n",
            "\n",
            "\n"
          ],
          "name": "stdout"
        }
      ]
    },
    {
      "cell_type": "code",
      "metadata": {
        "colab_type": "code",
        "id": "dqcDbl4mdodH",
        "outputId": "c5c695d6-5388-4700-e351-9df482f87711",
        "colab": {
          "base_uri": "https://localhost:8080/",
          "height": 35
        }
      },
      "source": [
        "floresta.tagged_words()"
      ],
      "execution_count": 0,
      "outputs": [
        {
          "output_type": "execute_result",
          "data": {
            "text/plain": [
              "[('Um', '>N+art'), ('revivalismo', 'H+n'), ...]"
            ]
          },
          "metadata": {
            "tags": []
          },
          "execution_count": 211
        }
      ]
    },
    {
      "cell_type": "markdown",
      "metadata": {
        "colab_type": "text",
        "id": "RbMcbwmoMoPU"
      },
      "source": [
        "As tags consistem em algumas informações sintáticas, seguidas por um sinal de mais, seguido por uma tag convencional de POS Tag com a classificação morfológica. Vamos retirar o material antes do sinal de mais (+):"
      ]
    },
    {
      "cell_type": "code",
      "metadata": {
        "id": "UVsS_hn0j1O5",
        "colab_type": "code",
        "outputId": "ae86b45e-0ea4-480b-8df4-f1984f59be52",
        "colab": {
          "base_uri": "https://localhost:8080/",
          "height": 35
        }
      },
      "source": [
        "'+' in 'anderson dourado'\n",
        "\n",
        "'+' in 'anderson+dourado'"
      ],
      "execution_count": 0,
      "outputs": [
        {
          "output_type": "execute_result",
          "data": {
            "text/plain": [
              "True"
            ]
          },
          "metadata": {
            "tags": []
          },
          "execution_count": 212
        }
      ]
    },
    {
      "cell_type": "code",
      "metadata": {
        "id": "hjE63qXqoA5W",
        "colab_type": "code",
        "colab": {}
      },
      "source": [
        "# Função para simplificar a tag\n",
        "def simplifica_tag(t):\n",
        "  if \"+\" in t:\n",
        "    return t.split(\"+\")[1]\n",
        "  return t"
      ],
      "execution_count": 0,
      "outputs": []
    },
    {
      "cell_type": "code",
      "metadata": {
        "id": "j2SbIXeNmJf7",
        "colab_type": "code",
        "outputId": "3bbc09d8-a609-491c-d155-41cec2131cbd",
        "colab": {
          "base_uri": "https://localhost:8080/",
          "height": 195
        }
      },
      "source": [
        "# Exemplo 1\n",
        "tag_words = nltk.corpus.floresta.tagged_words() #type(twords)\n",
        "\n",
        "list_palavras = [] #type(list_palavras)\n",
        "tuple_dupla = () #type(tuple_dupla)\n",
        "\n",
        "for word, tag in tag_words:\n",
        "  tuple_dupla = (word.lower(), simplifica_tag(tag))\n",
        "  list_palavras.append(tuple_dupla)\n",
        "\n",
        "list_palavras[:10]"
      ],
      "execution_count": 0,
      "outputs": [
        {
          "output_type": "execute_result",
          "data": {
            "text/plain": [
              "[('um', 'art'),\n",
              " ('revivalismo', 'n'),\n",
              " ('refrescante', 'adj'),\n",
              " ('o', 'art'),\n",
              " ('7_e_meio', 'prop'),\n",
              " ('é', 'v-fin'),\n",
              " ('um', 'art'),\n",
              " ('ex-libris', 'n'),\n",
              " ('de', 'prp'),\n",
              " ('a', 'art')]"
            ]
          },
          "metadata": {
            "tags": []
          },
          "execution_count": 214
        }
      ]
    },
    {
      "cell_type": "code",
      "metadata": {
        "colab_type": "code",
        "id": "5D8P4BWEdq45",
        "outputId": "2e1afb0c-bdaf-4275-92c6-299f0eb1a3ac",
        "colab": {
          "base_uri": "https://localhost:8080/",
          "height": 195
        }
      },
      "source": [
        "# Exemplo 2\n",
        "tag_words = nltk.corpus.floresta.tagged_words()\n",
        "tag_words\n",
        "\n",
        "tag_words = [(w.lower(),simplifica_tag(t)) for (w,t) in tag_words]\n",
        "\n",
        "tag_words[:10]"
      ],
      "execution_count": 0,
      "outputs": [
        {
          "output_type": "execute_result",
          "data": {
            "text/plain": [
              "[('um', 'art'),\n",
              " ('revivalismo', 'n'),\n",
              " ('refrescante', 'adj'),\n",
              " ('o', 'art'),\n",
              " ('7_e_meio', 'prop'),\n",
              " ('é', 'v-fin'),\n",
              " ('um', 'art'),\n",
              " ('ex-libris', 'n'),\n",
              " ('de', 'prp'),\n",
              " ('a', 'art')]"
            ]
          },
          "metadata": {
            "tags": []
          },
          "execution_count": 215
        }
      ]
    },
    {
      "cell_type": "markdown",
      "metadata": {
        "id": "9w3cHfOheAZ2",
        "colab_type": "text"
      },
      "source": [
        "Exemplo de texto anotado (tagueado) no corpus Floresta"
      ]
    },
    {
      "cell_type": "code",
      "metadata": {
        "colab_type": "code",
        "id": "8U1EuM1jg_-I",
        "outputId": "483643dd-11d9-432a-abad-b40f57e90587",
        "colab": {
          "base_uri": "https://localhost:8080/",
          "height": 35
        }
      },
      "source": [
        "print(' '.join(word + '/' + tag for (word, tag) in tag_words[:10]))"
      ],
      "execution_count": 0,
      "outputs": [
        {
          "output_type": "stream",
          "text": [
            "um/art revivalismo/n refrescante/adj o/art 7_e_meio/prop é/v-fin um/art ex-libris/n de/prp a/art\n"
          ],
          "name": "stdout"
        }
      ]
    },
    {
      "cell_type": "code",
      "metadata": {
        "id": "FQQzXZP5pQ1z",
        "colab_type": "code",
        "outputId": "1adeb423-1efa-40a6-bbd4-7c91aecd01e1",
        "colab": {
          "base_uri": "https://localhost:8080/",
          "height": 212
        }
      },
      "source": [
        "tag_sents = floresta.tagged_sents()\n",
        "tag_sents[:2]"
      ],
      "execution_count": 0,
      "outputs": [
        {
          "output_type": "execute_result",
          "data": {
            "text/plain": [
              "[[('Um', '>N+art'), ('revivalismo', 'H+n'), ('refrescante', 'N<+adj')],\n",
              " [('O', '>N+art'),\n",
              "  ('7_e_Meio', 'H+prop'),\n",
              "  ('é', 'P+v-fin'),\n",
              "  ('um', '>N+art'),\n",
              "  ('ex-libris', 'H+n'),\n",
              "  ('de', 'H+prp'),\n",
              "  ('a', '>N+art'),\n",
              "  ('noite', 'H+n'),\n",
              "  ('algarvia', 'N<+adj'),\n",
              "  ('.', '.')]]"
            ]
          },
          "metadata": {
            "tags": []
          },
          "execution_count": 219
        }
      ]
    },
    {
      "cell_type": "code",
      "metadata": {
        "id": "VCbf1QPT1InW",
        "colab_type": "code",
        "colab": {}
      },
      "source": [
        "# Contagem das tags e mantendo a estruturas das sentenças do corpus floresta\n",
        "from nltk.corpus import floresta\n",
        "from collections import Counter\n",
        "\n",
        "def simplifica_tag(t):\n",
        "  if \"+\" in t:\n",
        "    return t.split(\"+\")[1]\n",
        "  return t \n",
        "\n",
        "counter = Counter()\n",
        "\n",
        "tag_sents = floresta.tagged_sents()\n",
        "tag_new_sents = []\n",
        "for sent in tag_sents:\n",
        "  new_sent = []\n",
        "  for (w,t) in sent:\n",
        "    tag = simplifica_tag(t)\n",
        "    new_sent.append((w.lower(), tag))\n",
        "    counter[tag] += 1\n",
        "  tag_new_sents.append(new_sent)\n",
        "\n",
        "#new_sent\n",
        "#tag_new_sents"
      ],
      "execution_count": 0,
      "outputs": []
    },
    {
      "cell_type": "code",
      "metadata": {
        "id": "nNmXhgOw1t7k",
        "colab_type": "code",
        "outputId": "6472d1a1-d35b-4ff9-f2f7-5ebf2a0ad258",
        "colab": {
          "base_uri": "https://localhost:8080/",
          "height": 35
        }
      },
      "source": [
        "counter.most_common(5)"
      ],
      "execution_count": 0,
      "outputs": [
        {
          "output_type": "execute_result",
          "data": {
            "text/plain": [
              "[('n', 40081), ('prp', 32442), ('art', 29360), ('v-fin', 15802), (',', 13444)]"
            ]
          },
          "metadata": {
            "tags": []
          },
          "execution_count": 221
        }
      ]
    },
    {
      "cell_type": "code",
      "metadata": {
        "id": "r6mPWpv62Z0l",
        "colab_type": "code",
        "outputId": "376d8741-1046-4ebb-d96f-4d13b9998ced",
        "colab": {
          "base_uri": "https://localhost:8080/",
          "height": 35
        }
      },
      "source": [
        "# % dos substantivos\n",
        "counter.get('n') / sum(counter.values())"
      ],
      "execution_count": 0,
      "outputs": [
        {
          "output_type": "execute_result",
          "data": {
            "text/plain": [
              "0.18919339916545513"
            ]
          },
          "metadata": {
            "tags": []
          },
          "execution_count": 222
        }
      ]
    },
    {
      "cell_type": "markdown",
      "metadata": {
        "id": "FpQ87t8fgAzX",
        "colab_type": "text"
      },
      "source": [
        "Verificamos que a tag mais comum é N. Essa será nossa referência a tag padrão (gold)."
      ]
    },
    {
      "cell_type": "code",
      "metadata": {
        "id": "oKnTSb5Z7uBI",
        "colab_type": "code",
        "outputId": "2974bd99-6232-49e1-ace5-585f02638510",
        "colab": {
          "base_uri": "https://localhost:8080/",
          "height": 515
        }
      },
      "source": [
        "# Crianto uma tag default\n",
        "default_tagger = nltk.DefaultTagger('n')\n",
        "\n",
        "token_texto_exemplo = tokenize.word_tokenize(texto_exemplo, language=\"portuguese\")\n",
        "default_tagger.tag(token_texto_exemplo)"
      ],
      "execution_count": 0,
      "outputs": [
        {
          "output_type": "execute_result",
          "data": {
            "text/plain": [
              "[('Não', 'n'),\n",
              " ('sei', 'n'),\n",
              " ('se', 'n'),\n",
              " ('entendi', 'n'),\n",
              " ('como', 'n'),\n",
              " ('ler', 'n'),\n",
              " ('o', 'n'),\n",
              " ('conteúdo', 'n'),\n",
              " ('da', 'n'),\n",
              " ('view', 'n'),\n",
              " (',', 'n'),\n",
              " ('então', 'n'),\n",
              " ('.', 'n'),\n",
              " ('Estou', 'n'),\n",
              " ('entendendo', 'n'),\n",
              " ('que', 'n'),\n",
              " ('a', 'n'),\n",
              " ('view', 'n'),\n",
              " ('contém', 'n'),\n",
              " ('um', 'n'),\n",
              " ('histórico', 'n'),\n",
              " ('das', 'n'),\n",
              " ('movimentações', 'n'),\n",
              " ('dos', 'n'),\n",
              " ('associados', 'n'),\n",
              " (',', 'n'),\n",
              " ('certo', 'n'),\n",
              " ('?', 'n')]"
            ]
          },
          "metadata": {
            "tags": []
          },
          "execution_count": 223
        }
      ]
    },
    {
      "cell_type": "code",
      "metadata": {
        "id": "WZf9bpKwACxK",
        "colab_type": "code",
        "outputId": "fcf1bd7f-7ea6-4591-80ab-5f3cecc2a75a",
        "colab": {
          "base_uri": "https://localhost:8080/",
          "height": 35
        }
      },
      "source": [
        "# Analisando com base na tag padrão (tag ouro/gold)\n",
        "tag_sents = tag_new_sents\n",
        "\n",
        "default_tagger = nltk.DefaultTagger('n')\n",
        "print(default_tagger.evaluate(tag_sents))"
      ],
      "execution_count": 0,
      "outputs": [
        {
          "output_type": "stream",
          "text": [
            "0.18919339916545513\n"
          ],
          "name": "stdout"
        }
      ]
    },
    {
      "cell_type": "code",
      "metadata": {
        "colab_type": "code",
        "id": "er6gXU5IhTkM",
        "outputId": "009bd868-7d1b-4fdb-931e-538e1550dbe6",
        "colab": {
          "base_uri": "https://localhost:8080/",
          "height": 88
        }
      },
      "source": [
        "tag_sents = tag_new_sents\n",
        "#type(tag_sents) #len(tag_sents)\n",
        "#tag_sents[len(tag_sents)-1] #tag_sents[-1]\n",
        "\n",
        "tag_sents_treino = tag_sents[1000:]\n",
        "tag_sents_teste = tag_sents[:1000]\n",
        "\n",
        "tagger0 = nltk.DefaultTagger('n')\n",
        "print(tagger0.evaluate(tag_sents_teste))\n",
        "\n",
        "tagger1 = nltk.UnigramTagger(tag_sents_treino, backoff=tagger0)\n",
        "print(tagger1.evaluate(tag_sents_teste))\n",
        "\n",
        "tagger2 = nltk.BigramTagger(tag_sents_treino, backoff=tagger1)\n",
        "print(tagger2.evaluate(tag_sents_teste))\n",
        "\n",
        "tagger3 = nltk.TrigramTagger(tag_sents_treino, backoff=tagger2)\n",
        "print(tagger3.evaluate(tag_sents_teste))"
      ],
      "execution_count": 0,
      "outputs": [
        {
          "output_type": "stream",
          "text": [
            "0.17800040072129833\n",
            "0.8740532959326788\n",
            "0.8900420757363254\n",
            "0.8887998397114807\n"
          ],
          "name": "stdout"
        }
      ]
    },
    {
      "cell_type": "markdown",
      "metadata": {
        "id": "5e4lHBKC9xUB",
        "colab_type": "text"
      },
      "source": [
        "\n",
        "Documentação dos métodos tag:\n",
        "  - https://www.nltk.org/api/nltk.tag.html\n",
        "\n",
        "Nos baseamos no métodos da documentação abaixo:\n",
        "  - Capítulo 5 - N-Gram Tagging: http://www.nltk.org/book/ch05.html\n",
        "  - Exemplo em português: http://www.nltk.org/howto/portuguese_en.html\n",
        "  - Outros corpus tageados: https://www.nltk.org/book/ch02.html\n"
      ]
    },
    {
      "cell_type": "code",
      "metadata": {
        "id": "ZAe-S-errcNR",
        "colab_type": "code",
        "outputId": "85840dd2-8c3d-4101-ef3e-237af70a6bd2",
        "colab": {
          "base_uri": "https://localhost:8080/",
          "height": 35
        }
      },
      "source": [
        "from sklearn.externals import joblib\n",
        "\n",
        "joblib.dump(tagger3, 'tagger.pkl')"
      ],
      "execution_count": 0,
      "outputs": [
        {
          "output_type": "execute_result",
          "data": {
            "text/plain": [
              "['tagger.pkl']"
            ]
          },
          "metadata": {
            "tags": []
          },
          "execution_count": 226
        }
      ]
    },
    {
      "cell_type": "code",
      "metadata": {
        "id": "quA-JTPNOzcu",
        "colab_type": "code",
        "outputId": "6f6ef43f-78eb-48ff-a229-8b7df380d1bc",
        "colab": {
          "base_uri": "https://localhost:8080/",
          "height": 124
        }
      },
      "source": [
        "!ls -all -h"
      ],
      "execution_count": 0,
      "outputs": [
        {
          "output_type": "stream",
          "text": [
            "total 776K\n",
            "drwxr-xr-x 1 root root 4.0K May  1 18:35 .\n",
            "drwxr-xr-x 1 root root 4.0K May  1 17:16 ..\n",
            "drwxr-xr-x 1 root root 4.0K Apr 29 16:14 .config\n",
            "drwxr-xr-x 1 root root 4.0K Apr  3 16:24 sample_data\n",
            "-rw-r--r-- 1 root root 758K May  1 21:24 tagger.pkl\n"
          ],
          "name": "stdout"
        }
      ]
    },
    {
      "cell_type": "code",
      "metadata": {
        "id": "RVCddXw7sVsa",
        "colab_type": "code",
        "colab": {}
      },
      "source": [
        "bla = joblib.load('tagger.pkl')"
      ],
      "execution_count": 0,
      "outputs": []
    },
    {
      "cell_type": "code",
      "metadata": {
        "id": "OKiTgA9ysc0R",
        "colab_type": "code",
        "outputId": "9894dc0a-69aa-4c60-82bf-d78eaea27fa9",
        "colab": {
          "base_uri": "https://localhost:8080/",
          "height": 35
        }
      },
      "source": [
        "print(bla.evaluate(tag_sents_teste))"
      ],
      "execution_count": 0,
      "outputs": [
        {
          "output_type": "stream",
          "text": [
            "0.8887998397114807\n"
          ],
          "name": "stdout"
        }
      ]
    },
    {
      "cell_type": "code",
      "metadata": {
        "id": "HmZdOuNCaV0j",
        "colab_type": "code",
        "outputId": "161c305d-3dc3-4f69-f869-e7c5f935ea4d",
        "colab": {
          "base_uri": "https://localhost:8080/",
          "height": 515
        }
      },
      "source": [
        "texto_exemplo\n",
        "twords = tokenize.word_tokenize(texto_exemplo, language=\"portuguese\")\n",
        "bla.tag(twords)"
      ],
      "execution_count": 0,
      "outputs": [
        {
          "output_type": "execute_result",
          "data": {
            "text/plain": [
              "[('Não', 'n'),\n",
              " ('sei', 'v-fin'),\n",
              " ('se', 'pron-pers'),\n",
              " ('entendi', 'n'),\n",
              " ('como', 'adv'),\n",
              " ('ler', 'v-inf'),\n",
              " ('o', 'art'),\n",
              " ('conteúdo', 'n'),\n",
              " ('da', 'n'),\n",
              " ('view', 'n'),\n",
              " (',', ','),\n",
              " ('então', 'adv'),\n",
              " ('.', '.'),\n",
              " ('Estou', 'n'),\n",
              " ('entendendo', 'v-ger'),\n",
              " ('que', 'conj-s'),\n",
              " ('a', 'art'),\n",
              " ('view', 'n'),\n",
              " ('contém', 'n'),\n",
              " ('um', 'art'),\n",
              " ('histórico', 'adj'),\n",
              " ('das', 'n'),\n",
              " ('movimentações', 'n'),\n",
              " ('dos', 'prop'),\n",
              " ('associados', 'n'),\n",
              " (',', ','),\n",
              " ('certo', 'adj'),\n",
              " ('?', '?')]"
            ]
          },
          "metadata": {
            "tags": []
          },
          "execution_count": 230
        }
      ]
    },
    {
      "cell_type": "code",
      "metadata": {
        "colab_type": "code",
        "id": "fI-YYFYUjwIk",
        "outputId": "19ac1501-d8ed-49c4-cbaf-38347b2073b0",
        "colab": {
          "base_uri": "https://localhost:8080/",
          "height": 515
        }
      },
      "source": [
        "#twords = tokenize.word_tokenize(texto_exemplo, language=\"portuguese\")\n",
        "tagger2.tag(twords)"
      ],
      "execution_count": 0,
      "outputs": [
        {
          "output_type": "execute_result",
          "data": {
            "text/plain": [
              "[('Não', 'n'),\n",
              " ('sei', 'v-fin'),\n",
              " ('se', 'pron-pers'),\n",
              " ('entendi', 'n'),\n",
              " ('como', 'adv'),\n",
              " ('ler', 'v-inf'),\n",
              " ('o', 'art'),\n",
              " ('conteúdo', 'n'),\n",
              " ('da', 'n'),\n",
              " ('view', 'n'),\n",
              " (',', ','),\n",
              " ('então', 'adv'),\n",
              " ('.', '.'),\n",
              " ('Estou', 'n'),\n",
              " ('entendendo', 'v-ger'),\n",
              " ('que', 'conj-s'),\n",
              " ('a', 'art'),\n",
              " ('view', 'n'),\n",
              " ('contém', 'n'),\n",
              " ('um', 'art'),\n",
              " ('histórico', 'adj'),\n",
              " ('das', 'n'),\n",
              " ('movimentações', 'n'),\n",
              " ('dos', 'prop'),\n",
              " ('associados', 'n'),\n",
              " (',', ','),\n",
              " ('certo', 'adj'),\n",
              " ('?', '?')]"
            ]
          },
          "metadata": {
            "tags": []
          },
          "execution_count": 231
        }
      ]
    },
    {
      "cell_type": "code",
      "metadata": {
        "colab_type": "code",
        "id": "9iIx3MhZkl-o",
        "outputId": "7bc11677-13ed-41a6-d2d9-97031cb9fb8e",
        "colab": {
          "base_uri": "https://localhost:8080/",
          "height": 515
        }
      },
      "source": [
        "tagger1.tag(twords)"
      ],
      "execution_count": 0,
      "outputs": [
        {
          "output_type": "execute_result",
          "data": {
            "text/plain": [
              "[('Não', 'n'),\n",
              " ('sei', 'v-fin'),\n",
              " ('se', 'pron-pers'),\n",
              " ('entendi', 'n'),\n",
              " ('como', 'adv'),\n",
              " ('ler', 'v-inf'),\n",
              " ('o', 'art'),\n",
              " ('conteúdo', 'n'),\n",
              " ('da', 'n'),\n",
              " ('view', 'n'),\n",
              " (',', ','),\n",
              " ('então', 'adv'),\n",
              " ('.', '.'),\n",
              " ('Estou', 'n'),\n",
              " ('entendendo', 'v-ger'),\n",
              " ('que', 'pron-indp'),\n",
              " ('a', 'art'),\n",
              " ('view', 'n'),\n",
              " ('contém', 'n'),\n",
              " ('um', 'art'),\n",
              " ('histórico', 'adj'),\n",
              " ('das', 'n'),\n",
              " ('movimentações', 'n'),\n",
              " ('dos', 'prop'),\n",
              " ('associados', 'n'),\n",
              " (',', ','),\n",
              " ('certo', 'adj'),\n",
              " ('?', '?')]"
            ]
          },
          "metadata": {
            "tags": []
          },
          "execution_count": 232
        }
      ]
    },
    {
      "cell_type": "code",
      "metadata": {
        "colab_type": "code",
        "id": "inKncgHXouUe",
        "outputId": "7854cc7b-7332-40fe-9bbc-63a9e5f6fc23",
        "colab": {
          "base_uri": "https://localhost:8080/",
          "height": 461
        }
      },
      "source": [
        "print(nltk.corpus.floresta.readme()[:1000])"
      ],
      "execution_count": 0,
      "outputs": [
        {
          "output_type": "stream",
          "text": [
            "Portuguese Treebank\n",
            "\n",
            "Projecto Floresta Sinta(c)tica -- http://www.linguateca.pt/Floresta/\n",
            "Version 7.4  Distributed with permission.\n",
            "\n",
            "Penn Treebank format, available from http://linguateca.di.uminho.pt/FS/fs.html\n",
            "\n",
            "Key to tags (http://visl.sdu.dk/visl/pt/portsymbol.html)\n",
            "\n",
            "<ACC          direct object\n",
            "<ACC-PASS     passive use of pronoun 'se'\n",
            "<ADVS, <ADVO  adverbial argument\n",
            "<ADVL         adjunct adverbial\n",
            "<DAT          dative (indirect) object\n",
            "<FOC          focus marker (or right focus bracket)\n",
            "<OC           object complement\n",
            "<PASS         agent of passive\n",
            "<PIV          prepositional object\n",
            "<PRED         free (subject) predicative, right of main verb\n",
            "<SC           subject complement\n",
            "<SUBJ         subject\n",
            ">A            adverbial pre-adject (intensifier before adjective, adverb, pronoun or participle)\n",
            ">N            prenominal modifier\n",
            ">P            modifier of prepositional phrase (intensifier, operator or focus adverb)\n",
            ">S            modifier of clause (intensifier, operator or focus adverb\n"
          ],
          "name": "stdout"
        }
      ]
    },
    {
      "cell_type": "markdown",
      "metadata": {
        "colab_type": "text",
        "id": "WpdWBDZlWrDw"
      },
      "source": [
        "# **TextBlob**\n",
        "\n",
        "---\n",
        "\n",
        "O TextBlob já oferente uma seria de recursos de PLN, como: marcação POS-Tag, extração de frases substantivas, análise de sentimentos, classificação, tradução e outras.\n",
        "\n",
        "- Documentação oficial: https://textblob.readthedocs.io/en/dev/index.html\n",
        "- Natural Language Basics with TextBlob - Allison Parrish: http://rwet.decontextualize.com/book/textblob/\n",
        "\n"
      ]
    },
    {
      "cell_type": "code",
      "metadata": {
        "colab_type": "code",
        "id": "_4kC31vdIlza",
        "outputId": "47743885-d16f-4071-9c8d-e229f7a6e724",
        "colab": {
          "base_uri": "https://localhost:8080/",
          "height": 70
        }
      },
      "source": [
        "!pip install textblob"
      ],
      "execution_count": 0,
      "outputs": [
        {
          "output_type": "stream",
          "text": [
            "Requirement already satisfied: textblob in /usr/local/lib/python3.6/dist-packages (0.15.3)\n",
            "Requirement already satisfied: nltk>=3.1 in /usr/local/lib/python3.6/dist-packages (from textblob) (3.2.5)\n",
            "Requirement already satisfied: six in /usr/local/lib/python3.6/dist-packages (from nltk>=3.1->textblob) (1.14.0)\n"
          ],
          "name": "stdout"
        }
      ]
    },
    {
      "cell_type": "code",
      "metadata": {
        "colab_type": "code",
        "id": "udjWzyToWuKb",
        "outputId": "397e1ba0-8920-4003-d819-edf2dd82bef0",
        "colab": {
          "base_uri": "https://localhost:8080/",
          "height": 70
        }
      },
      "source": [
        "from textblob import TextBlob\n",
        "from textblob.sentiments import NaiveBayesAnalyzer\n",
        "nltk.download('movie_reviews')\n",
        "\n",
        "opinion = TextBlob(\"batman vs superman is a shit!\", analyzer=NaiveBayesAnalyzer())\n",
        "opinion.sentiment"
      ],
      "execution_count": 0,
      "outputs": [
        {
          "output_type": "stream",
          "text": [
            "[nltk_data] Downloading package movie_reviews to /root/nltk_data...\n",
            "[nltk_data]   Package movie_reviews is already up-to-date!\n"
          ],
          "name": "stdout"
        },
        {
          "output_type": "execute_result",
          "data": {
            "text/plain": [
              "Sentiment(classification='neg', p_pos=0.288629160063391, p_neg=0.7113708399366088)"
            ]
          },
          "metadata": {
            "tags": []
          },
          "execution_count": 236
        }
      ]
    },
    {
      "cell_type": "code",
      "metadata": {
        "id": "WuKIO5dO5Mg5",
        "colab_type": "code",
        "outputId": "34a77b76-b561-4926-c302-ebfe76fc4871",
        "colab": {
          "base_uri": "https://localhost:8080/",
          "height": 106
        }
      },
      "source": [
        "nltk.download('averaged_perceptron_tagger')"
      ],
      "execution_count": 0,
      "outputs": [
        {
          "output_type": "stream",
          "text": [
            "[nltk_data] Downloading package averaged_perceptron_tagger to\n",
            "[nltk_data]     /root/nltk_data...\n",
            "[nltk_data]   Package averaged_perceptron_tagger is already up-to-\n",
            "[nltk_data]       date!\n"
          ],
          "name": "stdout"
        },
        {
          "output_type": "execute_result",
          "data": {
            "text/plain": [
              "True"
            ]
          },
          "metadata": {
            "tags": []
          },
          "execution_count": 237
        }
      ]
    },
    {
      "cell_type": "code",
      "metadata": {
        "colab_type": "code",
        "id": "xM5jokbDglMJ",
        "outputId": "e70151e7-dcd2-4c75-c61a-3eb6848be8cd",
        "colab": {
          "base_uri": "https://localhost:8080/",
          "height": 108
        }
      },
      "source": [
        "print(\"Frase original: \", texto_exemplo)\n",
        "\n",
        "tblob = TextBlob(texto_exemplo)\n",
        "\n",
        "print('Idioma: ',tblob.detect_language())\n",
        "\n",
        "en_tblob = tblob.translate(to='en')\n",
        "\n",
        "print(\"Traduzido: \", en_tblob)\n",
        "\n",
        "print(\"Tags: \", en_tblob.tags)"
      ],
      "execution_count": 0,
      "outputs": [
        {
          "output_type": "stream",
          "text": [
            "Frase original:  Não sei se entendi como ler o conteúdo da view, então. Estou entendendo que a view contém um histórico das movimentações dos associados, certo?\n",
            "Idioma:  pt\n",
            "Traduzido:  I don't know if I understood how to read the contents of the view, then. I understand that the view contains a history of the members' movements, right?\n",
            "Tags:  [('I', 'PRP'), ('do', 'VBP'), (\"n't\", 'RB'), ('know', 'VB'), ('if', 'IN'), ('I', 'PRP'), ('understood', 'VBD'), ('how', 'WRB'), ('to', 'TO'), ('read', 'VB'), ('the', 'DT'), ('contents', 'NNS'), ('of', 'IN'), ('the', 'DT'), ('view', 'NN'), ('then', 'RB'), ('I', 'PRP'), ('understand', 'VBP'), ('that', 'IN'), ('the', 'DT'), ('view', 'NN'), ('contains', 'VBZ'), ('a', 'DT'), ('history', 'NN'), ('of', 'IN'), ('the', 'DT'), ('members', 'NNS'), (\"'\", 'POS'), ('movements', 'NNS'), ('right', 'RB')]\n"
          ],
          "name": "stdout"
        }
      ]
    },
    {
      "cell_type": "code",
      "metadata": {
        "id": "DJeCWBioc6Wu",
        "colab_type": "code",
        "outputId": "4d8f3d4c-2e15-4f15-f4c9-758a0c8cf7eb",
        "colab": {
          "base_uri": "https://localhost:8080/",
          "height": 35
        }
      },
      "source": [
        "text = \"As aulas da USP são muito chatas\"\n",
        "\n",
        "tblob = TextBlob(text)\n",
        "\n",
        "en_text = tblob.translate(to='en')\n",
        "\n",
        "en_text"
      ],
      "execution_count": 0,
      "outputs": [
        {
          "output_type": "execute_result",
          "data": {
            "text/plain": [
              "TextBlob(\"USP classes are very boring\")"
            ]
          },
          "metadata": {
            "tags": []
          },
          "execution_count": 239
        }
      ]
    },
    {
      "cell_type": "code",
      "metadata": {
        "id": "Z_pip7sRdLV0",
        "colab_type": "code",
        "outputId": "e58a1206-ae67-48a8-b82f-2aa310a92f31",
        "colab": {
          "base_uri": "https://localhost:8080/",
          "height": 35
        }
      },
      "source": [
        "en = TextBlob(en_text.string, analyzer=NaiveBayesAnalyzer())\n",
        "\n",
        "en.sentiment"
      ],
      "execution_count": 0,
      "outputs": [
        {
          "output_type": "execute_result",
          "data": {
            "text/plain": [
              "Sentiment(classification='neg', p_pos=0.2782420508972421, p_neg=0.7217579491027579)"
            ]
          },
          "metadata": {
            "tags": []
          },
          "execution_count": 240
        }
      ]
    },
    {
      "cell_type": "code",
      "metadata": {
        "id": "i66U-_tP3Yv8",
        "colab_type": "code",
        "outputId": "7d9f84f6-4d55-405d-8fdd-3551d098d808",
        "colab": {
          "base_uri": "https://localhost:8080/",
          "height": 35
        }
      },
      "source": [
        "# Exemplo com uma forma de deixar todo o texto no mesmo indioma\n",
        "en_text = \"As aulas da USP são muito chatas. My god!\"\n",
        "\n",
        "#Exemplo 1\n",
        "tblob = TextBlob(en_text)\n",
        "pt_text = tblob.translate(from_lang='en', to='pt')\n",
        "\n",
        "pt_text"
      ],
      "execution_count": 0,
      "outputs": [
        {
          "output_type": "execute_result",
          "data": {
            "text/plain": [
              "TextBlob(\"As aulas da USP são muito chatas. Meu Deus!\")"
            ]
          },
          "metadata": {
            "tags": []
          },
          "execution_count": 241
        }
      ]
    },
    {
      "cell_type": "code",
      "metadata": {
        "id": "5hVs811vvx7d",
        "colab_type": "code",
        "outputId": "49901b52-ddca-4a69-94bc-e2193f73d637",
        "colab": {
          "base_uri": "https://localhost:8080/",
          "height": 35
        }
      },
      "source": [
        "#!pip install translate\n",
        "from translate import Translator\n",
        "\n",
        "#Exemplo 2 usando outro pacote o \"translate\"\n",
        "en_text = \"As aulas da USP são muito chatas. My god!\"\n",
        "\n",
        "translator = Translator(to_lang=\"pt\")\n",
        "pt_text = translator.translate(en_text)\n",
        "\n",
        "pt_text"
      ],
      "execution_count": 0,
      "outputs": [
        {
          "output_type": "execute_result",
          "data": {
            "text/plain": [
              "'As aulas da USP são muito chatas. Meu Deus!'"
            ]
          },
          "metadata": {
            "tags": []
          },
          "execution_count": 242
        }
      ]
    },
    {
      "cell_type": "markdown",
      "metadata": {
        "colab_type": "text",
        "id": "tZFcDaAUp-f2"
      },
      "source": [
        "## SpaCy"
      ]
    },
    {
      "cell_type": "code",
      "metadata": {
        "colab_type": "code",
        "id": "ii4EiP-ciUGo",
        "colab": {}
      },
      "source": [
        "!pip install spacy\n",
        "!python -m spacy download en\n",
        "!python -m spacy download pt"
      ],
      "execution_count": 0,
      "outputs": []
    },
    {
      "cell_type": "code",
      "metadata": {
        "id": "9ZERDUlN--4q",
        "colab_type": "code",
        "colab": {}
      },
      "source": [
        "#!python -m spacy download en_core_web_lg\n",
        "!python -m spacy download pt_core_news_sm"
      ],
      "execution_count": 0,
      "outputs": []
    },
    {
      "cell_type": "markdown",
      "metadata": {
        "id": "wikgr3q7zs8W",
        "colab_type": "text"
      },
      "source": [
        "Os modelos e linguagens que o SpaCy suporta: https://spacy.io/usage/models\n",
        "\n",
        "Detalhes do modelo em português: https://spacy.io/models/pt\n"
      ]
    },
    {
      "cell_type": "code",
      "metadata": {
        "id": "bpF7RyFPa0Lj",
        "colab_type": "code",
        "outputId": "5e99ed26-3f9a-4586-892d-fba94f4d16a5",
        "colab": {
          "base_uri": "https://localhost:8080/",
          "height": 177
        }
      },
      "source": [
        "for x in \"olá turma\":\n",
        "  print(x)"
      ],
      "execution_count": 0,
      "outputs": [
        {
          "output_type": "stream",
          "text": [
            "o\n",
            "l\n",
            "á\n",
            " \n",
            "t\n",
            "u\n",
            "r\n",
            "m\n",
            "a\n"
          ],
          "name": "stdout"
        }
      ]
    },
    {
      "cell_type": "code",
      "metadata": {
        "colab_type": "code",
        "id": "cxv4W49BqDC_",
        "outputId": "c2643a5a-3e4d-455c-fd41-fcd95242c594",
        "colab": {
          "base_uri": "https://localhost:8080/",
          "height": 52
        }
      },
      "source": [
        "import spacy\n",
        "\n",
        "nlp = spacy.load('pt')\n",
        "\n",
        "doc = nlp(u'Você encontrou o livro que eu te falei, Carla?')\n",
        "\n",
        "print(type(doc))\n",
        "print([token.orth_ for token in doc])"
      ],
      "execution_count": 0,
      "outputs": [
        {
          "output_type": "stream",
          "text": [
            "<class 'spacy.tokens.doc.Doc'>\n",
            "['Você', 'encontrou', 'o', 'livro', 'que', 'eu', 'te', 'falei', ',', 'Carla', '?']\n"
          ],
          "name": "stdout"
        }
      ]
    },
    {
      "cell_type": "code",
      "metadata": {
        "id": "zkxmhVTe16p4",
        "colab_type": "code",
        "outputId": "57ea5150-3bd4-4ffe-bc09-e03f28ae3ce1",
        "colab": {
          "base_uri": "https://localhost:8080/",
          "height": 35
        }
      },
      "source": [
        "print([token.text for token in doc])"
      ],
      "execution_count": 0,
      "outputs": [
        {
          "output_type": "stream",
          "text": [
            "['Você', 'encontrou', 'o', 'livro', 'que', 'eu', 'te', 'falei', ',', 'Carla', '?']\n"
          ],
          "name": "stdout"
        }
      ]
    },
    {
      "cell_type": "code",
      "metadata": {
        "id": "dvXJTq8ofR3m",
        "colab_type": "code",
        "outputId": "339ea9c9-f94f-419e-afd3-dd7af45092f2",
        "colab": {
          "base_uri": "https://localhost:8080/",
          "height": 35
        }
      },
      "source": [
        "type(doc[0].orth_)"
      ],
      "execution_count": 0,
      "outputs": [
        {
          "output_type": "execute_result",
          "data": {
            "text/plain": [
              "str"
            ]
          },
          "metadata": {
            "tags": []
          },
          "execution_count": 246
        }
      ]
    },
    {
      "cell_type": "code",
      "metadata": {
        "id": "YXLpdMNH3XxY",
        "colab_type": "code",
        "outputId": "ef6e92ff-2ded-478a-cb7f-5b41d08c3c4c",
        "colab": {
          "base_uri": "https://localhost:8080/",
          "height": 35
        }
      },
      "source": [
        "doc[0].orth_"
      ],
      "execution_count": 0,
      "outputs": [
        {
          "output_type": "execute_result",
          "data": {
            "text/plain": [
              "'Você'"
            ]
          },
          "metadata": {
            "tags": []
          },
          "execution_count": 247
        }
      ]
    },
    {
      "cell_type": "code",
      "metadata": {
        "colab_type": "code",
        "id": "kihe7mhKrZFQ",
        "outputId": "5d1346a8-6517-41d2-8e19-a440b1f82a8c",
        "colab": {
          "base_uri": "https://localhost:8080/",
          "height": 212
        }
      },
      "source": [
        "[(token.text, token.orth_, token.pos_, token.dep_, spacy.explain(token.pos_)) for token in doc]"
      ],
      "execution_count": 0,
      "outputs": [
        {
          "output_type": "execute_result",
          "data": {
            "text/plain": [
              "[('Você', 'Você', 'PRON', 'nsubj', 'pronoun'),\n",
              " ('encontrou', 'encontrou', 'VERB', 'ROOT', 'verb'),\n",
              " ('o', 'o', 'DET', 'det', 'determiner'),\n",
              " ('livro', 'livro', 'NOUN', 'obj', 'noun'),\n",
              " ('que', 'que', 'PRON', 'obj', 'pronoun'),\n",
              " ('eu', 'eu', 'PRON', 'nsubj', 'pronoun'),\n",
              " ('te', 'te', 'VERB', 'obj', 'verb'),\n",
              " ('falei', 'falei', 'VERB', 'acl:relcl', 'verb'),\n",
              " (',', ',', 'PUNCT', 'punct', 'punctuation'),\n",
              " ('Carla', 'Carla', 'PROPN', 'conj', 'proper noun'),\n",
              " ('?', '?', 'PUNCT', 'punct', 'punctuation')]"
            ]
          },
          "metadata": {
            "tags": []
          },
          "execution_count": 248
        }
      ]
    },
    {
      "cell_type": "markdown",
      "metadata": {
        "id": "p4IKxyc0ghgX",
        "colab_type": "text"
      },
      "source": [
        "Uma lista completa de dependências sintáticas pode ser vista em: https://spacy.io/api/annotation#dependency-parsing \n",
        "\n",
        "Um bom material complementar para dependências sintáticas pode ser vista no [\"Stanford typed dependencies manual\"](https://nlp.stanford.edu/software/dependencies_manual.pdf)\n"
      ]
    },
    {
      "cell_type": "code",
      "metadata": {
        "id": "JGGhkVL5b_kb",
        "colab_type": "code",
        "outputId": "b29510a7-f834-4a75-f34c-99d953fd42a5",
        "colab": {
          "base_uri": "https://localhost:8080/",
          "height": 35
        }
      },
      "source": [
        "doc"
      ],
      "execution_count": 0,
      "outputs": [
        {
          "output_type": "execute_result",
          "data": {
            "text/plain": [
              "Você encontrou o livro que eu te falei, Carla?"
            ]
          },
          "metadata": {
            "tags": []
          },
          "execution_count": 249
        }
      ]
    },
    {
      "cell_type": "code",
      "metadata": {
        "id": "lX_bRMWpKE3R",
        "colab_type": "code",
        "outputId": "4715d82a-34cc-4898-ef8c-2f388b46da1c",
        "colab": {
          "base_uri": "https://localhost:8080/",
          "height": 212
        }
      },
      "source": [
        "[token.lemma_ for token in doc]"
      ],
      "execution_count": 0,
      "outputs": [
        {
          "output_type": "execute_result",
          "data": {
            "text/plain": [
              "['Você',\n",
              " 'encontrar',\n",
              " 'o',\n",
              " 'livrar',\n",
              " 'que',\n",
              " 'eu',\n",
              " 'te',\n",
              " 'falar',\n",
              " ',',\n",
              " 'Carla',\n",
              " '?']"
            ]
          },
          "metadata": {
            "tags": []
          },
          "execution_count": 250
        }
      ]
    },
    {
      "cell_type": "code",
      "metadata": {
        "id": "yD_Mmy2YKE3U",
        "colab_type": "code",
        "outputId": "bbdddf64-3a34-4a34-9edb-2e6aabdcbc51",
        "colab": {
          "base_uri": "https://localhost:8080/",
          "height": 35
        }
      },
      "source": [
        "doc = nlp(u'encontrardes, encontraram, encontrarão, encontrariam, encontrasse, encontraria')\n",
        "print([token.lemma_ for token in doc])"
      ],
      "execution_count": 0,
      "outputs": [
        {
          "output_type": "stream",
          "text": [
            "['encontrar', ',', 'encontrar', ',', 'encontrar', ',', 'encontrar', ',', 'encontrar', ',', 'encontrar']\n"
          ],
          "name": "stdout"
        }
      ]
    },
    {
      "cell_type": "markdown",
      "metadata": {
        "id": "AIbo-wEj5JUn",
        "colab_type": "text"
      },
      "source": [
        "Reconhecimento de entidades nomeadas - NER: Named-Enntity Recognition.\n",
        "\n",
        "Utilizada para reconhecer pessoas, locais, empresas, datas, numerais e outros."
      ]
    },
    {
      "cell_type": "code",
      "metadata": {
        "id": "_NPR6lntKE3X",
        "colab_type": "code",
        "outputId": "2e6d427d-7573-48d7-afc5-013812378875",
        "colab": {
          "base_uri": "https://localhost:8080/",
          "height": 35
        }
      },
      "source": [
        "doc = nlp(u'Pelé um dos melhores escritores do Brasil, \\\n",
        "foi o primeiro presidente da Academia Brasileira de Letras')\n",
        "\n",
        "print(doc.ents)"
      ],
      "execution_count": 0,
      "outputs": [
        {
          "output_type": "stream",
          "text": [
            "(Pelé, Brasil, Academia Brasileira de Letras)\n"
          ],
          "name": "stdout"
        }
      ]
    },
    {
      "cell_type": "code",
      "metadata": {
        "id": "F9APZK79KE3b",
        "colab_type": "code",
        "outputId": "87a36046-8798-4083-c8b1-c769883723f4",
        "colab": {
          "base_uri": "https://localhost:8080/",
          "height": 106
        }
      },
      "source": [
        "[(entity, entity.label_, spacy.explain(entity.label_)) for entity in doc.ents]"
      ],
      "execution_count": 0,
      "outputs": [
        {
          "output_type": "execute_result",
          "data": {
            "text/plain": [
              "[(Pelé, 'PER', 'Named person or family.'),\n",
              " (Brasil, 'LOC', 'Non-GPE locations, mountain ranges, bodies of water'),\n",
              " (Academia Brasileira de Letras,\n",
              "  'ORG',\n",
              "  'Companies, agencies, institutions, etc.')]"
            ]
          },
          "metadata": {
            "tags": []
          },
          "execution_count": 253
        }
      ]
    },
    {
      "cell_type": "code",
      "metadata": {
        "id": "qc0zcc6b_YZP",
        "colab_type": "code",
        "outputId": "f530aec0-ac6d-4f8e-a463-ff5ff095453a",
        "colab": {
          "base_uri": "https://localhost:8080/",
          "height": 319
        }
      },
      "source": [
        "[(entity, entity.pos_) for entity in doc]"
      ],
      "execution_count": 0,
      "outputs": [
        {
          "output_type": "execute_result",
          "data": {
            "text/plain": [
              "[(Pelé, 'PROPN'),\n",
              " (um, 'NUM'),\n",
              " (dos, 'ADP'),\n",
              " (melhores, 'ADJ'),\n",
              " (escritores, 'NOUN'),\n",
              " (do, 'ADP'),\n",
              " (Brasil, 'PROPN'),\n",
              " (,, 'PUNCT'),\n",
              " (foi, 'VERB'),\n",
              " (o, 'DET'),\n",
              " (primeiro, 'ADJ'),\n",
              " (presidente, 'NOUN'),\n",
              " (da, 'ADP'),\n",
              " (Academia, 'PROPN'),\n",
              " (Brasileira, 'PROPN'),\n",
              " (de, 'ADP'),\n",
              " (Letras, 'PROPN')]"
            ]
          },
          "metadata": {
            "tags": []
          },
          "execution_count": 254
        }
      ]
    },
    {
      "cell_type": "code",
      "metadata": {
        "id": "Ru_7c5mpia4E",
        "colab_type": "code",
        "outputId": "f05a3e6a-ee1e-43d4-8a0a-59e69b2893b2",
        "colab": {
          "base_uri": "https://localhost:8080/",
          "height": 70
        }
      },
      "source": [
        "doc8 = nlp(u'Google investirá 6 milhões de dólares')\n",
        "\n",
        "for token in doc8:\n",
        "    print(token.text, end =' | ')\n",
        "\n",
        "print('\\n----')\n",
        "\n",
        "for ent in doc8.ents:\n",
        "    print(ent.text + ' - ' + ent.label_ + ' - ' + str(spacy.explain(ent.label_)))"
      ],
      "execution_count": 0,
      "outputs": [
        {
          "output_type": "stream",
          "text": [
            "Google | investirá | 6 | milhões | de | dólares | \n",
            "----\n",
            "Google - ORG - Companies, agencies, institutions, etc.\n"
          ],
          "name": "stdout"
        }
      ]
    },
    {
      "cell_type": "code",
      "metadata": {
        "id": "RzVAI0Z6KE3g",
        "colab_type": "code",
        "outputId": "5cf7c40c-c5c3-4ea7-d51b-d20e4066cd1d",
        "colab": {
          "base_uri": "https://localhost:8080/",
          "height": 88
        }
      },
      "source": [
        "doc4 = nlp(u'Esta é a primeira sentença. Sr. esta é a segunda sentença. Esta é a terceira. Você já entendeu né?')\n",
        "\n",
        "for sent in doc4.sents:\n",
        "    print(sent)"
      ],
      "execution_count": 0,
      "outputs": [
        {
          "output_type": "stream",
          "text": [
            "Esta é a primeira sentença.\n",
            "Sr. esta é a segunda sentença.\n",
            "Esta é a terceira.\n",
            "Você já entendeu né?\n"
          ],
          "name": "stdout"
        }
      ]
    },
    {
      "cell_type": "code",
      "metadata": {
        "id": "uv6ta7C_7D2J",
        "colab_type": "code",
        "outputId": "ba909719-a379-4314-8aca-b81ec4508ef1",
        "colab": {
          "base_uri": "https://localhost:8080/",
          "height": 35
        }
      },
      "source": [
        "doc4[6]"
      ],
      "execution_count": 0,
      "outputs": [
        {
          "output_type": "execute_result",
          "data": {
            "text/plain": [
              "Sr."
            ]
          },
          "metadata": {
            "tags": []
          },
          "execution_count": 257
        }
      ]
    },
    {
      "cell_type": "code",
      "metadata": {
        "id": "5E6jPE6yh38K",
        "colab_type": "code",
        "outputId": "a5887d88-9703-4de8-f17a-2dc84ae228c7",
        "colab": {
          "base_uri": "https://localhost:8080/",
          "height": 52
        }
      },
      "source": [
        "print(doc4[6])\n",
        "print(doc4[6].is_sent_start)"
      ],
      "execution_count": 0,
      "outputs": [
        {
          "output_type": "stream",
          "text": [
            "Sr.\n",
            "True\n"
          ],
          "name": "stdout"
        }
      ]
    },
    {
      "cell_type": "code",
      "metadata": {
        "id": "GPqiHvM7h8Np",
        "colab_type": "code",
        "outputId": "1962ba7b-dce9-4606-8892-0c1ed531c058",
        "colab": {
          "base_uri": "https://localhost:8080/",
          "height": 55
        }
      },
      "source": [
        "print(nlp.Defaults.stop_words)"
      ],
      "execution_count": 0,
      "outputs": [
        {
          "output_type": "stream",
          "text": [
            "{'conselho', 'nem', 'tens', 'que', 'aos', 'final', 'meses', 'sua', 'tentar', 'devem', 'enquanto', 'quando', 'grandes', 'está', 'meus', 'vossos', 'cujo', 'nesse', 'esse', 'os', 'inicio', 'apenas', 'faz', 'lado', 'podem', 'fez', 'é', 'tuas', 'como', 'através', 'neste', 'bom', 'estivemos', 'ponto', 'corrente', 'assim', 'veja', 'oitava', 'dezoito', 'debaixo', 'fazia', 'aquele', 'mesmo', 'tiveste', 'qualquer', 'deverá', 'tipo', 'tarde', 'sim', 'todas', 'conhecido', 'quarta', 'faço', 'questão', 'contra', 'nada', 'minhas', 'vossa', 'aqueles', 'catorze', 'num', 'vos', 'vários', 'pois', 'estiveram', 'posso', 'com', 'foram', 'pouco', 'nossas', 'tenho', 'cedo', 'seu', 'forma', 'nove', 'eles', 'outras', 'longe', 'onde', 'zero', 'após', 'sabe', 'nunca', 'ali', 'por', 'mês', 'deste', 'tivestes', 'ou', 'vinda', 'vossas', 'vocês', 'foi', 'seis', 'cima', 'pouca', 'estive', 'oitavo', 'todo', 'ir', 'essa', 'quarto', 'do', 'desde', 'tentei', 'estes', 'vezes', 'esses', 'fazes', 'vós', 'segunda', 'cá', 'ainda', 'falta', 'muito', 'próxima', 'dezanove', 'eu', 'terceira', 'tão', 'és', 'sexto', 'lhe', 'na', 'outra', 'segundo', 'aqui', 'atrás', 'ser', 'grande', 'somente', 'era', 'embora', 'estar', 'próprio', 'parece', 'tu', 'bastante', 'ver', 'dar', 'posição', 'novo', 'cinco', 'minha', 'são', 'maiorias', 'fostes', 'cada', 'umas', 'logo', 'ela', 'vens', 'deve', 'ao', 'entre', 'partir', 'dá', 'seus', 'contudo', 'cuja', 'sobre', 'inclusive', 'de', 'pegar', 'isto', 'ambas', 'usar', 'oito', 'teu', 'conhecida', 'estou', 'primeira', 'último', 'tempo', 'quatro', 'grupo', 'terceiro', 'as', 'usa', 'quê', 'próximo', 'quanto', 'quer', 'também', 'nessa', 'irá', 'querem', 'da', 'à', 'ele', 'favor', 'adeus', 'somos', 'suas', 'meio', 'porquanto', 'fomos', 'ontem', 'apontar', 'mas', 'bem', 'coisa', 'aí', 'numa', 'fora', 'põe', 'nova', 'pelos', 'têm', 'foste', 'não', 'ligado', 'aquelas', 'só', 'doze', 'ambos', 'sistema', 'sem', 'fui', 'sexta', 'uns', 'tudo', 'momento', 'me', 'todos', 'vindo', 'no', 'um', 'nesta', 'portanto', 'algumas', 'lugar', 'antes', 'duas', 'apoia', 'temos', 'naquele', 'estão', 'parte', 'possível', 'aquilo', 'menor', 'fazem', 'uma', 'quieto', 'geral', 'fará', 'depois', 'você', 'números', 'porém', 'pelas', 'alguns', 'sob', 'sétima', 'puderam', 'caminho', 'sempre', 'agora', 'maior', 'quem', 'desse', 'máximo', 'vez', 'dezasseis', 'povo', 'possivelmente', 'daquele', 'treze', 'três', 'certamente', 'quero', 'lá', 'podia', 'em', 'algo', 'menos', 'quais', 'nosso', 'das', 'tem', 'talvez', 'daquela', 'sétimo', 'desta', 'perto', 'então', 'baixo', 'fim', 'onze', 'saber', 'vosso', 'número', 'dezassete', 'vêm', 'toda', 'estava', 'comprida', 'muitos', 'outros', 'iniciar', 'tanto', 'pelo', 'exemplo', 'sei', 'boa', 'vai', 'aquela', 'qual', 'nossa', 'nenhuma', 'teus', 'dizer', 'fazeis', 'mais', 'mal', 'diante', 'põem', 'tendes', 'dois', 'maioria', 'cento', 'comprido', 'demais', 'dão', 'área', 'certeza', 'porquê', 'mil', 'nós', 'valor', 'tanta', 'tiveram', 'dez', 'sou', 'vem', 'nossos', 'primeiro', 'tal', 'elas', 'para', 'apoio', 'esteve', 'des', 'quieta', 'estado', 'pôde', 'te', 'estás', 'este', 'já', 'quinta', 'ora', 'dentro', 'diz', 'ademais', 'nas', 'pode', 'tentaram', 'pela', 'poderá', 'estará', 'vão', 'esta', 'fazemos', 'local', 'às', 'tente', 'relação', 'estas', 'porque', 'nível', 'obrigado', 'disso', 'eventual', 'nuns', 'acerca', 'naquela', 'quinze', 'poder', 'fazer', 'isso', 'tua', 'custa', 'tivemos', 'ter', 'dizem', 'nos', 'estivestes', 'teve', 'for', 'tais', 'se', 'estiveste', 'quinto', 'meu', 'tive', 'novas', 'novos', 'sete', 'dessa', 'sois', 'obrigada', 'dos', 'além', 'direita', 'essas', 'breve', 'pontos', 'até', 'vinte', 'seria', 'vais'}\n"
          ],
          "name": "stdout"
        }
      ]
    },
    {
      "cell_type": "code",
      "metadata": {
        "id": "AWKYCRDojNR2",
        "colab_type": "code",
        "outputId": "781fb044-be56-48d7-9a77-8a7e50f76946",
        "colab": {
          "base_uri": "https://localhost:8080/",
          "height": 35
        }
      },
      "source": [
        "len(nlp.Defaults.stop_words)"
      ],
      "execution_count": 0,
      "outputs": [
        {
          "output_type": "execute_result",
          "data": {
            "text/plain": [
              "413"
            ]
          },
          "metadata": {
            "tags": []
          },
          "execution_count": 260
        }
      ]
    },
    {
      "cell_type": "code",
      "metadata": {
        "id": "u6UGby2DjU64",
        "colab_type": "code",
        "outputId": "d9713a73-e1a4-44b9-ce44-a06f0017c9b3",
        "colab": {
          "base_uri": "https://localhost:8080/",
          "height": 70
        }
      },
      "source": [
        "import nltk\n",
        "nltk.download('stopwords')\n",
        "\n",
        "stopwords = nltk.corpus.stopwords.words('portuguese')\n",
        "len(stopwords)"
      ],
      "execution_count": 0,
      "outputs": [
        {
          "output_type": "stream",
          "text": [
            "[nltk_data] Downloading package stopwords to /root/nltk_data...\n",
            "[nltk_data]   Package stopwords is already up-to-date!\n"
          ],
          "name": "stdout"
        },
        {
          "output_type": "execute_result",
          "data": {
            "text/plain": [
              "204"
            ]
          },
          "metadata": {
            "tags": []
          },
          "execution_count": 8
        }
      ]
    },
    {
      "cell_type": "code",
      "metadata": {
        "id": "XJtqP-KFjgem",
        "colab_type": "code",
        "outputId": "bdab739f-b652-46d4-e4d4-e821a056773d",
        "colab": {
          "base_uri": "https://localhost:8080/",
          "height": 195
        }
      },
      "source": [
        "#len(list(set(nlp.Defaults.stop_words) - set(stopwords)))\n",
        "list(set(nlp.Defaults.stop_words) - set(stopwords))[:10]"
      ],
      "execution_count": 0,
      "outputs": [
        {
          "output_type": "execute_result",
          "data": {
            "text/plain": [
              "['ligado',\n",
              " 'muitos',\n",
              " 'conselho',\n",
              " 'segunda',\n",
              " 'cá',\n",
              " 'outros',\n",
              " 'iniciar',\n",
              " 'tanto',\n",
              " 'ainda',\n",
              " 'vós']"
            ]
          },
          "metadata": {
            "tags": []
          },
          "execution_count": 276
        }
      ]
    },
    {
      "cell_type": "code",
      "metadata": {
        "id": "euRE5EWEi7aI",
        "colab_type": "code",
        "colab": {}
      },
      "source": [
        "doc = nlp(u'pegar')\n",
        "token = doc[0]"
      ],
      "execution_count": 0,
      "outputs": []
    },
    {
      "cell_type": "markdown",
      "metadata": {
        "id": "IukkB7hUku9M",
        "colab_type": "text"
      },
      "source": [
        "## Correspondência Baseada em Regras \n",
        "\n",
        "O spaCy oferece uma ferramenta de correspondência de regras chamada Matcher, que permite criar uma biblioteca de padrões de token e, em seguida, associar esses padrões a um objeto Doc para retornar uma lista de correspondências encontradas. Você pode combinar em qualquer parte do token, incluindo texto e anotações, e você pode adicionar vários padrões ao mesmo combinador."
      ]
    },
    {
      "cell_type": "code",
      "metadata": {
        "id": "uutHbv8UkGaT",
        "colab_type": "code",
        "colab": {}
      },
      "source": [
        "from spacy.matcher import Matcher\n",
        "matcher = Matcher(nlp.vocab)"
      ],
      "execution_count": 0,
      "outputs": []
    },
    {
      "cell_type": "markdown",
      "metadata": {
        "id": "trlgtXz5lJ6J",
        "colab_type": "text"
      },
      "source": [
        "Aqui matcher é um objeto que é emparelhado com o objeto Vocab atual. Podemos adicionar e remover matchers nomeados específicos para o matcher, conforme necessário."
      ]
    },
    {
      "cell_type": "markdown",
      "metadata": {
        "id": "ZiJM5rJ1loqQ",
        "colab_type": "text"
      },
      "source": [
        "Podemos encontrar o termo \"guarda-chuva\" como uma palavra ou duas, com ou sem um hífen. Nesta seção, vamos desenvolver um matcher que encontre todos os três:"
      ]
    },
    {
      "cell_type": "code",
      "metadata": {
        "id": "iITO-2i-lBCH",
        "colab_type": "code",
        "colab": {}
      },
      "source": [
        "pattern1 = [{'LOWER': 'guardachuva'}]\n",
        "pattern2 = [{'LOWER': 'guarda'}, {'LOWER': 'chuva'}]\n",
        "pattern3 = [{'LOWER': 'guarda'}, {'IS_PUNCT': True}, {'LOWER': 'chuva'}]\n",
        "\n",
        "matcher.add('GuardaChuva', None, pattern1, pattern2, pattern3)"
      ],
      "execution_count": 0,
      "outputs": []
    },
    {
      "cell_type": "code",
      "metadata": {
        "id": "e5TSsvpsmDvV",
        "colab_type": "code",
        "outputId": "4505494a-50b0-4eb7-ed0a-cb9b177c7a17",
        "colab": {
          "base_uri": "https://localhost:8080/",
          "height": 35
        }
      },
      "source": [
        "doc = nlp('Hoje eu esqueci meu guardachuva. \\\n",
        "Vou ter que comprar um novo guarda - chuva. \\\n",
        "Quanto custa um guarda chuva?')\n",
        "\n",
        "found_matches = matcher(doc)\n",
        "print(found_matches)"
      ],
      "execution_count": 0,
      "outputs": [
        {
          "output_type": "stream",
          "text": [
            "[(9998440168381091967, 2, 3), (12789480426693079439, 4, 5), (9998440168381091967, 9, 10), (12789480426693079439, 12, 15), (9998440168381091967, 17, 18), (12789480426693079439, 19, 21)]\n"
          ],
          "name": "stdout"
        }
      ]
    },
    {
      "cell_type": "code",
      "metadata": {
        "id": "f3t8-Nw1fVFW",
        "colab_type": "code",
        "outputId": "d066b5e2-1398-44a5-8940-599ff691d57f",
        "colab": {
          "base_uri": "https://localhost:8080/",
          "height": 35
        }
      },
      "source": [
        "doc[4:5]\n",
        "doc[12:15]\n",
        "doc[19:21]"
      ],
      "execution_count": 0,
      "outputs": [
        {
          "output_type": "execute_result",
          "data": {
            "text/plain": [
              "guarda chuva"
            ]
          },
          "metadata": {
            "tags": []
          },
          "execution_count": 280
        }
      ]
    },
    {
      "cell_type": "code",
      "metadata": {
        "id": "TD4o3trJmflv",
        "colab_type": "code",
        "outputId": "4cddb2e6-21f3-42bc-d8ee-6052ce1731d7",
        "colab": {
          "base_uri": "https://localhost:8080/",
          "height": 124
        }
      },
      "source": [
        "for match_id, start, end in found_matches:\n",
        "    string_id = nlp.vocab.strings[match_id]\n",
        "    span = doc[start:end]\n",
        "    print(match_id, string_id, start, end, span.text)"
      ],
      "execution_count": 0,
      "outputs": [
        {
          "output_type": "stream",
          "text": [
            "9998440168381091967 Personalida 2 3 esqueci\n",
            "12789480426693079439 GuardaChuva 4 5 guardachuva\n",
            "9998440168381091967 Personalida 9 10 comprar\n",
            "12789480426693079439 GuardaChuva 12 15 guarda - chuva\n",
            "9998440168381091967 Personalida 17 18 custa\n",
            "12789480426693079439 GuardaChuva 19 21 guarda chuva\n"
          ],
          "name": "stdout"
        }
      ]
    },
    {
      "cell_type": "markdown",
      "metadata": {
        "id": "Ts7j9EGOhK-q",
        "colab_type": "text"
      },
      "source": [
        "É possível usar opções de POS Tag e o Lema dos termos como no exemplo abaixo:"
      ]
    },
    {
      "cell_type": "code",
      "metadata": {
        "id": "bT0aMgDWbpsT",
        "colab_type": "code",
        "colab": {}
      },
      "source": [
        "matcher = Matcher(nlp.vocab)\n",
        "\n",
        "pattern = [{'POS': 'VERB'}]\n",
        "\n",
        "matcher.add('Personalida', None, pattern)"
      ],
      "execution_count": 0,
      "outputs": []
    },
    {
      "cell_type": "code",
      "metadata": {
        "id": "KRyd7YOgcbug",
        "colab_type": "code",
        "outputId": "49984c0d-c8e1-4c0c-d072-ad265afbc7b2",
        "colab": {
          "base_uri": "https://localhost:8080/",
          "height": 35
        }
      },
      "source": [
        "doc = nlp('O presidente Barak Obama visitou o Brasil')\n",
        "\n",
        "found_matches = matcher(doc)\n",
        "print(found_matches)"
      ],
      "execution_count": 0,
      "outputs": [
        {
          "output_type": "stream",
          "text": [
            "[(9998440168381091967, 4, 5)]\n"
          ],
          "name": "stdout"
        }
      ]
    },
    {
      "cell_type": "code",
      "metadata": {
        "id": "TLD9iHbmmUN0",
        "colab_type": "code",
        "outputId": "4327eeaf-b296-4266-c0a7-6bc87a6ebfa8",
        "colab": {
          "base_uri": "https://localhost:8080/",
          "height": 35
        }
      },
      "source": [
        "doc[4:5]"
      ],
      "execution_count": 0,
      "outputs": [
        {
          "output_type": "execute_result",
          "data": {
            "text/plain": [
              "visitou"
            ]
          },
          "metadata": {
            "tags": []
          },
          "execution_count": 289
        }
      ]
    },
    {
      "cell_type": "markdown",
      "metadata": {
        "id": "t2qY-3uTnFWA",
        "colab_type": "text"
      },
      "source": [
        "Os seguintes quantificadores podem ser passados para a chave `'OP'`:\n",
        "\n",
        "<table><tr><th>OP</th><th>Descrição</th></tr>\n",
        "\n",
        "<tr ><td><span >\\!</span></td><td>Nega o padrão, exigindo que ele corresponda exatamente 0 vezes</td></tr>\n",
        "<tr ><td><span >?</span></td><td>Torna o padrão opcional, permitindo que ele corresponda 0 ou 1 vezes</td></tr>\n",
        "<tr ><td><span >\\+</span></td><td>Exige que o padrão corresponda a uma ou mais vezes</td></tr>\n",
        "<tr ><td><span >\\*</span></td><td>Permite que o padrão corresponda a zero ou mais vezes</td></tr>\n",
        "</table>\n",
        "\n",
        "**Outros atributos de token**\n",
        "\n",
        "<table><tr><th>Atributo</th><th>Descrição</th></tr>\n",
        "\n",
        "<tr ><td><span >`ORTH`</span></td><td>O texto exato do token</td></tr>\n",
        "<tr ><td><span >`LOWER`</span></td><td>O texto em caixa baixa</td></tr>\n",
        "<tr ><td><span >`LENGTH`</span></td><td>O tamanho do texto do token</td></tr>\n",
        "<tr ><td><span >`IS_ALPHA`, `IS_ASCII`, `IS_DIGIT`</span></td><td>O texto do token consiste de alfanuméricos, ASCII, digitos</td></tr>\n",
        "<tr ><td><span >`IS_LOWER`, `IS_UPPER`, `IS_TITLE`</span></td><td>O texto do toen esta em  lowercase, uppercase, titlecase</td></tr>\n",
        "<tr ><td><span >`IS_PUNCT`, `IS_SPACE`, `IS_STOP`</span></td><td>Token é puntuação, espaço, stop-word</td></tr>\n",
        "<tr ><td><span >`LIKE_NUM`, `LIKE_URL`, `LIKE_EMAIL`</span></td><td>Texto do token se parece um numero, URL, email</td></tr>\n",
        "<tr ><td><span >`POS`, `TAG`, `DEP`, `LEMMA`, `SHAPE`</span></td><td>O token em sua representação de POS Tag, dependência, </td></tr>\n",
        "<tr ><td><span >`ENT_TYPE`</span></td><td>O tipo de entidade do token</td></tr>\n",
        "\n",
        "</table>\n",
        "\n",
        "\n",
        "Para saber mais sobre esta função da lib SpaCy: \n",
        "\n",
        "https://spacy.io/api/matcher\n",
        "\n",
        "https://spacy.io/usage/rule-based-matching\n",
        "\n",
        "https://spacy.io/usage/linguistic-features#section-rule-based-matching"
      ]
    }
  ]
}