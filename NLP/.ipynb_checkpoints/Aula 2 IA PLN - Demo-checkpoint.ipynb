{
  "nbformat": 4,
  "nbformat_minor": 0,
  "metadata": {
    "colab": {
      "name": "Aula 1.2 IA PLN - Demo.ipynb",
      "provenance": [],
      "collapsed_sections": []
    },
    "kernelspec": {
      "name": "python3",
      "display_name": "Python 3"
    }
  },
  "cells": [
    {
      "cell_type": "markdown",
      "metadata": {
        "id": "JdelQOET5rDj",
        "colab_type": "text"
      },
      "source": [
        "#**Processamento de Linguagem Natural**\n",
        "\n",
        "---\n"
      ]
    },
    {
      "cell_type": "markdown",
      "metadata": {
        "id": "VaLZoauH4KXg",
        "colab_type": "text"
      },
      "source": [
        "## DOCUMENTO / CORPUS\n",
        "\n",
        "---"
      ]
    },
    {
      "cell_type": "code",
      "metadata": {
        "id": "d4CKjpwJ2DD2",
        "colab_type": "code",
        "outputId": "67a06fd9-fd13-4e60-b87b-ad2a3847e4d0",
        "colab": {
          "base_uri": "https://localhost:8080/",
          "height": 111
        }
      },
      "source": [
        "import pandas as pd\n",
        "\n",
        "# Documento e Corpus\n",
        "df = pd.DataFrame({\n",
        "    'text': [\n",
        "      'Sobre MBA? Eu gostei muito do MBA da FIAP',\n",
        "      'O MBA da FIAP pode melhorar, não gostei muito'\n",
        "    ],\n",
        "    'class': [\n",
        "        'positivo',\n",
        "        'negativo'\n",
        "    ]})\n",
        "\n",
        "df.head()"
      ],
      "execution_count": 29,
      "outputs": [
        {
          "output_type": "execute_result",
          "data": {
            "text/html": [
              "<div>\n",
              "<style scoped>\n",
              "    .dataframe tbody tr th:only-of-type {\n",
              "        vertical-align: middle;\n",
              "    }\n",
              "\n",
              "    .dataframe tbody tr th {\n",
              "        vertical-align: top;\n",
              "    }\n",
              "\n",
              "    .dataframe thead th {\n",
              "        text-align: right;\n",
              "    }\n",
              "</style>\n",
              "<table border=\"1\" class=\"dataframe\">\n",
              "  <thead>\n",
              "    <tr style=\"text-align: right;\">\n",
              "      <th></th>\n",
              "      <th>text</th>\n",
              "      <th>class</th>\n",
              "    </tr>\n",
              "  </thead>\n",
              "  <tbody>\n",
              "    <tr>\n",
              "      <th>0</th>\n",
              "      <td>Sobre MBA? Eu gostei muito do MBA da FIAP</td>\n",
              "      <td>positivo</td>\n",
              "    </tr>\n",
              "    <tr>\n",
              "      <th>1</th>\n",
              "      <td>O MBA da FIAP pode melhorar, não gostei muito</td>\n",
              "      <td>negativo</td>\n",
              "    </tr>\n",
              "  </tbody>\n",
              "</table>\n",
              "</div>"
            ],
            "text/plain": [
              "                                            text     class\n",
              "0      Sobre MBA? Eu gostei muito do MBA da FIAP  positivo\n",
              "1  O MBA da FIAP pode melhorar, não gostei muito  negativo"
            ]
          },
          "metadata": {
            "tags": []
          },
          "execution_count": 29
        }
      ]
    },
    {
      "cell_type": "markdown",
      "metadata": {
        "id": "x3Kb4Wb2elpd",
        "colab_type": "text"
      },
      "source": [
        "## TOKENIZAÇÃO\n",
        "\n",
        "---"
      ]
    },
    {
      "cell_type": "code",
      "metadata": {
        "id": "WZoqP0WKfm2d",
        "colab_type": "code",
        "outputId": "0ec18552-c3f7-4c0f-cf83-9375071bc8f1",
        "colab": {
          "base_uri": "https://localhost:8080/",
          "height": 85
        }
      },
      "source": [
        "# aplica em uma string\n",
        "from nltk.tokenize import word_tokenize\n",
        "import nltk\n",
        "nltk.download('punkt')\n",
        "\n",
        "nome = 'Anderson Vieira Dourado'\n",
        "\n",
        "print(word_tokenize(nome))\n",
        "print(nome.split())"
      ],
      "execution_count": 30,
      "outputs": [
        {
          "output_type": "stream",
          "text": [
            "[nltk_data] Downloading package punkt to /root/nltk_data...\n",
            "[nltk_data]   Unzipping tokenizers/punkt.zip.\n",
            "['Anderson', 'Vieira', 'Dourado']\n",
            "['Anderson', 'Vieira', 'Dourado']\n"
          ],
          "name": "stdout"
        }
      ]
    },
    {
      "cell_type": "code",
      "metadata": {
        "id": "iA79KVRcg2Di",
        "colab_type": "code",
        "outputId": "e9c28f4a-e811-4295-9977-0d1f19a9bd4c",
        "colab": {
          "base_uri": "https://localhost:8080/",
          "height": 51
        }
      },
      "source": [
        "# Aplica em uma lista\n",
        "texto = ['Anderson Vieira Dourado','um dois, três']\n",
        "type(texto)\n",
        "\n",
        "# usando o split\n",
        "print(texto[1].split())\n",
        "[t.split() for t in texto]"
      ],
      "execution_count": 31,
      "outputs": [
        {
          "output_type": "stream",
          "text": [
            "['um', 'dois,', 'três']\n"
          ],
          "name": "stdout"
        },
        {
          "output_type": "execute_result",
          "data": {
            "text/plain": [
              "[['Anderson', 'Vieira', 'Dourado'], ['um', 'dois,', 'três']]"
            ]
          },
          "metadata": {
            "tags": []
          },
          "execution_count": 31
        }
      ]
    },
    {
      "cell_type": "code",
      "metadata": {
        "id": "iXRuWWdjkZtr",
        "colab_type": "code",
        "outputId": "9e2ea358-eb47-4d74-ff15-290e91efc332",
        "colab": {
          "base_uri": "https://localhost:8080/",
          "height": 34
        }
      },
      "source": [
        "#from nltk.tokenize import word_tokenize\n",
        "#import nltk\n",
        "#nltk.download('punkt')\n",
        "\n",
        "[word_tokenize(t) for t in texto]"
      ],
      "execution_count": 33,
      "outputs": [
        {
          "output_type": "execute_result",
          "data": {
            "text/plain": [
              "[['Anderson', 'Vieira', 'Dourado'], ['um', 'dois', ',', 'três']]"
            ]
          },
          "metadata": {
            "tags": []
          },
          "execution_count": 33
        }
      ]
    },
    {
      "cell_type": "code",
      "metadata": {
        "id": "weMWMKoGljZx",
        "colab_type": "code",
        "outputId": "3a3b153e-572a-49a5-a6e5-9ec95fb3d391",
        "colab": {
          "base_uri": "https://localhost:8080/",
          "height": 68
        }
      },
      "source": [
        "# Em um dataframe\n",
        "#from nltk.tokenize import word_tokenize\n",
        "#import nltk\n",
        "#nltk.download('punkt')\n",
        "\n",
        "print(df.text.apply(word_tokenize))\n",
        "\n",
        "df['tokens'] = df.text.apply(word_tokenize)"
      ],
      "execution_count": 34,
      "outputs": [
        {
          "output_type": "stream",
          "text": [
            "0    [Sobre, MBA, ?, Eu, gostei, muito, do, MBA, da...\n",
            "1    [O, MBA, da, FIAP, pode, melhorar, ,, não, gos...\n",
            "Name: text, dtype: object\n"
          ],
          "name": "stdout"
        }
      ]
    },
    {
      "cell_type": "code",
      "metadata": {
        "id": "Y9ws_prkmJUz",
        "colab_type": "code",
        "outputId": "7382eac0-46ae-45d6-a448-edb17c2c951e",
        "colab": {
          "base_uri": "https://localhost:8080/",
          "height": 51
        }
      },
      "source": [
        "# Em uma sentança (representada pelo ponto final)\n",
        "from nltk.tokenize import sent_tokenize, word_tokenize\n",
        "\n",
        "s = 'Anderson Vieira.\\nDourado'\n",
        "\n",
        "print(sent_tokenize(s))\n",
        "print([word_tokenize(t) for t in sent_tokenize(s)])"
      ],
      "execution_count": 35,
      "outputs": [
        {
          "output_type": "stream",
          "text": [
            "['Anderson Vieira.', 'Dourado']\n",
            "[['Anderson', 'Vieira', '.'], ['Dourado']]\n"
          ],
          "name": "stdout"
        }
      ]
    },
    {
      "cell_type": "code",
      "metadata": {
        "id": "VAo3WqWhjfg1",
        "colab_type": "code",
        "colab": {}
      },
      "source": [
        "#from nltk.tokenize import wordpunct_tokenize (separa por qualquer pontuação, inclusive números R$3,50 = 'R','$','3',',','50')"
      ],
      "execution_count": 0,
      "outputs": []
    },
    {
      "cell_type": "markdown",
      "metadata": {
        "id": "IqCkOL0C5-FC",
        "colab_type": "text"
      },
      "source": [
        "## UNIGRAMA\n",
        "\n",
        "---"
      ]
    },
    {
      "cell_type": "code",
      "metadata": {
        "id": "1rhnMqaq6Bgc",
        "colab_type": "code",
        "outputId": "fb6ff58a-140e-4a9e-9233-f088ff9086e7",
        "colab": {
          "base_uri": "https://localhost:8080/",
          "height": 68
        }
      },
      "source": [
        "df.text"
      ],
      "execution_count": 36,
      "outputs": [
        {
          "output_type": "execute_result",
          "data": {
            "text/plain": [
              "0        Sobre MBA? Eu gostei muito do MBA da FIAP\n",
              "1    O MBA da FIAP pode melhorar, não gostei muito\n",
              "Name: text, dtype: object"
            ]
          },
          "metadata": {
            "tags": []
          },
          "execution_count": 36
        }
      ]
    },
    {
      "cell_type": "code",
      "metadata": {
        "id": "G6kSv69h2jKs",
        "colab_type": "code",
        "outputId": "aa3fa0e7-2e3e-4ad0-f433-adc9ba379506",
        "colab": {
          "base_uri": "https://localhost:8080/",
          "height": 68
        }
      },
      "source": [
        "from sklearn.feature_extraction.text import CountVectorizer\n",
        "\n",
        "vect = CountVectorizer(ngram_range=(1,1))\n",
        "vect.fit(df.text)\n",
        "text_vect = vect.transform(df.text)\n",
        "\n",
        "print(pd.DataFrame(text_vect.A, columns=vect.get_feature_names()).to_string())"
      ],
      "execution_count": 37,
      "outputs": [
        {
          "output_type": "stream",
          "text": [
            "   da  do  eu  fiap  gostei  mba  melhorar  muito  não  pode  sobre\n",
            "0   1   1   1     1       1    2         0      1    0     0      1\n",
            "1   1   0   0     1       1    1         1      1    1     1      0\n"
          ],
          "name": "stdout"
        }
      ]
    },
    {
      "cell_type": "code",
      "metadata": {
        "id": "DqaSvPft7oMJ",
        "colab_type": "code",
        "outputId": "298cf3e2-ccda-42af-ea5f-5adc7415e9cd",
        "colab": {
          "base_uri": "https://localhost:8080/",
          "height": 51
        }
      },
      "source": [
        "text_vect"
      ],
      "execution_count": 38,
      "outputs": [
        {
          "output_type": "execute_result",
          "data": {
            "text/plain": [
              "<2x11 sparse matrix of type '<class 'numpy.int64'>'\n",
              "\twith 16 stored elements in Compressed Sparse Row format>"
            ]
          },
          "metadata": {
            "tags": []
          },
          "execution_count": 38
        }
      ]
    },
    {
      "cell_type": "markdown",
      "metadata": {
        "id": "PHfqBTzH6LQm",
        "colab_type": "text"
      },
      "source": [
        "## BIGRAMA\n",
        "\n",
        "---"
      ]
    },
    {
      "cell_type": "code",
      "metadata": {
        "id": "qDLdamcR2q4e",
        "colab_type": "code",
        "outputId": "78a65d1f-b1c8-49ee-e047-cff390d0e76a",
        "colab": {
          "base_uri": "https://localhost:8080/",
          "height": 88
        }
      },
      "source": [
        "from sklearn.feature_extraction.text import CountVectorizer\n",
        "\n",
        "vect = CountVectorizer(ngram_range=(2,2))\n",
        "vect.fit(df.text)\n",
        "text_vect = vect.transform(df.text)\n",
        "\n",
        "print(pd.DataFrame(text_vect.A, columns=vect.get_feature_names()).to_string())"
      ],
      "execution_count": 39,
      "outputs": [
        {
          "output_type": "stream",
          "text": [
            "   da fiap  do mba  eu gostei  fiap pode  gostei muito  mba da  mba eu  melhorar não  muito do  não gostei  pode melhorar  sobre mba\n",
            "0        1       1          1          0             1       1       1             0         1           0              0          1\n",
            "1        1       0          0          1             1       1       0             1         0           1              1          0\n"
          ],
          "name": "stdout"
        }
      ]
    },
    {
      "cell_type": "markdown",
      "metadata": {
        "id": "QIFnNUdM6SvU",
        "colab_type": "text"
      },
      "source": [
        "## TRIGRAMA\n",
        "\n",
        "---"
      ]
    },
    {
      "cell_type": "code",
      "metadata": {
        "id": "xalnPjjG2u7k",
        "colab_type": "code",
        "outputId": "97019a73-b8c8-4f72-b222-3f4850d80e4b",
        "colab": {
          "base_uri": "https://localhost:8080/",
          "height": 238
        }
      },
      "source": [
        "from sklearn.feature_extraction.text import CountVectorizer\n",
        "\n",
        "vect = CountVectorizer(ngram_range=(3,3))\n",
        "vect.fit(df.text)\n",
        "text_vect = vect.transform(df.text)\n",
        "\n",
        "print(pd.DataFrame(text_vect.A, columns=vect.get_feature_names()).T.to_string())"
      ],
      "execution_count": 40,
      "outputs": [
        {
          "output_type": "stream",
          "text": [
            "                     0  1\n",
            "da fiap pode         0  1\n",
            "do mba da            1  0\n",
            "eu gostei muito      1  0\n",
            "fiap pode melhorar   0  1\n",
            "gostei muito do      1  0\n",
            "mba da fiap          1  1\n",
            "mba eu gostei        1  0\n",
            "melhorar não gostei  0  1\n",
            "muito do mba         1  0\n",
            "não gostei muito     0  1\n",
            "pode melhorar não    0  1\n",
            "sobre mba eu         1  0\n"
          ],
          "name": "stdout"
        }
      ]
    },
    {
      "cell_type": "markdown",
      "metadata": {
        "id": "swmx7vR65mdb",
        "colab_type": "text"
      },
      "source": [
        "## REGEX\n",
        "\n",
        "---"
      ]
    },
    {
      "cell_type": "code",
      "metadata": {
        "id": "9YlTu0v36jmy",
        "colab_type": "code",
        "colab": {}
      },
      "source": [
        "email = \"dourado@gmail.com\""
      ],
      "execution_count": 0,
      "outputs": []
    },
    {
      "cell_type": "code",
      "metadata": {
        "id": "0DLpiJZvUT86",
        "colab_type": "code",
        "outputId": "6335909e-b6b5-4577-f1ea-5f8407e7b3c9",
        "colab": {
          "base_uri": "https://localhost:8080/",
          "height": 34
        }
      },
      "source": [
        "# função split do Python\n",
        "email.split(\"@\")[1].split(\".\")[0]\n",
        "\n",
        "#\"dourado@gmail.com\".split(\"@\")[1].split('.')[0]"
      ],
      "execution_count": 42,
      "outputs": [
        {
          "output_type": "execute_result",
          "data": {
            "text/plain": [
              "'gmail'"
            ]
          },
          "metadata": {
            "tags": []
          },
          "execution_count": 42
        }
      ]
    },
    {
      "cell_type": "code",
      "metadata": {
        "id": "QLP8WEzi_i7j",
        "colab_type": "code",
        "outputId": "224dbe63-d209-4e83-fce7-f977bf791945",
        "colab": {
          "base_uri": "https://localhost:8080/",
          "height": 34
        }
      },
      "source": [
        "\"dourado @ gmail . com\".split(\"@\")[1].split(\".\")[0]"
      ],
      "execution_count": 43,
      "outputs": [
        {
          "output_type": "execute_result",
          "data": {
            "text/plain": [
              "' gmail '"
            ]
          },
          "metadata": {
            "tags": []
          },
          "execution_count": 43
        }
      ]
    },
    {
      "cell_type": "code",
      "metadata": {
        "id": "LSUYkTSFEK7l",
        "colab_type": "code",
        "outputId": "063c8a10-1e87-417b-963e-ce80202ab18c",
        "colab": {
          "base_uri": "https://localhost:8080/",
          "height": 34
        }
      },
      "source": [
        "# importa pacote de regular expression\n",
        "import re\n",
        "\n",
        "regex = r\"(?<=@)[^.]+(?=\\.)\"\n",
        "re.findall(regex, email)"
      ],
      "execution_count": 44,
      "outputs": [
        {
          "output_type": "execute_result",
          "data": {
            "text/plain": [
              "['gmail']"
            ]
          },
          "metadata": {
            "tags": []
          },
          "execution_count": 44
        }
      ]
    },
    {
      "cell_type": "code",
      "metadata": {
        "id": "oP7VTbtgDkYq",
        "colab_type": "code",
        "outputId": "ffe101ed-7dea-43af-d04c-d5611fef65d5",
        "colab": {
          "base_uri": "https://localhost:8080/",
          "height": 34
        }
      },
      "source": [
        "# mede o tempo de execução de um trecho de código\n",
        "import timeit\n",
        "\n",
        "timeit.Timer(\n",
        " 're.findall(regex, \"dourado@gmail.com\")',\n",
        " 'import re; regex = r\"(?<=@)[^.]+(?=\\.)\"'\n",
        ").repeat(2)"
      ],
      "execution_count": 45,
      "outputs": [
        {
          "output_type": "execute_result",
          "data": {
            "text/plain": [
              "[1.0397238760001528, 1.005114360999869]"
            ]
          },
          "metadata": {
            "tags": []
          },
          "execution_count": 45
        }
      ]
    },
    {
      "cell_type": "code",
      "metadata": {
        "id": "rBmaBfknD0l7",
        "colab_type": "code",
        "outputId": "098fe71b-a23e-4598-83b1-3cb2f2ae7ded",
        "colab": {
          "base_uri": "https://localhost:8080/",
          "height": 34
        }
      },
      "source": [
        "import timeit\n",
        "\n",
        "timeit.Timer(\n",
        " '\"dourado@gmail.com\".split(\"@\")[1].split(\".\")[0]'\n",
        ").repeat(2)"
      ],
      "execution_count": 46,
      "outputs": [
        {
          "output_type": "execute_result",
          "data": {
            "text/plain": [
              "[0.4450652930004253, 0.4276345179996497]"
            ]
          },
          "metadata": {
            "tags": []
          },
          "execution_count": 46
        }
      ]
    },
    {
      "cell_type": "code",
      "metadata": {
        "id": "u_0q3goBYfGJ",
        "colab_type": "code",
        "colab": {}
      },
      "source": [
        "import antigravity\n",
        "\n",
        "#Abrir o site: https://xkcd.com/353/"
      ],
      "execution_count": 0,
      "outputs": []
    },
    {
      "cell_type": "code",
      "metadata": {
        "id": "OiOFT26cD-W6",
        "colab_type": "code",
        "outputId": "48b08fb6-e923-48e4-8a42-528fdd715ed8",
        "colab": {
          "base_uri": "https://localhost:8080/",
          "height": 374
        }
      },
      "source": [
        "import this"
      ],
      "execution_count": 48,
      "outputs": [
        {
          "output_type": "stream",
          "text": [
            "The Zen of Python, by Tim Peters\n",
            "\n",
            "Beautiful is better than ugly.\n",
            "Explicit is better than implicit.\n",
            "Simple is better than complex.\n",
            "Complex is better than complicated.\n",
            "Flat is better than nested.\n",
            "Sparse is better than dense.\n",
            "Readability counts.\n",
            "Special cases aren't special enough to break the rules.\n",
            "Although practicality beats purity.\n",
            "Errors should never pass silently.\n",
            "Unless explicitly silenced.\n",
            "In the face of ambiguity, refuse the temptation to guess.\n",
            "There should be one-- and preferably only one --obvious way to do it.\n",
            "Although that way may not be obvious at first unless you're Dutch.\n",
            "Now is better than never.\n",
            "Although never is often better than *right* now.\n",
            "If the implementation is hard to explain, it's a bad idea.\n",
            "If the implementation is easy to explain, it may be a good idea.\n",
            "Namespaces are one honking great idea -- let's do more of those!\n"
          ],
          "name": "stdout"
        }
      ]
    },
    {
      "cell_type": "markdown",
      "metadata": {
        "id": "poR8p3MAKOIG",
        "colab_type": "text"
      },
      "source": [
        "    Bonito é melhor que feio.\n",
        "    Explícito é melhor que implícito.\n",
        "    Simples é melhor que Complexo.\n",
        "    Complexo é melhor que complicado.\n",
        "    Achatado é melhor que aninhado.\n",
        "    Disperso é melhor que compacto.\n",
        "    Legibilidade conta.\n",
        "    Casos especiais não são especiais o suficiente para quebrar as regras.\n",
        "    Apesar de praticidade vencer a pureza.\n",
        "    Erros nunca devem passar despercebidos.\n",
        "    A menos que passem explicitamente \"despercebidos\".\n",
        "    Diante de ambiguidades, recuse a tentação de deduzir.\n",
        "    Deve haver uma --e preferencialmente só uma-- maneira fácil de fazer isto.\n",
        "    Apesar de que a maneira não pode ser óbvia de primeira, a não ser que você seja \"asiático\".\n",
        "    Agora é melhor do que nunca.\n",
        "    Porém, muitas vezes nunca é melhor do que *agora*.\n",
        "    Se a implementação é difícil de explicar, é uma péssima ideia.\n",
        "    Se a implementação é fácil de explicar, pode ser uma boa ideia.\n",
        "    Namespaces são uma grande ideia gritante -- vamos fazer mais dessas!"
      ]
    },
    {
      "cell_type": "markdown",
      "metadata": {
        "id": "GzrIMF-vkQUW",
        "colab_type": "text"
      },
      "source": [
        "Caracteres ou metacaracteres\n",
        "\n",
        "    meta - O que faz?\n",
        "    ---------------------\n",
        "    . - Qualquer caractere\n",
        "    [] - Lista de caracteres\n",
        "    [^] - Lista negada\n",
        "    ? - Anterior pode existir ou não\n",
        "    .* - Qualquer coisa\n",
        "    {x} - Anterior aparece x vezes\n",
        "    $ - Fim da linha\n",
        "    + - Anterior ao menos ums vez\n",
        "    (xy) - Cria grupos\n",
        "    ^ - Começo da linha\n",
        "    \\ - escapa o meta (ignora)\n",
        "    | - ou\n",
        "    \n"
      ]
    },
    {
      "cell_type": "code",
      "metadata": {
        "id": "UHiGfhPskQDH",
        "colab_type": "code",
        "colab": {}
      },
      "source": [
        "import re\n",
        "#email\n",
        "re.findall(r'.',email)\n",
        "re.findall(r'[a-z]',email)\n",
        "re.findall(r'[0-9]',email)\n",
        "re.findall(r'.*',email)\n",
        "re.findall(r'$',email)\n",
        "\n",
        "re.findall(r'[a-z]+',email)\n",
        "\n",
        "re.findall(r'^.',email)\n",
        "re.findall(r'^d',email)"
      ],
      "execution_count": 0,
      "outputs": []
    },
    {
      "cell_type": "markdown",
      "metadata": {
        "id": "SSK6DZRdmKo8",
        "colab_type": "text"
      },
      "source": [
        "## STOPWORDS"
      ]
    },
    {
      "cell_type": "code",
      "metadata": {
        "id": "hp5M3u_XrGqY",
        "colab_type": "code",
        "outputId": "cd595a8b-80b9-4fe2-baad-c1cba1bd2288",
        "colab": {
          "base_uri": "https://localhost:8080/",
          "height": 51
        }
      },
      "source": [
        "import nltk\n",
        "nltk.download('stopwords')\n",
        "\n",
        "stops = nltk.corpus.stopwords.words('english')"
      ],
      "execution_count": 50,
      "outputs": [
        {
          "output_type": "stream",
          "text": [
            "[nltk_data] Downloading package stopwords to /root/nltk_data...\n",
            "[nltk_data]   Unzipping corpora/stopwords.zip.\n"
          ],
          "name": "stdout"
        }
      ]
    },
    {
      "cell_type": "code",
      "metadata": {
        "id": "IB8EYOCU9--r",
        "colab_type": "code",
        "outputId": "a4ff64ae-7205-4ddf-d6bb-71dcd3374b4f",
        "colab": {
          "base_uri": "https://localhost:8080/",
          "height": 34
        }
      },
      "source": [
        "# remove uma stopword da lista\n",
        "stops.pop(3)"
      ],
      "execution_count": 51,
      "outputs": [
        {
          "output_type": "execute_result",
          "data": {
            "text/plain": [
              "'myself'"
            ]
          },
          "metadata": {
            "tags": []
          },
          "execution_count": 51
        }
      ]
    },
    {
      "cell_type": "code",
      "metadata": {
        "id": "N-gT5nMg91FW",
        "colab_type": "code",
        "outputId": "af9fc80f-7218-4199-e27f-75d12c0b7fff",
        "colab": {
          "base_uri": "https://localhost:8080/",
          "height": 34
        }
      },
      "source": [
        "# lista as 10 primeiras stopwords\n",
        "stops[:10]"
      ],
      "execution_count": 52,
      "outputs": [
        {
          "output_type": "execute_result",
          "data": {
            "text/plain": [
              "['i', 'me', 'my', 'we', 'our', 'ours', 'ourselves', 'you', \"you're\", \"you've\"]"
            ]
          },
          "metadata": {
            "tags": []
          },
          "execution_count": 52
        }
      ]
    },
    {
      "cell_type": "code",
      "metadata": {
        "id": "GoE1kJ6UZ_oA",
        "colab_type": "code",
        "colab": {}
      },
      "source": [
        "# podemos criar nossa propria lista\n",
        "stops = stops + [\"anderson\", \"fiap\"]"
      ],
      "execution_count": 0,
      "outputs": []
    },
    {
      "cell_type": "code",
      "metadata": {
        "id": "3vvZzFQS9zjq",
        "colab_type": "code",
        "outputId": "01fd50ef-a9e8-4758-edc4-4a4538f1d014",
        "colab": {
          "base_uri": "https://localhost:8080/",
          "height": 1000
        }
      },
      "source": [
        "# lista todas as stopwords\n",
        "stops"
      ],
      "execution_count": 54,
      "outputs": [
        {
          "output_type": "execute_result",
          "data": {
            "text/plain": [
              "['i',\n",
              " 'me',\n",
              " 'my',\n",
              " 'we',\n",
              " 'our',\n",
              " 'ours',\n",
              " 'ourselves',\n",
              " 'you',\n",
              " \"you're\",\n",
              " \"you've\",\n",
              " \"you'll\",\n",
              " \"you'd\",\n",
              " 'your',\n",
              " 'yours',\n",
              " 'yourself',\n",
              " 'yourselves',\n",
              " 'he',\n",
              " 'him',\n",
              " 'his',\n",
              " 'himself',\n",
              " 'she',\n",
              " \"she's\",\n",
              " 'her',\n",
              " 'hers',\n",
              " 'herself',\n",
              " 'it',\n",
              " \"it's\",\n",
              " 'its',\n",
              " 'itself',\n",
              " 'they',\n",
              " 'them',\n",
              " 'their',\n",
              " 'theirs',\n",
              " 'themselves',\n",
              " 'what',\n",
              " 'which',\n",
              " 'who',\n",
              " 'whom',\n",
              " 'this',\n",
              " 'that',\n",
              " \"that'll\",\n",
              " 'these',\n",
              " 'those',\n",
              " 'am',\n",
              " 'is',\n",
              " 'are',\n",
              " 'was',\n",
              " 'were',\n",
              " 'be',\n",
              " 'been',\n",
              " 'being',\n",
              " 'have',\n",
              " 'has',\n",
              " 'had',\n",
              " 'having',\n",
              " 'do',\n",
              " 'does',\n",
              " 'did',\n",
              " 'doing',\n",
              " 'a',\n",
              " 'an',\n",
              " 'the',\n",
              " 'and',\n",
              " 'but',\n",
              " 'if',\n",
              " 'or',\n",
              " 'because',\n",
              " 'as',\n",
              " 'until',\n",
              " 'while',\n",
              " 'of',\n",
              " 'at',\n",
              " 'by',\n",
              " 'for',\n",
              " 'with',\n",
              " 'about',\n",
              " 'against',\n",
              " 'between',\n",
              " 'into',\n",
              " 'through',\n",
              " 'during',\n",
              " 'before',\n",
              " 'after',\n",
              " 'above',\n",
              " 'below',\n",
              " 'to',\n",
              " 'from',\n",
              " 'up',\n",
              " 'down',\n",
              " 'in',\n",
              " 'out',\n",
              " 'on',\n",
              " 'off',\n",
              " 'over',\n",
              " 'under',\n",
              " 'again',\n",
              " 'further',\n",
              " 'then',\n",
              " 'once',\n",
              " 'here',\n",
              " 'there',\n",
              " 'when',\n",
              " 'where',\n",
              " 'why',\n",
              " 'how',\n",
              " 'all',\n",
              " 'any',\n",
              " 'both',\n",
              " 'each',\n",
              " 'few',\n",
              " 'more',\n",
              " 'most',\n",
              " 'other',\n",
              " 'some',\n",
              " 'such',\n",
              " 'no',\n",
              " 'nor',\n",
              " 'not',\n",
              " 'only',\n",
              " 'own',\n",
              " 'same',\n",
              " 'so',\n",
              " 'than',\n",
              " 'too',\n",
              " 'very',\n",
              " 's',\n",
              " 't',\n",
              " 'can',\n",
              " 'will',\n",
              " 'just',\n",
              " 'don',\n",
              " \"don't\",\n",
              " 'should',\n",
              " \"should've\",\n",
              " 'now',\n",
              " 'd',\n",
              " 'll',\n",
              " 'm',\n",
              " 'o',\n",
              " 're',\n",
              " 've',\n",
              " 'y',\n",
              " 'ain',\n",
              " 'aren',\n",
              " \"aren't\",\n",
              " 'couldn',\n",
              " \"couldn't\",\n",
              " 'didn',\n",
              " \"didn't\",\n",
              " 'doesn',\n",
              " \"doesn't\",\n",
              " 'hadn',\n",
              " \"hadn't\",\n",
              " 'hasn',\n",
              " \"hasn't\",\n",
              " 'haven',\n",
              " \"haven't\",\n",
              " 'isn',\n",
              " \"isn't\",\n",
              " 'ma',\n",
              " 'mightn',\n",
              " \"mightn't\",\n",
              " 'mustn',\n",
              " \"mustn't\",\n",
              " 'needn',\n",
              " \"needn't\",\n",
              " 'shan',\n",
              " \"shan't\",\n",
              " 'shouldn',\n",
              " \"shouldn't\",\n",
              " 'wasn',\n",
              " \"wasn't\",\n",
              " 'weren',\n",
              " \"weren't\",\n",
              " 'won',\n",
              " \"won't\",\n",
              " 'wouldn',\n",
              " \"wouldn't\",\n",
              " 'anderson',\n",
              " 'fiap']"
            ]
          },
          "metadata": {
            "tags": []
          },
          "execution_count": 54
        }
      ]
    },
    {
      "cell_type": "code",
      "metadata": {
        "id": "VI2P65ED96Vp",
        "colab_type": "code",
        "outputId": "507fb62a-9ef4-487d-f9af-fd0ba1e9536f",
        "colab": {
          "base_uri": "https://localhost:8080/",
          "height": 34
        }
      },
      "source": [
        "len(stops)"
      ],
      "execution_count": 55,
      "outputs": [
        {
          "output_type": "execute_result",
          "data": {
            "text/plain": [
              "180"
            ]
          },
          "metadata": {
            "tags": []
          },
          "execution_count": 55
        }
      ]
    },
    {
      "cell_type": "code",
      "metadata": {
        "id": "nhi1oSyK6ekI",
        "colab_type": "code",
        "outputId": "8dd5cb6c-2847-4f8a-8254-99f3a4c350e6",
        "colab": {
          "base_uri": "https://localhost:8080/",
          "height": 119
        }
      },
      "source": [
        "# Aplicando a utilização das stopwords\n",
        "from sklearn.feature_extraction.text import CountVectorizer\n",
        "\n",
        "stops = nltk.corpus.stopwords.words('portuguese') + [\"fiap\"]\n",
        "\n",
        "vect = CountVectorizer(ngram_range=(1,1), stop_words=stops)\n",
        "vect.fit(df.text)\n",
        "text_vect = vect.transform(df.text)\n",
        "\n",
        "print(pd.DataFrame(text_vect.A, columns=vect.get_feature_names()).T.to_string())"
      ],
      "execution_count": 56,
      "outputs": [
        {
          "output_type": "stream",
          "text": [
            "          0  1\n",
            "gostei    1  1\n",
            "mba       2  1\n",
            "melhorar  0  1\n",
            "pode      0  1\n",
            "sobre     1  0\n"
          ],
          "name": "stdout"
        }
      ]
    },
    {
      "cell_type": "code",
      "metadata": {
        "id": "niXXv3e-6kb0",
        "colab_type": "code",
        "outputId": "1319acef-0d15-4eb2-ef66-cd8cd03a0a5e",
        "colab": {
          "base_uri": "https://localhost:8080/",
          "height": 102
        }
      },
      "source": [
        "import nltk\n",
        "nltk.download('stopwords')\n",
        "nltk.download('rslp')"
      ],
      "execution_count": 57,
      "outputs": [
        {
          "output_type": "stream",
          "text": [
            "[nltk_data] Downloading package stopwords to /root/nltk_data...\n",
            "[nltk_data]   Package stopwords is already up-to-date!\n",
            "[nltk_data] Downloading package rslp to /root/nltk_data...\n",
            "[nltk_data]   Unzipping stemmers/rslp.zip.\n"
          ],
          "name": "stdout"
        },
        {
          "output_type": "execute_result",
          "data": {
            "text/plain": [
              "True"
            ]
          },
          "metadata": {
            "tags": []
          },
          "execution_count": 57
        }
      ]
    },
    {
      "cell_type": "code",
      "metadata": {
        "id": "Sc4YJdb96m5z",
        "colab_type": "code",
        "outputId": "d38e76ea-12db-47c5-ad45-005a3151c86f",
        "colab": {
          "base_uri": "https://localhost:8080/",
          "height": 34
        }
      },
      "source": [
        "print(nltk.corpus.stopwords.words('portuguese')[:10])"
      ],
      "execution_count": 58,
      "outputs": [
        {
          "output_type": "stream",
          "text": [
            "['de', 'a', 'o', 'que', 'e', 'é', 'do', 'da', 'em', 'um']\n"
          ],
          "name": "stdout"
        }
      ]
    },
    {
      "cell_type": "code",
      "metadata": {
        "id": "Dj6gDOA2bxWO",
        "colab_type": "code",
        "outputId": "87d9c073-04ff-4250-f661-a361c4b15235",
        "colab": {
          "base_uri": "https://localhost:8080/",
          "height": 34
        }
      },
      "source": [
        "len(stops)"
      ],
      "execution_count": 59,
      "outputs": [
        {
          "output_type": "execute_result",
          "data": {
            "text/plain": [
              "205"
            ]
          },
          "metadata": {
            "tags": []
          },
          "execution_count": 59
        }
      ]
    },
    {
      "cell_type": "markdown",
      "metadata": {
        "colab_type": "text",
        "id": "8Y9kNz9WXUDP"
      },
      "source": [
        "## PART-OF-SPEECH TAGGER (POS-Tag)"
      ]
    },
    {
      "cell_type": "code",
      "metadata": {
        "id": "sXlbSKvRBr4u",
        "colab_type": "code",
        "outputId": "7787897a-6510-47bb-ffc1-f1df9e9e023d",
        "colab": {
          "base_uri": "https://localhost:8080/",
          "height": 306
        }
      },
      "source": [
        "# Tokenizxação\n",
        "from nltk.tokenize import word_tokenize\n",
        "from nltk.tag import pos_tag\n",
        "import nltk\n",
        "nltk.download('punkt')\n",
        "nltk.download('averaged_perceptron_tagger')\n",
        "nltk.download('universal_tagset')\n",
        "\n",
        "pos_tag(word_tokenize(\"John's big idea isn't all that bad.\"))"
      ],
      "execution_count": 60,
      "outputs": [
        {
          "output_type": "stream",
          "text": [
            "[nltk_data] Downloading package punkt to /root/nltk_data...\n",
            "[nltk_data]   Package punkt is already up-to-date!\n",
            "[nltk_data] Downloading package averaged_perceptron_tagger to\n",
            "[nltk_data]     /root/nltk_data...\n",
            "[nltk_data]   Unzipping taggers/averaged_perceptron_tagger.zip.\n",
            "[nltk_data] Downloading package universal_tagset to /root/nltk_data...\n",
            "[nltk_data]   Unzipping taggers/universal_tagset.zip.\n"
          ],
          "name": "stdout"
        },
        {
          "output_type": "execute_result",
          "data": {
            "text/plain": [
              "[('John', 'NNP'),\n",
              " (\"'s\", 'POS'),\n",
              " ('big', 'JJ'),\n",
              " ('idea', 'NN'),\n",
              " ('is', 'VBZ'),\n",
              " (\"n't\", 'RB'),\n",
              " ('all', 'PDT'),\n",
              " ('that', 'DT'),\n",
              " ('bad', 'JJ'),\n",
              " ('.', '.')]"
            ]
          },
          "metadata": {
            "tags": []
          },
          "execution_count": 60
        }
      ]
    },
    {
      "cell_type": "code",
      "metadata": {
        "id": "oqqNTNCABrwk",
        "colab_type": "code",
        "outputId": "f4f5669b-3a9c-4a5c-ed68-c553c1c5405f",
        "colab": {
          "base_uri": "https://localhost:8080/",
          "height": 187
        }
      },
      "source": [
        "pos_tag(word_tokenize(\"John's big idea isn't all that bad.\"),tagset='universal')"
      ],
      "execution_count": 61,
      "outputs": [
        {
          "output_type": "execute_result",
          "data": {
            "text/plain": [
              "[('John', 'NOUN'),\n",
              " (\"'s\", 'PRT'),\n",
              " ('big', 'ADJ'),\n",
              " ('idea', 'NOUN'),\n",
              " ('is', 'VERB'),\n",
              " (\"n't\", 'ADV'),\n",
              " ('all', 'DET'),\n",
              " ('that', 'DET'),\n",
              " ('bad', 'ADJ'),\n",
              " ('.', '.')]"
            ]
          },
          "metadata": {
            "tags": []
          },
          "execution_count": 61
        }
      ]
    },
    {
      "cell_type": "markdown",
      "metadata": {
        "id": "Oh60rZ8NIijA",
        "colab_type": "text"
      },
      "source": [
        "De/Para do POS Tag com o tagset='universal':\n",
        "\n",
        "- NOUN (nouns / substantivos)\n",
        "- VERB (verbs / verbos)\n",
        "- ADJ (adjectives / adjetivos)\n",
        "- ADV (adverbs / advérbios)\n",
        "- PRON (pronouns / pronomes)\n",
        "- DET (determiners and articles / determinantes e artigos)\n",
        "- ADP (adpositions - prepositions and postpositions / adições - preposições e postposições)\n",
        "- NUM (numerals / numerais)\n",
        "- CONJ (conjunctions / conjunções)\n",
        "- PRT (particles / partículas)\n",
        "- . (punctuation marks / sinais de pontuação)\n",
        "- X (a catch-all for other categories such as abbreviations or foreign words / um exemplo geral para outras categorias, como abreviações ou palavras estrangeiras)"
      ]
    },
    {
      "cell_type": "code",
      "metadata": {
        "id": "lEkLwe40E71L",
        "colab_type": "code",
        "outputId": "31e12fef-8915-45bf-b29e-9c1cd2a7b570",
        "colab": {
          "base_uri": "https://localhost:8080/",
          "height": 170
        }
      },
      "source": [
        "import nltk\n",
        "nltk.download('punkt')\n",
        "nltk.download('averaged_perceptron_tagger')\n",
        "nltk.download('universal_tagset')"
      ],
      "execution_count": 62,
      "outputs": [
        {
          "output_type": "stream",
          "text": [
            "[nltk_data] Downloading package punkt to /root/nltk_data...\n",
            "[nltk_data]   Package punkt is already up-to-date!\n",
            "[nltk_data] Downloading package averaged_perceptron_tagger to\n",
            "[nltk_data]     /root/nltk_data...\n",
            "[nltk_data]   Package averaged_perceptron_tagger is already up-to-\n",
            "[nltk_data]       date!\n",
            "[nltk_data] Downloading package universal_tagset to /root/nltk_data...\n",
            "[nltk_data]   Package universal_tagset is already up-to-date!\n"
          ],
          "name": "stdout"
        },
        {
          "output_type": "execute_result",
          "data": {
            "text/plain": [
              "True"
            ]
          },
          "metadata": {
            "tags": []
          },
          "execution_count": 62
        }
      ]
    },
    {
      "cell_type": "code",
      "metadata": {
        "id": "7AVtgwMEBk-M",
        "colab_type": "code",
        "outputId": "96e9cda6-cdd1-4fbe-b243-3d2666d54ce7",
        "colab": {
          "base_uri": "https://localhost:8080/",
          "height": 111
        }
      },
      "source": [
        "# Tokenizxação\n",
        "from nltk.tokenize import word_tokenize\n",
        "\n",
        "#df['tokens'] = df.text.apply(word_tokenize)\n",
        "df[[\"tokens\",\"text\"]]"
      ],
      "execution_count": 64,
      "outputs": [
        {
          "output_type": "execute_result",
          "data": {
            "text/html": [
              "<div>\n",
              "<style scoped>\n",
              "    .dataframe tbody tr th:only-of-type {\n",
              "        vertical-align: middle;\n",
              "    }\n",
              "\n",
              "    .dataframe tbody tr th {\n",
              "        vertical-align: top;\n",
              "    }\n",
              "\n",
              "    .dataframe thead th {\n",
              "        text-align: right;\n",
              "    }\n",
              "</style>\n",
              "<table border=\"1\" class=\"dataframe\">\n",
              "  <thead>\n",
              "    <tr style=\"text-align: right;\">\n",
              "      <th></th>\n",
              "      <th>tokens</th>\n",
              "      <th>text</th>\n",
              "    </tr>\n",
              "  </thead>\n",
              "  <tbody>\n",
              "    <tr>\n",
              "      <th>0</th>\n",
              "      <td>[Sobre, MBA, ?, Eu, gostei, muito, do, MBA, da...</td>\n",
              "      <td>Sobre MBA? Eu gostei muito do MBA da FIAP</td>\n",
              "    </tr>\n",
              "    <tr>\n",
              "      <th>1</th>\n",
              "      <td>[O, MBA, da, FIAP, pode, melhorar, ,, não, gos...</td>\n",
              "      <td>O MBA da FIAP pode melhorar, não gostei muito</td>\n",
              "    </tr>\n",
              "  </tbody>\n",
              "</table>\n",
              "</div>"
            ],
            "text/plain": [
              "                                              tokens                                           text\n",
              "0  [Sobre, MBA, ?, Eu, gostei, muito, do, MBA, da...      Sobre MBA? Eu gostei muito do MBA da FIAP\n",
              "1  [O, MBA, da, FIAP, pode, melhorar, ,, não, gos...  O MBA da FIAP pode melhorar, não gostei muito"
            ]
          },
          "metadata": {
            "tags": []
          },
          "execution_count": 64
        }
      ]
    },
    {
      "cell_type": "code",
      "metadata": {
        "id": "aRuCY82SXnQV",
        "colab_type": "code",
        "outputId": "e19ebe14-c1db-41ec-b8ce-594b9424f800",
        "colab": {
          "base_uri": "https://localhost:8080/",
          "height": 187
        }
      },
      "source": [
        "# Rotular parte do discurso\n",
        "from nltk.tag import pos_tag\n",
        "\n",
        "df['tags'] = df.tokens.apply(pos_tag, tagset='universal')\n",
        "df.tags[1]"
      ],
      "execution_count": 65,
      "outputs": [
        {
          "output_type": "execute_result",
          "data": {
            "text/plain": [
              "[('O', 'NOUN'),\n",
              " ('MBA', 'NOUN'),\n",
              " ('da', 'NOUN'),\n",
              " ('FIAP', 'NOUN'),\n",
              " ('pode', 'NOUN'),\n",
              " ('melhorar', 'NOUN'),\n",
              " (',', '.'),\n",
              " ('não', 'ADJ'),\n",
              " ('gostei', 'NOUN'),\n",
              " ('muito', 'NOUN')]"
            ]
          },
          "metadata": {
            "tags": []
          },
          "execution_count": 65
        }
      ]
    }
  ]
}