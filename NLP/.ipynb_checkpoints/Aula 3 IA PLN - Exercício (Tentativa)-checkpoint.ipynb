{
 "cells": [
  {
   "cell_type": "markdown",
   "metadata": {},
   "source": [
    "# Exercício - Aula 3:\n",
    "\n",
    "## AulaDadoodatasetdeprodutos[1],descubra:\n",
    "\n",
    "● TreinemodelodeclassificaçãoDecisionTreeClassifierdopacotescikit-learnparaclassificarosprodutosemsuascategorias\n",
    "\n",
    "● Testediferentesconfiguraçõesden-grama,vetorização,stemmere/oulemmatizer\n",
    "\n",
    "● Compareaperformanceentreelesusandoamétricadeacurácia\n",
    "\n",
    "● Userandon_stateiguala42parapermitiracomparaçãocomseuscolegas.\n",
    "\n",
    "\n",
    "[1] - https://dados-ml-pln.s3-sa-east-1.amazonaws.com/produtos.csv"
   ]
  },
  {
   "cell_type": "code",
   "execution_count": 18,
   "metadata": {},
   "outputs": [
    {
     "data": {
      "text/html": [
       "<div>\n",
       "<style scoped>\n",
       "    .dataframe tbody tr th:only-of-type {\n",
       "        vertical-align: middle;\n",
       "    }\n",
       "\n",
       "    .dataframe tbody tr th {\n",
       "        vertical-align: top;\n",
       "    }\n",
       "\n",
       "    .dataframe thead th {\n",
       "        text-align: right;\n",
       "    }\n",
       "</style>\n",
       "<table border=\"1\" class=\"dataframe\">\n",
       "  <thead>\n",
       "    <tr style=\"text-align: right;\">\n",
       "      <th></th>\n",
       "      <th>nome</th>\n",
       "      <th>descricao</th>\n",
       "      <th>categoria</th>\n",
       "    </tr>\n",
       "  </thead>\n",
       "  <tbody>\n",
       "    <tr>\n",
       "      <th>count</th>\n",
       "      <td>4080</td>\n",
       "      <td>2916</td>\n",
       "      <td>4080</td>\n",
       "    </tr>\n",
       "    <tr>\n",
       "      <th>unique</th>\n",
       "      <td>3696</td>\n",
       "      <td>2460</td>\n",
       "      <td>4</td>\n",
       "    </tr>\n",
       "    <tr>\n",
       "      <th>top</th>\n",
       "      <td>Mais Escuro - Cinquenta Tons Mais Escuros Pel...</td>\n",
       "      <td>JOGO ORIGINAL. NOVO. LACRADO. PRONTA ENTREGA. ...</td>\n",
       "      <td>brinquedo</td>\n",
       "    </tr>\n",
       "    <tr>\n",
       "      <th>freq</th>\n",
       "      <td>20</td>\n",
       "      <td>39</td>\n",
       "      <td>1020</td>\n",
       "    </tr>\n",
       "  </tbody>\n",
       "</table>\n",
       "</div>"
      ],
      "text/plain": [
       "                                                     nome  \\\n",
       "count                                                4080   \n",
       "unique                                               3696   \n",
       "top      Mais Escuro - Cinquenta Tons Mais Escuros Pel...   \n",
       "freq                                                   20   \n",
       "\n",
       "                                                descricao  categoria  \n",
       "count                                                2916       4080  \n",
       "unique                                               2460          4  \n",
       "top     JOGO ORIGINAL. NOVO. LACRADO. PRONTA ENTREGA. ...  brinquedo  \n",
       "freq                                                   39       1020  "
      ]
     },
     "execution_count": 18,
     "metadata": {},
     "output_type": "execute_result"
    }
   ],
   "source": [
    "# coleta do Dataset\n",
    "\n",
    "import pandas as pd\n",
    "\n",
    "df = pd.read_csv(\"https://dados-ml-pln.s3-sa-east-1.amazonaws.com/produtos.csv\", delimiter=\";\", encoding='utf-8')\n",
    "\n",
    "df.describe()"
   ]
  },
  {
   "cell_type": "code",
   "execution_count": 19,
   "metadata": {},
   "outputs": [
    {
     "data": {
      "text/plain": [
       "(2916, 4)"
      ]
     },
     "execution_count": 19,
     "metadata": {},
     "output_type": "execute_result"
    }
   ],
   "source": [
    "#limpeza do dataset e criação de uma coluna para unir o nome e descrição dos produtos\n",
    "\n",
    "df.dropna(inplace=True) # exclui registros com valores faltantes no própro objeto. inplace=False retorna uma cópia sem alterar o objeto.\n",
    "\n",
    "df[\"text\"] = df['nome'] + \" \" + df['descricao']\n",
    "\n",
    "df.shape"
   ]
  },
  {
   "cell_type": "code",
   "execution_count": 32,
   "metadata": {},
   "outputs": [
    {
     "name": "stderr",
     "output_type": "stream",
     "text": [
      "[nltk_data] Downloading package stopwords to\n",
      "[nltk_data]     C:\\Users\\BRJUVEN1\\AppData\\Roaming\\nltk_data...\n",
      "[nltk_data]   Package stopwords is already up-to-date!\n"
     ]
    }
   ],
   "source": [
    "# n-grama com Unigrama - Preparação dos dados \n",
    "\n",
    "from sklearn.feature_extraction.text import CountVectorizer\n",
    "import nltk\n",
    "\n",
    "nltk.download('stopwords')\n",
    "\n",
    "stops = nltk.corpus.stopwords.words('portuguese')\n",
    "\n",
    "# Situação 1 para Decision Tree\n",
    "vect1 = CountVectorizer(ngram_range=(1,1)) #ainda sem extrair as Stopwords\n",
    "vect1.fit(df.text)\n",
    "text_vect1 = vect1.transform(df.text)\n",
    "\n",
    "#Situação 2 para Decision Tree\n",
    "vect2 = CountVectorizer(ngram_range=(1,1), stop_words = stops) #extraindo as Stopwords\n",
    "vect2.fit(df.text)\n",
    "text_vect2 = vect2.transform(df.text)\n",
    "\n",
    "\n",
    "vect3 = CountVectorizer(ngram_range=(1,1), stop_words = stops) #extraindo as Stopwords\n",
    "vect3.fit(df.text)\n",
    "text_vect3 = vect3.transform(df.text)\n",
    "\n"
   ]
  },
  {
   "cell_type": "code",
   "execution_count": 33,
   "metadata": {},
   "outputs": [],
   "source": [
    "from sklearn.model_selection import train_test_split\n",
    "\n",
    "X_train1, X_test1, y_train1, y_test1 = train_test_split(\n",
    "            text_vect1,\n",
    "            df['categoria'],\n",
    "            test_size = 0.2,\n",
    "            random_state = 42\n",
    "            )\n",
    "\n",
    "\n",
    "\n",
    "X_train2, X_test2, y_train2, y_test2 = train_test_split(\n",
    "            text_vect2,\n",
    "            df['categoria'],\n",
    "            test_size = 0.2,\n",
    "            random_state = 42\n",
    "            )\n",
    "\n",
    "\n",
    "\n",
    "X_train3, X_test3, y_train3, y_test3 = train_test_split(\n",
    "            text_vect3,\n",
    "            df['categoria'],\n",
    "            test_size = 0.2,\n",
    "            random_state = 42\n",
    "            )\n",
    "\n",
    "\n",
    "\n",
    "X_train4, X_test4, y_train4, y_test4 = train_test_split(\n",
    "            text_vect4,\n",
    "            df['categoria'],\n",
    "            test_size = 0.2,\n",
    "            random_state = 42\n",
    "            )\n",
    "\n",
    "\n",
    "\n",
    "X_train5, X_test5, y_train5, y_test5 = train_test_split(\n",
    "            text_vect5,\n",
    "            df['categoria'],\n",
    "            test_size = 0.2,\n",
    "            random_state = 42\n",
    "            )\n",
    "\n",
    "\n"
   ]
  },
  {
   "cell_type": "code",
   "execution_count": 34,
   "metadata": {},
   "outputs": [
    {
     "name": "stdout",
     "output_type": "stream",
     "text": [
      "Acurácia para o Decision Tree:  0.9554794520547946\n"
     ]
    }
   ],
   "source": [
    "from sklearn.tree import DecisionTreeClassifier\n",
    "\n",
    "tree = DecisionTreeClassifier(random_state=42)\n",
    "tree.fit(X_train, y_train)\n",
    "\n",
    "print('Acurácia para o Decision Tree: ', tree.score(X_test, y_test))\n"
   ]
  },
  {
   "cell_type": "code",
   "execution_count": null,
   "metadata": {},
   "outputs": [],
   "source": [
    "# agora removendo as Stopwords\n",
    "\n"
   ]
  },
  {
   "cell_type": "code",
   "execution_count": 37,
   "metadata": {},
   "outputs": [
    {
     "name": "stdout",
     "output_type": "stream",
     "text": [
      "0.9554794520547946\n"
     ]
    }
   ],
   "source": [
    "\n",
    "\n",
    "from sklearn.metrics import accuracy_score\n",
    "\n",
    "y_prediction = tree.predict(X_test)\n",
    "\n",
    "accuracy = accuracy_score(y_prediction, y_test)\n",
    "\n",
    "print(accuracy)"
   ]
  },
  {
   "cell_type": "code",
   "execution_count": null,
   "metadata": {},
   "outputs": [],
   "source": []
  }
 ],
 "metadata": {
  "kernelspec": {
   "display_name": "Python 3",
   "language": "python",
   "name": "python3"
  },
  "language_info": {
   "codemirror_mode": {
    "name": "ipython",
    "version": 3
   },
   "file_extension": ".py",
   "mimetype": "text/x-python",
   "name": "python",
   "nbconvert_exporter": "python",
   "pygments_lexer": "ipython3",
   "version": "3.7.7"
  }
 },
 "nbformat": 4,
 "nbformat_minor": 4
}
