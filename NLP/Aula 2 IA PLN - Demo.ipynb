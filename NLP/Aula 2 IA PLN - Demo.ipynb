{
 "cells": [
  {
   "cell_type": "markdown",
   "metadata": {
    "colab_type": "text",
    "id": "JdelQOET5rDj"
   },
   "source": [
    "#**Processamento de Linguagem Natural**\n",
    "\n",
    "---\n"
   ]
  },
  {
   "cell_type": "markdown",
   "metadata": {
    "colab_type": "text",
    "id": "VaLZoauH4KXg"
   },
   "source": [
    "## DOCUMENTO / CORPUS\n",
    "\n",
    "---"
   ]
  },
  {
   "cell_type": "code",
   "execution_count": 29,
   "metadata": {
    "colab": {
     "base_uri": "https://localhost:8080/",
     "height": 111
    },
    "colab_type": "code",
    "id": "d4CKjpwJ2DD2",
    "outputId": "67a06fd9-fd13-4e60-b87b-ad2a3847e4d0"
   },
   "outputs": [
    {
     "data": {
      "text/html": [
       "<div>\n",
       "<style scoped>\n",
       "    .dataframe tbody tr th:only-of-type {\n",
       "        vertical-align: middle;\n",
       "    }\n",
       "\n",
       "    .dataframe tbody tr th {\n",
       "        vertical-align: top;\n",
       "    }\n",
       "\n",
       "    .dataframe thead th {\n",
       "        text-align: right;\n",
       "    }\n",
       "</style>\n",
       "<table border=\"1\" class=\"dataframe\">\n",
       "  <thead>\n",
       "    <tr style=\"text-align: right;\">\n",
       "      <th></th>\n",
       "      <th>text</th>\n",
       "      <th>class</th>\n",
       "    </tr>\n",
       "  </thead>\n",
       "  <tbody>\n",
       "    <tr>\n",
       "      <th>0</th>\n",
       "      <td>Sobre MBA? Eu gostei muito do MBA da FIAP</td>\n",
       "      <td>positivo</td>\n",
       "    </tr>\n",
       "    <tr>\n",
       "      <th>1</th>\n",
       "      <td>O MBA da FIAP pode melhorar, não gostei muito</td>\n",
       "      <td>negativo</td>\n",
       "    </tr>\n",
       "  </tbody>\n",
       "</table>\n",
       "</div>"
      ],
      "text/plain": [
       "                                            text     class\n",
       "0      Sobre MBA? Eu gostei muito do MBA da FIAP  positivo\n",
       "1  O MBA da FIAP pode melhorar, não gostei muito  negativo"
      ]
     },
     "execution_count": 29,
     "metadata": {
      "tags": []
     },
     "output_type": "execute_result"
    }
   ],
   "source": [
    "import pandas as pd\n",
    "\n",
    "# Documento e Corpus\n",
    "df = pd.DataFrame({\n",
    "    'text': [\n",
    "      'Sobre MBA? Eu gostei muito do MBA da FIAP',\n",
    "      'O MBA da FIAP pode melhorar, não gostei muito'\n",
    "    ],\n",
    "    'class': [\n",
    "        'positivo',\n",
    "        'negativo'\n",
    "    ]})\n",
    "\n",
    "df.head()"
   ]
  },
  {
   "cell_type": "markdown",
   "metadata": {
    "colab_type": "text",
    "id": "x3Kb4Wb2elpd"
   },
   "source": [
    "## TOKENIZAÇÃO\n",
    "\n",
    "---"
   ]
  },
  {
   "cell_type": "code",
   "execution_count": 30,
   "metadata": {
    "colab": {
     "base_uri": "https://localhost:8080/",
     "height": 85
    },
    "colab_type": "code",
    "id": "WZoqP0WKfm2d",
    "outputId": "0ec18552-c3f7-4c0f-cf83-9375071bc8f1"
   },
   "outputs": [
    {
     "name": "stdout",
     "output_type": "stream",
     "text": [
      "[nltk_data] Downloading package punkt to /root/nltk_data...\n",
      "[nltk_data]   Unzipping tokenizers/punkt.zip.\n",
      "['Anderson', 'Vieira', 'Dourado']\n",
      "['Anderson', 'Vieira', 'Dourado']\n"
     ]
    }
   ],
   "source": [
    "# aplica em uma string\n",
    "from nltk.tokenize import word_tokenize\n",
    "import nltk\n",
    "nltk.download('punkt')\n",
    "\n",
    "nome = 'Anderson Vieira Dourado'\n",
    "\n",
    "print(word_tokenize(nome))\n",
    "print(nome.split())"
   ]
  },
  {
   "cell_type": "code",
   "execution_count": 31,
   "metadata": {
    "colab": {
     "base_uri": "https://localhost:8080/",
     "height": 51
    },
    "colab_type": "code",
    "id": "iA79KVRcg2Di",
    "outputId": "e9c28f4a-e811-4295-9977-0d1f19a9bd4c"
   },
   "outputs": [
    {
     "name": "stdout",
     "output_type": "stream",
     "text": [
      "['um', 'dois,', 'três']\n"
     ]
    },
    {
     "data": {
      "text/plain": [
       "[['Anderson', 'Vieira', 'Dourado'], ['um', 'dois,', 'três']]"
      ]
     },
     "execution_count": 31,
     "metadata": {
      "tags": []
     },
     "output_type": "execute_result"
    }
   ],
   "source": [
    "# Aplica em uma lista\n",
    "texto = ['Anderson Vieira Dourado','um dois, três']\n",
    "type(texto)\n",
    "\n",
    "# usando o split\n",
    "print(texto[1].split())\n",
    "[t.split() for t in texto]"
   ]
  },
  {
   "cell_type": "code",
   "execution_count": 33,
   "metadata": {
    "colab": {
     "base_uri": "https://localhost:8080/",
     "height": 34
    },
    "colab_type": "code",
    "id": "iXRuWWdjkZtr",
    "outputId": "9e2ea358-eb47-4d74-ff15-290e91efc332"
   },
   "outputs": [
    {
     "data": {
      "text/plain": [
       "[['Anderson', 'Vieira', 'Dourado'], ['um', 'dois', ',', 'três']]"
      ]
     },
     "execution_count": 33,
     "metadata": {
      "tags": []
     },
     "output_type": "execute_result"
    }
   ],
   "source": [
    "#from nltk.tokenize import word_tokenize\n",
    "#import nltk\n",
    "#nltk.download('punkt')\n",
    "\n",
    "[word_tokenize(t) for t in texto]"
   ]
  },
  {
   "cell_type": "code",
   "execution_count": 34,
   "metadata": {
    "colab": {
     "base_uri": "https://localhost:8080/",
     "height": 68
    },
    "colab_type": "code",
    "id": "weMWMKoGljZx",
    "outputId": "3a3b153e-572a-49a5-a6e5-9ec95fb3d391"
   },
   "outputs": [
    {
     "name": "stdout",
     "output_type": "stream",
     "text": [
      "0    [Sobre, MBA, ?, Eu, gostei, muito, do, MBA, da...\n",
      "1    [O, MBA, da, FIAP, pode, melhorar, ,, não, gos...\n",
      "Name: text, dtype: object\n"
     ]
    }
   ],
   "source": [
    "# Em um dataframe\n",
    "#from nltk.tokenize import word_tokenize\n",
    "#import nltk\n",
    "#nltk.download('punkt')\n",
    "\n",
    "print(df.text.apply(word_tokenize))\n",
    "\n",
    "df['tokens'] = df.text.apply(word_tokenize)"
   ]
  },
  {
   "cell_type": "code",
   "execution_count": 35,
   "metadata": {
    "colab": {
     "base_uri": "https://localhost:8080/",
     "height": 51
    },
    "colab_type": "code",
    "id": "Y9ws_prkmJUz",
    "outputId": "7382eac0-46ae-45d6-a448-edb17c2c951e"
   },
   "outputs": [
    {
     "name": "stdout",
     "output_type": "stream",
     "text": [
      "['Anderson Vieira.', 'Dourado']\n",
      "[['Anderson', 'Vieira', '.'], ['Dourado']]\n"
     ]
    }
   ],
   "source": [
    "# Em uma sentança (representada pelo ponto final)\n",
    "from nltk.tokenize import sent_tokenize, word_tokenize\n",
    "\n",
    "s = 'Anderson Vieira.\\nDourado'\n",
    "\n",
    "print(sent_tokenize(s))\n",
    "print([word_tokenize(t) for t in sent_tokenize(s)])"
   ]
  },
  {
   "cell_type": "code",
   "execution_count": null,
   "metadata": {
    "colab": {},
    "colab_type": "code",
    "id": "VAo3WqWhjfg1"
   },
   "outputs": [],
   "source": [
    "#from nltk.tokenize import wordpunct_tokenize (separa por qualquer pontuação, inclusive números R$3,50 = 'R','$','3',',','50')"
   ]
  },
  {
   "cell_type": "markdown",
   "metadata": {
    "colab_type": "text",
    "id": "IqCkOL0C5-FC"
   },
   "source": [
    "## UNIGRAMA\n",
    "\n",
    "---"
   ]
  },
  {
   "cell_type": "code",
   "execution_count": 36,
   "metadata": {
    "colab": {
     "base_uri": "https://localhost:8080/",
     "height": 68
    },
    "colab_type": "code",
    "id": "1rhnMqaq6Bgc",
    "outputId": "fb6ff58a-140e-4a9e-9233-f088ff9086e7"
   },
   "outputs": [
    {
     "data": {
      "text/plain": [
       "0        Sobre MBA? Eu gostei muito do MBA da FIAP\n",
       "1    O MBA da FIAP pode melhorar, não gostei muito\n",
       "Name: text, dtype: object"
      ]
     },
     "execution_count": 36,
     "metadata": {
      "tags": []
     },
     "output_type": "execute_result"
    }
   ],
   "source": [
    "df.text"
   ]
  },
  {
   "cell_type": "code",
   "execution_count": 37,
   "metadata": {
    "colab": {
     "base_uri": "https://localhost:8080/",
     "height": 68
    },
    "colab_type": "code",
    "id": "G6kSv69h2jKs",
    "outputId": "aa3fa0e7-2e3e-4ad0-f433-adc9ba379506"
   },
   "outputs": [
    {
     "name": "stdout",
     "output_type": "stream",
     "text": [
      "   da  do  eu  fiap  gostei  mba  melhorar  muito  não  pode  sobre\n",
      "0   1   1   1     1       1    2         0      1    0     0      1\n",
      "1   1   0   0     1       1    1         1      1    1     1      0\n"
     ]
    }
   ],
   "source": [
    "from sklearn.feature_extraction.text import CountVectorizer\n",
    "\n",
    "vect = CountVectorizer(ngram_range=(1,1))\n",
    "vect.fit(df.text)\n",
    "text_vect = vect.transform(df.text)\n",
    "\n",
    "print(pd.DataFrame(text_vect.A, columns=vect.get_feature_names()).to_string())"
   ]
  },
  {
   "cell_type": "code",
   "execution_count": 38,
   "metadata": {
    "colab": {
     "base_uri": "https://localhost:8080/",
     "height": 51
    },
    "colab_type": "code",
    "id": "DqaSvPft7oMJ",
    "outputId": "298cf3e2-ccda-42af-ea5f-5adc7415e9cd"
   },
   "outputs": [
    {
     "data": {
      "text/plain": [
       "<2x11 sparse matrix of type '<class 'numpy.int64'>'\n",
       "\twith 16 stored elements in Compressed Sparse Row format>"
      ]
     },
     "execution_count": 38,
     "metadata": {
      "tags": []
     },
     "output_type": "execute_result"
    }
   ],
   "source": [
    "text_vect"
   ]
  },
  {
   "cell_type": "markdown",
   "metadata": {
    "colab_type": "text",
    "id": "PHfqBTzH6LQm"
   },
   "source": [
    "## BIGRAMA\n",
    "\n",
    "---"
   ]
  },
  {
   "cell_type": "code",
   "execution_count": 39,
   "metadata": {
    "colab": {
     "base_uri": "https://localhost:8080/",
     "height": 88
    },
    "colab_type": "code",
    "id": "qDLdamcR2q4e",
    "outputId": "78a65d1f-b1c8-49ee-e047-cff390d0e76a"
   },
   "outputs": [
    {
     "name": "stdout",
     "output_type": "stream",
     "text": [
      "   da fiap  do mba  eu gostei  fiap pode  gostei muito  mba da  mba eu  melhorar não  muito do  não gostei  pode melhorar  sobre mba\n",
      "0        1       1          1          0             1       1       1             0         1           0              0          1\n",
      "1        1       0          0          1             1       1       0             1         0           1              1          0\n"
     ]
    }
   ],
   "source": [
    "from sklearn.feature_extraction.text import CountVectorizer\n",
    "\n",
    "vect = CountVectorizer(ngram_range=(2,2))\n",
    "vect.fit(df.text)\n",
    "text_vect = vect.transform(df.text)\n",
    "\n",
    "print(pd.DataFrame(text_vect.A, columns=vect.get_feature_names()).to_string())"
   ]
  },
  {
   "cell_type": "markdown",
   "metadata": {
    "colab_type": "text",
    "id": "QIFnNUdM6SvU"
   },
   "source": [
    "## TRIGRAMA\n",
    "\n",
    "---"
   ]
  },
  {
   "cell_type": "code",
   "execution_count": 40,
   "metadata": {
    "colab": {
     "base_uri": "https://localhost:8080/",
     "height": 238
    },
    "colab_type": "code",
    "id": "xalnPjjG2u7k",
    "outputId": "97019a73-b8c8-4f72-b222-3f4850d80e4b"
   },
   "outputs": [
    {
     "name": "stdout",
     "output_type": "stream",
     "text": [
      "                     0  1\n",
      "da fiap pode         0  1\n",
      "do mba da            1  0\n",
      "eu gostei muito      1  0\n",
      "fiap pode melhorar   0  1\n",
      "gostei muito do      1  0\n",
      "mba da fiap          1  1\n",
      "mba eu gostei        1  0\n",
      "melhorar não gostei  0  1\n",
      "muito do mba         1  0\n",
      "não gostei muito     0  1\n",
      "pode melhorar não    0  1\n",
      "sobre mba eu         1  0\n"
     ]
    }
   ],
   "source": [
    "from sklearn.feature_extraction.text import CountVectorizer\n",
    "\n",
    "vect = CountVectorizer(ngram_range=(3,3))\n",
    "vect.fit(df.text)\n",
    "text_vect = vect.transform(df.text)\n",
    "\n",
    "print(pd.DataFrame(text_vect.A, columns=vect.get_feature_names()).T.to_string())"
   ]
  },
  {
   "cell_type": "markdown",
   "metadata": {
    "colab_type": "text",
    "id": "swmx7vR65mdb"
   },
   "source": [
    "## REGEX\n",
    "\n",
    "---"
   ]
  },
  {
   "cell_type": "code",
   "execution_count": null,
   "metadata": {
    "colab": {},
    "colab_type": "code",
    "id": "9YlTu0v36jmy"
   },
   "outputs": [],
   "source": [
    "email = \"dourado@gmail.com\""
   ]
  },
  {
   "cell_type": "code",
   "execution_count": 42,
   "metadata": {
    "colab": {
     "base_uri": "https://localhost:8080/",
     "height": 34
    },
    "colab_type": "code",
    "id": "0DLpiJZvUT86",
    "outputId": "6335909e-b6b5-4577-f1ea-5f8407e7b3c9"
   },
   "outputs": [
    {
     "data": {
      "text/plain": [
       "'gmail'"
      ]
     },
     "execution_count": 42,
     "metadata": {
      "tags": []
     },
     "output_type": "execute_result"
    }
   ],
   "source": [
    "# função split do Python\n",
    "email.split(\"@\")[1].split(\".\")[0]\n",
    "\n",
    "#\"dourado@gmail.com\".split(\"@\")[1].split('.')[0]"
   ]
  },
  {
   "cell_type": "code",
   "execution_count": 43,
   "metadata": {
    "colab": {
     "base_uri": "https://localhost:8080/",
     "height": 34
    },
    "colab_type": "code",
    "id": "QLP8WEzi_i7j",
    "outputId": "224dbe63-d209-4e83-fce7-f977bf791945"
   },
   "outputs": [
    {
     "data": {
      "text/plain": [
       "' gmail '"
      ]
     },
     "execution_count": 43,
     "metadata": {
      "tags": []
     },
     "output_type": "execute_result"
    }
   ],
   "source": [
    "\"dourado @ gmail . com\".split(\"@\")[1].split(\".\")[0]"
   ]
  },
  {
   "cell_type": "code",
   "execution_count": 44,
   "metadata": {
    "colab": {
     "base_uri": "https://localhost:8080/",
     "height": 34
    },
    "colab_type": "code",
    "id": "LSUYkTSFEK7l",
    "outputId": "063c8a10-1e87-417b-963e-ce80202ab18c"
   },
   "outputs": [
    {
     "data": {
      "text/plain": [
       "['gmail']"
      ]
     },
     "execution_count": 44,
     "metadata": {
      "tags": []
     },
     "output_type": "execute_result"
    }
   ],
   "source": [
    "# importa pacote de regular expression\n",
    "import re\n",
    "\n",
    "regex = r\"(?<=@)[^.]+(?=\\.)\"\n",
    "re.findall(regex, email)"
   ]
  },
  {
   "cell_type": "code",
   "execution_count": 45,
   "metadata": {
    "colab": {
     "base_uri": "https://localhost:8080/",
     "height": 34
    },
    "colab_type": "code",
    "id": "oP7VTbtgDkYq",
    "outputId": "ffe101ed-7dea-43af-d04c-d5611fef65d5"
   },
   "outputs": [
    {
     "data": {
      "text/plain": [
       "[1.0397238760001528, 1.005114360999869]"
      ]
     },
     "execution_count": 45,
     "metadata": {
      "tags": []
     },
     "output_type": "execute_result"
    }
   ],
   "source": [
    "# mede o tempo de execução de um trecho de código\n",
    "import timeit\n",
    "\n",
    "timeit.Timer(\n",
    " 're.findall(regex, \"dourado@gmail.com\")',\n",
    " 'import re; regex = r\"(?<=@)[^.]+(?=\\.)\"'\n",
    ").repeat(2)"
   ]
  },
  {
   "cell_type": "code",
   "execution_count": 46,
   "metadata": {
    "colab": {
     "base_uri": "https://localhost:8080/",
     "height": 34
    },
    "colab_type": "code",
    "id": "rBmaBfknD0l7",
    "outputId": "098fe71b-a23e-4598-83b1-3cb2f2ae7ded"
   },
   "outputs": [
    {
     "data": {
      "text/plain": [
       "[0.4450652930004253, 0.4276345179996497]"
      ]
     },
     "execution_count": 46,
     "metadata": {
      "tags": []
     },
     "output_type": "execute_result"
    }
   ],
   "source": [
    "import timeit\n",
    "\n",
    "timeit.Timer(\n",
    " '\"dourado@gmail.com\".split(\"@\")[1].split(\".\")[0]'\n",
    ").repeat(2)"
   ]
  },
  {
   "cell_type": "code",
   "execution_count": null,
   "metadata": {
    "colab": {},
    "colab_type": "code",
    "id": "u_0q3goBYfGJ"
   },
   "outputs": [],
   "source": [
    "import antigravity\n",
    "\n",
    "#Abrir o site: https://xkcd.com/353/"
   ]
  },
  {
   "cell_type": "code",
   "execution_count": 48,
   "metadata": {
    "colab": {
     "base_uri": "https://localhost:8080/",
     "height": 374
    },
    "colab_type": "code",
    "id": "OiOFT26cD-W6",
    "outputId": "48b08fb6-e923-48e4-8a42-528fdd715ed8"
   },
   "outputs": [
    {
     "name": "stdout",
     "output_type": "stream",
     "text": [
      "The Zen of Python, by Tim Peters\n",
      "\n",
      "Beautiful is better than ugly.\n",
      "Explicit is better than implicit.\n",
      "Simple is better than complex.\n",
      "Complex is better than complicated.\n",
      "Flat is better than nested.\n",
      "Sparse is better than dense.\n",
      "Readability counts.\n",
      "Special cases aren't special enough to break the rules.\n",
      "Although practicality beats purity.\n",
      "Errors should never pass silently.\n",
      "Unless explicitly silenced.\n",
      "In the face of ambiguity, refuse the temptation to guess.\n",
      "There should be one-- and preferably only one --obvious way to do it.\n",
      "Although that way may not be obvious at first unless you're Dutch.\n",
      "Now is better than never.\n",
      "Although never is often better than *right* now.\n",
      "If the implementation is hard to explain, it's a bad idea.\n",
      "If the implementation is easy to explain, it may be a good idea.\n",
      "Namespaces are one honking great idea -- let's do more of those!\n"
     ]
    }
   ],
   "source": [
    "import this"
   ]
  },
  {
   "cell_type": "markdown",
   "metadata": {
    "colab_type": "text",
    "id": "poR8p3MAKOIG"
   },
   "source": [
    "    Bonito é melhor que feio.\n",
    "    Explícito é melhor que implícito.\n",
    "    Simples é melhor que Complexo.\n",
    "    Complexo é melhor que complicado.\n",
    "    Achatado é melhor que aninhado.\n",
    "    Disperso é melhor que compacto.\n",
    "    Legibilidade conta.\n",
    "    Casos especiais não são especiais o suficiente para quebrar as regras.\n",
    "    Apesar de praticidade vencer a pureza.\n",
    "    Erros nunca devem passar despercebidos.\n",
    "    A menos que passem explicitamente \"despercebidos\".\n",
    "    Diante de ambiguidades, recuse a tentação de deduzir.\n",
    "    Deve haver uma --e preferencialmente só uma-- maneira fácil de fazer isto.\n",
    "    Apesar de que a maneira não pode ser óbvia de primeira, a não ser que você seja \"asiático\".\n",
    "    Agora é melhor do que nunca.\n",
    "    Porém, muitas vezes nunca é melhor do que *agora*.\n",
    "    Se a implementação é difícil de explicar, é uma péssima ideia.\n",
    "    Se a implementação é fácil de explicar, pode ser uma boa ideia.\n",
    "    Namespaces são uma grande ideia gritante -- vamos fazer mais dessas!"
   ]
  },
  {
   "cell_type": "markdown",
   "metadata": {
    "colab_type": "text",
    "id": "GzrIMF-vkQUW"
   },
   "source": [
    "Caracteres ou metacaracteres\n",
    "\n",
    "    meta - O que faz?\n",
    "    ---------------------\n",
    "    . - Qualquer caractere\n",
    "    [] - Lista de caracteres\n",
    "    [^] - Lista negada\n",
    "    ? - Anterior pode existir ou não\n",
    "    .* - Qualquer coisa\n",
    "    {x} - Anterior aparece x vezes\n",
    "    $ - Fim da linha\n",
    "    + - Anterior ao menos ums vez\n",
    "    (xy) - Cria grupos\n",
    "    ^ - Começo da linha\n",
    "    \\ - escapa o meta (ignora)\n",
    "    | - ou\n",
    "    \n"
   ]
  },
  {
   "cell_type": "code",
   "execution_count": null,
   "metadata": {
    "colab": {},
    "colab_type": "code",
    "id": "UHiGfhPskQDH"
   },
   "outputs": [],
   "source": [
    "import re\n",
    "#email\n",
    "re.findall(r'.',email)\n",
    "re.findall(r'[a-z]',email)\n",
    "re.findall(r'[0-9]',email)\n",
    "re.findall(r'.*',email)\n",
    "re.findall(r'$',email)\n",
    "\n",
    "re.findall(r'[a-z]+',email)\n",
    "\n",
    "re.findall(r'^.',email)\n",
    "re.findall(r'^d',email)"
   ]
  },
  {
   "cell_type": "markdown",
   "metadata": {
    "colab_type": "text",
    "id": "SSK6DZRdmKo8"
   },
   "source": [
    "## STOPWORDS"
   ]
  },
  {
   "cell_type": "code",
   "execution_count": 50,
   "metadata": {
    "colab": {
     "base_uri": "https://localhost:8080/",
     "height": 51
    },
    "colab_type": "code",
    "id": "hp5M3u_XrGqY",
    "outputId": "cd595a8b-80b9-4fe2-baad-c1cba1bd2288"
   },
   "outputs": [
    {
     "name": "stdout",
     "output_type": "stream",
     "text": [
      "[nltk_data] Downloading package stopwords to /root/nltk_data...\n",
      "[nltk_data]   Unzipping corpora/stopwords.zip.\n"
     ]
    }
   ],
   "source": [
    "import nltk\n",
    "nltk.download('stopwords')\n",
    "\n",
    "stops = nltk.corpus.stopwords.words('english')"
   ]
  },
  {
   "cell_type": "code",
   "execution_count": 51,
   "metadata": {
    "colab": {
     "base_uri": "https://localhost:8080/",
     "height": 34
    },
    "colab_type": "code",
    "id": "IB8EYOCU9--r",
    "outputId": "a4ff64ae-7205-4ddf-d6bb-71dcd3374b4f"
   },
   "outputs": [
    {
     "data": {
      "text/plain": [
       "'myself'"
      ]
     },
     "execution_count": 51,
     "metadata": {
      "tags": []
     },
     "output_type": "execute_result"
    }
   ],
   "source": [
    "# remove uma stopword da lista\n",
    "stops.pop(3)"
   ]
  },
  {
   "cell_type": "code",
   "execution_count": 52,
   "metadata": {
    "colab": {
     "base_uri": "https://localhost:8080/",
     "height": 34
    },
    "colab_type": "code",
    "id": "N-gT5nMg91FW",
    "outputId": "af9fc80f-7218-4199-e27f-75d12c0b7fff"
   },
   "outputs": [
    {
     "data": {
      "text/plain": [
       "['i', 'me', 'my', 'we', 'our', 'ours', 'ourselves', 'you', \"you're\", \"you've\"]"
      ]
     },
     "execution_count": 52,
     "metadata": {
      "tags": []
     },
     "output_type": "execute_result"
    }
   ],
   "source": [
    "# lista as 10 primeiras stopwords\n",
    "stops[:10]"
   ]
  },
  {
   "cell_type": "code",
   "execution_count": null,
   "metadata": {
    "colab": {},
    "colab_type": "code",
    "id": "GoE1kJ6UZ_oA"
   },
   "outputs": [],
   "source": [
    "# podemos criar nossa propria lista\n",
    "stops = stops + [\"anderson\", \"fiap\"]"
   ]
  },
  {
   "cell_type": "code",
   "execution_count": 54,
   "metadata": {
    "colab": {
     "base_uri": "https://localhost:8080/",
     "height": 1000
    },
    "colab_type": "code",
    "id": "3vvZzFQS9zjq",
    "outputId": "01fd50ef-a9e8-4758-edc4-4a4538f1d014"
   },
   "outputs": [
    {
     "data": {
      "text/plain": [
       "['i',\n",
       " 'me',\n",
       " 'my',\n",
       " 'we',\n",
       " 'our',\n",
       " 'ours',\n",
       " 'ourselves',\n",
       " 'you',\n",
       " \"you're\",\n",
       " \"you've\",\n",
       " \"you'll\",\n",
       " \"you'd\",\n",
       " 'your',\n",
       " 'yours',\n",
       " 'yourself',\n",
       " 'yourselves',\n",
       " 'he',\n",
       " 'him',\n",
       " 'his',\n",
       " 'himself',\n",
       " 'she',\n",
       " \"she's\",\n",
       " 'her',\n",
       " 'hers',\n",
       " 'herself',\n",
       " 'it',\n",
       " \"it's\",\n",
       " 'its',\n",
       " 'itself',\n",
       " 'they',\n",
       " 'them',\n",
       " 'their',\n",
       " 'theirs',\n",
       " 'themselves',\n",
       " 'what',\n",
       " 'which',\n",
       " 'who',\n",
       " 'whom',\n",
       " 'this',\n",
       " 'that',\n",
       " \"that'll\",\n",
       " 'these',\n",
       " 'those',\n",
       " 'am',\n",
       " 'is',\n",
       " 'are',\n",
       " 'was',\n",
       " 'were',\n",
       " 'be',\n",
       " 'been',\n",
       " 'being',\n",
       " 'have',\n",
       " 'has',\n",
       " 'had',\n",
       " 'having',\n",
       " 'do',\n",
       " 'does',\n",
       " 'did',\n",
       " 'doing',\n",
       " 'a',\n",
       " 'an',\n",
       " 'the',\n",
       " 'and',\n",
       " 'but',\n",
       " 'if',\n",
       " 'or',\n",
       " 'because',\n",
       " 'as',\n",
       " 'until',\n",
       " 'while',\n",
       " 'of',\n",
       " 'at',\n",
       " 'by',\n",
       " 'for',\n",
       " 'with',\n",
       " 'about',\n",
       " 'against',\n",
       " 'between',\n",
       " 'into',\n",
       " 'through',\n",
       " 'during',\n",
       " 'before',\n",
       " 'after',\n",
       " 'above',\n",
       " 'below',\n",
       " 'to',\n",
       " 'from',\n",
       " 'up',\n",
       " 'down',\n",
       " 'in',\n",
       " 'out',\n",
       " 'on',\n",
       " 'off',\n",
       " 'over',\n",
       " 'under',\n",
       " 'again',\n",
       " 'further',\n",
       " 'then',\n",
       " 'once',\n",
       " 'here',\n",
       " 'there',\n",
       " 'when',\n",
       " 'where',\n",
       " 'why',\n",
       " 'how',\n",
       " 'all',\n",
       " 'any',\n",
       " 'both',\n",
       " 'each',\n",
       " 'few',\n",
       " 'more',\n",
       " 'most',\n",
       " 'other',\n",
       " 'some',\n",
       " 'such',\n",
       " 'no',\n",
       " 'nor',\n",
       " 'not',\n",
       " 'only',\n",
       " 'own',\n",
       " 'same',\n",
       " 'so',\n",
       " 'than',\n",
       " 'too',\n",
       " 'very',\n",
       " 's',\n",
       " 't',\n",
       " 'can',\n",
       " 'will',\n",
       " 'just',\n",
       " 'don',\n",
       " \"don't\",\n",
       " 'should',\n",
       " \"should've\",\n",
       " 'now',\n",
       " 'd',\n",
       " 'll',\n",
       " 'm',\n",
       " 'o',\n",
       " 're',\n",
       " 've',\n",
       " 'y',\n",
       " 'ain',\n",
       " 'aren',\n",
       " \"aren't\",\n",
       " 'couldn',\n",
       " \"couldn't\",\n",
       " 'didn',\n",
       " \"didn't\",\n",
       " 'doesn',\n",
       " \"doesn't\",\n",
       " 'hadn',\n",
       " \"hadn't\",\n",
       " 'hasn',\n",
       " \"hasn't\",\n",
       " 'haven',\n",
       " \"haven't\",\n",
       " 'isn',\n",
       " \"isn't\",\n",
       " 'ma',\n",
       " 'mightn',\n",
       " \"mightn't\",\n",
       " 'mustn',\n",
       " \"mustn't\",\n",
       " 'needn',\n",
       " \"needn't\",\n",
       " 'shan',\n",
       " \"shan't\",\n",
       " 'shouldn',\n",
       " \"shouldn't\",\n",
       " 'wasn',\n",
       " \"wasn't\",\n",
       " 'weren',\n",
       " \"weren't\",\n",
       " 'won',\n",
       " \"won't\",\n",
       " 'wouldn',\n",
       " \"wouldn't\",\n",
       " 'anderson',\n",
       " 'fiap']"
      ]
     },
     "execution_count": 54,
     "metadata": {
      "tags": []
     },
     "output_type": "execute_result"
    }
   ],
   "source": [
    "# lista todas as stopwords\n",
    "stops"
   ]
  },
  {
   "cell_type": "code",
   "execution_count": 55,
   "metadata": {
    "colab": {
     "base_uri": "https://localhost:8080/",
     "height": 34
    },
    "colab_type": "code",
    "id": "VI2P65ED96Vp",
    "outputId": "507fb62a-9ef4-487d-f9af-fd0ba1e9536f"
   },
   "outputs": [
    {
     "data": {
      "text/plain": [
       "180"
      ]
     },
     "execution_count": 55,
     "metadata": {
      "tags": []
     },
     "output_type": "execute_result"
    }
   ],
   "source": [
    "len(stops)"
   ]
  },
  {
   "cell_type": "code",
   "execution_count": 56,
   "metadata": {
    "colab": {
     "base_uri": "https://localhost:8080/",
     "height": 119
    },
    "colab_type": "code",
    "id": "nhi1oSyK6ekI",
    "outputId": "8dd5cb6c-2847-4f8a-8254-99f3a4c350e6"
   },
   "outputs": [
    {
     "name": "stdout",
     "output_type": "stream",
     "text": [
      "          0  1\n",
      "gostei    1  1\n",
      "mba       2  1\n",
      "melhorar  0  1\n",
      "pode      0  1\n",
      "sobre     1  0\n"
     ]
    }
   ],
   "source": [
    "# Aplicando a utilização das stopwords\n",
    "from sklearn.feature_extraction.text import CountVectorizer\n",
    "\n",
    "stops = nltk.corpus.stopwords.words('portuguese') + [\"fiap\"]\n",
    "\n",
    "vect = CountVectorizer(ngram_range=(1,1), stop_words=stops)\n",
    "vect.fit(df.text)\n",
    "text_vect = vect.transform(df.text)\n",
    "\n",
    "print(pd.DataFrame(text_vect.A, columns=vect.get_feature_names()).T.to_string())"
   ]
  },
  {
   "cell_type": "code",
   "execution_count": 57,
   "metadata": {
    "colab": {
     "base_uri": "https://localhost:8080/",
     "height": 102
    },
    "colab_type": "code",
    "id": "niXXv3e-6kb0",
    "outputId": "1319acef-0d15-4eb2-ef66-cd8cd03a0a5e"
   },
   "outputs": [
    {
     "name": "stdout",
     "output_type": "stream",
     "text": [
      "[nltk_data] Downloading package stopwords to /root/nltk_data...\n",
      "[nltk_data]   Package stopwords is already up-to-date!\n",
      "[nltk_data] Downloading package rslp to /root/nltk_data...\n",
      "[nltk_data]   Unzipping stemmers/rslp.zip.\n"
     ]
    },
    {
     "data": {
      "text/plain": [
       "True"
      ]
     },
     "execution_count": 57,
     "metadata": {
      "tags": []
     },
     "output_type": "execute_result"
    }
   ],
   "source": [
    "import nltk\n",
    "nltk.download('stopwords')\n",
    "nltk.download('rslp')"
   ]
  },
  {
   "cell_type": "code",
   "execution_count": 58,
   "metadata": {
    "colab": {
     "base_uri": "https://localhost:8080/",
     "height": 34
    },
    "colab_type": "code",
    "id": "Sc4YJdb96m5z",
    "outputId": "d38e76ea-12db-47c5-ad45-005a3151c86f"
   },
   "outputs": [
    {
     "name": "stdout",
     "output_type": "stream",
     "text": [
      "['de', 'a', 'o', 'que', 'e', 'é', 'do', 'da', 'em', 'um']\n"
     ]
    }
   ],
   "source": [
    "print(nltk.corpus.stopwords.words('portuguese')[:10])"
   ]
  },
  {
   "cell_type": "code",
   "execution_count": 59,
   "metadata": {
    "colab": {
     "base_uri": "https://localhost:8080/",
     "height": 34
    },
    "colab_type": "code",
    "id": "Dj6gDOA2bxWO",
    "outputId": "87d9c073-04ff-4250-f661-a361c4b15235"
   },
   "outputs": [
    {
     "data": {
      "text/plain": [
       "205"
      ]
     },
     "execution_count": 59,
     "metadata": {
      "tags": []
     },
     "output_type": "execute_result"
    }
   ],
   "source": [
    "len(stops)"
   ]
  },
  {
   "cell_type": "markdown",
   "metadata": {
    "colab_type": "text",
    "id": "8Y9kNz9WXUDP"
   },
   "source": [
    "## PART-OF-SPEECH TAGGER (POS-Tag)"
   ]
  },
  {
   "cell_type": "code",
   "execution_count": 60,
   "metadata": {
    "colab": {
     "base_uri": "https://localhost:8080/",
     "height": 306
    },
    "colab_type": "code",
    "id": "sXlbSKvRBr4u",
    "outputId": "7787897a-6510-47bb-ffc1-f1df9e9e023d"
   },
   "outputs": [
    {
     "name": "stdout",
     "output_type": "stream",
     "text": [
      "[nltk_data] Downloading package punkt to /root/nltk_data...\n",
      "[nltk_data]   Package punkt is already up-to-date!\n",
      "[nltk_data] Downloading package averaged_perceptron_tagger to\n",
      "[nltk_data]     /root/nltk_data...\n",
      "[nltk_data]   Unzipping taggers/averaged_perceptron_tagger.zip.\n",
      "[nltk_data] Downloading package universal_tagset to /root/nltk_data...\n",
      "[nltk_data]   Unzipping taggers/universal_tagset.zip.\n"
     ]
    },
    {
     "data": {
      "text/plain": [
       "[('John', 'NNP'),\n",
       " (\"'s\", 'POS'),\n",
       " ('big', 'JJ'),\n",
       " ('idea', 'NN'),\n",
       " ('is', 'VBZ'),\n",
       " (\"n't\", 'RB'),\n",
       " ('all', 'PDT'),\n",
       " ('that', 'DT'),\n",
       " ('bad', 'JJ'),\n",
       " ('.', '.')]"
      ]
     },
     "execution_count": 60,
     "metadata": {
      "tags": []
     },
     "output_type": "execute_result"
    }
   ],
   "source": [
    "# Tokenizxação\n",
    "from nltk.tokenize import word_tokenize\n",
    "from nltk.tag import pos_tag\n",
    "import nltk\n",
    "nltk.download('punkt')\n",
    "nltk.download('averaged_perceptron_tagger')\n",
    "nltk.download('universal_tagset')\n",
    "\n",
    "pos_tag(word_tokenize(\"John's big idea isn't all that bad.\"))"
   ]
  },
  {
   "cell_type": "code",
   "execution_count": 61,
   "metadata": {
    "colab": {
     "base_uri": "https://localhost:8080/",
     "height": 187
    },
    "colab_type": "code",
    "id": "oqqNTNCABrwk",
    "outputId": "f4f5669b-3a9c-4a5c-ed68-c553c1c5405f"
   },
   "outputs": [
    {
     "data": {
      "text/plain": [
       "[('John', 'NOUN'),\n",
       " (\"'s\", 'PRT'),\n",
       " ('big', 'ADJ'),\n",
       " ('idea', 'NOUN'),\n",
       " ('is', 'VERB'),\n",
       " (\"n't\", 'ADV'),\n",
       " ('all', 'DET'),\n",
       " ('that', 'DET'),\n",
       " ('bad', 'ADJ'),\n",
       " ('.', '.')]"
      ]
     },
     "execution_count": 61,
     "metadata": {
      "tags": []
     },
     "output_type": "execute_result"
    }
   ],
   "source": [
    "pos_tag(word_tokenize(\"John's big idea isn't all that bad.\"),tagset='universal')"
   ]
  },
  {
   "cell_type": "markdown",
   "metadata": {
    "colab_type": "text",
    "id": "Oh60rZ8NIijA"
   },
   "source": [
    "De/Para do POS Tag com o tagset='universal':\n",
    "\n",
    "- NOUN (nouns / substantivos)\n",
    "- VERB (verbs / verbos)\n",
    "- ADJ (adjectives / adjetivos)\n",
    "- ADV (adverbs / advérbios)\n",
    "- PRON (pronouns / pronomes)\n",
    "- DET (determiners and articles / determinantes e artigos)\n",
    "- ADP (adpositions - prepositions and postpositions / adições - preposições e postposições)\n",
    "- NUM (numerals / numerais)\n",
    "- CONJ (conjunctions / conjunções)\n",
    "- PRT (particles / partículas)\n",
    "- . (punctuation marks / sinais de pontuação)\n",
    "- X (a catch-all for other categories such as abbreviations or foreign words / um exemplo geral para outras categorias, como abreviações ou palavras estrangeiras)"
   ]
  },
  {
   "cell_type": "code",
   "execution_count": 62,
   "metadata": {
    "colab": {
     "base_uri": "https://localhost:8080/",
     "height": 170
    },
    "colab_type": "code",
    "id": "lEkLwe40E71L",
    "outputId": "31e12fef-8915-45bf-b29e-9c1cd2a7b570"
   },
   "outputs": [
    {
     "name": "stdout",
     "output_type": "stream",
     "text": [
      "[nltk_data] Downloading package punkt to /root/nltk_data...\n",
      "[nltk_data]   Package punkt is already up-to-date!\n",
      "[nltk_data] Downloading package averaged_perceptron_tagger to\n",
      "[nltk_data]     /root/nltk_data...\n",
      "[nltk_data]   Package averaged_perceptron_tagger is already up-to-\n",
      "[nltk_data]       date!\n",
      "[nltk_data] Downloading package universal_tagset to /root/nltk_data...\n",
      "[nltk_data]   Package universal_tagset is already up-to-date!\n"
     ]
    },
    {
     "data": {
      "text/plain": [
       "True"
      ]
     },
     "execution_count": 62,
     "metadata": {
      "tags": []
     },
     "output_type": "execute_result"
    }
   ],
   "source": [
    "import nltk\n",
    "nltk.download('punkt')\n",
    "nltk.download('averaged_perceptron_tagger')\n",
    "nltk.download('universal_tagset')"
   ]
  },
  {
   "cell_type": "code",
   "execution_count": 64,
   "metadata": {
    "colab": {
     "base_uri": "https://localhost:8080/",
     "height": 111
    },
    "colab_type": "code",
    "id": "7AVtgwMEBk-M",
    "outputId": "96e9cda6-cdd1-4fbe-b243-3d2666d54ce7"
   },
   "outputs": [
    {
     "data": {
      "text/html": [
       "<div>\n",
       "<style scoped>\n",
       "    .dataframe tbody tr th:only-of-type {\n",
       "        vertical-align: middle;\n",
       "    }\n",
       "\n",
       "    .dataframe tbody tr th {\n",
       "        vertical-align: top;\n",
       "    }\n",
       "\n",
       "    .dataframe thead th {\n",
       "        text-align: right;\n",
       "    }\n",
       "</style>\n",
       "<table border=\"1\" class=\"dataframe\">\n",
       "  <thead>\n",
       "    <tr style=\"text-align: right;\">\n",
       "      <th></th>\n",
       "      <th>tokens</th>\n",
       "      <th>text</th>\n",
       "    </tr>\n",
       "  </thead>\n",
       "  <tbody>\n",
       "    <tr>\n",
       "      <th>0</th>\n",
       "      <td>[Sobre, MBA, ?, Eu, gostei, muito, do, MBA, da...</td>\n",
       "      <td>Sobre MBA? Eu gostei muito do MBA da FIAP</td>\n",
       "    </tr>\n",
       "    <tr>\n",
       "      <th>1</th>\n",
       "      <td>[O, MBA, da, FIAP, pode, melhorar, ,, não, gos...</td>\n",
       "      <td>O MBA da FIAP pode melhorar, não gostei muito</td>\n",
       "    </tr>\n",
       "  </tbody>\n",
       "</table>\n",
       "</div>"
      ],
      "text/plain": [
       "                                              tokens                                           text\n",
       "0  [Sobre, MBA, ?, Eu, gostei, muito, do, MBA, da...      Sobre MBA? Eu gostei muito do MBA da FIAP\n",
       "1  [O, MBA, da, FIAP, pode, melhorar, ,, não, gos...  O MBA da FIAP pode melhorar, não gostei muito"
      ]
     },
     "execution_count": 64,
     "metadata": {
      "tags": []
     },
     "output_type": "execute_result"
    }
   ],
   "source": [
    "# Tokenizxação\n",
    "from nltk.tokenize import word_tokenize\n",
    "\n",
    "#df['tokens'] = df.text.apply(word_tokenize)\n",
    "df[[\"tokens\",\"text\"]]"
   ]
  },
  {
   "cell_type": "code",
   "execution_count": 65,
   "metadata": {
    "colab": {
     "base_uri": "https://localhost:8080/",
     "height": 187
    },
    "colab_type": "code",
    "id": "aRuCY82SXnQV",
    "outputId": "e19ebe14-c1db-41ec-b8ce-594b9424f800"
   },
   "outputs": [
    {
     "data": {
      "text/plain": [
       "[('O', 'NOUN'),\n",
       " ('MBA', 'NOUN'),\n",
       " ('da', 'NOUN'),\n",
       " ('FIAP', 'NOUN'),\n",
       " ('pode', 'NOUN'),\n",
       " ('melhorar', 'NOUN'),\n",
       " (',', '.'),\n",
       " ('não', 'ADJ'),\n",
       " ('gostei', 'NOUN'),\n",
       " ('muito', 'NOUN')]"
      ]
     },
     "execution_count": 65,
     "metadata": {
      "tags": []
     },
     "output_type": "execute_result"
    }
   ],
   "source": [
    "# Rotular parte do discurso\n",
    "from nltk.tag import pos_tag\n",
    "\n",
    "df['tags'] = df.tokens.apply(pos_tag, tagset='universal')\n",
    "df.tags[1]"
   ]
  }
 ],
 "metadata": {
  "colab": {
   "collapsed_sections": [],
   "name": "Aula 1.2 IA PLN - Demo.ipynb",
   "provenance": []
  },
  "kernelspec": {
   "display_name": "Python 3",
   "language": "python",
   "name": "python3"
  },
  "language_info": {
   "codemirror_mode": {
    "name": "ipython",
    "version": 3
   },
   "file_extension": ".py",
   "mimetype": "text/x-python",
   "name": "python",
   "nbconvert_exporter": "python",
   "pygments_lexer": "ipython3",
   "version": "3.7.7"
  }
 },
 "nbformat": 4,
 "nbformat_minor": 4
}
