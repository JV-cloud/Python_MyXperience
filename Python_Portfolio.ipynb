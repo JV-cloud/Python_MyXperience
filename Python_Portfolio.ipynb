{
 "cells": [
  {
   "cell_type": "markdown",
   "metadata": {},
   "source": [
    "# Python Experience - Common syntaxes and codes\n",
    "\n",
    "## Date and Time Handling with Python\n",
    "\n",
    "### Introduction to support for string conversion and timesheet through CHATBOT\n"
   ]
  },
  {
   "cell_type": "code",
   "execution_count": 59,
   "metadata": {},
   "outputs": [],
   "source": [
    "from datetime import date\n",
    "from datetime import time\n",
    "from datetime import datetime\n",
    "from datetime import timedelta"
   ]
  },
  {
   "cell_type": "code",
   "execution_count": 7,
   "metadata": {},
   "outputs": [],
   "source": [
    "#simple function for today\n",
    "\n",
    "def print_today():\n",
    "    today = date.today()\n",
    "    print(\"Today's date is\", today)\n",
    "    "
   ]
  },
  {
   "cell_type": "code",
   "execution_count": 8,
   "metadata": {},
   "outputs": [
    {
     "name": "stdout",
     "output_type": "stream",
     "text": [
      "Today's date is 2020-04-29\n"
     ]
    }
   ],
   "source": [
    "#using function\n",
    "\n",
    "print_today()"
   ]
  },
  {
   "cell_type": "code",
   "execution_count": 96,
   "metadata": {},
   "outputs": [],
   "source": [
    "#simple function for today + components\n",
    "\n",
    "def print_today_components():\n",
    "    today = date.today()\n",
    "    print(\"Today's date is\", today)\n",
    "    print(\"Date components:\", \"\\n Day =>\", today.day,\n",
    "          \"\\n Month =>\", today.month, \"\\n Year =>\", today.year)"
   ]
  },
  {
   "cell_type": "code",
   "execution_count": 97,
   "metadata": {},
   "outputs": [
    {
     "name": "stdout",
     "output_type": "stream",
     "text": [
      "Today's date is 2020-04-30\n",
      "Date components: \n",
      " Day => 30 \n",
      " Month => 4 \n",
      " Year => 2020\n"
     ]
    }
   ],
   "source": [
    "#using function\n",
    "\n",
    "print_today_components()"
   ]
  },
  {
   "cell_type": "code",
   "execution_count": 100,
   "metadata": {},
   "outputs": [],
   "source": [
    "#simple function for weekday\n",
    "\n",
    "def print_today_weekday():\n",
    "    today = date.today()\n",
    "    wd = today.weekday()\n",
    "    days =[\"Monday\", \"Tuesday\", \"Wednesday\", \"Thursday\", \"Friday\", \"Saturday\", \"Sunday\"]\n",
    "    print(\"Today is a day number\", wd)\n",
    "    print(\"Which is a\", days[wd])"
   ]
  },
  {
   "cell_type": "code",
   "execution_count": 101,
   "metadata": {},
   "outputs": [
    {
     "name": "stdout",
     "output_type": "stream",
     "text": [
      "Today is a day number 3\n",
      "Which is a Thursday\n"
     ]
    }
   ],
   "source": [
    "#using function\n",
    "\n",
    "print_today_weekday()"
   ]
  },
  {
   "cell_type": "code",
   "execution_count": 102,
   "metadata": {},
   "outputs": [],
   "source": [
    "#simple function for date and time\n",
    "\n",
    "def print_datetime():\n",
    "    today = datetime.now()\n",
    "    print(\"Current date and time is\", today)"
   ]
  },
  {
   "cell_type": "code",
   "execution_count": 103,
   "metadata": {},
   "outputs": [
    {
     "name": "stdout",
     "output_type": "stream",
     "text": [
      "Current date and time is 2020-04-30 00:07:56.468998\n"
     ]
    }
   ],
   "source": [
    "#using function\n",
    "\n",
    "print_datetime()"
   ]
  },
  {
   "cell_type": "code",
   "execution_count": 104,
   "metadata": {},
   "outputs": [],
   "source": [
    "#simple function for time (now)\n",
    "\n",
    "def print_timenow():\n",
    "    t = datetime.time(datetime.now())\n",
    "    print(\"Current time is\", t)"
   ]
  },
  {
   "cell_type": "code",
   "execution_count": 105,
   "metadata": {},
   "outputs": [
    {
     "name": "stdout",
     "output_type": "stream",
     "text": [
      "Current time is 00:07:58.489399\n"
     ]
    }
   ],
   "source": [
    "#using function\n",
    "\n",
    "print_timenow()"
   ]
  },
  {
   "cell_type": "code",
   "execution_count": 106,
   "metadata": {},
   "outputs": [],
   "source": [
    "#function for today - different format\n",
    "\n",
    "def print_datetimeformatted():\n",
    "    now = datetime.now()\n",
    "    print(now.strftime(\"%A, %d %B %Y\"))\n",
    "    print(now.strftime(\"%a, %d %b %y\"))\n",
    "    print(now.strftime(\"%c\"))\n",
    "    print(now.strftime(\"%x\"))\n",
    "    print(now.strftime(\"%X\"))"
   ]
  },
  {
   "cell_type": "code",
   "execution_count": 107,
   "metadata": {},
   "outputs": [
    {
     "name": "stdout",
     "output_type": "stream",
     "text": [
      "Thursday, 30 April 2020\n",
      "Thu, 30 Apr 20\n",
      "Thu Apr 30 00:08:00 2020\n",
      "04/30/20\n",
      "00:08:00\n"
     ]
    }
   ],
   "source": [
    "#using function\n",
    "\n",
    "print_datetimeformatted()"
   ]
  },
  {
   "cell_type": "code",
   "execution_count": 108,
   "metadata": {},
   "outputs": [],
   "source": [
    "#function for time - different formats\n",
    "\n",
    "def print_timeformatted():\n",
    "    now = datetime.now()\n",
    "    print(now.strftime(\"%I:%M:%S %p\"))\n",
    "    print(now.strftime(\"%H:%M\"))"
   ]
  },
  {
   "cell_type": "code",
   "execution_count": 109,
   "metadata": {},
   "outputs": [
    {
     "name": "stdout",
     "output_type": "stream",
     "text": [
      "12:08:01 AM\n",
      "00:08\n"
     ]
    }
   ],
   "source": [
    "#using function\n",
    "\n",
    "print_timeformatted()"
   ]
  },
  {
   "cell_type": "code",
   "execution_count": 110,
   "metadata": {},
   "outputs": [
    {
     "name": "stdout",
     "output_type": "stream",
     "text": [
      "365 days, 8:15:00\n",
      "Today is: 2020-04-30 00:08:02.687549\n",
      "One year from now will be: 2021-04-30 00:08:02.687549\n",
      "In one week and 4 days will be: 2020-05-11 00:08:02.687549\n",
      "Within 8h will be: 08:08:02.687549\n"
     ]
    }
   ],
   "source": [
    "#function for deltatime\n",
    "\n",
    "print(timedelta(days = 365, hours = 8, minutes = 15))\n",
    "print(\"Today is: \" +str(datetime.now()))\n",
    "print(\"One year from now will be: \" +str(datetime.now() + timedelta(days = 365)))\n",
    "print(\"In one week and 4 days will be: \" +str(datetime.now() + timedelta(weeks = 1, days = 4)))\n",
    "print(\"Within 8h will be: \" +str(datetime.time(datetime.now() + timedelta(hours = 8))))"
   ]
  },
  {
   "cell_type": "code",
   "execution_count": 111,
   "metadata": {},
   "outputs": [
    {
     "name": "stdout",
     "output_type": "stream",
     "text": [
      "2016-02-01 12:00:00\n",
      "2016-02-01 00:00:00\n",
      "1550 days, 0:08:03.552641\n"
     ]
    }
   ],
   "source": [
    "date_time_string = '2016-02-01 12:00PM'\n",
    "print(datetime.strptime(date_time_string, '%Y-%m-%d %I:%M%p'))\n",
    "\n",
    "date_string = '02/01/2016'\n",
    "\n",
    "olddate = datetime.strptime(date_string, '%m/%d/%Y')\n",
    "print(olddate)\n",
    "\n",
    "today1 = datetime.now()\n",
    "\n",
    "print(today1 - olddate)"
   ]
  },
  {
   "cell_type": "markdown",
   "metadata": {},
   "source": [
    "# Funções no Python e Plotagem\n",
    "## Extraída da Aula de Machine Learning, com funções de ativação"
   ]
  },
  {
   "cell_type": "code",
   "execution_count": null,
   "metadata": {},
   "outputs": [],
   "source": [
    "import numpy as np\n",
    "import matplotlib.pyplot as plt\n",
    "import math\n",
    "\n",
    "#Funções\n",
    "def parabola(z):\n",
    "    return (z ** 2) +1\n",
    "\n",
    "def binary(z, threashold):\n",
    "    return 1 if z > threashold else 0\n",
    "\n",
    "def piecewise(z, threashold):\n",
    "    #return np.piecewise(x, [x < threashold, x >= threashold], [-1, 1])\n",
    "    if z < threashold:\n",
    "        return 0\n",
    "    elif z > threashold:\n",
    "        return 1\n",
    "    else:\n",
    "        return (z + threashold)/ threashold /2\n",
    "\n",
    "def linear(z, x):\n",
    "    return x*z\n",
    "\n",
    "def leakyrelu(z, alpha):\n",
    "\treturn max(alpha * z, z)\n",
    "\n",
    "def relu(w):\n",
    "    return max(0, w)\n",
    "\n",
    "def sigmoid(z):\n",
    "    return 1.0 / (1 + np.exp(-z))\n",
    "\n",
    "def tanh(z):\n",
    "\treturn (np.exp(z) - np.exp(-z)) / (np.exp(z) + np.exp(-z))\n",
    "\n",
    "def elu(z,alpha):\n",
    "\treturn z if z >= 0 else alpha*(np.exp(z) -1)\n",
    "\n",
    "#Derivadas\n",
    "def parabola_deriv(z):\n",
    "    return 2*z;\n",
    "\n",
    "def linear_prime(m):\n",
    "\treturn m\n",
    "\n",
    "def elu_prime(z,alpha):\n",
    "\treturn 1 if z > 0 else alpha * np.exp(z)\n",
    "\n",
    "def leakyrelu_prime(z, alpha):\n",
    "\treturn 1 if z > 0 else alpha\n",
    "\n",
    "def sigmoid_prime(z):\n",
    "    return sigmoid(z) * (1-sigmoid(z))\n",
    "\n",
    "def relu_prime(z):\n",
    "    return 1 if z > 0 else 0\n",
    "\n",
    "def tanh_prime(z):\n",
    "\treturn 1 - np.power(tanh(z), 2)\n",
    "\n",
    "def sin_func(x, y, z):\n",
    "    r = np.arange(z,x*np.pi,y)\n",
    "    s = np.sin(r)\n",
    "    return r, s\n",
    "\n",
    "def cos_func(x, y, z):\n",
    "    r = np.arange(z,x*np.pi,y)\n",
    "    s = np.cos(r)\n",
    "    return r, s\n",
    "\n",
    "def tan_func(x, y, z):\n",
    "    r = np.arange(z,x*np.pi,y)\n",
    "    s = np.tan(r)\n",
    "    return r, s\n",
    "\n",
    "\n",
    "f, (axes) = plt.subplots(4, 3, sharex = True, sharey = False, figsize =(25,15))\n",
    "\n",
    "#cria um vetor x entre -5 e 5 variando 0,1 a cada amostra gerada\n",
    "x = np.arange(-10, 10, 0.1);\n",
    "l = len(x)\n",
    "\n",
    "#Função Parabola X2 +1\n",
    "\n",
    "y1 = np.zeros(l)\n",
    "y1_deriv = np.zeros(l)\n",
    "for i in range(len(x)):\n",
    "    y1[i] = parabola(x[i])\n",
    "    y1_deriv[i] = parabola_deriv(x[i])\n",
    "\n",
    "axes[0,0].set_title('Função Parabola (Apenas para exemplo)' )\n",
    "axes[0,0].plot(x,y1, label='Função')\n",
    "axes[0,0].plot(x,y1_deriv, label='Derivada')\n",
    "axes[0,0].legend(loc=\"upper right\")\n",
    "axes[0,0].grid(True)\n",
    "\n",
    "#Função Linear\n",
    "y2 = linear(1, x)\n",
    "y2_deriv = np.zeros(l);\n",
    "y2_deriv + 1\n",
    "axes[0,1].set_title('Função Linear' )\n",
    "axes[0,1].plot(x,y2, label='Função')\n",
    "axes[0,1].plot(x,y2_deriv, label='Derivada')\n",
    "axes[0,1].legend(loc=\"upper right\")\n",
    "axes[0,1].grid(True)\n",
    "\n",
    "#Função RelU\n",
    "y3 = np.zeros(l)\n",
    "y3_deriv = np.zeros(l)\n",
    "for i in range(len(x)):\n",
    "    y3[i] = relu(x[i])\n",
    "    y3_deriv[i] = relu_prime(x[i])\n",
    "axes[0,2].set_title('Função RelU' )\n",
    "axes[0,2].plot(x,y3, label='Função')\n",
    "axes[0,2].plot(x,y3_deriv, label='Derivada')\n",
    "axes[0,2].legend(loc=\"upper right\")\n",
    "axes[0,2].grid(True)\n",
    "\n",
    "\n",
    "#Função LeakyReLU    \n",
    "y4 = np.zeros(l)\n",
    "y4_deriv = np.zeros(l)\n",
    "for i in range(len(x)):\n",
    "    y4[i] = leakyrelu(x[i], 0.7)\n",
    "    y4_deriv[i] = leakyrelu_prime(x[i], 0.7)\n",
    "axes[1,0].set_title('Função LeakyReLU' )\n",
    "axes[1,0].plot(x,y4, label='Função')\n",
    "axes[1,0].plot(x,y4_deriv, label='Derivada')\n",
    "axes[1,0].legend(loc=\"upper right\")\n",
    "axes[1,0].grid(True)\n",
    "\n",
    "\n",
    "#Função Sigmoid\n",
    "y5 = np.zeros(l)\n",
    "y5_deriv = np.zeros(l)\n",
    "for i in range(len(x)):\n",
    "    y5[i] = sigmoid(x[i])\n",
    "    y5_deriv[i] = sigmoid_prime(x[i])\n",
    "axes[1,1].set_title('Função Sigmoid' )\n",
    "axes[1,1].plot(x,y5, label='Função')\n",
    "axes[1,1].plot(x,y5_deriv, label='Derivada')\n",
    "axes[1,1].legend(loc=\"upper right\")\n",
    "axes[1,1].grid(True)\n",
    "\n",
    "\n",
    "#Função Tangente Hiperbólica\n",
    "y6 = np.zeros(l)\n",
    "y6_deriv = np.zeros(l)\n",
    "for i in range(len(x)):\n",
    "    y6[i] = tanh(x[i])\n",
    "    y6_deriv[i] = tanh_prime(x[i])\n",
    "axes[1,2].set_title('Função Tangente Hiperbólica' )\n",
    "axes[1,2].plot(x,y6, label='Função')\n",
    "axes[1,2].plot(x,y6_deriv, label='Derivada')\n",
    "axes[1,2].legend(loc=\"upper right\")\n",
    "axes[1,2].grid(True)\n",
    "\n",
    "#Função ELU\n",
    "y7 = np.zeros(l)\n",
    "y7_deriv = np.zeros(l)\n",
    "for i in range(len(x)):\n",
    "    y7[i] = elu(x[i], 0.7)\n",
    "    y7_deriv[i] = elu_prime(x[i], 0.7)\n",
    "#plt.set_title('Função ELU' )\n",
    "axes[2,0].set_title('Função ELU' )\n",
    "axes[2,0].plot(x,y7, label='Função')\n",
    "axes[2,0].plot(x,y7_deriv, label='Derivada')\n",
    "axes[2,0].legend(loc=\"upper right\")\n",
    "axes[2,0].grid(True)\n",
    "\n",
    "#Função Binária\n",
    "y8 = np.zeros(l)\n",
    "for i in range(len(x)):\n",
    "    y8[i] = binary(x[i], 0)    \n",
    "\n",
    "axes[2,1].set_title('Função Binária' )\n",
    "axes[2,1].plot(x,y8, label='Função')\n",
    "axes[2,1].legend(loc=\"upper right\")\n",
    "axes[2,1].grid(True)\n",
    "\n",
    "#Função Piecewise-Linear\n",
    "y9 = np.zeros(l)\n",
    "for i in range(len(x)):\n",
    "    y9[i] = piecewise(x[i], 4)    \n",
    "axes[2,2].set_title('Função Piecewise-Linear' )\n",
    "axes[2,2].plot(x,y9, label='Função')\n",
    "axes[2,2].legend(loc=\"upper right\")\n",
    "axes[2,2].grid(True)\n",
    "\n",
    "# eu que incluí tais funções para complementar\n",
    "y10 = np.zeros(l)\n",
    "y11 = np.zeros(l)\n",
    "y10, y11 = sin_func(x[199],0.1, x[0])    \n",
    "axes[3,0].set_title('Função Seno' )\n",
    "axes[3,0].plot(y10,y11, label='Função')\n",
    "axes[3,0].legend(loc=\"upper right\")\n",
    "axes[3,0].grid(True)\n",
    "\n",
    "# eu que incluí tais funções para complementar\n",
    "y12 = np.zeros(l)\n",
    "y13 = np.zeros(l)\n",
    "y12, y13 = cos_func(x[199],0.1, x[0])    \n",
    "axes[3,1].set_title('Função Coseno' )\n",
    "axes[3,1].plot(y12,y13, label='Função')\n",
    "axes[3,1].legend(loc=\"upper right\")\n",
    "axes[3,1].grid(True)\n",
    "\n",
    "# eu que incluí tais funções para complementar\n",
    "y14 = np.zeros(l)\n",
    "y15 = np.zeros(l)\n",
    "y14, y15 = tan_func(x[199],0.1, x[0])    \n",
    "axes[3,2].set_title('Função Tangente' )\n",
    "axes[3,2].plot(y14,y15, label='Função')\n",
    "axes[3,2].legend(loc=\"upper right\")\n",
    "axes[3,2].grid(True)\n",
    "\n",
    "\n",
    "X= np.arange(-1.0,1.0,0.1)\n",
    "Y= (np.sin(2*np.pi*X)) / (np.cos(2*np.pi*X))\n",
    "\n",
    "plt.plot(X,Y,'g-',lw=1)\n",
    "plt.show()"
   ]
  },
  {
   "cell_type": "markdown",
   "metadata": {},
   "source": [
    "# Trabalhando com textos e preparação para NLP / PLN (Processamento de Linguagem Natural)\n",
    "## Extraído da Aula de NLP"
   ]
  },
  {
   "cell_type": "code",
   "execution_count": 2,
   "metadata": {},
   "outputs": [
    {
     "data": {
      "image/png": "[encoded data removed]",
      "text/plain": [
       "<Figure size 288x288 with 1 Axes>"
      ]
     },
     "metadata": {},
     "output_type": "display_data"
    }
   ],
   "source": [
    "import pandas as pd\n",
    "import nltk\n",
    "import matplotlib.pyplot as plt\n",
    "\n",
    "try:\n",
    "  from wordcloud import WordCloud\n",
    "except:\n",
    "  !pip install wordcloud\n",
    "\n",
    "df = pd.read_csv(\n",
    "    \"https://dados-ml-pln.s3-sa-east-1.amazonaws.com/produtos.csv\",\n",
    "    delimiter=\";\",\n",
    "    encoding='utf-8'\n",
    ")\n",
    "\n",
    "df.dropna(inplace=True) # dropna(inplace=True), inplace=True => modifica o próprio objeto. dropna(inplace=False), inplace=False => retorma uma cópia do objeto\n",
    "\n",
    "\n",
    "\n",
    "livro_words = ''\n",
    "livro = df[df.categoria == 'livro'] # filtrei a categoria livro apenas como exemplo rápido para a demostração\n",
    "\n",
    "# reune todas as plalavras em um único objeto, veja.\n",
    "for val in livro.descricao:\n",
    "  text = val.lower()\n",
    "  for words in text:\n",
    "    livro_words = livro_words + words\n",
    "    # todas as palavras das descrições da categoria livro no mesmo objeto: livro_words. As palavras são inseridas letra por letra\n",
    "\n",
    "# Gera uma imagem da nuvem de palavras (Generate a word cloud image)\n",
    "livro_wordcloud = WordCloud(width=600, height=400).generate(livro_words)\n",
    "\n",
    "# Word cloud da categoria Livro\n",
    "plt.figure( figsize=(4,4), facecolor='k')\n",
    "plt.imshow(livro_wordcloud)\n",
    "plt.axis(\"off\")\n",
    "plt.tight_layout(pad=0) # Preenchimento entre a borda e a figura\n",
    "plt.show()"
   ]
  },
  {
   "cell_type": "markdown",
   "metadata": {},
   "source": [
    "# Laços no Python\n",
    "\n",
    "## For, If, While, etc."
   ]
  },
  {
   "cell_type": "code",
   "execution_count": 1,
   "metadata": {},
   "outputs": [
    {
     "name": "stdout",
     "output_type": "stream",
     "text": [
      "o\n",
      "l\n",
      "á\n",
      " \n",
      "t\n",
      "u\n",
      "r\n",
      "m\n",
      "a\n"
     ]
    }
   ],
   "source": [
    "#Simples código para mostrar como funciona o for e sua sintaxe:\n",
    "#Veja no print como o código é executado\n",
    "\n",
    "for x in \"olá turma\":\n",
    "  print(x)"
   ]
  },
  {
   "cell_type": "code",
   "execution_count": null,
   "metadata": {},
   "outputs": [],
   "source": []
  }
 ],
 "metadata": {
  "kernelspec": {
   "display_name": "Python 3",
   "language": "python",
   "name": "python3"
  },
  "language_info": {
   "codemirror_mode": {
    "name": "ipython",
    "version": 3
   },
   "file_extension": ".py",
   "mimetype": "text/x-python",
   "name": "python",
   "nbconvert_exporter": "python",
   "pygments_lexer": "ipython3",
   "version": "3.7.7"
  }
 },
 "nbformat": 4,
 "nbformat_minor": 4
}
